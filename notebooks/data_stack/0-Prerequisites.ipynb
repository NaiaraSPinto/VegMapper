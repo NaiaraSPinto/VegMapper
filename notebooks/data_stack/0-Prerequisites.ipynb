{
 "cells": [
  {
   "cell_type": "markdown",
   "id": "514aad04-fbef-4738-9ac3-b9a72d9344eb",
   "metadata": {},
   "source": [
    "# Prerequisites\n",
    "\n",
    "## Conda Environment\n",
    "\n",
    "### Create *vegmapper* environment"
   ]
  },
  {
   "cell_type": "code",
   "execution_count": null,
   "id": "3e8c85fe-9549-4405-bcfd-f81d4a01c83e",
   "metadata": {},
   "outputs": [],
   "source": [
    "name = \"vegmapper\"\n",
    "yml = \"../../vegmapper_env.yml\"\n",
    "prefix = f\"/home/jovyan/.local/envs/{name}\"\n",
    "\n",
    "!mamba env create -f $yml --prefix $prefix -q --force\n",
    "!mamba run -n $name kernda --display-name $name -o $prefix/share/jupyter/kernels/python3/kernel.json"
   ]
  },
  {
   "cell_type": "markdown",
   "id": "960eb432-dc38-4fda-baf1-fb4d0989741a",
   "metadata": {},
   "source": [
    "### Remove unused packages and caches"
   ]
  },
  {
   "cell_type": "code",
   "execution_count": null,
   "id": "9e543dd3-8411-4dac-901e-4a4593fe77cf",
   "metadata": {
    "pycharm": {
     "name": "#%%\n"
    }
   },
   "outputs": [],
   "source": [
    "!mamba clean -p -t --yes"
   ]
  },
  {
   "cell_type": "markdown",
   "id": "7a336c92-f404-4941-8da3-ed67d47510d3",
   "metadata": {},
   "source": [
    "## *VegMapper* Code Package\n",
    "\n",
    "### Activate *vegmapper* environment\n",
    "\n",
    "Simply switch the kernel from *base* to *vegmapper* using the pull-down menu on the upper-right. After the switch, run the following command and you should see the `python` is now `/home/jovyan/.local/envs/vegmapper/bin/python`."
   ]
  },
  {
   "cell_type": "code",
   "execution_count": null,
   "id": "cf4b3d95-5ac3-4dc6-9ae3-4ee3284bd699",
   "metadata": {},
   "outputs": [],
   "source": [
    "!which python"
   ]
  },
  {
   "cell_type": "markdown",
   "id": "969c9a22-62a1-4ced-b00e-ae3926c18902",
   "metadata": {},
   "source": [
    "### Install *vegmapper* package"
   ]
  },
  {
   "cell_type": "code",
   "execution_count": null,
   "id": "16c6922a-1204-4249-b702-835adf1ba9ae",
   "metadata": {},
   "outputs": [],
   "source": [
    "%cd /home/jovyan/notebooks/VegMapper\n",
    "!pip install ."
   ]
  },
  {
   "cell_type": "markdown",
   "id": "4dbc361e-62f0-4433-9579-f87ed205d09b",
   "metadata": {},
   "source": [
    "### Test package import\n",
    "\n",
    "Before importing the *vegmapper* package, restart the kernel by hitting the restart button so this notebook can see the package we just installed."
   ]
  },
  {
   "cell_type": "code",
   "execution_count": null,
   "id": "594ee65d-94ef-4a8a-8981-1a882b395baf",
   "metadata": {},
   "outputs": [],
   "source": [
    "import vegmapper"
   ]
  },
  {
   "cell_type": "markdown",
   "id": "e87ed0c5-ec62-4de2-b91e-7c792537159c",
   "metadata": {},
   "source": [
    "## Acquire accounts for data sources\n",
    "\n",
    "### NASA Earthdata & ASF Vertax\n",
    "- Register an account at [https://urs.earthdata.nasa.gov](https://urs.earthdata.nasa.gov)\n",
    "- After registration, sign into [ASF Vertax](https://search.asf.alaska.edu) and sign the data use agreement\n",
    "\n",
    "### JAXA EORC\n",
    "- Register an account at [https://www.eorc.jaxa.jp/ALOS/en/palsar_fnf/registration.htm](https://www.eorc.jaxa.jp/ALOS/en/palsar_fnf/registration.htm)\n",
    "\n",
    "### Google Earth Engine\n",
    "- Select an existing Google account (or register a new one) that will be used for your project\n",
    "- Run the following cells to authenticate the account for using GEE"
   ]
  },
  {
   "cell_type": "code",
   "execution_count": null,
   "id": "8542e3ef-6788-4cf5-8301-01a49de6b371",
   "metadata": {},
   "outputs": [],
   "source": [
    "import ee\n",
    "ee.Authenticate()"
   ]
  },
  {
   "cell_type": "code",
   "execution_count": null,
   "id": "89fc8c65-1358-4941-a730-a2c33a2ab44f",
   "metadata": {},
   "outputs": [],
   "source": [
    "import collections\n",
    "collections.Callable = collections.abc.Callable\n",
    "ee.Initialize()"
   ]
  },
  {
   "cell_type": "markdown",
   "id": "898624d5-7d9e-40f9-934c-50befcbd3e97",
   "metadata": {},
   "source": [
    "## AWS S3 Bucket Setup\n",
    "\n",
    "- S3 bucket of target users (SERVIR bucket)\n",
    "- S3 bucket of ASF HyP3"
   ]
  },
  {
   "cell_type": "code",
   "execution_count": null,
   "id": "4017cbd5-db44-43ac-a8d5-264ebded244d",
   "metadata": {},
   "outputs": [],
   "source": [
    "!aws configure"
   ]
  },
  {
   "cell_type": "code",
   "execution_count": null,
   "id": "bc4e4929-5fe1-43a0-bcd3-1a52acfa68b8",
   "metadata": {},
   "outputs": [],
   "source": []
  }
 ],
 "metadata": {
  "kernelspec": {
   "display_name": "vegmapper",
   "language": "python",
   "name": "conda-env-.local-vegmapper-py"
  },
  "language_info": {
   "codemirror_mode": {
    "name": "ipython",
    "version": 3
   },
   "file_extension": ".py",
   "mimetype": "text/x-python",
   "name": "python",
   "nbconvert_exporter": "python",
   "pygments_lexer": "ipython3",
   "version": "3.10.5"
  }
 },
 "nbformat": 4,
 "nbformat_minor": 5
}
