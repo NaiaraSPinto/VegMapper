{
 "cells": [
  {
   "cell_type": "markdown",
   "metadata": {
    "pycharm": {
     "name": "#%% md\n"
    }
   },
   "source": [
    "0. Installation (Google Collab)\n",
    "    (Skip this step if you are running locally)"
   ]
  },
  {
   "cell_type": "code",
   "execution_count": null,
   "metadata": {
    "pycharm": {
     "name": "#%%\n"
    }
   },
   "outputs": [],
   "source": [
    "# clone the repository. Specify branch, if necessary with -b <branch_name>\n",
    "!git clone https://github.com/NaiaraSPinto/VegMapper.git"
   ]
  },
  {
   "cell_type": "code",
   "execution_count": null,
   "metadata": {
    "pycharm": {
     "name": "#%%\n"
    }
   },
   "outputs": [],
   "source": [
    "# Pip install the vegmapper module\n",
    "%pip install VegMapper/"
   ]
  },
  {
   "cell_type": "code",
   "execution_count": null,
   "metadata": {
    "pycharm": {
     "name": "#%%\n"
    }
   },
   "outputs": [],
   "source": [
    "# Pip install dependencies\n",
    "%pip install h5py numpy pandas geopandas asf_search rasterio hyp3_sdk"
   ]
  },
  {
   "cell_type": "markdown",
   "metadata": {
    "pycharm": {
     "name": "#%% md\n"
    }
   },
   "source": [
    "1. Installation when running locally\n",
    "    (Skip this step if you are using Google Collab)"
   ]
  },
  {
   "cell_type": "code",
   "execution_count": null,
   "metadata": {
    "pycharm": {
     "is_executing": true,
     "name": "#%%\n"
    }
   },
   "outputs": [],
   "source": [
    "%pip install .."
   ]
  },
  {
   "cell_type": "markdown",
   "metadata": {
    "pycharm": {
     "name": "#%% md\n"
    }
   },
   "source": [
    "2. Import dependencies"
   ]
  },
  {
   "cell_type": "code",
   "execution_count": 2,
   "metadata": {
    "collapsed": true,
    "pycharm": {
     "name": "#%%\n"
    }
   },
   "outputs": [],
   "source": [
    "from vegmapper.gedi import divide_download_process_and_delete_h5_files\n",
    "import os, shutil, sys, time"
   ]
  },
  {
   "cell_type": "markdown",
   "metadata": {
    "pycharm": {
     "name": "#%% md\n"
    }
   },
   "source": [
    "3. Search and select the GEDI L2A files using the search.earthdata.nasa.gov interface. Download the text file with download links for each file. If you are using google collab, upload this file in google collab. Paste the path to your file here."
   ]
  },
  {
   "cell_type": "code",
   "execution_count": 3,
   "metadata": {
    "pycharm": {
     "name": "#%%\n"
    }
   },
   "outputs": [],
   "source": [
    "h5_download_file = r'<path to your .txt with h5 urls>'"
   ]
  },
  {
   "cell_type": "markdown",
   "metadata": {
    "pycharm": {
     "name": "#%% md\n"
    }
   },
   "source": [
    "4. Generate, copy, and paste your token from earthdata here. See https://urs.earthdata.nasa.gov/documentation/for_users/user_token for details"
   ]
  },
  {
   "cell_type": "code",
   "execution_count": 4,
   "metadata": {
    "pycharm": {
     "name": "#%%\n"
    }
   },
   "outputs": [],
   "source": [
    "token = 'paste your token here'"
   ]
  },
  {
   "cell_type": "markdown",
   "metadata": {
    "pycharm": {
     "name": "#%% md\n"
    }
   },
   "source": [
    "5. Specify workdir (if desired), and the run name."
   ]
  },
  {
   "cell_type": "code",
   "execution_count": 6,
   "metadata": {
    "pycharm": {
     "name": "#%%\n"
    }
   },
   "outputs": [],
   "source": [
    "runName = 'run1' # a subdirectory with this name will be created in your work directory. no spaces or special characters please.\n",
    "work_dir = os.getcwd() #r'path to work directory.' Keep the value at os.getcwd(), or changing it to your desired directory."
   ]
  },
  {
   "cell_type": "markdown",
   "metadata": {
    "collapsed": false,
    "pycharm": {
     "name": "#%% md\n"
    }
   },
   "source": [
    "6. Download and process data"
   ]
  },
  {
   "cell_type": "code",
   "execution_count": null,
   "metadata": {
    "collapsed": false,
    "pycharm": {
     "is_executing": true,
     "name": "#%%\n"
    }
   },
   "outputs": [],
   "source": [
    "#grab the time at the start of processing\n",
    "start_time = int(round(time.time()))\n",
    "\n",
    "#This function does the meat of the processing\n",
    "divide_download_process_and_delete_h5_files(h5_download_file, work_dir, runName, token)\n",
    "\n",
    "end_time = int(round(time.time()))\n",
    "duration = end_time-start_time\n",
    "print(f'Start time (sec): {start_time}\\n End time (sec): {end_time}\\n Duration (sec): {duration}')\n",
    "print(f'Processing took {((duration)/60)/60} hrs')\n",
    "\n",
    "#Zip Results for easy download - this will be <runName>.zip in work_dir\n",
    "shutil.make_archive(os.path.join(work_dir, f'{runName}_{start_time}'), 'zip', os.path.join(work_dir, runName))"
   ]
  }
 ],
 "metadata": {
  "kernelspec": {
   "display_name": "Python 3",
   "language": "python",
   "name": "python3"
  },
  "language_info": {
   "codemirror_mode": {
    "name": "ipython",
    "version": 3
   },
   "file_extension": ".py",
   "mimetype": "text/x-python",
   "name": "python",
   "nbconvert_exporter": "python",
   "pygments_lexer": "ipython3",
   "version": "3.8.2 (default, Nov  4 2020, 21:23:28) \n[Clang 12.0.0 (clang-1200.0.32.28)]"
  },
  "vscode": {
   "interpreter": {
    "hash": "31f2aee4e71d21fbe5cf8b01ff0e069b9275f58929596ceb00d14d90e3e16cd6"
   }
  }
 },
 "nbformat": 4,
 "nbformat_minor": 1
}
