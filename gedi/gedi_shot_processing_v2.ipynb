{
 "cells": [
  {
   "cell_type": "markdown",
   "source": [
    "1. Install the vegmapper module"
   ],
   "metadata": {
    "collapsed": false,
    "pycharm": {
     "name": "#%% md\n"
    }
   }
  },
  {
   "cell_type": "code",
   "execution_count": 6,
   "outputs": [
    {
     "name": "stdout",
     "output_type": "stream",
     "text": [
      "Processing /Users/mtrautma/repos/VegMapper\r\n",
      "  Preparing metadata (setup.py) ... \u001B[?25ldone\r\n",
      "\u001B[?25hBuilding wheels for collected packages: vegmapper\r\n",
      "  Building wheel for vegmapper (setup.py) ... \u001B[?25ldone\r\n",
      "\u001B[?25h  Created wheel for vegmapper: filename=vegmapper-1.0-py3-none-any.whl size=31004 sha256=e2a7c4a786f676d39dbbd70f76fb9722a1c8b168f214ab74f2271d73bb92dc9a\r\n",
      "  Stored in directory: /private/var/folders/fy/x2ty78951vj7c3lj6k622p5xvvmbbr/T/pip-ephem-wheel-cache-tfsk8z4c/wheels/ad/eb/2a/bf47773ab7a6c0472954ed1a214fc279acd6c0a6a8f2cb1b70\r\n",
      "Successfully built vegmapper\r\n",
      "Installing collected packages: vegmapper\r\n",
      "Successfully installed vegmapper-1.0\r\n",
      "Note: you may need to restart the kernel to use updated packages.\n"
     ]
    }
   ],
   "source": [
    "%pip install .."
   ],
   "metadata": {
    "collapsed": false,
    "pycharm": {
     "name": "#%%\n"
    }
   }
  },
  {
   "cell_type": "markdown",
   "source": [
    "2. Import dependencies"
   ],
   "metadata": {
    "collapsed": false,
    "pycharm": {
     "name": "#%% md\n"
    }
   }
  },
  {
   "cell_type": "code",
   "execution_count": 8,
   "metadata": {
    "collapsed": true,
    "pycharm": {
     "name": "#%%\n"
    }
   },
   "outputs": [],
   "source": [
    "from vegmapper.gedi import download_from_lpdaac, delete_local_files\n",
    "from vegmapper.gedi import readH5Files\n",
    "import os"
   ]
  },
  {
   "cell_type": "markdown",
   "source": [
    "3. Get a list of h5 files to download from earthdata"
   ],
   "metadata": {
    "collapsed": false,
    "pycharm": {
     "name": "#%% md\n"
    }
   }
  },
  {
   "cell_type": "code",
   "execution_count": 9,
   "outputs": [],
   "source": [
    "h5_download_file = r'<path to your .txt with h5 urls>'\n",
    "\n",
    "##\n",
    "h5_download_file = r'/Users/mtrautma/Downloads/GEDI_Shot_Processing_v2/input/h5_small_granules2.txt'"
   ],
   "metadata": {
    "collapsed": false,
    "pycharm": {
     "name": "#%%\n"
    }
   }
  },
  {
   "cell_type": "markdown",
   "source": [
    "4. Get a token from earthdata"
   ],
   "metadata": {
    "collapsed": false,
    "pycharm": {
     "name": "#%% md\n"
    }
   }
  },
  {
   "cell_type": "code",
   "execution_count": 10,
   "outputs": [],
   "source": [
    "token = 'paste your token here'"
   ],
   "metadata": {
    "collapsed": false,
    "pycharm": {
     "name": "#%%\n"
    }
   }
  },
  {
   "cell_type": "markdown",
   "source": [
    "5. Specify your work directory."
   ],
   "metadata": {
    "collapsed": false,
    "pycharm": {
     "name": "#%% md\n"
    }
   }
  },
  {
   "cell_type": "code",
   "execution_count": 13,
   "outputs": [
    {
     "name": "stdout",
     "output_type": "stream",
     "text": [
      "/Users/mtrautma/repos/VegMapper/gedi/run1\n"
     ]
    }
   ],
   "source": [
    "save_dir = r'path to work directory'\n",
    "save_dir = os.path.join(os.getcwd(), 'run1')\n",
    "print(save_dir)"
   ],
   "metadata": {
    "collapsed": false,
    "pycharm": {
     "name": "#%%\n"
    }
   }
  },
  {
   "cell_type": "markdown",
   "source": [
    "If the work directory does not exist, this will create it for you"
   ],
   "metadata": {
    "collapsed": false,
    "pycharm": {
     "name": "#%% md\n"
    }
   }
  },
  {
   "cell_type": "code",
   "execution_count": 12,
   "outputs": [],
   "source": [
    "if not os.path.exists(save_dir):\n",
    "    os.mkdir(save_dir)\n",
    "out_text_file_name = os.path.join(save_dir, 'downloaded_files.txt')"
   ],
   "metadata": {
    "collapsed": false,
    "pycharm": {
     "name": "#%%\n"
    }
   }
  },
  {
   "cell_type": "markdown",
   "source": [
    "6. Download files"
   ],
   "metadata": {
    "collapsed": false,
    "pycharm": {
     "name": "#%% md\n"
    }
   }
  },
  {
   "cell_type": "code",
   "execution_count": 14,
   "outputs": [
    {
     "name": "stdout",
     "output_type": "stream",
     "text": [
      "https://e4ftl01.cr.usgs.gov/ops/esir/57737/2432465496/processed_GEDI02_A_2019132112045_O02339_04_T02438_02_003_01_V002.h5\n",
      " not downloaded, check if you are using the correct credentials\n",
      "https://e4ftl01.cr.usgs.gov/ops/esir/57737/2432536918/processed_GEDI02_A_2019161000303_O02782_04_T04978_02_003_01_V002.h5\n",
      " not downloaded, check if you are using the correct credentials\n",
      "https://e4ftl01.cr.usgs.gov/ops/esir/57737/2432539441/processed_GEDI02_A_2019162113646_O02805_01_T01543_02_003_01_V002.h5\n",
      " not downloaded, check if you are using the correct credentials\n",
      "https://e4ftl01.cr.usgs.gov/ops/esir/57737/2432552565/processed_GEDI02_A_2019173072205_O02973_01_T05353_02_003_01_V002.h5\n",
      " not downloaded, check if you are using the correct credentials\n",
      "Data Download Complete\n"
     ]
    }
   ],
   "source": [
    "download_from_lpdaac(\n",
    "    h5_download_file=h5_download_file,\n",
    "    out_text_file_name=out_text_file_name,\n",
    "    save_dir=save_dir,\n",
    "    token=token\n",
    ")\n",
    "print('Data Download Complete')"
   ],
   "metadata": {
    "collapsed": false,
    "pycharm": {
     "name": "#%%\n"
    }
   }
  },
  {
   "cell_type": "markdown",
   "source": [
    "7. Process Data. Confirm in directory that the h5 downloaded"
   ],
   "metadata": {
    "collapsed": false,
    "pycharm": {
     "name": "#%% md\n"
    }
   }
  },
  {
   "cell_type": "code",
   "execution_count": null,
   "outputs": [],
   "source": [
    "csv_files = []  ## list that keeps track of all csv files generated\n",
    "\n",
    "##generate column names for rh vals (ranges 1-100)\n",
    "rh_cols = []\n",
    "for i in range(101):\n",
    "    rh_cols.append('rh' + str(i))\n",
    "readH5Files(out_text_file_name, save_dir, csv_files, rh_cols)\n",
    "print('Data Processing Complete')"
   ],
   "metadata": {
    "collapsed": false,
    "pycharm": {
     "name": "#%%\n"
    }
   }
  },
  {
   "cell_type": "markdown",
   "source": [
    "8. Delete files. Only run this after you have confirmed that the processing worked"
   ],
   "metadata": {
    "collapsed": false,
    "pycharm": {
     "name": "#%% md\n"
    }
   }
  },
  {
   "cell_type": "code",
   "execution_count": null,
   "outputs": [],
   "source": [
    "delete_local_files(out_text_file_name, save_dir)"
   ],
   "metadata": {
    "collapsed": false,
    "pycharm": {
     "name": "#%%\n"
    }
   }
  },
  {
   "cell_type": "markdown",
   "source": [],
   "metadata": {
    "collapsed": false,
    "pycharm": {
     "name": "#%% md\n"
    }
   }
  },
  {
   "cell_type": "markdown",
   "source": [],
   "metadata": {
    "collapsed": false,
    "pycharm": {
     "name": "#%% md\n"
    }
   }
  },
  {
   "cell_type": "code",
   "execution_count": null,
   "outputs": [],
   "source": [],
   "metadata": {
    "collapsed": false,
    "pycharm": {
     "name": "#%%\n"
    }
   }
  }
 ],
 "metadata": {
  "kernelspec": {
   "display_name": "Python 3",
   "language": "python",
   "name": "python3"
  },
  "language_info": {
   "codemirror_mode": {
    "name": "ipython",
    "version": 2
   },
   "file_extension": ".py",
   "mimetype": "text/x-python",
   "name": "python",
   "nbconvert_exporter": "python",
   "pygments_lexer": "ipython2",
   "version": "2.7.6"
  }
 },
 "nbformat": 4,
 "nbformat_minor": 0
}