{
  "nbformat": 4,
  "nbformat_minor": 0,
  "metadata": {
    "colab": {
      "name": "GEDI_ShotProcessing.ipynb",
      "provenance": []
    },
    "kernelspec": {
      "name": "python3",
      "display_name": "Python 3"
    },
    "language_info": {
      "name": "python"
    }
  },
  "cells": [
    {
      "cell_type": "code",
      "source": [
        "import os\n",
        "import h5py\n",
        "import numpy as np\n",
        "import pandas as pd\n",
        "import glob\n",
        "import itertools\n",
        "import statistics\n",
        "import time\n",
        "import gsutil\n",
        "\n",
        "pd.options.mode.chained_assignment = None\n",
        "import warnings\n",
        "warnings.filterwarnings(\"ignore\")"
      ],
      "metadata": {
        "id": "zuBk6adH_7s0",
        "outputId": "b5d317a1-20a6-4786-db2c-07e3d31b4971",
        "colab": {
          "base_uri": "https://localhost:8080/",
          "height": 375
        }
      },
      "execution_count": null,
      "outputs": [
        {
          "output_type": "error",
          "ename": "ModuleNotFoundError",
          "evalue": "ignored",
          "traceback": [
            "\u001b[0;31m---------------------------------------------------------------------------\u001b[0m",
            "\u001b[0;31mModuleNotFoundError\u001b[0m                       Traceback (most recent call last)",
            "\u001b[0;32m<ipython-input-2-e5d2e09533c1>\u001b[0m in \u001b[0;36m<module>\u001b[0;34m()\u001b[0m\n\u001b[1;32m      7\u001b[0m \u001b[0;32mimport\u001b[0m \u001b[0mstatistics\u001b[0m\u001b[0;34m\u001b[0m\u001b[0;34m\u001b[0m\u001b[0m\n\u001b[1;32m      8\u001b[0m \u001b[0;32mimport\u001b[0m \u001b[0mtime\u001b[0m\u001b[0;34m\u001b[0m\u001b[0;34m\u001b[0m\u001b[0m\n\u001b[0;32m----> 9\u001b[0;31m \u001b[0;32mimport\u001b[0m \u001b[0mgsutil\u001b[0m\u001b[0;34m\u001b[0m\u001b[0;34m\u001b[0m\u001b[0m\n\u001b[0m\u001b[1;32m     10\u001b[0m \u001b[0;34m\u001b[0m\u001b[0m\n\u001b[1;32m     11\u001b[0m \u001b[0mpd\u001b[0m\u001b[0;34m.\u001b[0m\u001b[0moptions\u001b[0m\u001b[0;34m.\u001b[0m\u001b[0mmode\u001b[0m\u001b[0;34m.\u001b[0m\u001b[0mchained_assignment\u001b[0m \u001b[0;34m=\u001b[0m \u001b[0;32mNone\u001b[0m\u001b[0;34m\u001b[0m\u001b[0;34m\u001b[0m\u001b[0m\n",
            "\u001b[0;31mModuleNotFoundError\u001b[0m: No module named 'gsutil'",
            "",
            "\u001b[0;31m---------------------------------------------------------------------------\u001b[0;32m\nNOTE: If your import is failing due to a missing package, you can\nmanually install dependencies using either !pip or !apt.\n\nTo view examples of installing some common dependencies, click the\n\"Open Examples\" button below.\n\u001b[0;31m---------------------------------------------------------------------------\u001b[0m\n"
          ],
          "errorDetails": {
            "actions": [
              {
                "action": "open_url",
                "actionText": "Open Examples",
                "url": "/notebooks/snippets/importing_libraries.ipynb"
              }
            ]
          }
        }
      ]
    },
    {
      "cell_type": "markdown",
      "source": [
        "[![Open In Colab](https://colab.research.google.com/assets/colab-badge.svg)](https://colab.research.google.com/drive/1ctJsPSWALivapz4BQwImSdSKn_cCUWKk?usp=sharing)\n"
      ],
      "metadata": {
        "id": "r9MbTS5RngtU"
      }
    },
    {
      "cell_type": "code",
      "source": [
        "h5FilesToProcess = \"h5S3files.txt\"\n",
        "sourceDirectory = \"s3://servir-public/gedi/peru/\"\n",
        "destinationFilePrefrix = \"filtered_\"\n",
        "destinationDirectory = \"s3://servir-public/gedi/peru/\"\n",
        "destinationFile = \"FILTERED_CSV.csv\"\n",
        "csvFiles = \"csvFiles.txt\""
      ],
      "metadata": {
        "id": "7KUtWn-rABAH"
      },
      "execution_count": null,
      "outputs": []
    },
    {
      "cell_type": "code",
      "execution_count": null,
      "metadata": {
        "id": "bL2qEo1L_qWY"
      },
      "outputs": [],
      "source": [
        "\n",
        "\n",
        "def rangeCalculator(elevList, sd, mean):\n",
        "    elevList = [item for item in elevList if item <= (mean + (2*sd)) and item >= (mean - (2*sd)) ]\n",
        "    if elevList:\n",
        "        return max(elevList) - min(elevList)\n",
        "    else:\n",
        "        return -99\n",
        "\n",
        "gedi_dfs = []\n",
        "\n",
        "f = open(h5FilesToProcess, \"r\")\n",
        "\n",
        "for h5file in f.readlines():\n",
        "    h5file = h5file.strip()\n",
        "    cpS3url = \"aws s3 cp \"+ sourceDirectory+ + h5file + \" ./\"\n",
        "    \n",
        "    print(\"DOWNLOAD FILE: \" + cpS3url)\n",
        "    os.system(cpS3url)\n",
        "    ###READ DATA\n",
        "    skipFlag = False\n",
        "    try:\n",
        "        gediL2A = h5py.File(h5file, 'r')\n",
        "    except Exception as e:\n",
        "        print(e)\n",
        "        continue\n",
        "\n",
        "    beamNames = [g for g in gediL2A.keys() if g.startswith('BEAM')]\n",
        "    gediL2A_objs = []\n",
        "    gediL2A.visit(gediL2A_objs.append)                                           # Retrieve list of datasets\n",
        "    gediSDS = [o for o in gediL2A_objs if isinstance(gediL2A[o], h5py.Dataset)]  # Search for relevant SDS inside data file\n",
        "\n",
        "    ###FITLER DATA \n",
        "    rh_cols = []\n",
        "    for i in range(101):\n",
        "        rh_cols.append('rh'+str(i))\n",
        "\n",
        "    beam_dfs = []\n",
        "        \n",
        "    for highBeam in beamNames:\n",
        "        gedi_beam_data = {}\n",
        "        try:\n",
        "            gedi_beam_data[\"lats\"] = gediL2A[f'{highBeam}/lat_lowestmode'][()]\n",
        "            gedi_beam_data[\"long\"] = gediL2A[f'{highBeam}/lon_lowestmode'][()]\n",
        "            gedi_beam_data[\"shotNumber\"] = gediL2A[f'{highBeam}/shot_number'][()]\n",
        "            gedi_beam_data[\"quality\"] = gediL2A[f'{highBeam}/quality_flag'][()]\n",
        "            gedi_beam_data[\"solar_elev\"] = gediL2A[f'{highBeam}/solar_elevation'][()]\n",
        "            gedi_beam_data[\"sensitivity\"] = gediL2A[f'{highBeam}/sensitivity'][()]\n",
        "            #gedi_beam_data[\"rh\"] = gediL2A[f'{highBeam}/rh'][()]\n",
        "            gedi_beam_data[\"elevLow\"] = gediL2A[f'{highBeam}/elev_lowestmode'][()]\n",
        "\n",
        "            gedi_beam_data[\"delta_time\"] = gediL2A[f'{highBeam}/delta_time'][()]\n",
        "            gedi_beam_data[\"energy_total\"] = gediL2A[f'{highBeam}/energy_total'][()]\n",
        "                \n",
        "            gedi_beam_data[\"rx_gbias\"] = gediL2A[f'{highBeam}/rx_1gaussfit/rx_gbias'][()]\n",
        "            gedi_beam_data[\"rx_gamplitude_error\"] = gediL2A[f'{highBeam}/rx_1gaussfit/rx_gamplitude_error'][()]\n",
        "                \n",
        "            gedi_beam_data[\"rx1_energy_sm\"] = gediL2A[f'{highBeam}/rx_processing_a1/energy_sm'][()]\n",
        "            gedi_beam_data[\"rx2_energy_sm\"] = gediL2A[f'{highBeam}/rx_processing_a2/energy_sm'][()]\n",
        "            gedi_beam_data[\"rx3_energy_sm\"] = gediL2A[f'{highBeam}/rx_processing_a3/energy_sm'][()]\n",
        "            gedi_beam_data[\"rx4_energy_sm\"] = gediL2A[f'{highBeam}/rx_processing_a4/energy_sm'][()]\n",
        "            gedi_beam_data[\"rx5_energy_sm\"] = gediL2A[f'{highBeam}/rx_processing_a5/energy_sm'][()]\n",
        "            gedi_beam_data[\"rx6_energy_sm\"] = gediL2A[f'{highBeam}/rx_processing_a6/energy_sm'][()]\n",
        "             \n",
        "            gedi_beam_data[\"rx1_lastmodeenergy\"] = gediL2A[f'{highBeam}/rx_processing_a1/lastmodeenergy'][()]\n",
        "            gedi_beam_data[\"rx2_lastmodeenergy\"] = gediL2A[f'{highBeam}/rx_processing_a2/lastmodeenergy'][()]\n",
        "            gedi_beam_data[\"rx3_lastmodeenergy\"] = gediL2A[f'{highBeam}/rx_processing_a3/lastmodeenergy'][()]\n",
        "            gedi_beam_data[\"rx4_lastmodeenergy\"] = gediL2A[f'{highBeam}/rx_processing_a4/lastmodeenergy'][()]\n",
        "            gedi_beam_data[\"rx5_lastmodeenergy\"] = gediL2A[f'{highBeam}/rx_processing_a5/lastmodeenergy'][()]\n",
        "            gedi_beam_data[\"rx6_lastmodeenergy\"] = gediL2A[f'{highBeam}/rx_processing_a6/lastmodeenergy'][()]\n",
        "                \n",
        "            gedi_beam_data[\"elev1_low_energy\"] = gediL2A[f'{highBeam}/geolocation/energy_lowestmode_a1'][()]\n",
        "            gedi_beam_data[\"elev2_low_energy\"] = gediL2A[f'{highBeam}/geolocation/energy_lowestmode_a2'][()]\n",
        "            gedi_beam_data[\"elev3_low_energy\"] = gediL2A[f'{highBeam}/geolocation/energy_lowestmode_a3'][()]\n",
        "            gedi_beam_data[\"elev4_low_energy\"] = gediL2A[f'{highBeam}/geolocation/energy_lowestmode_a4'][()]\n",
        "            gedi_beam_data[\"elev5_low_energy\"] = gediL2A[f'{highBeam}/geolocation/energy_lowestmode_a5'][()]\n",
        "            gedi_beam_data[\"elev6_low_energy\"] = gediL2A[f'{highBeam}/geolocation/energy_lowestmode_a6'][()]\n",
        "                \n",
        "            gedi_beam_data[\"elev1_num_modes\"] = gediL2A[f'{highBeam}/geolocation/num_detectedmodes_a1'][()]\n",
        "            gedi_beam_data[\"elev2_num_modes\"] = gediL2A[f'{highBeam}/geolocation/num_detectedmodes_a2'][()]\n",
        "            gedi_beam_data[\"elev3_num_modes\"] = gediL2A[f'{highBeam}/geolocation/num_detectedmodes_a3'][()]\n",
        "            gedi_beam_data[\"elev4_num_modes\"] = gediL2A[f'{highBeam}/geolocation/num_detectedmodes_a4'][()]\n",
        "            gedi_beam_data[\"elev5_num_modes\"] = gediL2A[f'{highBeam}/geolocation/num_detectedmodes_a5'][()]\n",
        "            gedi_beam_data[\"elev6_num_modes\"] = gediL2A[f'{highBeam}/geolocation/num_detectedmodes_a6'][()]\n",
        "             \n",
        "            gedi_beam_data[\"elev1\"] = gediL2A[f'{highBeam}/geolocation/elev_lowestmode_a1'][()]\n",
        "            gedi_beam_data[\"elev2\"] = gediL2A[f'{highBeam}/geolocation/elev_lowestmode_a2'][()]\n",
        "            gedi_beam_data[\"elev3\"] = gediL2A[f'{highBeam}/geolocation/elev_lowestmode_a3'][()]\n",
        "            gedi_beam_data[\"elev4\"] = gediL2A[f'{highBeam}/geolocation/elev_lowestmode_a4'][()]\n",
        "            gedi_beam_data[\"elev5\"] = gediL2A[f'{highBeam}/geolocation/elev_lowestmode_a5'][()]\n",
        "            gedi_beam_data[\"elev6\"] = gediL2A[f'{highBeam}/geolocation/elev_lowestmode_a6'][()]\n",
        "            rh = gediL2A[f'{highBeam}/rh'][()]\n",
        "            gedi_beam_data[\"beam\"] = np.full(len(gedi_beam_data['shotNumber']), highBeam)\n",
        "                #raw_df = pd.DataFrame({shots, 'Beam':np.full(len(shots), highBeam), 'Longitude': lons, 'Latitude': lats,\n",
        "                 #                        'Quality': quality, 'Solar_Elevation': solar_elev, 'Sensitivity': sensitivity, \"elev_lowestmode\": elevLow,\n",
        "                 #                        'ElevationA1': elev1, 'ElevationA2': elev2, 'ElevationA3': elev3, 'ElevationA4': elev4, 'ElevationA5': elev5, 'ElevationA6': elev6})\n",
        "                \n",
        "            raw_df = pd.DataFrame(gedi_beam_data)\n",
        "            raw_df[rh_cols] = pd.DataFrame(rh, index= raw_df.index)\n",
        "            raw_df = raw_df.dropna()\n",
        "            beam_dfs.append(raw_df)\n",
        "        except Exception as e:\n",
        "            print(\"EXCEPTION: \", e)\n",
        "            skipFlag = True\n",
        "\n",
        "\n",
        "    if not skipFlag:\n",
        "        raw_df = pd.concat(beam_dfs)\n",
        "        filtered = raw_df[raw_df.sensitivity >= 0.9] #& (raw_df.Quality == 1)\n",
        "        \n",
        "        elevs = pd.concat([filtered.elev1, filtered.elev2, filtered.elev3, filtered.elev4, filtered.elev5, filtered.elev6])\n",
        "        filtered['elev_sd'] = elevs.std()\n",
        "        filtered['elev_mean'] = elevs.mean() #calculate mean of elevs\n",
        "        filtered['elev_range'] = filtered.apply(lambda x: rangeCalculator([x['elev1'], x['elev2'], x['elev3'], x['elev4'], x['elev5'], x['elev6']], x['elev_sd'], x['elev_mean']), axis = 1)\n",
        "        \n",
        "        GEDI_DF = filtered[filtered.elev_range < 2]\n",
        "\n",
        "        GEDI_DF = GEDI_DF[GEDI_DF.rh95 > 0]\n",
        "        \n",
        "        csv_file = destinationFilePrefrix + h5file[:-3]+\".csv\"\n",
        "        print(\"CREATING CSV: \" + csv_file)\n",
        "        GEDI_DF.to_csv(csv_file)\n",
        "        cp_csv = \"aws s3 cp \" + csv_file + \" \" + destinationDirectory + csv_file\n",
        "        print(\"COPY CSV TO S3: \" + cp_csv)\n",
        "        os.system(cp_csv)\n",
        "        os.remove(csv_file)\n",
        "    try:\n",
        "        os.remove(h5file)\n",
        "    except:\n",
        "        continue"
      ]
    },
    {
      "cell_type": "code",
      "source": [
        "csv_files = []\n",
        "\n",
        "f = open(csvFiles, \"r\")\n",
        "for file in f.readlines():\n",
        "    cpS3url = \"aws s3 cp \" + sourceDirectory + file.strip() +  \" \" + file.strip()\n",
        "    print(cpS3url)\n",
        "    os.system(cpS3url)\n",
        "    csv_df =  pd.read_csv(file.strip())\n",
        "    csv_files.append(csv_df)\n",
        "    os.remove(file.strip())\n",
        "df = pd.concat(csv_files)\n",
        "df.to_csv(destinationFile, index = False)"
      ],
      "metadata": {
        "id": "erA7msybDQlj"
      },
      "execution_count": null,
      "outputs": []
    }
  ]
}