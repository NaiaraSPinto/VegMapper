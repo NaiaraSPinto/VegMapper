{
  "cells": [
    {
      "cell_type": "markdown",
      "metadata": {
        "id": "view-in-github",
        "colab_type": "text"
      },
      "source": [
        "<a href=\"https://colab.research.google.com/github/agroimpacts/VegMapper/blob/dev-calval-simplify/calval/create_sample.ipynb\" target=\"_parent\"><img src=\"https://colab.research.google.com/assets/colab-badge.svg\" alt=\"Open In Colab\"/></a>"
      ]
    },
    {
      "cell_type": "markdown",
      "metadata": {
        "id": "-IKUphTLN9Jg"
      },
      "source": [
        "# Calculating Sample Sizes for Land Cover Assessment\n",
        "\n",
        "This notebook walks through steps to calculate sample size and download sample points to assess accuracy of a land cover strata layer.\n",
        "\n",
        "In our example, we will be calculating sample sizes for presence and absence of oil palm fields in Ucayali, Peru. The notebook can calculate reference sample sizes, or reference + training/validation sample sizes.\n",
        "\n",
        "This notebook requires the following files/information:\n",
        "- A land cover strata image including classes of **presence** and **absence** for the category of interest. The strata image should be a Google Earth Engine (GEE) image asset of integer type.\n",
        "- A pair of lists for user defined **presence** and **absence** categories.\n",
        "- A sampling method with its sampling parameters (see examples)\n",
        "- A Google Drive account for exporting the final shapefile and CSV files.\n",
        "\n",
        "The final sample points are exported in Collect Earth Online (CEO) format."
      ]
    },
    {
      "cell_type": "markdown",
      "metadata": {
        "id": "e70Gs_Luz7mu"
      },
      "source": [
        "# Overview of Steps\n",
        "\n",
        "0. Install packages and set project options\n",
        "1. Load and analyze the stratification layer for collecting the sample\n",
        "2. Determine the **presence** and **absence** sample sizes required for the reference sample\n",
        "3. Calculate the binary sample size\n",
        "4. Include the size requirements for the training and validation samples\n",
        "5. Distribute sample points among sub-classes\n",
        "6. Perform sampling on GEE\n",
        "7. Export the sample to Google Drive for CollectEarth\n",
        "\n"
      ]
    },
    {
      "cell_type": "markdown",
      "metadata": {
        "id": "LAZiVi13zTE7"
      },
      "source": [
        "# Step 0: Earth Engine Python API Colab Setup\n",
        "\n",
        "Several libraries are required to be loaded to run this notebook.\n",
        "\n",
        "In addition, you need to authenticate your Google account to load data from Google Earth Engine (GEE).\n",
        "\n",
        "Press the run button next to \"Setup code\" below to mount your Google Drive folder, import `VegMapper` (note it will install into a default \"repos\" directory in your Google Drive, unless you change it in the code block), and authenticate your EarthEngine account. Please respond to the prompts as they arise. You can unfold the code block if you want to inspect the code and change default paths."
      ]
    },
    {
      "cell_type": "code",
      "execution_count": null,
      "metadata": {
        "cellView": "form",
        "collapsed": true,
        "id": "HTFHePamRi7Q",
        "jupyter": {
          "outputs_hidden": true
        },
        "tags": []
      },
      "outputs": [],
      "source": [
        "#@title (RUN) Setup code\n",
        "## Mount Drive\n",
        "from google.colab import drive\n",
        "root = '/content/gdrive'\n",
        "drive.mount(root)\n",
        "\n",
        "## Clone and/or update VegMapper\n",
        "import os\n",
        "from datetime import datetime as dt\n",
        "repo_path = f\"{root}/MyDrive/repos\"\n",
        "clone_path = 'https://github.com/agroimpacts/VegMapper.git'\n",
        "if not os.path.exists(repo_path):\n",
        "    print(f\"Making {repo_path}\")\n",
        "    os.makedirs(repo_path, exist_ok=True)\n",
        "\n",
        "if not os.path.exists(f\"{repo_path}/VegMapper\"):\n",
        "    !git -C \"{repo_path}\" clone \"{clone_path}\"\n",
        "else:\n",
        "    !git -C \"{repo_path}/VegMapper\" pull\n",
        "\n",
        "os.chdir(f\"{repo_path}/VegMapper\")\n",
        "\n",
        "# Import sample_utils function\n",
        "from vegmapper.calval.sample_utils import *\n",
        "\n",
        "# EE authentication\n",
        "ee.Authenticate()\n",
        "# Initialize the library.\n",
        "ee.Initialize()"
      ]
    },
    {
      "cell_type": "markdown",
      "metadata": {
        "id": "c8WLIP1uSKHM"
      },
      "source": [
        "# Step 1. Import, analyze, and view the stratification layers\n",
        "\n",
        "The code below allows you to import a strata image from a Google Earth Engine (GEE) asset. You can choose to use the default asset, which contains land cover information from Ucayali, Peru, or you have the option to provide a custom asset URL. Please note that for this code to function correctly, the image must reside in the same GEE project and account that you authenticate in the Setup Code cell. Additionally, the GEE project should be registered for cloud access to enable asset retrieval. Registration is free for non-profits, education, government research, training, and media purposes. The code then retrieves the metadata of this image and calculates the category statistics.\n",
        "\n",
        "The function `analyze_strata_image()` returns three variables:\n",
        "\n",
        "strata: The strata image (an ee.Image object).\n",
        "strata_df: The category statistics (a Pandas dataframe).\n",
        "misc: A Python dictionary containing miscellaneous information such as minimum and maximum category values, bounding box (bbox), and scale."
      ]
    },
    {
      "cell_type": "code",
      "execution_count": null,
      "metadata": {
        "cellView": "form",
        "id": "aefY08RmsvZG"
      },
      "outputs": [],
      "source": [
        "# @title (RUN) Import, analyze GEE land cover\n",
        "default_asset = \"users/michaeljcecil/Updated_Strata_v2\"\n",
        "user_choice = input(\"Do you want to use the default asset (y/n)? \").lower()\n",
        "\n",
        "if user_choice == 'y':\n",
        "    asset = default_asset\n",
        "else:\n",
        "    asset = input(\"Enter your asset URL: \")\n",
        "\n",
        "strata, strata_df, misc = analyze_strata_image(asset)\n",
        "strata_df"
      ]
    },
    {
      "cell_type": "markdown",
      "metadata": {
        "id": "ZiHHdDN7VQ9V"
      },
      "source": [
        "Next, run the code below to map the strata. The colors can be changed by using a different palette (open the code dialog to see how)."
      ]
    },
    {
      "cell_type": "code",
      "execution_count": null,
      "metadata": {
        "cellView": "form",
        "id": "_PN3qcUARi7U",
        "tags": []
      },
      "outputs": [],
      "source": [
        "#@title (RUN) Map the strata\n",
        "\n",
        "# display the strata map with default palette\n",
        "display(strata, misc)\n",
        "# Add a custom palette\n",
        "# palette = ['000000', '111111', '222222','333333', 'e32a1c', 'fdcf6f','1f28b4']\n",
        "# display(strata, misc, palette=palette)"
      ]
    },
    {
      "cell_type": "markdown",
      "metadata": {
        "id": "fpNjixQChwUt"
      },
      "source": [
        "# Step 2. Determine the size of the **presence** and **absence** samples\n",
        "\n",
        "There are three possible methods. Depending on the sampling design method, we may choose to specify the sample size for presence and absence either arbitrarily or based on prior knowledge from the strata image. If the latter approach is chosen, and if there are multiple categories representing either presence or absence, we need to specify which categories represent presence, and which absence."
      ]
    },
    {
      "cell_type": "code",
      "execution_count": null,
      "metadata": {
        "cellView": "form",
        "id": "lCkYLz0UVNc1"
      },
      "outputs": [],
      "source": [
        "# @title (RUN) Enter presence and absence categories\n",
        "x = input(f\"Which categories represent the presence class? \\n If there are \"\\\n",
        "          \"more than one separate by a comma. \\n If you are using the layer \" \\\n",
        "          \"provided with this example, enter 1,2: \\n\")\n",
        "presence_cats = [int(x) for x in x.split(\",\")]\n",
        "\n",
        "x = input(f\"Which categories represent the absence class? \\n If there are \"\\\n",
        "          \"more than one separate by a comma. \\n If you are using the layer \" \\\n",
        "          \"provided with this example, enter 5: \\n\")\n",
        "absence_cats = [int(x) for x in x.split(\",\")]\n",
        "\n",
        "num_strata_presence = len(presence_cats)\n",
        "num_strata_absence = len(absence_cats)\n",
        "\n",
        "# Save a copy of the original multi-category strata\n",
        "strata_df_mltcat = strata_df.copy()\n",
        "\n",
        "# Specify absence and presence categories\n",
        "# absenceCats, presenceCats = [5], [1, 2]\n",
        "\n",
        "# Consolidate multi-categories to binary presence absence\n",
        "strata_df_bincat = consolidate(strata_df, absence_cats, presence_cats)\n",
        "\n",
        "print(\"\\n Count and percent of the consolidated binary classes\")\n",
        "print(strata_df_bincat)"
      ]
    },
    {
      "cell_type": "markdown",
      "metadata": {
        "id": "2m05_dF8tJbg"
      },
      "source": [
        "# Step 3. Calculate binary reference sample size\n",
        "\n",
        "There are 3 possible methods, including:\n",
        "\n",
        "1. **Manual**: the number for each of the two classes is determined entirely by you\n",
        "2. **Automatic: adjust required number**: Adjusts a required sample size for each class according to the estimated areas of the presence and absence classes\n",
        "3. **Automatic: margin of error**: Calculates sample size statistically This has two selection algorithms (see methods appendix at the end for more details in these approaches). *This method is the default option used here.*\n",
        "\n"
      ]
    },
    {
      "cell_type": "code",
      "execution_count": null,
      "metadata": {
        "cellView": "form",
        "id": "AZCBpYfERi7W",
        "tags": []
      },
      "outputs": [],
      "source": [
        "#@title ## (RUN) Draw sample using default MOE approach\n",
        "cfg_inputs = []\n",
        "prompt_list = [\n",
        "    \"1. Enter the desired margin of error (e.g. 0.07): \",\n",
        "    \"2. the desired confidence level (e.g. 0.95): \",\n",
        "    \"3. the minimum sample size per call (e.g. 30): \",\n",
        "    \"4. the anticipated accuracy for each class (absence, presence)\\n\"\\\n",
        "    \"   entered separated by a comma, e.g 0.9, 0.7: \"\n",
        "]\n",
        "for prompt in prompt_list:\n",
        "    cfg_inputs.append(input(prompt))\n",
        "\n",
        "cfg_stehman_foody = {\n",
        "    \"MarginOfError\": float(cfg_inputs[0]),\n",
        "    \"ConfidenceLevel\": float(cfg_inputs[1]),\n",
        "    \"MinimumClassSample\": int(cfg_inputs[2]),\n",
        "    \"anticipatedAcc\": [float(i) for i in cfg_inputs[3].split(\",\")]\n",
        "}\n",
        "\n",
        "strata_df_bincat = automatic_moe(strata_df_bincat, MOE_Algorithm=\"StehmanFoody\",\n",
        "                                 **cfg_stehman_foody)\n",
        "print(strata_df_bincat)"
      ]
    },
    {
      "cell_type": "markdown",
      "metadata": {
        "id": "GwYBqwxejHWx"
      },
      "source": [
        "## Alternative methods (don't run unless needed)"
      ]
    },
    {
      "cell_type": "code",
      "execution_count": null,
      "metadata": {
        "cellView": "form",
        "collapsed": true,
        "id": "BjjoiYcjRi7W",
        "tags": []
      },
      "outputs": [],
      "source": [
        "#@title #### Alternate MOE-approach\n",
        "# Using the Olofsson algorithm\n",
        "cfg_Olofsson = {\"MarginOfError\":0.07,\n",
        "                \"ConfidenceLevel\":0.95,\n",
        "                \"MinimumClassSample\":30,\n",
        "                \"CategoryOfInterest\":1,\n",
        "                \"mappingAcc\":[0.000000001, 0.7]}\n",
        "\n",
        "strata_df_bincat = automatic_moe(strata_df_bincat, MOE_Algorithm=\"Olofsson\",\n",
        "                                 **cfg_Olofsson)\n",
        "print(strata_df_bincat)"
      ]
    },
    {
      "cell_type": "code",
      "execution_count": null,
      "metadata": {
        "cellView": "form",
        "id": "jAbk9Rxhuc-l",
        "tags": []
      },
      "outputs": [],
      "source": [
        "#@title #### Manual method\n",
        "# Arbitary sample size for presence and absence from user input.\n",
        "strata_df_bincat = manual(strata_df_bincat, absenceSamples=1000,\n",
        "                          presenceSamples=1000)\n",
        "print(strata_df_bincat)"
      ]
    },
    {
      "cell_type": "code",
      "execution_count": null,
      "metadata": {
        "cellView": "form",
        "id": "k4XbKAmwRi7V",
        "tags": []
      },
      "outputs": [],
      "source": [
        "#@title ### Automatic required number\n",
        "strata_df_bincat = automatic_requiredNumber(\n",
        "    strata_df_bincat, 1000, 0.6, 1000, 1\n",
        ")\n",
        "print(strata_df_bincat)"
      ]
    },
    {
      "cell_type": "markdown",
      "metadata": {
        "id": "TwlOj4CGanZi"
      },
      "source": [
        "# Step 4. Include Training/Validation requirements\n",
        "\n",
        "Adjust the overall sample size based on training/validation requirement, based on the proportion that the reference sample should represent of the total sample size, anywhere from 1 (the only sample will be the reference sample to 0.01 (the reference sample is only 1% of the total required)."
      ]
    },
    {
      "cell_type": "code",
      "execution_count": null,
      "metadata": {
        "cellView": "form",
        "id": "TVShcjk1anuV",
        "tags": []
      },
      "outputs": [],
      "source": [
        "#@title (RUN) Enter training/validation requirements\n",
        "x = input(f\"Enter the proportion of the total sample \\n\"\\\n",
        "          \"that the reference sample represents, e.g. 0.2: \\n\\n\")\n",
        "if float(x) < 0.01:\n",
        "    print(\"The reference sample has to be at 1% of overall sample. \"\\\n",
        "          \"Please enter another value\\n\")\n",
        "else:\n",
        "    strata_df_bincat['nh_adjusted'] = (strata_df_bincat['nh_adjusted'] / float(x))\\\n",
        "        .astype(int).tolist()\n",
        "\n",
        "    print(\"\\nStrata distribution with updated sample requirements\")\n",
        "    print(strata_df_bincat)"
      ]
    },
    {
      "cell_type": "markdown",
      "metadata": {
        "id": "PqjYjkebV2xC"
      },
      "source": [
        "# Step 5. Distribute the number of sample points among sub-classes\n",
        "\n",
        "This step distributes the absence and presence samples among sub-categories, based on a set of weights applied to the different absence and presence sample categories, which determine how much of the total sample size in each group get allocated to the different strata representing each group. For example, in the example we are running here, the presence category has two strata representing it. Two proportions will be given, one for each stratum, representing what percent of the adjusted presence sample is collected from each stratum.\n"
      ]
    },
    {
      "cell_type": "code",
      "execution_count": null,
      "metadata": {
        "cellView": "form",
        "id": "MxmHtOQgGEsl"
      },
      "outputs": [],
      "source": [
        "#@title (RUN) Enter proportions for each class's sub-strata\n",
        "\n",
        "awts = None\n",
        "pwts = None\n",
        "\n",
        "def validate_proportions(prompt, num_strata):\n",
        "    while True:\n",
        "        prop_input = input(prompt)\n",
        "        prop_list = [float(p) for p in prop_input.split(\",\")]\n",
        "\n",
        "        if len(prop_list) == num_strata and sum(prop_list) == 1:\n",
        "            return prop_list\n",
        "        else:\n",
        "            print(f\"Please enter {num_strata} proportions that sum to 1.\")\n",
        "\n",
        "if num_strata_absence > 1:\n",
        "    pstr = f\"Enter a proportion for each of the {num_strata_absence} \\n\"\\\n",
        "        \"**absence** strata, separated by a comma, that sum to 1): \"\n",
        "else:\n",
        "    pstr = f\"There is just 1 absence stratum, so enter 1: \"\n",
        "\n",
        "awts = validate_proportions(pstr, num_strata_absence)\n",
        "\n",
        "if num_strata_presence > 1:\n",
        "    pstr = f\"Enter a proportion for each of the {num_strata_presence} \\n\"\\\n",
        "        \"**presence** strata, separated by a comma, that sum to 1): \"\n",
        "else:\n",
        "    pstr = f\"There is just 1 presence stratum, so enter 1: \"\n",
        "pwts = validate_proportions(pstr, num_strata_presence)\n",
        "\n",
        "strata_df_mltcat = distribute_sample(\n",
        "    strata_df_bincat, strata_df_mltcat, absence_cats, presence_cats,\n",
        "    absenceSampleWeights=awts, presenceSampleWeights=pwts\n",
        ")\n",
        "\n",
        "# # Added discarded classes back for the sample because the GEE stratifiedSample()\n",
        "# # function requires an explicit specification of 0 for categories that are not\n",
        "# # of interest.\n",
        "strata_df_mltcat = unwant_cat_samples_zero(strata_df_mltcat)\n",
        "\n",
        "strata_df_mltcat = strata_df_mltcat.dropna()\n",
        "\n",
        "print(strata_df_mltcat)"
      ]
    },
    {
      "cell_type": "markdown",
      "metadata": {
        "id": "YZptES1XOBFH"
      },
      "source": [
        "# Step 6. Perform Sampling in GEE\n",
        "\n",
        "This code uses the GEE API to calculate the location of all sample points, and then displays them on a map. Presence samples in <font color='red'>**red**</font> and absence samples in <font color='blue'>**blue**</font>."
      ]
    },
    {
      "cell_type": "code",
      "execution_count": null,
      "metadata": {
        "cellView": "form",
        "id": "Nc9HgjRwttYj",
        "tags": []
      },
      "outputs": [],
      "source": [
        "#@title (RUN) Draw and display sample\n",
        "seed = 9999\n",
        "\n",
        "# numPoints=10 is a placeholder specification. It will be overwritten by\n",
        "# classPoints, which contains the sample size for sampling.\n",
        "samples = strata.stratifiedSample(\n",
        "    numPoints=10,\n",
        "    classBand=misc['classBand'],\n",
        "    projection='EPSG:3857',\n",
        "    classValues=ee.List(strata_df_mltcat['Cat'].tolist()),\n",
        "    classPoints=ee.List(strata_df_mltcat['nh_final'].tolist()),\n",
        "    geometries=True,\n",
        "    scale=30,\n",
        "    seed=seed,\n",
        "    tileScale=1\n",
        ")\n",
        "\n",
        "\n",
        "# Iterates through each class of the original strata layer and print the number\n",
        "# of points per class. Note that if a category does not have enough pixels to\n",
        "# meet the sample size requirements, then there may be fewer sample points for\n",
        "# this category\n",
        "samples_presence = samples.filter(\n",
        "    ee.Filter.inList(misc['classBand'], presence_cats)\n",
        ")\n",
        "samples_absence = samples.filter(\n",
        "    ee.Filter.inList(misc['classBand'], absence_cats)\n",
        ")\n",
        "\n",
        "# Get a list of feature dictionaries with lat and lon properties, initial write\n",
        "# to csv\n",
        "samples_df = sampleFC_to_csv(samples)\n",
        "timestamp = dt.now().strftime(\"%Y_%m_%d_%H%M%S\")\n",
        "\n",
        "display_samples(strata, misc, samples_presence, samples_absence)"
      ]
    },
    {
      "cell_type": "markdown",
      "metadata": {
        "id": "8I_Fr0L5AFmu"
      },
      "source": [
        "# Step 7. Export samples for CollectEarth project\n",
        "\n",
        "This code exports the sample points to your Google Drive folder. The points are exported as a CSV file to a folder and name you specify\n",
        "\n"
      ]
    },
    {
      "cell_type": "code",
      "execution_count": null,
      "metadata": {
        "cellView": "form",
        "id": "E1Uus0jdObdh"
      },
      "outputs": [],
      "source": [
        "#@title (RUN) Export your points\n",
        "gdrive_folder = input(f\"Enter the name of the output folder: \\n\\n\")\n",
        "csv_name = input(f\"Enter the name of the output csv file: \\n\\n\")\n",
        "\n",
        "outpath = f\"{root}/MyDrive/{gdrive_folder}\"\n",
        "if not os.path.exists(outpath):\n",
        "    print(f\"Creating output folder {gdrive_folder}\")\n",
        "    os.makedirs(outpath, exist_ok=True)\n",
        "\n",
        "samples_df = samples_df.sample(frac=1, random_state=7, ignore_index=True)\n",
        "samples_df[\"PLOTID\"] = [i for i in range(len(samples_df))]\n",
        "samples_df[[\"PLOTID\", \"LAT\", \"LON\", \"STRATA_CAT\"]]\\\n",
        "    .to_csv(f\"{outpath}/{csv_name}\", index=False)\n",
        "\n",
        "print(f\"{outpath}/{csv_name} is written and complete!\")\n"
      ]
    }
  ],
  "metadata": {
    "colab": {
      "collapsed_sections": [
        "06irlAm55TrB"
      ],
      "provenance": [],
      "toc_visible": true,
      "include_colab_link": true
    },
    "kernelspec": {
      "display_name": "Python 3",
      "name": "python3"
    },
    "language_info": {
      "name": "python"
    }
  },
  "nbformat": 4,
  "nbformat_minor": 0
}