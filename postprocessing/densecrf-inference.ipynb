{
 "cells": [
  {
   "cell_type": "markdown",
   "id": "4a8f3976",
   "metadata": {},
   "source": [
    "# DenseCRF Inference\n",
    "\n",
    "This notebook will post-process the output of a per-pixel classifier to improve object boundaries.\n",
    "\n",
    "It uses the hyperparameters that were found through hyperparameter tuning in a separate notebook."
   ]
  },
  {
   "cell_type": "code",
   "execution_count": null,
   "id": "2c54ad70",
   "metadata": {},
   "outputs": [],
   "source": [
    "IMAGE_PATH = 'para_condensed_stacks_2020_h7v3.tif' # path to input raster\n",
    "MODEL_PATH = 'para_model_2020_h7v3.tif'            # path to GLM output\n",
    "\n",
    "PARAMS_PATH = 'params.yaml'                        # path to file containing hyperparameters\n",
    "\n",
    "OUTPUT_PATH = 'para_densecrf_2020_h7v3.tif'        # output path "
   ]
  },
  {
   "cell_type": "markdown",
   "id": "bb9c8733",
   "metadata": {},
   "source": [
    "### Import necessary packages"
   ]
  },
  {
   "cell_type": "code",
   "execution_count": null,
   "id": "0a3fe7c9",
   "metadata": {},
   "outputs": [],
   "source": [
    "import pandas as pd\n",
    "import rasterio\n",
    "import numpy as np\n",
    "import matplotlib.pyplot as plt\n",
    "import pydensecrf.densecrf as dcrf\n",
    "from pydensecrf.utils import unary_from_softmax, create_pairwise_bilateral, create_pairwise_gaussian\n",
    "from tqdm import trange\n",
    "import yaml\n",
    "import cv2"
   ]
  },
  {
   "cell_type": "markdown",
   "id": "2885c07c",
   "metadata": {},
   "source": [
    "### Load hyperparameters"
   ]
  },
  {
   "cell_type": "code",
   "execution_count": null,
   "id": "5016ef16",
   "metadata": {},
   "outputs": [],
   "source": [
    "with open(PARAMS_PATH,'r') as f:\n",
    "    params = yaml.safe_load(f)"
   ]
  },
  {
   "cell_type": "code",
   "execution_count": null,
   "id": "78917efe",
   "metadata": {},
   "outputs": [],
   "source": [
    "params"
   ]
  },
  {
   "cell_type": "markdown",
   "id": "7c50ac77",
   "metadata": {},
   "source": [
    "### Read input and model rasters"
   ]
  },
  {
   "cell_type": "code",
   "execution_count": null,
   "id": "58cab223",
   "metadata": {},
   "outputs": [],
   "source": [
    "with rasterio.open(IMAGE_PATH,'r') as f:\n",
    "    whole_image = f.read().transpose([1,2,0])"
   ]
  },
  {
   "cell_type": "code",
   "execution_count": null,
   "id": "3f0616bb",
   "metadata": {},
   "outputs": [],
   "source": [
    "whole_image.shape"
   ]
  },
  {
   "cell_type": "code",
   "execution_count": null,
   "id": "6e5d9089",
   "metadata": {},
   "outputs": [],
   "source": [
    "with rasterio.open(MODEL_PATH,'r') as f:\n",
    "    meta = f.meta\n",
    "    whole_probs = np.squeeze(f.read().transpose([1,2,0]))\n",
    "    whole_probs[np.isnan(whole_probs)] = 0"
   ]
  },
  {
   "cell_type": "code",
   "execution_count": null,
   "id": "99232723",
   "metadata": {},
   "outputs": [],
   "source": [
    "whole_probs.shape"
   ]
  },
  {
   "cell_type": "markdown",
   "id": "1ebf60a5",
   "metadata": {},
   "source": [
    "### Run DenseCRF inference"
   ]
  },
  {
   "cell_type": "code",
   "execution_count": null,
   "id": "1a8e4d4c",
   "metadata": {},
   "outputs": [],
   "source": [
    "def run_crf(image, probs, num_iter=5,\n",
    "            gaussian_sdim=3, gaussian_compat=3, \n",
    "            bilateral_sdim=80,\n",
    "            bilateral_schan1=13, bilateral_schan2=13, bilateral_schan3=13, bilateral_schan4=13, bilateral_schan5=13,\n",
    "            bilateral_compat=10,\n",
    "           *args, **kwargs):\n",
    "    U = unary_from_softmax(np.stack([1-probs,probs],axis=0))\n",
    "    pairwise_gaussian = create_pairwise_gaussian(sdims=[gaussian_sdim]*2, shape=image.shape[:2])\n",
    "    pairwise_bilateral = create_pairwise_bilateral(sdims=[bilateral_sdim]*2, schan=[bilateral_schan1,bilateral_schan2,bilateral_schan3,bilateral_schan4,bilateral_schan5], img=image, chdim=2)\n",
    "    d = dcrf.DenseCRF2D(image.shape[1], image.shape[0], 2)\n",
    "    d.setUnaryEnergy(U)\n",
    "    d.addPairwiseEnergy(pairwise_gaussian, compat=gaussian_compat, kernel=dcrf.DIAG_KERNEL, normalization=dcrf.NORMALIZE_SYMMETRIC)\n",
    "    d.addPairwiseEnergy(pairwise_bilateral, compat=bilateral_compat, kernel=dcrf.DIAG_KERNEL, normalization=dcrf.NORMALIZE_SYMMETRIC)\n",
    "    Q, tmp1, tmp2 = d.startInference()\n",
    "    for _ in trange(num_iter):\n",
    "        d.stepInference(Q, tmp1, tmp2)\n",
    "    soln = np.argmax(Q, axis=0).reshape(image.shape[:2])\n",
    "    return soln\n"
   ]
  },
  {
   "cell_type": "code",
   "execution_count": null,
   "id": "1481eeb6",
   "metadata": {},
   "outputs": [],
   "source": [
    "whole_soln = run_crf(whole_image, whole_probs, **params)"
   ]
  },
  {
   "cell_type": "markdown",
   "id": "9f5a4959",
   "metadata": {},
   "source": [
    "### Filter connected components by minimum connected component size"
   ]
  },
  {
   "cell_type": "code",
   "execution_count": null,
   "id": "009e4a46",
   "metadata": {},
   "outputs": [],
   "source": [
    "def filter_by_min_size(soln, min_size):\n",
    "    nb_components, output, stats, centroids = cv2.connectedComponentsWithStats(soln.astype('uint8'), connectivity=8)\n",
    "    sizes = stats[1:, -1]\n",
    "    nb_components = nb_components - 1\n",
    "    \n",
    "    soln_filtered = np.zeros_like(soln)\n",
    "    for i in range(nb_components):\n",
    "        if sizes[i] >= min_size:\n",
    "            soln_filtered[output == i + 1] = 1\n",
    "    \n",
    "    return soln_filtered"
   ]
  },
  {
   "cell_type": "code",
   "execution_count": null,
   "id": "69e79549",
   "metadata": {},
   "outputs": [],
   "source": [
    "whole_soln_filtered = filter_by_min_size(whole_soln,params['min_size'])"
   ]
  },
  {
   "cell_type": "markdown",
   "id": "1cc25504",
   "metadata": {},
   "source": [
    "### Write out result raster"
   ]
  },
  {
   "cell_type": "code",
   "execution_count": null,
   "id": "f034f393",
   "metadata": {},
   "outputs": [],
   "source": [
    "with rasterio.open(OUTPUT_PATH,'w',**meta) as f:\n",
    "    f.write(whole_soln_filtered,1)"
   ]
  }
 ],
 "metadata": {
  "kernelspec": {
   "display_name": "Python 3 (ipykernel)",
   "language": "python",
   "name": "python3"
  },
  "language_info": {
   "codemirror_mode": {
    "name": "ipython",
    "version": 3
   },
   "file_extension": ".py",
   "mimetype": "text/x-python",
   "name": "python",
   "nbconvert_exporter": "python",
   "pygments_lexer": "ipython3",
   "version": "3.9.7"
  }
 },
 "nbformat": 4,
 "nbformat_minor": 5
}
