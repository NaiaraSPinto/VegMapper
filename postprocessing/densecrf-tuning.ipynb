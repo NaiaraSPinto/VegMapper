{
 "cells": [
  {
   "cell_type": "markdown",
   "id": "10f3ffd6",
   "metadata": {},
   "source": [
    "# DenseCRF Hyperparameter Tuning\n",
    "\n",
    "This notebook tunes the hyperparameters of the DenseCRF by comparing to a ground truth raster."
   ]
  },
  {
   "cell_type": "code",
   "execution_count": null,
   "id": "a0d99ae8",
   "metadata": {},
   "outputs": [],
   "source": [
    "# Paths to the input raster, GLM model output, and ground truth labels.\n",
    "IMAGE_PATH = 'para_condensed_stacks_2020_h7v3_crop.tif' # path to input raster\n",
    "MODEL_PATH = 'para_model_2020_h7v3_crop.tif'            # path to GLM raster output (float32, [0 1] range)\n",
    "GROUNDTRUTH_PATH = 'para_gt_2020_h7v3_crop.tif'         # path to ground truth label raster (0 or 1)\n",
    "\n",
    "# Number of internal iterations for DenseCRF.  Higher is better but slower.\n",
    "CRF_ITER = 5\n",
    "\n",
    "# Maximum number of iterations for hyperparameter search.  Higher is better but slower.\n",
    "MAX_ITER = 100\n",
    "\n",
    "# Output path for DenseCRF hyperparamters.\n",
    "PARAMS_PATH = 'params.yml'"
   ]
  },
  {
   "cell_type": "markdown",
   "id": "81f5bba5",
   "metadata": {},
   "source": [
    "### Import necessary packages"
   ]
  },
  {
   "cell_type": "code",
   "execution_count": null,
   "id": "4a92cfa0",
   "metadata": {},
   "outputs": [],
   "source": [
    "import pandas as pd\n",
    "import rasterio\n",
    "import numpy as np\n",
    "import matplotlib.pyplot as plt\n",
    "import pydensecrf.densecrf as dcrf\n",
    "from pydensecrf.utils import unary_from_softmax, create_pairwise_bilateral, create_pairwise_gaussian\n",
    "from tqdm import trange\n",
    "from sklearn.metrics import f1_score\n",
    "\n",
    "import cv2\n",
    "\n",
    "from hyperopt import hp, fmin, tpe, Trials"
   ]
  },
  {
   "cell_type": "markdown",
   "id": "b8a367aa",
   "metadata": {},
   "source": [
    "### Load rasters"
   ]
  },
  {
   "cell_type": "code",
   "execution_count": null,
   "id": "67ee7b96",
   "metadata": {},
   "outputs": [],
   "source": [
    "with rasterio.open(IMAGE_PATH,'r') as f:\n",
    "    meta = f.meta\n",
    "    image = f.read().transpose([1,2,0])\n",
    "    if image.shape[-1] > 4: image = image[...,:4]\n",
    "H,W = image.shape[:2]"
   ]
  },
  {
   "cell_type": "code",
   "execution_count": null,
   "id": "2907c68c",
   "metadata": {},
   "outputs": [],
   "source": [
    "with rasterio.open(MODEL_PATH,'r') as f:\n",
    "    probs = np.squeeze(f.read().transpose([1,2,0]))\n",
    "    probs = probs.astype('float32')\n",
    "    probs[np.isnan(probs)] = 0\n",
    "    \n",
    "    # The probabilities should be between 0 and 1.\n",
    "    assert(np.min(probs)>=0)\n",
    "    assert(np.max(probs)<=1)"
   ]
  },
  {
   "cell_type": "code",
   "execution_count": null,
   "id": "9c07ff33",
   "metadata": {},
   "outputs": [],
   "source": [
    "with rasterio.open(GROUNDTRUTH_PATH,'r') as f:\n",
    "    gt = np.squeeze(f.read().transpose([1,2,0]))"
   ]
  },
  {
   "cell_type": "code",
   "execution_count": null,
   "id": "5e292fd9",
   "metadata": {},
   "outputs": [],
   "source": [
    "print('image:',image.shape,image.dtype)"
   ]
  },
  {
   "cell_type": "code",
   "execution_count": null,
   "id": "18f967f6",
   "metadata": {},
   "outputs": [],
   "source": [
    "print('probs:',probs.shape,probs.dtype)"
   ]
  },
  {
   "cell_type": "code",
   "execution_count": null,
   "id": "e67a6e9e",
   "metadata": {},
   "outputs": [],
   "source": [
    "print('gt:',gt.shape,gt.dtype)"
   ]
  },
  {
   "cell_type": "markdown",
   "id": "24b9e831",
   "metadata": {},
   "source": [
    "### Hyperparameter tuning"
   ]
  },
  {
   "cell_type": "code",
   "execution_count": null,
   "id": "d5e8749f",
   "metadata": {},
   "outputs": [],
   "source": [
    "def run_crf(image, probs, num_iter=5,\n",
    "            gaussian_sdim=3, gaussian_compat=3, \n",
    "            bilateral_sdim=80,\n",
    "            bilateral_schan1=13, bilateral_schan2=13, bilateral_schan3=13, bilateral_schan4=13,\n",
    "            bilateral_compat=10,\n",
    "           *args, **kwargs):\n",
    "    U = unary_from_softmax(np.stack([1-probs,probs],axis=0))\n",
    "    pairwise_gaussian = create_pairwise_gaussian(sdims=[gaussian_sdim]*2, shape=image.shape[:2])\n",
    "    pairwise_bilateral = create_pairwise_bilateral(sdims=[bilateral_sdim]*2, schan=[bilateral_schan1,bilateral_schan2,bilateral_schan3,bilateral_schan4], img=image, chdim=2)\n",
    "    d = dcrf.DenseCRF2D(image.shape[1], image.shape[0], 2)\n",
    "    d.setUnaryEnergy(U)\n",
    "    d.addPairwiseEnergy(pairwise_gaussian, compat=gaussian_compat, kernel=dcrf.DIAG_KERNEL, normalization=dcrf.NORMALIZE_SYMMETRIC)\n",
    "    d.addPairwiseEnergy(pairwise_bilateral, compat=bilateral_compat, kernel=dcrf.DIAG_KERNEL, normalization=dcrf.NORMALIZE_SYMMETRIC)\n",
    "    Q, tmp1, tmp2 = d.startInference()\n",
    "    for _ in trange(num_iter):\n",
    "        d.stepInference(Q, tmp1, tmp2)\n",
    "    soln = np.argmax(Q, axis=0).reshape(image.shape[:2])\n",
    "    return soln"
   ]
  },
  {
   "cell_type": "code",
   "execution_count": null,
   "id": "642b9af8",
   "metadata": {},
   "outputs": [],
   "source": [
    "space = hp.choice('a',[{\n",
    "    'bilateral_sdim':hp.uniform('bilateral_sdim',1,100),\n",
    "    'bilateral_schan1':hp.uniform('bilateral_schan1',1,100),\n",
    "    'bilateral_schan2':hp.uniform('bilateral_schan2',1,100),\n",
    "    'bilateral_schan3':hp.uniform('bilateral_schan3',1,100),\n",
    "    'bilateral_schan4':hp.uniform('bilateral_schan4',1,100)\n",
    "}])\n",
    "\n",
    "def run_hyperopt_search(image,probs,gt,space):\n",
    "    trials = Trials()\n",
    "\n",
    "    def objective(params):\n",
    "        print(params)\n",
    "        soln = run_crf(image, probs, num_iter=CRF_ITER, **params)\n",
    "        score = f1_score(gt.flatten(),soln.flatten())\n",
    "        return 1-score\n",
    "        \n",
    "    best = fmin(objective, space, algo=tpe.suggest, max_evals=MAX_ITER, trials=trials)\n",
    "\n",
    "    return best"
   ]
  },
  {
   "cell_type": "code",
   "execution_count": null,
   "id": "e0b675ed",
   "metadata": {},
   "outputs": [],
   "source": [
    "best_params = run_hyperopt_search(image,probs,gt,space)"
   ]
  },
  {
   "cell_type": "code",
   "execution_count": null,
   "id": "7b4dd884",
   "metadata": {},
   "outputs": [],
   "source": [
    "best_params"
   ]
  },
  {
   "cell_type": "markdown",
   "id": "9fea5a26",
   "metadata": {},
   "source": [
    "### Selection by connected component size\n",
    "This will find the size of the smallest connected component in the ground truth raster.  Any predicted connected component smaller than this will be removed."
   ]
  },
  {
   "cell_type": "code",
   "execution_count": null,
   "id": "29e3cf42",
   "metadata": {},
   "outputs": [],
   "source": [
    "nb_components, output, stats, centroids = cv2.connectedComponentsWithStats(gt.astype('uint8'), connectivity=8)\n",
    "sizes = stats[1:, -1]; nb_components = nb_components - 1\n",
    "min_size = np.min(sizes)"
   ]
  },
  {
   "cell_type": "markdown",
   "id": "dfeedd0c",
   "metadata": {},
   "source": [
    "### Saving hyperparameters to file"
   ]
  },
  {
   "cell_type": "code",
   "execution_count": null,
   "id": "923c414f",
   "metadata": {},
   "outputs": [],
   "source": [
    "params = {\n",
    "    'bilateral_schan1':float(best_params['bilateral_schan1']),\n",
    "    'bilateral_schan2':float(best_params['bilateral_schan2']),\n",
    "    'bilateral_schan3':float(best_params['bilateral_schan3']),\n",
    "    'bilateral_schan4':float(best_params['bilateral_schan4']),\n",
    "    'bilateral_sdim':float(best_params['bilateral_sdim']),\n",
    "    'min_size':int(min_size)\n",
    "}"
   ]
  },
  {
   "cell_type": "code",
   "execution_count": null,
   "id": "bcd5e7a5",
   "metadata": {},
   "outputs": [],
   "source": [
    "params"
   ]
  },
  {
   "cell_type": "code",
   "execution_count": null,
   "id": "33a2ede3",
   "metadata": {},
   "outputs": [],
   "source": [
    "import yaml\n",
    "with open(PARAMS_PATH,'w') as f:\n",
    "    f.write(yaml.dump(params))"
   ]
  }
 ],
 "metadata": {
  "kernelspec": {
   "display_name": "Python 3 (ipykernel)",
   "language": "python",
   "name": "python3"
  },
  "language_info": {
   "codemirror_mode": {
    "name": "ipython",
    "version": 3
   },
   "file_extension": ".py",
   "mimetype": "text/x-python",
   "name": "python",
   "nbconvert_exporter": "python",
   "pygments_lexer": "ipython3",
   "version": "3.9.7"
  }
 },
 "nbformat": 4,
 "nbformat_minor": 5
}
