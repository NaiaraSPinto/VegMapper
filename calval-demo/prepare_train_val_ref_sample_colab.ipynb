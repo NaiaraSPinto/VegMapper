{
  "cells": [
    {
      "cell_type": "markdown",
      "metadata": {
        "id": "view-in-github",
        "colab_type": "text"
      },
      "source": [
        "<a href=\"https://colab.research.google.com/github/agroimpacts/VegMapper/blob/devel-calval/prepare_train_val_ref_sample_colab.ipynb\" target=\"_parent\"><img src=\"https://colab.research.google.com/assets/colab-badge.svg\" alt=\"Open In Colab\"/></a>"
      ]
    },
    {
      "cell_type": "markdown",
      "id": "3c515862",
      "metadata": {
        "id": "3c515862"
      },
      "source": [
        "# Creating a single training/validation/test set from multiple Collect Earth projects\n",
        "\n",
        " "
      ]
    },
    {
      "cell_type": "markdown",
      "id": "0c59e929",
      "metadata": {
        "id": "0c59e929"
      },
      "source": [
        "### Table of Contents\n",
        "\n",
        "* [Overview](#overview)\n",
        "* [Set-up](#setup)\n",
        "* [Sample preparation](#sample-prep)\n",
        "    * [Read-in, reshape, and recode](#reshape-recode) \n",
        "    * [Simplify the classes](#simplify)\n",
        "    * [Calculate sample agreement](#agreement)\n",
        "* [Split the dataset](#split)\n",
        "    * [Combine and convert to spatial](#combine)\n",
        "* [Key to variable names](#key)\n"
      ]
    },
    {
      "cell_type": "markdown",
      "id": "af718f4a",
      "metadata": {
        "id": "af718f4a"
      },
      "source": [
        "## Overview <a class=\"anchor\" id=\"overview\"></a>\n",
        "This notebook demonstrates how several Collect Earth Online projects can be:\n",
        "\n",
        "1. Recoded and reshaped into a structure more tractable for modeling; \n",
        "2. Merged into a single dataset that provide a single label for each sample point and an estimate of label uncertainty;\n",
        "3. Split into training, validation, and test (or map reference) samples. \n",
        "\n",
        "The data used in this demonstration are the results of three Collect Earth Online projects that were captured over the Department of Ucayali, Peru. Each project represents the efforts of an individual (or group of individuals working in the same project) to label 1350 points, classifying each into 1 of 4 classes: not oil palm; young oil palm; mature oil palm;  unsure. The datasets preserve all the information from these projects, although user email addresses were anonymized."
      ]
    },
    {
      "cell_type": "markdown",
      "id": "f26a8bcc",
      "metadata": {
        "id": "f26a8bcc"
      },
      "source": [
        "## Set-up <a class=\"anchor\" id=\"setup\"></a>\n",
        "\n",
        "This notebook uses an `R` kernel, which was set up in a `conda` environment using the following commands to set up and activate the environment:\n",
        "\n",
        "```bash\n",
        "(base) % conda create -n r_env r-essentials r-base\n",
        "(base) % conda activate r_env\n",
        "```\n",
        "\n",
        "The necessary `R` packages were then installed as follows:\n",
        "```bash\n",
        "(r_env) % conda install -c conda-forge r-sf\n",
        "(r_env) % install -c r r-catools\n",
        "(r_env) % install -c conda-forge r-raster\n",
        "(r_env) % install -c conda-forge r-geojsonio\n",
        "```"
      ]
    },
    {
      "cell_type": "markdown",
      "id": "34e56ab0",
      "metadata": {
        "id": "34e56ab0"
      },
      "source": [
        "## Sample preparation <a class=\"anchor\" id=\"sample-prep\"></a>\n",
        "Load packages with messages suppressed."
      ]
    },
    {
      "cell_type": "code",
      "execution_count": null,
      "id": "0968b28e",
      "metadata": {
        "scrolled": false,
        "id": "0968b28e"
      },
      "outputs": [],
      "source": [
        "import_library = function(lib_name){\n",
        "    suppressWarnings(suppressMessages(require(lib_name, character.only = TRUE)))\n",
        "}\n",
        "\n",
        "import_library('dplyr')\n",
        "import_library('sf')\n",
        "import_library('caTools')\n",
        "import_library('ggplot2')\n",
        "import_library('raster')\n",
        "\n",
        "\n",
        "print('break')\n",
        "install.packages('raster')"
      ]
    },
    {
      "cell_type": "markdown",
      "id": "e9c30ad5",
      "metadata": {
        "id": "e9c30ad5"
      },
      "source": [
        "### Read-in, reshape, and recode classes <a class=\"anchor\" id=\"reshape-recode\"></a>\n",
        "The first step was to combine the three datasets into a single dataset, with the columns from each of the three CEO projects, and to recode the four classes into a single column with values 0 (not oil palm),  1 (young oil palm), 2 (mature oil palm), 3 (unsure). At this step, we end up with 3 columns, 1 per completed CEO project: `cl1` = samples from project 1, `cl2` = samples from project 2, `cl3` = samples from project 3. Each column contains the recoded classes (note the renaming of the columns is done in the next code chunk). "
      ]
    },
    {
      "cell_type": "code",
      "execution_count": null,
      "id": "cdef757d",
      "metadata": {
        "id": "cdef757d"
      },
      "outputs": [],
      "source": [
        "## need to import these survey files first (to Files on left)\n",
        "fs <- c(\"/ceo-survey-user1.csv\",\n",
        "        \"/ceo-survey-user2.csv\",\n",
        "        \"/ceo-survey-user3.csv\")\n",
        "print(\"fs\")\n",
        "print(fs) \n",
        "\n",
        "\n",
        "# read datasets into list, keep the most important columns, and do some renaming\n",
        "data_list <- lapply(fs, function(x) {\n",
        "  dat <- readr::read_csv(x, col_types = readr::cols()) %>% \n",
        "    select(pl_plotid, pl_cluster, email, center_lon, center_lat, \n",
        "           contains(\"Oil\")) %>% \n",
        "    rename(x = center_lon, y = center_lat, clust = pl_cluster) %>% \n",
        "    rename_at(vars(contains(\"Oil\")), list(~gsub(\"Oil Palm|\\\\?\\\\:| \",\"\", .))) %>% \n",
        "    mutate(class = case_when(\n",
        "      Young == 100 ~ 1, \n",
        "      Mature == 100 ~ 2,\n",
        "      Not == 100 ~ 0, \n",
        "      NotSure == 100 ~ 3\n",
        "    )) %>% \n",
        "    rename(id = pl_plotid) %>% \n",
        "    select(id, clust, class)\n",
        "})\n",
        "\n",
        "# combine into single dataset, conttains just the plot id, the stratum (clust), \n",
        "# and the recoded classification columns from each input\n",
        "sample_combined <- purrr::reduce(data_list, left_join, by = c(\"id\", \"clust\"))\n",
        "nms <- names(sample_combined)\n",
        "nms[grep(\"class\", nms)] <- paste0(\"cl\", 1:length(grep(\"class\", nms)))\n",
        "names(sample_combined) <- nms\n",
        "\n",
        "head(sample_combined)"
      ]
    },
    {
      "cell_type": "markdown",
      "id": "8dbbf0f2",
      "metadata": {
        "id": "8dbbf0f2"
      },
      "source": [
        "### Simplify the classes <a class=\"anchor\" id=\"simplify\"></a>\n",
        "\n",
        "In this step, a single classification is created by finding the modal class for each sample point across the 3 groups' results. This creates a new `class` column, which provides the class from the majority opinion. \n",
        "\n",
        "We repeat this same step again after first collapsing, within each of the `cl1:cl3` columns, the two oil palm classes into a single *oil palm* class with value = 1--*not oil palm* remains 0, and *unsure* remains 3. The modal function was re-run to create a new consensus class, called `class2`. We recommend that `class2` be used for modelling, while `class` may be useful for understanding error patterns. "
      ]
    },
    {
      "cell_type": "code",
      "execution_count": null,
      "id": "e983f7a4",
      "metadata": {
        "id": "e983f7a4"
      },
      "outputs": [],
      "source": [
        "# reshape and assign class as most frequently occurring value\n",
        "\n",
        "# need to check nas for 'modal'\n",
        "\n",
        "modal <- function(x) {\n",
        "  ux <- unique(x)\n",
        "  ux[which.max(tabulate(match(x, ux)))]\n",
        "}\n",
        "\n",
        "\n",
        "\n",
        "op_reclass <- function(x) {\n",
        "  modal(ifelse(x %in% 1:2, 1, x))\n",
        "}\n",
        "samples_red <- sample_combined %>% \n",
        "  rowwise() %>% \n",
        "  mutate(class = modal(c_across(cl1:cl3))) %>% \n",
        "  mutate(class2 = op_reclass(c_across(cl1:cl3))) %>% \n",
        "  select(id, clust, class, class2, cl1, cl2, cl3) %>% \n",
        "  ungroup()\n",
        "\n",
        "write.csv(samples_red, 'test_samples_red.csv')\n"
      ]
    },
    {
      "cell_type": "markdown",
      "id": "94baf77b",
      "metadata": {
        "id": "94baf77b"
      },
      "source": [
        "### Calculate sample agreement <a class=\"anchor\" id=\"agreement\"></a>\n",
        "The next step was to calculate some agreement metrics across the three groups' samples. The primary approach was to calculate the proportion of labelling teams that selected the modal class. Since there were just three teams in this example, values were either 0.333, 0.667, 1. This agreement was calculated across for both the original classification scheme (class: 0-3) and the simplifed scheme (), with columns `agree` and `agree2` providing the respective proportions for each observation. "
      ]
    },
    {
      "cell_type": "code",
      "execution_count": 35,
      "id": "5a845bbb",
      "metadata": {
        "colab": {
          "base_uri": "https://localhost:8080/",
          "height": 286
        },
        "id": "5a845bbb",
        "outputId": "d6b85f0d-edbe-485a-be14-b8582865fcf4"
      },
      "outputs": [
        {
          "output_type": "display_data",
          "data": {
            "text/html": [
              "<table class=\"dataframe\">\n",
              "<caption>A tibble: 6 × 9</caption>\n",
              "<thead>\n",
              "\t<tr><th scope=col>id</th><th scope=col>clust</th><th scope=col>class</th><th scope=col>agree</th><th scope=col>class2</th><th scope=col>agree2</th><th scope=col>cl1</th><th scope=col>cl2</th><th scope=col>cl3</th></tr>\n",
              "\t<tr><th scope=col>&lt;dbl&gt;</th><th scope=col>&lt;dbl&gt;</th><th scope=col>&lt;dbl&gt;</th><th scope=col>&lt;dbl&gt;</th><th scope=col>&lt;dbl&gt;</th><th scope=col>&lt;dbl&gt;</th><th scope=col>&lt;dbl&gt;</th><th scope=col>&lt;dbl&gt;</th><th scope=col>&lt;dbl&gt;</th></tr>\n",
              "</thead>\n",
              "<tbody>\n",
              "\t<tr><td>1</td><td>1</td><td>2</td><td>1.0000000</td><td>1</td><td>1</td><td>2</td><td>2</td><td>NA</td></tr>\n",
              "\t<tr><td>2</td><td>1</td><td>0</td><td>1.0000000</td><td>0</td><td>1</td><td>0</td><td>0</td><td> 0</td></tr>\n",
              "\t<tr><td>3</td><td>0</td><td>0</td><td>1.0000000</td><td>0</td><td>1</td><td>0</td><td>0</td><td> 0</td></tr>\n",
              "\t<tr><td>4</td><td>1</td><td>2</td><td>0.6666667</td><td>1</td><td>1</td><td>2</td><td>2</td><td> 1</td></tr>\n",
              "\t<tr><td>5</td><td>0</td><td>0</td><td>1.0000000</td><td>0</td><td>1</td><td>0</td><td>0</td><td> 0</td></tr>\n",
              "\t<tr><td>6</td><td>0</td><td>0</td><td>1.0000000</td><td>0</td><td>1</td><td>0</td><td>0</td><td> 0</td></tr>\n",
              "</tbody>\n",
              "</table>\n"
            ],
            "text/markdown": "\nA tibble: 6 × 9\n\n| id &lt;dbl&gt; | clust &lt;dbl&gt; | class &lt;dbl&gt; | agree &lt;dbl&gt; | class2 &lt;dbl&gt; | agree2 &lt;dbl&gt; | cl1 &lt;dbl&gt; | cl2 &lt;dbl&gt; | cl3 &lt;dbl&gt; |\n|---|---|---|---|---|---|---|---|---|\n| 1 | 1 | 2 | 1.0000000 | 1 | 1 | 2 | 2 | NA |\n| 2 | 1 | 0 | 1.0000000 | 0 | 1 | 0 | 0 |  0 |\n| 3 | 0 | 0 | 1.0000000 | 0 | 1 | 0 | 0 |  0 |\n| 4 | 1 | 2 | 0.6666667 | 1 | 1 | 2 | 2 |  1 |\n| 5 | 0 | 0 | 1.0000000 | 0 | 1 | 0 | 0 |  0 |\n| 6 | 0 | 0 | 1.0000000 | 0 | 1 | 0 | 0 |  0 |\n\n",
            "text/latex": "A tibble: 6 × 9\n\\begin{tabular}{lllllllll}\n id & clust & class & agree & class2 & agree2 & cl1 & cl2 & cl3\\\\\n <dbl> & <dbl> & <dbl> & <dbl> & <dbl> & <dbl> & <dbl> & <dbl> & <dbl>\\\\\n\\hline\n\t 1 & 1 & 2 & 1.0000000 & 1 & 1 & 2 & 2 & NA\\\\\n\t 2 & 1 & 0 & 1.0000000 & 0 & 1 & 0 & 0 &  0\\\\\n\t 3 & 0 & 0 & 1.0000000 & 0 & 1 & 0 & 0 &  0\\\\\n\t 4 & 1 & 2 & 0.6666667 & 1 & 1 & 2 & 2 &  1\\\\\n\t 5 & 0 & 0 & 1.0000000 & 0 & 1 & 0 & 0 &  0\\\\\n\t 6 & 0 & 0 & 1.0000000 & 0 & 1 & 0 & 0 &  0\\\\\n\\end{tabular}\n",
            "text/plain": [
              "  id clust class agree     class2 agree2 cl1 cl2 cl3\n",
              "1 1  1     2     1.0000000 1      1      2   2   NA \n",
              "2 2  1     0     1.0000000 0      1      0   0    0 \n",
              "3 3  0     0     1.0000000 0      1      0   0    0 \n",
              "4 4  1     2     0.6666667 1      1      2   2    1 \n",
              "5 5  0     0     1.0000000 0      1      0   0    0 \n",
              "6 6  0     0     1.0000000 0      1      0   0    0 "
            ]
          },
          "metadata": {}
        }
      ],
      "source": [
        "# function to calculate agreement\n",
        "agree_func <- function(x, y) {\n",
        "  y <- y[!is.na(y)]\n",
        "  length(which(y == x)) / length(y)\n",
        "}\n",
        "\n",
        "# agreement within original classification scheme\n",
        "agreement <- sapply(1:nrow(samples_red), function(x) {  # x <- 1\n",
        "  dat <- samples_red %>% slice(x) %>% select(class:cl3) %>% as.data.frame()\n",
        "  agree_func(dat$class, dat[c(\"cl1\", \"cl2\", \"cl3\")])\n",
        "})\n",
        "\n",
        "# agreement in reduced classification scheme\n",
        "agreement2 <- sapply(1:nrow(samples_red), function(x) {  # x <- 2\n",
        "  dat <- samples_red %>% slice(x) %>% \n",
        "    select(class:cl3) %>% \n",
        "    mutate_at(vars(cl1:cl3), ~ifelse(. %in% 1:2, 1, .)) %>% \n",
        "    as.data.frame()\n",
        "  agree_func(dat$class2, dat[c(\"cl1\", \"cl2\", \"cl3\")])\n",
        "})\n",
        "\n",
        "# combine\n",
        "samples_redf <- samples_red %>% \n",
        "  mutate(agree = agreement, agree2 = agreement2) %>% \n",
        "  select(id, clust, class, agree, class2, agree2, !!names(.))\n",
        "\n",
        "head(samples_redf)\n",
        "write.csv(samples_redf, 'test_samples_redf.csv')\n"
      ]
    },
    {
      "cell_type": "markdown",
      "id": "c6ab33e9",
      "metadata": {
        "id": "c6ab33e9"
      },
      "source": [
        "We can then calculate the average agreement per sample to get a sense of the uncertainty in labels for each class, for all 4 classes "
      ]
    },
    {
      "cell_type": "code",
      "execution_count": null,
      "id": "d3cbab14",
      "metadata": {
        "id": "d3cbab14"
      },
      "outputs": [],
      "source": [
        "sample_stats <- samples_redf %>% group_by(class) %>% \n",
        "  summarize(count = n(), agree = mean(agree))\n",
        "sample_stats"
      ]
    },
    {
      "cell_type": "markdown",
      "id": "4b2e124a",
      "metadata": {
        "id": "4b2e124a"
      },
      "source": [
        "And for the reduced set of classes"
      ]
    },
    {
      "cell_type": "code",
      "execution_count": null,
      "id": "727328dc",
      "metadata": {
        "scrolled": true,
        "id": "727328dc"
      },
      "outputs": [],
      "source": [
        "sample_stats2 <- samples_redf %>% group_by(class2) %>% \n",
        "  summarize(count = n(), agree = mean(agree2))\n",
        "sample_stats2"
      ]
    },
    {
      "cell_type": "markdown",
      "id": "5b5b0926",
      "metadata": {
        "id": "5b5b0926"
      },
      "source": [
        "## Split the dataset <a class=\"anchor\" id=\"split\"></a>\n",
        "\n",
        "Here we split the dataset into three parts for model training (60% of the sample), validation (20%), and final assessment (the 20% set aside as the test or map reference dataset).\n",
        "\n",
        "The splits are confined to the usable sample, which is defined as samples not falling into class 3 and those with at least 2/3 observers agreeing on the class. This decision is made based on the simplified sample scheme (class2), rather than the full scheme (class). The resulting splits are denoted in a column called `usage` (this is distinct from the column `use`, which was used to filter out unusable observations). \n",
        "\n",
        "Values of \"unusable\" in the `usage` column indicate observations that were not usable because of their low agreement or uncertain class.  They are included here for completeness, and in case they help with evaluation\n"
      ]
    },
    {
      "cell_type": "code",
      "execution_count": null,
      "id": "7ee232ea",
      "metadata": {
        "id": "7ee232ea"
      },
      "outputs": [],
      "source": [
        "full_sample <- samples_redf %>% \n",
        "  mutate(use = ifelse(agree2 > 0.5 & class2 != 3, 1, 0)) %>% \n",
        "  # mutate(ref_use = ifelse(clust == 11, 0, 1)) %>% \n",
        "  select(id, clust, class, agree, class2, agree2, use,\n",
        "         !!names(.)) %>% \n",
        "  mutate(usage = NA) %>% \n",
        "  select(id, clust, use, usage, class2, agree2, class, agree, \n",
        "         cl1:cl3)\n",
        "\n",
        "# do a join to get the coordinates for each site\n",
        "# read back in one of the datasets to get sample id and coordinates \n",
        "xydat <- readr::read_csv(fs[1], col_types = readr::cols()) %>% \n",
        "  select(pl_plotid, center_lon, center_lat) %>% \n",
        "  rename(id = pl_plotid, x = center_lon, y = center_lat)  # rename \n",
        "full_sample <- left_join(full_sample, xydat, by = \"id\")  # join\n",
        "\n",
        "# filtered down to usable\n",
        "filtered_sample <- full_sample %>% \n",
        "  filter(use == 1)\n",
        "\n",
        "# split off train from rest - we included the points drawn from \n",
        "# previously mapped locations (cluster 11) in the eligible\n",
        "# pool of validation/reference points here\n",
        "set.seed(10)\n",
        "samp <- sample.split(filtered_sample$class2, SplitRatio = 0.6)\n",
        "train <- subset(filtered_sample, samp == TRUE) %>% \n",
        "  mutate(usage = \"train\")  # train split\n",
        "valref <- subset(filtered_sample, samp == FALSE)  # val/ref split\n",
        "\n",
        "# split into validation and test\n",
        "set.seed(10)\n",
        "samp <- sample.split(valref$class2, SplitRatio = 0.5)  \n",
        "val <- subset(valref, samp == TRUE) %>% mutate(usage = \"validate\")\n",
        "ref <- subset(valref, samp == FALSE) %>% mutate(usage = \"map reference/test\")\n",
        "\n",
        "# Check for duplicate in each\n",
        "any(val$id %in% ref$id)\n",
        "any(val$id %in% train$id)\n",
        "any(ref$id %in% train$id)"
      ]
    },
    {
      "cell_type": "markdown",
      "id": "514a3272",
      "metadata": {
        "id": "514a3272"
      },
      "source": [
        "### Combine and convert to spatial <a class=\"anchor\" id=\"combine\"></a>\n",
        "\n",
        "The ineligible portion of the sample is also added back for completeness"
      ]
    },
    {
      "cell_type": "code",
      "execution_count": null,
      "id": "3da14865",
      "metadata": {
        "id": "3da14865"
      },
      "outputs": [],
      "source": [
        "trainvalref <- bind_rows(train, val, ref)\n",
        "print(trainvalref[,c('id', 'clust', 'agree', 'x', 'y')])\n",
        "full_samplef <- full_sample %>% filter(!id %in% !!(trainvalref$id)) %>% \n",
        "  mutate(usage = \"unusable\") %>% \n",
        "  bind_rows(trainvalref, .) # %>% st_as_sf(coords = c(\"x\", \"y\"))\n",
        "\n",
        "print(full_samplef)"
      ]
    },
    {
      "cell_type": "markdown",
      "id": "c8350cfc",
      "metadata": {
        "id": "c8350cfc"
      },
      "source": [
        "Write it out as needed (after uncommenting)"
      ]
    },
    {
      "cell_type": "code",
      "execution_count": null,
      "id": "c9132186",
      "metadata": {
        "id": "c9132186"
      },
      "outputs": [],
      "source": [
        "# st_write(\n",
        "#   full_samplef, \n",
        "#   dsn = \"data/ucayali_sample_fin.geojson\", \n",
        "#   delete_dsn = TRUE, quiet = TRUE\n",
        "# )"
      ]
    },
    {
      "cell_type": "markdown",
      "id": "8ec11c8e",
      "metadata": {
        "id": "8ec11c8e"
      },
      "source": [
        "Here is the count distribution by class and usage"
      ]
    },
    {
      "cell_type": "code",
      "execution_count": null,
      "id": "de046760",
      "metadata": {
        "id": "de046760"
      },
      "outputs": [],
      "source": [
        "as_tibble(full_samplef) %>% group_by(usage, class2) %>% count()"
      ]
    },
    {
      "cell_type": "markdown",
      "id": "7ab4ddf9",
      "metadata": {
        "id": "7ab4ddf9"
      },
      "source": [
        "And their locations on a map"
      ]
    },
    {
      "cell_type": "code",
      "execution_count": null,
      "id": "b00737ac",
      "metadata": {
        "id": "b00737ac"
      },
      "outputs": [],
      "source": [
        "options(repr.plot.width = 5, repr.plot.height = 5, repr.plot.res = 300)\n",
        "ggplot(full_samplef) + \n",
        "  geom_point(aes(x = x, y = y, color = usage), size = 1) + \n",
        "  theme_linedraw()"
      ]
    },
    {
      "cell_type": "markdown",
      "id": "9401597b",
      "metadata": {
        "id": "9401597b"
      },
      "source": [
        "## Key to variable names <a class=\"anchor\" id=\"key\"></a>\n",
        "\n",
        "The variable names and their descriptions are as follows:\n",
        "\n",
        "- id = Sample ID (corrected after randomized ordering)\n",
        "- clust = Stratification cluster (0, 1, 11 [previously digitized areas])\n",
        "- use = Usability of sample: 1 = suitable for training/validation/map reference, 0 = unusable\n",
        "- usage = Categorized into training, validation, and map reference (test) splits\n",
        "- class2: Classification by consensus on simplified oil palm class\n",
        "- agree2: Agreement per observation, assessed using simplified classification scheme\n",
        "- class: Consensus classification using all four classes (not recommended for modelling)\n",
        "- agree: Agreement per observation, assessed using full classification scheme\n",
        "- cl1: Labeller 1's sample\n",
        "- cl2: Labeller 2 sample\n",
        "- cl3: Labeller 3 sample\n",
        "- geometry: X and Y coordinates as simple features"
      ]
    }
  ],
  "metadata": {
    "kernelspec": {
      "display_name": "R",
      "language": "R",
      "name": "ir"
    },
    "language_info": {
      "codemirror_mode": "r",
      "file_extension": ".r",
      "mimetype": "text/x-r-source",
      "name": "R",
      "pygments_lexer": "r",
      "version": "4.1.1"
    },
    "colab": {
      "name": "prepare_train_val_ref_sample_colab.ipynb",
      "provenance": [],
      "collapsed_sections": [],
      "include_colab_link": true
    },
    "gpuClass": "standard"
  },
  "nbformat": 4,
  "nbformat_minor": 5
}