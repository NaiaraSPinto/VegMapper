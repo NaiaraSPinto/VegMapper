{
  "nbformat": 4,
  "nbformat_minor": 0,
  "metadata": {
    "colab": {
      "name": "vegMapper.ipynb",
      "provenance": [],
      "collapsed_sections": [],
      "toc_visible": true,
      "include_colab_link": true
    },
    "kernelspec": {
      "display_name": "Python 3",
      "name": "python3"
    },
    "language_info": {
      "name": "python"
    }
  },
  "cells": [
    {
      "cell_type": "markdown",
      "metadata": {
        "id": "view-in-github",
        "colab_type": "text"
      },
      "source": [
        "<a href=\"https://colab.research.google.com/github/jjmcnelis/VegMapper/blob/devel/gee/vegMapper.ipynb\" target=\"_parent\"><img src=\"https://colab.research.google.com/assets/colab-badge.svg\" alt=\"Open In Colab\"/></a>"
      ]
    },
    {
      "cell_type": "markdown",
      "metadata": {
        "id": "SYrdjoWh6Ipn"
      },
      "source": [
        "# vegMapper\n",
        "\n",
        "https://github.com/NaiaraSPinto/VegMapper\n",
        "\n",
        "## Setup\n",
        "\n",
        "After common packages are imported (e.g. *ee*, *numpy*, *pandas*, *matplotlib* -- all are available by default in Google Colab), the next cell will attempt to perform some important housekeeping steps.\n",
        "\n",
        "### Requirements\n",
        "\n",
        "This notebook was developed in Python 3.8; it has several dependencies:\n",
        "\n",
        "* *ee* (Earth Engine Python API)\n",
        "* *numpy*\n",
        "* *pandas*\n",
        "* *matplotlib*\n",
        "* *geemap*\n",
        "\n",
        "_geemap_ is the only package that is not available by default in Google Colab. If _geemap_ is not available, the next cell will try to install it with pip and import again."
      ]
    },
    {
      "cell_type": "code",
      "metadata": {
        "id": "xlPhf6oZjS1s",
        "colab": {
          "base_uri": "https://localhost:8080/"
        },
        "outputId": "e2049cc5-bb96-40b5-d0dc-596192cc3eef"
      },
      "source": [
        "from json import dumps\n",
        "from io import StringIO\n",
        "from IPython.display import HTML\n",
        "#import matplotlib.pyplot as plt\n",
        "#import numpy as np\n",
        "import pandas as pd\n",
        "import os.path\n",
        "import ee\n",
        "\n",
        "try:\n",
        "    import geemap\n",
        "except ImportError as e:\n",
        "    !pip install -q geemap\n",
        "    import geemap"
      ],
      "execution_count": null,
      "outputs": [
        {
          "output_type": "stream",
          "text": [
            "\u001b[?25l\r\u001b[K     |▊                               | 10kB 17.6MB/s eta 0:00:01\r\u001b[K     |█▍                              | 20kB 23.9MB/s eta 0:00:01\r\u001b[K     |██▏                             | 30kB 27.5MB/s eta 0:00:01\r\u001b[K     |██▉                             | 40kB 29.4MB/s eta 0:00:01\r\u001b[K     |███▋                            | 51kB 31.3MB/s eta 0:00:01\r\u001b[K     |████▎                           | 61kB 33.4MB/s eta 0:00:01\r\u001b[K     |█████                           | 71kB 32.5MB/s eta 0:00:01\r\u001b[K     |█████▊                          | 81kB 31.8MB/s eta 0:00:01\r\u001b[K     |██████▌                         | 92kB 30.6MB/s eta 0:00:01\r\u001b[K     |███████▏                        | 102kB 30.4MB/s eta 0:00:01\r\u001b[K     |████████                        | 112kB 30.4MB/s eta 0:00:01\r\u001b[K     |████████▋                       | 122kB 30.4MB/s eta 0:00:01\r\u001b[K     |█████████▍                      | 133kB 30.4MB/s eta 0:00:01\r\u001b[K     |██████████                      | 143kB 30.4MB/s eta 0:00:01\r\u001b[K     |██████████▊                     | 153kB 30.4MB/s eta 0:00:01\r\u001b[K     |███████████▌                    | 163kB 30.4MB/s eta 0:00:01\r\u001b[K     |████████████▏                   | 174kB 30.4MB/s eta 0:00:01\r\u001b[K     |█████████████                   | 184kB 30.4MB/s eta 0:00:01\r\u001b[K     |█████████████▋                  | 194kB 30.4MB/s eta 0:00:01\r\u001b[K     |██████████████▍                 | 204kB 30.4MB/s eta 0:00:01\r\u001b[K     |███████████████                 | 215kB 30.4MB/s eta 0:00:01\r\u001b[K     |███████████████▉                | 225kB 30.4MB/s eta 0:00:01\r\u001b[K     |████████████████▌               | 235kB 30.4MB/s eta 0:00:01\r\u001b[K     |█████████████████▎              | 245kB 30.4MB/s eta 0:00:01\r\u001b[K     |██████████████████              | 256kB 30.4MB/s eta 0:00:01\r\u001b[K     |██████████████████▊             | 266kB 30.4MB/s eta 0:00:01\r\u001b[K     |███████████████████▍            | 276kB 30.4MB/s eta 0:00:01\r\u001b[K     |████████████████████▏           | 286kB 30.4MB/s eta 0:00:01\r\u001b[K     |████████████████████▉           | 296kB 30.4MB/s eta 0:00:01\r\u001b[K     |█████████████████████▌          | 307kB 30.4MB/s eta 0:00:01\r\u001b[K     |██████████████████████▎         | 317kB 30.4MB/s eta 0:00:01\r\u001b[K     |███████████████████████         | 327kB 30.4MB/s eta 0:00:01\r\u001b[K     |███████████████████████▊        | 337kB 30.4MB/s eta 0:00:01\r\u001b[K     |████████████████████████▍       | 348kB 30.4MB/s eta 0:00:01\r\u001b[K     |█████████████████████████▏      | 358kB 30.4MB/s eta 0:00:01\r\u001b[K     |█████████████████████████▉      | 368kB 30.4MB/s eta 0:00:01\r\u001b[K     |██████████████████████████▋     | 378kB 30.4MB/s eta 0:00:01\r\u001b[K     |███████████████████████████▎    | 389kB 30.4MB/s eta 0:00:01\r\u001b[K     |████████████████████████████    | 399kB 30.4MB/s eta 0:00:01\r\u001b[K     |████████████████████████████▊   | 409kB 30.4MB/s eta 0:00:01\r\u001b[K     |█████████████████████████████▌  | 419kB 30.4MB/s eta 0:00:01\r\u001b[K     |██████████████████████████████▏ | 430kB 30.4MB/s eta 0:00:01\r\u001b[K     |███████████████████████████████ | 440kB 30.4MB/s eta 0:00:01\r\u001b[K     |███████████████████████████████▋| 450kB 30.4MB/s eta 0:00:01\r\u001b[K     |████████████████████████████████| 460kB 30.4MB/s \n",
            "\u001b[K     |████████████████████████████████| 102kB 11.9MB/s \n",
            "\u001b[K     |████████████████████████████████| 1.2MB 44.8MB/s \n",
            "\u001b[K     |████████████████████████████████| 143kB 50.2MB/s \n",
            "\u001b[K     |████████████████████████████████| 1.3MB 34.4MB/s \n",
            "\u001b[K     |████████████████████████████████| 81kB 10.3MB/s \n",
            "\u001b[K     |████████████████████████████████| 225kB 46.0MB/s \n",
            "\u001b[K     |████████████████████████████████| 1.6MB 33.3MB/s \n",
            "\u001b[K     |████████████████████████████████| 5.1MB 31.6MB/s \n",
            "\u001b[K     |████████████████████████████████| 102kB 11.3MB/s \n",
            "\u001b[K     |████████████████████████████████| 71kB 8.3MB/s \n",
            "\u001b[K     |████████████████████████████████| 122kB 18.2MB/s \n",
            "\u001b[K     |████████████████████████████████| 389kB 45.2MB/s \n",
            "\u001b[K     |████████████████████████████████| 552kB 53.4MB/s \n",
            "\u001b[K     |████████████████████████████████| 122kB 52.3MB/s \n",
            "\u001b[K     |████████████████████████████████| 430kB 45.3MB/s \n",
            "\u001b[K     |████████████████████████████████| 81kB 10.2MB/s \n",
            "\u001b[K     |████████████████████████████████| 71kB 9.1MB/s \n",
            "\u001b[?25h  Building wheel for ipynb-py-convert (setup.py) ... \u001b[?25l\u001b[?25hdone\n",
            "  Building wheel for pyshp (setup.py) ... \u001b[?25l\u001b[?25hdone\n",
            "  Building wheel for pycrs (setup.py) ... \u001b[?25l\u001b[?25hdone\n",
            "\u001b[31mERROR: google-colab 1.0.0 has requirement tornado~=5.1.0; python_version >= \"3.0\", but you'll have tornado 6.1 which is incompatible.\u001b[0m\n",
            "\u001b[31mERROR: datascience 0.10.6 has requirement folium==0.2.1, but you'll have folium 0.12.1 which is incompatible.\u001b[0m\n"
          ],
          "name": "stdout"
        }
      ]
    },
    {
      "cell_type": "markdown",
      "metadata": {
        "id": "9MlRLsqG-dGh"
      },
      "source": [
        "### User configuration\n",
        "\n",
        "Configure the workflow parameters in the cell below. These settings determine how the workflow selects and operates on the data/imagery."
      ]
    },
    {
      "cell_type": "code",
      "metadata": {
        "id": "jyPCPMak-dQ-"
      },
      "source": [
        "# Temporal coverage for imagery used in the analysis:\n",
        "startDate = '2017-04-01'  #@param {type: \"date\"}\n",
        "endDate = '2017-09-30'    #@param {type: \"date\"}\n",
        "\n",
        "# Target scale for zonal statistics and the output stack:\n",
        "scale = 30"
      ],
      "execution_count": null,
      "outputs": []
    },
    {
      "cell_type": "markdown",
      "metadata": {
        "id": "hXrkl_wyjSCp"
      },
      "source": [
        "### Authenticate for GEE and Google Drive\n",
        "\n",
        ">**Quickstart:**\n",
        ">Run the next cell and follow the instructions to authenticate. Click the links displayed below the cell and log in (each one should open in a new browser tab); copy your temporary token, then paste it into the prompt and press enter.\n",
        "\n",
        "(I can probably merge the auth together with a little digging into the GEE/Colab APIs, but for now) expect to see two prompts for your Google login info:\n",
        "1. for GEE access (*REQUIRED*)\n",
        "2. for Google Drive access (*OPTIONAL*, only available in Colab)\n",
        "\n",
        "You can upload/download to the Colab environment in one of (at least) two ways if Google Drive is not accessible (i.e. no space remaining): \n",
        "1. using the File Manager (on the left in the Colab interface), or \n",
        "2. using interactive prompts as you progress through the notebook.\n",
        "\n",
        "However, if you're running this notebook *outside* of the Colab environment (i.e. in the common Jupyter notebook client) then you will need to call *pandas* manually to read/write the input & output (with `pd.read_csv` and `<df>.to_csv`, respectively)."
      ]
    },
    {
      "cell_type": "code",
      "metadata": {
        "id": "UkrTGFMfLmPD",
        "colab": {
          "base_uri": "https://localhost:8080/"
        },
        "outputId": "21bb420a-3277-4f11-9f5c-a3e681a95508"
      },
      "source": [
        "####################################################################\n",
        "# My GEE credentials are tied to a personal Google account. The 1st\n",
        "# prompt provides a link opening a new tab to the familiar Google \n",
        "# login page. After logging in, copy the token into the prompt and\n",
        "# hit enter. This step is required in order to proceed.\n",
        "####################################################################\n",
        "ee.Authenticate()\n",
        "ee.Initialize()\n",
        "\n",
        "####################################################################\n",
        "# This next part checks if the notebook is running in Colab first. \n",
        "# If so, you will be prompted the user to log in AGAIN for Drive \n",
        "# access. All previous comments about auth/tokens apply. Execute \n",
        "# the next cell to skip mounting Drive into the Colab environment.\n",
        "####################################################################\n",
        "DRIVE = \"/content/drive/MyDrive\"\n",
        "#DRIVE = \"/content/drive/Shareddrives\"\n",
        "\n",
        "if 'google.colab' in str(get_ipython()):\n",
        "    from google.colab import drive, files\n",
        "    try:\n",
        "        drive.mount(\"/content/drive\")\n",
        "    except Exception as e:\n",
        "        print(\"The next cell executed. Will skip mounting Drive.\")\n",
        "\n",
        "####################################################################\n",
        "# Housekeeping -- please ignore the remainder of this cell\n",
        "####################################################################\n",
        "\n",
        "def _validate_path_and_read_input_csv_data():\n",
        "    # If input csv path is 'None', prompt the user for upload.\n",
        "    if not relative_path_to_input_csv_in_drive:\n",
        "        csv = None\n",
        "    elif not os.path.isdir(DRIVE):\n",
        "        # Error out if path is not provided and Drive isnt mounted.\n",
        "        raise Exception(\"ERROR: Cannot determine if Drive is mounted.\")\n",
        "    else:\n",
        "        # Otherwise make sure the input csv path is valid.\n",
        "        if os.path.isfile(relative_path_to_input_csv_in_drive):\n",
        "            csv = relative_path_to_input_csv_in_drive\n",
        "        else:\n",
        "            # Assume its an absolute path if the relative path is invalid.\n",
        "            csv = os.path.join(DRIVE, relative_path_to_input_csv_in_drive)\n",
        "    if not csv:\n",
        "        # Prompt the user to upload their csv if 'csv' is 'None'.\n",
        "        uploads = files.upload()\n",
        "        if len(uploads)==0:\n",
        "            raise Exception(\"ERROR: Received no files. Try again.\")\n",
        "        elif len(uploads)>1:\n",
        "            raise Exception(\"ERROR: Received multiple files. Try again.\")\n",
        "        else:\n",
        "            csv = list(uploads)[0]\n",
        "    # Finally, attempt to load the input csv to a pandas data frame:\n",
        "    try:\n",
        "        df = pd.read_csv(csv)\n",
        "        display(df.info())\n",
        "    except FileNotFoundError as e:\n",
        "        raise Exception(\"POSSIBLE BUG: Please notify jmcnelis@jpl.nasa.gov\")\n",
        "    except Exception as e:\n",
        "        raise e\n",
        "    return df"
      ],
      "execution_count": null,
      "outputs": [
        {
          "output_type": "stream",
          "text": [
            "To authorize access needed by Earth Engine, open the following URL in a web browser and follow the instructions. If the web browser does not start automatically, please manually browse the URL below.\n",
            "\n",
            "    https://accounts.google.com/o/oauth2/auth?client_id=517222506229-vsmmajv00ul0bs7p89v5m89qs8eb9359.apps.googleusercontent.com&scope=https%3A%2F%2Fwww.googleapis.com%2Fauth%2Fearthengine+https%3A%2F%2Fwww.googleapis.com%2Fauth%2Fdevstorage.full_control&redirect_uri=urn%3Aietf%3Awg%3Aoauth%3A2.0%3Aoob&response_type=code&code_challenge=obFd1Vyu2u5814xJFxOz8sIhTtmOv5EAYogjL7Mx-W0&code_challenge_method=S256\n",
            "\n",
            "The authorization workflow will generate a code, which you should paste in the box below. \n",
            "Enter verification code: 4/1AY0e-g7QWb1c_hQVaG0f6QrsjOMYW6htpBYty3Q2-5-9NSrtdNTEshcssug\n",
            "\n",
            "Successfully saved authorization token.\n",
            "Mounted at /content/drive\n"
          ],
          "name": "stdout"
        }
      ]
    },
    {
      "cell_type": "markdown",
      "metadata": {
        "id": "aK65jpic6N8T"
      },
      "source": [
        "### Load xy data from an input csv\n",
        "\n",
        "As mentioned before, this procedure builds a stack of images and calculates the zonal statistics within regions defined by an input feature dataset. \n",
        "\n",
        "*Remember: CSV is the only supported input file format at this time.* It should have these columns at a minimum:\n",
        "\n",
        "* *latitude* (float)\n",
        "* *longitude* (float)\n",
        "The following cell will read your input table of XY positions (which should be provided in the *latitude* and *longitude* columns) and any additional data columns then print some high level details (assuming your paths are configured properly).\n",
        "\n",
        "#### Option a: read files from Google Drive\n",
        "\n",
        "You should see a folder \"drive/\" in the default workspace when you open the file browser panel (to the immediate left inside the Colab environment).\n",
        "\n",
        "><u>Please read this note about paths configured in the next cell:</u>    \n",
        ">Input and output paths should be set relative to the root of the _drive_ directory shown _OR_, alternatively, you can provide absolute paths to your input/output file(s).\n",
        "\n",
        "Try to remember to unmount Drive once you're finished in Colaboratory. You can do that by calling this other function from the drive module: `google.colab.drive.flush_and_unmount()`\n",
        "\n",
        "### Option b: upload/read files to Colaboratory\n",
        "\n",
        "*The workflow requires input features to determine the areas in which to calculate zonal statistics.*\n",
        "\n",
        "Make sure a suitable file exists in the colab workspace or in Google Drive. You can provide one in either of two ways:\n",
        "\n",
        "1. Navigate to an input CSV in Google Drive and copy its path into the cell below (assuming Drive is mounted), or\n",
        "2. Run the next cell as-is and upload a file to the workspace when prompted.\n",
        "\n",
        "If the second option, run the next cell and click *Choose Files* to upload a file. You may also click *Cancel Upload* to abort the cell and move on."
      ]
    },
    {
      "cell_type": "code",
      "metadata": {
        "colab": {
          "base_uri": "https://localhost:8080/",
          "height": 269
        },
        "id": "7WAamY9sAkHF",
        "outputId": "eede3fc7-affd-479a-af76-95c4e7d09bdb"
      },
      "source": [
        "# Set this to 'None' to be prompted to upload your input csv:\n",
        "relative_path_to_input_csv_in_drive = f\"tests/vegMapper/smartin.csv\"\n",
        "\n",
        "# Set this to 'None' to be prompted to download your outputs csv: \n",
        "relative_path_to_output_csv_in_drive = f\"tests/vegMapper/out/outputs.csv\"\n",
        "\n",
        "### Error out here if any inputs are invalid >>>\n",
        "pts = _validate_path_and_read_input_csv_data()\n",
        "\n",
        "print(\"Success! Please proceed with the notebook.\")"
      ],
      "execution_count": null,
      "outputs": [
        {
          "output_type": "stream",
          "text": [
            "<class 'pandas.core.frame.DataFrame'>\n",
            "RangeIndex: 100 entries, 0 to 99\n",
            "Data columns (total 5 columns):\n",
            " #   Column      Non-Null Count  Dtype  \n",
            "---  ------      --------------  -----  \n",
            " 0   longitude   100 non-null    float64\n",
            " 1   latitude    100 non-null    float64\n",
            " 2   obs_year    50 non-null     float64\n",
            " 3   class       50 non-null     object \n",
            " 4   class_2017  100 non-null    object \n",
            "dtypes: float64(3), object(2)\n",
            "memory usage: 4.0+ KB\n"
          ],
          "name": "stdout"
        },
        {
          "output_type": "display_data",
          "data": {
            "text/plain": [
              "None"
            ]
          },
          "metadata": {
            "tags": []
          }
        },
        {
          "output_type": "stream",
          "text": [
            "Success! Please proceed with the notebook.\n"
          ],
          "name": "stdout"
        }
      ]
    },
    {
      "cell_type": "markdown",
      "metadata": {
        "id": "xO9CZZJ2LCRr"
      },
      "source": [
        "#### Make xy geometries as a Feature Collection\n",
        "\n",
        "Make geometries for each XY position in the input table so we can efficiently generate zonal statistics over our final image stack at the end of the procedure. See the API documentation for information about [*ee.FeatureCollection*](>https://developers.google.com/earth-engine/guides/feature_collections)s."
      ]
    },
    {
      "cell_type": "code",
      "metadata": {
        "colab": {
          "base_uri": "https://localhost:8080/"
        },
        "id": "d3lP3kzYLCc5",
        "outputId": "e0062cdf-8cae-41d3-ef0c-2b15a16e44b2"
      },
      "source": [
        "def get_geom(x):\n",
        "    return ee.Geometry.Point(x['longitude'], x['latitude'])\n",
        "\n",
        "pfc = ee.FeatureCollection(pts.apply(get_geom, axis=1).tolist())\n",
        "\n",
        "type(pfc)"
      ],
      "execution_count": null,
      "outputs": [
        {
          "output_type": "execute_result",
          "data": {
            "text/plain": [
              "ee.featurecollection.FeatureCollection"
            ]
          },
          "metadata": {
            "tags": []
          },
          "execution_count": 6
        }
      ]
    },
    {
      "cell_type": "markdown",
      "metadata": {
        "id": "Vp5KEAikKWWc"
      },
      "source": [
        "\n",
        "### Region of Interest\n",
        "\n",
        "Get the minimum bounding extent of the points in the input CSV. Add an arbitrary buffer around the minimum extent and then get a ee.Geometry.Rectangle to represent the ROI."
      ]
    },
    {
      "cell_type": "code",
      "metadata": {
        "colab": {
          "base_uri": "https://localhost:8080/"
        },
        "id": "lXfYg2cV4Ovv",
        "outputId": "987c75c3-f696-4c00-9d35-83c7b24915ff"
      },
      "source": [
        "lon_min = pts['longitude'].min()\n",
        "lon_max = pts['longitude'].max()\n",
        "lat_min = pts['latitude'].min()\n",
        "lat_max = pts['latitude'].max()\n",
        "\n",
        "roi_poly = [[lon_min, lat_max],\n",
        "            [lon_min, lat_min],\n",
        "            [lon_max, lat_min],\n",
        "            [lon_max, lat_max]]\n",
        "\n",
        "roi = ee.Geometry.Polygon(coords=roi_poly)\n",
        "\n",
        "type(roi)"
      ],
      "execution_count": null,
      "outputs": [
        {
          "output_type": "execute_result",
          "data": {
            "text/plain": [
              "ee.geometry.Geometry"
            ]
          },
          "metadata": {
            "tags": []
          },
          "execution_count": 7
        }
      ]
    },
    {
      "cell_type": "markdown",
      "metadata": {
        "id": "obvCR3gS4a7c"
      },
      "source": [
        "Plot the region of interest polygon on a map to see the coverage."
      ]
    },
    {
      "cell_type": "code",
      "metadata": {
        "colab": {
          "base_uri": "https://localhost:8080/",
          "height": 679
        },
        "id": "3_4cQw-sKXXK",
        "outputId": "cfa3614b-90e9-4b82-8be5-987c4d494083"
      },
      "source": [
        "roi_center = [pts['latitude'].mean(), pts['longitude'].mean()]\n",
        "\n",
        "M = geemap.Map(center=roi_center, zoom=7, width=\"90%\")\n",
        "M.addLayer(roi, {'color': \"red\"}, name='ROI')\n",
        "M.addLayer(pfc, name='Sites')\n",
        "M"
      ],
      "execution_count": null,
      "outputs": [
        {
          "output_type": "execute_result",
          "data": {
            "text/html": [
              "<div style=\"width:100%;\"><div style=\"position:relative;width:100%;height:0;padding-bottom:60%;\"><span style=\"color:#565656\">Make this Notebook Trusted to load map: File -> Trust Notebook</span><iframe src=\"about:blank\" style=\"position:absolute;width:100%;height:100%;left:0;top:0;border:none !important;\" data-html=%3C%21DOCTYPE%20html%3E%0A%3Chead%3E%20%20%20%20%0A%20%20%20%20%3Cmeta%20http-equiv%3D%22content-type%22%20content%3D%22text/html%3B%20charset%3DUTF-8%22%20/%3E%0A%20%20%20%20%0A%20%20%20%20%20%20%20%20%3Cscript%3E%0A%20%20%20%20%20%20%20%20%20%20%20%20L_NO_TOUCH%20%3D%20false%3B%0A%20%20%20%20%20%20%20%20%20%20%20%20L_DISABLE_3D%20%3D%20false%3B%0A%20%20%20%20%20%20%20%20%3C/script%3E%0A%20%20%20%20%0A%20%20%20%20%3Cstyle%3Ehtml%2C%20body%20%7Bwidth%3A%20100%25%3Bheight%3A%20100%25%3Bmargin%3A%200%3Bpadding%3A%200%3B%7D%3C/style%3E%0A%20%20%20%20%3Cstyle%3E%23map%20%7Bposition%3Aabsolute%3Btop%3A0%3Bbottom%3A0%3Bright%3A0%3Bleft%3A0%3B%7D%3C/style%3E%0A%20%20%20%20%3Cscript%20src%3D%22https%3A//cdn.jsdelivr.net/npm/leaflet%401.6.0/dist/leaflet.js%22%3E%3C/script%3E%0A%20%20%20%20%3Cscript%20src%3D%22https%3A//code.jquery.com/jquery-1.12.4.min.js%22%3E%3C/script%3E%0A%20%20%20%20%3Cscript%20src%3D%22https%3A//maxcdn.bootstrapcdn.com/bootstrap/3.2.0/js/bootstrap.min.js%22%3E%3C/script%3E%0A%20%20%20%20%3Cscript%20src%3D%22https%3A//cdnjs.cloudflare.com/ajax/libs/Leaflet.awesome-markers/2.0.2/leaflet.awesome-markers.js%22%3E%3C/script%3E%0A%20%20%20%20%3Clink%20rel%3D%22stylesheet%22%20href%3D%22https%3A//cdn.jsdelivr.net/npm/leaflet%401.6.0/dist/leaflet.css%22/%3E%0A%20%20%20%20%3Clink%20rel%3D%22stylesheet%22%20href%3D%22https%3A//maxcdn.bootstrapcdn.com/bootstrap/3.2.0/css/bootstrap.min.css%22/%3E%0A%20%20%20%20%3Clink%20rel%3D%22stylesheet%22%20href%3D%22https%3A//maxcdn.bootstrapcdn.com/bootstrap/3.2.0/css/bootstrap-theme.min.css%22/%3E%0A%20%20%20%20%3Clink%20rel%3D%22stylesheet%22%20href%3D%22https%3A//maxcdn.bootstrapcdn.com/font-awesome/4.6.3/css/font-awesome.min.css%22/%3E%0A%20%20%20%20%3Clink%20rel%3D%22stylesheet%22%20href%3D%22https%3A//cdnjs.cloudflare.com/ajax/libs/Leaflet.awesome-markers/2.0.2/leaflet.awesome-markers.css%22/%3E%0A%20%20%20%20%3Clink%20rel%3D%22stylesheet%22%20href%3D%22https%3A//cdn.jsdelivr.net/gh/python-visualization/folium/folium/templates/leaflet.awesome.rotate.min.css%22/%3E%0A%20%20%20%20%0A%20%20%20%20%20%20%20%20%20%20%20%20%3Cmeta%20name%3D%22viewport%22%20content%3D%22width%3Ddevice-width%2C%0A%20%20%20%20%20%20%20%20%20%20%20%20%20%20%20%20initial-scale%3D1.0%2C%20maximum-scale%3D1.0%2C%20user-scalable%3Dno%22%20/%3E%0A%20%20%20%20%20%20%20%20%20%20%20%20%3Cstyle%3E%0A%20%20%20%20%20%20%20%20%20%20%20%20%20%20%20%20%23map_bf02080dd4c540edbee9dae644be4117%20%7B%0A%20%20%20%20%20%20%20%20%20%20%20%20%20%20%20%20%20%20%20%20position%3A%20relative%3B%0A%20%20%20%20%20%20%20%20%20%20%20%20%20%20%20%20%20%20%20%20width%3A%2090.0%25%3B%0A%20%20%20%20%20%20%20%20%20%20%20%20%20%20%20%20%20%20%20%20height%3A%20100.0%25%3B%0A%20%20%20%20%20%20%20%20%20%20%20%20%20%20%20%20%20%20%20%20left%3A%200.0%25%3B%0A%20%20%20%20%20%20%20%20%20%20%20%20%20%20%20%20%20%20%20%20top%3A%200.0%25%3B%0A%20%20%20%20%20%20%20%20%20%20%20%20%20%20%20%20%7D%0A%20%20%20%20%20%20%20%20%20%20%20%20%3C/style%3E%0A%20%20%20%20%20%20%20%20%0A%20%20%20%20%3Cscript%20src%3D%22https%3A//cdnjs.cloudflare.com/ajax/libs/leaflet.fullscreen/1.4.2/Control.FullScreen.min.js%22%3E%3C/script%3E%0A%20%20%20%20%3Clink%20rel%3D%22stylesheet%22%20href%3D%22https%3A//cdnjs.cloudflare.com/ajax/libs/leaflet.fullscreen/1.4.2/Control.FullScreen.min.css%22/%3E%0A%3C/head%3E%0A%3Cbody%3E%20%20%20%20%0A%20%20%20%20%0A%20%20%20%20%20%20%20%20%20%20%20%20%3Cdiv%20class%3D%22folium-map%22%20id%3D%22map_bf02080dd4c540edbee9dae644be4117%22%20%3E%3C/div%3E%0A%20%20%20%20%20%20%20%20%0A%3C/body%3E%0A%3Cscript%3E%20%20%20%20%0A%20%20%20%20%0A%20%20%20%20%20%20%20%20%20%20%20%20var%20map_bf02080dd4c540edbee9dae644be4117%20%3D%20L.map%28%0A%20%20%20%20%20%20%20%20%20%20%20%20%20%20%20%20%22map_bf02080dd4c540edbee9dae644be4117%22%2C%0A%20%20%20%20%20%20%20%20%20%20%20%20%20%20%20%20%7B%0A%20%20%20%20%20%20%20%20%20%20%20%20%20%20%20%20%20%20%20%20center%3A%20%5B-7.132673861109996%2C%20-76.61272973500003%5D%2C%0A%20%20%20%20%20%20%20%20%20%20%20%20%20%20%20%20%20%20%20%20crs%3A%20L.CRS.EPSG3857%2C%0A%20%20%20%20%20%20%20%20%20%20%20%20%20%20%20%20%20%20%20%20zoom%3A%207%2C%0A%20%20%20%20%20%20%20%20%20%20%20%20%20%20%20%20%20%20%20%20zoomControl%3A%20true%2C%0A%20%20%20%20%20%20%20%20%20%20%20%20%20%20%20%20%20%20%20%20preferCanvas%3A%20false%2C%0A%20%20%20%20%20%20%20%20%20%20%20%20%20%20%20%20%20%20%20%20eeInitialize%3A%20true%2C%0A%20%20%20%20%20%20%20%20%20%20%20%20%20%20%20%20%20%20%20%20addGoogleMap%3A%20true%2C%0A%20%20%20%20%20%20%20%20%20%20%20%20%20%20%20%20%20%20%20%20pluginLatlngpopup%3A%20true%2C%0A%20%20%20%20%20%20%20%20%20%20%20%20%20%20%20%20%20%20%20%20pluginFullscreen%3A%20true%2C%0A%20%20%20%20%20%20%20%20%20%20%20%20%20%20%20%20%20%20%20%20pluginDraw%3A%20false%2C%0A%20%20%20%20%20%20%20%20%20%20%20%20%20%20%20%20%20%20%20%20DrawExport%3A%20true%2C%0A%20%20%20%20%20%20%20%20%20%20%20%20%20%20%20%20%20%20%20%20pluginMinimap%3A%20false%2C%0A%20%20%20%20%20%20%20%20%20%20%20%20%20%20%20%20%20%20%20%20pluginLayercontrol%3A%20false%2C%0A%20%20%20%20%20%20%20%20%20%20%20%20%20%20%20%20%7D%0A%20%20%20%20%20%20%20%20%20%20%20%20%29%3B%0A%0A%20%20%20%20%20%20%20%20%20%20%20%20%0A%0A%20%20%20%20%20%20%20%20%0A%20%20%20%20%0A%20%20%20%20%20%20%20%20%20%20%20%20var%20tile_layer_f0e7e5beb3cc447e9cfc86b20f523d73%20%3D%20L.tileLayer%28%0A%20%20%20%20%20%20%20%20%20%20%20%20%20%20%20%20%22https%3A//%7Bs%7D.tile.openstreetmap.org/%7Bz%7D/%7Bx%7D/%7By%7D.png%22%2C%0A%20%20%20%20%20%20%20%20%20%20%20%20%20%20%20%20%7B%22attribution%22%3A%20%22Data%20by%20%5Cu0026copy%3B%20%5Cu003ca%20href%3D%5C%22http%3A//openstreetmap.org%5C%22%5Cu003eOpenStreetMap%5Cu003c/a%5Cu003e%2C%20under%20%5Cu003ca%20href%3D%5C%22http%3A//www.openstreetmap.org/copyright%5C%22%5Cu003eODbL%5Cu003c/a%5Cu003e.%22%2C%20%22detectRetina%22%3A%20false%2C%20%22maxNativeZoom%22%3A%2018%2C%20%22maxZoom%22%3A%2018%2C%20%22minZoom%22%3A%200%2C%20%22noWrap%22%3A%20false%2C%20%22opacity%22%3A%201%2C%20%22subdomains%22%3A%20%22abc%22%2C%20%22tms%22%3A%20false%7D%0A%20%20%20%20%20%20%20%20%20%20%20%20%29.addTo%28map_bf02080dd4c540edbee9dae644be4117%29%3B%0A%20%20%20%20%20%20%20%20%0A%20%20%20%20%0A%20%20%20%20%20%20%20%20%20%20%20%20var%20tile_layer_4b7bc5b2b3c94388ba5d30dad270823d%20%3D%20L.tileLayer%28%0A%20%20%20%20%20%20%20%20%20%20%20%20%20%20%20%20%22https%3A//mt1.google.com/vt/lyrs%3Dm%5Cu0026x%3D%7Bx%7D%5Cu0026y%3D%7By%7D%5Cu0026z%3D%7Bz%7D%22%2C%0A%20%20%20%20%20%20%20%20%20%20%20%20%20%20%20%20%7B%22attribution%22%3A%20%22Google%22%2C%20%22detectRetina%22%3A%20false%2C%20%22maxNativeZoom%22%3A%2018%2C%20%22maxZoom%22%3A%2018%2C%20%22minZoom%22%3A%200%2C%20%22noWrap%22%3A%20false%2C%20%22opacity%22%3A%201%2C%20%22subdomains%22%3A%20%22abc%22%2C%20%22tms%22%3A%20false%7D%0A%20%20%20%20%20%20%20%20%20%20%20%20%29.addTo%28map_bf02080dd4c540edbee9dae644be4117%29%3B%0A%20%20%20%20%20%20%20%20%0A%20%20%20%20%0A%20%20%20%20%20%20%20%20%20%20%20%20%20%20%20%20var%20lat_lng_popup_5e16b67bb28f464f81173fe5fd39da72%20%3D%20L.popup%28%29%3B%0A%20%20%20%20%20%20%20%20%20%20%20%20%20%20%20%20function%20latLngPop%28e%29%20%7B%0A%20%20%20%20%20%20%20%20%20%20%20%20%20%20%20%20%20%20%20%20lat_lng_popup_5e16b67bb28f464f81173fe5fd39da72%0A%20%20%20%20%20%20%20%20%20%20%20%20%20%20%20%20%20%20%20%20%20%20%20%20.setLatLng%28e.latlng%29%0A%20%20%20%20%20%20%20%20%20%20%20%20%20%20%20%20%20%20%20%20%20%20%20%20.setContent%28%22Latitude%3A%20%22%20%2B%20e.latlng.lat.toFixed%284%29%20%2B%0A%20%20%20%20%20%20%20%20%20%20%20%20%20%20%20%20%20%20%20%20%20%20%20%20%20%20%20%20%20%20%20%20%20%20%20%20%22%3Cbr%3ELongitude%3A%20%22%20%2B%20e.latlng.lng.toFixed%284%29%29%0A%20%20%20%20%20%20%20%20%20%20%20%20%20%20%20%20%20%20%20%20%20%20%20%20.openOn%28map_bf02080dd4c540edbee9dae644be4117%29%3B%0A%20%20%20%20%20%20%20%20%20%20%20%20%20%20%20%20%20%20%20%20%7D%0A%20%20%20%20%20%20%20%20%20%20%20%20%20%20%20%20map_bf02080dd4c540edbee9dae644be4117.on%28%27click%27%2C%20latLngPop%29%3B%0A%20%20%20%20%20%20%20%20%20%20%20%20%0A%20%20%20%20%0A%20%20%20%20%20%20%20%20%20%20%20%20L.control.fullscreen%28%0A%20%20%20%20%20%20%20%20%20%20%20%20%20%20%20%20%7B%22forceSeparateButton%22%3A%20false%2C%20%22position%22%3A%20%22topleft%22%2C%20%22title%22%3A%20%22Full%20Screen%22%2C%20%22titleCancel%22%3A%20%22Exit%20Full%20Screen%22%7D%0A%20%20%20%20%20%20%20%20%20%20%20%20%29.addTo%28map_bf02080dd4c540edbee9dae644be4117%29%3B%0A%20%20%20%20%20%20%20%20%0A%20%20%20%20%0A%20%20%20%20%20%20%20%20%20%20%20%20map_bf02080dd4c540edbee9dae644be4117.fitBounds%28%0A%20%20%20%20%20%20%20%20%20%20%20%20%20%20%20%20%5B%5B-7.132673861109996%2C%20-76.61272973500003%5D%2C%20%5B-7.132673861109996%2C%20-76.61272973500003%5D%5D%2C%0A%20%20%20%20%20%20%20%20%20%20%20%20%20%20%20%20%7B%22maxZoom%22%3A%207%7D%0A%20%20%20%20%20%20%20%20%20%20%20%20%29%3B%0A%20%20%20%20%20%20%20%20%0A%20%20%20%20%0A%20%20%20%20%20%20%20%20%20%20%20%20var%20tile_layer_106f13e91eed47589108eef35c332fc2%20%3D%20L.tileLayer%28%0A%20%20%20%20%20%20%20%20%20%20%20%20%20%20%20%20%22https%3A//earthengine.googleapis.com/v1alpha/projects/earthengine-legacy/maps/eedd0b4b7f4907e773afe9178fe2a846-45e49c02c31749bafb2dfdd5f7f02242/tiles/%7Bz%7D/%7Bx%7D/%7By%7D%22%2C%0A%20%20%20%20%20%20%20%20%20%20%20%20%20%20%20%20%7B%22attribution%22%3A%20%22Google%20Earth%20Engine%22%2C%20%22detectRetina%22%3A%20false%2C%20%22maxNativeZoom%22%3A%2018%2C%20%22maxZoom%22%3A%2018%2C%20%22minZoom%22%3A%200%2C%20%22noWrap%22%3A%20false%2C%20%22opacity%22%3A%201.0%2C%20%22subdomains%22%3A%20%22abc%22%2C%20%22tms%22%3A%20false%7D%0A%20%20%20%20%20%20%20%20%20%20%20%20%29.addTo%28map_bf02080dd4c540edbee9dae644be4117%29%3B%0A%20%20%20%20%20%20%20%20%0A%20%20%20%20%0A%20%20%20%20%20%20%20%20%20%20%20%20var%20tile_layer_54b8e735fe014df1a468d93344230d60%20%3D%20L.tileLayer%28%0A%20%20%20%20%20%20%20%20%20%20%20%20%20%20%20%20%22https%3A//earthengine.googleapis.com/v1alpha/projects/earthengine-legacy/maps/d06733695646caf775395b244dceb34f-164536f539a7f717e0e0479e8de9d936/tiles/%7Bz%7D/%7Bx%7D/%7By%7D%22%2C%0A%20%20%20%20%20%20%20%20%20%20%20%20%20%20%20%20%7B%22attribution%22%3A%20%22Google%20Earth%20Engine%22%2C%20%22detectRetina%22%3A%20false%2C%20%22maxNativeZoom%22%3A%2018%2C%20%22maxZoom%22%3A%2018%2C%20%22minZoom%22%3A%200%2C%20%22noWrap%22%3A%20false%2C%20%22opacity%22%3A%201.0%2C%20%22subdomains%22%3A%20%22abc%22%2C%20%22tms%22%3A%20false%7D%0A%20%20%20%20%20%20%20%20%20%20%20%20%29.addTo%28map_bf02080dd4c540edbee9dae644be4117%29%3B%0A%20%20%20%20%20%20%20%20%0A%20%20%20%20%0A%20%20%20%20%20%20%20%20%20%20%20%20var%20layer_control_85e9fb2f77e14b80b35b15af4f27d1df%20%3D%20%7B%0A%20%20%20%20%20%20%20%20%20%20%20%20%20%20%20%20base_layers%20%3A%20%7B%0A%20%20%20%20%20%20%20%20%20%20%20%20%20%20%20%20%20%20%20%20%22openstreetmap%22%20%3A%20tile_layer_f0e7e5beb3cc447e9cfc86b20f523d73%2C%0A%20%20%20%20%20%20%20%20%20%20%20%20%20%20%20%20%7D%2C%0A%20%20%20%20%20%20%20%20%20%20%20%20%20%20%20%20overlays%20%3A%20%20%7B%0A%20%20%20%20%20%20%20%20%20%20%20%20%20%20%20%20%20%20%20%20%22Google%20Maps%22%20%3A%20tile_layer_4b7bc5b2b3c94388ba5d30dad270823d%2C%0A%20%20%20%20%20%20%20%20%20%20%20%20%20%20%20%20%20%20%20%20%22ROI%22%20%3A%20tile_layer_106f13e91eed47589108eef35c332fc2%2C%0A%20%20%20%20%20%20%20%20%20%20%20%20%20%20%20%20%20%20%20%20%22Sites%22%20%3A%20tile_layer_54b8e735fe014df1a468d93344230d60%2C%0A%20%20%20%20%20%20%20%20%20%20%20%20%20%20%20%20%7D%2C%0A%20%20%20%20%20%20%20%20%20%20%20%20%7D%3B%0A%20%20%20%20%20%20%20%20%20%20%20%20L.control.layers%28%0A%20%20%20%20%20%20%20%20%20%20%20%20%20%20%20%20layer_control_85e9fb2f77e14b80b35b15af4f27d1df.base_layers%2C%0A%20%20%20%20%20%20%20%20%20%20%20%20%20%20%20%20layer_control_85e9fb2f77e14b80b35b15af4f27d1df.overlays%2C%0A%20%20%20%20%20%20%20%20%20%20%20%20%20%20%20%20%7B%22autoZIndex%22%3A%20true%2C%20%22collapsed%22%3A%20true%2C%20%22position%22%3A%20%22topright%22%7D%0A%20%20%20%20%20%20%20%20%20%20%20%20%29.addTo%28map_bf02080dd4c540edbee9dae644be4117%29%3B%0A%20%20%20%20%20%20%20%20%0A%3C/script%3E onload=\"this.contentDocument.open();this.contentDocument.write(    decodeURIComponent(this.getAttribute('data-html')));this.contentDocument.close();\" allowfullscreen webkitallowfullscreen mozallowfullscreen></iframe></div></div>"
            ],
            "text/plain": [
              "<geemap.eefolium.Map at 0x7f45dd062d90>"
            ]
          },
          "metadata": {
            "tags": []
          },
          "execution_count": 8
        }
      ]
    },
    {
      "cell_type": "markdown",
      "metadata": {
        "id": "HIbwNoD5pBrE"
      },
      "source": [
        "## Imagery\n",
        "\n",
        "### Sentinel-1\n",
        "\n",
        "We want to use preprocessed, analysis-ready data from the *S1_GRD* collection to calculate *radar volume index*.\n",
        "\n",
        ">A previous version of this notebook used the *S1_GRD_FLOAT* collection (rather than the *S1_GRD* collection) because the data are in power units, and are thus immediately suitable to calculate *radar volume index* (as opposed to the *S1_GRD* collection, which gives the data in decibels (dB), i.e., on a logarithmic scale).\n",
        ">\n",
        ">See [this page](https://developers.google.com/earth-engine/guides/sentinel1) for more information about Sentinel-1 data accessible through GEE.\n",
        "\n",
        "The next few cells take the following steps:\n",
        "\n",
        "1. pulls target data from *both* S1 collections (*S1_GRD* and *S1_GRD_FLOAT*)\n",
        "2. applies inverse transform to *S1_GRD* so they are represented in raw power\n",
        "3. calculates summary statistics and verifies transform by comparing with data from *S1_GRD_FLOAT*\n",
        "\n",
        "Grab the data from the *S1_GRD_FLOAT* collection."
      ]
    },
    {
      "cell_type": "markdown",
      "metadata": {
        "id": "qYGEuIqdGmfU"
      },
      "source": [
        ""
      ]
    },
    {
      "cell_type": "code",
      "metadata": {
        "colab": {
          "base_uri": "https://localhost:8080/"
        },
        "id": "WEcrKXvJmlgv",
        "outputId": "08e39c3a-2dc0-4a64-d537-40786530ec90"
      },
      "source": [
        "_s1 = (ee.ImageCollection(\"COPERNICUS/S1_GRD_FLOAT\")\n",
        "        .filter(ee.Filter.listContains('transmitterReceiverPolarisation', 'VV'))\n",
        "        .filter(ee.Filter.eq(\"instrumentMode\", \"IW\"))\n",
        "        .filter(ee.Filter.eq(\"orbitProperties_pass\", \"DESCENDING\"))\n",
        "        .filterDate(startDate, endDate)\n",
        "        .filterBounds(roi)\n",
        "        .select(['VV', 'VH'])\n",
        "        .mean())\n",
        "\n",
        "type(_s1)  # this includes 113 images for our inputs on 2021-05-12"
      ],
      "execution_count": null,
      "outputs": [
        {
          "output_type": "execute_result",
          "data": {
            "text/plain": [
              "ee.image.Image"
            ]
          },
          "metadata": {
            "tags": []
          },
          "execution_count": 9
        }
      ]
    },
    {
      "cell_type": "markdown",
      "metadata": {
        "id": "1RrlUOu74gu5"
      },
      "source": [
        "The result should be a multi-band *Image*. Imagery were selected for our time/place of interest and composited to one mean raster per band in the output image.\n",
        "\n",
        ">**Converting decibels to raw power**\n",
        ">\n",
        ">Imagery in the Earth Engine 'COPERNICUS/S1_GRD' Sentinel-1 ImageCollection is consists of Level-1 Ground Range Detected (GRD) scenes processed to backscatter coefficient (σ°) in decibels (dB). The backscatter coefficient represents target backscattering area (radar cross-section) per unit ground area. Because it can vary by several orders of magnitude, it is converted to dB as 10*log10σ°. It measures whether the radiated terrain scatters the incident microwave radiation preferentially away from the SAR sensor dB < 0) or towards the SAR sensor dB > 0). This scattering behavior depends on the physical characteristics of the terrain, primarily the geometry of the terrain elements and their electromagnetic characteristics.\n",
        ">\n",
        ">More info about this process may be found [here](https://developers.google.com/earth-engine/guides/sentinel1#sentinel-1-preprocessing) in the GEE docs.\n",
        "\n",
        "Define and apply a function to do the inverse transform back into raw power units. Then do the same thing as in the cell above to select data from the *S1_GRD* collection, but apply the transform to all bands before getting the composite image."
      ]
    },
    {
      "cell_type": "code",
      "metadata": {
        "colab": {
          "base_uri": "https://localhost:8080/"
        },
        "id": "c1IfKycfQr7H",
        "outputId": "7ec9b5c9-5aea-4682-d6ac-08cea69f8b9a"
      },
      "source": [
        "def xform_s1(x):\n",
        "    return ee.Image(10).pow(x.divide(10))\n",
        "\n",
        "s1 = (ee.ImageCollection(\"COPERNICUS/S1_GRD\")\n",
        "        .filter(ee.Filter.listContains('transmitterReceiverPolarisation', 'VV'))\n",
        "        .filter(ee.Filter.eq(\"instrumentMode\", \"IW\"))\n",
        "        .filter(ee.Filter.eq(\"orbitProperties_pass\", \"DESCENDING\"))\n",
        "        .filterDate(startDate, endDate)\n",
        "        .filterBounds(roi)\n",
        "        .select(['VV', 'VH'])\n",
        "        .map(xform_s1)\n",
        "        .mean())\n",
        "\n",
        "type(s1)  # also includes 113 images for our inputs on 2021-05-12"
      ],
      "execution_count": null,
      "outputs": [
        {
          "output_type": "execute_result",
          "data": {
            "text/plain": [
              "ee.image.Image"
            ]
          },
          "metadata": {
            "tags": []
          },
          "execution_count": 10
        }
      ]
    },
    {
      "cell_type": "markdown",
      "metadata": {
        "id": "gKyRkBKHejHZ"
      },
      "source": [
        "Quick comparison between the two using the `gee.image_stats` convenience function."
      ]
    },
    {
      "cell_type": "code",
      "metadata": {
        "colab": {
          "base_uri": "https://localhost:8080/",
          "height": 284
        },
        "id": "Y3ZKqMJgejRH",
        "outputId": "201e89e7-ab34-4eed-f74b-19f2244191c3"
      },
      "source": [
        "def get_stats(img, region=roi, scale=30):\n",
        "    return geemap.image_stats(img=img, region=roi, scale=scale).getInfo()\n",
        "\n",
        "display(HTML(\"<h3>S1_GRD_FLOAT</h3>\"))\n",
        "display(pd.DataFrame(get_stats(_s1)))\n",
        "display(HTML(\"<h3>S1_GRD</h3>\"))\n",
        "display(pd.DataFrame(get_stats(s1)))"
      ],
      "execution_count": null,
      "outputs": [
        {
          "output_type": "display_data",
          "data": {
            "text/html": [
              "<h3>S1_GRD_FLOAT</h3>"
            ],
            "text/plain": [
              "<IPython.core.display.HTML object>"
            ]
          },
          "metadata": {
            "tags": []
          }
        },
        {
          "output_type": "display_data",
          "data": {
            "text/html": [
              "<div>\n",
              "<style scoped>\n",
              "    .dataframe tbody tr th:only-of-type {\n",
              "        vertical-align: middle;\n",
              "    }\n",
              "\n",
              "    .dataframe tbody tr th {\n",
              "        vertical-align: top;\n",
              "    }\n",
              "\n",
              "    .dataframe thead th {\n",
              "        text-align: right;\n",
              "    }\n",
              "</style>\n",
              "<table border=\"1\" class=\"dataframe\">\n",
              "  <thead>\n",
              "    <tr style=\"text-align: right;\">\n",
              "      <th></th>\n",
              "      <th>max</th>\n",
              "      <th>mean</th>\n",
              "      <th>min</th>\n",
              "      <th>std</th>\n",
              "      <th>sum</th>\n",
              "    </tr>\n",
              "  </thead>\n",
              "  <tbody>\n",
              "    <tr>\n",
              "      <th>VH</th>\n",
              "      <td>31.514315</td>\n",
              "      <td>0.057534</td>\n",
              "      <td>0.00074</td>\n",
              "      <td>0.068617</td>\n",
              "      <td>4.516671e+06</td>\n",
              "    </tr>\n",
              "    <tr>\n",
              "      <th>VV</th>\n",
              "      <td>151.913361</td>\n",
              "      <td>0.273832</td>\n",
              "      <td>0.00261</td>\n",
              "      <td>0.370733</td>\n",
              "      <td>2.149695e+07</td>\n",
              "    </tr>\n",
              "  </tbody>\n",
              "</table>\n",
              "</div>"
            ],
            "text/plain": [
              "           max      mean      min       std           sum\n",
              "VH   31.514315  0.057534  0.00074  0.068617  4.516671e+06\n",
              "VV  151.913361  0.273832  0.00261  0.370733  2.149695e+07"
            ]
          },
          "metadata": {
            "tags": []
          }
        },
        {
          "output_type": "display_data",
          "data": {
            "text/html": [
              "<h3>S1_GRD</h3>"
            ],
            "text/plain": [
              "<IPython.core.display.HTML object>"
            ]
          },
          "metadata": {
            "tags": []
          }
        },
        {
          "output_type": "display_data",
          "data": {
            "text/html": [
              "<div>\n",
              "<style scoped>\n",
              "    .dataframe tbody tr th:only-of-type {\n",
              "        vertical-align: middle;\n",
              "    }\n",
              "\n",
              "    .dataframe tbody tr th {\n",
              "        vertical-align: top;\n",
              "    }\n",
              "\n",
              "    .dataframe thead th {\n",
              "        text-align: right;\n",
              "    }\n",
              "</style>\n",
              "<table border=\"1\" class=\"dataframe\">\n",
              "  <thead>\n",
              "    <tr style=\"text-align: right;\">\n",
              "      <th></th>\n",
              "      <th>max</th>\n",
              "      <th>mean</th>\n",
              "      <th>min</th>\n",
              "      <th>std</th>\n",
              "      <th>sum</th>\n",
              "    </tr>\n",
              "  </thead>\n",
              "  <tbody>\n",
              "    <tr>\n",
              "      <th>VH</th>\n",
              "      <td>31.514315</td>\n",
              "      <td>0.057538</td>\n",
              "      <td>0.00074</td>\n",
              "      <td>0.068620</td>\n",
              "      <td>4.516934e+06</td>\n",
              "    </tr>\n",
              "    <tr>\n",
              "      <th>VV</th>\n",
              "      <td>151.913360</td>\n",
              "      <td>0.273848</td>\n",
              "      <td>0.00261</td>\n",
              "      <td>0.370749</td>\n",
              "      <td>2.149820e+07</td>\n",
              "    </tr>\n",
              "  </tbody>\n",
              "</table>\n",
              "</div>"
            ],
            "text/plain": [
              "           max      mean      min       std           sum\n",
              "VH   31.514315  0.057538  0.00074  0.068620  4.516934e+06\n",
              "VV  151.913360  0.273848  0.00261  0.370749  2.149820e+07"
            ]
          },
          "metadata": {
            "tags": []
          }
        }
      ]
    },
    {
      "cell_type": "markdown",
      "metadata": {
        "id": "nJnLEubcWXT4"
      },
      "source": [
        ">*Assume the transform function is working properly if the values in both tables above are similar.*     \n",
        ">If that's the case, we are good to proceed with the data from *S1_GRD*.\n",
        "\n",
        "Dereference the data from the *S1_GRD_FLOAT* collection as we no longer need it."
      ]
    },
    {
      "cell_type": "code",
      "metadata": {
        "id": "wYTDrklVWYXe"
      },
      "source": [
        "_s1 = None"
      ],
      "execution_count": null,
      "outputs": []
    },
    {
      "cell_type": "markdown",
      "metadata": {
        "id": "pMu0rJ-Is9_n"
      },
      "source": [
        "#### Calculate radar volume index\n",
        "\n",
        "Add a new band to the output image containing the radar volume index calculated from *VV* and *VH*: `4 * VH / (VH + VV)`"
      ]
    },
    {
      "cell_type": "code",
      "metadata": {
        "colab": {
          "base_uri": "https://localhost:8080/"
        },
        "id": "5ZDZQSvHZnMd",
        "outputId": "6a063f7c-3848-4455-955c-31204bc08d40"
      },
      "source": [
        "s1out = s1.addBands(s1.expression(\n",
        "    expression=\"4 * VH / (VH + VV)\",\n",
        "    opt_map={'VV': s1.select('VV'),\n",
        "             'VH': s1.select('VH')}\n",
        ").rename('radar_volume_index'))\n",
        "\n",
        "type(s1out)"
      ],
      "execution_count": null,
      "outputs": [
        {
          "output_type": "execute_result",
          "data": {
            "text/plain": [
              "ee.image.Image"
            ]
          },
          "metadata": {
            "tags": []
          },
          "execution_count": 13
        }
      ]
    },
    {
      "cell_type": "markdown",
      "metadata": {
        "id": "uZcSQPoDxalI"
      },
      "source": [
        "Plot the histograms for *VV* and *VH* (or just get simple summary stats like before)."
      ]
    },
    {
      "cell_type": "code",
      "metadata": {
        "id": "9cvSkhj2jxsk",
        "colab": {
          "base_uri": "https://localhost:8080/",
          "height": 142
        },
        "outputId": "9ad7459d-a69a-4d03-a320-f36e55bffacd"
      },
      "source": [
        "# s1tmp = geemap.ee_to_numpy(s1comp, bands=[\"VV\", \"VH\"], region=roi)\n",
        "\n",
        "# # Plot histogram for VV:\n",
        "# counts, bins = np.histogram(a=s1tmp[:,:,0].flatten())\n",
        "# plt.hist(s1tmp[:,:,0], bins=bins)\n",
        "# plt.ylim(0., 3.)\n",
        "# plt.xlim(-18., -5.)\n",
        "# plt.show()\n",
        "\n",
        "# # Plot histogram for VH:\n",
        "# counts, bins = np.histogram(a=s1tmp[:,:,1].flatten())\n",
        "# plt.hist(s1tmp[:,:,1], bins=bins)\n",
        "# plt.ylim(0., 3.)\n",
        "# plt.xlim(-18., -5.)\n",
        "# plt.show()\n",
        "\n",
        "s1stats = get_stats(s1out)\n",
        "\n",
        "display(pd.DataFrame(s1stats))"
      ],
      "execution_count": null,
      "outputs": [
        {
          "output_type": "display_data",
          "data": {
            "text/html": [
              "<div>\n",
              "<style scoped>\n",
              "    .dataframe tbody tr th:only-of-type {\n",
              "        vertical-align: middle;\n",
              "    }\n",
              "\n",
              "    .dataframe tbody tr th {\n",
              "        vertical-align: top;\n",
              "    }\n",
              "\n",
              "    .dataframe thead th {\n",
              "        text-align: right;\n",
              "    }\n",
              "</style>\n",
              "<table border=\"1\" class=\"dataframe\">\n",
              "  <thead>\n",
              "    <tr style=\"text-align: right;\">\n",
              "      <th></th>\n",
              "      <th>max</th>\n",
              "      <th>mean</th>\n",
              "      <th>min</th>\n",
              "      <th>std</th>\n",
              "      <th>sum</th>\n",
              "    </tr>\n",
              "  </thead>\n",
              "  <tbody>\n",
              "    <tr>\n",
              "      <th>VH</th>\n",
              "      <td>31.514315</td>\n",
              "      <td>0.057538</td>\n",
              "      <td>0.000740</td>\n",
              "      <td>0.068620</td>\n",
              "      <td>4.516934e+06</td>\n",
              "    </tr>\n",
              "    <tr>\n",
              "      <th>VV</th>\n",
              "      <td>151.913360</td>\n",
              "      <td>0.273848</td>\n",
              "      <td>0.002610</td>\n",
              "      <td>0.370749</td>\n",
              "      <td>2.149820e+07</td>\n",
              "    </tr>\n",
              "    <tr>\n",
              "      <th>radar_volume_index</th>\n",
              "      <td>3.588767</td>\n",
              "      <td>0.752902</td>\n",
              "      <td>0.003941</td>\n",
              "      <td>0.132861</td>\n",
              "      <td>5.910590e+07</td>\n",
              "    </tr>\n",
              "  </tbody>\n",
              "</table>\n",
              "</div>"
            ],
            "text/plain": [
              "                           max      mean       min       std           sum\n",
              "VH                   31.514315  0.057538  0.000740  0.068620  4.516934e+06\n",
              "VV                  151.913360  0.273848  0.002610  0.370749  2.149820e+07\n",
              "radar_volume_index    3.588767  0.752902  0.003941  0.132861  5.910590e+07"
            ]
          },
          "metadata": {
            "tags": []
          }
        }
      ]
    },
    {
      "cell_type": "markdown",
      "metadata": {
        "id": "td8ZN2Jdfh-b"
      },
      "source": [
        "Now plot all the bands (including the computed *radar_volume_index* image/band) for visual inspection:"
      ]
    },
    {
      "cell_type": "code",
      "metadata": {
        "colab": {
          "base_uri": "https://localhost:8080/",
          "height": 679
        },
        "id": "03Ns1Y_Tbi6u",
        "outputId": "7cba234f-45dc-4d76-fc10-9c54321c266a"
      },
      "source": [
        "def drawMap(image, style_func, width=\"90%\", **kwargs):\n",
        "    M = geemap.Map(**kwargs)\n",
        "    for band in image.bandNames().getInfo():\n",
        "        M.addLayer(image.select(band), **style_func(band))\n",
        "    M.addLayerControl()\n",
        "    return M\n",
        "\n",
        "def s1style(b: str, vis_params: dict={}):\n",
        "    if b.endswith(\"radar_volume_index\"):\n",
        "        vis_params = {'min': s1stats['min'][b], 'max': s1stats['max'][b]}\n",
        "    return {'vis_params': vis_params, \n",
        "            'shown': b.endswith(\"radar_volume_index\"), \n",
        "            'name': b}\n",
        "\n",
        "drawMap(image=s1out, style_func=s1style, center=roi_center, zoom=7, width=\"80%\")"
      ],
      "execution_count": null,
      "outputs": [
        {
          "output_type": "execute_result",
          "data": {
            "text/html": [
              "<div style=\"width:100%;\"><div style=\"position:relative;width:100%;height:0;padding-bottom:60%;\"><span style=\"color:#565656\">Make this Notebook Trusted to load map: File -> Trust Notebook</span><iframe src=\"about:blank\" style=\"position:absolute;width:100%;height:100%;left:0;top:0;border:none !important;\" data-html=%3C%21DOCTYPE%20html%3E%0A%3Chead%3E%20%20%20%20%0A%20%20%20%20%3Cmeta%20http-equiv%3D%22content-type%22%20content%3D%22text/html%3B%20charset%3DUTF-8%22%20/%3E%0A%20%20%20%20%0A%20%20%20%20%20%20%20%20%3Cscript%3E%0A%20%20%20%20%20%20%20%20%20%20%20%20L_NO_TOUCH%20%3D%20false%3B%0A%20%20%20%20%20%20%20%20%20%20%20%20L_DISABLE_3D%20%3D%20false%3B%0A%20%20%20%20%20%20%20%20%3C/script%3E%0A%20%20%20%20%0A%20%20%20%20%3Cstyle%3Ehtml%2C%20body%20%7Bwidth%3A%20100%25%3Bheight%3A%20100%25%3Bmargin%3A%200%3Bpadding%3A%200%3B%7D%3C/style%3E%0A%20%20%20%20%3Cstyle%3E%23map%20%7Bposition%3Aabsolute%3Btop%3A0%3Bbottom%3A0%3Bright%3A0%3Bleft%3A0%3B%7D%3C/style%3E%0A%20%20%20%20%3Cscript%20src%3D%22https%3A//cdn.jsdelivr.net/npm/leaflet%401.6.0/dist/leaflet.js%22%3E%3C/script%3E%0A%20%20%20%20%3Cscript%20src%3D%22https%3A//code.jquery.com/jquery-1.12.4.min.js%22%3E%3C/script%3E%0A%20%20%20%20%3Cscript%20src%3D%22https%3A//maxcdn.bootstrapcdn.com/bootstrap/3.2.0/js/bootstrap.min.js%22%3E%3C/script%3E%0A%20%20%20%20%3Cscript%20src%3D%22https%3A//cdnjs.cloudflare.com/ajax/libs/Leaflet.awesome-markers/2.0.2/leaflet.awesome-markers.js%22%3E%3C/script%3E%0A%20%20%20%20%3Clink%20rel%3D%22stylesheet%22%20href%3D%22https%3A//cdn.jsdelivr.net/npm/leaflet%401.6.0/dist/leaflet.css%22/%3E%0A%20%20%20%20%3Clink%20rel%3D%22stylesheet%22%20href%3D%22https%3A//maxcdn.bootstrapcdn.com/bootstrap/3.2.0/css/bootstrap.min.css%22/%3E%0A%20%20%20%20%3Clink%20rel%3D%22stylesheet%22%20href%3D%22https%3A//maxcdn.bootstrapcdn.com/bootstrap/3.2.0/css/bootstrap-theme.min.css%22/%3E%0A%20%20%20%20%3Clink%20rel%3D%22stylesheet%22%20href%3D%22https%3A//maxcdn.bootstrapcdn.com/font-awesome/4.6.3/css/font-awesome.min.css%22/%3E%0A%20%20%20%20%3Clink%20rel%3D%22stylesheet%22%20href%3D%22https%3A//cdnjs.cloudflare.com/ajax/libs/Leaflet.awesome-markers/2.0.2/leaflet.awesome-markers.css%22/%3E%0A%20%20%20%20%3Clink%20rel%3D%22stylesheet%22%20href%3D%22https%3A//cdn.jsdelivr.net/gh/python-visualization/folium/folium/templates/leaflet.awesome.rotate.min.css%22/%3E%0A%20%20%20%20%0A%20%20%20%20%20%20%20%20%20%20%20%20%3Cmeta%20name%3D%22viewport%22%20content%3D%22width%3Ddevice-width%2C%0A%20%20%20%20%20%20%20%20%20%20%20%20%20%20%20%20initial-scale%3D1.0%2C%20maximum-scale%3D1.0%2C%20user-scalable%3Dno%22%20/%3E%0A%20%20%20%20%20%20%20%20%20%20%20%20%3Cstyle%3E%0A%20%20%20%20%20%20%20%20%20%20%20%20%20%20%20%20%23map_ddf5cd51aa254032a284b900df7973e6%20%7B%0A%20%20%20%20%20%20%20%20%20%20%20%20%20%20%20%20%20%20%20%20position%3A%20relative%3B%0A%20%20%20%20%20%20%20%20%20%20%20%20%20%20%20%20%20%20%20%20width%3A%20100.0%25%3B%0A%20%20%20%20%20%20%20%20%20%20%20%20%20%20%20%20%20%20%20%20height%3A%20100.0%25%3B%0A%20%20%20%20%20%20%20%20%20%20%20%20%20%20%20%20%20%20%20%20left%3A%200.0%25%3B%0A%20%20%20%20%20%20%20%20%20%20%20%20%20%20%20%20%20%20%20%20top%3A%200.0%25%3B%0A%20%20%20%20%20%20%20%20%20%20%20%20%20%20%20%20%7D%0A%20%20%20%20%20%20%20%20%20%20%20%20%3C/style%3E%0A%20%20%20%20%20%20%20%20%0A%20%20%20%20%3Cscript%20src%3D%22https%3A//cdnjs.cloudflare.com/ajax/libs/leaflet.fullscreen/1.4.2/Control.FullScreen.min.js%22%3E%3C/script%3E%0A%20%20%20%20%3Clink%20rel%3D%22stylesheet%22%20href%3D%22https%3A//cdnjs.cloudflare.com/ajax/libs/leaflet.fullscreen/1.4.2/Control.FullScreen.min.css%22/%3E%0A%3C/head%3E%0A%3Cbody%3E%20%20%20%20%0A%20%20%20%20%0A%20%20%20%20%20%20%20%20%20%20%20%20%3Cdiv%20class%3D%22folium-map%22%20id%3D%22map_ddf5cd51aa254032a284b900df7973e6%22%20%3E%3C/div%3E%0A%20%20%20%20%20%20%20%20%0A%3C/body%3E%0A%3Cscript%3E%20%20%20%20%0A%20%20%20%20%0A%20%20%20%20%20%20%20%20%20%20%20%20var%20map_ddf5cd51aa254032a284b900df7973e6%20%3D%20L.map%28%0A%20%20%20%20%20%20%20%20%20%20%20%20%20%20%20%20%22map_ddf5cd51aa254032a284b900df7973e6%22%2C%0A%20%20%20%20%20%20%20%20%20%20%20%20%20%20%20%20%7B%0A%20%20%20%20%20%20%20%20%20%20%20%20%20%20%20%20%20%20%20%20center%3A%20%5B-7.132673861109996%2C%20-76.61272973500003%5D%2C%0A%20%20%20%20%20%20%20%20%20%20%20%20%20%20%20%20%20%20%20%20crs%3A%20L.CRS.EPSG3857%2C%0A%20%20%20%20%20%20%20%20%20%20%20%20%20%20%20%20%20%20%20%20zoom%3A%207%2C%0A%20%20%20%20%20%20%20%20%20%20%20%20%20%20%20%20%20%20%20%20zoomControl%3A%20true%2C%0A%20%20%20%20%20%20%20%20%20%20%20%20%20%20%20%20%20%20%20%20preferCanvas%3A%20false%2C%0A%20%20%20%20%20%20%20%20%20%20%20%20%20%20%20%20%20%20%20%20eeInitialize%3A%20true%2C%0A%20%20%20%20%20%20%20%20%20%20%20%20%20%20%20%20%20%20%20%20addGoogleMap%3A%20true%2C%0A%20%20%20%20%20%20%20%20%20%20%20%20%20%20%20%20%20%20%20%20pluginLatlngpopup%3A%20true%2C%0A%20%20%20%20%20%20%20%20%20%20%20%20%20%20%20%20%20%20%20%20pluginFullscreen%3A%20true%2C%0A%20%20%20%20%20%20%20%20%20%20%20%20%20%20%20%20%20%20%20%20pluginDraw%3A%20false%2C%0A%20%20%20%20%20%20%20%20%20%20%20%20%20%20%20%20%20%20%20%20DrawExport%3A%20true%2C%0A%20%20%20%20%20%20%20%20%20%20%20%20%20%20%20%20%20%20%20%20pluginMinimap%3A%20false%2C%0A%20%20%20%20%20%20%20%20%20%20%20%20%20%20%20%20%20%20%20%20pluginLayercontrol%3A%20false%2C%0A%20%20%20%20%20%20%20%20%20%20%20%20%20%20%20%20%7D%0A%20%20%20%20%20%20%20%20%20%20%20%20%29%3B%0A%0A%20%20%20%20%20%20%20%20%20%20%20%20%0A%0A%20%20%20%20%20%20%20%20%0A%20%20%20%20%0A%20%20%20%20%20%20%20%20%20%20%20%20var%20tile_layer_1ed86f8d2ef3480b9bd6fc408258b9ff%20%3D%20L.tileLayer%28%0A%20%20%20%20%20%20%20%20%20%20%20%20%20%20%20%20%22https%3A//%7Bs%7D.tile.openstreetmap.org/%7Bz%7D/%7Bx%7D/%7By%7D.png%22%2C%0A%20%20%20%20%20%20%20%20%20%20%20%20%20%20%20%20%7B%22attribution%22%3A%20%22Data%20by%20%5Cu0026copy%3B%20%5Cu003ca%20href%3D%5C%22http%3A//openstreetmap.org%5C%22%5Cu003eOpenStreetMap%5Cu003c/a%5Cu003e%2C%20under%20%5Cu003ca%20href%3D%5C%22http%3A//www.openstreetmap.org/copyright%5C%22%5Cu003eODbL%5Cu003c/a%5Cu003e.%22%2C%20%22detectRetina%22%3A%20false%2C%20%22maxNativeZoom%22%3A%2018%2C%20%22maxZoom%22%3A%2018%2C%20%22minZoom%22%3A%200%2C%20%22noWrap%22%3A%20false%2C%20%22opacity%22%3A%201%2C%20%22subdomains%22%3A%20%22abc%22%2C%20%22tms%22%3A%20false%7D%0A%20%20%20%20%20%20%20%20%20%20%20%20%29.addTo%28map_ddf5cd51aa254032a284b900df7973e6%29%3B%0A%20%20%20%20%20%20%20%20%0A%20%20%20%20%0A%20%20%20%20%20%20%20%20%20%20%20%20var%20tile_layer_4b7bc5b2b3c94388ba5d30dad270823d%20%3D%20L.tileLayer%28%0A%20%20%20%20%20%20%20%20%20%20%20%20%20%20%20%20%22https%3A//mt1.google.com/vt/lyrs%3Dm%5Cu0026x%3D%7Bx%7D%5Cu0026y%3D%7By%7D%5Cu0026z%3D%7Bz%7D%22%2C%0A%20%20%20%20%20%20%20%20%20%20%20%20%20%20%20%20%7B%22attribution%22%3A%20%22Google%22%2C%20%22detectRetina%22%3A%20false%2C%20%22maxNativeZoom%22%3A%2018%2C%20%22maxZoom%22%3A%2018%2C%20%22minZoom%22%3A%200%2C%20%22noWrap%22%3A%20false%2C%20%22opacity%22%3A%201%2C%20%22subdomains%22%3A%20%22abc%22%2C%20%22tms%22%3A%20false%7D%0A%20%20%20%20%20%20%20%20%20%20%20%20%29.addTo%28map_ddf5cd51aa254032a284b900df7973e6%29%3B%0A%20%20%20%20%20%20%20%20%0A%20%20%20%20%0A%20%20%20%20%20%20%20%20%20%20%20%20%20%20%20%20var%20lat_lng_popup_91f17b2776114e32bae6ac93f8839575%20%3D%20L.popup%28%29%3B%0A%20%20%20%20%20%20%20%20%20%20%20%20%20%20%20%20function%20latLngPop%28e%29%20%7B%0A%20%20%20%20%20%20%20%20%20%20%20%20%20%20%20%20%20%20%20%20lat_lng_popup_91f17b2776114e32bae6ac93f8839575%0A%20%20%20%20%20%20%20%20%20%20%20%20%20%20%20%20%20%20%20%20%20%20%20%20.setLatLng%28e.latlng%29%0A%20%20%20%20%20%20%20%20%20%20%20%20%20%20%20%20%20%20%20%20%20%20%20%20.setContent%28%22Latitude%3A%20%22%20%2B%20e.latlng.lat.toFixed%284%29%20%2B%0A%20%20%20%20%20%20%20%20%20%20%20%20%20%20%20%20%20%20%20%20%20%20%20%20%20%20%20%20%20%20%20%20%20%20%20%20%22%3Cbr%3ELongitude%3A%20%22%20%2B%20e.latlng.lng.toFixed%284%29%29%0A%20%20%20%20%20%20%20%20%20%20%20%20%20%20%20%20%20%20%20%20%20%20%20%20.openOn%28map_ddf5cd51aa254032a284b900df7973e6%29%3B%0A%20%20%20%20%20%20%20%20%20%20%20%20%20%20%20%20%20%20%20%20%7D%0A%20%20%20%20%20%20%20%20%20%20%20%20%20%20%20%20map_ddf5cd51aa254032a284b900df7973e6.on%28%27click%27%2C%20latLngPop%29%3B%0A%20%20%20%20%20%20%20%20%20%20%20%20%0A%20%20%20%20%0A%20%20%20%20%20%20%20%20%20%20%20%20L.control.fullscreen%28%0A%20%20%20%20%20%20%20%20%20%20%20%20%20%20%20%20%7B%22forceSeparateButton%22%3A%20false%2C%20%22position%22%3A%20%22topleft%22%2C%20%22title%22%3A%20%22Full%20Screen%22%2C%20%22titleCancel%22%3A%20%22Exit%20Full%20Screen%22%7D%0A%20%20%20%20%20%20%20%20%20%20%20%20%29.addTo%28map_ddf5cd51aa254032a284b900df7973e6%29%3B%0A%20%20%20%20%20%20%20%20%0A%20%20%20%20%0A%20%20%20%20%20%20%20%20%20%20%20%20map_ddf5cd51aa254032a284b900df7973e6.fitBounds%28%0A%20%20%20%20%20%20%20%20%20%20%20%20%20%20%20%20%5B%5B-7.132673861109996%2C%20-76.61272973500003%5D%2C%20%5B-7.132673861109996%2C%20-76.61272973500003%5D%5D%2C%0A%20%20%20%20%20%20%20%20%20%20%20%20%20%20%20%20%7B%22maxZoom%22%3A%207%7D%0A%20%20%20%20%20%20%20%20%20%20%20%20%29%3B%0A%20%20%20%20%20%20%20%20%0A%20%20%20%20%0A%20%20%20%20%20%20%20%20%20%20%20%20var%20tile_layer_31d4b9b57fc94565a3e9073b287bcaa2%20%3D%20L.tileLayer%28%0A%20%20%20%20%20%20%20%20%20%20%20%20%20%20%20%20%22https%3A//earthengine.googleapis.com/v1alpha/projects/earthengine-legacy/maps/b9272a0e0f463cf9bcfd4d38ebd66798-6d853ef138da3c37f0938c1d71d4d1d6/tiles/%7Bz%7D/%7Bx%7D/%7By%7D%22%2C%0A%20%20%20%20%20%20%20%20%20%20%20%20%20%20%20%20%7B%22attribution%22%3A%20%22Google%20Earth%20Engine%22%2C%20%22detectRetina%22%3A%20false%2C%20%22maxNativeZoom%22%3A%2018%2C%20%22maxZoom%22%3A%2018%2C%20%22minZoom%22%3A%200%2C%20%22noWrap%22%3A%20false%2C%20%22opacity%22%3A%201.0%2C%20%22subdomains%22%3A%20%22abc%22%2C%20%22tms%22%3A%20false%7D%0A%20%20%20%20%20%20%20%20%20%20%20%20%29.addTo%28map_ddf5cd51aa254032a284b900df7973e6%29%3B%0A%20%20%20%20%20%20%20%20%0A%20%20%20%20%0A%20%20%20%20%20%20%20%20%20%20%20%20var%20tile_layer_a132928d71f4482aa12094f23125fa3b%20%3D%20L.tileLayer%28%0A%20%20%20%20%20%20%20%20%20%20%20%20%20%20%20%20%22https%3A//earthengine.googleapis.com/v1alpha/projects/earthengine-legacy/maps/73e99e58ea90371ce735db5e20bb5a72-906bad17b13e8a5a9fdeb99c4b5000d7/tiles/%7Bz%7D/%7Bx%7D/%7By%7D%22%2C%0A%20%20%20%20%20%20%20%20%20%20%20%20%20%20%20%20%7B%22attribution%22%3A%20%22Google%20Earth%20Engine%22%2C%20%22detectRetina%22%3A%20false%2C%20%22maxNativeZoom%22%3A%2018%2C%20%22maxZoom%22%3A%2018%2C%20%22minZoom%22%3A%200%2C%20%22noWrap%22%3A%20false%2C%20%22opacity%22%3A%201.0%2C%20%22subdomains%22%3A%20%22abc%22%2C%20%22tms%22%3A%20false%7D%0A%20%20%20%20%20%20%20%20%20%20%20%20%29.addTo%28map_ddf5cd51aa254032a284b900df7973e6%29%3B%0A%20%20%20%20%20%20%20%20%0A%20%20%20%20%0A%20%20%20%20%20%20%20%20%20%20%20%20var%20tile_layer_7b2827ee8b69402385f9f53550d98d08%20%3D%20L.tileLayer%28%0A%20%20%20%20%20%20%20%20%20%20%20%20%20%20%20%20%22https%3A//earthengine.googleapis.com/v1alpha/projects/earthengine-legacy/maps/052edca86b5191b8b97eb9402d8017a6-28012e6ee6043afec19a646d5fb17e33/tiles/%7Bz%7D/%7Bx%7D/%7By%7D%22%2C%0A%20%20%20%20%20%20%20%20%20%20%20%20%20%20%20%20%7B%22attribution%22%3A%20%22Google%20Earth%20Engine%22%2C%20%22detectRetina%22%3A%20false%2C%20%22maxNativeZoom%22%3A%2018%2C%20%22maxZoom%22%3A%2018%2C%20%22minZoom%22%3A%200%2C%20%22noWrap%22%3A%20false%2C%20%22opacity%22%3A%201.0%2C%20%22subdomains%22%3A%20%22abc%22%2C%20%22tms%22%3A%20false%7D%0A%20%20%20%20%20%20%20%20%20%20%20%20%29.addTo%28map_ddf5cd51aa254032a284b900df7973e6%29%3B%0A%20%20%20%20%20%20%20%20%0A%20%20%20%20%0A%20%20%20%20%20%20%20%20%20%20%20%20var%20layer_control_955b43eb1f664997af5cd20a331cf14f%20%3D%20%7B%0A%20%20%20%20%20%20%20%20%20%20%20%20%20%20%20%20base_layers%20%3A%20%7B%0A%20%20%20%20%20%20%20%20%20%20%20%20%20%20%20%20%20%20%20%20%22openstreetmap%22%20%3A%20tile_layer_1ed86f8d2ef3480b9bd6fc408258b9ff%2C%0A%20%20%20%20%20%20%20%20%20%20%20%20%20%20%20%20%7D%2C%0A%20%20%20%20%20%20%20%20%20%20%20%20%20%20%20%20overlays%20%3A%20%20%7B%0A%20%20%20%20%20%20%20%20%20%20%20%20%20%20%20%20%20%20%20%20%22Google%20Maps%22%20%3A%20tile_layer_4b7bc5b2b3c94388ba5d30dad270823d%2C%0A%20%20%20%20%20%20%20%20%20%20%20%20%20%20%20%20%20%20%20%20%22VV%22%20%3A%20tile_layer_31d4b9b57fc94565a3e9073b287bcaa2%2C%0A%20%20%20%20%20%20%20%20%20%20%20%20%20%20%20%20%20%20%20%20%22VH%22%20%3A%20tile_layer_a132928d71f4482aa12094f23125fa3b%2C%0A%20%20%20%20%20%20%20%20%20%20%20%20%20%20%20%20%20%20%20%20%22radar_volume_index%22%20%3A%20tile_layer_7b2827ee8b69402385f9f53550d98d08%2C%0A%20%20%20%20%20%20%20%20%20%20%20%20%20%20%20%20%7D%2C%0A%20%20%20%20%20%20%20%20%20%20%20%20%7D%3B%0A%20%20%20%20%20%20%20%20%20%20%20%20L.control.layers%28%0A%20%20%20%20%20%20%20%20%20%20%20%20%20%20%20%20layer_control_955b43eb1f664997af5cd20a331cf14f.base_layers%2C%0A%20%20%20%20%20%20%20%20%20%20%20%20%20%20%20%20layer_control_955b43eb1f664997af5cd20a331cf14f.overlays%2C%0A%20%20%20%20%20%20%20%20%20%20%20%20%20%20%20%20%7B%22autoZIndex%22%3A%20true%2C%20%22collapsed%22%3A%20true%2C%20%22position%22%3A%20%22topright%22%7D%0A%20%20%20%20%20%20%20%20%20%20%20%20%29.addTo%28map_ddf5cd51aa254032a284b900df7973e6%29%3B%0A%20%20%20%20%20%20%20%20%20%20%20%20tile_layer_31d4b9b57fc94565a3e9073b287bcaa2.remove%28%29%3B%0A%20%20%20%20%20%20%20%20%20%20%20%20tile_layer_a132928d71f4482aa12094f23125fa3b.remove%28%29%3B%0A%20%20%20%20%20%20%20%20%0A%3C/script%3E onload=\"this.contentDocument.open();this.contentDocument.write(    decodeURIComponent(this.getAttribute('data-html')));this.contentDocument.close();\" allowfullscreen webkitallowfullscreen mozallowfullscreen></iframe></div></div>"
            ],
            "text/plain": [
              "<geemap.eefolium.Map at 0x7f45dcfa7890>"
            ]
          },
          "metadata": {
            "tags": []
          },
          "execution_count": 15
        }
      ]
    },
    {
      "cell_type": "markdown",
      "metadata": {
        "id": "XlcNbkU7ptm8"
      },
      "source": [
        "### ALOS2\n",
        "\n",
        "https://developers.google.com/earth-engine/datasets/catalog/JAXA_ALOS_PALSAR_YEARLY_SAR\n",
        "\n",
        "This dataset from ALOS2 only has one timestep per year, so modify the start and end dates before applying *filterDate* to the *ImageCollection*."
      ]
    },
    {
      "cell_type": "code",
      "metadata": {
        "colab": {
          "base_uri": "https://localhost:8080/"
        },
        "id": "Xb-_GQUfnCdJ",
        "outputId": "d86071b6-7158-4649-be67-4adfe923855b"
      },
      "source": [
        "years = [f'{startDate.split(\"-\")[0]}-01-01', \n",
        "         f'{endDate.split(\"-\")[0]}-12-31']\n",
        "\n",
        "alos2 = (ee.ImageCollection('JAXA/ALOS/PALSAR/YEARLY/SAR')\n",
        "           .filterDate(*years)\n",
        "           .filterBounds(roi)\n",
        "           .select(['HV','HH'])\n",
        "           .mean())\n",
        "\n",
        "type(alos2)"
      ],
      "execution_count": null,
      "outputs": [
        {
          "output_type": "execute_result",
          "data": {
            "text/plain": [
              "ee.image.Image"
            ]
          },
          "metadata": {
            "tags": []
          },
          "execution_count": 16
        }
      ]
    },
    {
      "cell_type": "markdown",
      "metadata": {
        "id": "wYpy9du5maN4"
      },
      "source": [
        "#### Calculate radar volume index\n",
        "\n",
        "Add a new band to the output image containing the ALOS2 radar volume index calculated as: `4 * HV / (HV + HH)`"
      ]
    },
    {
      "cell_type": "code",
      "metadata": {
        "colab": {
          "base_uri": "https://localhost:8080/"
        },
        "id": "KQlAoNF-kg9r",
        "outputId": "532f8bd3-b9ba-474a-9f9e-b86507fef3b3"
      },
      "source": [
        "alos2out = alos2.addBands(alos2.expression(\n",
        "    expression=\"4 * HV / (HV + HH)\", \n",
        "    opt_map={'HV': alos2.select('HV'),\n",
        "             'HH': alos2.select('HH')}\n",
        ").rename('radar_volume_index'))\n",
        "\n",
        "type(alos2out)"
      ],
      "execution_count": null,
      "outputs": [
        {
          "output_type": "execute_result",
          "data": {
            "text/plain": [
              "ee.image.Image"
            ]
          },
          "metadata": {
            "tags": []
          },
          "execution_count": 17
        }
      ]
    },
    {
      "cell_type": "markdown",
      "metadata": {
        "id": "4jbsfk_qa3Sa"
      },
      "source": [
        "Calculate and display a table of summary stats."
      ]
    },
    {
      "cell_type": "code",
      "metadata": {
        "colab": {
          "base_uri": "https://localhost:8080/",
          "height": 142
        },
        "id": "QpQ1fUzDa3d5",
        "outputId": "c649cda9-a0c9-4f77-fd41-eb45b32bf9da"
      },
      "source": [
        "alos2stats = get_stats(alos2out)\n",
        "\n",
        "display(pd.DataFrame(alos2stats))"
      ],
      "execution_count": null,
      "outputs": [
        {
          "output_type": "display_data",
          "data": {
            "text/html": [
              "<div>\n",
              "<style scoped>\n",
              "    .dataframe tbody tr th:only-of-type {\n",
              "        vertical-align: middle;\n",
              "    }\n",
              "\n",
              "    .dataframe tbody tr th {\n",
              "        vertical-align: top;\n",
              "    }\n",
              "\n",
              "    .dataframe thead th {\n",
              "        text-align: right;\n",
              "    }\n",
              "</style>\n",
              "<table border=\"1\" class=\"dataframe\">\n",
              "  <thead>\n",
              "    <tr style=\"text-align: right;\">\n",
              "      <th></th>\n",
              "      <th>max</th>\n",
              "      <th>mean</th>\n",
              "      <th>min</th>\n",
              "      <th>std</th>\n",
              "      <th>sum</th>\n",
              "    </tr>\n",
              "  </thead>\n",
              "  <tbody>\n",
              "    <tr>\n",
              "      <th>HH</th>\n",
              "      <td>65535</td>\n",
              "      <td>6690.437360</td>\n",
              "      <td>0</td>\n",
              "      <td>2823.646256</td>\n",
              "      <td>5.252266e+11</td>\n",
              "    </tr>\n",
              "    <tr>\n",
              "      <th>HV</th>\n",
              "      <td>65535</td>\n",
              "      <td>3759.369117</td>\n",
              "      <td>0</td>\n",
              "      <td>1601.820148</td>\n",
              "      <td>2.951258e+11</td>\n",
              "    </tr>\n",
              "    <tr>\n",
              "      <th>radar_volume_index</th>\n",
              "      <td>4</td>\n",
              "      <td>1.441220</td>\n",
              "      <td>0</td>\n",
              "      <td>0.288143</td>\n",
              "      <td>1.131417e+08</td>\n",
              "    </tr>\n",
              "  </tbody>\n",
              "</table>\n",
              "</div>"
            ],
            "text/plain": [
              "                      max         mean  min          std           sum\n",
              "HH                  65535  6690.437360    0  2823.646256  5.252266e+11\n",
              "HV                  65535  3759.369117    0  1601.820148  2.951258e+11\n",
              "radar_volume_index      4     1.441220    0     0.288143  1.131417e+08"
            ]
          },
          "metadata": {
            "tags": []
          }
        }
      ]
    },
    {
      "cell_type": "markdown",
      "metadata": {
        "id": "9F2w3fQvqKNE"
      },
      "source": [
        "### Landsat 8 SR\n",
        "\n",
        "https://developers.google.com/earth-engine/datasets/catalog/LANDSAT_LC08_C01_T1_SR\n",
        "\n",
        ">This example describes exactly what we need to do to produce the Landsat 8 median composite:    \n",
        "https://developers.google.com/earth-engine/guides/ic_composite_mosaic\n",
        "\n",
        "Select Landsat 8 surface reflectance images and apply a quality mask by mapping a function over all the images in the collection that match our filtering criteria. Then, calculate NDVI and add it to the image as a new band."
      ]
    },
    {
      "cell_type": "code",
      "metadata": {
        "colab": {
          "base_uri": "https://localhost:8080/"
        },
        "id": "y5s7JRuOqBxv",
        "outputId": "b9631d65-5393-476b-96ad-39b4211f279a"
      },
      "source": [
        "def mask_l8sr(image):\n",
        "    cloudShadowBitMask = 1<<3\n",
        "    cloudBitMask = 1<<5\n",
        "    qa = image.select('pixel_qa')\n",
        "    mask = qa.bitwiseAnd(cloudShadowBitMask).eq(0).And(\n",
        "           qa.bitwiseAnd(cloudBitMask).eq(0))\n",
        "    return image.updateMask(mask)\n",
        "\n",
        "# Select Landsat 8 surface reflectance scenes and make a median composite.\n",
        "l8sr = (ee.ImageCollection('LANDSAT/LC08/C01/T1_SR')\n",
        "          .filterDate(startDate, endDate)\n",
        "          .filterBounds(roi)\n",
        "          .map(mask_l8sr)\n",
        "          .median())\n",
        "\n",
        "# Use the composite bands 5 and 4 to produce an NDVI image.\n",
        "l8out = l8sr.addBands(l8sr.normalizedDifference(['B5','B4']).rename('ndvi'))\n",
        "\n",
        "type(l8out)"
      ],
      "execution_count": null,
      "outputs": [
        {
          "output_type": "execute_result",
          "data": {
            "text/plain": [
              "ee.image.Image"
            ]
          },
          "metadata": {
            "tags": []
          },
          "execution_count": 19
        }
      ]
    },
    {
      "cell_type": "markdown",
      "metadata": {
        "id": "UI2tn26RkNxt"
      },
      "source": [
        "Draw NDVI and the other surface reflectance bands on a map."
      ]
    },
    {
      "cell_type": "code",
      "metadata": {
        "colab": {
          "base_uri": "https://localhost:8080/",
          "height": 679
        },
        "id": "x-K1pT9Y_VNn",
        "outputId": "b6e58cbf-7951-4df7-b305-ac6919665255"
      },
      "source": [
        "def l8style(b: str, vis_params: dict={}):\n",
        "    if b.endswith(\"ndvi\"):\n",
        "        vis_params = {'min': -1.0, 'max': 1.0, 'palette': 'red,yellow,green'}\n",
        "    return {'vis_params': vis_params, 'shown': b.endswith(\"ndvi\"), 'name': b}\n",
        "\n",
        "drawMap(image=l8out, style_func=l8style, center=roi_center, zoom=7, width=\"75%\")"
      ],
      "execution_count": null,
      "outputs": [
        {
          "output_type": "execute_result",
          "data": {
            "text/html": [
              "<div style=\"width:100%;\"><div style=\"position:relative;width:100%;height:0;padding-bottom:60%;\"><span style=\"color:#565656\">Make this Notebook Trusted to load map: File -> Trust Notebook</span><iframe src=\"about:blank\" style=\"position:absolute;width:100%;height:100%;left:0;top:0;border:none !important;\" data-html=%3C%21DOCTYPE%20html%3E%0A%3Chead%3E%20%20%20%20%0A%20%20%20%20%3Cmeta%20http-equiv%3D%22content-type%22%20content%3D%22text/html%3B%20charset%3DUTF-8%22%20/%3E%0A%20%20%20%20%0A%20%20%20%20%20%20%20%20%3Cscript%3E%0A%20%20%20%20%20%20%20%20%20%20%20%20L_NO_TOUCH%20%3D%20false%3B%0A%20%20%20%20%20%20%20%20%20%20%20%20L_DISABLE_3D%20%3D%20false%3B%0A%20%20%20%20%20%20%20%20%3C/script%3E%0A%20%20%20%20%0A%20%20%20%20%3Cstyle%3Ehtml%2C%20body%20%7Bwidth%3A%20100%25%3Bheight%3A%20100%25%3Bmargin%3A%200%3Bpadding%3A%200%3B%7D%3C/style%3E%0A%20%20%20%20%3Cstyle%3E%23map%20%7Bposition%3Aabsolute%3Btop%3A0%3Bbottom%3A0%3Bright%3A0%3Bleft%3A0%3B%7D%3C/style%3E%0A%20%20%20%20%3Cscript%20src%3D%22https%3A//cdn.jsdelivr.net/npm/leaflet%401.6.0/dist/leaflet.js%22%3E%3C/script%3E%0A%20%20%20%20%3Cscript%20src%3D%22https%3A//code.jquery.com/jquery-1.12.4.min.js%22%3E%3C/script%3E%0A%20%20%20%20%3Cscript%20src%3D%22https%3A//maxcdn.bootstrapcdn.com/bootstrap/3.2.0/js/bootstrap.min.js%22%3E%3C/script%3E%0A%20%20%20%20%3Cscript%20src%3D%22https%3A//cdnjs.cloudflare.com/ajax/libs/Leaflet.awesome-markers/2.0.2/leaflet.awesome-markers.js%22%3E%3C/script%3E%0A%20%20%20%20%3Clink%20rel%3D%22stylesheet%22%20href%3D%22https%3A//cdn.jsdelivr.net/npm/leaflet%401.6.0/dist/leaflet.css%22/%3E%0A%20%20%20%20%3Clink%20rel%3D%22stylesheet%22%20href%3D%22https%3A//maxcdn.bootstrapcdn.com/bootstrap/3.2.0/css/bootstrap.min.css%22/%3E%0A%20%20%20%20%3Clink%20rel%3D%22stylesheet%22%20href%3D%22https%3A//maxcdn.bootstrapcdn.com/bootstrap/3.2.0/css/bootstrap-theme.min.css%22/%3E%0A%20%20%20%20%3Clink%20rel%3D%22stylesheet%22%20href%3D%22https%3A//maxcdn.bootstrapcdn.com/font-awesome/4.6.3/css/font-awesome.min.css%22/%3E%0A%20%20%20%20%3Clink%20rel%3D%22stylesheet%22%20href%3D%22https%3A//cdnjs.cloudflare.com/ajax/libs/Leaflet.awesome-markers/2.0.2/leaflet.awesome-markers.css%22/%3E%0A%20%20%20%20%3Clink%20rel%3D%22stylesheet%22%20href%3D%22https%3A//cdn.jsdelivr.net/gh/python-visualization/folium/folium/templates/leaflet.awesome.rotate.min.css%22/%3E%0A%20%20%20%20%0A%20%20%20%20%20%20%20%20%20%20%20%20%3Cmeta%20name%3D%22viewport%22%20content%3D%22width%3Ddevice-width%2C%0A%20%20%20%20%20%20%20%20%20%20%20%20%20%20%20%20initial-scale%3D1.0%2C%20maximum-scale%3D1.0%2C%20user-scalable%3Dno%22%20/%3E%0A%20%20%20%20%20%20%20%20%20%20%20%20%3Cstyle%3E%0A%20%20%20%20%20%20%20%20%20%20%20%20%20%20%20%20%23map_12664c86964f49b68ef42ecaedda126d%20%7B%0A%20%20%20%20%20%20%20%20%20%20%20%20%20%20%20%20%20%20%20%20position%3A%20relative%3B%0A%20%20%20%20%20%20%20%20%20%20%20%20%20%20%20%20%20%20%20%20width%3A%20100.0%25%3B%0A%20%20%20%20%20%20%20%20%20%20%20%20%20%20%20%20%20%20%20%20height%3A%20100.0%25%3B%0A%20%20%20%20%20%20%20%20%20%20%20%20%20%20%20%20%20%20%20%20left%3A%200.0%25%3B%0A%20%20%20%20%20%20%20%20%20%20%20%20%20%20%20%20%20%20%20%20top%3A%200.0%25%3B%0A%20%20%20%20%20%20%20%20%20%20%20%20%20%20%20%20%7D%0A%20%20%20%20%20%20%20%20%20%20%20%20%3C/style%3E%0A%20%20%20%20%20%20%20%20%0A%20%20%20%20%3Cscript%20src%3D%22https%3A//cdnjs.cloudflare.com/ajax/libs/leaflet.fullscreen/1.4.2/Control.FullScreen.min.js%22%3E%3C/script%3E%0A%20%20%20%20%3Clink%20rel%3D%22stylesheet%22%20href%3D%22https%3A//cdnjs.cloudflare.com/ajax/libs/leaflet.fullscreen/1.4.2/Control.FullScreen.min.css%22/%3E%0A%3C/head%3E%0A%3Cbody%3E%20%20%20%20%0A%20%20%20%20%0A%20%20%20%20%20%20%20%20%20%20%20%20%3Cdiv%20class%3D%22folium-map%22%20id%3D%22map_12664c86964f49b68ef42ecaedda126d%22%20%3E%3C/div%3E%0A%20%20%20%20%20%20%20%20%0A%3C/body%3E%0A%3Cscript%3E%20%20%20%20%0A%20%20%20%20%0A%20%20%20%20%20%20%20%20%20%20%20%20var%20map_12664c86964f49b68ef42ecaedda126d%20%3D%20L.map%28%0A%20%20%20%20%20%20%20%20%20%20%20%20%20%20%20%20%22map_12664c86964f49b68ef42ecaedda126d%22%2C%0A%20%20%20%20%20%20%20%20%20%20%20%20%20%20%20%20%7B%0A%20%20%20%20%20%20%20%20%20%20%20%20%20%20%20%20%20%20%20%20center%3A%20%5B-7.132673861109996%2C%20-76.61272973500003%5D%2C%0A%20%20%20%20%20%20%20%20%20%20%20%20%20%20%20%20%20%20%20%20crs%3A%20L.CRS.EPSG3857%2C%0A%20%20%20%20%20%20%20%20%20%20%20%20%20%20%20%20%20%20%20%20zoom%3A%207%2C%0A%20%20%20%20%20%20%20%20%20%20%20%20%20%20%20%20%20%20%20%20zoomControl%3A%20true%2C%0A%20%20%20%20%20%20%20%20%20%20%20%20%20%20%20%20%20%20%20%20preferCanvas%3A%20false%2C%0A%20%20%20%20%20%20%20%20%20%20%20%20%20%20%20%20%20%20%20%20eeInitialize%3A%20true%2C%0A%20%20%20%20%20%20%20%20%20%20%20%20%20%20%20%20%20%20%20%20addGoogleMap%3A%20true%2C%0A%20%20%20%20%20%20%20%20%20%20%20%20%20%20%20%20%20%20%20%20pluginLatlngpopup%3A%20true%2C%0A%20%20%20%20%20%20%20%20%20%20%20%20%20%20%20%20%20%20%20%20pluginFullscreen%3A%20true%2C%0A%20%20%20%20%20%20%20%20%20%20%20%20%20%20%20%20%20%20%20%20pluginDraw%3A%20false%2C%0A%20%20%20%20%20%20%20%20%20%20%20%20%20%20%20%20%20%20%20%20DrawExport%3A%20true%2C%0A%20%20%20%20%20%20%20%20%20%20%20%20%20%20%20%20%20%20%20%20pluginMinimap%3A%20false%2C%0A%20%20%20%20%20%20%20%20%20%20%20%20%20%20%20%20%20%20%20%20pluginLayercontrol%3A%20false%2C%0A%20%20%20%20%20%20%20%20%20%20%20%20%20%20%20%20%7D%0A%20%20%20%20%20%20%20%20%20%20%20%20%29%3B%0A%0A%20%20%20%20%20%20%20%20%20%20%20%20%0A%0A%20%20%20%20%20%20%20%20%0A%20%20%20%20%0A%20%20%20%20%20%20%20%20%20%20%20%20var%20tile_layer_67bd8240bc3d4078bf4071156792b6cf%20%3D%20L.tileLayer%28%0A%20%20%20%20%20%20%20%20%20%20%20%20%20%20%20%20%22https%3A//%7Bs%7D.tile.openstreetmap.org/%7Bz%7D/%7Bx%7D/%7By%7D.png%22%2C%0A%20%20%20%20%20%20%20%20%20%20%20%20%20%20%20%20%7B%22attribution%22%3A%20%22Data%20by%20%5Cu0026copy%3B%20%5Cu003ca%20href%3D%5C%22http%3A//openstreetmap.org%5C%22%5Cu003eOpenStreetMap%5Cu003c/a%5Cu003e%2C%20under%20%5Cu003ca%20href%3D%5C%22http%3A//www.openstreetmap.org/copyright%5C%22%5Cu003eODbL%5Cu003c/a%5Cu003e.%22%2C%20%22detectRetina%22%3A%20false%2C%20%22maxNativeZoom%22%3A%2018%2C%20%22maxZoom%22%3A%2018%2C%20%22minZoom%22%3A%200%2C%20%22noWrap%22%3A%20false%2C%20%22opacity%22%3A%201%2C%20%22subdomains%22%3A%20%22abc%22%2C%20%22tms%22%3A%20false%7D%0A%20%20%20%20%20%20%20%20%20%20%20%20%29.addTo%28map_12664c86964f49b68ef42ecaedda126d%29%3B%0A%20%20%20%20%20%20%20%20%0A%20%20%20%20%0A%20%20%20%20%20%20%20%20%20%20%20%20var%20tile_layer_4b7bc5b2b3c94388ba5d30dad270823d%20%3D%20L.tileLayer%28%0A%20%20%20%20%20%20%20%20%20%20%20%20%20%20%20%20%22https%3A//mt1.google.com/vt/lyrs%3Dm%5Cu0026x%3D%7Bx%7D%5Cu0026y%3D%7By%7D%5Cu0026z%3D%7Bz%7D%22%2C%0A%20%20%20%20%20%20%20%20%20%20%20%20%20%20%20%20%7B%22attribution%22%3A%20%22Google%22%2C%20%22detectRetina%22%3A%20false%2C%20%22maxNativeZoom%22%3A%2018%2C%20%22maxZoom%22%3A%2018%2C%20%22minZoom%22%3A%200%2C%20%22noWrap%22%3A%20false%2C%20%22opacity%22%3A%201%2C%20%22subdomains%22%3A%20%22abc%22%2C%20%22tms%22%3A%20false%7D%0A%20%20%20%20%20%20%20%20%20%20%20%20%29.addTo%28map_12664c86964f49b68ef42ecaedda126d%29%3B%0A%20%20%20%20%20%20%20%20%0A%20%20%20%20%0A%20%20%20%20%20%20%20%20%20%20%20%20%20%20%20%20var%20lat_lng_popup_98bad9a3ed6640f0bde911b81fd1d044%20%3D%20L.popup%28%29%3B%0A%20%20%20%20%20%20%20%20%20%20%20%20%20%20%20%20function%20latLngPop%28e%29%20%7B%0A%20%20%20%20%20%20%20%20%20%20%20%20%20%20%20%20%20%20%20%20lat_lng_popup_98bad9a3ed6640f0bde911b81fd1d044%0A%20%20%20%20%20%20%20%20%20%20%20%20%20%20%20%20%20%20%20%20%20%20%20%20.setLatLng%28e.latlng%29%0A%20%20%20%20%20%20%20%20%20%20%20%20%20%20%20%20%20%20%20%20%20%20%20%20.setContent%28%22Latitude%3A%20%22%20%2B%20e.latlng.lat.toFixed%284%29%20%2B%0A%20%20%20%20%20%20%20%20%20%20%20%20%20%20%20%20%20%20%20%20%20%20%20%20%20%20%20%20%20%20%20%20%20%20%20%20%22%3Cbr%3ELongitude%3A%20%22%20%2B%20e.latlng.lng.toFixed%284%29%29%0A%20%20%20%20%20%20%20%20%20%20%20%20%20%20%20%20%20%20%20%20%20%20%20%20.openOn%28map_12664c86964f49b68ef42ecaedda126d%29%3B%0A%20%20%20%20%20%20%20%20%20%20%20%20%20%20%20%20%20%20%20%20%7D%0A%20%20%20%20%20%20%20%20%20%20%20%20%20%20%20%20map_12664c86964f49b68ef42ecaedda126d.on%28%27click%27%2C%20latLngPop%29%3B%0A%20%20%20%20%20%20%20%20%20%20%20%20%0A%20%20%20%20%0A%20%20%20%20%20%20%20%20%20%20%20%20L.control.fullscreen%28%0A%20%20%20%20%20%20%20%20%20%20%20%20%20%20%20%20%7B%22forceSeparateButton%22%3A%20false%2C%20%22position%22%3A%20%22topleft%22%2C%20%22title%22%3A%20%22Full%20Screen%22%2C%20%22titleCancel%22%3A%20%22Exit%20Full%20Screen%22%7D%0A%20%20%20%20%20%20%20%20%20%20%20%20%29.addTo%28map_12664c86964f49b68ef42ecaedda126d%29%3B%0A%20%20%20%20%20%20%20%20%0A%20%20%20%20%0A%20%20%20%20%20%20%20%20%20%20%20%20map_12664c86964f49b68ef42ecaedda126d.fitBounds%28%0A%20%20%20%20%20%20%20%20%20%20%20%20%20%20%20%20%5B%5B-7.132673861109996%2C%20-76.61272973500003%5D%2C%20%5B-7.132673861109996%2C%20-76.61272973500003%5D%5D%2C%0A%20%20%20%20%20%20%20%20%20%20%20%20%20%20%20%20%7B%22maxZoom%22%3A%207%7D%0A%20%20%20%20%20%20%20%20%20%20%20%20%29%3B%0A%20%20%20%20%20%20%20%20%0A%20%20%20%20%0A%20%20%20%20%20%20%20%20%20%20%20%20var%20tile_layer_e81dcd5507e54fccabc9aac34f37e563%20%3D%20L.tileLayer%28%0A%20%20%20%20%20%20%20%20%20%20%20%20%20%20%20%20%22https%3A//earthengine.googleapis.com/v1alpha/projects/earthengine-legacy/maps/8c25d41c35ab1dcb11bae6f8f9a9546d-9d68b9008cc5f0685919a195a3e40c5f/tiles/%7Bz%7D/%7Bx%7D/%7By%7D%22%2C%0A%20%20%20%20%20%20%20%20%20%20%20%20%20%20%20%20%7B%22attribution%22%3A%20%22Google%20Earth%20Engine%22%2C%20%22detectRetina%22%3A%20false%2C%20%22maxNativeZoom%22%3A%2018%2C%20%22maxZoom%22%3A%2018%2C%20%22minZoom%22%3A%200%2C%20%22noWrap%22%3A%20false%2C%20%22opacity%22%3A%201.0%2C%20%22subdomains%22%3A%20%22abc%22%2C%20%22tms%22%3A%20false%7D%0A%20%20%20%20%20%20%20%20%20%20%20%20%29.addTo%28map_12664c86964f49b68ef42ecaedda126d%29%3B%0A%20%20%20%20%20%20%20%20%0A%20%20%20%20%0A%20%20%20%20%20%20%20%20%20%20%20%20var%20tile_layer_22220a6e0bef41d59f08e10861476c87%20%3D%20L.tileLayer%28%0A%20%20%20%20%20%20%20%20%20%20%20%20%20%20%20%20%22https%3A//earthengine.googleapis.com/v1alpha/projects/earthengine-legacy/maps/5e96de44d687475203dd2bd2d88a6d4e-3f37d6a3eb86167c08adab29c8911173/tiles/%7Bz%7D/%7Bx%7D/%7By%7D%22%2C%0A%20%20%20%20%20%20%20%20%20%20%20%20%20%20%20%20%7B%22attribution%22%3A%20%22Google%20Earth%20Engine%22%2C%20%22detectRetina%22%3A%20false%2C%20%22maxNativeZoom%22%3A%2018%2C%20%22maxZoom%22%3A%2018%2C%20%22minZoom%22%3A%200%2C%20%22noWrap%22%3A%20false%2C%20%22opacity%22%3A%201.0%2C%20%22subdomains%22%3A%20%22abc%22%2C%20%22tms%22%3A%20false%7D%0A%20%20%20%20%20%20%20%20%20%20%20%20%29.addTo%28map_12664c86964f49b68ef42ecaedda126d%29%3B%0A%20%20%20%20%20%20%20%20%0A%20%20%20%20%0A%20%20%20%20%20%20%20%20%20%20%20%20var%20tile_layer_11e261c79fa34c91bffaaedd518a04b1%20%3D%20L.tileLayer%28%0A%20%20%20%20%20%20%20%20%20%20%20%20%20%20%20%20%22https%3A//earthengine.googleapis.com/v1alpha/projects/earthengine-legacy/maps/d5d2cd0660b9c14ba3d3ba282c40363c-342729be708baa1d22c7ee88b6ee53b9/tiles/%7Bz%7D/%7Bx%7D/%7By%7D%22%2C%0A%20%20%20%20%20%20%20%20%20%20%20%20%20%20%20%20%7B%22attribution%22%3A%20%22Google%20Earth%20Engine%22%2C%20%22detectRetina%22%3A%20false%2C%20%22maxNativeZoom%22%3A%2018%2C%20%22maxZoom%22%3A%2018%2C%20%22minZoom%22%3A%200%2C%20%22noWrap%22%3A%20false%2C%20%22opacity%22%3A%201.0%2C%20%22subdomains%22%3A%20%22abc%22%2C%20%22tms%22%3A%20false%7D%0A%20%20%20%20%20%20%20%20%20%20%20%20%29.addTo%28map_12664c86964f49b68ef42ecaedda126d%29%3B%0A%20%20%20%20%20%20%20%20%0A%20%20%20%20%0A%20%20%20%20%20%20%20%20%20%20%20%20var%20tile_layer_3adc324c2c8640d48d5665eb91467d06%20%3D%20L.tileLayer%28%0A%20%20%20%20%20%20%20%20%20%20%20%20%20%20%20%20%22https%3A//earthengine.googleapis.com/v1alpha/projects/earthengine-legacy/maps/afe4b9a615ac144836faaf0a63ae6517-ab9171891eda205ff14f573417a5fbff/tiles/%7Bz%7D/%7Bx%7D/%7By%7D%22%2C%0A%20%20%20%20%20%20%20%20%20%20%20%20%20%20%20%20%7B%22attribution%22%3A%20%22Google%20Earth%20Engine%22%2C%20%22detectRetina%22%3A%20false%2C%20%22maxNativeZoom%22%3A%2018%2C%20%22maxZoom%22%3A%2018%2C%20%22minZoom%22%3A%200%2C%20%22noWrap%22%3A%20false%2C%20%22opacity%22%3A%201.0%2C%20%22subdomains%22%3A%20%22abc%22%2C%20%22tms%22%3A%20false%7D%0A%20%20%20%20%20%20%20%20%20%20%20%20%29.addTo%28map_12664c86964f49b68ef42ecaedda126d%29%3B%0A%20%20%20%20%20%20%20%20%0A%20%20%20%20%0A%20%20%20%20%20%20%20%20%20%20%20%20var%20tile_layer_fb7a539ddc1f44d3a6ddafce3d5f7239%20%3D%20L.tileLayer%28%0A%20%20%20%20%20%20%20%20%20%20%20%20%20%20%20%20%22https%3A//earthengine.googleapis.com/v1alpha/projects/earthengine-legacy/maps/195b9a32b24d2e2b4f68b5d550faaec7-4a9607a5c48ce4f26f4401c178fd5ad6/tiles/%7Bz%7D/%7Bx%7D/%7By%7D%22%2C%0A%20%20%20%20%20%20%20%20%20%20%20%20%20%20%20%20%7B%22attribution%22%3A%20%22Google%20Earth%20Engine%22%2C%20%22detectRetina%22%3A%20false%2C%20%22maxNativeZoom%22%3A%2018%2C%20%22maxZoom%22%3A%2018%2C%20%22minZoom%22%3A%200%2C%20%22noWrap%22%3A%20false%2C%20%22opacity%22%3A%201.0%2C%20%22subdomains%22%3A%20%22abc%22%2C%20%22tms%22%3A%20false%7D%0A%20%20%20%20%20%20%20%20%20%20%20%20%29.addTo%28map_12664c86964f49b68ef42ecaedda126d%29%3B%0A%20%20%20%20%20%20%20%20%0A%20%20%20%20%0A%20%20%20%20%20%20%20%20%20%20%20%20var%20tile_layer_f4f8c500ce194abba6e5a1c44ce3c62b%20%3D%20L.tileLayer%28%0A%20%20%20%20%20%20%20%20%20%20%20%20%20%20%20%20%22https%3A//earthengine.googleapis.com/v1alpha/projects/earthengine-legacy/maps/6fd9e87231782e35a196c928beef6523-ec6566865571087fcbd4ac0ab3f2466c/tiles/%7Bz%7D/%7Bx%7D/%7By%7D%22%2C%0A%20%20%20%20%20%20%20%20%20%20%20%20%20%20%20%20%7B%22attribution%22%3A%20%22Google%20Earth%20Engine%22%2C%20%22detectRetina%22%3A%20false%2C%20%22maxNativeZoom%22%3A%2018%2C%20%22maxZoom%22%3A%2018%2C%20%22minZoom%22%3A%200%2C%20%22noWrap%22%3A%20false%2C%20%22opacity%22%3A%201.0%2C%20%22subdomains%22%3A%20%22abc%22%2C%20%22tms%22%3A%20false%7D%0A%20%20%20%20%20%20%20%20%20%20%20%20%29.addTo%28map_12664c86964f49b68ef42ecaedda126d%29%3B%0A%20%20%20%20%20%20%20%20%0A%20%20%20%20%0A%20%20%20%20%20%20%20%20%20%20%20%20var%20tile_layer_827f2dcc5a4b4e0c8c3617e604dd6476%20%3D%20L.tileLayer%28%0A%20%20%20%20%20%20%20%20%20%20%20%20%20%20%20%20%22https%3A//earthengine.googleapis.com/v1alpha/projects/earthengine-legacy/maps/0f4a545236da22de737535d62183cdbf-9590b2177b8f587b08bff92e92290a90/tiles/%7Bz%7D/%7Bx%7D/%7By%7D%22%2C%0A%20%20%20%20%20%20%20%20%20%20%20%20%20%20%20%20%7B%22attribution%22%3A%20%22Google%20Earth%20Engine%22%2C%20%22detectRetina%22%3A%20false%2C%20%22maxNativeZoom%22%3A%2018%2C%20%22maxZoom%22%3A%2018%2C%20%22minZoom%22%3A%200%2C%20%22noWrap%22%3A%20false%2C%20%22opacity%22%3A%201.0%2C%20%22subdomains%22%3A%20%22abc%22%2C%20%22tms%22%3A%20false%7D%0A%20%20%20%20%20%20%20%20%20%20%20%20%29.addTo%28map_12664c86964f49b68ef42ecaedda126d%29%3B%0A%20%20%20%20%20%20%20%20%0A%20%20%20%20%0A%20%20%20%20%20%20%20%20%20%20%20%20var%20tile_layer_7960349e06194ac1988052e7bc3175be%20%3D%20L.tileLayer%28%0A%20%20%20%20%20%20%20%20%20%20%20%20%20%20%20%20%22https%3A//earthengine.googleapis.com/v1alpha/projects/earthengine-legacy/maps/17e98cf5f81580798c1907d5cd72384a-3a7b5317c264442c294f5c6e19dd8c9a/tiles/%7Bz%7D/%7Bx%7D/%7By%7D%22%2C%0A%20%20%20%20%20%20%20%20%20%20%20%20%20%20%20%20%7B%22attribution%22%3A%20%22Google%20Earth%20Engine%22%2C%20%22detectRetina%22%3A%20false%2C%20%22maxNativeZoom%22%3A%2018%2C%20%22maxZoom%22%3A%2018%2C%20%22minZoom%22%3A%200%2C%20%22noWrap%22%3A%20false%2C%20%22opacity%22%3A%201.0%2C%20%22subdomains%22%3A%20%22abc%22%2C%20%22tms%22%3A%20false%7D%0A%20%20%20%20%20%20%20%20%20%20%20%20%29.addTo%28map_12664c86964f49b68ef42ecaedda126d%29%3B%0A%20%20%20%20%20%20%20%20%0A%20%20%20%20%0A%20%20%20%20%20%20%20%20%20%20%20%20var%20tile_layer_40177e3fb5dc447a8b519dc034050a04%20%3D%20L.tileLayer%28%0A%20%20%20%20%20%20%20%20%20%20%20%20%20%20%20%20%22https%3A//earthengine.googleapis.com/v1alpha/projects/earthengine-legacy/maps/afafce794d2e5ed99889744789a49a0d-8baa6f0f2e9d696ebc24afcd80fbdcac/tiles/%7Bz%7D/%7Bx%7D/%7By%7D%22%2C%0A%20%20%20%20%20%20%20%20%20%20%20%20%20%20%20%20%7B%22attribution%22%3A%20%22Google%20Earth%20Engine%22%2C%20%22detectRetina%22%3A%20false%2C%20%22maxNativeZoom%22%3A%2018%2C%20%22maxZoom%22%3A%2018%2C%20%22minZoom%22%3A%200%2C%20%22noWrap%22%3A%20false%2C%20%22opacity%22%3A%201.0%2C%20%22subdomains%22%3A%20%22abc%22%2C%20%22tms%22%3A%20false%7D%0A%20%20%20%20%20%20%20%20%20%20%20%20%29.addTo%28map_12664c86964f49b68ef42ecaedda126d%29%3B%0A%20%20%20%20%20%20%20%20%0A%20%20%20%20%0A%20%20%20%20%20%20%20%20%20%20%20%20var%20tile_layer_0463590d4829402ba2042370e24d0d21%20%3D%20L.tileLayer%28%0A%20%20%20%20%20%20%20%20%20%20%20%20%20%20%20%20%22https%3A//earthengine.googleapis.com/v1alpha/projects/earthengine-legacy/maps/696feca96c7ca6af80ba105b8ed9cd7f-30f36551e65b2548a4b510a62e8d7751/tiles/%7Bz%7D/%7Bx%7D/%7By%7D%22%2C%0A%20%20%20%20%20%20%20%20%20%20%20%20%20%20%20%20%7B%22attribution%22%3A%20%22Google%20Earth%20Engine%22%2C%20%22detectRetina%22%3A%20false%2C%20%22maxNativeZoom%22%3A%2018%2C%20%22maxZoom%22%3A%2018%2C%20%22minZoom%22%3A%200%2C%20%22noWrap%22%3A%20false%2C%20%22opacity%22%3A%201.0%2C%20%22subdomains%22%3A%20%22abc%22%2C%20%22tms%22%3A%20false%7D%0A%20%20%20%20%20%20%20%20%20%20%20%20%29.addTo%28map_12664c86964f49b68ef42ecaedda126d%29%3B%0A%20%20%20%20%20%20%20%20%0A%20%20%20%20%0A%20%20%20%20%20%20%20%20%20%20%20%20var%20tile_layer_897d2ce97c5f42648f4f81520a30db05%20%3D%20L.tileLayer%28%0A%20%20%20%20%20%20%20%20%20%20%20%20%20%20%20%20%22https%3A//earthengine.googleapis.com/v1alpha/projects/earthengine-legacy/maps/10a357f20a5591429072a8a6560363be-61b1f1700eae7c091430fa3bf1bdc039/tiles/%7Bz%7D/%7Bx%7D/%7By%7D%22%2C%0A%20%20%20%20%20%20%20%20%20%20%20%20%20%20%20%20%7B%22attribution%22%3A%20%22Google%20Earth%20Engine%22%2C%20%22detectRetina%22%3A%20false%2C%20%22maxNativeZoom%22%3A%2018%2C%20%22maxZoom%22%3A%2018%2C%20%22minZoom%22%3A%200%2C%20%22noWrap%22%3A%20false%2C%20%22opacity%22%3A%201.0%2C%20%22subdomains%22%3A%20%22abc%22%2C%20%22tms%22%3A%20false%7D%0A%20%20%20%20%20%20%20%20%20%20%20%20%29.addTo%28map_12664c86964f49b68ef42ecaedda126d%29%3B%0A%20%20%20%20%20%20%20%20%0A%20%20%20%20%0A%20%20%20%20%20%20%20%20%20%20%20%20var%20tile_layer_f223362bf3d64d498464445e318f583f%20%3D%20L.tileLayer%28%0A%20%20%20%20%20%20%20%20%20%20%20%20%20%20%20%20%22https%3A//earthengine.googleapis.com/v1alpha/projects/earthengine-legacy/maps/6bc796f6fa0ead3d33ba11dab31cf14d-ff0aa8142efcf01a6c61f4847a309668/tiles/%7Bz%7D/%7Bx%7D/%7By%7D%22%2C%0A%20%20%20%20%20%20%20%20%20%20%20%20%20%20%20%20%7B%22attribution%22%3A%20%22Google%20Earth%20Engine%22%2C%20%22detectRetina%22%3A%20false%2C%20%22maxNativeZoom%22%3A%2018%2C%20%22maxZoom%22%3A%2018%2C%20%22minZoom%22%3A%200%2C%20%22noWrap%22%3A%20false%2C%20%22opacity%22%3A%201.0%2C%20%22subdomains%22%3A%20%22abc%22%2C%20%22tms%22%3A%20false%7D%0A%20%20%20%20%20%20%20%20%20%20%20%20%29.addTo%28map_12664c86964f49b68ef42ecaedda126d%29%3B%0A%20%20%20%20%20%20%20%20%0A%20%20%20%20%0A%20%20%20%20%20%20%20%20%20%20%20%20var%20tile_layer_13629b7c7124447aa499e2399c704eb0%20%3D%20L.tileLayer%28%0A%20%20%20%20%20%20%20%20%20%20%20%20%20%20%20%20%22https%3A//earthengine.googleapis.com/v1alpha/projects/earthengine-legacy/maps/6bc53eeec679c67c00af082469a0e5ee-49488f8a9b0b7c0a877bf856b1179f3c/tiles/%7Bz%7D/%7Bx%7D/%7By%7D%22%2C%0A%20%20%20%20%20%20%20%20%20%20%20%20%20%20%20%20%7B%22attribution%22%3A%20%22Google%20Earth%20Engine%22%2C%20%22detectRetina%22%3A%20false%2C%20%22maxNativeZoom%22%3A%2018%2C%20%22maxZoom%22%3A%2018%2C%20%22minZoom%22%3A%200%2C%20%22noWrap%22%3A%20false%2C%20%22opacity%22%3A%201.0%2C%20%22subdomains%22%3A%20%22abc%22%2C%20%22tms%22%3A%20false%7D%0A%20%20%20%20%20%20%20%20%20%20%20%20%29.addTo%28map_12664c86964f49b68ef42ecaedda126d%29%3B%0A%20%20%20%20%20%20%20%20%0A%20%20%20%20%0A%20%20%20%20%20%20%20%20%20%20%20%20var%20layer_control_92f0bde45187481283e8e4b3e54133b8%20%3D%20%7B%0A%20%20%20%20%20%20%20%20%20%20%20%20%20%20%20%20base_layers%20%3A%20%7B%0A%20%20%20%20%20%20%20%20%20%20%20%20%20%20%20%20%20%20%20%20%22openstreetmap%22%20%3A%20tile_layer_67bd8240bc3d4078bf4071156792b6cf%2C%0A%20%20%20%20%20%20%20%20%20%20%20%20%20%20%20%20%7D%2C%0A%20%20%20%20%20%20%20%20%20%20%20%20%20%20%20%20overlays%20%3A%20%20%7B%0A%20%20%20%20%20%20%20%20%20%20%20%20%20%20%20%20%20%20%20%20%22Google%20Maps%22%20%3A%20tile_layer_4b7bc5b2b3c94388ba5d30dad270823d%2C%0A%20%20%20%20%20%20%20%20%20%20%20%20%20%20%20%20%20%20%20%20%22L8-B1%22%20%3A%20tile_layer_e81dcd5507e54fccabc9aac34f37e563%2C%0A%20%20%20%20%20%20%20%20%20%20%20%20%20%20%20%20%20%20%20%20%22L8-B2%22%20%3A%20tile_layer_22220a6e0bef41d59f08e10861476c87%2C%0A%20%20%20%20%20%20%20%20%20%20%20%20%20%20%20%20%20%20%20%20%22L8-B3%22%20%3A%20tile_layer_11e261c79fa34c91bffaaedd518a04b1%2C%0A%20%20%20%20%20%20%20%20%20%20%20%20%20%20%20%20%20%20%20%20%22L8-B4%22%20%3A%20tile_layer_3adc324c2c8640d48d5665eb91467d06%2C%0A%20%20%20%20%20%20%20%20%20%20%20%20%20%20%20%20%20%20%20%20%22L8-B5%22%20%3A%20tile_layer_fb7a539ddc1f44d3a6ddafce3d5f7239%2C%0A%20%20%20%20%20%20%20%20%20%20%20%20%20%20%20%20%20%20%20%20%22L8-B6%22%20%3A%20tile_layer_f4f8c500ce194abba6e5a1c44ce3c62b%2C%0A%20%20%20%20%20%20%20%20%20%20%20%20%20%20%20%20%20%20%20%20%22L8-B7%22%20%3A%20tile_layer_827f2dcc5a4b4e0c8c3617e604dd6476%2C%0A%20%20%20%20%20%20%20%20%20%20%20%20%20%20%20%20%20%20%20%20%22L8-B10%22%20%3A%20tile_layer_7960349e06194ac1988052e7bc3175be%2C%0A%20%20%20%20%20%20%20%20%20%20%20%20%20%20%20%20%20%20%20%20%22L8-B11%22%20%3A%20tile_layer_40177e3fb5dc447a8b519dc034050a04%2C%0A%20%20%20%20%20%20%20%20%20%20%20%20%20%20%20%20%20%20%20%20%22L8-sr_aerosol%22%20%3A%20tile_layer_0463590d4829402ba2042370e24d0d21%2C%0A%20%20%20%20%20%20%20%20%20%20%20%20%20%20%20%20%20%20%20%20%22L8-pixel_qa%22%20%3A%20tile_layer_897d2ce97c5f42648f4f81520a30db05%2C%0A%20%20%20%20%20%20%20%20%20%20%20%20%20%20%20%20%20%20%20%20%22L8-radsat_qa%22%20%3A%20tile_layer_f223362bf3d64d498464445e318f583f%2C%0A%20%20%20%20%20%20%20%20%20%20%20%20%20%20%20%20%20%20%20%20%22L8-ndvi%22%20%3A%20tile_layer_13629b7c7124447aa499e2399c704eb0%2C%0A%20%20%20%20%20%20%20%20%20%20%20%20%20%20%20%20%7D%2C%0A%20%20%20%20%20%20%20%20%20%20%20%20%7D%3B%0A%20%20%20%20%20%20%20%20%20%20%20%20L.control.layers%28%0A%20%20%20%20%20%20%20%20%20%20%20%20%20%20%20%20layer_control_92f0bde45187481283e8e4b3e54133b8.base_layers%2C%0A%20%20%20%20%20%20%20%20%20%20%20%20%20%20%20%20layer_control_92f0bde45187481283e8e4b3e54133b8.overlays%2C%0A%20%20%20%20%20%20%20%20%20%20%20%20%20%20%20%20%7B%22autoZIndex%22%3A%20true%2C%20%22collapsed%22%3A%20true%2C%20%22position%22%3A%20%22topright%22%7D%0A%20%20%20%20%20%20%20%20%20%20%20%20%29.addTo%28map_12664c86964f49b68ef42ecaedda126d%29%3B%0A%20%20%20%20%20%20%20%20%20%20%20%20tile_layer_e81dcd5507e54fccabc9aac34f37e563.remove%28%29%3B%0A%20%20%20%20%20%20%20%20%20%20%20%20tile_layer_22220a6e0bef41d59f08e10861476c87.remove%28%29%3B%0A%20%20%20%20%20%20%20%20%20%20%20%20tile_layer_11e261c79fa34c91bffaaedd518a04b1.remove%28%29%3B%0A%20%20%20%20%20%20%20%20%20%20%20%20tile_layer_3adc324c2c8640d48d5665eb91467d06.remove%28%29%3B%0A%20%20%20%20%20%20%20%20%20%20%20%20tile_layer_fb7a539ddc1f44d3a6ddafce3d5f7239.remove%28%29%3B%0A%20%20%20%20%20%20%20%20%20%20%20%20tile_layer_f4f8c500ce194abba6e5a1c44ce3c62b.remove%28%29%3B%0A%20%20%20%20%20%20%20%20%20%20%20%20tile_layer_827f2dcc5a4b4e0c8c3617e604dd6476.remove%28%29%3B%0A%20%20%20%20%20%20%20%20%20%20%20%20tile_layer_7960349e06194ac1988052e7bc3175be.remove%28%29%3B%0A%20%20%20%20%20%20%20%20%20%20%20%20tile_layer_40177e3fb5dc447a8b519dc034050a04.remove%28%29%3B%0A%20%20%20%20%20%20%20%20%20%20%20%20tile_layer_0463590d4829402ba2042370e24d0d21.remove%28%29%3B%0A%20%20%20%20%20%20%20%20%20%20%20%20tile_layer_897d2ce97c5f42648f4f81520a30db05.remove%28%29%3B%0A%20%20%20%20%20%20%20%20%20%20%20%20tile_layer_f223362bf3d64d498464445e318f583f.remove%28%29%3B%0A%20%20%20%20%20%20%20%20%0A%3C/script%3E onload=\"this.contentDocument.open();this.contentDocument.write(    decodeURIComponent(this.getAttribute('data-html')));this.contentDocument.close();\" allowfullscreen webkitallowfullscreen mozallowfullscreen></iframe></div></div>"
            ],
            "text/plain": [
              "<geemap.eefolium.Map at 0x7f45dcd46810>"
            ]
          },
          "metadata": {
            "tags": []
          },
          "execution_count": 33
        }
      ]
    },
    {
      "cell_type": "markdown",
      "metadata": {
        "id": "DtmA7VUQp8bA"
      },
      "source": [
        "### VCF from MODIS"
      ]
    },
    {
      "cell_type": "code",
      "metadata": {
        "colab": {
          "base_uri": "https://localhost:8080/"
        },
        "id": "FSZV2i1jp5Kt",
        "outputId": "dfe69c2b-ee90-4502-9f60-172ee1166315"
      },
      "source": [
        "modis = (ee.ImageCollection('MODIS/006/MOD44B')\n",
        "           .filterDate(*years)\n",
        "           .filterBounds(roi)\n",
        "           .select('Percent_Tree_Cover')\n",
        "           .first())\n",
        "\n",
        "type(modis)"
      ],
      "execution_count": null,
      "outputs": [
        {
          "output_type": "execute_result",
          "data": {
            "text/plain": [
              "ee.image.Image"
            ]
          },
          "metadata": {
            "tags": []
          },
          "execution_count": 21
        }
      ]
    },
    {
      "cell_type": "markdown",
      "metadata": {
        "id": "JeZVcVJYuGi4"
      },
      "source": [
        "## Run the prediction\n",
        "\n",
        "Not clear on this so it's removed for now:\n",
        "\n",
        "```python\n",
        "prior_mean = [0.06491638, -26.63132179, 0.05590800, -29.64091620]\n",
        "prior_mean_int = ee.Number(6.07)\n",
        "prediction = (ee.Image(prior_mean_int)\n",
        "              #.add((Fmod_tc_aoi.multiply(prior_mean[0]))\n",
        "              .add(s1.select('radar_volume_index').multiply(prior_mean[1]))\n",
        "              .add(l8sr.select('ndvi').multiply(prior_mean[2]))\n",
        "              #.add(smooth.select('constant').multiply(prior_mean[3]))))\n",
        "              ).clip(roi)\n",
        "predx = prediction.exp()\n",
        "pred_final = ee.Image(predx.divide(predx.add(1)))\n",
        "type(pred_final)\n",
        "```"
      ]
    },
    {
      "cell_type": "markdown",
      "metadata": {
        "id": "23D_pxua4vNX"
      },
      "source": [
        "### Build the stack\n",
        "\n",
        ">Documentation for the image method *clipToBoundsAndScale* is helpful to understanding this step in GEE: https://developers.google.com/earth-engine/apidocs/ee-image-cliptoboundsandscale\n",
        ">\n",
        ">But I ended up using regular *clip* for now.\n",
        ">\n",
        ">Also see this information on compositing and image projections:      \n",
        ">https://developers.google.com/earth-engine/guides/projections#the-default-projection\n",
        "\n",
        "Configure preferences here to determine how the stack is created with a common grid. All imagery *added* to the stack using the *ee.Image.addBands* method will inherit the projection and scale of the parent image."
      ]
    },
    {
      "cell_type": "code",
      "metadata": {
        "colab": {
          "base_uri": "https://localhost:8080/"
        },
        "id": "kGIE-wl3ZJU2",
        "outputId": "de1a6d86-71f8-424d-d98e-90484f3d1adc"
      },
      "source": [
        "def prepare_image(image, pre: str, crs: str=\"EPSG:4326\", scale: int=30):\n",
        "    renamed = image.rename([f'{pre}-{b}' for b in image.bandNames().getInfo()])\n",
        "    return renamed.setDefaultProjection(crs=crs, scale=scale).clip(roi)\n",
        "\n",
        "s1out = prepare_image(image=s1out, pre=\"S1\")\n",
        "alos2out = prepare_image(image=alos2out, pre=\"ALOS2\")\n",
        "l8out = prepare_image(image=l8out, pre=\"L8\")\n",
        "modis = prepare_image(image=modis, pre=\"MODIS\")\n",
        "\n",
        "stack = None  # Assemble the stack in a loop.\n",
        "for i in [s1out, alos2out, l8out, modis]:\n",
        "    if stack is not None:\n",
        "        stack = stack.addBands(i)\n",
        "    else:\n",
        "        stack = i\n",
        "\n",
        "type(stack)"
      ],
      "execution_count": null,
      "outputs": [
        {
          "output_type": "execute_result",
          "data": {
            "text/plain": [
              "ee.image.Image"
            ]
          },
          "metadata": {
            "tags": []
          },
          "execution_count": 22
        }
      ]
    },
    {
      "cell_type": "code",
      "metadata": {
        "id": "i2-FS8ftZJtu"
      },
      "source": [
        "#help(s1._apply_crs_and_affine)  #.select(\"VV\"))\n",
        "#help(s1._apply_selection_and_scale)\n",
        "#help(s1._apply_spatial_transformations)\n",
        "#help(s1._apply_visualization)\n",
        "#help(s1.prepare_for_export)"
      ],
      "execution_count": null,
      "outputs": []
    },
    {
      "cell_type": "code",
      "metadata": {
        "colab": {
          "base_uri": "https://localhost:8080/",
          "height": 669
        },
        "id": "iYOklzUaY49B",
        "outputId": "a8bc77a7-c830-4941-a195-a3287e996992"
      },
      "source": [
        "# def prefix_bands(image, prefix: str):\n",
        "#     return [f'{prefix}-{b}' for b in image.bandNames().getInfo()]\n",
        "# # Get initial stack from the landsat imagery and rename bands.\n",
        "# stack = l8out.clip(roi).rename(prefix_bands(l8out.clip(roi), \"L8\"))\n",
        "# # Add the rest of the images to the stack.\n",
        "# for img, pre in [(s1out, \"S1\"), (alos2out, \"ALOS2\"), (modis, \"MODIS\")]:\n",
        "#     stack = stack.addBands(img.clip(roi).rename(prefix_bands(img, pre)))\n",
        "\n",
        "#stack = ee.ImageCollection.fromImages(images)\n",
        "\n",
        "# Generate rough stats about all bands in the stack.\n",
        "stack_stats = pd.DataFrame(get_stats(stack, scale=500))\n",
        "\n",
        "stack_stats"
      ],
      "execution_count": null,
      "outputs": [
        {
          "output_type": "execute_result",
          "data": {
            "text/html": [
              "<div>\n",
              "<style scoped>\n",
              "    .dataframe tbody tr th:only-of-type {\n",
              "        vertical-align: middle;\n",
              "    }\n",
              "\n",
              "    .dataframe tbody tr th {\n",
              "        vertical-align: top;\n",
              "    }\n",
              "\n",
              "    .dataframe thead th {\n",
              "        text-align: right;\n",
              "    }\n",
              "</style>\n",
              "<table border=\"1\" class=\"dataframe\">\n",
              "  <thead>\n",
              "    <tr style=\"text-align: right;\">\n",
              "      <th></th>\n",
              "      <th>max</th>\n",
              "      <th>mean</th>\n",
              "      <th>min</th>\n",
              "      <th>std</th>\n",
              "      <th>sum</th>\n",
              "    </tr>\n",
              "  </thead>\n",
              "  <tbody>\n",
              "    <tr>\n",
              "      <th>ALOS2-HH</th>\n",
              "      <td>32349.000000</td>\n",
              "      <td>6691.016643</td>\n",
              "      <td>844.000000</td>\n",
              "      <td>1253.527563</td>\n",
              "      <td>1.890375e+09</td>\n",
              "    </tr>\n",
              "    <tr>\n",
              "      <th>ALOS2-HV</th>\n",
              "      <td>16654.000000</td>\n",
              "      <td>3760.244466</td>\n",
              "      <td>317.000000</td>\n",
              "      <td>877.089124</td>\n",
              "      <td>1.062360e+09</td>\n",
              "    </tr>\n",
              "    <tr>\n",
              "      <th>ALOS2-radar_volume_index</th>\n",
              "      <td>1.706744</td>\n",
              "      <td>1.429725</td>\n",
              "      <td>0.311985</td>\n",
              "      <td>0.141228</td>\n",
              "      <td>4.039321e+05</td>\n",
              "    </tr>\n",
              "    <tr>\n",
              "      <th>L8-B1</th>\n",
              "      <td>8864.000000</td>\n",
              "      <td>279.431814</td>\n",
              "      <td>-999.000000</td>\n",
              "      <td>308.443599</td>\n",
              "      <td>6.784970e+07</td>\n",
              "    </tr>\n",
              "    <tr>\n",
              "      <th>L8-B10</th>\n",
              "      <td>3089.000000</td>\n",
              "      <td>2923.127373</td>\n",
              "      <td>2606.000000</td>\n",
              "      <td>31.296906</td>\n",
              "      <td>7.097736e+08</td>\n",
              "    </tr>\n",
              "    <tr>\n",
              "      <th>L8-B11</th>\n",
              "      <td>3060.000000</td>\n",
              "      <td>2897.599636</td>\n",
              "      <td>2609.000000</td>\n",
              "      <td>28.489068</td>\n",
              "      <td>7.035751e+08</td>\n",
              "    </tr>\n",
              "    <tr>\n",
              "      <th>L8-B2</th>\n",
              "      <td>8902.000000</td>\n",
              "      <td>326.189632</td>\n",
              "      <td>-731.000000</td>\n",
              "      <td>312.551332</td>\n",
              "      <td>7.920311e+07</td>\n",
              "    </tr>\n",
              "    <tr>\n",
              "      <th>L8-B3</th>\n",
              "      <td>8872.000000</td>\n",
              "      <td>568.998756</td>\n",
              "      <td>-158.000000</td>\n",
              "      <td>340.020739</td>\n",
              "      <td>1.381603e+08</td>\n",
              "    </tr>\n",
              "    <tr>\n",
              "      <th>L8-B4</th>\n",
              "      <td>8928.000000</td>\n",
              "      <td>434.191482</td>\n",
              "      <td>-304.000000</td>\n",
              "      <td>354.881632</td>\n",
              "      <td>1.054274e+08</td>\n",
              "    </tr>\n",
              "    <tr>\n",
              "      <th>L8-B5</th>\n",
              "      <td>9148.000000</td>\n",
              "      <td>3049.482867</td>\n",
              "      <td>68.500000</td>\n",
              "      <td>658.561315</td>\n",
              "      <td>7.404544e+08</td>\n",
              "    </tr>\n",
              "    <tr>\n",
              "      <th>L8-B6</th>\n",
              "      <td>7715.000000</td>\n",
              "      <td>1564.511209</td>\n",
              "      <td>24.000000</td>\n",
              "      <td>452.028054</td>\n",
              "      <td>3.798838e+08</td>\n",
              "    </tr>\n",
              "    <tr>\n",
              "      <th>L8-B7</th>\n",
              "      <td>6024.000000</td>\n",
              "      <td>768.571718</td>\n",
              "      <td>10.000000</td>\n",
              "      <td>380.218221</td>\n",
              "      <td>1.866193e+08</td>\n",
              "    </tr>\n",
              "    <tr>\n",
              "      <th>L8-ndvi</th>\n",
              "      <td>1.000000</td>\n",
              "      <td>0.757051</td>\n",
              "      <td>-0.535593</td>\n",
              "      <td>0.141381</td>\n",
              "      <td>1.837803e+05</td>\n",
              "    </tr>\n",
              "    <tr>\n",
              "      <th>L8-pixel_qa</th>\n",
              "      <td>912.000000</td>\n",
              "      <td>324.706626</td>\n",
              "      <td>322.000000</td>\n",
              "      <td>30.087836</td>\n",
              "      <td>7.884302e+07</td>\n",
              "    </tr>\n",
              "    <tr>\n",
              "      <th>L8-radsat_qa</th>\n",
              "      <td>0.000000</td>\n",
              "      <td>0.000000</td>\n",
              "      <td>0.000000</td>\n",
              "      <td>0.000000</td>\n",
              "      <td>0.000000e+00</td>\n",
              "    </tr>\n",
              "    <tr>\n",
              "      <th>L8-sr_aerosol</th>\n",
              "      <td>228.000000</td>\n",
              "      <td>139.016479</td>\n",
              "      <td>8.000000</td>\n",
              "      <td>52.171213</td>\n",
              "      <td>3.375502e+07</td>\n",
              "    </tr>\n",
              "    <tr>\n",
              "      <th>MODIS-Percent_Tree_Cover</th>\n",
              "      <td>88.000000</td>\n",
              "      <td>55.289593</td>\n",
              "      <td>0.000000</td>\n",
              "      <td>23.692354</td>\n",
              "      <td>1.556125e+07</td>\n",
              "    </tr>\n",
              "    <tr>\n",
              "      <th>S1-VH</th>\n",
              "      <td>1.305084</td>\n",
              "      <td>0.057524</td>\n",
              "      <td>0.002381</td>\n",
              "      <td>0.048404</td>\n",
              "      <td>1.625180e+04</td>\n",
              "    </tr>\n",
              "    <tr>\n",
              "      <th>S1-VV</th>\n",
              "      <td>6.830228</td>\n",
              "      <td>0.273779</td>\n",
              "      <td>0.004322</td>\n",
              "      <td>0.256514</td>\n",
              "      <td>7.734924e+04</td>\n",
              "    </tr>\n",
              "    <tr>\n",
              "      <th>S1-radar_volume_index</th>\n",
              "      <td>2.088968</td>\n",
              "      <td>0.719036</td>\n",
              "      <td>0.083921</td>\n",
              "      <td>0.070816</td>\n",
              "      <td>2.031452e+05</td>\n",
              "    </tr>\n",
              "  </tbody>\n",
              "</table>\n",
              "</div>"
            ],
            "text/plain": [
              "                                   max         mean  ...          std           sum\n",
              "ALOS2-HH                  32349.000000  6691.016643  ...  1253.527563  1.890375e+09\n",
              "ALOS2-HV                  16654.000000  3760.244466  ...   877.089124  1.062360e+09\n",
              "ALOS2-radar_volume_index      1.706744     1.429725  ...     0.141228  4.039321e+05\n",
              "L8-B1                      8864.000000   279.431814  ...   308.443599  6.784970e+07\n",
              "L8-B10                     3089.000000  2923.127373  ...    31.296906  7.097736e+08\n",
              "L8-B11                     3060.000000  2897.599636  ...    28.489068  7.035751e+08\n",
              "L8-B2                      8902.000000   326.189632  ...   312.551332  7.920311e+07\n",
              "L8-B3                      8872.000000   568.998756  ...   340.020739  1.381603e+08\n",
              "L8-B4                      8928.000000   434.191482  ...   354.881632  1.054274e+08\n",
              "L8-B5                      9148.000000  3049.482867  ...   658.561315  7.404544e+08\n",
              "L8-B6                      7715.000000  1564.511209  ...   452.028054  3.798838e+08\n",
              "L8-B7                      6024.000000   768.571718  ...   380.218221  1.866193e+08\n",
              "L8-ndvi                       1.000000     0.757051  ...     0.141381  1.837803e+05\n",
              "L8-pixel_qa                 912.000000   324.706626  ...    30.087836  7.884302e+07\n",
              "L8-radsat_qa                  0.000000     0.000000  ...     0.000000  0.000000e+00\n",
              "L8-sr_aerosol               228.000000   139.016479  ...    52.171213  3.375502e+07\n",
              "MODIS-Percent_Tree_Cover     88.000000    55.289593  ...    23.692354  1.556125e+07\n",
              "S1-VH                         1.305084     0.057524  ...     0.048404  1.625180e+04\n",
              "S1-VV                         6.830228     0.273779  ...     0.256514  7.734924e+04\n",
              "S1-radar_volume_index         2.088968     0.719036  ...     0.070816  2.031452e+05\n",
              "\n",
              "[20 rows x 5 columns]"
            ]
          },
          "metadata": {
            "tags": []
          },
          "execution_count": 24
        }
      ]
    },
    {
      "cell_type": "markdown",
      "metadata": {
        "id": "gfqvh-Htdpk2"
      },
      "source": [
        "Get some information about the spatial properties of the stack."
      ]
    },
    {
      "cell_type": "code",
      "metadata": {
        "id": "BU7HWnDndojC"
      },
      "source": [
        "#stack.select(\"MODIS-Percent_Tree_Cover\").projection().nominalScale().getInfo()"
      ],
      "execution_count": null,
      "outputs": []
    },
    {
      "cell_type": "markdown",
      "metadata": {
        "id": "9QirCsr52IA0"
      },
      "source": [
        "Draw a map of all the bands with *geemap*."
      ]
    },
    {
      "cell_type": "code",
      "metadata": {
        "colab": {
          "base_uri": "https://localhost:8080/",
          "height": 679
        },
        "id": "5wY6hqQDVDd5",
        "outputId": "6add24d5-a6fa-416b-f57e-f4895932dae8"
      },
      "source": [
        "def allstyle(b: str, vis_params: dict={}, shown: bool=False):\n",
        "    if b.endswith(\"radar_volume_index\"):\n",
        "        vis_params = stack_stats.loc[b][['min','max']].to_dict()\n",
        "        shown = True\n",
        "    if b.endswith(\"ndvi\"):\n",
        "        vis_params = {'min': -1.0, 'max':  1.0, 'palette': 'red,yellow,green'}\n",
        "        shown = True\n",
        "    return {'name': b, 'viz_params': vis_params, 'shown': shown}\n",
        "\n",
        "drawMap(image=stack, style_func=allstyle, center=roi_center, zoom=7)"
      ],
      "execution_count": null,
      "outputs": [
        {
          "output_type": "execute_result",
          "data": {
            "text/html": [
              "<div style=\"width:100%;\"><div style=\"position:relative;width:100%;height:0;padding-bottom:60%;\"><span style=\"color:#565656\">Make this Notebook Trusted to load map: File -> Trust Notebook</span><iframe src=\"about:blank\" style=\"position:absolute;width:100%;height:100%;left:0;top:0;border:none !important;\" data-html=%3C%21DOCTYPE%20html%3E%0A%3Chead%3E%20%20%20%20%0A%20%20%20%20%3Cmeta%20http-equiv%3D%22content-type%22%20content%3D%22text/html%3B%20charset%3DUTF-8%22%20/%3E%0A%20%20%20%20%0A%20%20%20%20%20%20%20%20%3Cscript%3E%0A%20%20%20%20%20%20%20%20%20%20%20%20L_NO_TOUCH%20%3D%20false%3B%0A%20%20%20%20%20%20%20%20%20%20%20%20L_DISABLE_3D%20%3D%20false%3B%0A%20%20%20%20%20%20%20%20%3C/script%3E%0A%20%20%20%20%0A%20%20%20%20%3Cstyle%3Ehtml%2C%20body%20%7Bwidth%3A%20100%25%3Bheight%3A%20100%25%3Bmargin%3A%200%3Bpadding%3A%200%3B%7D%3C/style%3E%0A%20%20%20%20%3Cstyle%3E%23map%20%7Bposition%3Aabsolute%3Btop%3A0%3Bbottom%3A0%3Bright%3A0%3Bleft%3A0%3B%7D%3C/style%3E%0A%20%20%20%20%3Cscript%20src%3D%22https%3A//cdn.jsdelivr.net/npm/leaflet%401.6.0/dist/leaflet.js%22%3E%3C/script%3E%0A%20%20%20%20%3Cscript%20src%3D%22https%3A//code.jquery.com/jquery-1.12.4.min.js%22%3E%3C/script%3E%0A%20%20%20%20%3Cscript%20src%3D%22https%3A//maxcdn.bootstrapcdn.com/bootstrap/3.2.0/js/bootstrap.min.js%22%3E%3C/script%3E%0A%20%20%20%20%3Cscript%20src%3D%22https%3A//cdnjs.cloudflare.com/ajax/libs/Leaflet.awesome-markers/2.0.2/leaflet.awesome-markers.js%22%3E%3C/script%3E%0A%20%20%20%20%3Clink%20rel%3D%22stylesheet%22%20href%3D%22https%3A//cdn.jsdelivr.net/npm/leaflet%401.6.0/dist/leaflet.css%22/%3E%0A%20%20%20%20%3Clink%20rel%3D%22stylesheet%22%20href%3D%22https%3A//maxcdn.bootstrapcdn.com/bootstrap/3.2.0/css/bootstrap.min.css%22/%3E%0A%20%20%20%20%3Clink%20rel%3D%22stylesheet%22%20href%3D%22https%3A//maxcdn.bootstrapcdn.com/bootstrap/3.2.0/css/bootstrap-theme.min.css%22/%3E%0A%20%20%20%20%3Clink%20rel%3D%22stylesheet%22%20href%3D%22https%3A//maxcdn.bootstrapcdn.com/font-awesome/4.6.3/css/font-awesome.min.css%22/%3E%0A%20%20%20%20%3Clink%20rel%3D%22stylesheet%22%20href%3D%22https%3A//cdnjs.cloudflare.com/ajax/libs/Leaflet.awesome-markers/2.0.2/leaflet.awesome-markers.css%22/%3E%0A%20%20%20%20%3Clink%20rel%3D%22stylesheet%22%20href%3D%22https%3A//cdn.jsdelivr.net/gh/python-visualization/folium/folium/templates/leaflet.awesome.rotate.min.css%22/%3E%0A%20%20%20%20%0A%20%20%20%20%20%20%20%20%20%20%20%20%3Cmeta%20name%3D%22viewport%22%20content%3D%22width%3Ddevice-width%2C%0A%20%20%20%20%20%20%20%20%20%20%20%20%20%20%20%20initial-scale%3D1.0%2C%20maximum-scale%3D1.0%2C%20user-scalable%3Dno%22%20/%3E%0A%20%20%20%20%20%20%20%20%20%20%20%20%3Cstyle%3E%0A%20%20%20%20%20%20%20%20%20%20%20%20%20%20%20%20%23map_3ffa00bac531442ba44752c55c61802f%20%7B%0A%20%20%20%20%20%20%20%20%20%20%20%20%20%20%20%20%20%20%20%20position%3A%20relative%3B%0A%20%20%20%20%20%20%20%20%20%20%20%20%20%20%20%20%20%20%20%20width%3A%20100.0%25%3B%0A%20%20%20%20%20%20%20%20%20%20%20%20%20%20%20%20%20%20%20%20height%3A%20100.0%25%3B%0A%20%20%20%20%20%20%20%20%20%20%20%20%20%20%20%20%20%20%20%20left%3A%200.0%25%3B%0A%20%20%20%20%20%20%20%20%20%20%20%20%20%20%20%20%20%20%20%20top%3A%200.0%25%3B%0A%20%20%20%20%20%20%20%20%20%20%20%20%20%20%20%20%7D%0A%20%20%20%20%20%20%20%20%20%20%20%20%3C/style%3E%0A%20%20%20%20%20%20%20%20%0A%20%20%20%20%3Cscript%20src%3D%22https%3A//cdnjs.cloudflare.com/ajax/libs/leaflet.fullscreen/1.4.2/Control.FullScreen.min.js%22%3E%3C/script%3E%0A%20%20%20%20%3Clink%20rel%3D%22stylesheet%22%20href%3D%22https%3A//cdnjs.cloudflare.com/ajax/libs/leaflet.fullscreen/1.4.2/Control.FullScreen.min.css%22/%3E%0A%3C/head%3E%0A%3Cbody%3E%20%20%20%20%0A%20%20%20%20%0A%20%20%20%20%20%20%20%20%20%20%20%20%3Cdiv%20class%3D%22folium-map%22%20id%3D%22map_3ffa00bac531442ba44752c55c61802f%22%20%3E%3C/div%3E%0A%20%20%20%20%20%20%20%20%0A%3C/body%3E%0A%3Cscript%3E%20%20%20%20%0A%20%20%20%20%0A%20%20%20%20%20%20%20%20%20%20%20%20var%20map_3ffa00bac531442ba44752c55c61802f%20%3D%20L.map%28%0A%20%20%20%20%20%20%20%20%20%20%20%20%20%20%20%20%22map_3ffa00bac531442ba44752c55c61802f%22%2C%0A%20%20%20%20%20%20%20%20%20%20%20%20%20%20%20%20%7B%0A%20%20%20%20%20%20%20%20%20%20%20%20%20%20%20%20%20%20%20%20center%3A%20%5B-7.132673861109996%2C%20-76.61272973500003%5D%2C%0A%20%20%20%20%20%20%20%20%20%20%20%20%20%20%20%20%20%20%20%20crs%3A%20L.CRS.EPSG3857%2C%0A%20%20%20%20%20%20%20%20%20%20%20%20%20%20%20%20%20%20%20%20zoom%3A%207%2C%0A%20%20%20%20%20%20%20%20%20%20%20%20%20%20%20%20%20%20%20%20zoomControl%3A%20true%2C%0A%20%20%20%20%20%20%20%20%20%20%20%20%20%20%20%20%20%20%20%20preferCanvas%3A%20false%2C%0A%20%20%20%20%20%20%20%20%20%20%20%20%20%20%20%20%20%20%20%20eeInitialize%3A%20true%2C%0A%20%20%20%20%20%20%20%20%20%20%20%20%20%20%20%20%20%20%20%20addGoogleMap%3A%20true%2C%0A%20%20%20%20%20%20%20%20%20%20%20%20%20%20%20%20%20%20%20%20pluginLatlngpopup%3A%20true%2C%0A%20%20%20%20%20%20%20%20%20%20%20%20%20%20%20%20%20%20%20%20pluginFullscreen%3A%20true%2C%0A%20%20%20%20%20%20%20%20%20%20%20%20%20%20%20%20%20%20%20%20pluginDraw%3A%20false%2C%0A%20%20%20%20%20%20%20%20%20%20%20%20%20%20%20%20%20%20%20%20DrawExport%3A%20true%2C%0A%20%20%20%20%20%20%20%20%20%20%20%20%20%20%20%20%20%20%20%20pluginMinimap%3A%20false%2C%0A%20%20%20%20%20%20%20%20%20%20%20%20%20%20%20%20%20%20%20%20pluginLayercontrol%3A%20false%2C%0A%20%20%20%20%20%20%20%20%20%20%20%20%20%20%20%20%7D%0A%20%20%20%20%20%20%20%20%20%20%20%20%29%3B%0A%0A%20%20%20%20%20%20%20%20%20%20%20%20%0A%0A%20%20%20%20%20%20%20%20%0A%20%20%20%20%0A%20%20%20%20%20%20%20%20%20%20%20%20var%20tile_layer_3a18fd7d48c84dcd90715bf96a5f2229%20%3D%20L.tileLayer%28%0A%20%20%20%20%20%20%20%20%20%20%20%20%20%20%20%20%22https%3A//%7Bs%7D.tile.openstreetmap.org/%7Bz%7D/%7Bx%7D/%7By%7D.png%22%2C%0A%20%20%20%20%20%20%20%20%20%20%20%20%20%20%20%20%7B%22attribution%22%3A%20%22Data%20by%20%5Cu0026copy%3B%20%5Cu003ca%20href%3D%5C%22http%3A//openstreetmap.org%5C%22%5Cu003eOpenStreetMap%5Cu003c/a%5Cu003e%2C%20under%20%5Cu003ca%20href%3D%5C%22http%3A//www.openstreetmap.org/copyright%5C%22%5Cu003eODbL%5Cu003c/a%5Cu003e.%22%2C%20%22detectRetina%22%3A%20false%2C%20%22maxNativeZoom%22%3A%2018%2C%20%22maxZoom%22%3A%2018%2C%20%22minZoom%22%3A%200%2C%20%22noWrap%22%3A%20false%2C%20%22opacity%22%3A%201%2C%20%22subdomains%22%3A%20%22abc%22%2C%20%22tms%22%3A%20false%7D%0A%20%20%20%20%20%20%20%20%20%20%20%20%29.addTo%28map_3ffa00bac531442ba44752c55c61802f%29%3B%0A%20%20%20%20%20%20%20%20%0A%20%20%20%20%0A%20%20%20%20%20%20%20%20%20%20%20%20var%20tile_layer_4b7bc5b2b3c94388ba5d30dad270823d%20%3D%20L.tileLayer%28%0A%20%20%20%20%20%20%20%20%20%20%20%20%20%20%20%20%22https%3A//mt1.google.com/vt/lyrs%3Dm%5Cu0026x%3D%7Bx%7D%5Cu0026y%3D%7By%7D%5Cu0026z%3D%7Bz%7D%22%2C%0A%20%20%20%20%20%20%20%20%20%20%20%20%20%20%20%20%7B%22attribution%22%3A%20%22Google%22%2C%20%22detectRetina%22%3A%20false%2C%20%22maxNativeZoom%22%3A%2018%2C%20%22maxZoom%22%3A%2018%2C%20%22minZoom%22%3A%200%2C%20%22noWrap%22%3A%20false%2C%20%22opacity%22%3A%201%2C%20%22subdomains%22%3A%20%22abc%22%2C%20%22tms%22%3A%20false%7D%0A%20%20%20%20%20%20%20%20%20%20%20%20%29.addTo%28map_3ffa00bac531442ba44752c55c61802f%29%3B%0A%20%20%20%20%20%20%20%20%0A%20%20%20%20%0A%20%20%20%20%20%20%20%20%20%20%20%20%20%20%20%20var%20lat_lng_popup_8427f8a054bc476eaf6c44ea65c4550a%20%3D%20L.popup%28%29%3B%0A%20%20%20%20%20%20%20%20%20%20%20%20%20%20%20%20function%20latLngPop%28e%29%20%7B%0A%20%20%20%20%20%20%20%20%20%20%20%20%20%20%20%20%20%20%20%20lat_lng_popup_8427f8a054bc476eaf6c44ea65c4550a%0A%20%20%20%20%20%20%20%20%20%20%20%20%20%20%20%20%20%20%20%20%20%20%20%20.setLatLng%28e.latlng%29%0A%20%20%20%20%20%20%20%20%20%20%20%20%20%20%20%20%20%20%20%20%20%20%20%20.setContent%28%22Latitude%3A%20%22%20%2B%20e.latlng.lat.toFixed%284%29%20%2B%0A%20%20%20%20%20%20%20%20%20%20%20%20%20%20%20%20%20%20%20%20%20%20%20%20%20%20%20%20%20%20%20%20%20%20%20%20%22%3Cbr%3ELongitude%3A%20%22%20%2B%20e.latlng.lng.toFixed%284%29%29%0A%20%20%20%20%20%20%20%20%20%20%20%20%20%20%20%20%20%20%20%20%20%20%20%20.openOn%28map_3ffa00bac531442ba44752c55c61802f%29%3B%0A%20%20%20%20%20%20%20%20%20%20%20%20%20%20%20%20%20%20%20%20%7D%0A%20%20%20%20%20%20%20%20%20%20%20%20%20%20%20%20map_3ffa00bac531442ba44752c55c61802f.on%28%27click%27%2C%20latLngPop%29%3B%0A%20%20%20%20%20%20%20%20%20%20%20%20%0A%20%20%20%20%0A%20%20%20%20%20%20%20%20%20%20%20%20L.control.fullscreen%28%0A%20%20%20%20%20%20%20%20%20%20%20%20%20%20%20%20%7B%22forceSeparateButton%22%3A%20false%2C%20%22position%22%3A%20%22topleft%22%2C%20%22title%22%3A%20%22Full%20Screen%22%2C%20%22titleCancel%22%3A%20%22Exit%20Full%20Screen%22%7D%0A%20%20%20%20%20%20%20%20%20%20%20%20%29.addTo%28map_3ffa00bac531442ba44752c55c61802f%29%3B%0A%20%20%20%20%20%20%20%20%0A%20%20%20%20%0A%20%20%20%20%20%20%20%20%20%20%20%20map_3ffa00bac531442ba44752c55c61802f.fitBounds%28%0A%20%20%20%20%20%20%20%20%20%20%20%20%20%20%20%20%5B%5B-7.132673861109996%2C%20-76.61272973500003%5D%2C%20%5B-7.132673861109996%2C%20-76.61272973500003%5D%5D%2C%0A%20%20%20%20%20%20%20%20%20%20%20%20%20%20%20%20%7B%22maxZoom%22%3A%207%7D%0A%20%20%20%20%20%20%20%20%20%20%20%20%29%3B%0A%20%20%20%20%20%20%20%20%0A%20%20%20%20%0A%20%20%20%20%20%20%20%20%20%20%20%20var%20tile_layer_bd9d54c955a2478099c43b02abc8c620%20%3D%20L.tileLayer%28%0A%20%20%20%20%20%20%20%20%20%20%20%20%20%20%20%20%22https%3A//earthengine.googleapis.com/v1alpha/projects/earthengine-legacy/maps/2bfa25dbac0bdce700164d033986d394-b88f33ebcdd48313e87447827bfe7927/tiles/%7Bz%7D/%7Bx%7D/%7By%7D%22%2C%0A%20%20%20%20%20%20%20%20%20%20%20%20%20%20%20%20%7B%22attribution%22%3A%20%22Google%20Earth%20Engine%22%2C%20%22detectRetina%22%3A%20false%2C%20%22maxNativeZoom%22%3A%2018%2C%20%22maxZoom%22%3A%2018%2C%20%22minZoom%22%3A%200%2C%20%22noWrap%22%3A%20false%2C%20%22opacity%22%3A%201.0%2C%20%22subdomains%22%3A%20%22abc%22%2C%20%22tms%22%3A%20false%2C%20%22vizParams%22%3A%20%7B%7D%7D%0A%20%20%20%20%20%20%20%20%20%20%20%20%29.addTo%28map_3ffa00bac531442ba44752c55c61802f%29%3B%0A%20%20%20%20%20%20%20%20%0A%20%20%20%20%0A%20%20%20%20%20%20%20%20%20%20%20%20var%20tile_layer_a605bb982c9c4187bcec3fab16c7e7ee%20%3D%20L.tileLayer%28%0A%20%20%20%20%20%20%20%20%20%20%20%20%20%20%20%20%22https%3A//earthengine.googleapis.com/v1alpha/projects/earthengine-legacy/maps/c23959a7bb95fc40bf568b657ce8351b-b93bb99bb7d5f5e7ea2ab58119306380/tiles/%7Bz%7D/%7Bx%7D/%7By%7D%22%2C%0A%20%20%20%20%20%20%20%20%20%20%20%20%20%20%20%20%7B%22attribution%22%3A%20%22Google%20Earth%20Engine%22%2C%20%22detectRetina%22%3A%20false%2C%20%22maxNativeZoom%22%3A%2018%2C%20%22maxZoom%22%3A%2018%2C%20%22minZoom%22%3A%200%2C%20%22noWrap%22%3A%20false%2C%20%22opacity%22%3A%201.0%2C%20%22subdomains%22%3A%20%22abc%22%2C%20%22tms%22%3A%20false%2C%20%22vizParams%22%3A%20%7B%7D%7D%0A%20%20%20%20%20%20%20%20%20%20%20%20%29.addTo%28map_3ffa00bac531442ba44752c55c61802f%29%3B%0A%20%20%20%20%20%20%20%20%0A%20%20%20%20%0A%20%20%20%20%20%20%20%20%20%20%20%20var%20tile_layer_025735fc19e2492a9d7856581ed191ce%20%3D%20L.tileLayer%28%0A%20%20%20%20%20%20%20%20%20%20%20%20%20%20%20%20%22https%3A//earthengine.googleapis.com/v1alpha/projects/earthengine-legacy/maps/2ed5ea1df6b50c350080d28b15770603-8bc20eca587c75f1bd49c396b0eb8fda/tiles/%7Bz%7D/%7Bx%7D/%7By%7D%22%2C%0A%20%20%20%20%20%20%20%20%20%20%20%20%20%20%20%20%7B%22attribution%22%3A%20%22Google%20Earth%20Engine%22%2C%20%22detectRetina%22%3A%20false%2C%20%22maxNativeZoom%22%3A%2018%2C%20%22maxZoom%22%3A%2018%2C%20%22minZoom%22%3A%200%2C%20%22noWrap%22%3A%20false%2C%20%22opacity%22%3A%201.0%2C%20%22subdomains%22%3A%20%22abc%22%2C%20%22tms%22%3A%20false%2C%20%22vizParams%22%3A%20%7B%22max%22%3A%202.088968275340941%2C%20%22min%22%3A%200.08392099165526531%7D%7D%0A%20%20%20%20%20%20%20%20%20%20%20%20%29.addTo%28map_3ffa00bac531442ba44752c55c61802f%29%3B%0A%20%20%20%20%20%20%20%20%0A%20%20%20%20%0A%20%20%20%20%20%20%20%20%20%20%20%20var%20tile_layer_b3272bbef1ce4530b0a9e051e1a537eb%20%3D%20L.tileLayer%28%0A%20%20%20%20%20%20%20%20%20%20%20%20%20%20%20%20%22https%3A//earthengine.googleapis.com/v1alpha/projects/earthengine-legacy/maps/cacce75c9fd9895c474e27b2a392a9e0-95355af8df2cf6e720eb351f8b401394/tiles/%7Bz%7D/%7Bx%7D/%7By%7D%22%2C%0A%20%20%20%20%20%20%20%20%20%20%20%20%20%20%20%20%7B%22attribution%22%3A%20%22Google%20Earth%20Engine%22%2C%20%22detectRetina%22%3A%20false%2C%20%22maxNativeZoom%22%3A%2018%2C%20%22maxZoom%22%3A%2018%2C%20%22minZoom%22%3A%200%2C%20%22noWrap%22%3A%20false%2C%20%22opacity%22%3A%201.0%2C%20%22subdomains%22%3A%20%22abc%22%2C%20%22tms%22%3A%20false%2C%20%22vizParams%22%3A%20%7B%7D%7D%0A%20%20%20%20%20%20%20%20%20%20%20%20%29.addTo%28map_3ffa00bac531442ba44752c55c61802f%29%3B%0A%20%20%20%20%20%20%20%20%0A%20%20%20%20%0A%20%20%20%20%20%20%20%20%20%20%20%20var%20tile_layer_579d1efac052476993890e4af81c5710%20%3D%20L.tileLayer%28%0A%20%20%20%20%20%20%20%20%20%20%20%20%20%20%20%20%22https%3A//earthengine.googleapis.com/v1alpha/projects/earthengine-legacy/maps/31d68629c0f7f4ca4474a6dc94159821-8f5507da8281286ed5139d5a6e32cffb/tiles/%7Bz%7D/%7Bx%7D/%7By%7D%22%2C%0A%20%20%20%20%20%20%20%20%20%20%20%20%20%20%20%20%7B%22attribution%22%3A%20%22Google%20Earth%20Engine%22%2C%20%22detectRetina%22%3A%20false%2C%20%22maxNativeZoom%22%3A%2018%2C%20%22maxZoom%22%3A%2018%2C%20%22minZoom%22%3A%200%2C%20%22noWrap%22%3A%20false%2C%20%22opacity%22%3A%201.0%2C%20%22subdomains%22%3A%20%22abc%22%2C%20%22tms%22%3A%20false%2C%20%22vizParams%22%3A%20%7B%7D%7D%0A%20%20%20%20%20%20%20%20%20%20%20%20%29.addTo%28map_3ffa00bac531442ba44752c55c61802f%29%3B%0A%20%20%20%20%20%20%20%20%0A%20%20%20%20%0A%20%20%20%20%20%20%20%20%20%20%20%20var%20tile_layer_15d709d77322422bb017f3cec68d36e4%20%3D%20L.tileLayer%28%0A%20%20%20%20%20%20%20%20%20%20%20%20%20%20%20%20%22https%3A//earthengine.googleapis.com/v1alpha/projects/earthengine-legacy/maps/9710e30c6eac55db8bcd11184510d493-0d3009e6096c330733ee68cfbff1e5ea/tiles/%7Bz%7D/%7Bx%7D/%7By%7D%22%2C%0A%20%20%20%20%20%20%20%20%20%20%20%20%20%20%20%20%7B%22attribution%22%3A%20%22Google%20Earth%20Engine%22%2C%20%22detectRetina%22%3A%20false%2C%20%22maxNativeZoom%22%3A%2018%2C%20%22maxZoom%22%3A%2018%2C%20%22minZoom%22%3A%200%2C%20%22noWrap%22%3A%20false%2C%20%22opacity%22%3A%201.0%2C%20%22subdomains%22%3A%20%22abc%22%2C%20%22tms%22%3A%20false%2C%20%22vizParams%22%3A%20%7B%22max%22%3A%201.706744418015806%2C%20%22min%22%3A%200.3119852727448891%7D%7D%0A%20%20%20%20%20%20%20%20%20%20%20%20%29.addTo%28map_3ffa00bac531442ba44752c55c61802f%29%3B%0A%20%20%20%20%20%20%20%20%0A%20%20%20%20%0A%20%20%20%20%20%20%20%20%20%20%20%20var%20tile_layer_9ad04a095bdc44e48be1c5eacea08586%20%3D%20L.tileLayer%28%0A%20%20%20%20%20%20%20%20%20%20%20%20%20%20%20%20%22https%3A//earthengine.googleapis.com/v1alpha/projects/earthengine-legacy/maps/839655bcb7059586ed3005f9dc1a801a-db98eb7da9dbd0bcac0623593be0f377/tiles/%7Bz%7D/%7Bx%7D/%7By%7D%22%2C%0A%20%20%20%20%20%20%20%20%20%20%20%20%20%20%20%20%7B%22attribution%22%3A%20%22Google%20Earth%20Engine%22%2C%20%22detectRetina%22%3A%20false%2C%20%22maxNativeZoom%22%3A%2018%2C%20%22maxZoom%22%3A%2018%2C%20%22minZoom%22%3A%200%2C%20%22noWrap%22%3A%20false%2C%20%22opacity%22%3A%201.0%2C%20%22subdomains%22%3A%20%22abc%22%2C%20%22tms%22%3A%20false%2C%20%22vizParams%22%3A%20%7B%7D%7D%0A%20%20%20%20%20%20%20%20%20%20%20%20%29.addTo%28map_3ffa00bac531442ba44752c55c61802f%29%3B%0A%20%20%20%20%20%20%20%20%0A%20%20%20%20%0A%20%20%20%20%20%20%20%20%20%20%20%20var%20tile_layer_7a4913910bff45848f15e833337d7170%20%3D%20L.tileLayer%28%0A%20%20%20%20%20%20%20%20%20%20%20%20%20%20%20%20%22https%3A//earthengine.googleapis.com/v1alpha/projects/earthengine-legacy/maps/62fa1b550c91dd6d8797a0d5455c4e8b-30681a6fae9b1c18e0216615cb2bfafd/tiles/%7Bz%7D/%7Bx%7D/%7By%7D%22%2C%0A%20%20%20%20%20%20%20%20%20%20%20%20%20%20%20%20%7B%22attribution%22%3A%20%22Google%20Earth%20Engine%22%2C%20%22detectRetina%22%3A%20false%2C%20%22maxNativeZoom%22%3A%2018%2C%20%22maxZoom%22%3A%2018%2C%20%22minZoom%22%3A%200%2C%20%22noWrap%22%3A%20false%2C%20%22opacity%22%3A%201.0%2C%20%22subdomains%22%3A%20%22abc%22%2C%20%22tms%22%3A%20false%2C%20%22vizParams%22%3A%20%7B%7D%7D%0A%20%20%20%20%20%20%20%20%20%20%20%20%29.addTo%28map_3ffa00bac531442ba44752c55c61802f%29%3B%0A%20%20%20%20%20%20%20%20%0A%20%20%20%20%0A%20%20%20%20%20%20%20%20%20%20%20%20var%20tile_layer_5e282d23b7ce45d0a06398d6770e80e7%20%3D%20L.tileLayer%28%0A%20%20%20%20%20%20%20%20%20%20%20%20%20%20%20%20%22https%3A//earthengine.googleapis.com/v1alpha/projects/earthengine-legacy/maps/8e295fe73d03771d7a7e66a6f4a01d60-356919d1638150dfecedbdeda54710b3/tiles/%7Bz%7D/%7Bx%7D/%7By%7D%22%2C%0A%20%20%20%20%20%20%20%20%20%20%20%20%20%20%20%20%7B%22attribution%22%3A%20%22Google%20Earth%20Engine%22%2C%20%22detectRetina%22%3A%20false%2C%20%22maxNativeZoom%22%3A%2018%2C%20%22maxZoom%22%3A%2018%2C%20%22minZoom%22%3A%200%2C%20%22noWrap%22%3A%20false%2C%20%22opacity%22%3A%201.0%2C%20%22subdomains%22%3A%20%22abc%22%2C%20%22tms%22%3A%20false%2C%20%22vizParams%22%3A%20%7B%7D%7D%0A%20%20%20%20%20%20%20%20%20%20%20%20%29.addTo%28map_3ffa00bac531442ba44752c55c61802f%29%3B%0A%20%20%20%20%20%20%20%20%0A%20%20%20%20%0A%20%20%20%20%20%20%20%20%20%20%20%20var%20tile_layer_5b21e3712f64431eae633de3f5c68fb3%20%3D%20L.tileLayer%28%0A%20%20%20%20%20%20%20%20%20%20%20%20%20%20%20%20%22https%3A//earthengine.googleapis.com/v1alpha/projects/earthengine-legacy/maps/fe0ef2d9e1006c20ba2449ee6358ba8b-3bd8f3a453380eec7cc9f427013d850b/tiles/%7Bz%7D/%7Bx%7D/%7By%7D%22%2C%0A%20%20%20%20%20%20%20%20%20%20%20%20%20%20%20%20%7B%22attribution%22%3A%20%22Google%20Earth%20Engine%22%2C%20%22detectRetina%22%3A%20false%2C%20%22maxNativeZoom%22%3A%2018%2C%20%22maxZoom%22%3A%2018%2C%20%22minZoom%22%3A%200%2C%20%22noWrap%22%3A%20false%2C%20%22opacity%22%3A%201.0%2C%20%22subdomains%22%3A%20%22abc%22%2C%20%22tms%22%3A%20false%2C%20%22vizParams%22%3A%20%7B%7D%7D%0A%20%20%20%20%20%20%20%20%20%20%20%20%29.addTo%28map_3ffa00bac531442ba44752c55c61802f%29%3B%0A%20%20%20%20%20%20%20%20%0A%20%20%20%20%0A%20%20%20%20%20%20%20%20%20%20%20%20var%20tile_layer_c3395709037d4bc0a78c3d581e56bd29%20%3D%20L.tileLayer%28%0A%20%20%20%20%20%20%20%20%20%20%20%20%20%20%20%20%22https%3A//earthengine.googleapis.com/v1alpha/projects/earthengine-legacy/maps/f923546706c7eb80bb68650ebe57f88a-ec64e1dd2893562f4c0d6535022a21a5/tiles/%7Bz%7D/%7Bx%7D/%7By%7D%22%2C%0A%20%20%20%20%20%20%20%20%20%20%20%20%20%20%20%20%7B%22attribution%22%3A%20%22Google%20Earth%20Engine%22%2C%20%22detectRetina%22%3A%20false%2C%20%22maxNativeZoom%22%3A%2018%2C%20%22maxZoom%22%3A%2018%2C%20%22minZoom%22%3A%200%2C%20%22noWrap%22%3A%20false%2C%20%22opacity%22%3A%201.0%2C%20%22subdomains%22%3A%20%22abc%22%2C%20%22tms%22%3A%20false%2C%20%22vizParams%22%3A%20%7B%7D%7D%0A%20%20%20%20%20%20%20%20%20%20%20%20%29.addTo%28map_3ffa00bac531442ba44752c55c61802f%29%3B%0A%20%20%20%20%20%20%20%20%0A%20%20%20%20%0A%20%20%20%20%20%20%20%20%20%20%20%20var%20tile_layer_56b0ec3bedd54a67bc113ccc3afb6c26%20%3D%20L.tileLayer%28%0A%20%20%20%20%20%20%20%20%20%20%20%20%20%20%20%20%22https%3A//earthengine.googleapis.com/v1alpha/projects/earthengine-legacy/maps/4e4bde5c4c26cac17583ab24cdb26a8a-6ad36498c36f013c8b3e943d1ec646e5/tiles/%7Bz%7D/%7Bx%7D/%7By%7D%22%2C%0A%20%20%20%20%20%20%20%20%20%20%20%20%20%20%20%20%7B%22attribution%22%3A%20%22Google%20Earth%20Engine%22%2C%20%22detectRetina%22%3A%20false%2C%20%22maxNativeZoom%22%3A%2018%2C%20%22maxZoom%22%3A%2018%2C%20%22minZoom%22%3A%200%2C%20%22noWrap%22%3A%20false%2C%20%22opacity%22%3A%201.0%2C%20%22subdomains%22%3A%20%22abc%22%2C%20%22tms%22%3A%20false%2C%20%22vizParams%22%3A%20%7B%7D%7D%0A%20%20%20%20%20%20%20%20%20%20%20%20%29.addTo%28map_3ffa00bac531442ba44752c55c61802f%29%3B%0A%20%20%20%20%20%20%20%20%0A%20%20%20%20%0A%20%20%20%20%20%20%20%20%20%20%20%20var%20tile_layer_f98872532ae4444ab0f467110112a0f8%20%3D%20L.tileLayer%28%0A%20%20%20%20%20%20%20%20%20%20%20%20%20%20%20%20%22https%3A//earthengine.googleapis.com/v1alpha/projects/earthengine-legacy/maps/a56b9a856c56a11a7b3d7ba252c6f6d2-e2b87f752babc3d0635deb943e40864b/tiles/%7Bz%7D/%7Bx%7D/%7By%7D%22%2C%0A%20%20%20%20%20%20%20%20%20%20%20%20%20%20%20%20%7B%22attribution%22%3A%20%22Google%20Earth%20Engine%22%2C%20%22detectRetina%22%3A%20false%2C%20%22maxNativeZoom%22%3A%2018%2C%20%22maxZoom%22%3A%2018%2C%20%22minZoom%22%3A%200%2C%20%22noWrap%22%3A%20false%2C%20%22opacity%22%3A%201.0%2C%20%22subdomains%22%3A%20%22abc%22%2C%20%22tms%22%3A%20false%2C%20%22vizParams%22%3A%20%7B%7D%7D%0A%20%20%20%20%20%20%20%20%20%20%20%20%29.addTo%28map_3ffa00bac531442ba44752c55c61802f%29%3B%0A%20%20%20%20%20%20%20%20%0A%20%20%20%20%0A%20%20%20%20%20%20%20%20%20%20%20%20var%20tile_layer_1cbadf4c948946d78af69cad31dde47f%20%3D%20L.tileLayer%28%0A%20%20%20%20%20%20%20%20%20%20%20%20%20%20%20%20%22https%3A//earthengine.googleapis.com/v1alpha/projects/earthengine-legacy/maps/fb583de8c249b548fbcc0d9c3cc95e28-ae714a1fccf56fe7f189513b53f5acde/tiles/%7Bz%7D/%7Bx%7D/%7By%7D%22%2C%0A%20%20%20%20%20%20%20%20%20%20%20%20%20%20%20%20%7B%22attribution%22%3A%20%22Google%20Earth%20Engine%22%2C%20%22detectRetina%22%3A%20false%2C%20%22maxNativeZoom%22%3A%2018%2C%20%22maxZoom%22%3A%2018%2C%20%22minZoom%22%3A%200%2C%20%22noWrap%22%3A%20false%2C%20%22opacity%22%3A%201.0%2C%20%22subdomains%22%3A%20%22abc%22%2C%20%22tms%22%3A%20false%2C%20%22vizParams%22%3A%20%7B%7D%7D%0A%20%20%20%20%20%20%20%20%20%20%20%20%29.addTo%28map_3ffa00bac531442ba44752c55c61802f%29%3B%0A%20%20%20%20%20%20%20%20%0A%20%20%20%20%0A%20%20%20%20%20%20%20%20%20%20%20%20var%20tile_layer_d0206f9ee04d466bb4b21a786015045f%20%3D%20L.tileLayer%28%0A%20%20%20%20%20%20%20%20%20%20%20%20%20%20%20%20%22https%3A//earthengine.googleapis.com/v1alpha/projects/earthengine-legacy/maps/28fddfc5f8e1a32d69674ad26893b8a3-c6d810e6a31b4c9e12b0bc5c73d2e4d4/tiles/%7Bz%7D/%7Bx%7D/%7By%7D%22%2C%0A%20%20%20%20%20%20%20%20%20%20%20%20%20%20%20%20%7B%22attribution%22%3A%20%22Google%20Earth%20Engine%22%2C%20%22detectRetina%22%3A%20false%2C%20%22maxNativeZoom%22%3A%2018%2C%20%22maxZoom%22%3A%2018%2C%20%22minZoom%22%3A%200%2C%20%22noWrap%22%3A%20false%2C%20%22opacity%22%3A%201.0%2C%20%22subdomains%22%3A%20%22abc%22%2C%20%22tms%22%3A%20false%2C%20%22vizParams%22%3A%20%7B%7D%7D%0A%20%20%20%20%20%20%20%20%20%20%20%20%29.addTo%28map_3ffa00bac531442ba44752c55c61802f%29%3B%0A%20%20%20%20%20%20%20%20%0A%20%20%20%20%0A%20%20%20%20%20%20%20%20%20%20%20%20var%20tile_layer_cc63b3b4fc254422934e26911a746d14%20%3D%20L.tileLayer%28%0A%20%20%20%20%20%20%20%20%20%20%20%20%20%20%20%20%22https%3A//earthengine.googleapis.com/v1alpha/projects/earthengine-legacy/maps/e4f3c209f8b687e25e736d07672a0639-e88360805b7503ea91b9f27e3201b04f/tiles/%7Bz%7D/%7Bx%7D/%7By%7D%22%2C%0A%20%20%20%20%20%20%20%20%20%20%20%20%20%20%20%20%7B%22attribution%22%3A%20%22Google%20Earth%20Engine%22%2C%20%22detectRetina%22%3A%20false%2C%20%22maxNativeZoom%22%3A%2018%2C%20%22maxZoom%22%3A%2018%2C%20%22minZoom%22%3A%200%2C%20%22noWrap%22%3A%20false%2C%20%22opacity%22%3A%201.0%2C%20%22subdomains%22%3A%20%22abc%22%2C%20%22tms%22%3A%20false%2C%20%22vizParams%22%3A%20%7B%7D%7D%0A%20%20%20%20%20%20%20%20%20%20%20%20%29.addTo%28map_3ffa00bac531442ba44752c55c61802f%29%3B%0A%20%20%20%20%20%20%20%20%0A%20%20%20%20%0A%20%20%20%20%20%20%20%20%20%20%20%20var%20tile_layer_2d2aa7b3c32d4e79ba9bd56911506aeb%20%3D%20L.tileLayer%28%0A%20%20%20%20%20%20%20%20%20%20%20%20%20%20%20%20%22https%3A//earthengine.googleapis.com/v1alpha/projects/earthengine-legacy/maps/5212f010807c473af24c51fd7638d137-84659e57d409d91c6ed817f8a3193857/tiles/%7Bz%7D/%7Bx%7D/%7By%7D%22%2C%0A%20%20%20%20%20%20%20%20%20%20%20%20%20%20%20%20%7B%22attribution%22%3A%20%22Google%20Earth%20Engine%22%2C%20%22detectRetina%22%3A%20false%2C%20%22maxNativeZoom%22%3A%2018%2C%20%22maxZoom%22%3A%2018%2C%20%22minZoom%22%3A%200%2C%20%22noWrap%22%3A%20false%2C%20%22opacity%22%3A%201.0%2C%20%22subdomains%22%3A%20%22abc%22%2C%20%22tms%22%3A%20false%2C%20%22vizParams%22%3A%20%7B%7D%7D%0A%20%20%20%20%20%20%20%20%20%20%20%20%29.addTo%28map_3ffa00bac531442ba44752c55c61802f%29%3B%0A%20%20%20%20%20%20%20%20%0A%20%20%20%20%0A%20%20%20%20%20%20%20%20%20%20%20%20var%20tile_layer_c35d55e30eaf4ea6a718a541deff95f0%20%3D%20L.tileLayer%28%0A%20%20%20%20%20%20%20%20%20%20%20%20%20%20%20%20%22https%3A//earthengine.googleapis.com/v1alpha/projects/earthengine-legacy/maps/25c1b87dafe300afe26a669f853419cf-2fdcff0dd016d2120f10dd8a9af59aab/tiles/%7Bz%7D/%7Bx%7D/%7By%7D%22%2C%0A%20%20%20%20%20%20%20%20%20%20%20%20%20%20%20%20%7B%22attribution%22%3A%20%22Google%20Earth%20Engine%22%2C%20%22detectRetina%22%3A%20false%2C%20%22maxNativeZoom%22%3A%2018%2C%20%22maxZoom%22%3A%2018%2C%20%22minZoom%22%3A%200%2C%20%22noWrap%22%3A%20false%2C%20%22opacity%22%3A%201.0%2C%20%22subdomains%22%3A%20%22abc%22%2C%20%22tms%22%3A%20false%2C%20%22vizParams%22%3A%20%7B%7D%7D%0A%20%20%20%20%20%20%20%20%20%20%20%20%29.addTo%28map_3ffa00bac531442ba44752c55c61802f%29%3B%0A%20%20%20%20%20%20%20%20%0A%20%20%20%20%0A%20%20%20%20%20%20%20%20%20%20%20%20var%20tile_layer_97b60afa7d3641539e80f15f1ad6382a%20%3D%20L.tileLayer%28%0A%20%20%20%20%20%20%20%20%20%20%20%20%20%20%20%20%22https%3A//earthengine.googleapis.com/v1alpha/projects/earthengine-legacy/maps/85f1207ce71deb5dec59372931a72e30-1a0f4a17b07a40a1e501b56c96e287a5/tiles/%7Bz%7D/%7Bx%7D/%7By%7D%22%2C%0A%20%20%20%20%20%20%20%20%20%20%20%20%20%20%20%20%7B%22attribution%22%3A%20%22Google%20Earth%20Engine%22%2C%20%22detectRetina%22%3A%20false%2C%20%22maxNativeZoom%22%3A%2018%2C%20%22maxZoom%22%3A%2018%2C%20%22minZoom%22%3A%200%2C%20%22noWrap%22%3A%20false%2C%20%22opacity%22%3A%201.0%2C%20%22subdomains%22%3A%20%22abc%22%2C%20%22tms%22%3A%20false%2C%20%22vizParams%22%3A%20%7B%22max%22%3A%201.0%2C%20%22min%22%3A%20-1.0%2C%20%22palette%22%3A%20%22red%2Cyellow%2Cgreen%22%7D%7D%0A%20%20%20%20%20%20%20%20%20%20%20%20%29.addTo%28map_3ffa00bac531442ba44752c55c61802f%29%3B%0A%20%20%20%20%20%20%20%20%0A%20%20%20%20%0A%20%20%20%20%20%20%20%20%20%20%20%20var%20tile_layer_1a919cff96924d5b956ea66c777fbfc6%20%3D%20L.tileLayer%28%0A%20%20%20%20%20%20%20%20%20%20%20%20%20%20%20%20%22https%3A//earthengine.googleapis.com/v1alpha/projects/earthengine-legacy/maps/bfe3b4a0cbb22b5abc5f74c5578d4bd0-a469e120349170e8c06719572ee3b665/tiles/%7Bz%7D/%7Bx%7D/%7By%7D%22%2C%0A%20%20%20%20%20%20%20%20%20%20%20%20%20%20%20%20%7B%22attribution%22%3A%20%22Google%20Earth%20Engine%22%2C%20%22detectRetina%22%3A%20false%2C%20%22maxNativeZoom%22%3A%2018%2C%20%22maxZoom%22%3A%2018%2C%20%22minZoom%22%3A%200%2C%20%22noWrap%22%3A%20false%2C%20%22opacity%22%3A%201.0%2C%20%22subdomains%22%3A%20%22abc%22%2C%20%22tms%22%3A%20false%2C%20%22vizParams%22%3A%20%7B%7D%7D%0A%20%20%20%20%20%20%20%20%20%20%20%20%29.addTo%28map_3ffa00bac531442ba44752c55c61802f%29%3B%0A%20%20%20%20%20%20%20%20%0A%20%20%20%20%0A%20%20%20%20%20%20%20%20%20%20%20%20var%20layer_control_f4200c0040d0452f92b8c6b4d473758a%20%3D%20%7B%0A%20%20%20%20%20%20%20%20%20%20%20%20%20%20%20%20base_layers%20%3A%20%7B%0A%20%20%20%20%20%20%20%20%20%20%20%20%20%20%20%20%20%20%20%20%22openstreetmap%22%20%3A%20tile_layer_3a18fd7d48c84dcd90715bf96a5f2229%2C%0A%20%20%20%20%20%20%20%20%20%20%20%20%20%20%20%20%7D%2C%0A%20%20%20%20%20%20%20%20%20%20%20%20%20%20%20%20overlays%20%3A%20%20%7B%0A%20%20%20%20%20%20%20%20%20%20%20%20%20%20%20%20%20%20%20%20%22Google%20Maps%22%20%3A%20tile_layer_4b7bc5b2b3c94388ba5d30dad270823d%2C%0A%20%20%20%20%20%20%20%20%20%20%20%20%20%20%20%20%20%20%20%20%22S1-VV%22%20%3A%20tile_layer_bd9d54c955a2478099c43b02abc8c620%2C%0A%20%20%20%20%20%20%20%20%20%20%20%20%20%20%20%20%20%20%20%20%22S1-VH%22%20%3A%20tile_layer_a605bb982c9c4187bcec3fab16c7e7ee%2C%0A%20%20%20%20%20%20%20%20%20%20%20%20%20%20%20%20%20%20%20%20%22S1-radar_volume_index%22%20%3A%20tile_layer_025735fc19e2492a9d7856581ed191ce%2C%0A%20%20%20%20%20%20%20%20%20%20%20%20%20%20%20%20%20%20%20%20%22ALOS2-HV%22%20%3A%20tile_layer_b3272bbef1ce4530b0a9e051e1a537eb%2C%0A%20%20%20%20%20%20%20%20%20%20%20%20%20%20%20%20%20%20%20%20%22ALOS2-HH%22%20%3A%20tile_layer_579d1efac052476993890e4af81c5710%2C%0A%20%20%20%20%20%20%20%20%20%20%20%20%20%20%20%20%20%20%20%20%22ALOS2-radar_volume_index%22%20%3A%20tile_layer_15d709d77322422bb017f3cec68d36e4%2C%0A%20%20%20%20%20%20%20%20%20%20%20%20%20%20%20%20%20%20%20%20%22L8-B1%22%20%3A%20tile_layer_9ad04a095bdc44e48be1c5eacea08586%2C%0A%20%20%20%20%20%20%20%20%20%20%20%20%20%20%20%20%20%20%20%20%22L8-B2%22%20%3A%20tile_layer_7a4913910bff45848f15e833337d7170%2C%0A%20%20%20%20%20%20%20%20%20%20%20%20%20%20%20%20%20%20%20%20%22L8-B3%22%20%3A%20tile_layer_5e282d23b7ce45d0a06398d6770e80e7%2C%0A%20%20%20%20%20%20%20%20%20%20%20%20%20%20%20%20%20%20%20%20%22L8-B4%22%20%3A%20tile_layer_5b21e3712f64431eae633de3f5c68fb3%2C%0A%20%20%20%20%20%20%20%20%20%20%20%20%20%20%20%20%20%20%20%20%22L8-B5%22%20%3A%20tile_layer_c3395709037d4bc0a78c3d581e56bd29%2C%0A%20%20%20%20%20%20%20%20%20%20%20%20%20%20%20%20%20%20%20%20%22L8-B6%22%20%3A%20tile_layer_56b0ec3bedd54a67bc113ccc3afb6c26%2C%0A%20%20%20%20%20%20%20%20%20%20%20%20%20%20%20%20%20%20%20%20%22L8-B7%22%20%3A%20tile_layer_f98872532ae4444ab0f467110112a0f8%2C%0A%20%20%20%20%20%20%20%20%20%20%20%20%20%20%20%20%20%20%20%20%22L8-B10%22%20%3A%20tile_layer_1cbadf4c948946d78af69cad31dde47f%2C%0A%20%20%20%20%20%20%20%20%20%20%20%20%20%20%20%20%20%20%20%20%22L8-B11%22%20%3A%20tile_layer_d0206f9ee04d466bb4b21a786015045f%2C%0A%20%20%20%20%20%20%20%20%20%20%20%20%20%20%20%20%20%20%20%20%22L8-sr_aerosol%22%20%3A%20tile_layer_cc63b3b4fc254422934e26911a746d14%2C%0A%20%20%20%20%20%20%20%20%20%20%20%20%20%20%20%20%20%20%20%20%22L8-pixel_qa%22%20%3A%20tile_layer_2d2aa7b3c32d4e79ba9bd56911506aeb%2C%0A%20%20%20%20%20%20%20%20%20%20%20%20%20%20%20%20%20%20%20%20%22L8-radsat_qa%22%20%3A%20tile_layer_c35d55e30eaf4ea6a718a541deff95f0%2C%0A%20%20%20%20%20%20%20%20%20%20%20%20%20%20%20%20%20%20%20%20%22L8-ndvi%22%20%3A%20tile_layer_97b60afa7d3641539e80f15f1ad6382a%2C%0A%20%20%20%20%20%20%20%20%20%20%20%20%20%20%20%20%20%20%20%20%22MODIS-Percent_Tree_Cover%22%20%3A%20tile_layer_1a919cff96924d5b956ea66c777fbfc6%2C%0A%20%20%20%20%20%20%20%20%20%20%20%20%20%20%20%20%7D%2C%0A%20%20%20%20%20%20%20%20%20%20%20%20%7D%3B%0A%20%20%20%20%20%20%20%20%20%20%20%20L.control.layers%28%0A%20%20%20%20%20%20%20%20%20%20%20%20%20%20%20%20layer_control_f4200c0040d0452f92b8c6b4d473758a.base_layers%2C%0A%20%20%20%20%20%20%20%20%20%20%20%20%20%20%20%20layer_control_f4200c0040d0452f92b8c6b4d473758a.overlays%2C%0A%20%20%20%20%20%20%20%20%20%20%20%20%20%20%20%20%7B%22autoZIndex%22%3A%20true%2C%20%22collapsed%22%3A%20true%2C%20%22position%22%3A%20%22topright%22%7D%0A%20%20%20%20%20%20%20%20%20%20%20%20%29.addTo%28map_3ffa00bac531442ba44752c55c61802f%29%3B%0A%20%20%20%20%20%20%20%20%20%20%20%20tile_layer_bd9d54c955a2478099c43b02abc8c620.remove%28%29%3B%0A%20%20%20%20%20%20%20%20%20%20%20%20tile_layer_a605bb982c9c4187bcec3fab16c7e7ee.remove%28%29%3B%0A%20%20%20%20%20%20%20%20%20%20%20%20tile_layer_b3272bbef1ce4530b0a9e051e1a537eb.remove%28%29%3B%0A%20%20%20%20%20%20%20%20%20%20%20%20tile_layer_579d1efac052476993890e4af81c5710.remove%28%29%3B%0A%20%20%20%20%20%20%20%20%20%20%20%20tile_layer_9ad04a095bdc44e48be1c5eacea08586.remove%28%29%3B%0A%20%20%20%20%20%20%20%20%20%20%20%20tile_layer_7a4913910bff45848f15e833337d7170.remove%28%29%3B%0A%20%20%20%20%20%20%20%20%20%20%20%20tile_layer_5e282d23b7ce45d0a06398d6770e80e7.remove%28%29%3B%0A%20%20%20%20%20%20%20%20%20%20%20%20tile_layer_5b21e3712f64431eae633de3f5c68fb3.remove%28%29%3B%0A%20%20%20%20%20%20%20%20%20%20%20%20tile_layer_c3395709037d4bc0a78c3d581e56bd29.remove%28%29%3B%0A%20%20%20%20%20%20%20%20%20%20%20%20tile_layer_56b0ec3bedd54a67bc113ccc3afb6c26.remove%28%29%3B%0A%20%20%20%20%20%20%20%20%20%20%20%20tile_layer_f98872532ae4444ab0f467110112a0f8.remove%28%29%3B%0A%20%20%20%20%20%20%20%20%20%20%20%20tile_layer_1cbadf4c948946d78af69cad31dde47f.remove%28%29%3B%0A%20%20%20%20%20%20%20%20%20%20%20%20tile_layer_d0206f9ee04d466bb4b21a786015045f.remove%28%29%3B%0A%20%20%20%20%20%20%20%20%20%20%20%20tile_layer_cc63b3b4fc254422934e26911a746d14.remove%28%29%3B%0A%20%20%20%20%20%20%20%20%20%20%20%20tile_layer_2d2aa7b3c32d4e79ba9bd56911506aeb.remove%28%29%3B%0A%20%20%20%20%20%20%20%20%20%20%20%20tile_layer_c35d55e30eaf4ea6a718a541deff95f0.remove%28%29%3B%0A%20%20%20%20%20%20%20%20%20%20%20%20tile_layer_1a919cff96924d5b956ea66c777fbfc6.remove%28%29%3B%0A%20%20%20%20%20%20%20%20%0A%3C/script%3E onload=\"this.contentDocument.open();this.contentDocument.write(    decodeURIComponent(this.getAttribute('data-html')));this.contentDocument.close();\" allowfullscreen webkitallowfullscreen mozallowfullscreen></iframe></div></div>"
            ],
            "text/plain": [
              "<geemap.eefolium.Map at 0x7f45dcd3de10>"
            ]
          },
          "metadata": {
            "tags": []
          },
          "execution_count": 26
        }
      ]
    },
    {
      "cell_type": "markdown",
      "metadata": {
        "id": "UGogwdelTZgl"
      },
      "source": [
        "Verify spatial referencing information by displaying a dictionary of SRS information for each band."
      ]
    },
    {
      "cell_type": "code",
      "metadata": {
        "id": "u7DQrnsmTaEF",
        "colab": {
          "base_uri": "https://localhost:8080/"
        },
        "outputId": "df2c70ba-e8ff-4599-c108-5f6c695aaf28"
      },
      "source": [
        "srs = {}\n",
        "for b in stack.bandNames().getInfo():\n",
        "    p = stack.select(b).projection()\n",
        "    srs[b] = p.getInfo()\n",
        "    srs[b]['nominalScale'] = p.nominalScale().getInfo()\n",
        "    del srs[b]['type']\n",
        "# All image have identical projections if this test returns true:\n",
        "len(list(set([str(p) for p in list(srs.values())]))) == 1"
      ],
      "execution_count": null,
      "outputs": [
        {
          "output_type": "execute_result",
          "data": {
            "text/plain": [
              "True"
            ]
          },
          "metadata": {
            "tags": []
          },
          "execution_count": 27
        }
      ]
    },
    {
      "cell_type": "markdown",
      "metadata": {
        "id": "BMhDVsLFSdIm"
      },
      "source": [
        "## Zonal statistics\n",
        "\n",
        "Map over the feature collection after building the stack."
      ]
    },
    {
      "cell_type": "code",
      "metadata": {
        "colab": {
          "base_uri": "https://localhost:8080/"
        },
        "id": "mno2Xa0fWt9l",
        "outputId": "dbb8c97b-5465-4de4-88a2-db06bc3a3ebe"
      },
      "source": [
        "outputs = stack.reduceRegions(collection=pfc,\n",
        "                              reducer=ee.Reducer.mean(),\n",
        "                              #crs=stack.projection(),\n",
        "                              scale=30)\n",
        "\n",
        "type(outputs)"
      ],
      "execution_count": null,
      "outputs": [
        {
          "output_type": "execute_result",
          "data": {
            "text/plain": [
              "ee.featurecollection.FeatureCollection"
            ]
          },
          "metadata": {
            "tags": []
          },
          "execution_count": 28
        }
      ]
    },
    {
      "cell_type": "markdown",
      "metadata": {
        "id": "uhruVfpG3UPS"
      },
      "source": [
        "Get the new `ee.FeatureCollection` as a dictionary then call the *pandas* convenience function `json_normalize` to translate to a `pandas.DataFrame`. "
      ]
    },
    {
      "cell_type": "code",
      "metadata": {
        "colab": {
          "base_uri": "https://localhost:8080/",
          "height": 334
        },
        "id": "NHX80peec1Zh",
        "outputId": "317ec119-2b0f-42e9-a4e5-c07a1b660c6e"
      },
      "source": [
        "outputs = pd.json_normalize(outputs.getInfo()['features'])\n",
        "\n",
        "outputs.describe()"
      ],
      "execution_count": null,
      "outputs": [
        {
          "output_type": "execute_result",
          "data": {
            "text/html": [
              "<div>\n",
              "<style scoped>\n",
              "    .dataframe tbody tr th:only-of-type {\n",
              "        vertical-align: middle;\n",
              "    }\n",
              "\n",
              "    .dataframe tbody tr th {\n",
              "        vertical-align: top;\n",
              "    }\n",
              "\n",
              "    .dataframe thead th {\n",
              "        text-align: right;\n",
              "    }\n",
              "</style>\n",
              "<table border=\"1\" class=\"dataframe\">\n",
              "  <thead>\n",
              "    <tr style=\"text-align: right;\">\n",
              "      <th></th>\n",
              "      <th>properties.ALOS2-HH</th>\n",
              "      <th>properties.ALOS2-HV</th>\n",
              "      <th>properties.ALOS2-radar_volume_index</th>\n",
              "      <th>properties.L8-B1</th>\n",
              "      <th>properties.L8-B10</th>\n",
              "      <th>properties.L8-B11</th>\n",
              "      <th>properties.L8-B2</th>\n",
              "      <th>properties.L8-B3</th>\n",
              "      <th>properties.L8-B4</th>\n",
              "      <th>properties.L8-B5</th>\n",
              "      <th>properties.L8-B6</th>\n",
              "      <th>properties.L8-B7</th>\n",
              "      <th>properties.L8-ndvi</th>\n",
              "      <th>properties.L8-pixel_qa</th>\n",
              "      <th>properties.L8-radsat_qa</th>\n",
              "      <th>properties.L8-sr_aerosol</th>\n",
              "      <th>properties.MODIS-Percent_Tree_Cover</th>\n",
              "      <th>properties.S1-VH</th>\n",
              "      <th>properties.S1-VV</th>\n",
              "      <th>properties.S1-radar_volume_index</th>\n",
              "    </tr>\n",
              "  </thead>\n",
              "  <tbody>\n",
              "    <tr>\n",
              "      <th>count</th>\n",
              "      <td>99.000000</td>\n",
              "      <td>99.000000</td>\n",
              "      <td>99.000000</td>\n",
              "      <td>98.000000</td>\n",
              "      <td>98.000000</td>\n",
              "      <td>98.000000</td>\n",
              "      <td>98.000000</td>\n",
              "      <td>98.000000</td>\n",
              "      <td>98.000000</td>\n",
              "      <td>98.000000</td>\n",
              "      <td>98.000000</td>\n",
              "      <td>98.000000</td>\n",
              "      <td>97.000000</td>\n",
              "      <td>98.000000</td>\n",
              "      <td>98.0</td>\n",
              "      <td>98.000000</td>\n",
              "      <td>98.000000</td>\n",
              "      <td>99.000000</td>\n",
              "      <td>99.000000</td>\n",
              "      <td>99.000000</td>\n",
              "    </tr>\n",
              "    <tr>\n",
              "      <th>mean</th>\n",
              "      <td>6206.212121</td>\n",
              "      <td>2537.868687</td>\n",
              "      <td>1.181532</td>\n",
              "      <td>328.091837</td>\n",
              "      <td>2937.392857</td>\n",
              "      <td>2905.857143</td>\n",
              "      <td>370.872449</td>\n",
              "      <td>632.234694</td>\n",
              "      <td>500.785714</td>\n",
              "      <td>3258.994898</td>\n",
              "      <td>1694.520408</td>\n",
              "      <td>843.275510</td>\n",
              "      <td>0.717830</td>\n",
              "      <td>322.020408</td>\n",
              "      <td>0.0</td>\n",
              "      <td>148.204082</td>\n",
              "      <td>42.591837</td>\n",
              "      <td>0.036224</td>\n",
              "      <td>0.189030</td>\n",
              "      <td>0.680338</td>\n",
              "    </tr>\n",
              "    <tr>\n",
              "      <th>std</th>\n",
              "      <td>2771.084240</td>\n",
              "      <td>1114.151023</td>\n",
              "      <td>0.322871</td>\n",
              "      <td>205.914347</td>\n",
              "      <td>19.914929</td>\n",
              "      <td>16.127872</td>\n",
              "      <td>229.065710</td>\n",
              "      <td>302.660311</td>\n",
              "      <td>363.598496</td>\n",
              "      <td>899.380295</td>\n",
              "      <td>549.985407</td>\n",
              "      <td>468.016356</td>\n",
              "      <td>0.227795</td>\n",
              "      <td>0.202031</td>\n",
              "      <td>0.0</td>\n",
              "      <td>51.743212</td>\n",
              "      <td>24.901802</td>\n",
              "      <td>0.020770</td>\n",
              "      <td>0.102332</td>\n",
              "      <td>0.228091</td>\n",
              "    </tr>\n",
              "    <tr>\n",
              "      <th>min</th>\n",
              "      <td>894.000000</td>\n",
              "      <td>487.000000</td>\n",
              "      <td>0.279173</td>\n",
              "      <td>-310.000000</td>\n",
              "      <td>2843.000000</td>\n",
              "      <td>2852.000000</td>\n",
              "      <td>-190.000000</td>\n",
              "      <td>-65.000000</td>\n",
              "      <td>-12.000000</td>\n",
              "      <td>291.000000</td>\n",
              "      <td>164.500000</td>\n",
              "      <td>117.500000</td>\n",
              "      <td>-0.282382</td>\n",
              "      <td>322.000000</td>\n",
              "      <td>0.0</td>\n",
              "      <td>68.000000</td>\n",
              "      <td>4.000000</td>\n",
              "      <td>0.002358</td>\n",
              "      <td>0.008135</td>\n",
              "      <td>0.112101</td>\n",
              "    </tr>\n",
              "    <tr>\n",
              "      <th>25%</th>\n",
              "      <td>4734.500000</td>\n",
              "      <td>1935.500000</td>\n",
              "      <td>0.998658</td>\n",
              "      <td>197.500000</td>\n",
              "      <td>2929.625000</td>\n",
              "      <td>2897.625000</td>\n",
              "      <td>216.500000</td>\n",
              "      <td>400.375000</td>\n",
              "      <td>233.875000</td>\n",
              "      <td>2786.500000</td>\n",
              "      <td>1382.625000</td>\n",
              "      <td>518.375000</td>\n",
              "      <td>0.594579</td>\n",
              "      <td>322.000000</td>\n",
              "      <td>0.0</td>\n",
              "      <td>96.000000</td>\n",
              "      <td>19.500000</td>\n",
              "      <td>0.026829</td>\n",
              "      <td>0.120503</td>\n",
              "      <td>0.555444</td>\n",
              "    </tr>\n",
              "    <tr>\n",
              "      <th>50%</th>\n",
              "      <td>5947.000000</td>\n",
              "      <td>2506.000000</td>\n",
              "      <td>1.173162</td>\n",
              "      <td>301.750000</td>\n",
              "      <td>2940.750000</td>\n",
              "      <td>2909.000000</td>\n",
              "      <td>313.750000</td>\n",
              "      <td>575.750000</td>\n",
              "      <td>373.000000</td>\n",
              "      <td>3396.500000</td>\n",
              "      <td>1623.500000</td>\n",
              "      <td>691.250000</td>\n",
              "      <td>0.826921</td>\n",
              "      <td>322.000000</td>\n",
              "      <td>0.0</td>\n",
              "      <td>152.500000</td>\n",
              "      <td>39.500000</td>\n",
              "      <td>0.036689</td>\n",
              "      <td>0.189384</td>\n",
              "      <td>0.652357</td>\n",
              "    </tr>\n",
              "    <tr>\n",
              "      <th>75%</th>\n",
              "      <td>7340.000000</td>\n",
              "      <td>3138.000000</td>\n",
              "      <td>1.372365</td>\n",
              "      <td>423.750000</td>\n",
              "      <td>2947.875000</td>\n",
              "      <td>2916.500000</td>\n",
              "      <td>450.500000</td>\n",
              "      <td>819.875000</td>\n",
              "      <td>667.000000</td>\n",
              "      <td>3813.125000</td>\n",
              "      <td>1989.125000</td>\n",
              "      <td>1026.000000</td>\n",
              "      <td>0.880791</td>\n",
              "      <td>322.000000</td>\n",
              "      <td>0.0</td>\n",
              "      <td>192.000000</td>\n",
              "      <td>66.000000</td>\n",
              "      <td>0.042238</td>\n",
              "      <td>0.231536</td>\n",
              "      <td>0.783544</td>\n",
              "    </tr>\n",
              "    <tr>\n",
              "      <th>max</th>\n",
              "      <td>18923.000000</td>\n",
              "      <td>6586.000000</td>\n",
              "      <td>2.167319</td>\n",
              "      <td>1029.000000</td>\n",
              "      <td>2988.000000</td>\n",
              "      <td>2941.000000</td>\n",
              "      <td>1206.000000</td>\n",
              "      <td>1538.000000</td>\n",
              "      <td>1651.000000</td>\n",
              "      <td>5558.000000</td>\n",
              "      <td>3322.000000</td>\n",
              "      <td>2568.000000</td>\n",
              "      <td>0.906323</td>\n",
              "      <td>324.000000</td>\n",
              "      <td>0.0</td>\n",
              "      <td>228.000000</td>\n",
              "      <td>83.000000</td>\n",
              "      <td>0.177845</td>\n",
              "      <td>0.795750</td>\n",
              "      <td>2.247066</td>\n",
              "    </tr>\n",
              "  </tbody>\n",
              "</table>\n",
              "</div>"
            ],
            "text/plain": [
              "       properties.ALOS2-HH  ...  properties.S1-radar_volume_index\n",
              "count            99.000000  ...                         99.000000\n",
              "mean           6206.212121  ...                          0.680338\n",
              "std            2771.084240  ...                          0.228091\n",
              "min             894.000000  ...                          0.112101\n",
              "25%            4734.500000  ...                          0.555444\n",
              "50%            5947.000000  ...                          0.652357\n",
              "75%            7340.000000  ...                          0.783544\n",
              "max           18923.000000  ...                          2.247066\n",
              "\n",
              "[8 rows x 20 columns]"
            ]
          },
          "metadata": {
            "tags": []
          },
          "execution_count": 29
        }
      ]
    },
    {
      "cell_type": "markdown",
      "metadata": {
        "id": "kr680vob3zyx"
      },
      "source": [
        "Rename the columns according to the index in our *stack_stats* table from a few cells ago. (GEE appends the word \"properties\" fitting with common GIS convention.)\n",
        "\n",
        ">We could put some automated + hands-on validation routines at the bottom of the ipynb, e.g. a row-picker to render this table and a map widget next to it.\n",
        "\n",
        "Here's the first row of data after renaming the columns:"
      ]
    },
    {
      "cell_type": "code",
      "metadata": {
        "colab": {
          "base_uri": "https://localhost:8080/",
          "height": 793
        },
        "id": "aLjPplha3z62",
        "outputId": "4bfa5d9b-a03b-4f5a-be98-3175ff00f1ce"
      },
      "source": [
        "outputs_names = {f\"properties.{i}\": i for i in stack_stats.index.tolist()}\n",
        "\n",
        "outputs = outputs.rename(mapper=outputs_names, axis=1)\n",
        "\n",
        "outputs.iloc[0].to_frame(name=\"ROW_0\")"
      ],
      "execution_count": null,
      "outputs": [
        {
          "output_type": "execute_result",
          "data": {
            "text/html": [
              "<div>\n",
              "<style scoped>\n",
              "    .dataframe tbody tr th:only-of-type {\n",
              "        vertical-align: middle;\n",
              "    }\n",
              "\n",
              "    .dataframe tbody tr th {\n",
              "        vertical-align: top;\n",
              "    }\n",
              "\n",
              "    .dataframe thead th {\n",
              "        text-align: right;\n",
              "    }\n",
              "</style>\n",
              "<table border=\"1\" class=\"dataframe\">\n",
              "  <thead>\n",
              "    <tr style=\"text-align: right;\">\n",
              "      <th></th>\n",
              "      <th>ROW_0</th>\n",
              "    </tr>\n",
              "  </thead>\n",
              "  <tbody>\n",
              "    <tr>\n",
              "      <th>type</th>\n",
              "      <td>Feature</td>\n",
              "    </tr>\n",
              "    <tr>\n",
              "      <th>id</th>\n",
              "      <td>0</td>\n",
              "    </tr>\n",
              "    <tr>\n",
              "      <th>geometry.type</th>\n",
              "      <td>Point</td>\n",
              "    </tr>\n",
              "    <tr>\n",
              "      <th>geometry.coordinates</th>\n",
              "      <td>[-76.54613982, -8.220041421]</td>\n",
              "    </tr>\n",
              "    <tr>\n",
              "      <th>ALOS2-HH</th>\n",
              "      <td>15154</td>\n",
              "    </tr>\n",
              "    <tr>\n",
              "      <th>ALOS2-HV</th>\n",
              "      <td>1137</td>\n",
              "    </tr>\n",
              "    <tr>\n",
              "      <th>ALOS2-radar_volume_index</th>\n",
              "      <td>0.279173</td>\n",
              "    </tr>\n",
              "    <tr>\n",
              "      <th>L8-B1</th>\n",
              "      <td>743.5</td>\n",
              "    </tr>\n",
              "    <tr>\n",
              "      <th>L8-B10</th>\n",
              "      <td>2960</td>\n",
              "    </tr>\n",
              "    <tr>\n",
              "      <th>L8-B11</th>\n",
              "      <td>2925.5</td>\n",
              "    </tr>\n",
              "    <tr>\n",
              "      <th>L8-B2</th>\n",
              "      <td>832</td>\n",
              "    </tr>\n",
              "    <tr>\n",
              "      <th>L8-B3</th>\n",
              "      <td>1109.5</td>\n",
              "    </tr>\n",
              "    <tr>\n",
              "      <th>L8-B4</th>\n",
              "      <td>1017</td>\n",
              "    </tr>\n",
              "    <tr>\n",
              "      <th>L8-B5</th>\n",
              "      <td>3352</td>\n",
              "    </tr>\n",
              "    <tr>\n",
              "      <th>L8-B6</th>\n",
              "      <td>2797.5</td>\n",
              "    </tr>\n",
              "    <tr>\n",
              "      <th>L8-B7</th>\n",
              "      <td>1693.5</td>\n",
              "    </tr>\n",
              "    <tr>\n",
              "      <th>L8-ndvi</th>\n",
              "      <td>0.534447</td>\n",
              "    </tr>\n",
              "    <tr>\n",
              "      <th>L8-pixel_qa</th>\n",
              "      <td>322</td>\n",
              "    </tr>\n",
              "    <tr>\n",
              "      <th>L8-radsat_qa</th>\n",
              "      <td>0</td>\n",
              "    </tr>\n",
              "    <tr>\n",
              "      <th>L8-sr_aerosol</th>\n",
              "      <td>96</td>\n",
              "    </tr>\n",
              "    <tr>\n",
              "      <th>MODIS-Percent_Tree_Cover</th>\n",
              "      <td>37</td>\n",
              "    </tr>\n",
              "    <tr>\n",
              "      <th>S1-VH</th>\n",
              "      <td>0.0208163</td>\n",
              "    </tr>\n",
              "    <tr>\n",
              "      <th>S1-VV</th>\n",
              "      <td>0.0848104</td>\n",
              "    </tr>\n",
              "    <tr>\n",
              "      <th>S1-radar_volume_index</th>\n",
              "      <td>0.788298</td>\n",
              "    </tr>\n",
              "  </tbody>\n",
              "</table>\n",
              "</div>"
            ],
            "text/plain": [
              "                                                 ROW_0\n",
              "type                                           Feature\n",
              "id                                                   0\n",
              "geometry.type                                    Point\n",
              "geometry.coordinates      [-76.54613982, -8.220041421]\n",
              "ALOS2-HH                                         15154\n",
              "ALOS2-HV                                          1137\n",
              "ALOS2-radar_volume_index                      0.279173\n",
              "L8-B1                                            743.5\n",
              "L8-B10                                            2960\n",
              "L8-B11                                          2925.5\n",
              "L8-B2                                              832\n",
              "L8-B3                                           1109.5\n",
              "L8-B4                                             1017\n",
              "L8-B5                                             3352\n",
              "L8-B6                                           2797.5\n",
              "L8-B7                                           1693.5\n",
              "L8-ndvi                                       0.534447\n",
              "L8-pixel_qa                                        322\n",
              "L8-radsat_qa                                         0\n",
              "L8-sr_aerosol                                       96\n",
              "MODIS-Percent_Tree_Cover                            37\n",
              "S1-VH                                        0.0208163\n",
              "S1-VV                                        0.0848104\n",
              "S1-radar_volume_index                         0.788298"
            ]
          },
          "metadata": {
            "tags": []
          },
          "execution_count": 30
        }
      ]
    },
    {
      "cell_type": "markdown",
      "metadata": {
        "id": "3nWSBLqluq1V"
      },
      "source": [
        "## Outputs\n",
        "\n",
        "### Save to Google Drive\n",
        "\n",
        ">*Important: Make sure to give a path that's inside the Drive directory.*\n",
        "\n",
        "Write to Google Drive with the `to_csv` method."
      ]
    },
    {
      "cell_type": "code",
      "metadata": {
        "id": "EfLiQ1TkxnQK"
      },
      "source": [
        "outputs.to_csv(relative_path_to_output_csv_in_drive, index=None)\n",
        "\n",
        "drive.flush_and_unmount()  # Dont forget to unmount Drive when youre done."
      ],
      "execution_count": null,
      "outputs": []
    },
    {
      "cell_type": "markdown",
      "metadata": {
        "id": "MCV3WrsIzjhx"
      },
      "source": [
        "### Download to local disk\n",
        "\n",
        "Run this next cell to save to your local machine as a CSV."
      ]
    },
    {
      "cell_type": "code",
      "metadata": {
        "colab": {
          "base_uri": "https://localhost:8080/",
          "height": 34
        },
        "id": "IkdkuzgGziO9",
        "outputId": "7b1a16e6-5284-4f09-fa47-fcd9b3e6de70"
      },
      "source": [
        "# Write a CSV into the colaboratory workspace.\n",
        "outputs.to_csv(\"outputs.csv\", index=None)\n",
        "\n",
        "# This function triggers a prompt for you to save the file to local disk.\n",
        "files.download(filename=\"outputs.csv\")"
      ],
      "execution_count": null,
      "outputs": [
        {
          "output_type": "display_data",
          "data": {
            "application/javascript": [
              "\n",
              "    async function download(id, filename, size) {\n",
              "      if (!google.colab.kernel.accessAllowed) {\n",
              "        return;\n",
              "      }\n",
              "      const div = document.createElement('div');\n",
              "      const label = document.createElement('label');\n",
              "      label.textContent = `Downloading \"${filename}\": `;\n",
              "      div.appendChild(label);\n",
              "      const progress = document.createElement('progress');\n",
              "      progress.max = size;\n",
              "      div.appendChild(progress);\n",
              "      document.body.appendChild(div);\n",
              "\n",
              "      const buffers = [];\n",
              "      let downloaded = 0;\n",
              "\n",
              "      const channel = await google.colab.kernel.comms.open(id);\n",
              "      // Send a message to notify the kernel that we're ready.\n",
              "      channel.send({})\n",
              "\n",
              "      for await (const message of channel.messages) {\n",
              "        // Send a message to notify the kernel that we're ready.\n",
              "        channel.send({})\n",
              "        if (message.buffers) {\n",
              "          for (const buffer of message.buffers) {\n",
              "            buffers.push(buffer);\n",
              "            downloaded += buffer.byteLength;\n",
              "            progress.value = downloaded;\n",
              "          }\n",
              "        }\n",
              "      }\n",
              "      const blob = new Blob(buffers, {type: 'application/binary'});\n",
              "      const a = document.createElement('a');\n",
              "      a.href = window.URL.createObjectURL(blob);\n",
              "      a.download = filename;\n",
              "      div.appendChild(a);\n",
              "      a.click();\n",
              "      div.remove();\n",
              "    }\n",
              "  "
            ],
            "text/plain": [
              "<IPython.core.display.Javascript object>"
            ]
          },
          "metadata": {
            "tags": []
          }
        },
        {
          "output_type": "display_data",
          "data": {
            "application/javascript": [
              "download(\"download_44b66ef3-9da5-4efa-a845-8a3c85289194\", \"outputs.csv\", 23950)"
            ],
            "text/plain": [
              "<IPython.core.display.Javascript object>"
            ]
          },
          "metadata": {
            "tags": []
          }
        }
      ]
    },
    {
      "cell_type": "markdown",
      "metadata": {
        "id": "Yfcy6UVn1TUr"
      },
      "source": [
        "## References\n",
        "\n",
        "* https://developers.google.com/earth-engine/guides/resample#resampling\n",
        "* https://developers.google.com/earth-engine/tutorials/community/extract-raster-values-for-points#understanding_which_pixels_are_included_in_polygon_statistics\n",
        "  * https://developers.google.com/earth-engine/tutorials/community/extract-raster-values-for-points#notes_on_crs_and_scale\n",
        "* https://developers.google.com/earth-engine/tutorials/community/extract-raster-values-for-points#zonalstatsfc_params_%E2%87%92_eefeaturecollection\n",
        "* https://developers.google.com/earth-engine/tutorials/community/beginners-cookbook#example_exporting_data"
      ]
    },
    {
      "cell_type": "markdown",
      "metadata": {
        "id": "z2OcAy5PINWs"
      },
      "source": [
        "### Notes\n",
        "\n",
        "Important concepts in GEE:\n",
        "\n",
        "* Scale: https://developers.google.com/earth-engine/guides/scale\n",
        "* Projections: https://developers.google.com/earth-engine/guides/projections\n",
        "  * *The default projection*: https://developers.google.com/earth-engine/guides/projections#the-default-projection\n",
        "  * *Composites have no projection*: https://developers.google.com/earth-engine/guides/ic_reducing#Composites-have-no-projection\n",
        "\n",
        "I was wary of using `reproject` at first because of how it's described in [the GEE documentation](https://developers.google.com/earth-engine/guides/projections#reprojecting), but now I see that it's a must to achieve the common grid. (GEE does everything else for me in a sensible way _EXCEPT_ for this, IMO.)\n",
        "\n",
        "* https://developers.google.com/earth-engine/guides/image_math#colab-python_1"
      ]
    },
    {
      "cell_type": "code",
      "metadata": {
        "id": "xeXVCqZteSon"
      },
      "source": [
        ""
      ],
      "execution_count": null,
      "outputs": []
    }
  ]
}