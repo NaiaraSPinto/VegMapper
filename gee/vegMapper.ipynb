{
  "nbformat": 4,
  "nbformat_minor": 0,
  "metadata": {
    "colab": {
      "name": "vegMapper.ipynb",
      "provenance": [],
      "collapsed_sections": [],
      "include_colab_link": true
    },
    "kernelspec": {
      "name": "python3",
      "display_name": "Python 3"
    },
    "language_info": {
      "name": "python"
    }
  },
  "cells": [
    {
      "cell_type": "markdown",
      "metadata": {
        "id": "view-in-github",
        "colab_type": "text"
      },
      "source": [
        "<a href=\"https://colab.research.google.com/github/jjmcnelis/VegMapper/blob/devel/gee/vegMapper.ipynb\" target=\"_parent\"><img src=\"https://colab.research.google.com/assets/colab-badge.svg\" alt=\"Open In Colab\"/></a>"
      ]
    },
    {
      "cell_type": "code",
      "metadata": {
        "colab": {
          "base_uri": "https://localhost:8080/"
        },
        "cellView": "form",
        "id": "GPa91XEblwE6",
        "outputId": "85df52b7-2ad7-4266-e462-44009c4dce55"
      },
      "source": [
        "#@title\n",
        "#\n",
        "# This cell is here because I needed a way to get your input CSV\n",
        "# from our Slack messages into colab from my IPad.\n",
        "#\n",
        "pts = pd.read_csv(StringIO('''longitude,latitude,obs_year,class,class_2017\n",
        "-76.54613982,-8.220041421,2018,baby_palm,baby_palm\n",
        "-76.56729451,-8.190187992,2018,baby_palm,baby_palm\n",
        "-76.61783761,-8.228346373,2018,baby_palm,baby_palm\n",
        "-76.59469073,-8.134851998,2006,sparse_palm,oil_palm\n",
        "-76.63773368,-8.139648669,2006,sparse_palm,oil_palm\n",
        "-76.63290665,-8.119680094,2006,young_palm,oil_palm\n",
        "-76.63025033,-8.140648423,2006,young_palm,oil_palm\n",
        "-76.63901352,-8.141701288,2006,young_palm,oil_palm\n",
        "-76.63072039,-8.138329157,2006,young_palm,oil_palm\n",
        "-76.68403708,-7.822448219,2009,baby_palm,oil_palm\n",
        "-76.26379872,-6.144886598,2009,baby_palm,oil_palm\n",
        "-76.26244018,-6.154180722,2009,baby_palm,oil_palm\n",
        "-76.13962825,-6.144497298,2009,baby_palm,oil_palm\n",
        "-76.16822364,-6.145567757,2009,baby_palm,oil_palm\n",
        "-76.18562962,-6.136265247,2009,baby_palm,oil_palm\n",
        "-76.18298129,-6.13950254,2009,baby_palm,oil_palm\n",
        "-76.21935339,-6.156531603,2009,baby_palm,oil_palm\n",
        "-76.22322865,-6.14667916,2009,baby_palm,oil_palm\n",
        "-76.23961112,-6.146198747,2009,baby_palm,oil_palm\n",
        "-76.54866977,-8.152600994,2009,young_palm,oil_palm\n",
        "-76.52198387,-8.276730692,2010,baby_palm,oil_palm\n",
        "-76.53381488,-8.259858973,2010,baby_palm,oil_palm\n",
        "-76.53327355,-8.263157687,2010,baby_palm,oil_palm\n",
        "-76.50815328,-8.270297249,2010,baby_palm,oil_palm\n",
        "-76.53057502,-8.22326093,2014,young_palms,oil_palm\n",
        "-76.52741218,-8.227746954,2014,young_palms,oil_palm\n",
        "-76.36540047,-8.385046119,2016,mature_palm,oil_palm\n",
        "-76.39885562,-8.386351665,2016,mature_palm,oil_palm\n",
        "-76.17768165,-6.272635381,2018,mature_palm,oil_palm\n",
        "-76.03958719,-6.124114405,2018,mature_palm,oil_palm\n",
        "-76.45790359,-8.369040656,2018,mature_palm,oil_palm\n",
        "-76.48467022,-8.346615611,2018,mature_palm,oil_palm\n",
        "-76.54844239,-8.152142123,2018,mature_palm,oil_palm\n",
        "-76.21031164,-6.153516461,2018,mature_palm,oil_palm\n",
        "-76.21972056,-6.159907189,2018,mature_palm,oil_palm\n",
        "-76.35235464,-8.389452353,2018,mature_palm,oil_palm\n",
        "-76.52200024,-8.21415676,2018,mature_palm,oil_palm\n",
        "-76.08011101,-6.122466677,2018,mature_palm,oil_palm\n",
        "-76.19274375,-6.285185408,2018,mature_palm,oil_palm\n",
        "-76.52821385,-8.227073463,2018,mature_palm,oil_palm\n",
        "-76.47397828,-8.310712095,2019,mature_palm,oil_palm\n",
        "-76.54800013,-8.206050626,2014,baby_palm,young_palm\n",
        "-76.59445768,-8.208097591,2014,baby_palm,young_palm\n",
        "-76.40434261,-8.38788458,2016,young_palm,young_palm\n",
        "-76.39038881,-8.388674225,2016,young_palm,young_palm\n",
        "-76.22714731,-6.175463311,2018,young_palm,young_palm\n",
        "-76.22308006,-6.168809133,2018,young_palm,young_palm\n",
        "-76.55141408,-8.19613559,2018,young_palm,young_palm\n",
        "-76.57321195,-8.192556478,2018,young_palm,young_palm\n",
        "-76.57434051,-8.261270212,2018,young_palm,young_palm\n",
        "-77.30212241,-7.874080644,NA,NA,not_palm\n",
        "-76.67528987,-8.027063124,NA,NA,not_palm\n",
        "-77.15454556,-6.066826494,NA,NA,not_palm\n",
        "-76.37179113,-6.48657976,NA,NA,not_palm\n",
        "-76.3115162,-6.531204075,NA,NA,not_palm\n",
        "-75.78966195,-6.309616368,NA,NA,not_palm\n",
        "-76.31994416,-6.542874054,NA,NA,not_palm\n",
        "-76.51595718,-8.190632332,NA,NA,not_palm\n",
        "-76.18701439,-6.239869116,NA,NA,not_palm\n",
        "-75.6642132,-6.259440395,NA,NA,not_palm\n",
        "-76.24075534,-6.292740214,NA,NA,not_palm\n",
        "-77.1594289,-6.069011409,NA,NA,not_palm\n",
        "-77.14689873,-6.06231103,NA,NA,not_palm\n",
        "-77.13684788,-6.030994482,NA,NA,not_palm\n",
        "-77.69622065,-5.614344551,NA,NA,not_palm\n",
        "-77.39802123,-5.806565977,NA,NA,not_palm\n",
        "-77.5720281,-5.583868676,NA,NA,not_palm\n",
        "-76.62842904,-8.114024258,NA,NA,not_palm\n",
        "-77.50317308,-5.739875509,NA,NA,not_palm\n",
        "-77.30660001,-5.944694706,NA,NA,not_palm\n",
        "-77.17898053,-5.968114977,NA,NA,not_palm\n",
        "-77.28160754,-5.928103107,NA,NA,not_palm\n",
        "-77.16672645,-5.917702372,NA,NA,not_palm\n",
        "-76.97091065,-6.03293721,NA,NA,not_palm\n",
        "-77.57439957,-7.179415204,NA,NA,not_palm\n",
        "-76.98863489,-5.858369694,NA,NA,not_palm\n",
        "-76.94419989,-5.873667373,NA,NA,not_palm\n",
        "-77.45982469,-5.663443717,NA,NA,not_palm\n",
        "-76.53354958,-8.119392563,NA,NA,not_palm\n",
        "-76.60725623,-8.121489943,NA,NA,not_palm\n",
        "-76.61574334,-8.119284671,NA,NA,not_palm\n",
        "-76.63213216,-8.113739165,NA,NA,not_palm\n",
        "-77.56876673,-7.373122213,NA,NA,not_palm\n",
        "-76.50494205,-7.172120741,NA,NA,not_palm\n",
        "-76.51183231,-7.160546484,NA,NA,not_palm\n",
        "-76.53114569,-7.156446976,NA,NA,not_palm\n",
        "-76.51489944,-7.140283191,NA,NA,not_palm\n",
        "-76.52347195,-7.13563366,NA,NA,not_palm\n",
        "-76.51188252,-7.114655315,NA,NA,not_palm\n",
        "-76.48964737,-7.104255606,NA,NA,not_palm\n",
        "-76.48612494,-7.104423206,NA,NA,not_palm\n",
        "-76.48157046,-7.099551269,NA,NA,not_palm\n",
        "-76.48475964,-7.090077236,NA,NA,not_palm\n",
        "-76.4316269,-7.001565014,NA,NA,not_palm\n",
        "-77.06187922,-7.177114918,NA,NA,not_palm\n",
        "-77.16608431,-7.096861074,NA,NA,not_palm\n",
        "-76.69510111,-6.682602211,NA,NA,not_palm\n",
        "-76.69929973,-6.67986414,NA,NA,not_palm\n",
        "-76.70746548,-6.673406446,NA,NA,not_palm\n",
        "-76.96028915,-6.275374344,NA,NA,not_palm\n",
        "'''))\n",
        "pts.to_csv(\"DRIVE/MyDrive/smartin.csv\", index=False)\n",
        "print(pts.info())\n",
        "!ls DRIVE/MyDrive/smartin.csv"
      ],
      "execution_count": 32,
      "outputs": [
        {
          "output_type": "stream",
          "text": [
            "<class 'pandas.core.frame.DataFrame'>\n",
            "RangeIndex: 100 entries, 0 to 99\n",
            "Data columns (total 5 columns):\n",
            " #   Column      Non-Null Count  Dtype  \n",
            "---  ------      --------------  -----  \n",
            " 0   longitude   100 non-null    float64\n",
            " 1   latitude    100 non-null    float64\n",
            " 2   obs_year    50 non-null     float64\n",
            " 3   class       50 non-null     object \n",
            " 4   class_2017  100 non-null    object \n",
            "dtypes: float64(3), object(2)\n",
            "memory usage: 4.0+ KB\n",
            "None\n",
            "DRIVE/MyDrive/smartin.csv\n"
          ],
          "name": "stdout"
        }
      ]
    },
    {
      "cell_type": "markdown",
      "metadata": {
        "id": "SYrdjoWh6Ipn"
      },
      "source": [
        ">**NOTE -- Jump to this part of the notebook to find the fix for raster math:**   \n",
        ">https://colab.research.google.com/drive/1hbHhSc-oc0FyobMkBk91sPTk07Y_U346#\n",
        ">Must be applied to all operations that are currently compositing ImageCollections (I think -- probably best to apply this way even so.)\n",
        "\n",
        "\n",
        "# vegMapper\n",
        "\n",
        "https://github.com/NaiaraSPinto/VegMapper\n",
        "\n",
        "This version is set up for Colaboratory but it should run fine in Jupyter notebook with a few tweaks.\n",
        "\n",
        "## Setup\n",
        "\n",
        "### Requirements\n",
        "\n",
        "This cell will attempt to import *geemap* and *pandas*, installing them if unsuccessful."
      ]
    },
    {
      "cell_type": "code",
      "metadata": {
        "id": "UkrTGFMfLmPD"
      },
      "source": [
        "import ee\n",
        "from google.colab import files, drive\n",
        "from os.path import isdir\n",
        "from io import BytesIO, StringIO\n",
        "try:\n",
        "    import geemap\n",
        "    import pandas as pd\n",
        "except ImportError as e:\n",
        "    !pip install -q pandas geemap"
      ],
      "execution_count": 7,
      "outputs": []
    },
    {
      "cell_type": "markdown",
      "metadata": {
        "id": "ItJQ_sz_5KAW"
      },
      "source": [
        "### Authenticate with your GEE credentials\n",
        "\n",
        ">Authenticate by running the next cell and following the instructions. Click the displayed link, opening a new browser tab; log in with your GEE credentials; copy the temporary token and paste it into the prompt below; hit enter.\n",
        "\n",
        "Run the next cell and authenticate the current ipynb session. "
      ]
    },
    {
      "cell_type": "code",
      "metadata": {
        "colab": {
          "base_uri": "https://localhost:8080/"
        },
        "id": "Bh3oCYv6zvMi",
        "outputId": "b4900dfd-acf7-4094-e602-71a5479d7cf4"
      },
      "source": [
        "ee.Authenticate()\n",
        "ee.Initialize()"
      ],
      "execution_count": 2,
      "outputs": [
        {
          "output_type": "stream",
          "text": [
            "To authorize access needed by Earth Engine, open the following URL in a web browser and follow the instructions. If the web browser does not start automatically, please manually browse the URL below.\n",
            "\n",
            "    https://accounts.google.com/o/oauth2/auth?client_id=517222506229-vsmmajv00ul0bs7p89v5m89qs8eb9359.apps.googleusercontent.com&scope=https%3A%2F%2Fwww.googleapis.com%2Fauth%2Fearthengine+https%3A%2F%2Fwww.googleapis.com%2Fauth%2Fdevstorage.full_control&redirect_uri=urn%3Aietf%3Awg%3Aoauth%3A2.0%3Aoob&response_type=code&code_challenge=3i5mZERg943DnkM_UItQitELOC44NWrWud2HFwmvV9k&code_challenge_method=S256\n",
            "\n",
            "The authorization workflow will generate a code, which you should paste in the box below. \n",
            "Enter verification code: 4/1AY0e-g63ctBLyYiX0xR0DKVVkFS9lGSmrJ7Y-3xsWTSTWhnSLG2ZinVJ1ss\n",
            "\n",
            "Successfully saved authorization token.\n"
          ],
          "name": "stdout"
        }
      ]
    },
    {
      "cell_type": "markdown",
      "metadata": {
        "id": "aK65jpic6N8T"
      },
      "source": [
        "### Getting data into colaboratory \n",
        "\n",
        "#### Option a: Mount Google Drive\n",
        "\n",
        ">*Do you want to mount Google Drive to your Colaboratory environment?*\n",
        ">\n",
        ">Drive should appear in the *Files* panel to the left after the next cell executes. You may need to hit the refresh button at the top of the panel for it to appear. Try to remember to unmount Drive once you're finished in Colaboratory. You can do that by calling this other function from the drive module: `google.colab.drive.flush_and_unmount()`\n",
        "\n",
        "\n",
        "Run the next cell to mount your files to the *DRIVE/* directory inside the current workspace."
      ]
    },
    {
      "cell_type": "code",
      "metadata": {
        "colab": {
          "base_uri": "https://localhost:8080/"
        },
        "id": "HlupY9s56Hx6",
        "outputId": "466c138b-02d0-4eee-b6d7-2e2ea861e006"
      },
      "source": [
        "if not isdir(\"DRIVE\"):\n",
        "    try:\n",
        "        drive.mount(\"DRIVE\")\n",
        "    except Exception as e:\n",
        "        raise e\n",
        "\n",
        "!ls DRIVE/"
      ],
      "execution_count": 3,
      "outputs": [
        {
          "output_type": "stream",
          "text": [
            "Mounted at DRIVE\n",
            "MyDrive  Shareddrives\n"
          ],
          "name": "stdout"
        }
      ]
    },
    {
      "cell_type": "markdown",
      "metadata": {
        "id": "onthVU1OC686"
      },
      "source": [
        "### Option b: Upload files to colaboratory\n",
        "\n",
        "*The workflow requires input features to determine the areas in which to calculate zonal statistics.*\n",
        "\n",
        "Make sure a suitable file exists in the colab workspace or in Google Drive. You can provide one in either of two ways:\n",
        "\n",
        "1. Navigate to an input CSV in Google Drive and copy its path into the cell below (assuming Drive is mounted), or\n",
        "2. Run the next cell as-is and upload a file to the workspace when prompted.\n",
        "\n",
        "If the second option, run the next cell and click *Choose Files* to upload a file. You may also click *Cancel Upload* to abort the cell and move on."
      ]
    },
    {
      "cell_type": "code",
      "metadata": {
        "colab": {
          "resources": {
            "http://localhost:8080/nbextensions/google.colab/files.js": {
              "data": "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",
              "ok": true,
              "headers": [
                [
                  "content-type",
                  "application/javascript"
                ]
              ],
              "status": 200,
              "status_text": "OK"
            }
          },
          "base_uri": "https://localhost:8080/",
          "height": 72
        },
        "id": "mqRd0Ue8C6EB",
        "outputId": "11147a36-5ca4-4f47-e719-55ef105d5091"
      },
      "source": [
        "uploads = files.upload()"
      ],
      "execution_count": null,
      "outputs": [
        {
          "output_type": "display_data",
          "data": {
            "text/html": [
              "\n",
              "     <input type=\"file\" id=\"files-aaf47ac1-fe4e-4a5a-bf35-d17b69676fd7\" name=\"files[]\" multiple disabled\n",
              "        style=\"border:none\" />\n",
              "     <output id=\"result-aaf47ac1-fe4e-4a5a-bf35-d17b69676fd7\">\n",
              "      Upload widget is only available when the cell has been executed in the\n",
              "      current browser session. Please rerun this cell to enable.\n",
              "      </output>\n",
              "      <script src=\"/nbextensions/google.colab/files.js\"></script> "
            ],
            "text/plain": [
              "<IPython.core.display.HTML object>"
            ]
          },
          "metadata": {
            "tags": []
          }
        },
        {
          "output_type": "stream",
          "text": [
            "Saving smartin.csv to smartin.csv\n"
          ],
          "name": "stdout"
        }
      ]
    },
    {
      "cell_type": "markdown",
      "metadata": {
        "id": "6TcWGHerrAs7"
      },
      "source": [
        "Now set the path to the input CSV. (You can skip this step if you uploaded a CSV in the last cell.)"
      ]
    },
    {
      "cell_type": "code",
      "metadata": {
        "colab": {
          "base_uri": "https://localhost:8080/"
        },
        "id": "kgqaMsAvrA2i",
        "outputId": "ea97f573-2e29-4148-fe6e-8a06cc9696eb"
      },
      "source": [
        "csv = \"DRIVE/MyDrive/smartin.csv\"  # None\n",
        "if csv is None and len(uploads)!=0:\n",
        "    csv = list(uploads)[0]\n",
        "\n",
        "print(csv)"
      ],
      "execution_count": 14,
      "outputs": [
        {
          "output_type": "stream",
          "text": [
            "DRIVE/MyDrive/smartin.csv\n"
          ],
          "name": "stdout"
        }
      ]
    },
    {
      "cell_type": "markdown",
      "metadata": {
        "id": "hWpk3pxH5qCZ"
      },
      "source": [
        "## Input zones/regions for stats\n",
        "\n",
        "As mentioned before, this procedure builds a stack of images and calculates the zonal statistics within regions defined by an input feature dataset. \n",
        "\n",
        "*Remember: CSV is the only supported input file format at this time.* It should have these columns at a minimum:\n",
        "\n",
        "* *lat* (float)\n",
        "* *lon* (float)\n",
        "* *landcover* (int, optional)\n"
      ]
    },
    {
      "cell_type": "code",
      "metadata": {
        "colab": {
          "base_uri": "https://localhost:8080/"
        },
        "id": "K6eMt5I2wU3T",
        "outputId": "b8f1171a-3bbc-4344-e9e3-2a7b6b08af6b"
      },
      "source": [
        "pts = pd.read_csv(csv)\n",
        "\n",
        "pts.info()"
      ],
      "execution_count": 33,
      "outputs": [
        {
          "output_type": "stream",
          "text": [
            "<class 'pandas.core.frame.DataFrame'>\n",
            "RangeIndex: 100 entries, 0 to 99\n",
            "Data columns (total 5 columns):\n",
            " #   Column      Non-Null Count  Dtype  \n",
            "---  ------      --------------  -----  \n",
            " 0   longitude   100 non-null    float64\n",
            " 1   latitude    100 non-null    float64\n",
            " 2   obs_year    50 non-null     float64\n",
            " 3   class       50 non-null     object \n",
            " 4   class_2017  100 non-null    object \n",
            "dtypes: float64(3), object(2)\n",
            "memory usage: 4.0+ KB\n"
          ],
          "name": "stdout"
        }
      ]
    },
    {
      "cell_type": "markdown",
      "metadata": {
        "id": "xO9CZZJ2LCRr"
      },
      "source": [
        "### Get feature collection containing point geometries\n",
        "\n",
        ">We will make a feature collection from the table of points such that a reducer function can be efficiently mapped over point geometries to compute an output statistic for all images/bands in the stack.\n",
        ">\n",
        ">Here is some helpful GEE docs to describe *ee.FeatureCollection*: \n",
        ">* https://developers.google.com/earth-engine/guides/feature_collections\n",
        ">* \n",
        "\n",
        "\n",
        "Make point geometry for each row from the columns of latitudes and longitudes, then get the geometries as a feature collection. "
      ]
    },
    {
      "cell_type": "code",
      "metadata": {
        "colab": {
          "base_uri": "https://localhost:8080/"
        },
        "id": "d3lP3kzYLCc5",
        "outputId": "198f8a12-a813-4c67-e675-fa6951fa880a"
      },
      "source": [
        "def get_geom(x):\n",
        "    return ee.Geometry.Point(x['longitude'], x['latitude'])\n",
        "\n",
        "pfc = ee.FeatureCollection(pts.apply(get_geom, axis=1).tolist())\n",
        "\n",
        "type(pfc)"
      ],
      "execution_count": 34,
      "outputs": [
        {
          "output_type": "execute_result",
          "data": {
            "text/plain": [
              "ee.featurecollection.FeatureCollection"
            ]
          },
          "metadata": {
            "tags": []
          },
          "execution_count": 34
        }
      ]
    },
    {
      "cell_type": "markdown",
      "metadata": {
        "id": "Vp5KEAikKWWc"
      },
      "source": [
        "\n",
        "### Region of Interest\n",
        "\n",
        "Get the minimum bounding extent of the points in the input CSV. Add an arbitrary buffer around the minimum extent and then get a ee.Geometry.Rectangle to represent the ROI."
      ]
    },
    {
      "cell_type": "code",
      "metadata": {
        "colab": {
          "base_uri": "https://localhost:8080/",
          "height": 499
        },
        "id": "3_4cQw-sKXXK",
        "outputId": "46702984-1898-4921-d18e-e4abc3ba36e0"
      },
      "source": [
        "lon_min = pts['longitude'].min()\n",
        "lon_max = pts['longitude'].max()\n",
        "lat_min = pts['latitude'].min()\n",
        "lat_max = pts['latitude'].max()\n",
        "\n",
        "roi = ee.Geometry.Polygon([[lon_min, lat_max],\n",
        "                           [lon_min, lat_min],\n",
        "                           [lon_max, lat_min],\n",
        "                           [lon_max, lat_max]])\n",
        "\n",
        "M = geemap.Map(center=[pts['latitude'].mean(), pts['longitude'].mean()], zoom=8)\n",
        "M.addLayer(roi, {'color': 'd63000'}, 'Input ROI')\n",
        "M.addLayer(pfc, name='Input XY')\n",
        "M.add_layer_control()\n",
        "M"
      ],
      "execution_count": 35,
      "outputs": [
        {
          "output_type": "execute_result",
          "data": {
            "text/html": [
              "<div style=\"width:100%;\"><div style=\"position:relative;width:100%;height:0;padding-bottom:60%;\"><span style=\"color:#565656\">Make this Notebook Trusted to load map: File -> Trust Notebook</span><iframe src=\"about:blank\" style=\"position:absolute;width:100%;height:100%;left:0;top:0;border:none !important;\" data-html=%3C%21DOCTYPE%20html%3E%0A%3Chead%3E%20%20%20%20%0A%20%20%20%20%3Cmeta%20http-equiv%3D%22content-type%22%20content%3D%22text/html%3B%20charset%3DUTF-8%22%20/%3E%0A%20%20%20%20%0A%20%20%20%20%20%20%20%20%3Cscript%3E%0A%20%20%20%20%20%20%20%20%20%20%20%20L_NO_TOUCH%20%3D%20false%3B%0A%20%20%20%20%20%20%20%20%20%20%20%20L_DISABLE_3D%20%3D%20false%3B%0A%20%20%20%20%20%20%20%20%3C/script%3E%0A%20%20%20%20%0A%20%20%20%20%3Cstyle%3Ehtml%2C%20body%20%7Bwidth%3A%20100%25%3Bheight%3A%20100%25%3Bmargin%3A%200%3Bpadding%3A%200%3B%7D%3C/style%3E%0A%20%20%20%20%3Cstyle%3E%23map%20%7Bposition%3Aabsolute%3Btop%3A0%3Bbottom%3A0%3Bright%3A0%3Bleft%3A0%3B%7D%3C/style%3E%0A%20%20%20%20%3Cscript%20src%3D%22https%3A//cdn.jsdelivr.net/npm/leaflet%401.6.0/dist/leaflet.js%22%3E%3C/script%3E%0A%20%20%20%20%3Cscript%20src%3D%22https%3A//code.jquery.com/jquery-1.12.4.min.js%22%3E%3C/script%3E%0A%20%20%20%20%3Cscript%20src%3D%22https%3A//maxcdn.bootstrapcdn.com/bootstrap/3.2.0/js/bootstrap.min.js%22%3E%3C/script%3E%0A%20%20%20%20%3Cscript%20src%3D%22https%3A//cdnjs.cloudflare.com/ajax/libs/Leaflet.awesome-markers/2.0.2/leaflet.awesome-markers.js%22%3E%3C/script%3E%0A%20%20%20%20%3Clink%20rel%3D%22stylesheet%22%20href%3D%22https%3A//cdn.jsdelivr.net/npm/leaflet%401.6.0/dist/leaflet.css%22/%3E%0A%20%20%20%20%3Clink%20rel%3D%22stylesheet%22%20href%3D%22https%3A//maxcdn.bootstrapcdn.com/bootstrap/3.2.0/css/bootstrap.min.css%22/%3E%0A%20%20%20%20%3Clink%20rel%3D%22stylesheet%22%20href%3D%22https%3A//maxcdn.bootstrapcdn.com/bootstrap/3.2.0/css/bootstrap-theme.min.css%22/%3E%0A%20%20%20%20%3Clink%20rel%3D%22stylesheet%22%20href%3D%22https%3A//maxcdn.bootstrapcdn.com/font-awesome/4.6.3/css/font-awesome.min.css%22/%3E%0A%20%20%20%20%3Clink%20rel%3D%22stylesheet%22%20href%3D%22https%3A//cdnjs.cloudflare.com/ajax/libs/Leaflet.awesome-markers/2.0.2/leaflet.awesome-markers.css%22/%3E%0A%20%20%20%20%3Clink%20rel%3D%22stylesheet%22%20href%3D%22https%3A//cdn.jsdelivr.net/gh/python-visualization/folium/folium/templates/leaflet.awesome.rotate.min.css%22/%3E%0A%20%20%20%20%0A%20%20%20%20%20%20%20%20%20%20%20%20%3Cmeta%20name%3D%22viewport%22%20content%3D%22width%3Ddevice-width%2C%0A%20%20%20%20%20%20%20%20%20%20%20%20%20%20%20%20initial-scale%3D1.0%2C%20maximum-scale%3D1.0%2C%20user-scalable%3Dno%22%20/%3E%0A%20%20%20%20%20%20%20%20%20%20%20%20%3Cstyle%3E%0A%20%20%20%20%20%20%20%20%20%20%20%20%20%20%20%20%23map_c1f4b0f35e3e431cad6d231c78d6705e%20%7B%0A%20%20%20%20%20%20%20%20%20%20%20%20%20%20%20%20%20%20%20%20position%3A%20relative%3B%0A%20%20%20%20%20%20%20%20%20%20%20%20%20%20%20%20%20%20%20%20width%3A%20100.0%25%3B%0A%20%20%20%20%20%20%20%20%20%20%20%20%20%20%20%20%20%20%20%20height%3A%20100.0%25%3B%0A%20%20%20%20%20%20%20%20%20%20%20%20%20%20%20%20%20%20%20%20left%3A%200.0%25%3B%0A%20%20%20%20%20%20%20%20%20%20%20%20%20%20%20%20%20%20%20%20top%3A%200.0%25%3B%0A%20%20%20%20%20%20%20%20%20%20%20%20%20%20%20%20%7D%0A%20%20%20%20%20%20%20%20%20%20%20%20%3C/style%3E%0A%20%20%20%20%20%20%20%20%0A%20%20%20%20%3Cscript%20src%3D%22https%3A//cdnjs.cloudflare.com/ajax/libs/leaflet.fullscreen/1.4.2/Control.FullScreen.min.js%22%3E%3C/script%3E%0A%20%20%20%20%3Clink%20rel%3D%22stylesheet%22%20href%3D%22https%3A//cdnjs.cloudflare.com/ajax/libs/leaflet.fullscreen/1.4.2/Control.FullScreen.min.css%22/%3E%0A%3C/head%3E%0A%3Cbody%3E%20%20%20%20%0A%20%20%20%20%0A%20%20%20%20%20%20%20%20%20%20%20%20%3Cdiv%20class%3D%22folium-map%22%20id%3D%22map_c1f4b0f35e3e431cad6d231c78d6705e%22%20%3E%3C/div%3E%0A%20%20%20%20%20%20%20%20%0A%3C/body%3E%0A%3Cscript%3E%20%20%20%20%0A%20%20%20%20%0A%20%20%20%20%20%20%20%20%20%20%20%20var%20map_c1f4b0f35e3e431cad6d231c78d6705e%20%3D%20L.map%28%0A%20%20%20%20%20%20%20%20%20%20%20%20%20%20%20%20%22map_c1f4b0f35e3e431cad6d231c78d6705e%22%2C%0A%20%20%20%20%20%20%20%20%20%20%20%20%20%20%20%20%7B%0A%20%20%20%20%20%20%20%20%20%20%20%20%20%20%20%20%20%20%20%20center%3A%20%5B-7.132673861109996%2C%20-76.61272973500003%5D%2C%0A%20%20%20%20%20%20%20%20%20%20%20%20%20%20%20%20%20%20%20%20crs%3A%20L.CRS.EPSG3857%2C%0A%20%20%20%20%20%20%20%20%20%20%20%20%20%20%20%20%20%20%20%20zoom%3A%208%2C%0A%20%20%20%20%20%20%20%20%20%20%20%20%20%20%20%20%20%20%20%20zoomControl%3A%20true%2C%0A%20%20%20%20%20%20%20%20%20%20%20%20%20%20%20%20%20%20%20%20preferCanvas%3A%20false%2C%0A%20%20%20%20%20%20%20%20%20%20%20%20%20%20%20%20%20%20%20%20eeInitialize%3A%20true%2C%0A%20%20%20%20%20%20%20%20%20%20%20%20%20%20%20%20%20%20%20%20addGoogleMap%3A%20true%2C%0A%20%20%20%20%20%20%20%20%20%20%20%20%20%20%20%20%20%20%20%20pluginLatlngpopup%3A%20true%2C%0A%20%20%20%20%20%20%20%20%20%20%20%20%20%20%20%20%20%20%20%20pluginFullscreen%3A%20true%2C%0A%20%20%20%20%20%20%20%20%20%20%20%20%20%20%20%20%20%20%20%20pluginDraw%3A%20false%2C%0A%20%20%20%20%20%20%20%20%20%20%20%20%20%20%20%20%20%20%20%20DrawExport%3A%20true%2C%0A%20%20%20%20%20%20%20%20%20%20%20%20%20%20%20%20%20%20%20%20pluginMinimap%3A%20false%2C%0A%20%20%20%20%20%20%20%20%20%20%20%20%20%20%20%20%20%20%20%20pluginLayercontrol%3A%20false%2C%0A%20%20%20%20%20%20%20%20%20%20%20%20%20%20%20%20%7D%0A%20%20%20%20%20%20%20%20%20%20%20%20%29%3B%0A%0A%20%20%20%20%20%20%20%20%20%20%20%20%0A%0A%20%20%20%20%20%20%20%20%0A%20%20%20%20%0A%20%20%20%20%20%20%20%20%20%20%20%20var%20tile_layer_2b60fd1601044d44877b620273e00457%20%3D%20L.tileLayer%28%0A%20%20%20%20%20%20%20%20%20%20%20%20%20%20%20%20%22https%3A//%7Bs%7D.tile.openstreetmap.org/%7Bz%7D/%7Bx%7D/%7By%7D.png%22%2C%0A%20%20%20%20%20%20%20%20%20%20%20%20%20%20%20%20%7B%22attribution%22%3A%20%22Data%20by%20%5Cu0026copy%3B%20%5Cu003ca%20href%3D%5C%22http%3A//openstreetmap.org%5C%22%5Cu003eOpenStreetMap%5Cu003c/a%5Cu003e%2C%20under%20%5Cu003ca%20href%3D%5C%22http%3A//www.openstreetmap.org/copyright%5C%22%5Cu003eODbL%5Cu003c/a%5Cu003e.%22%2C%20%22detectRetina%22%3A%20false%2C%20%22maxNativeZoom%22%3A%2018%2C%20%22maxZoom%22%3A%2018%2C%20%22minZoom%22%3A%200%2C%20%22noWrap%22%3A%20false%2C%20%22opacity%22%3A%201%2C%20%22subdomains%22%3A%20%22abc%22%2C%20%22tms%22%3A%20false%7D%0A%20%20%20%20%20%20%20%20%20%20%20%20%29.addTo%28map_c1f4b0f35e3e431cad6d231c78d6705e%29%3B%0A%20%20%20%20%20%20%20%20%0A%20%20%20%20%0A%20%20%20%20%20%20%20%20%20%20%20%20var%20tile_layer_b6834ceac3d4439bb996ed84c8854bcb%20%3D%20L.tileLayer%28%0A%20%20%20%20%20%20%20%20%20%20%20%20%20%20%20%20%22https%3A//mt1.google.com/vt/lyrs%3Dm%5Cu0026x%3D%7Bx%7D%5Cu0026y%3D%7By%7D%5Cu0026z%3D%7Bz%7D%22%2C%0A%20%20%20%20%20%20%20%20%20%20%20%20%20%20%20%20%7B%22attribution%22%3A%20%22Google%22%2C%20%22detectRetina%22%3A%20false%2C%20%22maxNativeZoom%22%3A%2018%2C%20%22maxZoom%22%3A%2018%2C%20%22minZoom%22%3A%200%2C%20%22noWrap%22%3A%20false%2C%20%22opacity%22%3A%201%2C%20%22subdomains%22%3A%20%22abc%22%2C%20%22tms%22%3A%20false%7D%0A%20%20%20%20%20%20%20%20%20%20%20%20%29.addTo%28map_c1f4b0f35e3e431cad6d231c78d6705e%29%3B%0A%20%20%20%20%20%20%20%20%0A%20%20%20%20%0A%20%20%20%20%20%20%20%20%20%20%20%20%20%20%20%20var%20lat_lng_popup_dfa442a1460c46338af555b51c4acc6b%20%3D%20L.popup%28%29%3B%0A%20%20%20%20%20%20%20%20%20%20%20%20%20%20%20%20function%20latLngPop%28e%29%20%7B%0A%20%20%20%20%20%20%20%20%20%20%20%20%20%20%20%20%20%20%20%20lat_lng_popup_dfa442a1460c46338af555b51c4acc6b%0A%20%20%20%20%20%20%20%20%20%20%20%20%20%20%20%20%20%20%20%20%20%20%20%20.setLatLng%28e.latlng%29%0A%20%20%20%20%20%20%20%20%20%20%20%20%20%20%20%20%20%20%20%20%20%20%20%20.setContent%28%22Latitude%3A%20%22%20%2B%20e.latlng.lat.toFixed%284%29%20%2B%0A%20%20%20%20%20%20%20%20%20%20%20%20%20%20%20%20%20%20%20%20%20%20%20%20%20%20%20%20%20%20%20%20%20%20%20%20%22%3Cbr%3ELongitude%3A%20%22%20%2B%20e.latlng.lng.toFixed%284%29%29%0A%20%20%20%20%20%20%20%20%20%20%20%20%20%20%20%20%20%20%20%20%20%20%20%20.openOn%28map_c1f4b0f35e3e431cad6d231c78d6705e%29%3B%0A%20%20%20%20%20%20%20%20%20%20%20%20%20%20%20%20%20%20%20%20%7D%0A%20%20%20%20%20%20%20%20%20%20%20%20%20%20%20%20map_c1f4b0f35e3e431cad6d231c78d6705e.on%28%27click%27%2C%20latLngPop%29%3B%0A%20%20%20%20%20%20%20%20%20%20%20%20%0A%20%20%20%20%0A%20%20%20%20%20%20%20%20%20%20%20%20L.control.fullscreen%28%0A%20%20%20%20%20%20%20%20%20%20%20%20%20%20%20%20%7B%22forceSeparateButton%22%3A%20false%2C%20%22position%22%3A%20%22topleft%22%2C%20%22title%22%3A%20%22Full%20Screen%22%2C%20%22titleCancel%22%3A%20%22Exit%20Full%20Screen%22%7D%0A%20%20%20%20%20%20%20%20%20%20%20%20%29.addTo%28map_c1f4b0f35e3e431cad6d231c78d6705e%29%3B%0A%20%20%20%20%20%20%20%20%0A%20%20%20%20%0A%20%20%20%20%20%20%20%20%20%20%20%20map_c1f4b0f35e3e431cad6d231c78d6705e.fitBounds%28%0A%20%20%20%20%20%20%20%20%20%20%20%20%20%20%20%20%5B%5B-7.132673861109996%2C%20-76.61272973500003%5D%2C%20%5B-7.132673861109996%2C%20-76.61272973500003%5D%5D%2C%0A%20%20%20%20%20%20%20%20%20%20%20%20%20%20%20%20%7B%22maxZoom%22%3A%208%7D%0A%20%20%20%20%20%20%20%20%20%20%20%20%29%3B%0A%20%20%20%20%20%20%20%20%0A%20%20%20%20%0A%20%20%20%20%20%20%20%20%20%20%20%20var%20tile_layer_17c10e56b958416089fe4450ac05398c%20%3D%20L.tileLayer%28%0A%20%20%20%20%20%20%20%20%20%20%20%20%20%20%20%20%22https%3A//earthengine.googleapis.com/v1alpha/projects/earthengine-legacy/maps/f6cdb6f7047f8d7cf0848565d43f11ef-7fafd7be3b7a504d8d5fc4185e99a97b/tiles/%7Bz%7D/%7Bx%7D/%7By%7D%22%2C%0A%20%20%20%20%20%20%20%20%20%20%20%20%20%20%20%20%7B%22attribution%22%3A%20%22Google%20Earth%20Engine%22%2C%20%22detectRetina%22%3A%20false%2C%20%22maxNativeZoom%22%3A%2018%2C%20%22maxZoom%22%3A%2018%2C%20%22minZoom%22%3A%200%2C%20%22noWrap%22%3A%20false%2C%20%22opacity%22%3A%201.0%2C%20%22subdomains%22%3A%20%22abc%22%2C%20%22tms%22%3A%20false%7D%0A%20%20%20%20%20%20%20%20%20%20%20%20%29.addTo%28map_c1f4b0f35e3e431cad6d231c78d6705e%29%3B%0A%20%20%20%20%20%20%20%20%0A%20%20%20%20%0A%20%20%20%20%20%20%20%20%20%20%20%20var%20tile_layer_21e0b80824b2410ab973b18b9d3b077f%20%3D%20L.tileLayer%28%0A%20%20%20%20%20%20%20%20%20%20%20%20%20%20%20%20%22https%3A//earthengine.googleapis.com/v1alpha/projects/earthengine-legacy/maps/d06733695646caf775395b244dceb34f-b30aaf7ab17cfa2960b9340db35c5428/tiles/%7Bz%7D/%7Bx%7D/%7By%7D%22%2C%0A%20%20%20%20%20%20%20%20%20%20%20%20%20%20%20%20%7B%22attribution%22%3A%20%22Google%20Earth%20Engine%22%2C%20%22detectRetina%22%3A%20false%2C%20%22maxNativeZoom%22%3A%2018%2C%20%22maxZoom%22%3A%2018%2C%20%22minZoom%22%3A%200%2C%20%22noWrap%22%3A%20false%2C%20%22opacity%22%3A%201.0%2C%20%22subdomains%22%3A%20%22abc%22%2C%20%22tms%22%3A%20false%7D%0A%20%20%20%20%20%20%20%20%20%20%20%20%29.addTo%28map_c1f4b0f35e3e431cad6d231c78d6705e%29%3B%0A%20%20%20%20%20%20%20%20%0A%20%20%20%20%0A%20%20%20%20%20%20%20%20%20%20%20%20var%20layer_control_8ff99deffe8e4e38a57b776c4bbf63dd%20%3D%20%7B%0A%20%20%20%20%20%20%20%20%20%20%20%20%20%20%20%20base_layers%20%3A%20%7B%0A%20%20%20%20%20%20%20%20%20%20%20%20%20%20%20%20%20%20%20%20%22openstreetmap%22%20%3A%20tile_layer_2b60fd1601044d44877b620273e00457%2C%0A%20%20%20%20%20%20%20%20%20%20%20%20%20%20%20%20%7D%2C%0A%20%20%20%20%20%20%20%20%20%20%20%20%20%20%20%20overlays%20%3A%20%20%7B%0A%20%20%20%20%20%20%20%20%20%20%20%20%20%20%20%20%20%20%20%20%22Google%20Maps%22%20%3A%20tile_layer_b6834ceac3d4439bb996ed84c8854bcb%2C%0A%20%20%20%20%20%20%20%20%20%20%20%20%20%20%20%20%20%20%20%20%22Input%20ROI%22%20%3A%20tile_layer_17c10e56b958416089fe4450ac05398c%2C%0A%20%20%20%20%20%20%20%20%20%20%20%20%20%20%20%20%20%20%20%20%22Input%20XY%22%20%3A%20tile_layer_21e0b80824b2410ab973b18b9d3b077f%2C%0A%20%20%20%20%20%20%20%20%20%20%20%20%20%20%20%20%7D%2C%0A%20%20%20%20%20%20%20%20%20%20%20%20%7D%3B%0A%20%20%20%20%20%20%20%20%20%20%20%20L.control.layers%28%0A%20%20%20%20%20%20%20%20%20%20%20%20%20%20%20%20layer_control_8ff99deffe8e4e38a57b776c4bbf63dd.base_layers%2C%0A%20%20%20%20%20%20%20%20%20%20%20%20%20%20%20%20layer_control_8ff99deffe8e4e38a57b776c4bbf63dd.overlays%2C%0A%20%20%20%20%20%20%20%20%20%20%20%20%20%20%20%20%7B%22autoZIndex%22%3A%20true%2C%20%22collapsed%22%3A%20true%2C%20%22position%22%3A%20%22topright%22%7D%0A%20%20%20%20%20%20%20%20%20%20%20%20%29.addTo%28map_c1f4b0f35e3e431cad6d231c78d6705e%29%3B%0A%20%20%20%20%20%20%20%20%0A%3C/script%3E onload=\"this.contentDocument.open();this.contentDocument.write(    decodeURIComponent(this.getAttribute('data-html')));this.contentDocument.close();\" allowfullscreen webkitallowfullscreen mozallowfullscreen></iframe></div></div>"
            ],
            "text/plain": [
              "<geemap.eefolium.Map at 0x7faa80ec2850>"
            ]
          },
          "metadata": {
            "tags": []
          },
          "execution_count": 35
        }
      ]
    },
    {
      "cell_type": "markdown",
      "metadata": {
        "id": "SN0iuD5gJQjz"
      },
      "source": [
        "### Time coverage\n",
        "\n",
        "Define the time coverage for the output stack by the start and end times of the source datasets (Sentinel-1, Landsat 8, MODIS, etc). The stack will be produced from EOS observations collected only during this period."
      ]
    },
    {
      "cell_type": "code",
      "metadata": {
        "id": "wDJf3W6gJQv3"
      },
      "source": [
        "startDate = '2017-01-01'  #@param {type: \"date\"}\n",
        "endDate = '2017-12-31'    #@param {type: \"date\"}"
      ],
      "execution_count": 36,
      "outputs": []
    },
    {
      "cell_type": "markdown",
      "metadata": {
        "id": "HIbwNoD5pBrE"
      },
      "source": [
        "## Imagery\n",
        "\n",
        "Important concepts in GEE:\n",
        "\n",
        "* Scale: https://developers.google.com/earth-engine/guides/scale\n",
        "* Projections: https://developers.google.com/earth-engine/guides/projections\n",
        "  * the default projection: https://developers.google.com/earth-engine/guides/projections#the-default-projection **(Info in this section is key! 2021/05/06**)\n",
        "  * Compositing: https://developers.google.com/earth-engine/guides/ic_reducing#composites-have-no-projection\n",
        "  \n",
        ">If I'm not mistaken, our approach below (which calls *mean* or *median* on a filtered *ImageCollection* from each imagery source) is considered \"compositing\"."
      ]
    },
    {
      "cell_type": "markdown",
      "metadata": {
        "id": "qYGEuIqdGmfU"
      },
      "source": [
        "### Sentinel-1\n",
        "\n",
        "https://developers.google.com/earth-engine/guides/sentinel1"
      ]
    },
    {
      "cell_type": "code",
      "metadata": {
        "id": "WEcrKXvJmlgv"
      },
      "source": [
        "s1 = (ee.ImageCollection(\"COPERNICUS/S1_GRD_FLOAT\")\n",
        "        .filter(ee.Filter.eq(\"orbitProperties_pass\", \"DESCENDING\"))\n",
        "        .filter(ee.Filter.eq(\"instrumentMode\", \"IW\"))\n",
        "        .filterDate(startDate, endDate)\n",
        "        .filterBounds(roi)\n",
        "        .mean())\n",
        "\n",
        "# Calculate radar volume index and add it as a band.\n",
        "s1out = s1.addBands(s1.expression(\n",
        "    expression=\"4 * VH / (VH + VV)\", \n",
        "    opt_map={'VV': s1.select('VV'), \n",
        "             'VH': s1.select('VH')}\n",
        ").rename('radar_volume_index'))"
      ],
      "execution_count": 37,
      "outputs": []
    },
    {
      "cell_type": "markdown",
      "metadata": {
        "id": "XlcNbkU7ptm8"
      },
      "source": [
        "### ALOS2\n",
        "\n",
        "https://developers.google.com/earth-engine/datasets/catalog/JAXA_ALOS_PALSAR_YEARLY_SAR\n",
        "\n",
        "Calculate radar volume index: `4 * VH / (VH + VV)`"
      ]
    },
    {
      "cell_type": "code",
      "metadata": {
        "id": "Xb-_GQUfnCdJ"
      },
      "source": [
        "alos2 = (ee.ImageCollection('JAXA/ALOS/PALSAR/YEARLY/SAR')\n",
        "           .select(ee.List(['HV', 'HH']))\n",
        "           .filterDate(startDate, endDate)\n",
        "           .filterBounds(roi)\n",
        "           .mean())\n",
        "\n",
        "# Calculate radar volume index and add it as a band\n",
        "alos2out = alos2.addBands(alos2.expression(\n",
        "    expression=\"4 * HV / (HV + HH)\", \n",
        "    opt_map={'HV': alos2.select('HV'),\n",
        "             'HH': alos2.select('HH')}\n",
        ").rename('radar_volume_index'))"
      ],
      "execution_count": 38,
      "outputs": []
    },
    {
      "cell_type": "markdown",
      "metadata": {
        "id": "9F2w3fQvqKNE"
      },
      "source": [
        "### NDVI from Landsat\n",
        "\n",
        "* https://developers.google.com/earth-engine/datasets/catalog/LANDSAT_LC08_C01_T1_SR\n",
        "* https://developers.google.com/earth-engine/guides/image_math#colab-python_1\n",
        "\n",
        ">Try some of these masking and visualization techniques for NDVI: https://developers.google.com/earth-engine/guides/ic_composite_mosaic    \n",
        ">Outputs in South America appear very white -- make sure it is the distribution or another innocuous cause."
      ]
    },
    {
      "cell_type": "code",
      "metadata": {
        "id": "y5s7JRuOqBxv"
      },
      "source": [
        "def mask_l8sr(image):\n",
        "    cloudShadowBitMask = 1<<3\n",
        "    cloudBitMask = 1<<5\n",
        "    qa = image.select('pixel_qa')\n",
        "    mask = qa.bitwiseAnd(cloudShadowBitMask).eq(0).And(\n",
        "           qa.bitwiseAnd(cloudBitMask).eq(0))\n",
        "    return image.updateMask(mask)\n",
        "\n",
        "\n",
        "l8sr = (ee.ImageCollection('LANDSAT/LC08/C01/T1_SR')\n",
        "          .filterDate(startDate, endDate)\n",
        "          .filterBounds(roi)\n",
        "          .map(mask_l8sr))\n",
        "          #.median())\n",
        "\n",
        "# Get NDVI and add the band to the surface reflectance image.\n",
        "#l8out = l8sr.addBands(l8sr.normalizedDifference(['B5', 'B4']).rename('ndvi'))"
      ],
      "execution_count": 62,
      "outputs": []
    },
    {
      "cell_type": "markdown",
      "metadata": {
        "id": "rIelzDqv-qeQ"
      },
      "source": [
        "## HERE'S THE FIX! APPLY WHENEVER GRIDS DONT PRECISELY OVERLAP.\n",
        "\n",
        "That goes for any product and any calculation: trade compute time for accuracy by running raster stats on imagery in their native projections. (See Landsat 8 example above/below to see what I mean.)"
      ]
    },
    {
      "cell_type": "code",
      "metadata": {
        "colab": {
          "base_uri": "https://localhost:8080/"
        },
        "id": "bL1Nnylz3F_-",
        "outputId": "822bbb96-54b0-4f24-db06-6a9b8dc7f381"
      },
      "source": [
        "def calc_ndvi(image):\n",
        "  ndvi = image.normalizedDifference(['B5', 'B4']).rename('ndvi')\n",
        "  return image.addBands(ndvi)\n",
        "\n",
        "# Map the NDVI function over the ImageCollection.\n",
        "ndvi = l8sr.map(calc_ndvi).select('ndvi')\n",
        "\n",
        "ndvi.first().projection().getInfo()"
      ],
      "execution_count": 64,
      "outputs": [
        {
          "output_type": "execute_result",
          "data": {
            "text/plain": [
              "{'crs': 'EPSG:32618',\n",
              " 'transform': [30, 0, 377385, 0, -30, -523785],\n",
              " 'type': 'Projection'}"
            ]
          },
          "metadata": {
            "tags": []
          },
          "execution_count": 64
        }
      ]
    },
    {
      "cell_type": "code",
      "metadata": {
        "colab": {
          "base_uri": "https://localhost:8080/"
        },
        "id": "uhviUL3v4wLV",
        "outputId": "7e4bd757-9c5a-469e-c8a0-99204b028b3c"
      },
      "source": [
        "l8tmp = ee.ImageCollection(\"LANDSAT/LC08/C01/T1_SR\")\n",
        "\n",
        "l8tmp.select(\"B1\").first().projection().getInfo()"
      ],
      "execution_count": 61,
      "outputs": [
        {
          "output_type": "execute_result",
          "data": {
            "text/plain": [
              "{'crs': 'EPSG:32628',\n",
              " 'transform': [30, 0, 341085, 0, -30, 8807715],\n",
              " 'type': 'Projection'}"
            ]
          },
          "metadata": {
            "tags": []
          },
          "execution_count": 61
        }
      ]
    },
    {
      "cell_type": "markdown",
      "metadata": {
        "id": "DtmA7VUQp8bA"
      },
      "source": [
        "### VCF from MODIS"
      ]
    },
    {
      "cell_type": "code",
      "metadata": {
        "id": "FSZV2i1jp5Kt"
      },
      "source": [
        "modis = (ee.ImageCollection('MODIS/006/MOD44B')\n",
        "           .select('Percent_Tree_Cover')\n",
        "           .filterDate(startDate, endDate)\n",
        "           .filterBounds(roi)\n",
        "           .first())"
      ],
      "execution_count": 40,
      "outputs": []
    },
    {
      "cell_type": "markdown",
      "metadata": {
        "id": "JeZVcVJYuGi4"
      },
      "source": [
        "## Run the prediction\n",
        "\n",
        "Not clear on this so it's removed for now:\n",
        "\n",
        "```python\n",
        "prior_mean = [0.06491638, -26.63132179, 0.05590800, -29.64091620]\n",
        "prior_mean_int = ee.Number(6.07)\n",
        "prediction = (ee.Image(prior_mean_int)\n",
        "              #.add((Fmod_tc_aoi.multiply(prior_mean[0]))\n",
        "              .add(s1.select('radar_volume_index').multiply(prior_mean[1]))\n",
        "              .add(l8sr.select('ndvi').multiply(prior_mean[2]))\n",
        "              #.add(smooth.select('constant').multiply(prior_mean[3]))))\n",
        "              ).clip(roi)\n",
        "predx = prediction.exp()\n",
        "pred_final = ee.Image(predx.divide(predx.add(1)))\n",
        "type(pred_final)\n",
        "```"
      ]
    },
    {
      "cell_type": "code",
      "metadata": {
        "colab": {
          "base_uri": "https://localhost:8080/"
        },
        "id": "6e-Tmndf2r5O",
        "outputId": "f4f4f6a7-ff47-4200-f180-57bd302b37ef"
      },
      "source": [
        "help(stack.clipToBoundsAndScale)"
      ],
      "execution_count": 58,
      "outputs": [
        {
          "output_type": "stream",
          "text": [
            "Help on method Image.clipToBoundsAndScale in Image:\n",
            "\n",
            "Image.clipToBoundsAndScale(*args, **kwargs) method of ee.image.Image instance\n",
            "    Clips an image to the bounds of a Geometry, and scales the clipped image to\n",
            "    a particular size or scale.\n",
            "    \n",
            "    Args:\n",
            "      input: The image to clip and scale.\n",
            "      geometry: The Geometry to clip the image to. The image will\n",
            "          be clipped to the bounding box, in the image's\n",
            "          projection, of this geometry.\n",
            "      width: The width to scale the image to, in pixels. Must be\n",
            "          provided along with \"height\". Exclusive with \"maxDimension\"\n",
            "          and \"scale\".\n",
            "      height: The height to scale the image to, in pixels. Must be\n",
            "          provided along with \"width\". Exclusive with \"maxDimension\"\n",
            "          and \"scale\".\n",
            "      maxDimension: The maximum dimension to scale the image\n",
            "          to, in pixels. Exclusive with \"width\", \"height\" and\n",
            "          \"scale\".\n",
            "      scale: If scale is specified, then the projection is scaled by\n",
            "          dividing the specified scale value by the nominal size of a\n",
            "          meter in the image's projection. Exclusive with \"width\",\n",
            "          \"height\" and \"maxDimension\".\n",
            "\n"
          ],
          "name": "stdout"
        }
      ]
    },
    {
      "cell_type": "markdown",
      "metadata": {
        "id": "23D_pxua4vNX"
      },
      "source": [
        "### Build the stack\n",
        "\n",
        ">Documentation for the image method *clipToBoundsAndScale* is helpful to understanding this step in GEE: https://developers.google.com/earth-engine/apidocs/ee-image-cliptoboundsandscale\n",
        ">\n",
        ">Also see this information on compositing and image projections:      \n",
        ">https://developers.google.com/earth-engine/guides/projections#the-default-projection\n",
        "\n",
        "Configure some user preferences here to determine how the stack is created on a common grid. "
      ]
    },
    {
      "cell_type": "code",
      "metadata": {
        "id": "7NpVXcou6J9C"
      },
      "source": [
        "mode = \"bilinear\"  # Resampling method: [\"nearest\", \"bilinear\", \"bicubic\"]\n",
        "scale = 30         # Resolution in GIS-speak; given in meters\n",
        "\n",
        "def resampler(image, resample_method: str=\"bilinear\"):\n",
        "    return image.resample(mode=resample_method)"
      ],
      "execution_count": 41,
      "outputs": []
    },
    {
      "cell_type": "markdown",
      "metadata": {
        "id": "SpEpQI7L6T3K"
      },
      "source": [
        "Build the stack by resampling all the imagery to a common grid and clip them to the region of interest defined by the `roi` geometry.    \n",
        "(In this case, \"common grid\" means that pixels in the grid have identical xy coverage across all bands.)\n",
        "\n",
        "Achieve this in three simple steps:\n",
        "1. Merge the imagery from the cells above into one *ImageCollection*.\n",
        "2. Map the `resampler` function over images in the *ImageCollection*.\n",
        "3. Convert the *ImageCollection* back into a multi-band *Image*.\n"
      ]
    },
    {
      "cell_type": "code",
      "metadata": {
        "colab": {
          "base_uri": "https://localhost:8080/"
        },
        "id": "TSE4l1WQ4vXq",
        "outputId": "c9e9d13c-b153-4b2c-f6a2-84b7eecb057f"
      },
      "source": [
        "stack = (ee.ImageCollection.fromImages([s1out, alos2out, l8out, modis])\n",
        "           .map(resampler)  \n",
        "           .toBands()\n",
        "           .clipToBoundsAndScale(geometry=roi, scale=scale))\n",
        "\n",
        "type(stack)"
      ],
      "execution_count": 42,
      "outputs": [
        {
          "output_type": "execute_result",
          "data": {
            "text/plain": [
              "ee.image.Image"
            ]
          },
          "metadata": {
            "tags": []
          },
          "execution_count": 42
        }
      ]
    },
    {
      "cell_type": "markdown",
      "metadata": {
        "id": "-i5Ya-GkTaS2"
      },
      "source": [
        "Make sure that all the bands were named sensibly."
      ]
    },
    {
      "cell_type": "code",
      "metadata": {
        "colab": {
          "base_uri": "https://localhost:8080/"
        },
        "id": "YmZZxYsm-Ib0",
        "outputId": "1a8bdb9a-9cb6-4533-fa03-e5269d172efc"
      },
      "source": [
        "bands = stack.bandNames().getInfo()\n",
        "\n",
        "bands"
      ],
      "execution_count": 43,
      "outputs": [
        {
          "output_type": "execute_result",
          "data": {
            "text/plain": [
              "['0_VV',\n",
              " '0_VH',\n",
              " '0_angle',\n",
              " '0_radar_volume_index',\n",
              " '1_HV',\n",
              " '1_HH',\n",
              " '1_radar_volume_index',\n",
              " '2_B1',\n",
              " '2_B2',\n",
              " '2_B3',\n",
              " '2_B4',\n",
              " '2_B5',\n",
              " '2_B6',\n",
              " '2_B7',\n",
              " '2_B10',\n",
              " '2_B11',\n",
              " '2_sr_aerosol',\n",
              " '2_pixel_qa',\n",
              " '2_radsat_qa',\n",
              " '2_ndvi',\n",
              " '3_Percent_Tree_Cover']"
            ]
          },
          "metadata": {
            "tags": []
          },
          "execution_count": 43
        }
      ]
    },
    {
      "cell_type": "markdown",
      "metadata": {
        "id": "UGogwdelTZgl"
      },
      "source": [
        "Verify spatial referencing information by displaying a dictionary of SRS information for each band."
      ]
    },
    {
      "cell_type": "code",
      "metadata": {
        "colab": {
          "base_uri": "https://localhost:8080/"
        },
        "id": "u7DQrnsmTaEF",
        "outputId": "75bff857-10c3-4631-d1ad-2d534d1f65c4"
      },
      "source": [
        "srs = {}\n",
        "for b in bands:\n",
        "    p = stack.select(b).projection()\n",
        "    srs[b] = p.getInfo()\n",
        "    srs[b]['nominalScale'] = p.nominalScale().getInfo()\n",
        "    del srs[b]['type']\n",
        "\n",
        "# All image have identical projections if this test returns true:\n",
        "len(list(set([str(p) for p in list(srs.values())]))) == 1"
      ],
      "execution_count": 44,
      "outputs": [
        {
          "output_type": "execute_result",
          "data": {
            "text/plain": [
              "True"
            ]
          },
          "metadata": {
            "tags": []
          },
          "execution_count": 44
        }
      ]
    },
    {
      "cell_type": "markdown",
      "metadata": {
        "id": "cH4WREQSZrG7"
      },
      "source": [
        "We are good to proceed if *True* is displayed as the only output of the cell directly above. It means that all imagery in the final stack have the same projection information.\n",
        "\n",
        "Sanity check: make sure the dictionaries contains sensible projection information."
      ]
    },
    {
      "cell_type": "code",
      "metadata": {
        "colab": {
          "base_uri": "https://localhost:8080/"
        },
        "id": "XZFVBO91YEaY",
        "outputId": "82c3f552-cbc6-497f-adb9-bbfa457b8bbf"
      },
      "source": [
        "list(srs.items())[0][1]  # Print the dictionary for the first band."
      ],
      "execution_count": 45,
      "outputs": [
        {
          "output_type": "execute_result",
          "data": {
            "text/plain": [
              "{'crs': 'EPSG:4326',\n",
              " 'nominalScale': 30.000000000000004,\n",
              " 'transform': [0.00026949458523585647, 0, 0, 0, -0.00026949458523585647, 0]}"
            ]
          },
          "metadata": {
            "tags": []
          },
          "execution_count": 45
        }
      ]
    },
    {
      "cell_type": "markdown",
      "metadata": {
        "id": "xGVrSUPR0U0N"
      },
      "source": [
        "### Sanity checks\n",
        "\n",
        ">Found some convenience functions packaged with *geemap* that should help with those eyeball tests that we struggled through on 5/5. See [here](https://geemap.org/usage/).\n",
        "\n",
        "Get a dictionary of summary stats and load/display it as a pandas data frame."
      ]
    },
    {
      "cell_type": "code",
      "metadata": {
        "colab": {
          "base_uri": "https://localhost:8080/",
          "height": 700
        },
        "id": "qJp5dI0Z0TfJ",
        "outputId": "b1086938-ff7c-4fe4-87b6-051886b6da42"
      },
      "source": [
        "stats = pd.DataFrame(geemap.image_stats(stack).getInfo())\n",
        "\n",
        "stats"
      ],
      "execution_count": 54,
      "outputs": [
        {
          "output_type": "execute_result",
          "data": {
            "text/html": [
              "<div>\n",
              "<style scoped>\n",
              "    .dataframe tbody tr th:only-of-type {\n",
              "        vertical-align: middle;\n",
              "    }\n",
              "\n",
              "    .dataframe tbody tr th {\n",
              "        vertical-align: top;\n",
              "    }\n",
              "\n",
              "    .dataframe thead th {\n",
              "        text-align: right;\n",
              "    }\n",
              "</style>\n",
              "<table border=\"1\" class=\"dataframe\">\n",
              "  <thead>\n",
              "    <tr style=\"text-align: right;\">\n",
              "      <th></th>\n",
              "      <th>max</th>\n",
              "      <th>mean</th>\n",
              "      <th>min</th>\n",
              "      <th>std</th>\n",
              "      <th>sum</th>\n",
              "    </tr>\n",
              "  </thead>\n",
              "  <tbody>\n",
              "    <tr>\n",
              "      <th>0_VH</th>\n",
              "      <td>0.081964</td>\n",
              "      <td>0.048401</td>\n",
              "      <td>0.022734</td>\n",
              "      <td>0.008356</td>\n",
              "      <td>3.784287e+06</td>\n",
              "    </tr>\n",
              "    <tr>\n",
              "      <th>0_VV</th>\n",
              "      <td>0.390772</td>\n",
              "      <td>0.217016</td>\n",
              "      <td>0.135408</td>\n",
              "      <td>0.045383</td>\n",
              "      <td>1.696748e+07</td>\n",
              "    </tr>\n",
              "    <tr>\n",
              "      <th>0_angle</th>\n",
              "      <td>43.379646</td>\n",
              "      <td>38.907959</td>\n",
              "      <td>34.056480</td>\n",
              "      <td>1.982544</td>\n",
              "      <td>3.046135e+09</td>\n",
              "    </tr>\n",
              "    <tr>\n",
              "      <th>0_radar_volume_index</th>\n",
              "      <td>0.842115</td>\n",
              "      <td>0.734316</td>\n",
              "      <td>0.459508</td>\n",
              "      <td>0.060342</td>\n",
              "      <td>5.741279e+07</td>\n",
              "    </tr>\n",
              "    <tr>\n",
              "      <th>1_HH</th>\n",
              "      <td>7096.853400</td>\n",
              "      <td>6671.650341</td>\n",
              "      <td>6105.385921</td>\n",
              "      <td>127.730587</td>\n",
              "      <td>5.240888e+11</td>\n",
              "    </tr>\n",
              "    <tr>\n",
              "      <th>1_HV</th>\n",
              "      <td>4119.118449</td>\n",
              "      <td>3659.587448</td>\n",
              "      <td>2427.113185</td>\n",
              "      <td>280.135095</td>\n",
              "      <td>2.874774e+11</td>\n",
              "    </tr>\n",
              "    <tr>\n",
              "      <th>1_radar_volume_index</th>\n",
              "      <td>1.480811</td>\n",
              "      <td>1.412857</td>\n",
              "      <td>1.133673</td>\n",
              "      <td>0.062279</td>\n",
              "      <td>1.109864e+08</td>\n",
              "    </tr>\n",
              "    <tr>\n",
              "      <th>2_B1</th>\n",
              "      <td>313.206090</td>\n",
              "      <td>223.871380</td>\n",
              "      <td>88.531102</td>\n",
              "      <td>37.988845</td>\n",
              "      <td>1.756255e+10</td>\n",
              "    </tr>\n",
              "    <tr>\n",
              "      <th>2_B10</th>\n",
              "      <td>2959.430245</td>\n",
              "      <td>2927.672638</td>\n",
              "      <td>2890.767910</td>\n",
              "      <td>15.317967</td>\n",
              "      <td>2.296738e+11</td>\n",
              "    </tr>\n",
              "    <tr>\n",
              "      <th>2_B11</th>\n",
              "      <td>2930.497569</td>\n",
              "      <td>2899.620781</td>\n",
              "      <td>2878.007351</td>\n",
              "      <td>12.257291</td>\n",
              "      <td>2.274732e+11</td>\n",
              "    </tr>\n",
              "    <tr>\n",
              "      <th>2_B2</th>\n",
              "      <td>389.984309</td>\n",
              "      <td>280.406938</td>\n",
              "      <td>196.736415</td>\n",
              "      <td>43.702963</td>\n",
              "      <td>2.199772e+10</td>\n",
              "    </tr>\n",
              "    <tr>\n",
              "      <th>2_B3</th>\n",
              "      <td>783.971781</td>\n",
              "      <td>555.325006</td>\n",
              "      <td>397.661710</td>\n",
              "      <td>90.431621</td>\n",
              "      <td>4.356485e+10</td>\n",
              "    </tr>\n",
              "    <tr>\n",
              "      <th>2_B4</th>\n",
              "      <td>702.980561</td>\n",
              "      <td>440.454669</td>\n",
              "      <td>233.702852</td>\n",
              "      <td>126.281338</td>\n",
              "      <td>3.455335e+10</td>\n",
              "    </tr>\n",
              "    <tr>\n",
              "      <th>2_B5</th>\n",
              "      <td>3533.990060</td>\n",
              "      <td>3112.884498</td>\n",
              "      <td>1959.734890</td>\n",
              "      <td>310.239789</td>\n",
              "      <td>2.442036e+11</td>\n",
              "    </tr>\n",
              "    <tr>\n",
              "      <th>2_B6</th>\n",
              "      <td>2381.836774</td>\n",
              "      <td>1705.721342</td>\n",
              "      <td>1261.762427</td>\n",
              "      <td>209.807722</td>\n",
              "      <td>1.338126e+11</td>\n",
              "    </tr>\n",
              "    <tr>\n",
              "      <th>2_B7</th>\n",
              "      <td>1637.528756</td>\n",
              "      <td>833.619356</td>\n",
              "      <td>501.973242</td>\n",
              "      <td>226.669392</td>\n",
              "      <td>6.539684e+10</td>\n",
              "    </tr>\n",
              "    <tr>\n",
              "      <th>2_ndvi</th>\n",
              "      <td>0.869239</td>\n",
              "      <td>0.748267</td>\n",
              "      <td>0.475787</td>\n",
              "      <td>0.085295</td>\n",
              "      <td>5.870103e+07</td>\n",
              "    </tr>\n",
              "    <tr>\n",
              "      <th>2_pixel_qa</th>\n",
              "      <td>322.000000</td>\n",
              "      <td>322.000000</td>\n",
              "      <td>322.000000</td>\n",
              "      <td>0.000000</td>\n",
              "      <td>2.526067e+10</td>\n",
              "    </tr>\n",
              "    <tr>\n",
              "      <th>2_radsat_qa</th>\n",
              "      <td>0.000000</td>\n",
              "      <td>0.000000</td>\n",
              "      <td>0.000000</td>\n",
              "      <td>0.000000</td>\n",
              "      <td>0.000000e+00</td>\n",
              "    </tr>\n",
              "    <tr>\n",
              "      <th>2_sr_aerosol</th>\n",
              "      <td>216.116929</td>\n",
              "      <td>139.134543</td>\n",
              "      <td>96.000561</td>\n",
              "      <td>25.653818</td>\n",
              "      <td>1.091500e+10</td>\n",
              "    </tr>\n",
              "    <tr>\n",
              "      <th>3_Percent_Tree_Cover</th>\n",
              "      <td>89.000000</td>\n",
              "      <td>55.150048</td>\n",
              "      <td>0.000000</td>\n",
              "      <td>23.775307</td>\n",
              "      <td>4.315480e+09</td>\n",
              "    </tr>\n",
              "  </tbody>\n",
              "</table>\n",
              "</div>"
            ],
            "text/plain": [
              "                              max         mean  ...         std           sum\n",
              "0_VH                     0.081964     0.048401  ...    0.008356  3.784287e+06\n",
              "0_VV                     0.390772     0.217016  ...    0.045383  1.696748e+07\n",
              "0_angle                 43.379646    38.907959  ...    1.982544  3.046135e+09\n",
              "0_radar_volume_index     0.842115     0.734316  ...    0.060342  5.741279e+07\n",
              "1_HH                  7096.853400  6671.650341  ...  127.730587  5.240888e+11\n",
              "1_HV                  4119.118449  3659.587448  ...  280.135095  2.874774e+11\n",
              "1_radar_volume_index     1.480811     1.412857  ...    0.062279  1.109864e+08\n",
              "2_B1                   313.206090   223.871380  ...   37.988845  1.756255e+10\n",
              "2_B10                 2959.430245  2927.672638  ...   15.317967  2.296738e+11\n",
              "2_B11                 2930.497569  2899.620781  ...   12.257291  2.274732e+11\n",
              "2_B2                   389.984309   280.406938  ...   43.702963  2.199772e+10\n",
              "2_B3                   783.971781   555.325006  ...   90.431621  4.356485e+10\n",
              "2_B4                   702.980561   440.454669  ...  126.281338  3.455335e+10\n",
              "2_B5                  3533.990060  3112.884498  ...  310.239789  2.442036e+11\n",
              "2_B6                  2381.836774  1705.721342  ...  209.807722  1.338126e+11\n",
              "2_B7                  1637.528756   833.619356  ...  226.669392  6.539684e+10\n",
              "2_ndvi                   0.869239     0.748267  ...    0.085295  5.870103e+07\n",
              "2_pixel_qa             322.000000   322.000000  ...    0.000000  2.526067e+10\n",
              "2_radsat_qa              0.000000     0.000000  ...    0.000000  0.000000e+00\n",
              "2_sr_aerosol           216.116929   139.134543  ...   25.653818  1.091500e+10\n",
              "3_Percent_Tree_Cover    89.000000    55.150048  ...   23.775307  4.315480e+09\n",
              "\n",
              "[21 rows x 5 columns]"
            ]
          },
          "metadata": {
            "tags": []
          },
          "execution_count": 54
        }
      ]
    },
    {
      "cell_type": "markdown",
      "metadata": {
        "id": "4eRlMHghTqY6"
      },
      "source": [
        "### Render the stack on a map\n",
        "\n",
        "GEE makes me so nervous about what's happening on the backend... Mapping for eyeball verification is a must. That's pretty easy with the `geemap` package."
      ]
    },
    {
      "cell_type": "code",
      "metadata": {
        "colab": {
          "base_uri": "https://localhost:8080/",
          "height": 499
        },
        "id": "JC2bLY-x-F_J",
        "outputId": "19b2350d-30c0-48c7-ce4d-5fed62dd0daa"
      },
      "source": [
        "Map = geemap.Map(center=[pts['latitude'].mean(), pts['longitude'].mean()], zoom=8)\n",
        "\n",
        "for b in bands:\n",
        "    band = stack.select(b)\n",
        "    shown = True if b.endswith(('ndvi', 'radar_volume_index')) else False\n",
        "    Map.addLayer(band,\n",
        "                 vis_params={'min': -1, 'max': 1.0}, \n",
        "                 name=b,\n",
        "                 shown=shown)\n",
        "\n",
        "Map.add_layer_control()\n",
        "Map"
      ],
      "execution_count": 49,
      "outputs": [
        {
          "output_type": "execute_result",
          "data": {
            "text/html": [
              "<div style=\"width:100%;\"><div style=\"position:relative;width:100%;height:0;padding-bottom:60%;\"><span style=\"color:#565656\">Make this Notebook Trusted to load map: File -> Trust Notebook</span><iframe src=\"about:blank\" style=\"position:absolute;width:100%;height:100%;left:0;top:0;border:none !important;\" data-html=%3C%21DOCTYPE%20html%3E%0A%3Chead%3E%20%20%20%20%0A%20%20%20%20%3Cmeta%20http-equiv%3D%22content-type%22%20content%3D%22text/html%3B%20charset%3DUTF-8%22%20/%3E%0A%20%20%20%20%0A%20%20%20%20%20%20%20%20%3Cscript%3E%0A%20%20%20%20%20%20%20%20%20%20%20%20L_NO_TOUCH%20%3D%20false%3B%0A%20%20%20%20%20%20%20%20%20%20%20%20L_DISABLE_3D%20%3D%20false%3B%0A%20%20%20%20%20%20%20%20%3C/script%3E%0A%20%20%20%20%0A%20%20%20%20%3Cstyle%3Ehtml%2C%20body%20%7Bwidth%3A%20100%25%3Bheight%3A%20100%25%3Bmargin%3A%200%3Bpadding%3A%200%3B%7D%3C/style%3E%0A%20%20%20%20%3Cstyle%3E%23map%20%7Bposition%3Aabsolute%3Btop%3A0%3Bbottom%3A0%3Bright%3A0%3Bleft%3A0%3B%7D%3C/style%3E%0A%20%20%20%20%3Cscript%20src%3D%22https%3A//cdn.jsdelivr.net/npm/leaflet%401.6.0/dist/leaflet.js%22%3E%3C/script%3E%0A%20%20%20%20%3Cscript%20src%3D%22https%3A//code.jquery.com/jquery-1.12.4.min.js%22%3E%3C/script%3E%0A%20%20%20%20%3Cscript%20src%3D%22https%3A//maxcdn.bootstrapcdn.com/bootstrap/3.2.0/js/bootstrap.min.js%22%3E%3C/script%3E%0A%20%20%20%20%3Cscript%20src%3D%22https%3A//cdnjs.cloudflare.com/ajax/libs/Leaflet.awesome-markers/2.0.2/leaflet.awesome-markers.js%22%3E%3C/script%3E%0A%20%20%20%20%3Clink%20rel%3D%22stylesheet%22%20href%3D%22https%3A//cdn.jsdelivr.net/npm/leaflet%401.6.0/dist/leaflet.css%22/%3E%0A%20%20%20%20%3Clink%20rel%3D%22stylesheet%22%20href%3D%22https%3A//maxcdn.bootstrapcdn.com/bootstrap/3.2.0/css/bootstrap.min.css%22/%3E%0A%20%20%20%20%3Clink%20rel%3D%22stylesheet%22%20href%3D%22https%3A//maxcdn.bootstrapcdn.com/bootstrap/3.2.0/css/bootstrap-theme.min.css%22/%3E%0A%20%20%20%20%3Clink%20rel%3D%22stylesheet%22%20href%3D%22https%3A//maxcdn.bootstrapcdn.com/font-awesome/4.6.3/css/font-awesome.min.css%22/%3E%0A%20%20%20%20%3Clink%20rel%3D%22stylesheet%22%20href%3D%22https%3A//cdnjs.cloudflare.com/ajax/libs/Leaflet.awesome-markers/2.0.2/leaflet.awesome-markers.css%22/%3E%0A%20%20%20%20%3Clink%20rel%3D%22stylesheet%22%20href%3D%22https%3A//cdn.jsdelivr.net/gh/python-visualization/folium/folium/templates/leaflet.awesome.rotate.min.css%22/%3E%0A%20%20%20%20%0A%20%20%20%20%20%20%20%20%20%20%20%20%3Cmeta%20name%3D%22viewport%22%20content%3D%22width%3Ddevice-width%2C%0A%20%20%20%20%20%20%20%20%20%20%20%20%20%20%20%20initial-scale%3D1.0%2C%20maximum-scale%3D1.0%2C%20user-scalable%3Dno%22%20/%3E%0A%20%20%20%20%20%20%20%20%20%20%20%20%3Cstyle%3E%0A%20%20%20%20%20%20%20%20%20%20%20%20%20%20%20%20%23map_7939e08f77524c93be3673df9f727189%20%7B%0A%20%20%20%20%20%20%20%20%20%20%20%20%20%20%20%20%20%20%20%20position%3A%20relative%3B%0A%20%20%20%20%20%20%20%20%20%20%20%20%20%20%20%20%20%20%20%20width%3A%20100.0%25%3B%0A%20%20%20%20%20%20%20%20%20%20%20%20%20%20%20%20%20%20%20%20height%3A%20100.0%25%3B%0A%20%20%20%20%20%20%20%20%20%20%20%20%20%20%20%20%20%20%20%20left%3A%200.0%25%3B%0A%20%20%20%20%20%20%20%20%20%20%20%20%20%20%20%20%20%20%20%20top%3A%200.0%25%3B%0A%20%20%20%20%20%20%20%20%20%20%20%20%20%20%20%20%7D%0A%20%20%20%20%20%20%20%20%20%20%20%20%3C/style%3E%0A%20%20%20%20%20%20%20%20%0A%20%20%20%20%3Cscript%20src%3D%22https%3A//cdnjs.cloudflare.com/ajax/libs/leaflet.fullscreen/1.4.2/Control.FullScreen.min.js%22%3E%3C/script%3E%0A%20%20%20%20%3Clink%20rel%3D%22stylesheet%22%20href%3D%22https%3A//cdnjs.cloudflare.com/ajax/libs/leaflet.fullscreen/1.4.2/Control.FullScreen.min.css%22/%3E%0A%3C/head%3E%0A%3Cbody%3E%20%20%20%20%0A%20%20%20%20%0A%20%20%20%20%20%20%20%20%20%20%20%20%3Cdiv%20class%3D%22folium-map%22%20id%3D%22map_7939e08f77524c93be3673df9f727189%22%20%3E%3C/div%3E%0A%20%20%20%20%20%20%20%20%0A%3C/body%3E%0A%3Cscript%3E%20%20%20%20%0A%20%20%20%20%0A%20%20%20%20%20%20%20%20%20%20%20%20var%20map_7939e08f77524c93be3673df9f727189%20%3D%20L.map%28%0A%20%20%20%20%20%20%20%20%20%20%20%20%20%20%20%20%22map_7939e08f77524c93be3673df9f727189%22%2C%0A%20%20%20%20%20%20%20%20%20%20%20%20%20%20%20%20%7B%0A%20%20%20%20%20%20%20%20%20%20%20%20%20%20%20%20%20%20%20%20center%3A%20%5B-7.132673861109996%2C%20-76.61272973500003%5D%2C%0A%20%20%20%20%20%20%20%20%20%20%20%20%20%20%20%20%20%20%20%20crs%3A%20L.CRS.EPSG3857%2C%0A%20%20%20%20%20%20%20%20%20%20%20%20%20%20%20%20%20%20%20%20zoom%3A%208%2C%0A%20%20%20%20%20%20%20%20%20%20%20%20%20%20%20%20%20%20%20%20zoomControl%3A%20true%2C%0A%20%20%20%20%20%20%20%20%20%20%20%20%20%20%20%20%20%20%20%20preferCanvas%3A%20false%2C%0A%20%20%20%20%20%20%20%20%20%20%20%20%20%20%20%20%20%20%20%20eeInitialize%3A%20true%2C%0A%20%20%20%20%20%20%20%20%20%20%20%20%20%20%20%20%20%20%20%20addGoogleMap%3A%20true%2C%0A%20%20%20%20%20%20%20%20%20%20%20%20%20%20%20%20%20%20%20%20pluginLatlngpopup%3A%20true%2C%0A%20%20%20%20%20%20%20%20%20%20%20%20%20%20%20%20%20%20%20%20pluginFullscreen%3A%20true%2C%0A%20%20%20%20%20%20%20%20%20%20%20%20%20%20%20%20%20%20%20%20pluginDraw%3A%20false%2C%0A%20%20%20%20%20%20%20%20%20%20%20%20%20%20%20%20%20%20%20%20DrawExport%3A%20true%2C%0A%20%20%20%20%20%20%20%20%20%20%20%20%20%20%20%20%20%20%20%20pluginMinimap%3A%20false%2C%0A%20%20%20%20%20%20%20%20%20%20%20%20%20%20%20%20%20%20%20%20pluginLayercontrol%3A%20false%2C%0A%20%20%20%20%20%20%20%20%20%20%20%20%20%20%20%20%7D%0A%20%20%20%20%20%20%20%20%20%20%20%20%29%3B%0A%0A%20%20%20%20%20%20%20%20%20%20%20%20%0A%0A%20%20%20%20%20%20%20%20%0A%20%20%20%20%0A%20%20%20%20%20%20%20%20%20%20%20%20var%20tile_layer_bed29cb1e15647a0badc14d0727de310%20%3D%20L.tileLayer%28%0A%20%20%20%20%20%20%20%20%20%20%20%20%20%20%20%20%22https%3A//%7Bs%7D.tile.openstreetmap.org/%7Bz%7D/%7Bx%7D/%7By%7D.png%22%2C%0A%20%20%20%20%20%20%20%20%20%20%20%20%20%20%20%20%7B%22attribution%22%3A%20%22Data%20by%20%5Cu0026copy%3B%20%5Cu003ca%20href%3D%5C%22http%3A//openstreetmap.org%5C%22%5Cu003eOpenStreetMap%5Cu003c/a%5Cu003e%2C%20under%20%5Cu003ca%20href%3D%5C%22http%3A//www.openstreetmap.org/copyright%5C%22%5Cu003eODbL%5Cu003c/a%5Cu003e.%22%2C%20%22detectRetina%22%3A%20false%2C%20%22maxNativeZoom%22%3A%2018%2C%20%22maxZoom%22%3A%2018%2C%20%22minZoom%22%3A%200%2C%20%22noWrap%22%3A%20false%2C%20%22opacity%22%3A%201%2C%20%22subdomains%22%3A%20%22abc%22%2C%20%22tms%22%3A%20false%7D%0A%20%20%20%20%20%20%20%20%20%20%20%20%29.addTo%28map_7939e08f77524c93be3673df9f727189%29%3B%0A%20%20%20%20%20%20%20%20%0A%20%20%20%20%0A%20%20%20%20%20%20%20%20%20%20%20%20var%20tile_layer_b6834ceac3d4439bb996ed84c8854bcb%20%3D%20L.tileLayer%28%0A%20%20%20%20%20%20%20%20%20%20%20%20%20%20%20%20%22https%3A//mt1.google.com/vt/lyrs%3Dm%5Cu0026x%3D%7Bx%7D%5Cu0026y%3D%7By%7D%5Cu0026z%3D%7Bz%7D%22%2C%0A%20%20%20%20%20%20%20%20%20%20%20%20%20%20%20%20%7B%22attribution%22%3A%20%22Google%22%2C%20%22detectRetina%22%3A%20false%2C%20%22maxNativeZoom%22%3A%2018%2C%20%22maxZoom%22%3A%2018%2C%20%22minZoom%22%3A%200%2C%20%22noWrap%22%3A%20false%2C%20%22opacity%22%3A%201%2C%20%22subdomains%22%3A%20%22abc%22%2C%20%22tms%22%3A%20false%7D%0A%20%20%20%20%20%20%20%20%20%20%20%20%29.addTo%28map_7939e08f77524c93be3673df9f727189%29%3B%0A%20%20%20%20%20%20%20%20%0A%20%20%20%20%0A%20%20%20%20%20%20%20%20%20%20%20%20%20%20%20%20var%20lat_lng_popup_4aa077a90ee4435bb47e3371e2c51318%20%3D%20L.popup%28%29%3B%0A%20%20%20%20%20%20%20%20%20%20%20%20%20%20%20%20function%20latLngPop%28e%29%20%7B%0A%20%20%20%20%20%20%20%20%20%20%20%20%20%20%20%20%20%20%20%20lat_lng_popup_4aa077a90ee4435bb47e3371e2c51318%0A%20%20%20%20%20%20%20%20%20%20%20%20%20%20%20%20%20%20%20%20%20%20%20%20.setLatLng%28e.latlng%29%0A%20%20%20%20%20%20%20%20%20%20%20%20%20%20%20%20%20%20%20%20%20%20%20%20.setContent%28%22Latitude%3A%20%22%20%2B%20e.latlng.lat.toFixed%284%29%20%2B%0A%20%20%20%20%20%20%20%20%20%20%20%20%20%20%20%20%20%20%20%20%20%20%20%20%20%20%20%20%20%20%20%20%20%20%20%20%22%3Cbr%3ELongitude%3A%20%22%20%2B%20e.latlng.lng.toFixed%284%29%29%0A%20%20%20%20%20%20%20%20%20%20%20%20%20%20%20%20%20%20%20%20%20%20%20%20.openOn%28map_7939e08f77524c93be3673df9f727189%29%3B%0A%20%20%20%20%20%20%20%20%20%20%20%20%20%20%20%20%20%20%20%20%7D%0A%20%20%20%20%20%20%20%20%20%20%20%20%20%20%20%20map_7939e08f77524c93be3673df9f727189.on%28%27click%27%2C%20latLngPop%29%3B%0A%20%20%20%20%20%20%20%20%20%20%20%20%0A%20%20%20%20%0A%20%20%20%20%20%20%20%20%20%20%20%20L.control.fullscreen%28%0A%20%20%20%20%20%20%20%20%20%20%20%20%20%20%20%20%7B%22forceSeparateButton%22%3A%20false%2C%20%22position%22%3A%20%22topleft%22%2C%20%22title%22%3A%20%22Full%20Screen%22%2C%20%22titleCancel%22%3A%20%22Exit%20Full%20Screen%22%7D%0A%20%20%20%20%20%20%20%20%20%20%20%20%29.addTo%28map_7939e08f77524c93be3673df9f727189%29%3B%0A%20%20%20%20%20%20%20%20%0A%20%20%20%20%0A%20%20%20%20%20%20%20%20%20%20%20%20map_7939e08f77524c93be3673df9f727189.fitBounds%28%0A%20%20%20%20%20%20%20%20%20%20%20%20%20%20%20%20%5B%5B-7.132673861109996%2C%20-76.61272973500003%5D%2C%20%5B-7.132673861109996%2C%20-76.61272973500003%5D%5D%2C%0A%20%20%20%20%20%20%20%20%20%20%20%20%20%20%20%20%7B%22maxZoom%22%3A%208%7D%0A%20%20%20%20%20%20%20%20%20%20%20%20%29%3B%0A%20%20%20%20%20%20%20%20%0A%20%20%20%20%0A%20%20%20%20%20%20%20%20%20%20%20%20var%20tile_layer_1cdd1ab3cd3a45998f75a796be0cb30b%20%3D%20L.tileLayer%28%0A%20%20%20%20%20%20%20%20%20%20%20%20%20%20%20%20%22https%3A//earthengine.googleapis.com/v1alpha/projects/earthengine-legacy/maps/9f0f1e734bae3f56010baef27c710a86-048fc4cc47fd7e4b1e815bbe86346ada/tiles/%7Bz%7D/%7Bx%7D/%7By%7D%22%2C%0A%20%20%20%20%20%20%20%20%20%20%20%20%20%20%20%20%7B%22attribution%22%3A%20%22Google%20Earth%20Engine%22%2C%20%22detectRetina%22%3A%20false%2C%20%22maxNativeZoom%22%3A%2018%2C%20%22maxZoom%22%3A%2018%2C%20%22minZoom%22%3A%200%2C%20%22noWrap%22%3A%20false%2C%20%22opacity%22%3A%201.0%2C%20%22subdomains%22%3A%20%22abc%22%2C%20%22tms%22%3A%20false%7D%0A%20%20%20%20%20%20%20%20%20%20%20%20%29.addTo%28map_7939e08f77524c93be3673df9f727189%29%3B%0A%20%20%20%20%20%20%20%20%0A%20%20%20%20%0A%20%20%20%20%20%20%20%20%20%20%20%20var%20tile_layer_d7b6dc7d65bd4f0d8c06a86db6158b92%20%3D%20L.tileLayer%28%0A%20%20%20%20%20%20%20%20%20%20%20%20%20%20%20%20%22https%3A//earthengine.googleapis.com/v1alpha/projects/earthengine-legacy/maps/8669fb255b32e51ed26487fa0c473306-3d5e588cad736731cde208769ca274b6/tiles/%7Bz%7D/%7Bx%7D/%7By%7D%22%2C%0A%20%20%20%20%20%20%20%20%20%20%20%20%20%20%20%20%7B%22attribution%22%3A%20%22Google%20Earth%20Engine%22%2C%20%22detectRetina%22%3A%20false%2C%20%22maxNativeZoom%22%3A%2018%2C%20%22maxZoom%22%3A%2018%2C%20%22minZoom%22%3A%200%2C%20%22noWrap%22%3A%20false%2C%20%22opacity%22%3A%201.0%2C%20%22subdomains%22%3A%20%22abc%22%2C%20%22tms%22%3A%20false%7D%0A%20%20%20%20%20%20%20%20%20%20%20%20%29.addTo%28map_7939e08f77524c93be3673df9f727189%29%3B%0A%20%20%20%20%20%20%20%20%0A%20%20%20%20%0A%20%20%20%20%20%20%20%20%20%20%20%20var%20tile_layer_a57641e0f3b94300928c2c3f5ea060b1%20%3D%20L.tileLayer%28%0A%20%20%20%20%20%20%20%20%20%20%20%20%20%20%20%20%22https%3A//earthengine.googleapis.com/v1alpha/projects/earthengine-legacy/maps/8404a638ddc3ab5b1588fc04f8cdb13b-e650306f04617603c24fdb1910394400/tiles/%7Bz%7D/%7Bx%7D/%7By%7D%22%2C%0A%20%20%20%20%20%20%20%20%20%20%20%20%20%20%20%20%7B%22attribution%22%3A%20%22Google%20Earth%20Engine%22%2C%20%22detectRetina%22%3A%20false%2C%20%22maxNativeZoom%22%3A%2018%2C%20%22maxZoom%22%3A%2018%2C%20%22minZoom%22%3A%200%2C%20%22noWrap%22%3A%20false%2C%20%22opacity%22%3A%201.0%2C%20%22subdomains%22%3A%20%22abc%22%2C%20%22tms%22%3A%20false%7D%0A%20%20%20%20%20%20%20%20%20%20%20%20%29.addTo%28map_7939e08f77524c93be3673df9f727189%29%3B%0A%20%20%20%20%20%20%20%20%0A%20%20%20%20%0A%20%20%20%20%20%20%20%20%20%20%20%20var%20tile_layer_a361140e9c8f4f31873dc30bd6e4d80d%20%3D%20L.tileLayer%28%0A%20%20%20%20%20%20%20%20%20%20%20%20%20%20%20%20%22https%3A//earthengine.googleapis.com/v1alpha/projects/earthengine-legacy/maps/e6a5882eb70cd2a541351ce2e3f3ac58-25db233753b25ce8b937d4ed647c37bf/tiles/%7Bz%7D/%7Bx%7D/%7By%7D%22%2C%0A%20%20%20%20%20%20%20%20%20%20%20%20%20%20%20%20%7B%22attribution%22%3A%20%22Google%20Earth%20Engine%22%2C%20%22detectRetina%22%3A%20false%2C%20%22maxNativeZoom%22%3A%2018%2C%20%22maxZoom%22%3A%2018%2C%20%22minZoom%22%3A%200%2C%20%22noWrap%22%3A%20false%2C%20%22opacity%22%3A%201.0%2C%20%22subdomains%22%3A%20%22abc%22%2C%20%22tms%22%3A%20false%7D%0A%20%20%20%20%20%20%20%20%20%20%20%20%29.addTo%28map_7939e08f77524c93be3673df9f727189%29%3B%0A%20%20%20%20%20%20%20%20%0A%20%20%20%20%0A%20%20%20%20%20%20%20%20%20%20%20%20var%20tile_layer_5baf478cde10455aa9be47953c75cb67%20%3D%20L.tileLayer%28%0A%20%20%20%20%20%20%20%20%20%20%20%20%20%20%20%20%22https%3A//earthengine.googleapis.com/v1alpha/projects/earthengine-legacy/maps/6cb591e812b1f039a7711f128f562f54-e5aaee76a0cc766d8ce604f7998d62e1/tiles/%7Bz%7D/%7Bx%7D/%7By%7D%22%2C%0A%20%20%20%20%20%20%20%20%20%20%20%20%20%20%20%20%7B%22attribution%22%3A%20%22Google%20Earth%20Engine%22%2C%20%22detectRetina%22%3A%20false%2C%20%22maxNativeZoom%22%3A%2018%2C%20%22maxZoom%22%3A%2018%2C%20%22minZoom%22%3A%200%2C%20%22noWrap%22%3A%20false%2C%20%22opacity%22%3A%201.0%2C%20%22subdomains%22%3A%20%22abc%22%2C%20%22tms%22%3A%20false%7D%0A%20%20%20%20%20%20%20%20%20%20%20%20%29.addTo%28map_7939e08f77524c93be3673df9f727189%29%3B%0A%20%20%20%20%20%20%20%20%0A%20%20%20%20%0A%20%20%20%20%20%20%20%20%20%20%20%20var%20tile_layer_0cca968aadc445a3a6d945f9068ab40f%20%3D%20L.tileLayer%28%0A%20%20%20%20%20%20%20%20%20%20%20%20%20%20%20%20%22https%3A//earthengine.googleapis.com/v1alpha/projects/earthengine-legacy/maps/c2d4f119225967fb415da1e019ba27d4-b7dcbf6e2a1640cbf10afcb3fcaafaff/tiles/%7Bz%7D/%7Bx%7D/%7By%7D%22%2C%0A%20%20%20%20%20%20%20%20%20%20%20%20%20%20%20%20%7B%22attribution%22%3A%20%22Google%20Earth%20Engine%22%2C%20%22detectRetina%22%3A%20false%2C%20%22maxNativeZoom%22%3A%2018%2C%20%22maxZoom%22%3A%2018%2C%20%22minZoom%22%3A%200%2C%20%22noWrap%22%3A%20false%2C%20%22opacity%22%3A%201.0%2C%20%22subdomains%22%3A%20%22abc%22%2C%20%22tms%22%3A%20false%7D%0A%20%20%20%20%20%20%20%20%20%20%20%20%29.addTo%28map_7939e08f77524c93be3673df9f727189%29%3B%0A%20%20%20%20%20%20%20%20%0A%20%20%20%20%0A%20%20%20%20%20%20%20%20%20%20%20%20var%20tile_layer_cb86250462894778808151b9c3c8bfa8%20%3D%20L.tileLayer%28%0A%20%20%20%20%20%20%20%20%20%20%20%20%20%20%20%20%22https%3A//earthengine.googleapis.com/v1alpha/projects/earthengine-legacy/maps/2a2306ff41785e613c48bc96e8407c3d-2d25664d17e22b9842875167c04cbc6c/tiles/%7Bz%7D/%7Bx%7D/%7By%7D%22%2C%0A%20%20%20%20%20%20%20%20%20%20%20%20%20%20%20%20%7B%22attribution%22%3A%20%22Google%20Earth%20Engine%22%2C%20%22detectRetina%22%3A%20false%2C%20%22maxNativeZoom%22%3A%2018%2C%20%22maxZoom%22%3A%2018%2C%20%22minZoom%22%3A%200%2C%20%22noWrap%22%3A%20false%2C%20%22opacity%22%3A%201.0%2C%20%22subdomains%22%3A%20%22abc%22%2C%20%22tms%22%3A%20false%7D%0A%20%20%20%20%20%20%20%20%20%20%20%20%29.addTo%28map_7939e08f77524c93be3673df9f727189%29%3B%0A%20%20%20%20%20%20%20%20%0A%20%20%20%20%0A%20%20%20%20%20%20%20%20%20%20%20%20var%20tile_layer_9380e42cca2c4a6d9cac58d78ddb2803%20%3D%20L.tileLayer%28%0A%20%20%20%20%20%20%20%20%20%20%20%20%20%20%20%20%22https%3A//earthengine.googleapis.com/v1alpha/projects/earthengine-legacy/maps/542536efd013d5927fd4c0dfbebcb544-fcecdea7ad210e38843eec54d661d89b/tiles/%7Bz%7D/%7Bx%7D/%7By%7D%22%2C%0A%20%20%20%20%20%20%20%20%20%20%20%20%20%20%20%20%7B%22attribution%22%3A%20%22Google%20Earth%20Engine%22%2C%20%22detectRetina%22%3A%20false%2C%20%22maxNativeZoom%22%3A%2018%2C%20%22maxZoom%22%3A%2018%2C%20%22minZoom%22%3A%200%2C%20%22noWrap%22%3A%20false%2C%20%22opacity%22%3A%201.0%2C%20%22subdomains%22%3A%20%22abc%22%2C%20%22tms%22%3A%20false%7D%0A%20%20%20%20%20%20%20%20%20%20%20%20%29.addTo%28map_7939e08f77524c93be3673df9f727189%29%3B%0A%20%20%20%20%20%20%20%20%0A%20%20%20%20%0A%20%20%20%20%20%20%20%20%20%20%20%20var%20tile_layer_cae3e5b2fefc4eaa9de304cfbcb5ab3e%20%3D%20L.tileLayer%28%0A%20%20%20%20%20%20%20%20%20%20%20%20%20%20%20%20%22https%3A//earthengine.googleapis.com/v1alpha/projects/earthengine-legacy/maps/e0515dc8590bb75d7eeb115e36424b2a-59d5e3d3b9b92a176651e0f54b5f45a5/tiles/%7Bz%7D/%7Bx%7D/%7By%7D%22%2C%0A%20%20%20%20%20%20%20%20%20%20%20%20%20%20%20%20%7B%22attribution%22%3A%20%22Google%20Earth%20Engine%22%2C%20%22detectRetina%22%3A%20false%2C%20%22maxNativeZoom%22%3A%2018%2C%20%22maxZoom%22%3A%2018%2C%20%22minZoom%22%3A%200%2C%20%22noWrap%22%3A%20false%2C%20%22opacity%22%3A%201.0%2C%20%22subdomains%22%3A%20%22abc%22%2C%20%22tms%22%3A%20false%7D%0A%20%20%20%20%20%20%20%20%20%20%20%20%29.addTo%28map_7939e08f77524c93be3673df9f727189%29%3B%0A%20%20%20%20%20%20%20%20%0A%20%20%20%20%0A%20%20%20%20%20%20%20%20%20%20%20%20var%20tile_layer_10184240fde74dbf836fb3977da0844d%20%3D%20L.tileLayer%28%0A%20%20%20%20%20%20%20%20%20%20%20%20%20%20%20%20%22https%3A//earthengine.googleapis.com/v1alpha/projects/earthengine-legacy/maps/e7c8d9132f64e8ce9d7e68e433b2b2b0-90d2ff5379affb63f24b67a1e23ccfc4/tiles/%7Bz%7D/%7Bx%7D/%7By%7D%22%2C%0A%20%20%20%20%20%20%20%20%20%20%20%20%20%20%20%20%7B%22attribution%22%3A%20%22Google%20Earth%20Engine%22%2C%20%22detectRetina%22%3A%20false%2C%20%22maxNativeZoom%22%3A%2018%2C%20%22maxZoom%22%3A%2018%2C%20%22minZoom%22%3A%200%2C%20%22noWrap%22%3A%20false%2C%20%22opacity%22%3A%201.0%2C%20%22subdomains%22%3A%20%22abc%22%2C%20%22tms%22%3A%20false%7D%0A%20%20%20%20%20%20%20%20%20%20%20%20%29.addTo%28map_7939e08f77524c93be3673df9f727189%29%3B%0A%20%20%20%20%20%20%20%20%0A%20%20%20%20%0A%20%20%20%20%20%20%20%20%20%20%20%20var%20tile_layer_1778d4b1418e471bbde32dbb66fdd018%20%3D%20L.tileLayer%28%0A%20%20%20%20%20%20%20%20%20%20%20%20%20%20%20%20%22https%3A//earthengine.googleapis.com/v1alpha/projects/earthengine-legacy/maps/9cc76870a3ba4180f83ffb9c7ccb9013-97920364fe4a9299aea017a0cf75433a/tiles/%7Bz%7D/%7Bx%7D/%7By%7D%22%2C%0A%20%20%20%20%20%20%20%20%20%20%20%20%20%20%20%20%7B%22attribution%22%3A%20%22Google%20Earth%20Engine%22%2C%20%22detectRetina%22%3A%20false%2C%20%22maxNativeZoom%22%3A%2018%2C%20%22maxZoom%22%3A%2018%2C%20%22minZoom%22%3A%200%2C%20%22noWrap%22%3A%20false%2C%20%22opacity%22%3A%201.0%2C%20%22subdomains%22%3A%20%22abc%22%2C%20%22tms%22%3A%20false%7D%0A%20%20%20%20%20%20%20%20%20%20%20%20%29.addTo%28map_7939e08f77524c93be3673df9f727189%29%3B%0A%20%20%20%20%20%20%20%20%0A%20%20%20%20%0A%20%20%20%20%20%20%20%20%20%20%20%20var%20tile_layer_ce3b759b9fd042ee98ac8a9933dc7397%20%3D%20L.tileLayer%28%0A%20%20%20%20%20%20%20%20%20%20%20%20%20%20%20%20%22https%3A//earthengine.googleapis.com/v1alpha/projects/earthengine-legacy/maps/262dc3ebdbb0ccacaaab5151d1c0831f-b923bb772299ebb84f2fea1f603abc74/tiles/%7Bz%7D/%7Bx%7D/%7By%7D%22%2C%0A%20%20%20%20%20%20%20%20%20%20%20%20%20%20%20%20%7B%22attribution%22%3A%20%22Google%20Earth%20Engine%22%2C%20%22detectRetina%22%3A%20false%2C%20%22maxNativeZoom%22%3A%2018%2C%20%22maxZoom%22%3A%2018%2C%20%22minZoom%22%3A%200%2C%20%22noWrap%22%3A%20false%2C%20%22opacity%22%3A%201.0%2C%20%22subdomains%22%3A%20%22abc%22%2C%20%22tms%22%3A%20false%7D%0A%20%20%20%20%20%20%20%20%20%20%20%20%29.addTo%28map_7939e08f77524c93be3673df9f727189%29%3B%0A%20%20%20%20%20%20%20%20%0A%20%20%20%20%0A%20%20%20%20%20%20%20%20%20%20%20%20var%20tile_layer_948f996283d144ec9a64994a37a34a14%20%3D%20L.tileLayer%28%0A%20%20%20%20%20%20%20%20%20%20%20%20%20%20%20%20%22https%3A//earthengine.googleapis.com/v1alpha/projects/earthengine-legacy/maps/34d21b295267648dafa4eb7f771de31d-33cbe445fa08387bf6d89fbc3d77427c/tiles/%7Bz%7D/%7Bx%7D/%7By%7D%22%2C%0A%20%20%20%20%20%20%20%20%20%20%20%20%20%20%20%20%7B%22attribution%22%3A%20%22Google%20Earth%20Engine%22%2C%20%22detectRetina%22%3A%20false%2C%20%22maxNativeZoom%22%3A%2018%2C%20%22maxZoom%22%3A%2018%2C%20%22minZoom%22%3A%200%2C%20%22noWrap%22%3A%20false%2C%20%22opacity%22%3A%201.0%2C%20%22subdomains%22%3A%20%22abc%22%2C%20%22tms%22%3A%20false%7D%0A%20%20%20%20%20%20%20%20%20%20%20%20%29.addTo%28map_7939e08f77524c93be3673df9f727189%29%3B%0A%20%20%20%20%20%20%20%20%0A%20%20%20%20%0A%20%20%20%20%20%20%20%20%20%20%20%20var%20tile_layer_e85c8b3b4243456ebb493c33fe5f89c8%20%3D%20L.tileLayer%28%0A%20%20%20%20%20%20%20%20%20%20%20%20%20%20%20%20%22https%3A//earthengine.googleapis.com/v1alpha/projects/earthengine-legacy/maps/75dac51f05037f23070fb44ceaf31f07-2cb26c5bb078caaeeb393ec3e5a2973a/tiles/%7Bz%7D/%7Bx%7D/%7By%7D%22%2C%0A%20%20%20%20%20%20%20%20%20%20%20%20%20%20%20%20%7B%22attribution%22%3A%20%22Google%20Earth%20Engine%22%2C%20%22detectRetina%22%3A%20false%2C%20%22maxNativeZoom%22%3A%2018%2C%20%22maxZoom%22%3A%2018%2C%20%22minZoom%22%3A%200%2C%20%22noWrap%22%3A%20false%2C%20%22opacity%22%3A%201.0%2C%20%22subdomains%22%3A%20%22abc%22%2C%20%22tms%22%3A%20false%7D%0A%20%20%20%20%20%20%20%20%20%20%20%20%29.addTo%28map_7939e08f77524c93be3673df9f727189%29%3B%0A%20%20%20%20%20%20%20%20%0A%20%20%20%20%0A%20%20%20%20%20%20%20%20%20%20%20%20var%20tile_layer_06ffe09258e44107a466f5eb67d2eded%20%3D%20L.tileLayer%28%0A%20%20%20%20%20%20%20%20%20%20%20%20%20%20%20%20%22https%3A//earthengine.googleapis.com/v1alpha/projects/earthengine-legacy/maps/396ac54dc5983b2b7891180845bd96ce-f0d666ef27b0bace64c81df57c8216b2/tiles/%7Bz%7D/%7Bx%7D/%7By%7D%22%2C%0A%20%20%20%20%20%20%20%20%20%20%20%20%20%20%20%20%7B%22attribution%22%3A%20%22Google%20Earth%20Engine%22%2C%20%22detectRetina%22%3A%20false%2C%20%22maxNativeZoom%22%3A%2018%2C%20%22maxZoom%22%3A%2018%2C%20%22minZoom%22%3A%200%2C%20%22noWrap%22%3A%20false%2C%20%22opacity%22%3A%201.0%2C%20%22subdomains%22%3A%20%22abc%22%2C%20%22tms%22%3A%20false%7D%0A%20%20%20%20%20%20%20%20%20%20%20%20%29.addTo%28map_7939e08f77524c93be3673df9f727189%29%3B%0A%20%20%20%20%20%20%20%20%0A%20%20%20%20%0A%20%20%20%20%20%20%20%20%20%20%20%20var%20tile_layer_00398b0419dc439fbe3714a04599ecc0%20%3D%20L.tileLayer%28%0A%20%20%20%20%20%20%20%20%20%20%20%20%20%20%20%20%22https%3A//earthengine.googleapis.com/v1alpha/projects/earthengine-legacy/maps/cf0f760ca7188d402e4ec0ddd8c54376-8058e61782e50c1cbfad1024e786ab2e/tiles/%7Bz%7D/%7Bx%7D/%7By%7D%22%2C%0A%20%20%20%20%20%20%20%20%20%20%20%20%20%20%20%20%7B%22attribution%22%3A%20%22Google%20Earth%20Engine%22%2C%20%22detectRetina%22%3A%20false%2C%20%22maxNativeZoom%22%3A%2018%2C%20%22maxZoom%22%3A%2018%2C%20%22minZoom%22%3A%200%2C%20%22noWrap%22%3A%20false%2C%20%22opacity%22%3A%201.0%2C%20%22subdomains%22%3A%20%22abc%22%2C%20%22tms%22%3A%20false%7D%0A%20%20%20%20%20%20%20%20%20%20%20%20%29.addTo%28map_7939e08f77524c93be3673df9f727189%29%3B%0A%20%20%20%20%20%20%20%20%0A%20%20%20%20%0A%20%20%20%20%20%20%20%20%20%20%20%20var%20tile_layer_e40b4cf2450c4ee1a94e730e1a99a7e5%20%3D%20L.tileLayer%28%0A%20%20%20%20%20%20%20%20%20%20%20%20%20%20%20%20%22https%3A//earthengine.googleapis.com/v1alpha/projects/earthengine-legacy/maps/809ef544f4d2b016d86331acede96417-fca45df7659022eae41f2541c5d22f75/tiles/%7Bz%7D/%7Bx%7D/%7By%7D%22%2C%0A%20%20%20%20%20%20%20%20%20%20%20%20%20%20%20%20%7B%22attribution%22%3A%20%22Google%20Earth%20Engine%22%2C%20%22detectRetina%22%3A%20false%2C%20%22maxNativeZoom%22%3A%2018%2C%20%22maxZoom%22%3A%2018%2C%20%22minZoom%22%3A%200%2C%20%22noWrap%22%3A%20false%2C%20%22opacity%22%3A%201.0%2C%20%22subdomains%22%3A%20%22abc%22%2C%20%22tms%22%3A%20false%7D%0A%20%20%20%20%20%20%20%20%20%20%20%20%29.addTo%28map_7939e08f77524c93be3673df9f727189%29%3B%0A%20%20%20%20%20%20%20%20%0A%20%20%20%20%0A%20%20%20%20%20%20%20%20%20%20%20%20var%20tile_layer_b87290b83f464741bc4e46901f27013d%20%3D%20L.tileLayer%28%0A%20%20%20%20%20%20%20%20%20%20%20%20%20%20%20%20%22https%3A//earthengine.googleapis.com/v1alpha/projects/earthengine-legacy/maps/efd19e3beccda362d251a38eaa7aeeee-6fe960e9e9fced554c79b2fc27f1bd39/tiles/%7Bz%7D/%7Bx%7D/%7By%7D%22%2C%0A%20%20%20%20%20%20%20%20%20%20%20%20%20%20%20%20%7B%22attribution%22%3A%20%22Google%20Earth%20Engine%22%2C%20%22detectRetina%22%3A%20false%2C%20%22maxNativeZoom%22%3A%2018%2C%20%22maxZoom%22%3A%2018%2C%20%22minZoom%22%3A%200%2C%20%22noWrap%22%3A%20false%2C%20%22opacity%22%3A%201.0%2C%20%22subdomains%22%3A%20%22abc%22%2C%20%22tms%22%3A%20false%7D%0A%20%20%20%20%20%20%20%20%20%20%20%20%29.addTo%28map_7939e08f77524c93be3673df9f727189%29%3B%0A%20%20%20%20%20%20%20%20%0A%20%20%20%20%0A%20%20%20%20%20%20%20%20%20%20%20%20var%20tile_layer_52ddebaca1f94677a14206d94c5ff751%20%3D%20L.tileLayer%28%0A%20%20%20%20%20%20%20%20%20%20%20%20%20%20%20%20%22https%3A//earthengine.googleapis.com/v1alpha/projects/earthengine-legacy/maps/f56ad0cff0971d11f9f1e3bc9fba8365-3dbe0922c05fa3dd4956973f3716de53/tiles/%7Bz%7D/%7Bx%7D/%7By%7D%22%2C%0A%20%20%20%20%20%20%20%20%20%20%20%20%20%20%20%20%7B%22attribution%22%3A%20%22Google%20Earth%20Engine%22%2C%20%22detectRetina%22%3A%20false%2C%20%22maxNativeZoom%22%3A%2018%2C%20%22maxZoom%22%3A%2018%2C%20%22minZoom%22%3A%200%2C%20%22noWrap%22%3A%20false%2C%20%22opacity%22%3A%201.0%2C%20%22subdomains%22%3A%20%22abc%22%2C%20%22tms%22%3A%20false%7D%0A%20%20%20%20%20%20%20%20%20%20%20%20%29.addTo%28map_7939e08f77524c93be3673df9f727189%29%3B%0A%20%20%20%20%20%20%20%20%0A%20%20%20%20%0A%20%20%20%20%20%20%20%20%20%20%20%20var%20tile_layer_d7b48e199f4a4b97aae511b8d037b296%20%3D%20L.tileLayer%28%0A%20%20%20%20%20%20%20%20%20%20%20%20%20%20%20%20%22https%3A//earthengine.googleapis.com/v1alpha/projects/earthengine-legacy/maps/ef376937e27f21930b560165e0e9b9f2-3781797ea83cb622558f8c1130d4fa02/tiles/%7Bz%7D/%7Bx%7D/%7By%7D%22%2C%0A%20%20%20%20%20%20%20%20%20%20%20%20%20%20%20%20%7B%22attribution%22%3A%20%22Google%20Earth%20Engine%22%2C%20%22detectRetina%22%3A%20false%2C%20%22maxNativeZoom%22%3A%2018%2C%20%22maxZoom%22%3A%2018%2C%20%22minZoom%22%3A%200%2C%20%22noWrap%22%3A%20false%2C%20%22opacity%22%3A%201.0%2C%20%22subdomains%22%3A%20%22abc%22%2C%20%22tms%22%3A%20false%7D%0A%20%20%20%20%20%20%20%20%20%20%20%20%29.addTo%28map_7939e08f77524c93be3673df9f727189%29%3B%0A%20%20%20%20%20%20%20%20%0A%20%20%20%20%0A%20%20%20%20%20%20%20%20%20%20%20%20var%20tile_layer_016cda9c50cf4375b7fe67d4e9ec8787%20%3D%20L.tileLayer%28%0A%20%20%20%20%20%20%20%20%20%20%20%20%20%20%20%20%22https%3A//earthengine.googleapis.com/v1alpha/projects/earthengine-legacy/maps/0010fd98ff5142074df34ee16b2ddc48-cad7ef74d75c4f105b2b10649c00ca21/tiles/%7Bz%7D/%7Bx%7D/%7By%7D%22%2C%0A%20%20%20%20%20%20%20%20%20%20%20%20%20%20%20%20%7B%22attribution%22%3A%20%22Google%20Earth%20Engine%22%2C%20%22detectRetina%22%3A%20false%2C%20%22maxNativeZoom%22%3A%2018%2C%20%22maxZoom%22%3A%2018%2C%20%22minZoom%22%3A%200%2C%20%22noWrap%22%3A%20false%2C%20%22opacity%22%3A%201.0%2C%20%22subdomains%22%3A%20%22abc%22%2C%20%22tms%22%3A%20false%7D%0A%20%20%20%20%20%20%20%20%20%20%20%20%29.addTo%28map_7939e08f77524c93be3673df9f727189%29%3B%0A%20%20%20%20%20%20%20%20%0A%20%20%20%20%0A%20%20%20%20%20%20%20%20%20%20%20%20var%20layer_control_ba449d315f8342afb789458d39b93a0d%20%3D%20%7B%0A%20%20%20%20%20%20%20%20%20%20%20%20%20%20%20%20base_layers%20%3A%20%7B%0A%20%20%20%20%20%20%20%20%20%20%20%20%20%20%20%20%20%20%20%20%22openstreetmap%22%20%3A%20tile_layer_bed29cb1e15647a0badc14d0727de310%2C%0A%20%20%20%20%20%20%20%20%20%20%20%20%20%20%20%20%7D%2C%0A%20%20%20%20%20%20%20%20%20%20%20%20%20%20%20%20overlays%20%3A%20%20%7B%0A%20%20%20%20%20%20%20%20%20%20%20%20%20%20%20%20%20%20%20%20%22Google%20Maps%22%20%3A%20tile_layer_b6834ceac3d4439bb996ed84c8854bcb%2C%0A%20%20%20%20%20%20%20%20%20%20%20%20%20%20%20%20%20%20%20%20%22Layer%200_VV%22%20%3A%20tile_layer_1cdd1ab3cd3a45998f75a796be0cb30b%2C%0A%20%20%20%20%20%20%20%20%20%20%20%20%20%20%20%20%20%20%20%20%22Layer%200_VH%22%20%3A%20tile_layer_d7b6dc7d65bd4f0d8c06a86db6158b92%2C%0A%20%20%20%20%20%20%20%20%20%20%20%20%20%20%20%20%20%20%20%20%22Layer%200_angle%22%20%3A%20tile_layer_a57641e0f3b94300928c2c3f5ea060b1%2C%0A%20%20%20%20%20%20%20%20%20%20%20%20%20%20%20%20%20%20%20%20%22Layer%200_radar_volume_index%22%20%3A%20tile_layer_a361140e9c8f4f31873dc30bd6e4d80d%2C%0A%20%20%20%20%20%20%20%20%20%20%20%20%20%20%20%20%20%20%20%20%22Layer%201_HV%22%20%3A%20tile_layer_5baf478cde10455aa9be47953c75cb67%2C%0A%20%20%20%20%20%20%20%20%20%20%20%20%20%20%20%20%20%20%20%20%22Layer%201_HH%22%20%3A%20tile_layer_0cca968aadc445a3a6d945f9068ab40f%2C%0A%20%20%20%20%20%20%20%20%20%20%20%20%20%20%20%20%20%20%20%20%22Layer%201_radar_volume_index%22%20%3A%20tile_layer_cb86250462894778808151b9c3c8bfa8%2C%0A%20%20%20%20%20%20%20%20%20%20%20%20%20%20%20%20%20%20%20%20%22Layer%202_B1%22%20%3A%20tile_layer_9380e42cca2c4a6d9cac58d78ddb2803%2C%0A%20%20%20%20%20%20%20%20%20%20%20%20%20%20%20%20%20%20%20%20%22Layer%202_B2%22%20%3A%20tile_layer_cae3e5b2fefc4eaa9de304cfbcb5ab3e%2C%0A%20%20%20%20%20%20%20%20%20%20%20%20%20%20%20%20%20%20%20%20%22Layer%202_B3%22%20%3A%20tile_layer_10184240fde74dbf836fb3977da0844d%2C%0A%20%20%20%20%20%20%20%20%20%20%20%20%20%20%20%20%20%20%20%20%22Layer%202_B4%22%20%3A%20tile_layer_1778d4b1418e471bbde32dbb66fdd018%2C%0A%20%20%20%20%20%20%20%20%20%20%20%20%20%20%20%20%20%20%20%20%22Layer%202_B5%22%20%3A%20tile_layer_ce3b759b9fd042ee98ac8a9933dc7397%2C%0A%20%20%20%20%20%20%20%20%20%20%20%20%20%20%20%20%20%20%20%20%22Layer%202_B6%22%20%3A%20tile_layer_948f996283d144ec9a64994a37a34a14%2C%0A%20%20%20%20%20%20%20%20%20%20%20%20%20%20%20%20%20%20%20%20%22Layer%202_B7%22%20%3A%20tile_layer_e85c8b3b4243456ebb493c33fe5f89c8%2C%0A%20%20%20%20%20%20%20%20%20%20%20%20%20%20%20%20%20%20%20%20%22Layer%202_B10%22%20%3A%20tile_layer_06ffe09258e44107a466f5eb67d2eded%2C%0A%20%20%20%20%20%20%20%20%20%20%20%20%20%20%20%20%20%20%20%20%22Layer%202_B11%22%20%3A%20tile_layer_00398b0419dc439fbe3714a04599ecc0%2C%0A%20%20%20%20%20%20%20%20%20%20%20%20%20%20%20%20%20%20%20%20%22Layer%202_sr_aerosol%22%20%3A%20tile_layer_e40b4cf2450c4ee1a94e730e1a99a7e5%2C%0A%20%20%20%20%20%20%20%20%20%20%20%20%20%20%20%20%20%20%20%20%22Layer%202_pixel_qa%22%20%3A%20tile_layer_b87290b83f464741bc4e46901f27013d%2C%0A%20%20%20%20%20%20%20%20%20%20%20%20%20%20%20%20%20%20%20%20%22Layer%202_radsat_qa%22%20%3A%20tile_layer_52ddebaca1f94677a14206d94c5ff751%2C%0A%20%20%20%20%20%20%20%20%20%20%20%20%20%20%20%20%20%20%20%20%22Layer%202_ndvi%22%20%3A%20tile_layer_d7b48e199f4a4b97aae511b8d037b296%2C%0A%20%20%20%20%20%20%20%20%20%20%20%20%20%20%20%20%20%20%20%20%22Layer%203_Percent_Tree_Cover%22%20%3A%20tile_layer_016cda9c50cf4375b7fe67d4e9ec8787%2C%0A%20%20%20%20%20%20%20%20%20%20%20%20%20%20%20%20%7D%2C%0A%20%20%20%20%20%20%20%20%20%20%20%20%7D%3B%0A%20%20%20%20%20%20%20%20%20%20%20%20L.control.layers%28%0A%20%20%20%20%20%20%20%20%20%20%20%20%20%20%20%20layer_control_ba449d315f8342afb789458d39b93a0d.base_layers%2C%0A%20%20%20%20%20%20%20%20%20%20%20%20%20%20%20%20layer_control_ba449d315f8342afb789458d39b93a0d.overlays%2C%0A%20%20%20%20%20%20%20%20%20%20%20%20%20%20%20%20%7B%22autoZIndex%22%3A%20true%2C%20%22collapsed%22%3A%20true%2C%20%22position%22%3A%20%22topright%22%7D%0A%20%20%20%20%20%20%20%20%20%20%20%20%29.addTo%28map_7939e08f77524c93be3673df9f727189%29%3B%0A%20%20%20%20%20%20%20%20%20%20%20%20tile_layer_1cdd1ab3cd3a45998f75a796be0cb30b.remove%28%29%3B%0A%20%20%20%20%20%20%20%20%20%20%20%20tile_layer_d7b6dc7d65bd4f0d8c06a86db6158b92.remove%28%29%3B%0A%20%20%20%20%20%20%20%20%20%20%20%20tile_layer_a57641e0f3b94300928c2c3f5ea060b1.remove%28%29%3B%0A%20%20%20%20%20%20%20%20%20%20%20%20tile_layer_5baf478cde10455aa9be47953c75cb67.remove%28%29%3B%0A%20%20%20%20%20%20%20%20%20%20%20%20tile_layer_0cca968aadc445a3a6d945f9068ab40f.remove%28%29%3B%0A%20%20%20%20%20%20%20%20%20%20%20%20tile_layer_9380e42cca2c4a6d9cac58d78ddb2803.remove%28%29%3B%0A%20%20%20%20%20%20%20%20%20%20%20%20tile_layer_cae3e5b2fefc4eaa9de304cfbcb5ab3e.remove%28%29%3B%0A%20%20%20%20%20%20%20%20%20%20%20%20tile_layer_10184240fde74dbf836fb3977da0844d.remove%28%29%3B%0A%20%20%20%20%20%20%20%20%20%20%20%20tile_layer_1778d4b1418e471bbde32dbb66fdd018.remove%28%29%3B%0A%20%20%20%20%20%20%20%20%20%20%20%20tile_layer_ce3b759b9fd042ee98ac8a9933dc7397.remove%28%29%3B%0A%20%20%20%20%20%20%20%20%20%20%20%20tile_layer_948f996283d144ec9a64994a37a34a14.remove%28%29%3B%0A%20%20%20%20%20%20%20%20%20%20%20%20tile_layer_e85c8b3b4243456ebb493c33fe5f89c8.remove%28%29%3B%0A%20%20%20%20%20%20%20%20%20%20%20%20tile_layer_06ffe09258e44107a466f5eb67d2eded.remove%28%29%3B%0A%20%20%20%20%20%20%20%20%20%20%20%20tile_layer_00398b0419dc439fbe3714a04599ecc0.remove%28%29%3B%0A%20%20%20%20%20%20%20%20%20%20%20%20tile_layer_e40b4cf2450c4ee1a94e730e1a99a7e5.remove%28%29%3B%0A%20%20%20%20%20%20%20%20%20%20%20%20tile_layer_b87290b83f464741bc4e46901f27013d.remove%28%29%3B%0A%20%20%20%20%20%20%20%20%20%20%20%20tile_layer_52ddebaca1f94677a14206d94c5ff751.remove%28%29%3B%0A%20%20%20%20%20%20%20%20%20%20%20%20tile_layer_016cda9c50cf4375b7fe67d4e9ec8787.remove%28%29%3B%0A%20%20%20%20%20%20%20%20%0A%3C/script%3E onload=\"this.contentDocument.open();this.contentDocument.write(    decodeURIComponent(this.getAttribute('data-html')));this.contentDocument.close();\" allowfullscreen webkitallowfullscreen mozallowfullscreen></iframe></div></div>"
            ],
            "text/plain": [
              "<geemap.eefolium.Map at 0x7faa7ce61a10>"
            ]
          },
          "metadata": {
            "tags": []
          },
          "execution_count": 49
        }
      ]
    },
    {
      "cell_type": "code",
      "metadata": {
        "id": "fsjPncsxzljl"
      },
      "source": [
        ""
      ],
      "execution_count": null,
      "outputs": []
    },
    {
      "cell_type": "markdown",
      "metadata": {
        "id": "BMhDVsLFSdIm"
      },
      "source": [
        "## Zonal statistics\n",
        "\n",
        "Map over the feature collection after building the stack."
      ]
    },
    {
      "cell_type": "code",
      "metadata": {
        "colab": {
          "base_uri": "https://localhost:8080/"
        },
        "id": "mno2Xa0fWt9l",
        "outputId": "149a3245-a6cb-42ab-8c9f-d1d897eeec53"
      },
      "source": [
        "outputs = stack.reduceRegions(\n",
        "    collection=pfc,\n",
        "    reducer=ee.Reducer.mean(),\n",
        "    crs=stack.projection(),\n",
        "    scale=scale,\n",
        ")\n",
        "\n",
        "type(outputs)"
      ],
      "execution_count": null,
      "outputs": [
        {
          "output_type": "execute_result",
          "data": {
            "text/plain": [
              "ee.featurecollection.FeatureCollection"
            ]
          },
          "metadata": {
            "tags": []
          },
          "execution_count": 79
        }
      ]
    },
    {
      "cell_type": "code",
      "metadata": {
        "colab": {
          "base_uri": "https://localhost:8080/",
          "height": 320
        },
        "id": "NHX80peec1Zh",
        "outputId": "91571379-e12e-4c73-f5d1-80ea4b82cd93"
      },
      "source": [
        "rename_lookup = {\n",
        "    '0': \"S1\",\n",
        "    '1': \"ALOS2\",\n",
        "    '2': \"LS8\",\n",
        "    '3': \"MODIS\",\n",
        "}\n",
        "\n",
        "def rename_columns(x):\n",
        "    if x.startswith(\"properties.\"):\n",
        "        # Remove 'properties' prefix from column names.\n",
        "        x = x.split(\".\")[1]\n",
        "        # Look up/replace the integer prefix with imagery source.\n",
        "        x = x.replace(x[:2], rename_lookup[x[0]] + \"-\")\n",
        "    # Replace periods '.' with hyphens for compatibility with pandas.\n",
        "    x = x.replace(\".\", \"-\")\n",
        "    return x\n",
        "\n",
        "# Get the FeatureCollection dataset as a Python dictionary.\n",
        "outputs_dict = outputs.getInfo()\n",
        "\n",
        "# Call pd convenience function 'json_normalize' to translate to table.\n",
        "outputs_table = pd.json_normalize(outputs_dict['features'])\n",
        "\n",
        "# Get formatted column names for all columns in the table.\n",
        "outputs_cols = outputs_table.apply(lambda x: rename_columns(x.name)).to_dict()\n",
        "\n",
        "# Rename the columns and print summary statistics.\n",
        "outputs_final = outputs_table.rename(mapper=outputs_cols)\n",
        "\n",
        "outputs_final.describe()"
      ],
      "execution_count": null,
      "outputs": [
        {
          "output_type": "execute_result",
          "data": {
            "text/html": [
              "<div>\n",
              "<style scoped>\n",
              "    .dataframe tbody tr th:only-of-type {\n",
              "        vertical-align: middle;\n",
              "    }\n",
              "\n",
              "    .dataframe tbody tr th {\n",
              "        vertical-align: top;\n",
              "    }\n",
              "\n",
              "    .dataframe thead th {\n",
              "        text-align: right;\n",
              "    }\n",
              "</style>\n",
              "<table border=\"1\" class=\"dataframe\">\n",
              "  <thead>\n",
              "    <tr style=\"text-align: right;\">\n",
              "      <th></th>\n",
              "      <th>properties.0_VH</th>\n",
              "      <th>properties.0_VV</th>\n",
              "      <th>properties.0_angle</th>\n",
              "      <th>properties.1_HH</th>\n",
              "      <th>properties.1_HV</th>\n",
              "      <th>properties.2_B1</th>\n",
              "      <th>properties.2_B10</th>\n",
              "      <th>properties.2_B11</th>\n",
              "      <th>properties.2_B2</th>\n",
              "      <th>properties.2_B3</th>\n",
              "      <th>properties.2_B4</th>\n",
              "      <th>properties.2_B5</th>\n",
              "      <th>properties.2_B6</th>\n",
              "      <th>properties.2_B7</th>\n",
              "      <th>properties.2_pixel_qa</th>\n",
              "      <th>properties.2_radsat_qa</th>\n",
              "      <th>properties.2_sr_aerosol</th>\n",
              "      <th>properties.3_Percent_Tree_Cover</th>\n",
              "    </tr>\n",
              "  </thead>\n",
              "  <tbody>\n",
              "    <tr>\n",
              "      <th>count</th>\n",
              "      <td>3.000000</td>\n",
              "      <td>3.000000</td>\n",
              "      <td>3.000000</td>\n",
              "      <td>3.000000</td>\n",
              "      <td>3.000000</td>\n",
              "      <td>3.000000</td>\n",
              "      <td>3.000000</td>\n",
              "      <td>3.000000</td>\n",
              "      <td>3.000000</td>\n",
              "      <td>3.000000</td>\n",
              "      <td>3.000000</td>\n",
              "      <td>3.000000</td>\n",
              "      <td>3.000000</td>\n",
              "      <td>3.000000</td>\n",
              "      <td>3.0</td>\n",
              "      <td>3.0</td>\n",
              "      <td>3.000000</td>\n",
              "      <td>3.000000</td>\n",
              "    </tr>\n",
              "    <tr>\n",
              "      <th>mean</th>\n",
              "      <td>0.051191</td>\n",
              "      <td>0.225688</td>\n",
              "      <td>38.743445</td>\n",
              "      <td>6464.705847</td>\n",
              "      <td>3660.110781</td>\n",
              "      <td>215.561098</td>\n",
              "      <td>2934.569692</td>\n",
              "      <td>2908.097547</td>\n",
              "      <td>232.545544</td>\n",
              "      <td>414.560264</td>\n",
              "      <td>268.335613</td>\n",
              "      <td>2990.863214</td>\n",
              "      <td>1393.915991</td>\n",
              "      <td>588.577543</td>\n",
              "      <td>322.0</td>\n",
              "      <td>0.0</td>\n",
              "      <td>143.166817</td>\n",
              "      <td>61.666667</td>\n",
              "    </tr>\n",
              "    <tr>\n",
              "      <th>std</th>\n",
              "      <td>0.004857</td>\n",
              "      <td>0.025965</td>\n",
              "      <td>0.097461</td>\n",
              "      <td>205.684514</td>\n",
              "      <td>460.404152</td>\n",
              "      <td>48.527183</td>\n",
              "      <td>25.335914</td>\n",
              "      <td>20.724111</td>\n",
              "      <td>33.068989</td>\n",
              "      <td>33.149141</td>\n",
              "      <td>12.965712</td>\n",
              "      <td>344.560974</td>\n",
              "      <td>129.376544</td>\n",
              "      <td>50.502895</td>\n",
              "      <td>0.0</td>\n",
              "      <td>0.0</td>\n",
              "      <td>11.985447</td>\n",
              "      <td>25.696952</td>\n",
              "    </tr>\n",
              "    <tr>\n",
              "      <th>min</th>\n",
              "      <td>0.047090</td>\n",
              "      <td>0.200354</td>\n",
              "      <td>38.665733</td>\n",
              "      <td>6237.099725</td>\n",
              "      <td>3131.819350</td>\n",
              "      <td>162.498048</td>\n",
              "      <td>2905.334317</td>\n",
              "      <td>2884.167514</td>\n",
              "      <td>194.374306</td>\n",
              "      <td>379.749895</td>\n",
              "      <td>253.500370</td>\n",
              "      <td>2679.523727</td>\n",
              "      <td>1284.349397</td>\n",
              "      <td>531.376262</td>\n",
              "      <td>322.0</td>\n",
              "      <td>0.0</td>\n",
              "      <td>135.996392</td>\n",
              "      <td>32.000000</td>\n",
              "    </tr>\n",
              "    <tr>\n",
              "      <th>25%</th>\n",
              "      <td>0.048510</td>\n",
              "      <td>0.212412</td>\n",
              "      <td>38.688770</td>\n",
              "      <td>6378.424436</td>\n",
              "      <td>3502.283768</td>\n",
              "      <td>194.499150</td>\n",
              "      <td>2926.792287</td>\n",
              "      <td>2902.083740</td>\n",
              "      <td>222.562432</td>\n",
              "      <td>398.964845</td>\n",
              "      <td>263.754107</td>\n",
              "      <td>2805.763417</td>\n",
              "      <td>1322.550881</td>\n",
              "      <td>569.364166</td>\n",
              "      <td>322.0</td>\n",
              "      <td>0.0</td>\n",
              "      <td>136.248547</td>\n",
              "      <td>54.000000</td>\n",
              "    </tr>\n",
              "    <tr>\n",
              "      <th>50%</th>\n",
              "      <td>0.049929</td>\n",
              "      <td>0.224469</td>\n",
              "      <td>38.711807</td>\n",
              "      <td>6519.749147</td>\n",
              "      <td>3872.748187</td>\n",
              "      <td>226.500253</td>\n",
              "      <td>2948.250257</td>\n",
              "      <td>2919.999966</td>\n",
              "      <td>250.750559</td>\n",
              "      <td>418.179796</td>\n",
              "      <td>274.007844</td>\n",
              "      <td>2932.003107</td>\n",
              "      <td>1360.752365</td>\n",
              "      <td>607.352071</td>\n",
              "      <td>322.0</td>\n",
              "      <td>0.0</td>\n",
              "      <td>136.500702</td>\n",
              "      <td>76.000000</td>\n",
              "    </tr>\n",
              "    <tr>\n",
              "      <th>75%</th>\n",
              "      <td>0.053242</td>\n",
              "      <td>0.238356</td>\n",
              "      <td>38.782301</td>\n",
              "      <td>6578.508907</td>\n",
              "      <td>3924.256497</td>\n",
              "      <td>242.092623</td>\n",
              "      <td>2949.187379</td>\n",
              "      <td>2920.062564</td>\n",
              "      <td>251.631162</td>\n",
              "      <td>431.965448</td>\n",
              "      <td>275.753234</td>\n",
              "      <td>3146.532958</td>\n",
              "      <td>1448.699288</td>\n",
              "      <td>617.178184</td>\n",
              "      <td>322.0</td>\n",
              "      <td>0.0</td>\n",
              "      <td>146.752029</td>\n",
              "      <td>76.500000</td>\n",
              "    </tr>\n",
              "    <tr>\n",
              "      <th>max</th>\n",
              "      <td>0.056555</td>\n",
              "      <td>0.252242</td>\n",
              "      <td>38.852795</td>\n",
              "      <td>6637.268668</td>\n",
              "      <td>3975.764807</td>\n",
              "      <td>257.684993</td>\n",
              "      <td>2950.124501</td>\n",
              "      <td>2920.125162</td>\n",
              "      <td>252.511766</td>\n",
              "      <td>445.751100</td>\n",
              "      <td>277.498623</td>\n",
              "      <td>3361.062810</td>\n",
              "      <td>1536.646211</td>\n",
              "      <td>627.004296</td>\n",
              "      <td>322.0</td>\n",
              "      <td>0.0</td>\n",
              "      <td>157.003356</td>\n",
              "      <td>77.000000</td>\n",
              "    </tr>\n",
              "  </tbody>\n",
              "</table>\n",
              "</div>"
            ],
            "text/plain": [
              "       properties.0_VH  ...  properties.3_Percent_Tree_Cover\n",
              "count         3.000000  ...                         3.000000\n",
              "mean          0.051191  ...                        61.666667\n",
              "std           0.004857  ...                        25.696952\n",
              "min           0.047090  ...                        32.000000\n",
              "25%           0.048510  ...                        54.000000\n",
              "50%           0.049929  ...                        76.000000\n",
              "75%           0.053242  ...                        76.500000\n",
              "max           0.056555  ...                        77.000000\n",
              "\n",
              "[8 rows x 18 columns]"
            ]
          },
          "metadata": {
            "tags": []
          },
          "execution_count": 115
        }
      ]
    },
    {
      "cell_type": "markdown",
      "metadata": {
        "id": "3nWSBLqluq1V"
      },
      "source": [
        "## Export to Google Drive\n",
        "\n",
        ">*Important: Make sure to specify a path that's inside the directory that corresponds to the Google Drive mount.*\n",
        "\n",
        "We used pandas to generate the table so simply write to Google Drive with the data frame's `to_csv` method."
      ]
    },
    {
      "cell_type": "code",
      "metadata": {
        "id": "EfLiQ1TkxnQK"
      },
      "source": [
        "# # Omit the column of json metadata from the output table.\n",
        "# out_columns = [c for c in out.columns if c != \"metadata\"]\n",
        "\n",
        "# Write the selected columns to a csv:\n",
        "outputs_final.to_csv(\"results.csv\", index=None)"
      ],
      "execution_count": null,
      "outputs": []
    },
    {
      "cell_type": "markdown",
      "metadata": {
        "id": "MCV3WrsIzjhx"
      },
      "source": [
        "## Download to local disk\n",
        "\n",
        ">You may want to move this to a configuration cell near the top of the notebook: \n",
        ">```\n",
        ">output_filename = \"results.csv\"\n",
        ">```\n",
        "\n",
        "Run this next cell to save to your local machine as a CSV."
      ]
    },
    {
      "cell_type": "code",
      "metadata": {
        "colab": {
          "base_uri": "https://localhost:8080/",
          "height": 17
        },
        "id": "IkdkuzgGziO9",
        "outputId": "b221253b-1c57-48d2-a556-48d75570f561"
      },
      "source": [
        "output_filename = \"results.csv\"\n",
        "\n",
        "# Write a CSV into the colaboratory workspace.\n",
        "outputs_final.to_csv(output_filename, index=None)\n",
        "\n",
        "# This function triggers a prompt for you to save the file to local disk.\n",
        "files.download(filename=output_filename)"
      ],
      "execution_count": null,
      "outputs": [
        {
          "output_type": "display_data",
          "data": {
            "application/javascript": [
              "\n",
              "    async function download(id, filename, size) {\n",
              "      if (!google.colab.kernel.accessAllowed) {\n",
              "        return;\n",
              "      }\n",
              "      const div = document.createElement('div');\n",
              "      const label = document.createElement('label');\n",
              "      label.textContent = `Downloading \"${filename}\": `;\n",
              "      div.appendChild(label);\n",
              "      const progress = document.createElement('progress');\n",
              "      progress.max = size;\n",
              "      div.appendChild(progress);\n",
              "      document.body.appendChild(div);\n",
              "\n",
              "      const buffers = [];\n",
              "      let downloaded = 0;\n",
              "\n",
              "      const channel = await google.colab.kernel.comms.open(id);\n",
              "      // Send a message to notify the kernel that we're ready.\n",
              "      channel.send({})\n",
              "\n",
              "      for await (const message of channel.messages) {\n",
              "        // Send a message to notify the kernel that we're ready.\n",
              "        channel.send({})\n",
              "        if (message.buffers) {\n",
              "          for (const buffer of message.buffers) {\n",
              "            buffers.push(buffer);\n",
              "            downloaded += buffer.byteLength;\n",
              "            progress.value = downloaded;\n",
              "          }\n",
              "        }\n",
              "      }\n",
              "      const blob = new Blob(buffers, {type: 'application/binary'});\n",
              "      const a = document.createElement('a');\n",
              "      a.href = window.URL.createObjectURL(blob);\n",
              "      a.download = filename;\n",
              "      div.appendChild(a);\n",
              "      a.click();\n",
              "      div.remove();\n",
              "    }\n",
              "  "
            ],
            "text/plain": [
              "<IPython.core.display.Javascript object>"
            ]
          },
          "metadata": {
            "tags": []
          }
        },
        {
          "output_type": "display_data",
          "data": {
            "application/javascript": [
              "download(\"download_2d89ad89-b853-4339-a0c8-bc8023f83bc1\", \"results.csv\", 1330)"
            ],
            "text/plain": [
              "<IPython.core.display.Javascript object>"
            ]
          },
          "metadata": {
            "tags": []
          }
        }
      ]
    },
    {
      "cell_type": "markdown",
      "metadata": {
        "id": "JYprPSdM8I81"
      },
      "source": [
        "## Clean-up\n",
        "\n",
        "Try not to forget to unmount Google Drive."
      ]
    },
    {
      "cell_type": "code",
      "metadata": {
        "id": "EKgsWhnEznhw"
      },
      "source": [
        "drive.flush_and_unmount()"
      ],
      "execution_count": null,
      "outputs": []
    },
    {
      "cell_type": "markdown",
      "metadata": {
        "id": "Yfcy6UVn1TUr"
      },
      "source": [
        "## References\n",
        "\n",
        "Helpful links:\n",
        "\n",
        "* https://developers.google.com/earth-engine/guides/resample#resampling\n",
        "* https://developers.google.com/earth-engine/tutorials/community/extract-raster-values-for-points#understanding_which_pixels_are_included_in_polygon_statistics\n",
        "  * https://developers.google.com/earth-engine/tutorials/community/extract-raster-values-for-points#notes_on_crs_and_scale\n",
        "* https://developers.google.com/earth-engine/tutorials/community/extract-raster-values-for-points#zonalstatsfc_params_%E2%87%92_eefeaturecollection\n",
        "* https://developers.google.com/earth-engine/tutorials/community/beginners-cookbook#example_exporting_data"
      ]
    }
  ]
}