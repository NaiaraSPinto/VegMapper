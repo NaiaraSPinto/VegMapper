{
  "nbformat": 4,
  "nbformat_minor": 0,
  "metadata": {
    "colab": {
      "name": "vegMapper.ipynb",
      "provenance": [],
      "collapsed_sections": [],
      "toc_visible": true,
      "include_colab_link": true
    },
    "kernelspec": {
      "display_name": "Python 3",
      "name": "python3"
    },
    "language_info": {
      "name": "python"
    }
  },
  "cells": [
    {
      "cell_type": "markdown",
      "metadata": {
        "id": "view-in-github",
        "colab_type": "text"
      },
      "source": [
        "<a href=\"https://colab.research.google.com/github/jjmcnelis/VegMapper/blob/devel/gee/vegMapper.ipynb\" target=\"_parent\"><img src=\"https://colab.research.google.com/assets/colab-badge.svg\" alt=\"Open In Colab\"/></a>"
      ]
    },
    {
      "cell_type": "markdown",
      "metadata": {
        "id": "SYrdjoWh6Ipn"
      },
      "source": [
        "# vegMapper\n",
        "\n",
        "https://github.com/NaiaraSPinto/VegMapper\n",
        "\n",
        "## Setup\n",
        "\n",
        "After common packages are imported (e.g. *ee*, *numpy*, *pandas*, *matplotlib* -- all are available by default in Google Colab), the next cell will attempt to perform some important housekeeping steps.\n",
        "\n",
        "### Requirements\n",
        "\n",
        "This notebook was developed in Python 3.8; it has several dependencies:\n",
        "\n",
        "* *ee* (Earth Engine Python API)\n",
        "* *numpy*\n",
        "* *pandas*\n",
        "* *matplotlib*\n",
        "* *geemap*\n",
        "\n",
        "_geemap_ is the only package that is not available by default in Google Colab. If _geemap_ is not available, the next cell will try to install it with pip and import again."
      ]
    },
    {
      "cell_type": "code",
      "metadata": {
        "id": "xlPhf6oZjS1s",
        "colab": {
          "base_uri": "https://localhost:8080/"
        },
        "outputId": "54e87763-54ac-43b9-87a9-f08484af8bc6"
      },
      "source": [
        "from json import dumps\n",
        "from io import StringIO\n",
        "from IPython.display import HTML\n",
        "#import matplotlib.pyplot as plt\n",
        "#import numpy as np\n",
        "import pandas as pd\n",
        "import os.path\n",
        "import ee\n",
        "\n",
        "try:\n",
        "    import geemap\n",
        "except ImportError as e:\n",
        "    !pip install -q geemap\n",
        "    import geemap"
      ],
      "execution_count": 1,
      "outputs": [
        {
          "output_type": "stream",
          "text": [
            "\u001b[K     |████████████████████████████████| 460kB 26.0MB/s \n",
            "\u001b[K     |████████████████████████████████| 102kB 11.7MB/s \n",
            "\u001b[K     |████████████████████████████████| 1.6MB 27.7MB/s \n",
            "\u001b[K     |████████████████████████████████| 102kB 11.4MB/s \n",
            "\u001b[K     |████████████████████████████████| 143kB 50.7MB/s \n",
            "\u001b[K     |████████████████████████████████| 225kB 46.1MB/s \n",
            "\u001b[K     |████████████████████████████████| 1.3MB 40.6MB/s \n",
            "\u001b[K     |████████████████████████████████| 1.2MB 36.8MB/s \n",
            "\u001b[K     |████████████████████████████████| 5.1MB 37.6MB/s \n",
            "\u001b[K     |████████████████████████████████| 81kB 9.3MB/s \n",
            "\u001b[K     |████████████████████████████████| 389kB 35.9MB/s \n",
            "\u001b[K     |████████████████████████████████| 552kB 37.2MB/s \n",
            "\u001b[K     |████████████████████████████████| 122kB 50.3MB/s \n",
            "\u001b[K     |████████████████████████████████| 122kB 51.4MB/s \n",
            "\u001b[K     |████████████████████████████████| 71kB 8.3MB/s \n",
            "\u001b[K     |████████████████████████████████| 430kB 50.3MB/s \n",
            "\u001b[K     |████████████████████████████████| 81kB 10.5MB/s \n",
            "\u001b[K     |████████████████████████████████| 71kB 8.9MB/s \n",
            "\u001b[?25h  Building wheel for pycrs (setup.py) ... \u001b[?25l\u001b[?25hdone\n",
            "  Building wheel for pyshp (setup.py) ... \u001b[?25l\u001b[?25hdone\n",
            "  Building wheel for ipynb-py-convert (setup.py) ... \u001b[?25l\u001b[?25hdone\n",
            "\u001b[31mERROR: google-colab 1.0.0 has requirement tornado~=5.1.0; python_version >= \"3.0\", but you'll have tornado 6.1 which is incompatible.\u001b[0m\n",
            "\u001b[31mERROR: datascience 0.10.6 has requirement folium==0.2.1, but you'll have folium 0.12.1 which is incompatible.\u001b[0m\n"
          ],
          "name": "stdout"
        }
      ]
    },
    {
      "cell_type": "markdown",
      "metadata": {
        "id": "9MlRLsqG-dGh"
      },
      "source": [
        "### User configuration\n",
        "\n",
        "Configure the workflow parameters in the cell below. These settings determine how the workflow selects and operates on the data/imagery."
      ]
    },
    {
      "cell_type": "code",
      "metadata": {
        "id": "jyPCPMak-dQ-"
      },
      "source": [
        "# Temporal coverage for imagery used in the analysis:\n",
        "startDate = '2017-04-01'  #@param {type: \"date\"}\n",
        "endDate = '2017-09-30'    #@param {type: \"date\"}\n",
        "\n",
        "# Target scale for zonal statistics and the output stack:\n",
        "scale = 30"
      ],
      "execution_count": 2,
      "outputs": []
    },
    {
      "cell_type": "markdown",
      "metadata": {
        "id": "hXrkl_wyjSCp"
      },
      "source": [
        "### Authenticate for GEE and Google Drive\n",
        "\n",
        ">**Quickstart:**\n",
        ">Run the next cell and follow the instructions to authenticate. Click the links displayed below the cell and log in (each one should open in a new browser tab); copy your temporary token, then paste it into the prompt and press enter.\n",
        "\n",
        "(I can probably merge the auth together with a little digging into the GEE/Colab APIs, but for now) expect to see two prompts for your Google login info:\n",
        "1. for GEE access (*REQUIRED*)\n",
        "2. for Google Drive access (*OPTIONAL*, only available in Colab)\n",
        "\n",
        "You can upload/download to the Colab environment in one of (at least) two ways if Google Drive is not accessible (i.e. no space remaining): \n",
        "1. using the File Manager (on the left in the Colab interface), or \n",
        "2. using interactive prompts as you progress through the notebook.\n",
        "\n",
        "However, if you're running this notebook *outside* of the Colab environment (i.e. in the common Jupyter notebook client) then you will need to call *pandas* manually to read/write the input & output (with `pd.read_csv` and `<df>.to_csv`, respectively)."
      ]
    },
    {
      "cell_type": "code",
      "metadata": {
        "id": "UkrTGFMfLmPD",
        "colab": {
          "base_uri": "https://localhost:8080/"
        },
        "outputId": "818c32b0-45e0-44ee-82e9-eea7c1cdf662"
      },
      "source": [
        "####################################################################\n",
        "# My GEE credentials are tied to a personal Google account. The 1st\n",
        "# prompt provides a link opening a new tab to the familiar Google \n",
        "# login page. After logging in, copy the token into the prompt and\n",
        "# hit enter. This step is required in order to proceed.\n",
        "####################################################################\n",
        "ee.Authenticate()\n",
        "ee.Initialize()\n",
        "\n",
        "####################################################################\n",
        "# This next part checks if the notebook is running in Colab first. \n",
        "# If so, you will be prompted the user to log in AGAIN for Drive \n",
        "# access. All previous comments about auth/tokens apply. Execute \n",
        "# the next cell to skip mounting Drive into the Colab environment.\n",
        "####################################################################\n",
        "DRIVE = \"/content/drive/MyDrive\"\n",
        "#DRIVE = \"/content/drive/Shareddrives\"\n",
        "\n",
        "if 'google.colab' in str(get_ipython()):\n",
        "    from google.colab import drive, files\n",
        "    try:\n",
        "        drive.mount(\"/content/drive\")\n",
        "    except Exception as e:\n",
        "        print(\"The next cell executed. Will skip mounting Drive.\")\n",
        "\n",
        "####################################################################\n",
        "# Housekeeping -- please ignore the remainder of this cell\n",
        "####################################################################\n",
        "\n",
        "def _validate_path_and_read_input_csv_data():\n",
        "    # If input csv path is 'None', prompt the user for upload.\n",
        "    if not relative_path_to_input_csv_in_drive:\n",
        "        csv = None\n",
        "    elif not os.path.isdir(DRIVE):\n",
        "        # Error out if path is not provided and Drive isnt mounted.\n",
        "        raise Exception(\"ERROR: Cannot determine if Drive is mounted.\")\n",
        "    else:\n",
        "        # Otherwise make sure the input csv path is valid.\n",
        "        if os.path.isfile(relative_path_to_input_csv_in_drive):\n",
        "            csv = relative_path_to_input_csv_in_drive\n",
        "        else:\n",
        "            # Assume its an absolute path if the relative path is invalid.\n",
        "            csv = os.path.join(DRIVE, relative_path_to_input_csv_in_drive)\n",
        "    if not csv:\n",
        "        # Prompt the user to upload their csv if 'csv' is 'None'.\n",
        "        uploads = files.upload()\n",
        "        if len(uploads)==0:\n",
        "            raise Exception(\"ERROR: Received no files. Try again.\")\n",
        "        elif len(uploads)>1:\n",
        "            raise Exception(\"ERROR: Received multiple files. Try again.\")\n",
        "        else:\n",
        "            csv = list(uploads)[0]\n",
        "    # Finally, attempt to load the input csv to a pandas data frame:\n",
        "    try:\n",
        "        df = pd.read_csv(csv)\n",
        "        display(df.info())\n",
        "    except FileNotFoundError as e:\n",
        "        raise Exception(\"POSSIBLE BUG: Please notify jmcnelis@jpl.nasa.gov\")\n",
        "    except Exception as e:\n",
        "        raise e\n",
        "    return df"
      ],
      "execution_count": 3,
      "outputs": [
        {
          "output_type": "stream",
          "text": [
            "To authorize access needed by Earth Engine, open the following URL in a web browser and follow the instructions. If the web browser does not start automatically, please manually browse the URL below.\n",
            "\n",
            "    https://accounts.google.com/o/oauth2/auth?client_id=517222506229-vsmmajv00ul0bs7p89v5m89qs8eb9359.apps.googleusercontent.com&scope=https%3A%2F%2Fwww.googleapis.com%2Fauth%2Fearthengine+https%3A%2F%2Fwww.googleapis.com%2Fauth%2Fdevstorage.full_control&redirect_uri=urn%3Aietf%3Awg%3Aoauth%3A2.0%3Aoob&response_type=code&code_challenge=tvxu1OnXia5CPPeoQuHsDKc6XYU_OW5lvw5Q1UqrTIE&code_challenge_method=S256\n",
            "\n",
            "The authorization workflow will generate a code, which you should paste in the box below. \n",
            "Enter verification code: 4/1AY0e-g4oJiOqU4yASItyFs4gPIalLfy9TZ0AzR8kWQ6Do31HnOVLttsGsT8\n",
            "\n",
            "Successfully saved authorization token.\n",
            "Mounted at /content/drive\n"
          ],
          "name": "stdout"
        }
      ]
    },
    {
      "cell_type": "markdown",
      "metadata": {
        "id": "aK65jpic6N8T"
      },
      "source": [
        "### Load xy data from an input csv\n",
        "\n",
        "As mentioned before, this procedure builds a stack of images and calculates the zonal statistics within regions defined by an input feature dataset. \n",
        "\n",
        "*Remember: CSV is the only supported input file format at this time.* It should have these columns at a minimum:\n",
        "\n",
        "* *latitude* (float)\n",
        "* *longitude* (float)\n",
        "The following cell will read your input table of XY positions (which should be provided in the *latitude* and *longitude* columns) and any additional data columns then print some high level details (assuming your paths are configured properly).\n",
        "\n",
        "#### Option a: read files from Google Drive\n",
        "\n",
        "You should see a folder \"drive/\" in the default workspace when you open the file browser panel (to the immediate left inside the Colab environment).\n",
        "\n",
        "><u>Please read this note about paths configured in the next cell:</u>    \n",
        ">Input and output paths should be set relative to the root of the _drive_ directory shown _OR_, alternatively, you can provide absolute paths to your input/output file(s).\n",
        "\n",
        "Try to remember to unmount Drive once you're finished in Colaboratory. You can do that by calling this other function from the drive module: `google.colab.drive.flush_and_unmount()`\n",
        "\n",
        "#### Option b: upload/read files to Colaboratory\n",
        "\n",
        "*The workflow requires input features to determine the areas in which to calculate zonal statistics.*\n",
        "\n",
        "Make sure a suitable file exists in the colab workspace or in Google Drive. You can provide one in either of two ways:\n",
        "\n",
        "1. Navigate to an input CSV in Google Drive and copy its path into the cell below (assuming Drive is mounted), or\n",
        "2. Run the next cell as-is and upload a file to the workspace when prompted.\n",
        "\n",
        "If the second option, run the next cell and click *Choose Files* to upload a file. You may also click *Cancel Upload* to abort the cell and move on."
      ]
    },
    {
      "cell_type": "code",
      "metadata": {
        "colab": {
          "base_uri": "https://localhost:8080/",
          "height": 274
        },
        "id": "7WAamY9sAkHF",
        "outputId": "aaef12a6-e037-4a56-849c-e36cb0b35ea4"
      },
      "source": [
        "# Set this to 'None' to be prompted to upload your input csv:\n",
        "relative_path_to_input_csv_in_drive = f\"tests/vegMapper/smartin.csv\"\n",
        "\n",
        "# Set this to 'None' to be prompted to download your outputs csv: \n",
        "relative_path_to_output_csv_in_drive = f\"tests/vegMapper/out/outputs.csv\"\n",
        "\n",
        "### Error out here if any inputs are invalid >>>\n",
        "pts = _validate_path_and_read_input_csv_data()\n",
        "\n",
        "print(\"Success! Please proceed with the notebook.\")"
      ],
      "execution_count": 5,
      "outputs": [
        {
          "output_type": "stream",
          "text": [
            "<class 'pandas.core.frame.DataFrame'>\n",
            "RangeIndex: 100 entries, 0 to 99\n",
            "Data columns (total 5 columns):\n",
            " #   Column      Non-Null Count  Dtype  \n",
            "---  ------      --------------  -----  \n",
            " 0   longitude   100 non-null    float64\n",
            " 1   latitude    100 non-null    float64\n",
            " 2   obs_year    50 non-null     float64\n",
            " 3   class       50 non-null     object \n",
            " 4   class_2017  100 non-null    object \n",
            "dtypes: float64(3), object(2)\n",
            "memory usage: 4.0+ KB\n"
          ],
          "name": "stdout"
        },
        {
          "output_type": "display_data",
          "data": {
            "text/plain": [
              "None"
            ]
          },
          "metadata": {
            "tags": []
          }
        },
        {
          "output_type": "stream",
          "text": [
            "Success! Please proceed with the notebook.\n"
          ],
          "name": "stdout"
        }
      ]
    },
    {
      "cell_type": "markdown",
      "metadata": {
        "id": "xO9CZZJ2LCRr"
      },
      "source": [
        "#### Make xy geometries as a Feature Collection\n",
        "\n",
        "Make geometries for each XY position in the input table so we can efficiently generate zonal statistics over our final image stack at the end of the procedure. See the API documentation for information about [*ee.FeatureCollection*](>https://developers.google.com/earth-engine/guides/feature_collections)s."
      ]
    },
    {
      "cell_type": "code",
      "metadata": {
        "colab": {
          "base_uri": "https://localhost:8080/"
        },
        "id": "d3lP3kzYLCc5",
        "outputId": "f157c9bb-0aa4-4615-f630-b7d8fd21caf5"
      },
      "source": [
        "def get_geom(x):\n",
        "    return ee.Geometry.Point(x['longitude'], x['latitude'])\n",
        "\n",
        "pfc = ee.FeatureCollection(pts.apply(get_geom, axis=1).tolist())\n",
        "\n",
        "type(pfc)"
      ],
      "execution_count": 6,
      "outputs": [
        {
          "output_type": "execute_result",
          "data": {
            "text/plain": [
              "ee.featurecollection.FeatureCollection"
            ]
          },
          "metadata": {
            "tags": []
          },
          "execution_count": 6
        }
      ]
    },
    {
      "cell_type": "markdown",
      "metadata": {
        "id": "Vp5KEAikKWWc"
      },
      "source": [
        "\n",
        "### Region of Interest\n",
        "\n",
        "Get the minimum bounding extent of the points in the input CSV. Add an arbitrary buffer around the minimum extent and then get a ee.Geometry.Rectangle to represent the ROI."
      ]
    },
    {
      "cell_type": "code",
      "metadata": {
        "colab": {
          "base_uri": "https://localhost:8080/"
        },
        "id": "lXfYg2cV4Ovv",
        "outputId": "28020739-2dbb-43c2-86d0-13cd04693dca"
      },
      "source": [
        "lon_min = pts['longitude'].min()\n",
        "lon_max = pts['longitude'].max()\n",
        "lat_min = pts['latitude'].min()\n",
        "lat_max = pts['latitude'].max()\n",
        "\n",
        "roi_poly = [[lon_min, lat_max],\n",
        "            [lon_min, lat_min],\n",
        "            [lon_max, lat_min],\n",
        "            [lon_max, lat_max]]\n",
        "\n",
        "roi = ee.Geometry.Polygon(coords=roi_poly)\n",
        "\n",
        "type(roi)"
      ],
      "execution_count": 7,
      "outputs": [
        {
          "output_type": "execute_result",
          "data": {
            "text/plain": [
              "ee.geometry.Geometry"
            ]
          },
          "metadata": {
            "tags": []
          },
          "execution_count": 7
        }
      ]
    },
    {
      "cell_type": "markdown",
      "metadata": {
        "id": "obvCR3gS4a7c"
      },
      "source": [
        "Plot the region of interest polygon on a map to see the coverage."
      ]
    },
    {
      "cell_type": "code",
      "metadata": {
        "colab": {
          "base_uri": "https://localhost:8080/",
          "height": 837
        },
        "id": "3_4cQw-sKXXK",
        "outputId": "85e9f069-ec97-4d90-d299-7f20e0da1329"
      },
      "source": [
        "roi_center = [pts['latitude'].mean(), pts['longitude'].mean()]\n",
        "\n",
        "M = geemap.Map(center=roi_center, zoom=7, width=\"90%\")\n",
        "M.addLayer(roi, {'color': \"red\"}, name='ROI')\n",
        "M.addLayer(pfc, name='Sites')\n",
        "M"
      ],
      "execution_count": 8,
      "outputs": [
        {
          "output_type": "execute_result",
          "data": {
            "text/html": [
              "<div style=\"width:100%;\"><div style=\"position:relative;width:100%;height:0;padding-bottom:60%;\"><span style=\"color:#565656\">Make this Notebook Trusted to load map: File -> Trust Notebook</span><iframe src=\"about:blank\" style=\"position:absolute;width:100%;height:100%;left:0;top:0;border:none !important;\" data-html=%3C%21DOCTYPE%20html%3E%0A%3Chead%3E%20%20%20%20%0A%20%20%20%20%3Cmeta%20http-equiv%3D%22content-type%22%20content%3D%22text/html%3B%20charset%3DUTF-8%22%20/%3E%0A%20%20%20%20%0A%20%20%20%20%20%20%20%20%3Cscript%3E%0A%20%20%20%20%20%20%20%20%20%20%20%20L_NO_TOUCH%20%3D%20false%3B%0A%20%20%20%20%20%20%20%20%20%20%20%20L_DISABLE_3D%20%3D%20false%3B%0A%20%20%20%20%20%20%20%20%3C/script%3E%0A%20%20%20%20%0A%20%20%20%20%3Cstyle%3Ehtml%2C%20body%20%7Bwidth%3A%20100%25%3Bheight%3A%20100%25%3Bmargin%3A%200%3Bpadding%3A%200%3B%7D%3C/style%3E%0A%20%20%20%20%3Cstyle%3E%23map%20%7Bposition%3Aabsolute%3Btop%3A0%3Bbottom%3A0%3Bright%3A0%3Bleft%3A0%3B%7D%3C/style%3E%0A%20%20%20%20%3Cscript%20src%3D%22https%3A//cdn.jsdelivr.net/npm/leaflet%401.6.0/dist/leaflet.js%22%3E%3C/script%3E%0A%20%20%20%20%3Cscript%20src%3D%22https%3A//code.jquery.com/jquery-1.12.4.min.js%22%3E%3C/script%3E%0A%20%20%20%20%3Cscript%20src%3D%22https%3A//maxcdn.bootstrapcdn.com/bootstrap/3.2.0/js/bootstrap.min.js%22%3E%3C/script%3E%0A%20%20%20%20%3Cscript%20src%3D%22https%3A//cdnjs.cloudflare.com/ajax/libs/Leaflet.awesome-markers/2.0.2/leaflet.awesome-markers.js%22%3E%3C/script%3E%0A%20%20%20%20%3Clink%20rel%3D%22stylesheet%22%20href%3D%22https%3A//cdn.jsdelivr.net/npm/leaflet%401.6.0/dist/leaflet.css%22/%3E%0A%20%20%20%20%3Clink%20rel%3D%22stylesheet%22%20href%3D%22https%3A//maxcdn.bootstrapcdn.com/bootstrap/3.2.0/css/bootstrap.min.css%22/%3E%0A%20%20%20%20%3Clink%20rel%3D%22stylesheet%22%20href%3D%22https%3A//maxcdn.bootstrapcdn.com/bootstrap/3.2.0/css/bootstrap-theme.min.css%22/%3E%0A%20%20%20%20%3Clink%20rel%3D%22stylesheet%22%20href%3D%22https%3A//maxcdn.bootstrapcdn.com/font-awesome/4.6.3/css/font-awesome.min.css%22/%3E%0A%20%20%20%20%3Clink%20rel%3D%22stylesheet%22%20href%3D%22https%3A//cdnjs.cloudflare.com/ajax/libs/Leaflet.awesome-markers/2.0.2/leaflet.awesome-markers.css%22/%3E%0A%20%20%20%20%3Clink%20rel%3D%22stylesheet%22%20href%3D%22https%3A//cdn.jsdelivr.net/gh/python-visualization/folium/folium/templates/leaflet.awesome.rotate.min.css%22/%3E%0A%20%20%20%20%0A%20%20%20%20%20%20%20%20%20%20%20%20%3Cmeta%20name%3D%22viewport%22%20content%3D%22width%3Ddevice-width%2C%0A%20%20%20%20%20%20%20%20%20%20%20%20%20%20%20%20initial-scale%3D1.0%2C%20maximum-scale%3D1.0%2C%20user-scalable%3Dno%22%20/%3E%0A%20%20%20%20%20%20%20%20%20%20%20%20%3Cstyle%3E%0A%20%20%20%20%20%20%20%20%20%20%20%20%20%20%20%20%23map_86b97e3068fb4d98a9765352afdeb6b5%20%7B%0A%20%20%20%20%20%20%20%20%20%20%20%20%20%20%20%20%20%20%20%20position%3A%20relative%3B%0A%20%20%20%20%20%20%20%20%20%20%20%20%20%20%20%20%20%20%20%20width%3A%2090.0%25%3B%0A%20%20%20%20%20%20%20%20%20%20%20%20%20%20%20%20%20%20%20%20height%3A%20100.0%25%3B%0A%20%20%20%20%20%20%20%20%20%20%20%20%20%20%20%20%20%20%20%20left%3A%200.0%25%3B%0A%20%20%20%20%20%20%20%20%20%20%20%20%20%20%20%20%20%20%20%20top%3A%200.0%25%3B%0A%20%20%20%20%20%20%20%20%20%20%20%20%20%20%20%20%7D%0A%20%20%20%20%20%20%20%20%20%20%20%20%3C/style%3E%0A%20%20%20%20%20%20%20%20%0A%20%20%20%20%3Cscript%20src%3D%22https%3A//cdnjs.cloudflare.com/ajax/libs/leaflet.fullscreen/1.4.2/Control.FullScreen.min.js%22%3E%3C/script%3E%0A%20%20%20%20%3Clink%20rel%3D%22stylesheet%22%20href%3D%22https%3A//cdnjs.cloudflare.com/ajax/libs/leaflet.fullscreen/1.4.2/Control.FullScreen.min.css%22/%3E%0A%3C/head%3E%0A%3Cbody%3E%20%20%20%20%0A%20%20%20%20%0A%20%20%20%20%20%20%20%20%20%20%20%20%3Cdiv%20class%3D%22folium-map%22%20id%3D%22map_86b97e3068fb4d98a9765352afdeb6b5%22%20%3E%3C/div%3E%0A%20%20%20%20%20%20%20%20%0A%3C/body%3E%0A%3Cscript%3E%20%20%20%20%0A%20%20%20%20%0A%20%20%20%20%20%20%20%20%20%20%20%20var%20map_86b97e3068fb4d98a9765352afdeb6b5%20%3D%20L.map%28%0A%20%20%20%20%20%20%20%20%20%20%20%20%20%20%20%20%22map_86b97e3068fb4d98a9765352afdeb6b5%22%2C%0A%20%20%20%20%20%20%20%20%20%20%20%20%20%20%20%20%7B%0A%20%20%20%20%20%20%20%20%20%20%20%20%20%20%20%20%20%20%20%20center%3A%20%5B-7.132673861109996%2C%20-76.61272973500003%5D%2C%0A%20%20%20%20%20%20%20%20%20%20%20%20%20%20%20%20%20%20%20%20crs%3A%20L.CRS.EPSG3857%2C%0A%20%20%20%20%20%20%20%20%20%20%20%20%20%20%20%20%20%20%20%20zoom%3A%207%2C%0A%20%20%20%20%20%20%20%20%20%20%20%20%20%20%20%20%20%20%20%20zoomControl%3A%20true%2C%0A%20%20%20%20%20%20%20%20%20%20%20%20%20%20%20%20%20%20%20%20preferCanvas%3A%20false%2C%0A%20%20%20%20%20%20%20%20%20%20%20%20%20%20%20%20%20%20%20%20eeInitialize%3A%20true%2C%0A%20%20%20%20%20%20%20%20%20%20%20%20%20%20%20%20%20%20%20%20addGoogleMap%3A%20true%2C%0A%20%20%20%20%20%20%20%20%20%20%20%20%20%20%20%20%20%20%20%20pluginLatlngpopup%3A%20true%2C%0A%20%20%20%20%20%20%20%20%20%20%20%20%20%20%20%20%20%20%20%20pluginFullscreen%3A%20true%2C%0A%20%20%20%20%20%20%20%20%20%20%20%20%20%20%20%20%20%20%20%20pluginDraw%3A%20false%2C%0A%20%20%20%20%20%20%20%20%20%20%20%20%20%20%20%20%20%20%20%20DrawExport%3A%20true%2C%0A%20%20%20%20%20%20%20%20%20%20%20%20%20%20%20%20%20%20%20%20pluginMinimap%3A%20false%2C%0A%20%20%20%20%20%20%20%20%20%20%20%20%20%20%20%20%20%20%20%20pluginLayercontrol%3A%20false%2C%0A%20%20%20%20%20%20%20%20%20%20%20%20%20%20%20%20%7D%0A%20%20%20%20%20%20%20%20%20%20%20%20%29%3B%0A%0A%20%20%20%20%20%20%20%20%20%20%20%20%0A%0A%20%20%20%20%20%20%20%20%0A%20%20%20%20%0A%20%20%20%20%20%20%20%20%20%20%20%20var%20tile_layer_814faa32dc7643b2a97e6c60dba5c311%20%3D%20L.tileLayer%28%0A%20%20%20%20%20%20%20%20%20%20%20%20%20%20%20%20%22https%3A//%7Bs%7D.tile.openstreetmap.org/%7Bz%7D/%7Bx%7D/%7By%7D.png%22%2C%0A%20%20%20%20%20%20%20%20%20%20%20%20%20%20%20%20%7B%22attribution%22%3A%20%22Data%20by%20%5Cu0026copy%3B%20%5Cu003ca%20href%3D%5C%22http%3A//openstreetmap.org%5C%22%5Cu003eOpenStreetMap%5Cu003c/a%5Cu003e%2C%20under%20%5Cu003ca%20href%3D%5C%22http%3A//www.openstreetmap.org/copyright%5C%22%5Cu003eODbL%5Cu003c/a%5Cu003e.%22%2C%20%22detectRetina%22%3A%20false%2C%20%22maxNativeZoom%22%3A%2018%2C%20%22maxZoom%22%3A%2018%2C%20%22minZoom%22%3A%200%2C%20%22noWrap%22%3A%20false%2C%20%22opacity%22%3A%201%2C%20%22subdomains%22%3A%20%22abc%22%2C%20%22tms%22%3A%20false%7D%0A%20%20%20%20%20%20%20%20%20%20%20%20%29.addTo%28map_86b97e3068fb4d98a9765352afdeb6b5%29%3B%0A%20%20%20%20%20%20%20%20%0A%20%20%20%20%0A%20%20%20%20%20%20%20%20%20%20%20%20var%20tile_layer_334fcaf454e1421397247101bb70c19b%20%3D%20L.tileLayer%28%0A%20%20%20%20%20%20%20%20%20%20%20%20%20%20%20%20%22https%3A//mt1.google.com/vt/lyrs%3Dm%5Cu0026x%3D%7Bx%7D%5Cu0026y%3D%7By%7D%5Cu0026z%3D%7Bz%7D%22%2C%0A%20%20%20%20%20%20%20%20%20%20%20%20%20%20%20%20%7B%22attribution%22%3A%20%22Google%22%2C%20%22detectRetina%22%3A%20false%2C%20%22maxNativeZoom%22%3A%2018%2C%20%22maxZoom%22%3A%2018%2C%20%22minZoom%22%3A%200%2C%20%22noWrap%22%3A%20false%2C%20%22opacity%22%3A%201%2C%20%22subdomains%22%3A%20%22abc%22%2C%20%22tms%22%3A%20false%7D%0A%20%20%20%20%20%20%20%20%20%20%20%20%29.addTo%28map_86b97e3068fb4d98a9765352afdeb6b5%29%3B%0A%20%20%20%20%20%20%20%20%0A%20%20%20%20%0A%20%20%20%20%20%20%20%20%20%20%20%20%20%20%20%20var%20lat_lng_popup_b653474e7bc94e92a2ecd039fc08e909%20%3D%20L.popup%28%29%3B%0A%20%20%20%20%20%20%20%20%20%20%20%20%20%20%20%20function%20latLngPop%28e%29%20%7B%0A%20%20%20%20%20%20%20%20%20%20%20%20%20%20%20%20%20%20%20%20lat_lng_popup_b653474e7bc94e92a2ecd039fc08e909%0A%20%20%20%20%20%20%20%20%20%20%20%20%20%20%20%20%20%20%20%20%20%20%20%20.setLatLng%28e.latlng%29%0A%20%20%20%20%20%20%20%20%20%20%20%20%20%20%20%20%20%20%20%20%20%20%20%20.setContent%28%22Latitude%3A%20%22%20%2B%20e.latlng.lat.toFixed%284%29%20%2B%0A%20%20%20%20%20%20%20%20%20%20%20%20%20%20%20%20%20%20%20%20%20%20%20%20%20%20%20%20%20%20%20%20%20%20%20%20%22%3Cbr%3ELongitude%3A%20%22%20%2B%20e.latlng.lng.toFixed%284%29%29%0A%20%20%20%20%20%20%20%20%20%20%20%20%20%20%20%20%20%20%20%20%20%20%20%20.openOn%28map_86b97e3068fb4d98a9765352afdeb6b5%29%3B%0A%20%20%20%20%20%20%20%20%20%20%20%20%20%20%20%20%20%20%20%20%7D%0A%20%20%20%20%20%20%20%20%20%20%20%20%20%20%20%20map_86b97e3068fb4d98a9765352afdeb6b5.on%28%27click%27%2C%20latLngPop%29%3B%0A%20%20%20%20%20%20%20%20%20%20%20%20%0A%20%20%20%20%0A%20%20%20%20%20%20%20%20%20%20%20%20L.control.fullscreen%28%0A%20%20%20%20%20%20%20%20%20%20%20%20%20%20%20%20%7B%22forceSeparateButton%22%3A%20false%2C%20%22position%22%3A%20%22topleft%22%2C%20%22title%22%3A%20%22Full%20Screen%22%2C%20%22titleCancel%22%3A%20%22Exit%20Full%20Screen%22%7D%0A%20%20%20%20%20%20%20%20%20%20%20%20%29.addTo%28map_86b97e3068fb4d98a9765352afdeb6b5%29%3B%0A%20%20%20%20%20%20%20%20%0A%20%20%20%20%0A%20%20%20%20%20%20%20%20%20%20%20%20map_86b97e3068fb4d98a9765352afdeb6b5.fitBounds%28%0A%20%20%20%20%20%20%20%20%20%20%20%20%20%20%20%20%5B%5B-7.132673861109996%2C%20-76.61272973500003%5D%2C%20%5B-7.132673861109996%2C%20-76.61272973500003%5D%5D%2C%0A%20%20%20%20%20%20%20%20%20%20%20%20%20%20%20%20%7B%22maxZoom%22%3A%207%7D%0A%20%20%20%20%20%20%20%20%20%20%20%20%29%3B%0A%20%20%20%20%20%20%20%20%0A%20%20%20%20%0A%20%20%20%20%20%20%20%20%20%20%20%20var%20tile_layer_3867c908097a4ff7a21907a1128c64d2%20%3D%20L.tileLayer%28%0A%20%20%20%20%20%20%20%20%20%20%20%20%20%20%20%20%22https%3A//earthengine.googleapis.com/v1alpha/projects/earthengine-legacy/maps/eedd0b4b7f4907e773afe9178fe2a846-0e7899438c3d3786a56618eb7acfe507/tiles/%7Bz%7D/%7Bx%7D/%7By%7D%22%2C%0A%20%20%20%20%20%20%20%20%20%20%20%20%20%20%20%20%7B%22attribution%22%3A%20%22Google%20Earth%20Engine%22%2C%20%22detectRetina%22%3A%20false%2C%20%22maxNativeZoom%22%3A%2018%2C%20%22maxZoom%22%3A%2018%2C%20%22minZoom%22%3A%200%2C%20%22noWrap%22%3A%20false%2C%20%22opacity%22%3A%201.0%2C%20%22subdomains%22%3A%20%22abc%22%2C%20%22tms%22%3A%20false%7D%0A%20%20%20%20%20%20%20%20%20%20%20%20%29.addTo%28map_86b97e3068fb4d98a9765352afdeb6b5%29%3B%0A%20%20%20%20%20%20%20%20%0A%20%20%20%20%0A%20%20%20%20%20%20%20%20%20%20%20%20var%20tile_layer_4d36478013c549b89a3e793de68e35f2%20%3D%20L.tileLayer%28%0A%20%20%20%20%20%20%20%20%20%20%20%20%20%20%20%20%22https%3A//earthengine.googleapis.com/v1alpha/projects/earthengine-legacy/maps/d06733695646caf775395b244dceb34f-18a88c1aa48cdced65c38efee029b8fe/tiles/%7Bz%7D/%7Bx%7D/%7By%7D%22%2C%0A%20%20%20%20%20%20%20%20%20%20%20%20%20%20%20%20%7B%22attribution%22%3A%20%22Google%20Earth%20Engine%22%2C%20%22detectRetina%22%3A%20false%2C%20%22maxNativeZoom%22%3A%2018%2C%20%22maxZoom%22%3A%2018%2C%20%22minZoom%22%3A%200%2C%20%22noWrap%22%3A%20false%2C%20%22opacity%22%3A%201.0%2C%20%22subdomains%22%3A%20%22abc%22%2C%20%22tms%22%3A%20false%7D%0A%20%20%20%20%20%20%20%20%20%20%20%20%29.addTo%28map_86b97e3068fb4d98a9765352afdeb6b5%29%3B%0A%20%20%20%20%20%20%20%20%0A%20%20%20%20%0A%20%20%20%20%20%20%20%20%20%20%20%20var%20layer_control_1fca948eaf7245e2879796405dd29915%20%3D%20%7B%0A%20%20%20%20%20%20%20%20%20%20%20%20%20%20%20%20base_layers%20%3A%20%7B%0A%20%20%20%20%20%20%20%20%20%20%20%20%20%20%20%20%20%20%20%20%22openstreetmap%22%20%3A%20tile_layer_814faa32dc7643b2a97e6c60dba5c311%2C%0A%20%20%20%20%20%20%20%20%20%20%20%20%20%20%20%20%7D%2C%0A%20%20%20%20%20%20%20%20%20%20%20%20%20%20%20%20overlays%20%3A%20%20%7B%0A%20%20%20%20%20%20%20%20%20%20%20%20%20%20%20%20%20%20%20%20%22Google%20Maps%22%20%3A%20tile_layer_334fcaf454e1421397247101bb70c19b%2C%0A%20%20%20%20%20%20%20%20%20%20%20%20%20%20%20%20%20%20%20%20%22ROI%22%20%3A%20tile_layer_3867c908097a4ff7a21907a1128c64d2%2C%0A%20%20%20%20%20%20%20%20%20%20%20%20%20%20%20%20%20%20%20%20%22Sites%22%20%3A%20tile_layer_4d36478013c549b89a3e793de68e35f2%2C%0A%20%20%20%20%20%20%20%20%20%20%20%20%20%20%20%20%7D%2C%0A%20%20%20%20%20%20%20%20%20%20%20%20%7D%3B%0A%20%20%20%20%20%20%20%20%20%20%20%20L.control.layers%28%0A%20%20%20%20%20%20%20%20%20%20%20%20%20%20%20%20layer_control_1fca948eaf7245e2879796405dd29915.base_layers%2C%0A%20%20%20%20%20%20%20%20%20%20%20%20%20%20%20%20layer_control_1fca948eaf7245e2879796405dd29915.overlays%2C%0A%20%20%20%20%20%20%20%20%20%20%20%20%20%20%20%20%7B%22autoZIndex%22%3A%20true%2C%20%22collapsed%22%3A%20true%2C%20%22position%22%3A%20%22topright%22%7D%0A%20%20%20%20%20%20%20%20%20%20%20%20%29.addTo%28map_86b97e3068fb4d98a9765352afdeb6b5%29%3B%0A%20%20%20%20%20%20%20%20%0A%3C/script%3E onload=\"this.contentDocument.open();this.contentDocument.write(    decodeURIComponent(this.getAttribute('data-html')));this.contentDocument.close();\" allowfullscreen webkitallowfullscreen mozallowfullscreen></iframe></div></div>"
            ],
            "text/plain": [
              "<geemap.eefolium.Map at 0x7fcb57965990>"
            ]
          },
          "metadata": {
            "tags": []
          },
          "execution_count": 8
        }
      ]
    },
    {
      "cell_type": "markdown",
      "metadata": {
        "id": "HIbwNoD5pBrE"
      },
      "source": [
        "## Imagery\n",
        "\n",
        "### Sentinel-1\n",
        "\n",
        "We want to use preprocessed, analysis-ready data from the *S1_GRD* collection to calculate *radar volume index*.\n",
        "\n",
        ">A previous version of this notebook used the *S1_GRD_FLOAT* collection (rather than the *S1_GRD* collection) because the data are in power units, and are thus immediately suitable to calculate *radar volume index* (as opposed to the *S1_GRD* collection, which gives the data in decibels (dB), i.e., on a logarithmic scale).\n",
        ">\n",
        ">See [this page](https://developers.google.com/earth-engine/guides/sentinel1) for more information about Sentinel-1 data accessible through GEE.\n",
        "\n",
        "The next few cells take the following steps:\n",
        "\n",
        "1. pulls target data from *both* S1 collections (*S1_GRD* and *S1_GRD_FLOAT*)\n",
        "2. applies inverse transform to *S1_GRD* so they are represented in raw power\n",
        "3. calculates summary statistics and verifies transform by comparing with data from *S1_GRD_FLOAT*\n",
        "\n",
        "Grab the data from the *S1_GRD_FLOAT* collection."
      ]
    },
    {
      "cell_type": "markdown",
      "metadata": {
        "id": "qYGEuIqdGmfU"
      },
      "source": [
        ""
      ]
    },
    {
      "cell_type": "code",
      "metadata": {
        "colab": {
          "base_uri": "https://localhost:8080/"
        },
        "id": "WEcrKXvJmlgv",
        "outputId": "1929ee7c-9051-417d-fe46-9f6237bf687a"
      },
      "source": [
        "_s1 = (ee.ImageCollection(\"COPERNICUS/S1_GRD_FLOAT\")\n",
        "        .filter(ee.Filter.listContains('transmitterReceiverPolarisation', 'VV'))\n",
        "        .filter(ee.Filter.eq(\"instrumentMode\", \"IW\"))\n",
        "        .filter(ee.Filter.eq(\"orbitProperties_pass\", \"DESCENDING\"))\n",
        "        .filterDate(startDate, endDate)\n",
        "        .filterBounds(roi)\n",
        "        .select(['VV', 'VH'])\n",
        "        .mean())\n",
        "\n",
        "type(_s1)  # this includes 113 images for our inputs on 2021-05-12"
      ],
      "execution_count": 9,
      "outputs": [
        {
          "output_type": "execute_result",
          "data": {
            "text/plain": [
              "ee.image.Image"
            ]
          },
          "metadata": {
            "tags": []
          },
          "execution_count": 9
        }
      ]
    },
    {
      "cell_type": "markdown",
      "metadata": {
        "id": "1RrlUOu74gu5"
      },
      "source": [
        "The result should be a multi-band *Image*. Imagery were selected for our time/place of interest and composited to one mean raster per band in the output image.\n",
        "\n",
        ">**Converting decibels to raw power**\n",
        ">\n",
        ">Imagery in the Earth Engine 'COPERNICUS/S1_GRD' Sentinel-1 ImageCollection is consists of Level-1 Ground Range Detected (GRD) scenes processed to backscatter coefficient (σ°) in decibels (dB). The backscatter coefficient represents target backscattering area (radar cross-section) per unit ground area. Because it can vary by several orders of magnitude, it is converted to dB as 10*log10σ°. It measures whether the radiated terrain scatters the incident microwave radiation preferentially away from the SAR sensor dB < 0) or towards the SAR sensor dB > 0). This scattering behavior depends on the physical characteristics of the terrain, primarily the geometry of the terrain elements and their electromagnetic characteristics.\n",
        ">\n",
        ">More info about this process may be found [here](https://developers.google.com/earth-engine/guides/sentinel1#sentinel-1-preprocessing) in the GEE docs.\n",
        "\n",
        "Define and apply a function to do the inverse transform back into raw power units. Then do the same thing as in the cell above to select data from the *S1_GRD* collection, but apply the transform to all bands before getting the composite image."
      ]
    },
    {
      "cell_type": "code",
      "metadata": {
        "colab": {
          "base_uri": "https://localhost:8080/"
        },
        "id": "c1IfKycfQr7H",
        "outputId": "9d777b38-9d6a-418b-c0a9-958b05150ae9"
      },
      "source": [
        "def xform_s1(x):\n",
        "    return ee.Image(10).pow(x.divide(10))\n",
        "\n",
        "s1 = (ee.ImageCollection(\"COPERNICUS/S1_GRD\")\n",
        "        .filter(ee.Filter.listContains('transmitterReceiverPolarisation', 'VV'))\n",
        "        .filter(ee.Filter.eq(\"instrumentMode\", \"IW\"))\n",
        "        .filter(ee.Filter.eq(\"orbitProperties_pass\", \"DESCENDING\"))\n",
        "        .filterDate(startDate, endDate)\n",
        "        .filterBounds(roi)\n",
        "        .select(['VV', 'VH'])\n",
        "        .map(xform_s1)\n",
        "        .mean())\n",
        "\n",
        "type(s1)  # also includes 113 images for our inputs on 2021-05-12"
      ],
      "execution_count": 10,
      "outputs": [
        {
          "output_type": "execute_result",
          "data": {
            "text/plain": [
              "ee.image.Image"
            ]
          },
          "metadata": {
            "tags": []
          },
          "execution_count": 10
        }
      ]
    },
    {
      "cell_type": "markdown",
      "metadata": {
        "id": "gKyRkBKHejHZ"
      },
      "source": [
        "Quick comparison between the two using the `gee.image_stats` convenience function."
      ]
    },
    {
      "cell_type": "code",
      "metadata": {
        "colab": {
          "base_uri": "https://localhost:8080/",
          "height": 289
        },
        "id": "Y3ZKqMJgejRH",
        "outputId": "05e52902-6ed5-4d18-a0b2-11bb3646597b"
      },
      "source": [
        "def get_stats(img, region=roi, scale=30):\n",
        "    return geemap.image_stats(img=img, region=roi, scale=scale).getInfo()\n",
        "\n",
        "display(HTML(\"<h3>S1_GRD_FLOAT</h3>\"))\n",
        "display(pd.DataFrame(get_stats(_s1)))\n",
        "display(HTML(\"<h3>S1_GRD</h3>\"))\n",
        "display(pd.DataFrame(get_stats(s1)))"
      ],
      "execution_count": 11,
      "outputs": [
        {
          "output_type": "display_data",
          "data": {
            "text/html": [
              "<h3>S1_GRD_FLOAT</h3>"
            ],
            "text/plain": [
              "<IPython.core.display.HTML object>"
            ]
          },
          "metadata": {
            "tags": []
          }
        },
        {
          "output_type": "display_data",
          "data": {
            "text/html": [
              "<div>\n",
              "<style scoped>\n",
              "    .dataframe tbody tr th:only-of-type {\n",
              "        vertical-align: middle;\n",
              "    }\n",
              "\n",
              "    .dataframe tbody tr th {\n",
              "        vertical-align: top;\n",
              "    }\n",
              "\n",
              "    .dataframe thead th {\n",
              "        text-align: right;\n",
              "    }\n",
              "</style>\n",
              "<table border=\"1\" class=\"dataframe\">\n",
              "  <thead>\n",
              "    <tr style=\"text-align: right;\">\n",
              "      <th></th>\n",
              "      <th>max</th>\n",
              "      <th>mean</th>\n",
              "      <th>min</th>\n",
              "      <th>std</th>\n",
              "      <th>sum</th>\n",
              "    </tr>\n",
              "  </thead>\n",
              "  <tbody>\n",
              "    <tr>\n",
              "      <th>VH</th>\n",
              "      <td>31.514315</td>\n",
              "      <td>0.057534</td>\n",
              "      <td>0.00074</td>\n",
              "      <td>0.068617</td>\n",
              "      <td>4.516671e+06</td>\n",
              "    </tr>\n",
              "    <tr>\n",
              "      <th>VV</th>\n",
              "      <td>151.913361</td>\n",
              "      <td>0.273832</td>\n",
              "      <td>0.00261</td>\n",
              "      <td>0.370733</td>\n",
              "      <td>2.149695e+07</td>\n",
              "    </tr>\n",
              "  </tbody>\n",
              "</table>\n",
              "</div>"
            ],
            "text/plain": [
              "           max      mean      min       std           sum\n",
              "VH   31.514315  0.057534  0.00074  0.068617  4.516671e+06\n",
              "VV  151.913361  0.273832  0.00261  0.370733  2.149695e+07"
            ]
          },
          "metadata": {
            "tags": []
          }
        },
        {
          "output_type": "display_data",
          "data": {
            "text/html": [
              "<h3>S1_GRD</h3>"
            ],
            "text/plain": [
              "<IPython.core.display.HTML object>"
            ]
          },
          "metadata": {
            "tags": []
          }
        },
        {
          "output_type": "display_data",
          "data": {
            "text/html": [
              "<div>\n",
              "<style scoped>\n",
              "    .dataframe tbody tr th:only-of-type {\n",
              "        vertical-align: middle;\n",
              "    }\n",
              "\n",
              "    .dataframe tbody tr th {\n",
              "        vertical-align: top;\n",
              "    }\n",
              "\n",
              "    .dataframe thead th {\n",
              "        text-align: right;\n",
              "    }\n",
              "</style>\n",
              "<table border=\"1\" class=\"dataframe\">\n",
              "  <thead>\n",
              "    <tr style=\"text-align: right;\">\n",
              "      <th></th>\n",
              "      <th>max</th>\n",
              "      <th>mean</th>\n",
              "      <th>min</th>\n",
              "      <th>std</th>\n",
              "      <th>sum</th>\n",
              "    </tr>\n",
              "  </thead>\n",
              "  <tbody>\n",
              "    <tr>\n",
              "      <th>VH</th>\n",
              "      <td>31.514315</td>\n",
              "      <td>0.057538</td>\n",
              "      <td>0.00074</td>\n",
              "      <td>0.068620</td>\n",
              "      <td>4.516934e+06</td>\n",
              "    </tr>\n",
              "    <tr>\n",
              "      <th>VV</th>\n",
              "      <td>151.913360</td>\n",
              "      <td>0.273848</td>\n",
              "      <td>0.00261</td>\n",
              "      <td>0.370749</td>\n",
              "      <td>2.149820e+07</td>\n",
              "    </tr>\n",
              "  </tbody>\n",
              "</table>\n",
              "</div>"
            ],
            "text/plain": [
              "           max      mean      min       std           sum\n",
              "VH   31.514315  0.057538  0.00074  0.068620  4.516934e+06\n",
              "VV  151.913360  0.273848  0.00261  0.370749  2.149820e+07"
            ]
          },
          "metadata": {
            "tags": []
          }
        }
      ]
    },
    {
      "cell_type": "markdown",
      "metadata": {
        "id": "nJnLEubcWXT4"
      },
      "source": [
        ">*Assume the transform function is working properly if the values in both tables above are similar.*     \n",
        ">If that's the case, we are good to proceed with the data from *S1_GRD*.\n",
        "\n",
        "Dereference the data from the *S1_GRD_FLOAT* collection as we no longer need it."
      ]
    },
    {
      "cell_type": "code",
      "metadata": {
        "id": "wYTDrklVWYXe"
      },
      "source": [
        "_s1 = None"
      ],
      "execution_count": 12,
      "outputs": []
    },
    {
      "cell_type": "markdown",
      "metadata": {
        "id": "pMu0rJ-Is9_n"
      },
      "source": [
        "#### Calculate radar volume index\n",
        "\n",
        "Add a new band to the output image containing the radar volume index calculated from *VV* and *VH*: `4 * VH / (VH + VV)`"
      ]
    },
    {
      "cell_type": "code",
      "metadata": {
        "colab": {
          "base_uri": "https://localhost:8080/"
        },
        "id": "5ZDZQSvHZnMd",
        "outputId": "dbf165be-0be7-45ad-aace-2e51d00403d7"
      },
      "source": [
        "s1out = s1.addBands(s1.expression(\n",
        "    expression=\"4 * VH / (VH + VV)\",\n",
        "    opt_map={'VV': s1.select('VV'),\n",
        "             'VH': s1.select('VH')}\n",
        ").rename('radar_volume_index'))\n",
        "\n",
        "type(s1out)"
      ],
      "execution_count": 13,
      "outputs": [
        {
          "output_type": "execute_result",
          "data": {
            "text/plain": [
              "ee.image.Image"
            ]
          },
          "metadata": {
            "tags": []
          },
          "execution_count": 13
        }
      ]
    },
    {
      "cell_type": "markdown",
      "metadata": {
        "id": "uZcSQPoDxalI"
      },
      "source": [
        "Plot the histograms for *VV* and *VH* (or just get simple summary stats like before)."
      ]
    },
    {
      "cell_type": "code",
      "metadata": {
        "id": "9cvSkhj2jxsk",
        "colab": {
          "base_uri": "https://localhost:8080/",
          "height": 143
        },
        "outputId": "628dd3c4-9a90-4cb4-8b48-4492ce733ec9"
      },
      "source": [
        "# s1tmp = geemap.ee_to_numpy(s1comp, bands=[\"VV\", \"VH\"], region=roi)\n",
        "\n",
        "# # Plot histogram for VV:\n",
        "# counts, bins = np.histogram(a=s1tmp[:,:,0].flatten())\n",
        "# plt.hist(s1tmp[:,:,0], bins=bins)\n",
        "# plt.ylim(0., 3.)\n",
        "# plt.xlim(-18., -5.)\n",
        "# plt.show()\n",
        "\n",
        "# # Plot histogram for VH:\n",
        "# counts, bins = np.histogram(a=s1tmp[:,:,1].flatten())\n",
        "# plt.hist(s1tmp[:,:,1], bins=bins)\n",
        "# plt.ylim(0., 3.)\n",
        "# plt.xlim(-18., -5.)\n",
        "# plt.show()\n",
        "\n",
        "s1stats = get_stats(s1out)\n",
        "\n",
        "display(pd.DataFrame(s1stats))"
      ],
      "execution_count": 14,
      "outputs": [
        {
          "output_type": "display_data",
          "data": {
            "text/html": [
              "<div>\n",
              "<style scoped>\n",
              "    .dataframe tbody tr th:only-of-type {\n",
              "        vertical-align: middle;\n",
              "    }\n",
              "\n",
              "    .dataframe tbody tr th {\n",
              "        vertical-align: top;\n",
              "    }\n",
              "\n",
              "    .dataframe thead th {\n",
              "        text-align: right;\n",
              "    }\n",
              "</style>\n",
              "<table border=\"1\" class=\"dataframe\">\n",
              "  <thead>\n",
              "    <tr style=\"text-align: right;\">\n",
              "      <th></th>\n",
              "      <th>max</th>\n",
              "      <th>mean</th>\n",
              "      <th>min</th>\n",
              "      <th>std</th>\n",
              "      <th>sum</th>\n",
              "    </tr>\n",
              "  </thead>\n",
              "  <tbody>\n",
              "    <tr>\n",
              "      <th>VH</th>\n",
              "      <td>31.514315</td>\n",
              "      <td>0.057538</td>\n",
              "      <td>0.000740</td>\n",
              "      <td>0.068620</td>\n",
              "      <td>4.516934e+06</td>\n",
              "    </tr>\n",
              "    <tr>\n",
              "      <th>VV</th>\n",
              "      <td>151.913360</td>\n",
              "      <td>0.273848</td>\n",
              "      <td>0.002610</td>\n",
              "      <td>0.370749</td>\n",
              "      <td>2.149820e+07</td>\n",
              "    </tr>\n",
              "    <tr>\n",
              "      <th>radar_volume_index</th>\n",
              "      <td>3.588767</td>\n",
              "      <td>0.752902</td>\n",
              "      <td>0.003941</td>\n",
              "      <td>0.132861</td>\n",
              "      <td>5.910590e+07</td>\n",
              "    </tr>\n",
              "  </tbody>\n",
              "</table>\n",
              "</div>"
            ],
            "text/plain": [
              "                           max      mean       min       std           sum\n",
              "VH                   31.514315  0.057538  0.000740  0.068620  4.516934e+06\n",
              "VV                  151.913360  0.273848  0.002610  0.370749  2.149820e+07\n",
              "radar_volume_index    3.588767  0.752902  0.003941  0.132861  5.910590e+07"
            ]
          },
          "metadata": {
            "tags": []
          }
        }
      ]
    },
    {
      "cell_type": "markdown",
      "metadata": {
        "id": "td8ZN2Jdfh-b"
      },
      "source": [
        "Now plot all the bands (including the computed *radar_volume_index* image/band) for visual inspection:"
      ]
    },
    {
      "cell_type": "code",
      "metadata": {
        "colab": {
          "base_uri": "https://localhost:8080/",
          "height": 837
        },
        "id": "03Ns1Y_Tbi6u",
        "outputId": "092b2365-e5cc-46e2-efb2-fd4193064b22"
      },
      "source": [
        "def drawMap(image, style_func, width=\"90%\", **kwargs):\n",
        "    M = geemap.Map(**kwargs)\n",
        "    for band in image.bandNames().getInfo():\n",
        "        M.addLayer(image.select(band), **style_func(band))\n",
        "    M.addLayerControl()\n",
        "    return M\n",
        "\n",
        "def s1style(b: str, vis_params: dict={}):\n",
        "    if b.endswith(\"radar_volume_index\"):\n",
        "        vis_params = {'min': s1stats['min'][b], 'max': s1stats['max'][b]}\n",
        "    return {'vis_params': vis_params, \n",
        "            'shown': b.endswith(\"radar_volume_index\"), \n",
        "            'name': b}\n",
        "\n",
        "drawMap(image=s1out, style_func=s1style, center=roi_center, zoom=7, width=\"80%\")"
      ],
      "execution_count": 15,
      "outputs": [
        {
          "output_type": "execute_result",
          "data": {
            "text/html": [
              "<div style=\"width:100%;\"><div style=\"position:relative;width:100%;height:0;padding-bottom:60%;\"><span style=\"color:#565656\">Make this Notebook Trusted to load map: File -> Trust Notebook</span><iframe src=\"about:blank\" style=\"position:absolute;width:100%;height:100%;left:0;top:0;border:none !important;\" data-html=%3C%21DOCTYPE%20html%3E%0A%3Chead%3E%20%20%20%20%0A%20%20%20%20%3Cmeta%20http-equiv%3D%22content-type%22%20content%3D%22text/html%3B%20charset%3DUTF-8%22%20/%3E%0A%20%20%20%20%0A%20%20%20%20%20%20%20%20%3Cscript%3E%0A%20%20%20%20%20%20%20%20%20%20%20%20L_NO_TOUCH%20%3D%20false%3B%0A%20%20%20%20%20%20%20%20%20%20%20%20L_DISABLE_3D%20%3D%20false%3B%0A%20%20%20%20%20%20%20%20%3C/script%3E%0A%20%20%20%20%0A%20%20%20%20%3Cstyle%3Ehtml%2C%20body%20%7Bwidth%3A%20100%25%3Bheight%3A%20100%25%3Bmargin%3A%200%3Bpadding%3A%200%3B%7D%3C/style%3E%0A%20%20%20%20%3Cstyle%3E%23map%20%7Bposition%3Aabsolute%3Btop%3A0%3Bbottom%3A0%3Bright%3A0%3Bleft%3A0%3B%7D%3C/style%3E%0A%20%20%20%20%3Cscript%20src%3D%22https%3A//cdn.jsdelivr.net/npm/leaflet%401.6.0/dist/leaflet.js%22%3E%3C/script%3E%0A%20%20%20%20%3Cscript%20src%3D%22https%3A//code.jquery.com/jquery-1.12.4.min.js%22%3E%3C/script%3E%0A%20%20%20%20%3Cscript%20src%3D%22https%3A//maxcdn.bootstrapcdn.com/bootstrap/3.2.0/js/bootstrap.min.js%22%3E%3C/script%3E%0A%20%20%20%20%3Cscript%20src%3D%22https%3A//cdnjs.cloudflare.com/ajax/libs/Leaflet.awesome-markers/2.0.2/leaflet.awesome-markers.js%22%3E%3C/script%3E%0A%20%20%20%20%3Clink%20rel%3D%22stylesheet%22%20href%3D%22https%3A//cdn.jsdelivr.net/npm/leaflet%401.6.0/dist/leaflet.css%22/%3E%0A%20%20%20%20%3Clink%20rel%3D%22stylesheet%22%20href%3D%22https%3A//maxcdn.bootstrapcdn.com/bootstrap/3.2.0/css/bootstrap.min.css%22/%3E%0A%20%20%20%20%3Clink%20rel%3D%22stylesheet%22%20href%3D%22https%3A//maxcdn.bootstrapcdn.com/bootstrap/3.2.0/css/bootstrap-theme.min.css%22/%3E%0A%20%20%20%20%3Clink%20rel%3D%22stylesheet%22%20href%3D%22https%3A//maxcdn.bootstrapcdn.com/font-awesome/4.6.3/css/font-awesome.min.css%22/%3E%0A%20%20%20%20%3Clink%20rel%3D%22stylesheet%22%20href%3D%22https%3A//cdnjs.cloudflare.com/ajax/libs/Leaflet.awesome-markers/2.0.2/leaflet.awesome-markers.css%22/%3E%0A%20%20%20%20%3Clink%20rel%3D%22stylesheet%22%20href%3D%22https%3A//cdn.jsdelivr.net/gh/python-visualization/folium/folium/templates/leaflet.awesome.rotate.min.css%22/%3E%0A%20%20%20%20%0A%20%20%20%20%20%20%20%20%20%20%20%20%3Cmeta%20name%3D%22viewport%22%20content%3D%22width%3Ddevice-width%2C%0A%20%20%20%20%20%20%20%20%20%20%20%20%20%20%20%20initial-scale%3D1.0%2C%20maximum-scale%3D1.0%2C%20user-scalable%3Dno%22%20/%3E%0A%20%20%20%20%20%20%20%20%20%20%20%20%3Cstyle%3E%0A%20%20%20%20%20%20%20%20%20%20%20%20%20%20%20%20%23map_36492c74d81a492a97264e035d2b74bc%20%7B%0A%20%20%20%20%20%20%20%20%20%20%20%20%20%20%20%20%20%20%20%20position%3A%20relative%3B%0A%20%20%20%20%20%20%20%20%20%20%20%20%20%20%20%20%20%20%20%20width%3A%20100.0%25%3B%0A%20%20%20%20%20%20%20%20%20%20%20%20%20%20%20%20%20%20%20%20height%3A%20100.0%25%3B%0A%20%20%20%20%20%20%20%20%20%20%20%20%20%20%20%20%20%20%20%20left%3A%200.0%25%3B%0A%20%20%20%20%20%20%20%20%20%20%20%20%20%20%20%20%20%20%20%20top%3A%200.0%25%3B%0A%20%20%20%20%20%20%20%20%20%20%20%20%20%20%20%20%7D%0A%20%20%20%20%20%20%20%20%20%20%20%20%3C/style%3E%0A%20%20%20%20%20%20%20%20%0A%20%20%20%20%3Cscript%20src%3D%22https%3A//cdnjs.cloudflare.com/ajax/libs/leaflet.fullscreen/1.4.2/Control.FullScreen.min.js%22%3E%3C/script%3E%0A%20%20%20%20%3Clink%20rel%3D%22stylesheet%22%20href%3D%22https%3A//cdnjs.cloudflare.com/ajax/libs/leaflet.fullscreen/1.4.2/Control.FullScreen.min.css%22/%3E%0A%3C/head%3E%0A%3Cbody%3E%20%20%20%20%0A%20%20%20%20%0A%20%20%20%20%20%20%20%20%20%20%20%20%3Cdiv%20class%3D%22folium-map%22%20id%3D%22map_36492c74d81a492a97264e035d2b74bc%22%20%3E%3C/div%3E%0A%20%20%20%20%20%20%20%20%0A%3C/body%3E%0A%3Cscript%3E%20%20%20%20%0A%20%20%20%20%0A%20%20%20%20%20%20%20%20%20%20%20%20var%20map_36492c74d81a492a97264e035d2b74bc%20%3D%20L.map%28%0A%20%20%20%20%20%20%20%20%20%20%20%20%20%20%20%20%22map_36492c74d81a492a97264e035d2b74bc%22%2C%0A%20%20%20%20%20%20%20%20%20%20%20%20%20%20%20%20%7B%0A%20%20%20%20%20%20%20%20%20%20%20%20%20%20%20%20%20%20%20%20center%3A%20%5B-7.132673861109996%2C%20-76.61272973500003%5D%2C%0A%20%20%20%20%20%20%20%20%20%20%20%20%20%20%20%20%20%20%20%20crs%3A%20L.CRS.EPSG3857%2C%0A%20%20%20%20%20%20%20%20%20%20%20%20%20%20%20%20%20%20%20%20zoom%3A%207%2C%0A%20%20%20%20%20%20%20%20%20%20%20%20%20%20%20%20%20%20%20%20zoomControl%3A%20true%2C%0A%20%20%20%20%20%20%20%20%20%20%20%20%20%20%20%20%20%20%20%20preferCanvas%3A%20false%2C%0A%20%20%20%20%20%20%20%20%20%20%20%20%20%20%20%20%20%20%20%20eeInitialize%3A%20true%2C%0A%20%20%20%20%20%20%20%20%20%20%20%20%20%20%20%20%20%20%20%20addGoogleMap%3A%20true%2C%0A%20%20%20%20%20%20%20%20%20%20%20%20%20%20%20%20%20%20%20%20pluginLatlngpopup%3A%20true%2C%0A%20%20%20%20%20%20%20%20%20%20%20%20%20%20%20%20%20%20%20%20pluginFullscreen%3A%20true%2C%0A%20%20%20%20%20%20%20%20%20%20%20%20%20%20%20%20%20%20%20%20pluginDraw%3A%20false%2C%0A%20%20%20%20%20%20%20%20%20%20%20%20%20%20%20%20%20%20%20%20DrawExport%3A%20true%2C%0A%20%20%20%20%20%20%20%20%20%20%20%20%20%20%20%20%20%20%20%20pluginMinimap%3A%20false%2C%0A%20%20%20%20%20%20%20%20%20%20%20%20%20%20%20%20%20%20%20%20pluginLayercontrol%3A%20false%2C%0A%20%20%20%20%20%20%20%20%20%20%20%20%20%20%20%20%7D%0A%20%20%20%20%20%20%20%20%20%20%20%20%29%3B%0A%0A%20%20%20%20%20%20%20%20%20%20%20%20%0A%0A%20%20%20%20%20%20%20%20%0A%20%20%20%20%0A%20%20%20%20%20%20%20%20%20%20%20%20var%20tile_layer_283960c7f5924be8be49938366b04dc0%20%3D%20L.tileLayer%28%0A%20%20%20%20%20%20%20%20%20%20%20%20%20%20%20%20%22https%3A//%7Bs%7D.tile.openstreetmap.org/%7Bz%7D/%7Bx%7D/%7By%7D.png%22%2C%0A%20%20%20%20%20%20%20%20%20%20%20%20%20%20%20%20%7B%22attribution%22%3A%20%22Data%20by%20%5Cu0026copy%3B%20%5Cu003ca%20href%3D%5C%22http%3A//openstreetmap.org%5C%22%5Cu003eOpenStreetMap%5Cu003c/a%5Cu003e%2C%20under%20%5Cu003ca%20href%3D%5C%22http%3A//www.openstreetmap.org/copyright%5C%22%5Cu003eODbL%5Cu003c/a%5Cu003e.%22%2C%20%22detectRetina%22%3A%20false%2C%20%22maxNativeZoom%22%3A%2018%2C%20%22maxZoom%22%3A%2018%2C%20%22minZoom%22%3A%200%2C%20%22noWrap%22%3A%20false%2C%20%22opacity%22%3A%201%2C%20%22subdomains%22%3A%20%22abc%22%2C%20%22tms%22%3A%20false%7D%0A%20%20%20%20%20%20%20%20%20%20%20%20%29.addTo%28map_36492c74d81a492a97264e035d2b74bc%29%3B%0A%20%20%20%20%20%20%20%20%0A%20%20%20%20%0A%20%20%20%20%20%20%20%20%20%20%20%20var%20tile_layer_334fcaf454e1421397247101bb70c19b%20%3D%20L.tileLayer%28%0A%20%20%20%20%20%20%20%20%20%20%20%20%20%20%20%20%22https%3A//mt1.google.com/vt/lyrs%3Dm%5Cu0026x%3D%7Bx%7D%5Cu0026y%3D%7By%7D%5Cu0026z%3D%7Bz%7D%22%2C%0A%20%20%20%20%20%20%20%20%20%20%20%20%20%20%20%20%7B%22attribution%22%3A%20%22Google%22%2C%20%22detectRetina%22%3A%20false%2C%20%22maxNativeZoom%22%3A%2018%2C%20%22maxZoom%22%3A%2018%2C%20%22minZoom%22%3A%200%2C%20%22noWrap%22%3A%20false%2C%20%22opacity%22%3A%201%2C%20%22subdomains%22%3A%20%22abc%22%2C%20%22tms%22%3A%20false%7D%0A%20%20%20%20%20%20%20%20%20%20%20%20%29.addTo%28map_36492c74d81a492a97264e035d2b74bc%29%3B%0A%20%20%20%20%20%20%20%20%0A%20%20%20%20%0A%20%20%20%20%20%20%20%20%20%20%20%20%20%20%20%20var%20lat_lng_popup_a7e7ba93afcf43a8a90ab508ee81dd6d%20%3D%20L.popup%28%29%3B%0A%20%20%20%20%20%20%20%20%20%20%20%20%20%20%20%20function%20latLngPop%28e%29%20%7B%0A%20%20%20%20%20%20%20%20%20%20%20%20%20%20%20%20%20%20%20%20lat_lng_popup_a7e7ba93afcf43a8a90ab508ee81dd6d%0A%20%20%20%20%20%20%20%20%20%20%20%20%20%20%20%20%20%20%20%20%20%20%20%20.setLatLng%28e.latlng%29%0A%20%20%20%20%20%20%20%20%20%20%20%20%20%20%20%20%20%20%20%20%20%20%20%20.setContent%28%22Latitude%3A%20%22%20%2B%20e.latlng.lat.toFixed%284%29%20%2B%0A%20%20%20%20%20%20%20%20%20%20%20%20%20%20%20%20%20%20%20%20%20%20%20%20%20%20%20%20%20%20%20%20%20%20%20%20%22%3Cbr%3ELongitude%3A%20%22%20%2B%20e.latlng.lng.toFixed%284%29%29%0A%20%20%20%20%20%20%20%20%20%20%20%20%20%20%20%20%20%20%20%20%20%20%20%20.openOn%28map_36492c74d81a492a97264e035d2b74bc%29%3B%0A%20%20%20%20%20%20%20%20%20%20%20%20%20%20%20%20%20%20%20%20%7D%0A%20%20%20%20%20%20%20%20%20%20%20%20%20%20%20%20map_36492c74d81a492a97264e035d2b74bc.on%28%27click%27%2C%20latLngPop%29%3B%0A%20%20%20%20%20%20%20%20%20%20%20%20%0A%20%20%20%20%0A%20%20%20%20%20%20%20%20%20%20%20%20L.control.fullscreen%28%0A%20%20%20%20%20%20%20%20%20%20%20%20%20%20%20%20%7B%22forceSeparateButton%22%3A%20false%2C%20%22position%22%3A%20%22topleft%22%2C%20%22title%22%3A%20%22Full%20Screen%22%2C%20%22titleCancel%22%3A%20%22Exit%20Full%20Screen%22%7D%0A%20%20%20%20%20%20%20%20%20%20%20%20%29.addTo%28map_36492c74d81a492a97264e035d2b74bc%29%3B%0A%20%20%20%20%20%20%20%20%0A%20%20%20%20%0A%20%20%20%20%20%20%20%20%20%20%20%20map_36492c74d81a492a97264e035d2b74bc.fitBounds%28%0A%20%20%20%20%20%20%20%20%20%20%20%20%20%20%20%20%5B%5B-7.132673861109996%2C%20-76.61272973500003%5D%2C%20%5B-7.132673861109996%2C%20-76.61272973500003%5D%5D%2C%0A%20%20%20%20%20%20%20%20%20%20%20%20%20%20%20%20%7B%22maxZoom%22%3A%207%7D%0A%20%20%20%20%20%20%20%20%20%20%20%20%29%3B%0A%20%20%20%20%20%20%20%20%0A%20%20%20%20%0A%20%20%20%20%20%20%20%20%20%20%20%20var%20tile_layer_c087ff73c429431ca11bd7aa7d11fef7%20%3D%20L.tileLayer%28%0A%20%20%20%20%20%20%20%20%20%20%20%20%20%20%20%20%22https%3A//earthengine.googleapis.com/v1alpha/projects/earthengine-legacy/maps/421c4f2ea12f58464431b8951c2f052a-bd697d790cd4351c5d44e04a9b148a76/tiles/%7Bz%7D/%7Bx%7D/%7By%7D%22%2C%0A%20%20%20%20%20%20%20%20%20%20%20%20%20%20%20%20%7B%22attribution%22%3A%20%22Google%20Earth%20Engine%22%2C%20%22detectRetina%22%3A%20false%2C%20%22maxNativeZoom%22%3A%2018%2C%20%22maxZoom%22%3A%2018%2C%20%22minZoom%22%3A%200%2C%20%22noWrap%22%3A%20false%2C%20%22opacity%22%3A%201.0%2C%20%22subdomains%22%3A%20%22abc%22%2C%20%22tms%22%3A%20false%7D%0A%20%20%20%20%20%20%20%20%20%20%20%20%29.addTo%28map_36492c74d81a492a97264e035d2b74bc%29%3B%0A%20%20%20%20%20%20%20%20%0A%20%20%20%20%0A%20%20%20%20%20%20%20%20%20%20%20%20var%20tile_layer_2ffdd6a673a840fb842fbdaf900800bb%20%3D%20L.tileLayer%28%0A%20%20%20%20%20%20%20%20%20%20%20%20%20%20%20%20%22https%3A//earthengine.googleapis.com/v1alpha/projects/earthengine-legacy/maps/33e654e2b41d532228c079ded85420fb-a60a47d874073c2a66893fc1aff7be46/tiles/%7Bz%7D/%7Bx%7D/%7By%7D%22%2C%0A%20%20%20%20%20%20%20%20%20%20%20%20%20%20%20%20%7B%22attribution%22%3A%20%22Google%20Earth%20Engine%22%2C%20%22detectRetina%22%3A%20false%2C%20%22maxNativeZoom%22%3A%2018%2C%20%22maxZoom%22%3A%2018%2C%20%22minZoom%22%3A%200%2C%20%22noWrap%22%3A%20false%2C%20%22opacity%22%3A%201.0%2C%20%22subdomains%22%3A%20%22abc%22%2C%20%22tms%22%3A%20false%7D%0A%20%20%20%20%20%20%20%20%20%20%20%20%29.addTo%28map_36492c74d81a492a97264e035d2b74bc%29%3B%0A%20%20%20%20%20%20%20%20%0A%20%20%20%20%0A%20%20%20%20%20%20%20%20%20%20%20%20var%20tile_layer_b200f4facf814559b13faa37c942eb81%20%3D%20L.tileLayer%28%0A%20%20%20%20%20%20%20%20%20%20%20%20%20%20%20%20%22https%3A//earthengine.googleapis.com/v1alpha/projects/earthengine-legacy/maps/58d30a75427a1f618d4c5c5dcea703ad-f629612edc52486c91da5b797eeff9c0/tiles/%7Bz%7D/%7Bx%7D/%7By%7D%22%2C%0A%20%20%20%20%20%20%20%20%20%20%20%20%20%20%20%20%7B%22attribution%22%3A%20%22Google%20Earth%20Engine%22%2C%20%22detectRetina%22%3A%20false%2C%20%22maxNativeZoom%22%3A%2018%2C%20%22maxZoom%22%3A%2018%2C%20%22minZoom%22%3A%200%2C%20%22noWrap%22%3A%20false%2C%20%22opacity%22%3A%201.0%2C%20%22subdomains%22%3A%20%22abc%22%2C%20%22tms%22%3A%20false%7D%0A%20%20%20%20%20%20%20%20%20%20%20%20%29.addTo%28map_36492c74d81a492a97264e035d2b74bc%29%3B%0A%20%20%20%20%20%20%20%20%0A%20%20%20%20%0A%20%20%20%20%20%20%20%20%20%20%20%20var%20layer_control_6e056a92b17c415dbbd6a2bbb4e186b6%20%3D%20%7B%0A%20%20%20%20%20%20%20%20%20%20%20%20%20%20%20%20base_layers%20%3A%20%7B%0A%20%20%20%20%20%20%20%20%20%20%20%20%20%20%20%20%20%20%20%20%22openstreetmap%22%20%3A%20tile_layer_283960c7f5924be8be49938366b04dc0%2C%0A%20%20%20%20%20%20%20%20%20%20%20%20%20%20%20%20%7D%2C%0A%20%20%20%20%20%20%20%20%20%20%20%20%20%20%20%20overlays%20%3A%20%20%7B%0A%20%20%20%20%20%20%20%20%20%20%20%20%20%20%20%20%20%20%20%20%22Google%20Maps%22%20%3A%20tile_layer_334fcaf454e1421397247101bb70c19b%2C%0A%20%20%20%20%20%20%20%20%20%20%20%20%20%20%20%20%20%20%20%20%22VV%22%20%3A%20tile_layer_c087ff73c429431ca11bd7aa7d11fef7%2C%0A%20%20%20%20%20%20%20%20%20%20%20%20%20%20%20%20%20%20%20%20%22VH%22%20%3A%20tile_layer_2ffdd6a673a840fb842fbdaf900800bb%2C%0A%20%20%20%20%20%20%20%20%20%20%20%20%20%20%20%20%20%20%20%20%22radar_volume_index%22%20%3A%20tile_layer_b200f4facf814559b13faa37c942eb81%2C%0A%20%20%20%20%20%20%20%20%20%20%20%20%20%20%20%20%7D%2C%0A%20%20%20%20%20%20%20%20%20%20%20%20%7D%3B%0A%20%20%20%20%20%20%20%20%20%20%20%20L.control.layers%28%0A%20%20%20%20%20%20%20%20%20%20%20%20%20%20%20%20layer_control_6e056a92b17c415dbbd6a2bbb4e186b6.base_layers%2C%0A%20%20%20%20%20%20%20%20%20%20%20%20%20%20%20%20layer_control_6e056a92b17c415dbbd6a2bbb4e186b6.overlays%2C%0A%20%20%20%20%20%20%20%20%20%20%20%20%20%20%20%20%7B%22autoZIndex%22%3A%20true%2C%20%22collapsed%22%3A%20true%2C%20%22position%22%3A%20%22topright%22%7D%0A%20%20%20%20%20%20%20%20%20%20%20%20%29.addTo%28map_36492c74d81a492a97264e035d2b74bc%29%3B%0A%20%20%20%20%20%20%20%20%20%20%20%20tile_layer_c087ff73c429431ca11bd7aa7d11fef7.remove%28%29%3B%0A%20%20%20%20%20%20%20%20%20%20%20%20tile_layer_2ffdd6a673a840fb842fbdaf900800bb.remove%28%29%3B%0A%20%20%20%20%20%20%20%20%0A%3C/script%3E onload=\"this.contentDocument.open();this.contentDocument.write(    decodeURIComponent(this.getAttribute('data-html')));this.contentDocument.close();\" allowfullscreen webkitallowfullscreen mozallowfullscreen></iframe></div></div>"
            ],
            "text/plain": [
              "<geemap.eefolium.Map at 0x7fcb57691690>"
            ]
          },
          "metadata": {
            "tags": []
          },
          "execution_count": 15
        }
      ]
    },
    {
      "cell_type": "markdown",
      "metadata": {
        "id": "XlcNbkU7ptm8"
      },
      "source": [
        "### ALOS2\n",
        "\n",
        "https://developers.google.com/earth-engine/datasets/catalog/JAXA_ALOS_PALSAR_YEARLY_SAR\n",
        "\n",
        "This dataset from ALOS2 only has one timestep per year, so modify the start and end dates before applying *filterDate* to the *ImageCollection*."
      ]
    },
    {
      "cell_type": "code",
      "metadata": {
        "colab": {
          "base_uri": "https://localhost:8080/"
        },
        "id": "Xb-_GQUfnCdJ",
        "outputId": "2b91f573-1e33-4db3-e178-f57d9b184c63"
      },
      "source": [
        "years = [f'{startDate.split(\"-\")[0]}-01-01', \n",
        "         f'{endDate.split(\"-\")[0]}-12-31']\n",
        "\n",
        "alos2 = (ee.ImageCollection('JAXA/ALOS/PALSAR/YEARLY/SAR')\n",
        "           .filterDate(*years)\n",
        "           .filterBounds(roi)\n",
        "           .select(['HV','HH'])\n",
        "           .mean())\n",
        "\n",
        "type(alos2)"
      ],
      "execution_count": 16,
      "outputs": [
        {
          "output_type": "execute_result",
          "data": {
            "text/plain": [
              "ee.image.Image"
            ]
          },
          "metadata": {
            "tags": []
          },
          "execution_count": 16
        }
      ]
    },
    {
      "cell_type": "markdown",
      "metadata": {
        "id": "wYpy9du5maN4"
      },
      "source": [
        "#### Calculate radar volume index\n",
        "\n",
        "Add a new band to the output image containing the ALOS2 radar volume index calculated as: `4 * HV / (HV + HH)`"
      ]
    },
    {
      "cell_type": "code",
      "metadata": {
        "colab": {
          "base_uri": "https://localhost:8080/"
        },
        "id": "KQlAoNF-kg9r",
        "outputId": "7e4bfafc-b5c0-4e4b-c830-490916269590"
      },
      "source": [
        "alos2out = alos2.addBands(alos2.expression(\n",
        "    expression=\"4 * HV / (HV + HH)\", \n",
        "    opt_map={'HV': alos2.select('HV'),\n",
        "             'HH': alos2.select('HH')}\n",
        ").rename('radar_volume_index'))\n",
        "\n",
        "type(alos2out)"
      ],
      "execution_count": 17,
      "outputs": [
        {
          "output_type": "execute_result",
          "data": {
            "text/plain": [
              "ee.image.Image"
            ]
          },
          "metadata": {
            "tags": []
          },
          "execution_count": 17
        }
      ]
    },
    {
      "cell_type": "markdown",
      "metadata": {
        "id": "4jbsfk_qa3Sa"
      },
      "source": [
        "Calculate and display a table of summary stats."
      ]
    },
    {
      "cell_type": "code",
      "metadata": {
        "colab": {
          "base_uri": "https://localhost:8080/",
          "height": 143
        },
        "id": "QpQ1fUzDa3d5",
        "outputId": "7d1eedd6-1e89-4e66-c478-e0d8ed5827d9"
      },
      "source": [
        "alos2stats = get_stats(alos2out)\n",
        "\n",
        "display(pd.DataFrame(alos2stats))"
      ],
      "execution_count": 18,
      "outputs": [
        {
          "output_type": "display_data",
          "data": {
            "text/html": [
              "<div>\n",
              "<style scoped>\n",
              "    .dataframe tbody tr th:only-of-type {\n",
              "        vertical-align: middle;\n",
              "    }\n",
              "\n",
              "    .dataframe tbody tr th {\n",
              "        vertical-align: top;\n",
              "    }\n",
              "\n",
              "    .dataframe thead th {\n",
              "        text-align: right;\n",
              "    }\n",
              "</style>\n",
              "<table border=\"1\" class=\"dataframe\">\n",
              "  <thead>\n",
              "    <tr style=\"text-align: right;\">\n",
              "      <th></th>\n",
              "      <th>max</th>\n",
              "      <th>mean</th>\n",
              "      <th>min</th>\n",
              "      <th>std</th>\n",
              "      <th>sum</th>\n",
              "    </tr>\n",
              "  </thead>\n",
              "  <tbody>\n",
              "    <tr>\n",
              "      <th>HH</th>\n",
              "      <td>65535</td>\n",
              "      <td>6690.437360</td>\n",
              "      <td>0</td>\n",
              "      <td>2823.646256</td>\n",
              "      <td>5.252266e+11</td>\n",
              "    </tr>\n",
              "    <tr>\n",
              "      <th>HV</th>\n",
              "      <td>65535</td>\n",
              "      <td>3759.369117</td>\n",
              "      <td>0</td>\n",
              "      <td>1601.820148</td>\n",
              "      <td>2.951258e+11</td>\n",
              "    </tr>\n",
              "    <tr>\n",
              "      <th>radar_volume_index</th>\n",
              "      <td>4</td>\n",
              "      <td>1.441220</td>\n",
              "      <td>0</td>\n",
              "      <td>0.288143</td>\n",
              "      <td>1.131417e+08</td>\n",
              "    </tr>\n",
              "  </tbody>\n",
              "</table>\n",
              "</div>"
            ],
            "text/plain": [
              "                      max         mean  min          std           sum\n",
              "HH                  65535  6690.437360    0  2823.646256  5.252266e+11\n",
              "HV                  65535  3759.369117    0  1601.820148  2.951258e+11\n",
              "radar_volume_index      4     1.441220    0     0.288143  1.131417e+08"
            ]
          },
          "metadata": {
            "tags": []
          }
        }
      ]
    },
    {
      "cell_type": "markdown",
      "metadata": {
        "id": "9F2w3fQvqKNE"
      },
      "source": [
        "### Landsat 8 SR\n",
        "\n",
        "https://developers.google.com/earth-engine/datasets/catalog/LANDSAT_LC08_C01_T1_SR\n",
        "\n",
        ">This example describes exactly what we need to do to produce the Landsat 8 median composite:    \n",
        "https://developers.google.com/earth-engine/guides/ic_composite_mosaic\n",
        "\n",
        "Select Landsat 8 surface reflectance images and apply a quality mask by mapping a function over all the images in the collection that match our filtering criteria. Then, calculate NDVI and add it to the image as a new band."
      ]
    },
    {
      "cell_type": "code",
      "metadata": {
        "colab": {
          "base_uri": "https://localhost:8080/"
        },
        "id": "y5s7JRuOqBxv",
        "outputId": "b176458a-23a1-4a48-ff30-02b4e9159862"
      },
      "source": [
        "def mask_l8sr(image):\n",
        "    cloudShadowBitMask = 1<<3\n",
        "    cloudBitMask = 1<<5\n",
        "    qa = image.select('pixel_qa')\n",
        "    mask = qa.bitwiseAnd(cloudShadowBitMask).eq(0).And(\n",
        "           qa.bitwiseAnd(cloudBitMask).eq(0))\n",
        "    return image.updateMask(mask)\n",
        "\n",
        "# Select Landsat 8 surface reflectance scenes and make a median composite.\n",
        "l8sr = (ee.ImageCollection('LANDSAT/LC08/C01/T1_SR')\n",
        "          .filterDate(startDate, endDate)\n",
        "          .filterBounds(roi)\n",
        "          .map(mask_l8sr)\n",
        "          .median())\n",
        "\n",
        "# Use the composite bands 5 and 4 to produce an NDVI image.\n",
        "l8out = l8sr.addBands(l8sr.normalizedDifference(['B5','B4']).rename('ndvi'))\n",
        "\n",
        "type(l8out)"
      ],
      "execution_count": 19,
      "outputs": [
        {
          "output_type": "execute_result",
          "data": {
            "text/plain": [
              "ee.image.Image"
            ]
          },
          "metadata": {
            "tags": []
          },
          "execution_count": 19
        }
      ]
    },
    {
      "cell_type": "markdown",
      "metadata": {
        "id": "UI2tn26RkNxt"
      },
      "source": [
        "Draw NDVI and the other surface reflectance bands on a map."
      ]
    },
    {
      "cell_type": "code",
      "metadata": {
        "colab": {
          "base_uri": "https://localhost:8080/",
          "height": 837
        },
        "id": "x-K1pT9Y_VNn",
        "outputId": "068ac9c8-526b-4dad-9262-d89caaca4eea"
      },
      "source": [
        "def l8style(b: str, vis_params: dict={}):\n",
        "    if b.endswith(\"ndvi\"):\n",
        "        vis_params = {'min': -1.0, 'max': 1.0, 'palette': 'red,yellow,green'}\n",
        "    return {'vis_params': vis_params, 'shown': b.endswith(\"ndvi\"), 'name': b}\n",
        "\n",
        "drawMap(image=l8out, style_func=l8style, center=roi_center, zoom=7, width=\"75%\")"
      ],
      "execution_count": 20,
      "outputs": [
        {
          "output_type": "execute_result",
          "data": {
            "text/html": [
              "<div style=\"width:100%;\"><div style=\"position:relative;width:100%;height:0;padding-bottom:60%;\"><span style=\"color:#565656\">Make this Notebook Trusted to load map: File -> Trust Notebook</span><iframe src=\"about:blank\" style=\"position:absolute;width:100%;height:100%;left:0;top:0;border:none !important;\" data-html=%3C%21DOCTYPE%20html%3E%0A%3Chead%3E%20%20%20%20%0A%20%20%20%20%3Cmeta%20http-equiv%3D%22content-type%22%20content%3D%22text/html%3B%20charset%3DUTF-8%22%20/%3E%0A%20%20%20%20%0A%20%20%20%20%20%20%20%20%3Cscript%3E%0A%20%20%20%20%20%20%20%20%20%20%20%20L_NO_TOUCH%20%3D%20false%3B%0A%20%20%20%20%20%20%20%20%20%20%20%20L_DISABLE_3D%20%3D%20false%3B%0A%20%20%20%20%20%20%20%20%3C/script%3E%0A%20%20%20%20%0A%20%20%20%20%3Cstyle%3Ehtml%2C%20body%20%7Bwidth%3A%20100%25%3Bheight%3A%20100%25%3Bmargin%3A%200%3Bpadding%3A%200%3B%7D%3C/style%3E%0A%20%20%20%20%3Cstyle%3E%23map%20%7Bposition%3Aabsolute%3Btop%3A0%3Bbottom%3A0%3Bright%3A0%3Bleft%3A0%3B%7D%3C/style%3E%0A%20%20%20%20%3Cscript%20src%3D%22https%3A//cdn.jsdelivr.net/npm/leaflet%401.6.0/dist/leaflet.js%22%3E%3C/script%3E%0A%20%20%20%20%3Cscript%20src%3D%22https%3A//code.jquery.com/jquery-1.12.4.min.js%22%3E%3C/script%3E%0A%20%20%20%20%3Cscript%20src%3D%22https%3A//maxcdn.bootstrapcdn.com/bootstrap/3.2.0/js/bootstrap.min.js%22%3E%3C/script%3E%0A%20%20%20%20%3Cscript%20src%3D%22https%3A//cdnjs.cloudflare.com/ajax/libs/Leaflet.awesome-markers/2.0.2/leaflet.awesome-markers.js%22%3E%3C/script%3E%0A%20%20%20%20%3Clink%20rel%3D%22stylesheet%22%20href%3D%22https%3A//cdn.jsdelivr.net/npm/leaflet%401.6.0/dist/leaflet.css%22/%3E%0A%20%20%20%20%3Clink%20rel%3D%22stylesheet%22%20href%3D%22https%3A//maxcdn.bootstrapcdn.com/bootstrap/3.2.0/css/bootstrap.min.css%22/%3E%0A%20%20%20%20%3Clink%20rel%3D%22stylesheet%22%20href%3D%22https%3A//maxcdn.bootstrapcdn.com/bootstrap/3.2.0/css/bootstrap-theme.min.css%22/%3E%0A%20%20%20%20%3Clink%20rel%3D%22stylesheet%22%20href%3D%22https%3A//maxcdn.bootstrapcdn.com/font-awesome/4.6.3/css/font-awesome.min.css%22/%3E%0A%20%20%20%20%3Clink%20rel%3D%22stylesheet%22%20href%3D%22https%3A//cdnjs.cloudflare.com/ajax/libs/Leaflet.awesome-markers/2.0.2/leaflet.awesome-markers.css%22/%3E%0A%20%20%20%20%3Clink%20rel%3D%22stylesheet%22%20href%3D%22https%3A//cdn.jsdelivr.net/gh/python-visualization/folium/folium/templates/leaflet.awesome.rotate.min.css%22/%3E%0A%20%20%20%20%0A%20%20%20%20%20%20%20%20%20%20%20%20%3Cmeta%20name%3D%22viewport%22%20content%3D%22width%3Ddevice-width%2C%0A%20%20%20%20%20%20%20%20%20%20%20%20%20%20%20%20initial-scale%3D1.0%2C%20maximum-scale%3D1.0%2C%20user-scalable%3Dno%22%20/%3E%0A%20%20%20%20%20%20%20%20%20%20%20%20%3Cstyle%3E%0A%20%20%20%20%20%20%20%20%20%20%20%20%20%20%20%20%23map_bc0da4ce7b2541a3b0487fd42d779884%20%7B%0A%20%20%20%20%20%20%20%20%20%20%20%20%20%20%20%20%20%20%20%20position%3A%20relative%3B%0A%20%20%20%20%20%20%20%20%20%20%20%20%20%20%20%20%20%20%20%20width%3A%20100.0%25%3B%0A%20%20%20%20%20%20%20%20%20%20%20%20%20%20%20%20%20%20%20%20height%3A%20100.0%25%3B%0A%20%20%20%20%20%20%20%20%20%20%20%20%20%20%20%20%20%20%20%20left%3A%200.0%25%3B%0A%20%20%20%20%20%20%20%20%20%20%20%20%20%20%20%20%20%20%20%20top%3A%200.0%25%3B%0A%20%20%20%20%20%20%20%20%20%20%20%20%20%20%20%20%7D%0A%20%20%20%20%20%20%20%20%20%20%20%20%3C/style%3E%0A%20%20%20%20%20%20%20%20%0A%20%20%20%20%3Cscript%20src%3D%22https%3A//cdnjs.cloudflare.com/ajax/libs/leaflet.fullscreen/1.4.2/Control.FullScreen.min.js%22%3E%3C/script%3E%0A%20%20%20%20%3Clink%20rel%3D%22stylesheet%22%20href%3D%22https%3A//cdnjs.cloudflare.com/ajax/libs/leaflet.fullscreen/1.4.2/Control.FullScreen.min.css%22/%3E%0A%3C/head%3E%0A%3Cbody%3E%20%20%20%20%0A%20%20%20%20%0A%20%20%20%20%20%20%20%20%20%20%20%20%3Cdiv%20class%3D%22folium-map%22%20id%3D%22map_bc0da4ce7b2541a3b0487fd42d779884%22%20%3E%3C/div%3E%0A%20%20%20%20%20%20%20%20%0A%3C/body%3E%0A%3Cscript%3E%20%20%20%20%0A%20%20%20%20%0A%20%20%20%20%20%20%20%20%20%20%20%20var%20map_bc0da4ce7b2541a3b0487fd42d779884%20%3D%20L.map%28%0A%20%20%20%20%20%20%20%20%20%20%20%20%20%20%20%20%22map_bc0da4ce7b2541a3b0487fd42d779884%22%2C%0A%20%20%20%20%20%20%20%20%20%20%20%20%20%20%20%20%7B%0A%20%20%20%20%20%20%20%20%20%20%20%20%20%20%20%20%20%20%20%20center%3A%20%5B-7.132673861109996%2C%20-76.61272973500003%5D%2C%0A%20%20%20%20%20%20%20%20%20%20%20%20%20%20%20%20%20%20%20%20crs%3A%20L.CRS.EPSG3857%2C%0A%20%20%20%20%20%20%20%20%20%20%20%20%20%20%20%20%20%20%20%20zoom%3A%207%2C%0A%20%20%20%20%20%20%20%20%20%20%20%20%20%20%20%20%20%20%20%20zoomControl%3A%20true%2C%0A%20%20%20%20%20%20%20%20%20%20%20%20%20%20%20%20%20%20%20%20preferCanvas%3A%20false%2C%0A%20%20%20%20%20%20%20%20%20%20%20%20%20%20%20%20%20%20%20%20eeInitialize%3A%20true%2C%0A%20%20%20%20%20%20%20%20%20%20%20%20%20%20%20%20%20%20%20%20addGoogleMap%3A%20true%2C%0A%20%20%20%20%20%20%20%20%20%20%20%20%20%20%20%20%20%20%20%20pluginLatlngpopup%3A%20true%2C%0A%20%20%20%20%20%20%20%20%20%20%20%20%20%20%20%20%20%20%20%20pluginFullscreen%3A%20true%2C%0A%20%20%20%20%20%20%20%20%20%20%20%20%20%20%20%20%20%20%20%20pluginDraw%3A%20false%2C%0A%20%20%20%20%20%20%20%20%20%20%20%20%20%20%20%20%20%20%20%20DrawExport%3A%20true%2C%0A%20%20%20%20%20%20%20%20%20%20%20%20%20%20%20%20%20%20%20%20pluginMinimap%3A%20false%2C%0A%20%20%20%20%20%20%20%20%20%20%20%20%20%20%20%20%20%20%20%20pluginLayercontrol%3A%20false%2C%0A%20%20%20%20%20%20%20%20%20%20%20%20%20%20%20%20%7D%0A%20%20%20%20%20%20%20%20%20%20%20%20%29%3B%0A%0A%20%20%20%20%20%20%20%20%20%20%20%20%0A%0A%20%20%20%20%20%20%20%20%0A%20%20%20%20%0A%20%20%20%20%20%20%20%20%20%20%20%20var%20tile_layer_ce99d25c1a324a3fb6402649cdda22c3%20%3D%20L.tileLayer%28%0A%20%20%20%20%20%20%20%20%20%20%20%20%20%20%20%20%22https%3A//%7Bs%7D.tile.openstreetmap.org/%7Bz%7D/%7Bx%7D/%7By%7D.png%22%2C%0A%20%20%20%20%20%20%20%20%20%20%20%20%20%20%20%20%7B%22attribution%22%3A%20%22Data%20by%20%5Cu0026copy%3B%20%5Cu003ca%20href%3D%5C%22http%3A//openstreetmap.org%5C%22%5Cu003eOpenStreetMap%5Cu003c/a%5Cu003e%2C%20under%20%5Cu003ca%20href%3D%5C%22http%3A//www.openstreetmap.org/copyright%5C%22%5Cu003eODbL%5Cu003c/a%5Cu003e.%22%2C%20%22detectRetina%22%3A%20false%2C%20%22maxNativeZoom%22%3A%2018%2C%20%22maxZoom%22%3A%2018%2C%20%22minZoom%22%3A%200%2C%20%22noWrap%22%3A%20false%2C%20%22opacity%22%3A%201%2C%20%22subdomains%22%3A%20%22abc%22%2C%20%22tms%22%3A%20false%7D%0A%20%20%20%20%20%20%20%20%20%20%20%20%29.addTo%28map_bc0da4ce7b2541a3b0487fd42d779884%29%3B%0A%20%20%20%20%20%20%20%20%0A%20%20%20%20%0A%20%20%20%20%20%20%20%20%20%20%20%20var%20tile_layer_334fcaf454e1421397247101bb70c19b%20%3D%20L.tileLayer%28%0A%20%20%20%20%20%20%20%20%20%20%20%20%20%20%20%20%22https%3A//mt1.google.com/vt/lyrs%3Dm%5Cu0026x%3D%7Bx%7D%5Cu0026y%3D%7By%7D%5Cu0026z%3D%7Bz%7D%22%2C%0A%20%20%20%20%20%20%20%20%20%20%20%20%20%20%20%20%7B%22attribution%22%3A%20%22Google%22%2C%20%22detectRetina%22%3A%20false%2C%20%22maxNativeZoom%22%3A%2018%2C%20%22maxZoom%22%3A%2018%2C%20%22minZoom%22%3A%200%2C%20%22noWrap%22%3A%20false%2C%20%22opacity%22%3A%201%2C%20%22subdomains%22%3A%20%22abc%22%2C%20%22tms%22%3A%20false%7D%0A%20%20%20%20%20%20%20%20%20%20%20%20%29.addTo%28map_bc0da4ce7b2541a3b0487fd42d779884%29%3B%0A%20%20%20%20%20%20%20%20%0A%20%20%20%20%0A%20%20%20%20%20%20%20%20%20%20%20%20%20%20%20%20var%20lat_lng_popup_45d17dd7ad204b458134942100ed59fe%20%3D%20L.popup%28%29%3B%0A%20%20%20%20%20%20%20%20%20%20%20%20%20%20%20%20function%20latLngPop%28e%29%20%7B%0A%20%20%20%20%20%20%20%20%20%20%20%20%20%20%20%20%20%20%20%20lat_lng_popup_45d17dd7ad204b458134942100ed59fe%0A%20%20%20%20%20%20%20%20%20%20%20%20%20%20%20%20%20%20%20%20%20%20%20%20.setLatLng%28e.latlng%29%0A%20%20%20%20%20%20%20%20%20%20%20%20%20%20%20%20%20%20%20%20%20%20%20%20.setContent%28%22Latitude%3A%20%22%20%2B%20e.latlng.lat.toFixed%284%29%20%2B%0A%20%20%20%20%20%20%20%20%20%20%20%20%20%20%20%20%20%20%20%20%20%20%20%20%20%20%20%20%20%20%20%20%20%20%20%20%22%3Cbr%3ELongitude%3A%20%22%20%2B%20e.latlng.lng.toFixed%284%29%29%0A%20%20%20%20%20%20%20%20%20%20%20%20%20%20%20%20%20%20%20%20%20%20%20%20.openOn%28map_bc0da4ce7b2541a3b0487fd42d779884%29%3B%0A%20%20%20%20%20%20%20%20%20%20%20%20%20%20%20%20%20%20%20%20%7D%0A%20%20%20%20%20%20%20%20%20%20%20%20%20%20%20%20map_bc0da4ce7b2541a3b0487fd42d779884.on%28%27click%27%2C%20latLngPop%29%3B%0A%20%20%20%20%20%20%20%20%20%20%20%20%0A%20%20%20%20%0A%20%20%20%20%20%20%20%20%20%20%20%20L.control.fullscreen%28%0A%20%20%20%20%20%20%20%20%20%20%20%20%20%20%20%20%7B%22forceSeparateButton%22%3A%20false%2C%20%22position%22%3A%20%22topleft%22%2C%20%22title%22%3A%20%22Full%20Screen%22%2C%20%22titleCancel%22%3A%20%22Exit%20Full%20Screen%22%7D%0A%20%20%20%20%20%20%20%20%20%20%20%20%29.addTo%28map_bc0da4ce7b2541a3b0487fd42d779884%29%3B%0A%20%20%20%20%20%20%20%20%0A%20%20%20%20%0A%20%20%20%20%20%20%20%20%20%20%20%20map_bc0da4ce7b2541a3b0487fd42d779884.fitBounds%28%0A%20%20%20%20%20%20%20%20%20%20%20%20%20%20%20%20%5B%5B-7.132673861109996%2C%20-76.61272973500003%5D%2C%20%5B-7.132673861109996%2C%20-76.61272973500003%5D%5D%2C%0A%20%20%20%20%20%20%20%20%20%20%20%20%20%20%20%20%7B%22maxZoom%22%3A%207%7D%0A%20%20%20%20%20%20%20%20%20%20%20%20%29%3B%0A%20%20%20%20%20%20%20%20%0A%20%20%20%20%0A%20%20%20%20%20%20%20%20%20%20%20%20var%20tile_layer_1ab61a43ad7e4dfab8a5acacb0c4f984%20%3D%20L.tileLayer%28%0A%20%20%20%20%20%20%20%20%20%20%20%20%20%20%20%20%22https%3A//earthengine.googleapis.com/v1alpha/projects/earthengine-legacy/maps/d38fe886c8ec68a4252b8e1b9dea8810-8060b050d4701d36a936c929599689e8/tiles/%7Bz%7D/%7Bx%7D/%7By%7D%22%2C%0A%20%20%20%20%20%20%20%20%20%20%20%20%20%20%20%20%7B%22attribution%22%3A%20%22Google%20Earth%20Engine%22%2C%20%22detectRetina%22%3A%20false%2C%20%22maxNativeZoom%22%3A%2018%2C%20%22maxZoom%22%3A%2018%2C%20%22minZoom%22%3A%200%2C%20%22noWrap%22%3A%20false%2C%20%22opacity%22%3A%201.0%2C%20%22subdomains%22%3A%20%22abc%22%2C%20%22tms%22%3A%20false%7D%0A%20%20%20%20%20%20%20%20%20%20%20%20%29.addTo%28map_bc0da4ce7b2541a3b0487fd42d779884%29%3B%0A%20%20%20%20%20%20%20%20%0A%20%20%20%20%0A%20%20%20%20%20%20%20%20%20%20%20%20var%20tile_layer_490ae733b51348e688d1065e244e16bd%20%3D%20L.tileLayer%28%0A%20%20%20%20%20%20%20%20%20%20%20%20%20%20%20%20%22https%3A//earthengine.googleapis.com/v1alpha/projects/earthengine-legacy/maps/db9fb9bbffe32cf9f8fd93f32a1e5d70-bc4c0b30a8dc7bd60a5eba89a082d124/tiles/%7Bz%7D/%7Bx%7D/%7By%7D%22%2C%0A%20%20%20%20%20%20%20%20%20%20%20%20%20%20%20%20%7B%22attribution%22%3A%20%22Google%20Earth%20Engine%22%2C%20%22detectRetina%22%3A%20false%2C%20%22maxNativeZoom%22%3A%2018%2C%20%22maxZoom%22%3A%2018%2C%20%22minZoom%22%3A%200%2C%20%22noWrap%22%3A%20false%2C%20%22opacity%22%3A%201.0%2C%20%22subdomains%22%3A%20%22abc%22%2C%20%22tms%22%3A%20false%7D%0A%20%20%20%20%20%20%20%20%20%20%20%20%29.addTo%28map_bc0da4ce7b2541a3b0487fd42d779884%29%3B%0A%20%20%20%20%20%20%20%20%0A%20%20%20%20%0A%20%20%20%20%20%20%20%20%20%20%20%20var%20tile_layer_bed0d0f1e2ea41cc8bd05a3868b8ad62%20%3D%20L.tileLayer%28%0A%20%20%20%20%20%20%20%20%20%20%20%20%20%20%20%20%22https%3A//earthengine.googleapis.com/v1alpha/projects/earthengine-legacy/maps/66764427b35d82ff03997b6347df3667-88d8d18cd01311be4c75686bc3021dbd/tiles/%7Bz%7D/%7Bx%7D/%7By%7D%22%2C%0A%20%20%20%20%20%20%20%20%20%20%20%20%20%20%20%20%7B%22attribution%22%3A%20%22Google%20Earth%20Engine%22%2C%20%22detectRetina%22%3A%20false%2C%20%22maxNativeZoom%22%3A%2018%2C%20%22maxZoom%22%3A%2018%2C%20%22minZoom%22%3A%200%2C%20%22noWrap%22%3A%20false%2C%20%22opacity%22%3A%201.0%2C%20%22subdomains%22%3A%20%22abc%22%2C%20%22tms%22%3A%20false%7D%0A%20%20%20%20%20%20%20%20%20%20%20%20%29.addTo%28map_bc0da4ce7b2541a3b0487fd42d779884%29%3B%0A%20%20%20%20%20%20%20%20%0A%20%20%20%20%0A%20%20%20%20%20%20%20%20%20%20%20%20var%20tile_layer_bfd8cc7bc83247968666ac273d0c48e3%20%3D%20L.tileLayer%28%0A%20%20%20%20%20%20%20%20%20%20%20%20%20%20%20%20%22https%3A//earthengine.googleapis.com/v1alpha/projects/earthengine-legacy/maps/0096feb34bbf9d925494a6d4ae2a3f9b-450fc0e7d2450c840f2d94342e91c4d9/tiles/%7Bz%7D/%7Bx%7D/%7By%7D%22%2C%0A%20%20%20%20%20%20%20%20%20%20%20%20%20%20%20%20%7B%22attribution%22%3A%20%22Google%20Earth%20Engine%22%2C%20%22detectRetina%22%3A%20false%2C%20%22maxNativeZoom%22%3A%2018%2C%20%22maxZoom%22%3A%2018%2C%20%22minZoom%22%3A%200%2C%20%22noWrap%22%3A%20false%2C%20%22opacity%22%3A%201.0%2C%20%22subdomains%22%3A%20%22abc%22%2C%20%22tms%22%3A%20false%7D%0A%20%20%20%20%20%20%20%20%20%20%20%20%29.addTo%28map_bc0da4ce7b2541a3b0487fd42d779884%29%3B%0A%20%20%20%20%20%20%20%20%0A%20%20%20%20%0A%20%20%20%20%20%20%20%20%20%20%20%20var%20tile_layer_c2a20726bc5d4c4eab4582a254ac4575%20%3D%20L.tileLayer%28%0A%20%20%20%20%20%20%20%20%20%20%20%20%20%20%20%20%22https%3A//earthengine.googleapis.com/v1alpha/projects/earthengine-legacy/maps/fa2f098a6118eb0180a5b40250fd7277-92eaf30cf33c6417d53f57264289e672/tiles/%7Bz%7D/%7Bx%7D/%7By%7D%22%2C%0A%20%20%20%20%20%20%20%20%20%20%20%20%20%20%20%20%7B%22attribution%22%3A%20%22Google%20Earth%20Engine%22%2C%20%22detectRetina%22%3A%20false%2C%20%22maxNativeZoom%22%3A%2018%2C%20%22maxZoom%22%3A%2018%2C%20%22minZoom%22%3A%200%2C%20%22noWrap%22%3A%20false%2C%20%22opacity%22%3A%201.0%2C%20%22subdomains%22%3A%20%22abc%22%2C%20%22tms%22%3A%20false%7D%0A%20%20%20%20%20%20%20%20%20%20%20%20%29.addTo%28map_bc0da4ce7b2541a3b0487fd42d779884%29%3B%0A%20%20%20%20%20%20%20%20%0A%20%20%20%20%0A%20%20%20%20%20%20%20%20%20%20%20%20var%20tile_layer_17b78091cca3470bb6f9b4815a25b61a%20%3D%20L.tileLayer%28%0A%20%20%20%20%20%20%20%20%20%20%20%20%20%20%20%20%22https%3A//earthengine.googleapis.com/v1alpha/projects/earthengine-legacy/maps/db10db74ec547ea09b0cfb897d5d8f74-33df68f2196d29963ce6bbcf46d68ec3/tiles/%7Bz%7D/%7Bx%7D/%7By%7D%22%2C%0A%20%20%20%20%20%20%20%20%20%20%20%20%20%20%20%20%7B%22attribution%22%3A%20%22Google%20Earth%20Engine%22%2C%20%22detectRetina%22%3A%20false%2C%20%22maxNativeZoom%22%3A%2018%2C%20%22maxZoom%22%3A%2018%2C%20%22minZoom%22%3A%200%2C%20%22noWrap%22%3A%20false%2C%20%22opacity%22%3A%201.0%2C%20%22subdomains%22%3A%20%22abc%22%2C%20%22tms%22%3A%20false%7D%0A%20%20%20%20%20%20%20%20%20%20%20%20%29.addTo%28map_bc0da4ce7b2541a3b0487fd42d779884%29%3B%0A%20%20%20%20%20%20%20%20%0A%20%20%20%20%0A%20%20%20%20%20%20%20%20%20%20%20%20var%20tile_layer_04bf4fe69892488ea3c69d29876d9463%20%3D%20L.tileLayer%28%0A%20%20%20%20%20%20%20%20%20%20%20%20%20%20%20%20%22https%3A//earthengine.googleapis.com/v1alpha/projects/earthengine-legacy/maps/b30f344be900b3b9d02e47b191ed23c8-ee6f87dfee12ea13846c4e006a0b086a/tiles/%7Bz%7D/%7Bx%7D/%7By%7D%22%2C%0A%20%20%20%20%20%20%20%20%20%20%20%20%20%20%20%20%7B%22attribution%22%3A%20%22Google%20Earth%20Engine%22%2C%20%22detectRetina%22%3A%20false%2C%20%22maxNativeZoom%22%3A%2018%2C%20%22maxZoom%22%3A%2018%2C%20%22minZoom%22%3A%200%2C%20%22noWrap%22%3A%20false%2C%20%22opacity%22%3A%201.0%2C%20%22subdomains%22%3A%20%22abc%22%2C%20%22tms%22%3A%20false%7D%0A%20%20%20%20%20%20%20%20%20%20%20%20%29.addTo%28map_bc0da4ce7b2541a3b0487fd42d779884%29%3B%0A%20%20%20%20%20%20%20%20%0A%20%20%20%20%0A%20%20%20%20%20%20%20%20%20%20%20%20var%20tile_layer_517797bb18fc4dcdb02eae11bbff8909%20%3D%20L.tileLayer%28%0A%20%20%20%20%20%20%20%20%20%20%20%20%20%20%20%20%22https%3A//earthengine.googleapis.com/v1alpha/projects/earthengine-legacy/maps/55424e628343c31c8fe1ad51b4cfafb5-d3fe7712e70f723b9b2c30044f62eaa9/tiles/%7Bz%7D/%7Bx%7D/%7By%7D%22%2C%0A%20%20%20%20%20%20%20%20%20%20%20%20%20%20%20%20%7B%22attribution%22%3A%20%22Google%20Earth%20Engine%22%2C%20%22detectRetina%22%3A%20false%2C%20%22maxNativeZoom%22%3A%2018%2C%20%22maxZoom%22%3A%2018%2C%20%22minZoom%22%3A%200%2C%20%22noWrap%22%3A%20false%2C%20%22opacity%22%3A%201.0%2C%20%22subdomains%22%3A%20%22abc%22%2C%20%22tms%22%3A%20false%7D%0A%20%20%20%20%20%20%20%20%20%20%20%20%29.addTo%28map_bc0da4ce7b2541a3b0487fd42d779884%29%3B%0A%20%20%20%20%20%20%20%20%0A%20%20%20%20%0A%20%20%20%20%20%20%20%20%20%20%20%20var%20tile_layer_c1af7d1a082c4058b1fe7692b512987c%20%3D%20L.tileLayer%28%0A%20%20%20%20%20%20%20%20%20%20%20%20%20%20%20%20%22https%3A//earthengine.googleapis.com/v1alpha/projects/earthengine-legacy/maps/f72fde71af1f401eff6e25ba45e5ea45-98d2400bfd6697be083170c00f9072a6/tiles/%7Bz%7D/%7Bx%7D/%7By%7D%22%2C%0A%20%20%20%20%20%20%20%20%20%20%20%20%20%20%20%20%7B%22attribution%22%3A%20%22Google%20Earth%20Engine%22%2C%20%22detectRetina%22%3A%20false%2C%20%22maxNativeZoom%22%3A%2018%2C%20%22maxZoom%22%3A%2018%2C%20%22minZoom%22%3A%200%2C%20%22noWrap%22%3A%20false%2C%20%22opacity%22%3A%201.0%2C%20%22subdomains%22%3A%20%22abc%22%2C%20%22tms%22%3A%20false%7D%0A%20%20%20%20%20%20%20%20%20%20%20%20%29.addTo%28map_bc0da4ce7b2541a3b0487fd42d779884%29%3B%0A%20%20%20%20%20%20%20%20%0A%20%20%20%20%0A%20%20%20%20%20%20%20%20%20%20%20%20var%20tile_layer_b008b1ea213d441c91c94fd80c3f3b5e%20%3D%20L.tileLayer%28%0A%20%20%20%20%20%20%20%20%20%20%20%20%20%20%20%20%22https%3A//earthengine.googleapis.com/v1alpha/projects/earthengine-legacy/maps/0e66d315049601949b4bbce879c653d1-6fa9cf1b86cfa41fce4281772e692861/tiles/%7Bz%7D/%7Bx%7D/%7By%7D%22%2C%0A%20%20%20%20%20%20%20%20%20%20%20%20%20%20%20%20%7B%22attribution%22%3A%20%22Google%20Earth%20Engine%22%2C%20%22detectRetina%22%3A%20false%2C%20%22maxNativeZoom%22%3A%2018%2C%20%22maxZoom%22%3A%2018%2C%20%22minZoom%22%3A%200%2C%20%22noWrap%22%3A%20false%2C%20%22opacity%22%3A%201.0%2C%20%22subdomains%22%3A%20%22abc%22%2C%20%22tms%22%3A%20false%7D%0A%20%20%20%20%20%20%20%20%20%20%20%20%29.addTo%28map_bc0da4ce7b2541a3b0487fd42d779884%29%3B%0A%20%20%20%20%20%20%20%20%0A%20%20%20%20%0A%20%20%20%20%20%20%20%20%20%20%20%20var%20tile_layer_8869b09bf9704ad6835b8187a7d994f3%20%3D%20L.tileLayer%28%0A%20%20%20%20%20%20%20%20%20%20%20%20%20%20%20%20%22https%3A//earthengine.googleapis.com/v1alpha/projects/earthengine-legacy/maps/609bcc280c51151988946a320fbbdfb1-cabeb2469e17a71427733986657b10ff/tiles/%7Bz%7D/%7Bx%7D/%7By%7D%22%2C%0A%20%20%20%20%20%20%20%20%20%20%20%20%20%20%20%20%7B%22attribution%22%3A%20%22Google%20Earth%20Engine%22%2C%20%22detectRetina%22%3A%20false%2C%20%22maxNativeZoom%22%3A%2018%2C%20%22maxZoom%22%3A%2018%2C%20%22minZoom%22%3A%200%2C%20%22noWrap%22%3A%20false%2C%20%22opacity%22%3A%201.0%2C%20%22subdomains%22%3A%20%22abc%22%2C%20%22tms%22%3A%20false%7D%0A%20%20%20%20%20%20%20%20%20%20%20%20%29.addTo%28map_bc0da4ce7b2541a3b0487fd42d779884%29%3B%0A%20%20%20%20%20%20%20%20%0A%20%20%20%20%0A%20%20%20%20%20%20%20%20%20%20%20%20var%20tile_layer_b910c2ac974a46f593d9204a47a0be1b%20%3D%20L.tileLayer%28%0A%20%20%20%20%20%20%20%20%20%20%20%20%20%20%20%20%22https%3A//earthengine.googleapis.com/v1alpha/projects/earthengine-legacy/maps/848086b4df10cee88e232eeea4266e18-440084b4fb12e03d917bb3df354405c5/tiles/%7Bz%7D/%7Bx%7D/%7By%7D%22%2C%0A%20%20%20%20%20%20%20%20%20%20%20%20%20%20%20%20%7B%22attribution%22%3A%20%22Google%20Earth%20Engine%22%2C%20%22detectRetina%22%3A%20false%2C%20%22maxNativeZoom%22%3A%2018%2C%20%22maxZoom%22%3A%2018%2C%20%22minZoom%22%3A%200%2C%20%22noWrap%22%3A%20false%2C%20%22opacity%22%3A%201.0%2C%20%22subdomains%22%3A%20%22abc%22%2C%20%22tms%22%3A%20false%7D%0A%20%20%20%20%20%20%20%20%20%20%20%20%29.addTo%28map_bc0da4ce7b2541a3b0487fd42d779884%29%3B%0A%20%20%20%20%20%20%20%20%0A%20%20%20%20%0A%20%20%20%20%20%20%20%20%20%20%20%20var%20tile_layer_a659644870c04bff9051049bdcbec233%20%3D%20L.tileLayer%28%0A%20%20%20%20%20%20%20%20%20%20%20%20%20%20%20%20%22https%3A//earthengine.googleapis.com/v1alpha/projects/earthengine-legacy/maps/dfec89f1ef514b5c2da0ded2318bc65b-edf4f08722eb94c22811b1ba008c0797/tiles/%7Bz%7D/%7Bx%7D/%7By%7D%22%2C%0A%20%20%20%20%20%20%20%20%20%20%20%20%20%20%20%20%7B%22attribution%22%3A%20%22Google%20Earth%20Engine%22%2C%20%22detectRetina%22%3A%20false%2C%20%22maxNativeZoom%22%3A%2018%2C%20%22maxZoom%22%3A%2018%2C%20%22minZoom%22%3A%200%2C%20%22noWrap%22%3A%20false%2C%20%22opacity%22%3A%201.0%2C%20%22subdomains%22%3A%20%22abc%22%2C%20%22tms%22%3A%20false%7D%0A%20%20%20%20%20%20%20%20%20%20%20%20%29.addTo%28map_bc0da4ce7b2541a3b0487fd42d779884%29%3B%0A%20%20%20%20%20%20%20%20%0A%20%20%20%20%0A%20%20%20%20%20%20%20%20%20%20%20%20var%20layer_control_f4339509d0284a46b3a2566e1f8f8d51%20%3D%20%7B%0A%20%20%20%20%20%20%20%20%20%20%20%20%20%20%20%20base_layers%20%3A%20%7B%0A%20%20%20%20%20%20%20%20%20%20%20%20%20%20%20%20%20%20%20%20%22openstreetmap%22%20%3A%20tile_layer_ce99d25c1a324a3fb6402649cdda22c3%2C%0A%20%20%20%20%20%20%20%20%20%20%20%20%20%20%20%20%7D%2C%0A%20%20%20%20%20%20%20%20%20%20%20%20%20%20%20%20overlays%20%3A%20%20%7B%0A%20%20%20%20%20%20%20%20%20%20%20%20%20%20%20%20%20%20%20%20%22Google%20Maps%22%20%3A%20tile_layer_334fcaf454e1421397247101bb70c19b%2C%0A%20%20%20%20%20%20%20%20%20%20%20%20%20%20%20%20%20%20%20%20%22B1%22%20%3A%20tile_layer_1ab61a43ad7e4dfab8a5acacb0c4f984%2C%0A%20%20%20%20%20%20%20%20%20%20%20%20%20%20%20%20%20%20%20%20%22B2%22%20%3A%20tile_layer_490ae733b51348e688d1065e244e16bd%2C%0A%20%20%20%20%20%20%20%20%20%20%20%20%20%20%20%20%20%20%20%20%22B3%22%20%3A%20tile_layer_bed0d0f1e2ea41cc8bd05a3868b8ad62%2C%0A%20%20%20%20%20%20%20%20%20%20%20%20%20%20%20%20%20%20%20%20%22B4%22%20%3A%20tile_layer_bfd8cc7bc83247968666ac273d0c48e3%2C%0A%20%20%20%20%20%20%20%20%20%20%20%20%20%20%20%20%20%20%20%20%22B5%22%20%3A%20tile_layer_c2a20726bc5d4c4eab4582a254ac4575%2C%0A%20%20%20%20%20%20%20%20%20%20%20%20%20%20%20%20%20%20%20%20%22B6%22%20%3A%20tile_layer_17b78091cca3470bb6f9b4815a25b61a%2C%0A%20%20%20%20%20%20%20%20%20%20%20%20%20%20%20%20%20%20%20%20%22B7%22%20%3A%20tile_layer_04bf4fe69892488ea3c69d29876d9463%2C%0A%20%20%20%20%20%20%20%20%20%20%20%20%20%20%20%20%20%20%20%20%22B10%22%20%3A%20tile_layer_517797bb18fc4dcdb02eae11bbff8909%2C%0A%20%20%20%20%20%20%20%20%20%20%20%20%20%20%20%20%20%20%20%20%22B11%22%20%3A%20tile_layer_c1af7d1a082c4058b1fe7692b512987c%2C%0A%20%20%20%20%20%20%20%20%20%20%20%20%20%20%20%20%20%20%20%20%22sr_aerosol%22%20%3A%20tile_layer_b008b1ea213d441c91c94fd80c3f3b5e%2C%0A%20%20%20%20%20%20%20%20%20%20%20%20%20%20%20%20%20%20%20%20%22pixel_qa%22%20%3A%20tile_layer_8869b09bf9704ad6835b8187a7d994f3%2C%0A%20%20%20%20%20%20%20%20%20%20%20%20%20%20%20%20%20%20%20%20%22radsat_qa%22%20%3A%20tile_layer_b910c2ac974a46f593d9204a47a0be1b%2C%0A%20%20%20%20%20%20%20%20%20%20%20%20%20%20%20%20%20%20%20%20%22ndvi%22%20%3A%20tile_layer_a659644870c04bff9051049bdcbec233%2C%0A%20%20%20%20%20%20%20%20%20%20%20%20%20%20%20%20%7D%2C%0A%20%20%20%20%20%20%20%20%20%20%20%20%7D%3B%0A%20%20%20%20%20%20%20%20%20%20%20%20L.control.layers%28%0A%20%20%20%20%20%20%20%20%20%20%20%20%20%20%20%20layer_control_f4339509d0284a46b3a2566e1f8f8d51.base_layers%2C%0A%20%20%20%20%20%20%20%20%20%20%20%20%20%20%20%20layer_control_f4339509d0284a46b3a2566e1f8f8d51.overlays%2C%0A%20%20%20%20%20%20%20%20%20%20%20%20%20%20%20%20%7B%22autoZIndex%22%3A%20true%2C%20%22collapsed%22%3A%20true%2C%20%22position%22%3A%20%22topright%22%7D%0A%20%20%20%20%20%20%20%20%20%20%20%20%29.addTo%28map_bc0da4ce7b2541a3b0487fd42d779884%29%3B%0A%20%20%20%20%20%20%20%20%20%20%20%20tile_layer_1ab61a43ad7e4dfab8a5acacb0c4f984.remove%28%29%3B%0A%20%20%20%20%20%20%20%20%20%20%20%20tile_layer_490ae733b51348e688d1065e244e16bd.remove%28%29%3B%0A%20%20%20%20%20%20%20%20%20%20%20%20tile_layer_bed0d0f1e2ea41cc8bd05a3868b8ad62.remove%28%29%3B%0A%20%20%20%20%20%20%20%20%20%20%20%20tile_layer_bfd8cc7bc83247968666ac273d0c48e3.remove%28%29%3B%0A%20%20%20%20%20%20%20%20%20%20%20%20tile_layer_c2a20726bc5d4c4eab4582a254ac4575.remove%28%29%3B%0A%20%20%20%20%20%20%20%20%20%20%20%20tile_layer_17b78091cca3470bb6f9b4815a25b61a.remove%28%29%3B%0A%20%20%20%20%20%20%20%20%20%20%20%20tile_layer_04bf4fe69892488ea3c69d29876d9463.remove%28%29%3B%0A%20%20%20%20%20%20%20%20%20%20%20%20tile_layer_517797bb18fc4dcdb02eae11bbff8909.remove%28%29%3B%0A%20%20%20%20%20%20%20%20%20%20%20%20tile_layer_c1af7d1a082c4058b1fe7692b512987c.remove%28%29%3B%0A%20%20%20%20%20%20%20%20%20%20%20%20tile_layer_b008b1ea213d441c91c94fd80c3f3b5e.remove%28%29%3B%0A%20%20%20%20%20%20%20%20%20%20%20%20tile_layer_8869b09bf9704ad6835b8187a7d994f3.remove%28%29%3B%0A%20%20%20%20%20%20%20%20%20%20%20%20tile_layer_b910c2ac974a46f593d9204a47a0be1b.remove%28%29%3B%0A%20%20%20%20%20%20%20%20%0A%3C/script%3E onload=\"this.contentDocument.open();this.contentDocument.write(    decodeURIComponent(this.getAttribute('data-html')));this.contentDocument.close();\" allowfullscreen webkitallowfullscreen mozallowfullscreen></iframe></div></div>"
            ],
            "text/plain": [
              "<geemap.eefolium.Map at 0x7fcb576a4750>"
            ]
          },
          "metadata": {
            "tags": []
          },
          "execution_count": 20
        }
      ]
    },
    {
      "cell_type": "markdown",
      "metadata": {
        "id": "DtmA7VUQp8bA"
      },
      "source": [
        "### VCF from MODIS"
      ]
    },
    {
      "cell_type": "code",
      "metadata": {
        "colab": {
          "base_uri": "https://localhost:8080/"
        },
        "id": "FSZV2i1jp5Kt",
        "outputId": "b6f25924-8b95-46af-8b21-d75e6f1eb99c"
      },
      "source": [
        "modis = (ee.ImageCollection('MODIS/006/MOD44B')\n",
        "           .filterDate(*years)\n",
        "           .filterBounds(roi)\n",
        "           .select('Percent_Tree_Cover')\n",
        "           .first())\n",
        "\n",
        "type(modis)"
      ],
      "execution_count": 21,
      "outputs": [
        {
          "output_type": "execute_result",
          "data": {
            "text/plain": [
              "ee.image.Image"
            ]
          },
          "metadata": {
            "tags": []
          },
          "execution_count": 21
        }
      ]
    },
    {
      "cell_type": "markdown",
      "metadata": {
        "id": "JeZVcVJYuGi4"
      },
      "source": [
        "## Run the prediction\n",
        "\n",
        "Not clear on this so it's removed for now:\n",
        "\n",
        "```python\n",
        "prior_mean = [0.06491638, -26.63132179, 0.05590800, -29.64091620]\n",
        "prior_mean_int = ee.Number(6.07)\n",
        "prediction = (ee.Image(prior_mean_int)\n",
        "              #.add((Fmod_tc_aoi.multiply(prior_mean[0]))\n",
        "              .add(s1.select('radar_volume_index').multiply(prior_mean[1]))\n",
        "              .add(l8sr.select('ndvi').multiply(prior_mean[2]))\n",
        "              #.add(smooth.select('constant').multiply(prior_mean[3]))))\n",
        "              ).clip(roi)\n",
        "predx = prediction.exp()\n",
        "pred_final = ee.Image(predx.divide(predx.add(1)))\n",
        "type(pred_final)\n",
        "```"
      ]
    },
    {
      "cell_type": "markdown",
      "metadata": {
        "id": "23D_pxua4vNX"
      },
      "source": [
        "### Build the stack\n",
        "\n",
        ">Documentation for the image method *clipToBoundsAndScale* is helpful to understanding this step in GEE: https://developers.google.com/earth-engine/apidocs/ee-image-cliptoboundsandscale\n",
        ">\n",
        ">But I ended up using regular *clip* for now.\n",
        ">\n",
        ">Also see this information on compositing and image projections:      \n",
        ">https://developers.google.com/earth-engine/guides/projections#the-default-projection\n",
        "\n",
        "Configure preferences here to determine how the stack is created with a common grid. All imagery *added* to the stack using the *ee.Image.addBands* method will inherit the projection and scale of the parent image."
      ]
    },
    {
      "cell_type": "code",
      "metadata": {
        "colab": {
          "base_uri": "https://localhost:8080/"
        },
        "id": "kGIE-wl3ZJU2",
        "outputId": "15c7de49-cf62-4815-a5b2-981f118791e1"
      },
      "source": [
        "def prepare_image(image, pre: str, crs: str=\"EPSG:4326\", scale: int=30):\n",
        "    renamed = image.rename([f'{pre}-{b}' for b in image.bandNames().getInfo()])\n",
        "    return renamed.setDefaultProjection(crs=crs, scale=scale).clip(roi)\n",
        "\n",
        "s1out = prepare_image(image=s1out, pre=\"S1\")\n",
        "alos2out = prepare_image(image=alos2out, pre=\"ALOS2\")\n",
        "l8out = prepare_image(image=l8out, pre=\"L8\")\n",
        "modis = prepare_image(image=modis, pre=\"MODIS\")\n",
        "\n",
        "stack = None  # Assemble the stack in a loop.\n",
        "for i in [s1out, alos2out, l8out, modis]:\n",
        "    if stack is not None:\n",
        "        stack = stack.addBands(i)\n",
        "    else:\n",
        "        stack = i\n",
        "\n",
        "type(stack)"
      ],
      "execution_count": 22,
      "outputs": [
        {
          "output_type": "execute_result",
          "data": {
            "text/plain": [
              "ee.image.Image"
            ]
          },
          "metadata": {
            "tags": []
          },
          "execution_count": 22
        }
      ]
    },
    {
      "cell_type": "markdown",
      "metadata": {
        "id": "hf0D1wSxEjUc"
      },
      "source": [
        "Generate rough stats about all bands in the stack."
      ]
    },
    {
      "cell_type": "code",
      "metadata": {
        "colab": {
          "base_uri": "https://localhost:8080/",
          "height": 677
        },
        "id": "iYOklzUaY49B",
        "outputId": "b4538de6-3387-4a02-f8d1-647bae50cb38"
      },
      "source": [
        "stack_stats = pd.DataFrame(get_stats(stack, scale=500))\n",
        "\n",
        "stack_stats"
      ],
      "execution_count": 23,
      "outputs": [
        {
          "output_type": "execute_result",
          "data": {
            "text/html": [
              "<div>\n",
              "<style scoped>\n",
              "    .dataframe tbody tr th:only-of-type {\n",
              "        vertical-align: middle;\n",
              "    }\n",
              "\n",
              "    .dataframe tbody tr th {\n",
              "        vertical-align: top;\n",
              "    }\n",
              "\n",
              "    .dataframe thead th {\n",
              "        text-align: right;\n",
              "    }\n",
              "</style>\n",
              "<table border=\"1\" class=\"dataframe\">\n",
              "  <thead>\n",
              "    <tr style=\"text-align: right;\">\n",
              "      <th></th>\n",
              "      <th>max</th>\n",
              "      <th>mean</th>\n",
              "      <th>min</th>\n",
              "      <th>std</th>\n",
              "      <th>sum</th>\n",
              "    </tr>\n",
              "  </thead>\n",
              "  <tbody>\n",
              "    <tr>\n",
              "      <th>ALOS2-HH</th>\n",
              "      <td>32349.000000</td>\n",
              "      <td>6691.016643</td>\n",
              "      <td>844.000000</td>\n",
              "      <td>1253.527563</td>\n",
              "      <td>1.890375e+09</td>\n",
              "    </tr>\n",
              "    <tr>\n",
              "      <th>ALOS2-HV</th>\n",
              "      <td>16654.000000</td>\n",
              "      <td>3760.244466</td>\n",
              "      <td>317.000000</td>\n",
              "      <td>877.089124</td>\n",
              "      <td>1.062360e+09</td>\n",
              "    </tr>\n",
              "    <tr>\n",
              "      <th>ALOS2-radar_volume_index</th>\n",
              "      <td>1.706744</td>\n",
              "      <td>1.429725</td>\n",
              "      <td>0.311985</td>\n",
              "      <td>0.141228</td>\n",
              "      <td>4.039321e+05</td>\n",
              "    </tr>\n",
              "    <tr>\n",
              "      <th>L8-B1</th>\n",
              "      <td>8864.000000</td>\n",
              "      <td>279.431814</td>\n",
              "      <td>-999.000000</td>\n",
              "      <td>308.443599</td>\n",
              "      <td>6.784970e+07</td>\n",
              "    </tr>\n",
              "    <tr>\n",
              "      <th>L8-B10</th>\n",
              "      <td>3089.000000</td>\n",
              "      <td>2923.127373</td>\n",
              "      <td>2606.000000</td>\n",
              "      <td>31.296906</td>\n",
              "      <td>7.097736e+08</td>\n",
              "    </tr>\n",
              "    <tr>\n",
              "      <th>L8-B11</th>\n",
              "      <td>3060.000000</td>\n",
              "      <td>2897.599636</td>\n",
              "      <td>2609.000000</td>\n",
              "      <td>28.489068</td>\n",
              "      <td>7.035751e+08</td>\n",
              "    </tr>\n",
              "    <tr>\n",
              "      <th>L8-B2</th>\n",
              "      <td>8902.000000</td>\n",
              "      <td>326.189632</td>\n",
              "      <td>-731.000000</td>\n",
              "      <td>312.551332</td>\n",
              "      <td>7.920311e+07</td>\n",
              "    </tr>\n",
              "    <tr>\n",
              "      <th>L8-B3</th>\n",
              "      <td>8872.000000</td>\n",
              "      <td>568.998756</td>\n",
              "      <td>-158.000000</td>\n",
              "      <td>340.020739</td>\n",
              "      <td>1.381603e+08</td>\n",
              "    </tr>\n",
              "    <tr>\n",
              "      <th>L8-B4</th>\n",
              "      <td>8928.000000</td>\n",
              "      <td>434.191482</td>\n",
              "      <td>-304.000000</td>\n",
              "      <td>354.881632</td>\n",
              "      <td>1.054274e+08</td>\n",
              "    </tr>\n",
              "    <tr>\n",
              "      <th>L8-B5</th>\n",
              "      <td>9148.000000</td>\n",
              "      <td>3049.482867</td>\n",
              "      <td>68.500000</td>\n",
              "      <td>658.561315</td>\n",
              "      <td>7.404544e+08</td>\n",
              "    </tr>\n",
              "    <tr>\n",
              "      <th>L8-B6</th>\n",
              "      <td>7715.000000</td>\n",
              "      <td>1564.511209</td>\n",
              "      <td>24.000000</td>\n",
              "      <td>452.028054</td>\n",
              "      <td>3.798838e+08</td>\n",
              "    </tr>\n",
              "    <tr>\n",
              "      <th>L8-B7</th>\n",
              "      <td>6024.000000</td>\n",
              "      <td>768.571718</td>\n",
              "      <td>10.000000</td>\n",
              "      <td>380.218221</td>\n",
              "      <td>1.866193e+08</td>\n",
              "    </tr>\n",
              "    <tr>\n",
              "      <th>L8-ndvi</th>\n",
              "      <td>1.000000</td>\n",
              "      <td>0.757051</td>\n",
              "      <td>-0.535593</td>\n",
              "      <td>0.141381</td>\n",
              "      <td>1.837803e+05</td>\n",
              "    </tr>\n",
              "    <tr>\n",
              "      <th>L8-pixel_qa</th>\n",
              "      <td>912.000000</td>\n",
              "      <td>324.706626</td>\n",
              "      <td>322.000000</td>\n",
              "      <td>30.087836</td>\n",
              "      <td>7.884302e+07</td>\n",
              "    </tr>\n",
              "    <tr>\n",
              "      <th>L8-radsat_qa</th>\n",
              "      <td>0.000000</td>\n",
              "      <td>0.000000</td>\n",
              "      <td>0.000000</td>\n",
              "      <td>0.000000</td>\n",
              "      <td>0.000000e+00</td>\n",
              "    </tr>\n",
              "    <tr>\n",
              "      <th>L8-sr_aerosol</th>\n",
              "      <td>228.000000</td>\n",
              "      <td>139.016479</td>\n",
              "      <td>8.000000</td>\n",
              "      <td>52.171213</td>\n",
              "      <td>3.375502e+07</td>\n",
              "    </tr>\n",
              "    <tr>\n",
              "      <th>MODIS-Percent_Tree_Cover</th>\n",
              "      <td>88.000000</td>\n",
              "      <td>55.289593</td>\n",
              "      <td>0.000000</td>\n",
              "      <td>23.692354</td>\n",
              "      <td>1.556125e+07</td>\n",
              "    </tr>\n",
              "    <tr>\n",
              "      <th>S1-VH</th>\n",
              "      <td>1.305084</td>\n",
              "      <td>0.057524</td>\n",
              "      <td>0.002381</td>\n",
              "      <td>0.048404</td>\n",
              "      <td>1.625180e+04</td>\n",
              "    </tr>\n",
              "    <tr>\n",
              "      <th>S1-VV</th>\n",
              "      <td>6.830228</td>\n",
              "      <td>0.273779</td>\n",
              "      <td>0.004322</td>\n",
              "      <td>0.256514</td>\n",
              "      <td>7.734924e+04</td>\n",
              "    </tr>\n",
              "    <tr>\n",
              "      <th>S1-radar_volume_index</th>\n",
              "      <td>2.088968</td>\n",
              "      <td>0.719036</td>\n",
              "      <td>0.083921</td>\n",
              "      <td>0.070816</td>\n",
              "      <td>2.031452e+05</td>\n",
              "    </tr>\n",
              "  </tbody>\n",
              "</table>\n",
              "</div>"
            ],
            "text/plain": [
              "                                   max         mean  ...          std           sum\n",
              "ALOS2-HH                  32349.000000  6691.016643  ...  1253.527563  1.890375e+09\n",
              "ALOS2-HV                  16654.000000  3760.244466  ...   877.089124  1.062360e+09\n",
              "ALOS2-radar_volume_index      1.706744     1.429725  ...     0.141228  4.039321e+05\n",
              "L8-B1                      8864.000000   279.431814  ...   308.443599  6.784970e+07\n",
              "L8-B10                     3089.000000  2923.127373  ...    31.296906  7.097736e+08\n",
              "L8-B11                     3060.000000  2897.599636  ...    28.489068  7.035751e+08\n",
              "L8-B2                      8902.000000   326.189632  ...   312.551332  7.920311e+07\n",
              "L8-B3                      8872.000000   568.998756  ...   340.020739  1.381603e+08\n",
              "L8-B4                      8928.000000   434.191482  ...   354.881632  1.054274e+08\n",
              "L8-B5                      9148.000000  3049.482867  ...   658.561315  7.404544e+08\n",
              "L8-B6                      7715.000000  1564.511209  ...   452.028054  3.798838e+08\n",
              "L8-B7                      6024.000000   768.571718  ...   380.218221  1.866193e+08\n",
              "L8-ndvi                       1.000000     0.757051  ...     0.141381  1.837803e+05\n",
              "L8-pixel_qa                 912.000000   324.706626  ...    30.087836  7.884302e+07\n",
              "L8-radsat_qa                  0.000000     0.000000  ...     0.000000  0.000000e+00\n",
              "L8-sr_aerosol               228.000000   139.016479  ...    52.171213  3.375502e+07\n",
              "MODIS-Percent_Tree_Cover     88.000000    55.289593  ...    23.692354  1.556125e+07\n",
              "S1-VH                         1.305084     0.057524  ...     0.048404  1.625180e+04\n",
              "S1-VV                         6.830228     0.273779  ...     0.256514  7.734924e+04\n",
              "S1-radar_volume_index         2.088968     0.719036  ...     0.070816  2.031452e+05\n",
              "\n",
              "[20 rows x 5 columns]"
            ]
          },
          "metadata": {
            "tags": []
          },
          "execution_count": 23
        }
      ]
    },
    {
      "cell_type": "markdown",
      "metadata": {
        "id": "gfqvh-Htdpk2"
      },
      "source": [
        "Get some information about the spatial properties of the stack."
      ]
    },
    {
      "cell_type": "code",
      "metadata": {
        "id": "BU7HWnDndojC"
      },
      "source": [
        "#stack.select(\"MODIS-Percent_Tree_Cover\").projection().nominalScale().getInfo()"
      ],
      "execution_count": 24,
      "outputs": []
    },
    {
      "cell_type": "markdown",
      "metadata": {
        "id": "9QirCsr52IA0"
      },
      "source": [
        "Draw a map of all the bands with *geemap*."
      ]
    },
    {
      "cell_type": "code",
      "metadata": {
        "colab": {
          "base_uri": "https://localhost:8080/",
          "height": 837
        },
        "id": "5wY6hqQDVDd5",
        "outputId": "1560eba2-6c57-4e56-df9d-97c708d0cba5"
      },
      "source": [
        "def allstyle(b: str, vis_params: dict={}, shown: bool=False):\n",
        "    if b.endswith(\"radar_volume_index\"):\n",
        "        vis_params = stack_stats.loc[b][['min','max']].to_dict()\n",
        "        shown = True\n",
        "    if b.endswith(\"ndvi\"):\n",
        "        vis_params = {'min': -1.0, 'max':  1.0, 'palette': 'red,yellow,green'}\n",
        "        shown = True\n",
        "    return {'name': b, 'viz_params': vis_params, 'shown': shown}\n",
        "\n",
        "drawMap(image=stack, style_func=allstyle, center=roi_center, zoom=7)"
      ],
      "execution_count": 25,
      "outputs": [
        {
          "output_type": "execute_result",
          "data": {
            "text/html": [
              "<div style=\"width:100%;\"><div style=\"position:relative;width:100%;height:0;padding-bottom:60%;\"><span style=\"color:#565656\">Make this Notebook Trusted to load map: File -> Trust Notebook</span><iframe src=\"about:blank\" style=\"position:absolute;width:100%;height:100%;left:0;top:0;border:none !important;\" data-html=%3C%21DOCTYPE%20html%3E%0A%3Chead%3E%20%20%20%20%0A%20%20%20%20%3Cmeta%20http-equiv%3D%22content-type%22%20content%3D%22text/html%3B%20charset%3DUTF-8%22%20/%3E%0A%20%20%20%20%0A%20%20%20%20%20%20%20%20%3Cscript%3E%0A%20%20%20%20%20%20%20%20%20%20%20%20L_NO_TOUCH%20%3D%20false%3B%0A%20%20%20%20%20%20%20%20%20%20%20%20L_DISABLE_3D%20%3D%20false%3B%0A%20%20%20%20%20%20%20%20%3C/script%3E%0A%20%20%20%20%0A%20%20%20%20%3Cstyle%3Ehtml%2C%20body%20%7Bwidth%3A%20100%25%3Bheight%3A%20100%25%3Bmargin%3A%200%3Bpadding%3A%200%3B%7D%3C/style%3E%0A%20%20%20%20%3Cstyle%3E%23map%20%7Bposition%3Aabsolute%3Btop%3A0%3Bbottom%3A0%3Bright%3A0%3Bleft%3A0%3B%7D%3C/style%3E%0A%20%20%20%20%3Cscript%20src%3D%22https%3A//cdn.jsdelivr.net/npm/leaflet%401.6.0/dist/leaflet.js%22%3E%3C/script%3E%0A%20%20%20%20%3Cscript%20src%3D%22https%3A//code.jquery.com/jquery-1.12.4.min.js%22%3E%3C/script%3E%0A%20%20%20%20%3Cscript%20src%3D%22https%3A//maxcdn.bootstrapcdn.com/bootstrap/3.2.0/js/bootstrap.min.js%22%3E%3C/script%3E%0A%20%20%20%20%3Cscript%20src%3D%22https%3A//cdnjs.cloudflare.com/ajax/libs/Leaflet.awesome-markers/2.0.2/leaflet.awesome-markers.js%22%3E%3C/script%3E%0A%20%20%20%20%3Clink%20rel%3D%22stylesheet%22%20href%3D%22https%3A//cdn.jsdelivr.net/npm/leaflet%401.6.0/dist/leaflet.css%22/%3E%0A%20%20%20%20%3Clink%20rel%3D%22stylesheet%22%20href%3D%22https%3A//maxcdn.bootstrapcdn.com/bootstrap/3.2.0/css/bootstrap.min.css%22/%3E%0A%20%20%20%20%3Clink%20rel%3D%22stylesheet%22%20href%3D%22https%3A//maxcdn.bootstrapcdn.com/bootstrap/3.2.0/css/bootstrap-theme.min.css%22/%3E%0A%20%20%20%20%3Clink%20rel%3D%22stylesheet%22%20href%3D%22https%3A//maxcdn.bootstrapcdn.com/font-awesome/4.6.3/css/font-awesome.min.css%22/%3E%0A%20%20%20%20%3Clink%20rel%3D%22stylesheet%22%20href%3D%22https%3A//cdnjs.cloudflare.com/ajax/libs/Leaflet.awesome-markers/2.0.2/leaflet.awesome-markers.css%22/%3E%0A%20%20%20%20%3Clink%20rel%3D%22stylesheet%22%20href%3D%22https%3A//cdn.jsdelivr.net/gh/python-visualization/folium/folium/templates/leaflet.awesome.rotate.min.css%22/%3E%0A%20%20%20%20%0A%20%20%20%20%20%20%20%20%20%20%20%20%3Cmeta%20name%3D%22viewport%22%20content%3D%22width%3Ddevice-width%2C%0A%20%20%20%20%20%20%20%20%20%20%20%20%20%20%20%20initial-scale%3D1.0%2C%20maximum-scale%3D1.0%2C%20user-scalable%3Dno%22%20/%3E%0A%20%20%20%20%20%20%20%20%20%20%20%20%3Cstyle%3E%0A%20%20%20%20%20%20%20%20%20%20%20%20%20%20%20%20%23map_82b8261b41d64c849c0dec121cd1b3ea%20%7B%0A%20%20%20%20%20%20%20%20%20%20%20%20%20%20%20%20%20%20%20%20position%3A%20relative%3B%0A%20%20%20%20%20%20%20%20%20%20%20%20%20%20%20%20%20%20%20%20width%3A%20100.0%25%3B%0A%20%20%20%20%20%20%20%20%20%20%20%20%20%20%20%20%20%20%20%20height%3A%20100.0%25%3B%0A%20%20%20%20%20%20%20%20%20%20%20%20%20%20%20%20%20%20%20%20left%3A%200.0%25%3B%0A%20%20%20%20%20%20%20%20%20%20%20%20%20%20%20%20%20%20%20%20top%3A%200.0%25%3B%0A%20%20%20%20%20%20%20%20%20%20%20%20%20%20%20%20%7D%0A%20%20%20%20%20%20%20%20%20%20%20%20%3C/style%3E%0A%20%20%20%20%20%20%20%20%0A%20%20%20%20%3Cscript%20src%3D%22https%3A//cdnjs.cloudflare.com/ajax/libs/leaflet.fullscreen/1.4.2/Control.FullScreen.min.js%22%3E%3C/script%3E%0A%20%20%20%20%3Clink%20rel%3D%22stylesheet%22%20href%3D%22https%3A//cdnjs.cloudflare.com/ajax/libs/leaflet.fullscreen/1.4.2/Control.FullScreen.min.css%22/%3E%0A%3C/head%3E%0A%3Cbody%3E%20%20%20%20%0A%20%20%20%20%0A%20%20%20%20%20%20%20%20%20%20%20%20%3Cdiv%20class%3D%22folium-map%22%20id%3D%22map_82b8261b41d64c849c0dec121cd1b3ea%22%20%3E%3C/div%3E%0A%20%20%20%20%20%20%20%20%0A%3C/body%3E%0A%3Cscript%3E%20%20%20%20%0A%20%20%20%20%0A%20%20%20%20%20%20%20%20%20%20%20%20var%20map_82b8261b41d64c849c0dec121cd1b3ea%20%3D%20L.map%28%0A%20%20%20%20%20%20%20%20%20%20%20%20%20%20%20%20%22map_82b8261b41d64c849c0dec121cd1b3ea%22%2C%0A%20%20%20%20%20%20%20%20%20%20%20%20%20%20%20%20%7B%0A%20%20%20%20%20%20%20%20%20%20%20%20%20%20%20%20%20%20%20%20center%3A%20%5B-7.132673861109996%2C%20-76.61272973500003%5D%2C%0A%20%20%20%20%20%20%20%20%20%20%20%20%20%20%20%20%20%20%20%20crs%3A%20L.CRS.EPSG3857%2C%0A%20%20%20%20%20%20%20%20%20%20%20%20%20%20%20%20%20%20%20%20zoom%3A%207%2C%0A%20%20%20%20%20%20%20%20%20%20%20%20%20%20%20%20%20%20%20%20zoomControl%3A%20true%2C%0A%20%20%20%20%20%20%20%20%20%20%20%20%20%20%20%20%20%20%20%20preferCanvas%3A%20false%2C%0A%20%20%20%20%20%20%20%20%20%20%20%20%20%20%20%20%20%20%20%20eeInitialize%3A%20true%2C%0A%20%20%20%20%20%20%20%20%20%20%20%20%20%20%20%20%20%20%20%20addGoogleMap%3A%20true%2C%0A%20%20%20%20%20%20%20%20%20%20%20%20%20%20%20%20%20%20%20%20pluginLatlngpopup%3A%20true%2C%0A%20%20%20%20%20%20%20%20%20%20%20%20%20%20%20%20%20%20%20%20pluginFullscreen%3A%20true%2C%0A%20%20%20%20%20%20%20%20%20%20%20%20%20%20%20%20%20%20%20%20pluginDraw%3A%20false%2C%0A%20%20%20%20%20%20%20%20%20%20%20%20%20%20%20%20%20%20%20%20DrawExport%3A%20true%2C%0A%20%20%20%20%20%20%20%20%20%20%20%20%20%20%20%20%20%20%20%20pluginMinimap%3A%20false%2C%0A%20%20%20%20%20%20%20%20%20%20%20%20%20%20%20%20%20%20%20%20pluginLayercontrol%3A%20false%2C%0A%20%20%20%20%20%20%20%20%20%20%20%20%20%20%20%20%7D%0A%20%20%20%20%20%20%20%20%20%20%20%20%29%3B%0A%0A%20%20%20%20%20%20%20%20%20%20%20%20%0A%0A%20%20%20%20%20%20%20%20%0A%20%20%20%20%0A%20%20%20%20%20%20%20%20%20%20%20%20var%20tile_layer_ead98615e8a443c690295a05c1e70c1b%20%3D%20L.tileLayer%28%0A%20%20%20%20%20%20%20%20%20%20%20%20%20%20%20%20%22https%3A//%7Bs%7D.tile.openstreetmap.org/%7Bz%7D/%7Bx%7D/%7By%7D.png%22%2C%0A%20%20%20%20%20%20%20%20%20%20%20%20%20%20%20%20%7B%22attribution%22%3A%20%22Data%20by%20%5Cu0026copy%3B%20%5Cu003ca%20href%3D%5C%22http%3A//openstreetmap.org%5C%22%5Cu003eOpenStreetMap%5Cu003c/a%5Cu003e%2C%20under%20%5Cu003ca%20href%3D%5C%22http%3A//www.openstreetmap.org/copyright%5C%22%5Cu003eODbL%5Cu003c/a%5Cu003e.%22%2C%20%22detectRetina%22%3A%20false%2C%20%22maxNativeZoom%22%3A%2018%2C%20%22maxZoom%22%3A%2018%2C%20%22minZoom%22%3A%200%2C%20%22noWrap%22%3A%20false%2C%20%22opacity%22%3A%201%2C%20%22subdomains%22%3A%20%22abc%22%2C%20%22tms%22%3A%20false%7D%0A%20%20%20%20%20%20%20%20%20%20%20%20%29.addTo%28map_82b8261b41d64c849c0dec121cd1b3ea%29%3B%0A%20%20%20%20%20%20%20%20%0A%20%20%20%20%0A%20%20%20%20%20%20%20%20%20%20%20%20var%20tile_layer_334fcaf454e1421397247101bb70c19b%20%3D%20L.tileLayer%28%0A%20%20%20%20%20%20%20%20%20%20%20%20%20%20%20%20%22https%3A//mt1.google.com/vt/lyrs%3Dm%5Cu0026x%3D%7Bx%7D%5Cu0026y%3D%7By%7D%5Cu0026z%3D%7Bz%7D%22%2C%0A%20%20%20%20%20%20%20%20%20%20%20%20%20%20%20%20%7B%22attribution%22%3A%20%22Google%22%2C%20%22detectRetina%22%3A%20false%2C%20%22maxNativeZoom%22%3A%2018%2C%20%22maxZoom%22%3A%2018%2C%20%22minZoom%22%3A%200%2C%20%22noWrap%22%3A%20false%2C%20%22opacity%22%3A%201%2C%20%22subdomains%22%3A%20%22abc%22%2C%20%22tms%22%3A%20false%7D%0A%20%20%20%20%20%20%20%20%20%20%20%20%29.addTo%28map_82b8261b41d64c849c0dec121cd1b3ea%29%3B%0A%20%20%20%20%20%20%20%20%0A%20%20%20%20%0A%20%20%20%20%20%20%20%20%20%20%20%20%20%20%20%20var%20lat_lng_popup_135c14fc23bd45389082666d2b0a8cd2%20%3D%20L.popup%28%29%3B%0A%20%20%20%20%20%20%20%20%20%20%20%20%20%20%20%20function%20latLngPop%28e%29%20%7B%0A%20%20%20%20%20%20%20%20%20%20%20%20%20%20%20%20%20%20%20%20lat_lng_popup_135c14fc23bd45389082666d2b0a8cd2%0A%20%20%20%20%20%20%20%20%20%20%20%20%20%20%20%20%20%20%20%20%20%20%20%20.setLatLng%28e.latlng%29%0A%20%20%20%20%20%20%20%20%20%20%20%20%20%20%20%20%20%20%20%20%20%20%20%20.setContent%28%22Latitude%3A%20%22%20%2B%20e.latlng.lat.toFixed%284%29%20%2B%0A%20%20%20%20%20%20%20%20%20%20%20%20%20%20%20%20%20%20%20%20%20%20%20%20%20%20%20%20%20%20%20%20%20%20%20%20%22%3Cbr%3ELongitude%3A%20%22%20%2B%20e.latlng.lng.toFixed%284%29%29%0A%20%20%20%20%20%20%20%20%20%20%20%20%20%20%20%20%20%20%20%20%20%20%20%20.openOn%28map_82b8261b41d64c849c0dec121cd1b3ea%29%3B%0A%20%20%20%20%20%20%20%20%20%20%20%20%20%20%20%20%20%20%20%20%7D%0A%20%20%20%20%20%20%20%20%20%20%20%20%20%20%20%20map_82b8261b41d64c849c0dec121cd1b3ea.on%28%27click%27%2C%20latLngPop%29%3B%0A%20%20%20%20%20%20%20%20%20%20%20%20%0A%20%20%20%20%0A%20%20%20%20%20%20%20%20%20%20%20%20L.control.fullscreen%28%0A%20%20%20%20%20%20%20%20%20%20%20%20%20%20%20%20%7B%22forceSeparateButton%22%3A%20false%2C%20%22position%22%3A%20%22topleft%22%2C%20%22title%22%3A%20%22Full%20Screen%22%2C%20%22titleCancel%22%3A%20%22Exit%20Full%20Screen%22%7D%0A%20%20%20%20%20%20%20%20%20%20%20%20%29.addTo%28map_82b8261b41d64c849c0dec121cd1b3ea%29%3B%0A%20%20%20%20%20%20%20%20%0A%20%20%20%20%0A%20%20%20%20%20%20%20%20%20%20%20%20map_82b8261b41d64c849c0dec121cd1b3ea.fitBounds%28%0A%20%20%20%20%20%20%20%20%20%20%20%20%20%20%20%20%5B%5B-7.132673861109996%2C%20-76.61272973500003%5D%2C%20%5B-7.132673861109996%2C%20-76.61272973500003%5D%5D%2C%0A%20%20%20%20%20%20%20%20%20%20%20%20%20%20%20%20%7B%22maxZoom%22%3A%207%7D%0A%20%20%20%20%20%20%20%20%20%20%20%20%29%3B%0A%20%20%20%20%20%20%20%20%0A%20%20%20%20%0A%20%20%20%20%20%20%20%20%20%20%20%20var%20tile_layer_d2c755ef5b384b0eb53b4ae981d216f4%20%3D%20L.tileLayer%28%0A%20%20%20%20%20%20%20%20%20%20%20%20%20%20%20%20%22https%3A//earthengine.googleapis.com/v1alpha/projects/earthengine-legacy/maps/615ae4c000b8d04111df20daed3bc8e9-f5c152d2ecf32e607f8bd7f434698b6e/tiles/%7Bz%7D/%7Bx%7D/%7By%7D%22%2C%0A%20%20%20%20%20%20%20%20%20%20%20%20%20%20%20%20%7B%22attribution%22%3A%20%22Google%20Earth%20Engine%22%2C%20%22detectRetina%22%3A%20false%2C%20%22maxNativeZoom%22%3A%2018%2C%20%22maxZoom%22%3A%2018%2C%20%22minZoom%22%3A%200%2C%20%22noWrap%22%3A%20false%2C%20%22opacity%22%3A%201.0%2C%20%22subdomains%22%3A%20%22abc%22%2C%20%22tms%22%3A%20false%2C%20%22vizParams%22%3A%20%7B%7D%7D%0A%20%20%20%20%20%20%20%20%20%20%20%20%29.addTo%28map_82b8261b41d64c849c0dec121cd1b3ea%29%3B%0A%20%20%20%20%20%20%20%20%0A%20%20%20%20%0A%20%20%20%20%20%20%20%20%20%20%20%20var%20tile_layer_b17519eb7a284da4ace7b9e7986af028%20%3D%20L.tileLayer%28%0A%20%20%20%20%20%20%20%20%20%20%20%20%20%20%20%20%22https%3A//earthengine.googleapis.com/v1alpha/projects/earthengine-legacy/maps/c6c466dc21c1830a9176c67a9de0d8be-5253d5cece0890d8fb7f7d9455a33b0e/tiles/%7Bz%7D/%7Bx%7D/%7By%7D%22%2C%0A%20%20%20%20%20%20%20%20%20%20%20%20%20%20%20%20%7B%22attribution%22%3A%20%22Google%20Earth%20Engine%22%2C%20%22detectRetina%22%3A%20false%2C%20%22maxNativeZoom%22%3A%2018%2C%20%22maxZoom%22%3A%2018%2C%20%22minZoom%22%3A%200%2C%20%22noWrap%22%3A%20false%2C%20%22opacity%22%3A%201.0%2C%20%22subdomains%22%3A%20%22abc%22%2C%20%22tms%22%3A%20false%2C%20%22vizParams%22%3A%20%7B%7D%7D%0A%20%20%20%20%20%20%20%20%20%20%20%20%29.addTo%28map_82b8261b41d64c849c0dec121cd1b3ea%29%3B%0A%20%20%20%20%20%20%20%20%0A%20%20%20%20%0A%20%20%20%20%20%20%20%20%20%20%20%20var%20tile_layer_6634d10984b84d17808e796342cccdbb%20%3D%20L.tileLayer%28%0A%20%20%20%20%20%20%20%20%20%20%20%20%20%20%20%20%22https%3A//earthengine.googleapis.com/v1alpha/projects/earthengine-legacy/maps/c19197c5c6c192c1a2ff09876a62bfd2-43e19c9cbf09e7954bc57afeff0e9a8f/tiles/%7Bz%7D/%7Bx%7D/%7By%7D%22%2C%0A%20%20%20%20%20%20%20%20%20%20%20%20%20%20%20%20%7B%22attribution%22%3A%20%22Google%20Earth%20Engine%22%2C%20%22detectRetina%22%3A%20false%2C%20%22maxNativeZoom%22%3A%2018%2C%20%22maxZoom%22%3A%2018%2C%20%22minZoom%22%3A%200%2C%20%22noWrap%22%3A%20false%2C%20%22opacity%22%3A%201.0%2C%20%22subdomains%22%3A%20%22abc%22%2C%20%22tms%22%3A%20false%2C%20%22vizParams%22%3A%20%7B%22max%22%3A%202.088968275340941%2C%20%22min%22%3A%200.08392099165526531%7D%7D%0A%20%20%20%20%20%20%20%20%20%20%20%20%29.addTo%28map_82b8261b41d64c849c0dec121cd1b3ea%29%3B%0A%20%20%20%20%20%20%20%20%0A%20%20%20%20%0A%20%20%20%20%20%20%20%20%20%20%20%20var%20tile_layer_9c19b74772dd4502966284dc121acdfd%20%3D%20L.tileLayer%28%0A%20%20%20%20%20%20%20%20%20%20%20%20%20%20%20%20%22https%3A//earthengine.googleapis.com/v1alpha/projects/earthengine-legacy/maps/a66c3a806c43a059092e6c93452512f0-27c65db9bb6a270a6fae2622450da260/tiles/%7Bz%7D/%7Bx%7D/%7By%7D%22%2C%0A%20%20%20%20%20%20%20%20%20%20%20%20%20%20%20%20%7B%22attribution%22%3A%20%22Google%20Earth%20Engine%22%2C%20%22detectRetina%22%3A%20false%2C%20%22maxNativeZoom%22%3A%2018%2C%20%22maxZoom%22%3A%2018%2C%20%22minZoom%22%3A%200%2C%20%22noWrap%22%3A%20false%2C%20%22opacity%22%3A%201.0%2C%20%22subdomains%22%3A%20%22abc%22%2C%20%22tms%22%3A%20false%2C%20%22vizParams%22%3A%20%7B%7D%7D%0A%20%20%20%20%20%20%20%20%20%20%20%20%29.addTo%28map_82b8261b41d64c849c0dec121cd1b3ea%29%3B%0A%20%20%20%20%20%20%20%20%0A%20%20%20%20%0A%20%20%20%20%20%20%20%20%20%20%20%20var%20tile_layer_8831dbf330e449e5bbfa9d7834eb6b32%20%3D%20L.tileLayer%28%0A%20%20%20%20%20%20%20%20%20%20%20%20%20%20%20%20%22https%3A//earthengine.googleapis.com/v1alpha/projects/earthengine-legacy/maps/0a824e334a97b8d9fd54d0ba968f2840-6b1534a759aec6ff446ab0a94154f7a1/tiles/%7Bz%7D/%7Bx%7D/%7By%7D%22%2C%0A%20%20%20%20%20%20%20%20%20%20%20%20%20%20%20%20%7B%22attribution%22%3A%20%22Google%20Earth%20Engine%22%2C%20%22detectRetina%22%3A%20false%2C%20%22maxNativeZoom%22%3A%2018%2C%20%22maxZoom%22%3A%2018%2C%20%22minZoom%22%3A%200%2C%20%22noWrap%22%3A%20false%2C%20%22opacity%22%3A%201.0%2C%20%22subdomains%22%3A%20%22abc%22%2C%20%22tms%22%3A%20false%2C%20%22vizParams%22%3A%20%7B%7D%7D%0A%20%20%20%20%20%20%20%20%20%20%20%20%29.addTo%28map_82b8261b41d64c849c0dec121cd1b3ea%29%3B%0A%20%20%20%20%20%20%20%20%0A%20%20%20%20%0A%20%20%20%20%20%20%20%20%20%20%20%20var%20tile_layer_e9d74fe267b04c58a9be5f3583df7a26%20%3D%20L.tileLayer%28%0A%20%20%20%20%20%20%20%20%20%20%20%20%20%20%20%20%22https%3A//earthengine.googleapis.com/v1alpha/projects/earthengine-legacy/maps/280b2962cf077557e08e0f712087a1cc-229a1e14cc4499681fc4c6bdb464aca6/tiles/%7Bz%7D/%7Bx%7D/%7By%7D%22%2C%0A%20%20%20%20%20%20%20%20%20%20%20%20%20%20%20%20%7B%22attribution%22%3A%20%22Google%20Earth%20Engine%22%2C%20%22detectRetina%22%3A%20false%2C%20%22maxNativeZoom%22%3A%2018%2C%20%22maxZoom%22%3A%2018%2C%20%22minZoom%22%3A%200%2C%20%22noWrap%22%3A%20false%2C%20%22opacity%22%3A%201.0%2C%20%22subdomains%22%3A%20%22abc%22%2C%20%22tms%22%3A%20false%2C%20%22vizParams%22%3A%20%7B%22max%22%3A%201.706744418015806%2C%20%22min%22%3A%200.3119852727448891%7D%7D%0A%20%20%20%20%20%20%20%20%20%20%20%20%29.addTo%28map_82b8261b41d64c849c0dec121cd1b3ea%29%3B%0A%20%20%20%20%20%20%20%20%0A%20%20%20%20%0A%20%20%20%20%20%20%20%20%20%20%20%20var%20tile_layer_bc4bd17fadcb4e229615503e8d4763f8%20%3D%20L.tileLayer%28%0A%20%20%20%20%20%20%20%20%20%20%20%20%20%20%20%20%22https%3A//earthengine.googleapis.com/v1alpha/projects/earthengine-legacy/maps/2ca18d6e4f09dc85448bf187d7bcb3d0-bc33358a81e264278539266221bb72e5/tiles/%7Bz%7D/%7Bx%7D/%7By%7D%22%2C%0A%20%20%20%20%20%20%20%20%20%20%20%20%20%20%20%20%7B%22attribution%22%3A%20%22Google%20Earth%20Engine%22%2C%20%22detectRetina%22%3A%20false%2C%20%22maxNativeZoom%22%3A%2018%2C%20%22maxZoom%22%3A%2018%2C%20%22minZoom%22%3A%200%2C%20%22noWrap%22%3A%20false%2C%20%22opacity%22%3A%201.0%2C%20%22subdomains%22%3A%20%22abc%22%2C%20%22tms%22%3A%20false%2C%20%22vizParams%22%3A%20%7B%7D%7D%0A%20%20%20%20%20%20%20%20%20%20%20%20%29.addTo%28map_82b8261b41d64c849c0dec121cd1b3ea%29%3B%0A%20%20%20%20%20%20%20%20%0A%20%20%20%20%0A%20%20%20%20%20%20%20%20%20%20%20%20var%20tile_layer_94e927cf2ed8487283922dd41feda783%20%3D%20L.tileLayer%28%0A%20%20%20%20%20%20%20%20%20%20%20%20%20%20%20%20%22https%3A//earthengine.googleapis.com/v1alpha/projects/earthengine-legacy/maps/410a902576135ae15b5b92538d01c22f-f655d01c88bfc291ee0dd672a8a71ca8/tiles/%7Bz%7D/%7Bx%7D/%7By%7D%22%2C%0A%20%20%20%20%20%20%20%20%20%20%20%20%20%20%20%20%7B%22attribution%22%3A%20%22Google%20Earth%20Engine%22%2C%20%22detectRetina%22%3A%20false%2C%20%22maxNativeZoom%22%3A%2018%2C%20%22maxZoom%22%3A%2018%2C%20%22minZoom%22%3A%200%2C%20%22noWrap%22%3A%20false%2C%20%22opacity%22%3A%201.0%2C%20%22subdomains%22%3A%20%22abc%22%2C%20%22tms%22%3A%20false%2C%20%22vizParams%22%3A%20%7B%7D%7D%0A%20%20%20%20%20%20%20%20%20%20%20%20%29.addTo%28map_82b8261b41d64c849c0dec121cd1b3ea%29%3B%0A%20%20%20%20%20%20%20%20%0A%20%20%20%20%0A%20%20%20%20%20%20%20%20%20%20%20%20var%20tile_layer_91a2b68e0b854ac18bc5fe71b74752e2%20%3D%20L.tileLayer%28%0A%20%20%20%20%20%20%20%20%20%20%20%20%20%20%20%20%22https%3A//earthengine.googleapis.com/v1alpha/projects/earthengine-legacy/maps/a9f582866015507d70b1f7e80853ee86-a3e307be9f97564cc4cc4837f555228c/tiles/%7Bz%7D/%7Bx%7D/%7By%7D%22%2C%0A%20%20%20%20%20%20%20%20%20%20%20%20%20%20%20%20%7B%22attribution%22%3A%20%22Google%20Earth%20Engine%22%2C%20%22detectRetina%22%3A%20false%2C%20%22maxNativeZoom%22%3A%2018%2C%20%22maxZoom%22%3A%2018%2C%20%22minZoom%22%3A%200%2C%20%22noWrap%22%3A%20false%2C%20%22opacity%22%3A%201.0%2C%20%22subdomains%22%3A%20%22abc%22%2C%20%22tms%22%3A%20false%2C%20%22vizParams%22%3A%20%7B%7D%7D%0A%20%20%20%20%20%20%20%20%20%20%20%20%29.addTo%28map_82b8261b41d64c849c0dec121cd1b3ea%29%3B%0A%20%20%20%20%20%20%20%20%0A%20%20%20%20%0A%20%20%20%20%20%20%20%20%20%20%20%20var%20tile_layer_1029cc8dfb6b4d59a29dea2ecd179a63%20%3D%20L.tileLayer%28%0A%20%20%20%20%20%20%20%20%20%20%20%20%20%20%20%20%22https%3A//earthengine.googleapis.com/v1alpha/projects/earthengine-legacy/maps/149bbc21391fcafa17414265a116b5e7-9e208a183eb2ad98bf458eecf901c5d8/tiles/%7Bz%7D/%7Bx%7D/%7By%7D%22%2C%0A%20%20%20%20%20%20%20%20%20%20%20%20%20%20%20%20%7B%22attribution%22%3A%20%22Google%20Earth%20Engine%22%2C%20%22detectRetina%22%3A%20false%2C%20%22maxNativeZoom%22%3A%2018%2C%20%22maxZoom%22%3A%2018%2C%20%22minZoom%22%3A%200%2C%20%22noWrap%22%3A%20false%2C%20%22opacity%22%3A%201.0%2C%20%22subdomains%22%3A%20%22abc%22%2C%20%22tms%22%3A%20false%2C%20%22vizParams%22%3A%20%7B%7D%7D%0A%20%20%20%20%20%20%20%20%20%20%20%20%29.addTo%28map_82b8261b41d64c849c0dec121cd1b3ea%29%3B%0A%20%20%20%20%20%20%20%20%0A%20%20%20%20%0A%20%20%20%20%20%20%20%20%20%20%20%20var%20tile_layer_fface1fae7304c9ca66fe2f12541fad1%20%3D%20L.tileLayer%28%0A%20%20%20%20%20%20%20%20%20%20%20%20%20%20%20%20%22https%3A//earthengine.googleapis.com/v1alpha/projects/earthengine-legacy/maps/5e37f7e5217ef6e0e947efd90edd571a-0dea6f9a5231a68c9687e0785c1476d5/tiles/%7Bz%7D/%7Bx%7D/%7By%7D%22%2C%0A%20%20%20%20%20%20%20%20%20%20%20%20%20%20%20%20%7B%22attribution%22%3A%20%22Google%20Earth%20Engine%22%2C%20%22detectRetina%22%3A%20false%2C%20%22maxNativeZoom%22%3A%2018%2C%20%22maxZoom%22%3A%2018%2C%20%22minZoom%22%3A%200%2C%20%22noWrap%22%3A%20false%2C%20%22opacity%22%3A%201.0%2C%20%22subdomains%22%3A%20%22abc%22%2C%20%22tms%22%3A%20false%2C%20%22vizParams%22%3A%20%7B%7D%7D%0A%20%20%20%20%20%20%20%20%20%20%20%20%29.addTo%28map_82b8261b41d64c849c0dec121cd1b3ea%29%3B%0A%20%20%20%20%20%20%20%20%0A%20%20%20%20%0A%20%20%20%20%20%20%20%20%20%20%20%20var%20tile_layer_f78169768593471ebe4edafe4542bfcb%20%3D%20L.tileLayer%28%0A%20%20%20%20%20%20%20%20%20%20%20%20%20%20%20%20%22https%3A//earthengine.googleapis.com/v1alpha/projects/earthengine-legacy/maps/2737c50da592c127c1e6e1cadef98261-d76ea28ecd2f2be1b6e764e8ba72664e/tiles/%7Bz%7D/%7Bx%7D/%7By%7D%22%2C%0A%20%20%20%20%20%20%20%20%20%20%20%20%20%20%20%20%7B%22attribution%22%3A%20%22Google%20Earth%20Engine%22%2C%20%22detectRetina%22%3A%20false%2C%20%22maxNativeZoom%22%3A%2018%2C%20%22maxZoom%22%3A%2018%2C%20%22minZoom%22%3A%200%2C%20%22noWrap%22%3A%20false%2C%20%22opacity%22%3A%201.0%2C%20%22subdomains%22%3A%20%22abc%22%2C%20%22tms%22%3A%20false%2C%20%22vizParams%22%3A%20%7B%7D%7D%0A%20%20%20%20%20%20%20%20%20%20%20%20%29.addTo%28map_82b8261b41d64c849c0dec121cd1b3ea%29%3B%0A%20%20%20%20%20%20%20%20%0A%20%20%20%20%0A%20%20%20%20%20%20%20%20%20%20%20%20var%20tile_layer_ba205aef753f4366abf74898bd339eec%20%3D%20L.tileLayer%28%0A%20%20%20%20%20%20%20%20%20%20%20%20%20%20%20%20%22https%3A//earthengine.googleapis.com/v1alpha/projects/earthengine-legacy/maps/5011e1d9e09ac407046e07f6f6d2d6f8-86ae1048cda9dc86ebc2b15cc1c138f7/tiles/%7Bz%7D/%7Bx%7D/%7By%7D%22%2C%0A%20%20%20%20%20%20%20%20%20%20%20%20%20%20%20%20%7B%22attribution%22%3A%20%22Google%20Earth%20Engine%22%2C%20%22detectRetina%22%3A%20false%2C%20%22maxNativeZoom%22%3A%2018%2C%20%22maxZoom%22%3A%2018%2C%20%22minZoom%22%3A%200%2C%20%22noWrap%22%3A%20false%2C%20%22opacity%22%3A%201.0%2C%20%22subdomains%22%3A%20%22abc%22%2C%20%22tms%22%3A%20false%2C%20%22vizParams%22%3A%20%7B%7D%7D%0A%20%20%20%20%20%20%20%20%20%20%20%20%29.addTo%28map_82b8261b41d64c849c0dec121cd1b3ea%29%3B%0A%20%20%20%20%20%20%20%20%0A%20%20%20%20%0A%20%20%20%20%20%20%20%20%20%20%20%20var%20tile_layer_a39af6237b2740e99cdb21864cbbf1e7%20%3D%20L.tileLayer%28%0A%20%20%20%20%20%20%20%20%20%20%20%20%20%20%20%20%22https%3A//earthengine.googleapis.com/v1alpha/projects/earthengine-legacy/maps/e3e4d90610b64c7fbb6aa60f3c20d81d-f1495c9ff3f2e3fa60281654018feb2b/tiles/%7Bz%7D/%7Bx%7D/%7By%7D%22%2C%0A%20%20%20%20%20%20%20%20%20%20%20%20%20%20%20%20%7B%22attribution%22%3A%20%22Google%20Earth%20Engine%22%2C%20%22detectRetina%22%3A%20false%2C%20%22maxNativeZoom%22%3A%2018%2C%20%22maxZoom%22%3A%2018%2C%20%22minZoom%22%3A%200%2C%20%22noWrap%22%3A%20false%2C%20%22opacity%22%3A%201.0%2C%20%22subdomains%22%3A%20%22abc%22%2C%20%22tms%22%3A%20false%2C%20%22vizParams%22%3A%20%7B%7D%7D%0A%20%20%20%20%20%20%20%20%20%20%20%20%29.addTo%28map_82b8261b41d64c849c0dec121cd1b3ea%29%3B%0A%20%20%20%20%20%20%20%20%0A%20%20%20%20%0A%20%20%20%20%20%20%20%20%20%20%20%20var%20tile_layer_0f49099df37b463cafb79b4109e82a98%20%3D%20L.tileLayer%28%0A%20%20%20%20%20%20%20%20%20%20%20%20%20%20%20%20%22https%3A//earthengine.googleapis.com/v1alpha/projects/earthengine-legacy/maps/5c11de0d0cc02f2e70edf43e10b50656-a40a05cbd0186ae03189eadc0909a8d2/tiles/%7Bz%7D/%7Bx%7D/%7By%7D%22%2C%0A%20%20%20%20%20%20%20%20%20%20%20%20%20%20%20%20%7B%22attribution%22%3A%20%22Google%20Earth%20Engine%22%2C%20%22detectRetina%22%3A%20false%2C%20%22maxNativeZoom%22%3A%2018%2C%20%22maxZoom%22%3A%2018%2C%20%22minZoom%22%3A%200%2C%20%22noWrap%22%3A%20false%2C%20%22opacity%22%3A%201.0%2C%20%22subdomains%22%3A%20%22abc%22%2C%20%22tms%22%3A%20false%2C%20%22vizParams%22%3A%20%7B%7D%7D%0A%20%20%20%20%20%20%20%20%20%20%20%20%29.addTo%28map_82b8261b41d64c849c0dec121cd1b3ea%29%3B%0A%20%20%20%20%20%20%20%20%0A%20%20%20%20%0A%20%20%20%20%20%20%20%20%20%20%20%20var%20tile_layer_314e3e013c494c52913e008902ae03b3%20%3D%20L.tileLayer%28%0A%20%20%20%20%20%20%20%20%20%20%20%20%20%20%20%20%22https%3A//earthengine.googleapis.com/v1alpha/projects/earthengine-legacy/maps/ce093d4c3daefc9ec2335ae34a239060-ad7218cf9bf3e6fe160bc3a248df7685/tiles/%7Bz%7D/%7Bx%7D/%7By%7D%22%2C%0A%20%20%20%20%20%20%20%20%20%20%20%20%20%20%20%20%7B%22attribution%22%3A%20%22Google%20Earth%20Engine%22%2C%20%22detectRetina%22%3A%20false%2C%20%22maxNativeZoom%22%3A%2018%2C%20%22maxZoom%22%3A%2018%2C%20%22minZoom%22%3A%200%2C%20%22noWrap%22%3A%20false%2C%20%22opacity%22%3A%201.0%2C%20%22subdomains%22%3A%20%22abc%22%2C%20%22tms%22%3A%20false%2C%20%22vizParams%22%3A%20%7B%7D%7D%0A%20%20%20%20%20%20%20%20%20%20%20%20%29.addTo%28map_82b8261b41d64c849c0dec121cd1b3ea%29%3B%0A%20%20%20%20%20%20%20%20%0A%20%20%20%20%0A%20%20%20%20%20%20%20%20%20%20%20%20var%20tile_layer_95cf5ccae0ab48bfb47bda2eb54f8b7f%20%3D%20L.tileLayer%28%0A%20%20%20%20%20%20%20%20%20%20%20%20%20%20%20%20%22https%3A//earthengine.googleapis.com/v1alpha/projects/earthengine-legacy/maps/9bde233b610ae892284f5fe6c2963a38-910409b9233ca8adbb95dc7c4cd50e12/tiles/%7Bz%7D/%7Bx%7D/%7By%7D%22%2C%0A%20%20%20%20%20%20%20%20%20%20%20%20%20%20%20%20%7B%22attribution%22%3A%20%22Google%20Earth%20Engine%22%2C%20%22detectRetina%22%3A%20false%2C%20%22maxNativeZoom%22%3A%2018%2C%20%22maxZoom%22%3A%2018%2C%20%22minZoom%22%3A%200%2C%20%22noWrap%22%3A%20false%2C%20%22opacity%22%3A%201.0%2C%20%22subdomains%22%3A%20%22abc%22%2C%20%22tms%22%3A%20false%2C%20%22vizParams%22%3A%20%7B%7D%7D%0A%20%20%20%20%20%20%20%20%20%20%20%20%29.addTo%28map_82b8261b41d64c849c0dec121cd1b3ea%29%3B%0A%20%20%20%20%20%20%20%20%0A%20%20%20%20%0A%20%20%20%20%20%20%20%20%20%20%20%20var%20tile_layer_b1b9dc452a064f22a61c85b5208c7861%20%3D%20L.tileLayer%28%0A%20%20%20%20%20%20%20%20%20%20%20%20%20%20%20%20%22https%3A//earthengine.googleapis.com/v1alpha/projects/earthengine-legacy/maps/2c0172028ebea28eabbe34dd0fdd110a-9206de7c0bc2bfe5f2c17d873e52c29b/tiles/%7Bz%7D/%7Bx%7D/%7By%7D%22%2C%0A%20%20%20%20%20%20%20%20%20%20%20%20%20%20%20%20%7B%22attribution%22%3A%20%22Google%20Earth%20Engine%22%2C%20%22detectRetina%22%3A%20false%2C%20%22maxNativeZoom%22%3A%2018%2C%20%22maxZoom%22%3A%2018%2C%20%22minZoom%22%3A%200%2C%20%22noWrap%22%3A%20false%2C%20%22opacity%22%3A%201.0%2C%20%22subdomains%22%3A%20%22abc%22%2C%20%22tms%22%3A%20false%2C%20%22vizParams%22%3A%20%7B%7D%7D%0A%20%20%20%20%20%20%20%20%20%20%20%20%29.addTo%28map_82b8261b41d64c849c0dec121cd1b3ea%29%3B%0A%20%20%20%20%20%20%20%20%0A%20%20%20%20%0A%20%20%20%20%20%20%20%20%20%20%20%20var%20tile_layer_908906dcad4640e89e4df12572349ad5%20%3D%20L.tileLayer%28%0A%20%20%20%20%20%20%20%20%20%20%20%20%20%20%20%20%22https%3A//earthengine.googleapis.com/v1alpha/projects/earthengine-legacy/maps/73d137a789454bdbaefe83c2f99e1120-551a6b534d09b5b16dd73fb49dd157e2/tiles/%7Bz%7D/%7Bx%7D/%7By%7D%22%2C%0A%20%20%20%20%20%20%20%20%20%20%20%20%20%20%20%20%7B%22attribution%22%3A%20%22Google%20Earth%20Engine%22%2C%20%22detectRetina%22%3A%20false%2C%20%22maxNativeZoom%22%3A%2018%2C%20%22maxZoom%22%3A%2018%2C%20%22minZoom%22%3A%200%2C%20%22noWrap%22%3A%20false%2C%20%22opacity%22%3A%201.0%2C%20%22subdomains%22%3A%20%22abc%22%2C%20%22tms%22%3A%20false%2C%20%22vizParams%22%3A%20%7B%22max%22%3A%201.0%2C%20%22min%22%3A%20-1.0%2C%20%22palette%22%3A%20%22red%2Cyellow%2Cgreen%22%7D%7D%0A%20%20%20%20%20%20%20%20%20%20%20%20%29.addTo%28map_82b8261b41d64c849c0dec121cd1b3ea%29%3B%0A%20%20%20%20%20%20%20%20%0A%20%20%20%20%0A%20%20%20%20%20%20%20%20%20%20%20%20var%20tile_layer_6a7f26d6b8884150af6ebddc1dc9ab10%20%3D%20L.tileLayer%28%0A%20%20%20%20%20%20%20%20%20%20%20%20%20%20%20%20%22https%3A//earthengine.googleapis.com/v1alpha/projects/earthengine-legacy/maps/eef3b3e5f68351f33719ba866874a2b6-ddceebc45338fc87d57d3b62b9d5f7d2/tiles/%7Bz%7D/%7Bx%7D/%7By%7D%22%2C%0A%20%20%20%20%20%20%20%20%20%20%20%20%20%20%20%20%7B%22attribution%22%3A%20%22Google%20Earth%20Engine%22%2C%20%22detectRetina%22%3A%20false%2C%20%22maxNativeZoom%22%3A%2018%2C%20%22maxZoom%22%3A%2018%2C%20%22minZoom%22%3A%200%2C%20%22noWrap%22%3A%20false%2C%20%22opacity%22%3A%201.0%2C%20%22subdomains%22%3A%20%22abc%22%2C%20%22tms%22%3A%20false%2C%20%22vizParams%22%3A%20%7B%7D%7D%0A%20%20%20%20%20%20%20%20%20%20%20%20%29.addTo%28map_82b8261b41d64c849c0dec121cd1b3ea%29%3B%0A%20%20%20%20%20%20%20%20%0A%20%20%20%20%0A%20%20%20%20%20%20%20%20%20%20%20%20var%20layer_control_25e22418d7184905a1f42434d34aeffd%20%3D%20%7B%0A%20%20%20%20%20%20%20%20%20%20%20%20%20%20%20%20base_layers%20%3A%20%7B%0A%20%20%20%20%20%20%20%20%20%20%20%20%20%20%20%20%20%20%20%20%22openstreetmap%22%20%3A%20tile_layer_ead98615e8a443c690295a05c1e70c1b%2C%0A%20%20%20%20%20%20%20%20%20%20%20%20%20%20%20%20%7D%2C%0A%20%20%20%20%20%20%20%20%20%20%20%20%20%20%20%20overlays%20%3A%20%20%7B%0A%20%20%20%20%20%20%20%20%20%20%20%20%20%20%20%20%20%20%20%20%22Google%20Maps%22%20%3A%20tile_layer_334fcaf454e1421397247101bb70c19b%2C%0A%20%20%20%20%20%20%20%20%20%20%20%20%20%20%20%20%20%20%20%20%22S1-VV%22%20%3A%20tile_layer_d2c755ef5b384b0eb53b4ae981d216f4%2C%0A%20%20%20%20%20%20%20%20%20%20%20%20%20%20%20%20%20%20%20%20%22S1-VH%22%20%3A%20tile_layer_b17519eb7a284da4ace7b9e7986af028%2C%0A%20%20%20%20%20%20%20%20%20%20%20%20%20%20%20%20%20%20%20%20%22S1-radar_volume_index%22%20%3A%20tile_layer_6634d10984b84d17808e796342cccdbb%2C%0A%20%20%20%20%20%20%20%20%20%20%20%20%20%20%20%20%20%20%20%20%22ALOS2-HV%22%20%3A%20tile_layer_9c19b74772dd4502966284dc121acdfd%2C%0A%20%20%20%20%20%20%20%20%20%20%20%20%20%20%20%20%20%20%20%20%22ALOS2-HH%22%20%3A%20tile_layer_8831dbf330e449e5bbfa9d7834eb6b32%2C%0A%20%20%20%20%20%20%20%20%20%20%20%20%20%20%20%20%20%20%20%20%22ALOS2-radar_volume_index%22%20%3A%20tile_layer_e9d74fe267b04c58a9be5f3583df7a26%2C%0A%20%20%20%20%20%20%20%20%20%20%20%20%20%20%20%20%20%20%20%20%22L8-B1%22%20%3A%20tile_layer_bc4bd17fadcb4e229615503e8d4763f8%2C%0A%20%20%20%20%20%20%20%20%20%20%20%20%20%20%20%20%20%20%20%20%22L8-B2%22%20%3A%20tile_layer_94e927cf2ed8487283922dd41feda783%2C%0A%20%20%20%20%20%20%20%20%20%20%20%20%20%20%20%20%20%20%20%20%22L8-B3%22%20%3A%20tile_layer_91a2b68e0b854ac18bc5fe71b74752e2%2C%0A%20%20%20%20%20%20%20%20%20%20%20%20%20%20%20%20%20%20%20%20%22L8-B4%22%20%3A%20tile_layer_1029cc8dfb6b4d59a29dea2ecd179a63%2C%0A%20%20%20%20%20%20%20%20%20%20%20%20%20%20%20%20%20%20%20%20%22L8-B5%22%20%3A%20tile_layer_fface1fae7304c9ca66fe2f12541fad1%2C%0A%20%20%20%20%20%20%20%20%20%20%20%20%20%20%20%20%20%20%20%20%22L8-B6%22%20%3A%20tile_layer_f78169768593471ebe4edafe4542bfcb%2C%0A%20%20%20%20%20%20%20%20%20%20%20%20%20%20%20%20%20%20%20%20%22L8-B7%22%20%3A%20tile_layer_ba205aef753f4366abf74898bd339eec%2C%0A%20%20%20%20%20%20%20%20%20%20%20%20%20%20%20%20%20%20%20%20%22L8-B10%22%20%3A%20tile_layer_a39af6237b2740e99cdb21864cbbf1e7%2C%0A%20%20%20%20%20%20%20%20%20%20%20%20%20%20%20%20%20%20%20%20%22L8-B11%22%20%3A%20tile_layer_0f49099df37b463cafb79b4109e82a98%2C%0A%20%20%20%20%20%20%20%20%20%20%20%20%20%20%20%20%20%20%20%20%22L8-sr_aerosol%22%20%3A%20tile_layer_314e3e013c494c52913e008902ae03b3%2C%0A%20%20%20%20%20%20%20%20%20%20%20%20%20%20%20%20%20%20%20%20%22L8-pixel_qa%22%20%3A%20tile_layer_95cf5ccae0ab48bfb47bda2eb54f8b7f%2C%0A%20%20%20%20%20%20%20%20%20%20%20%20%20%20%20%20%20%20%20%20%22L8-radsat_qa%22%20%3A%20tile_layer_b1b9dc452a064f22a61c85b5208c7861%2C%0A%20%20%20%20%20%20%20%20%20%20%20%20%20%20%20%20%20%20%20%20%22L8-ndvi%22%20%3A%20tile_layer_908906dcad4640e89e4df12572349ad5%2C%0A%20%20%20%20%20%20%20%20%20%20%20%20%20%20%20%20%20%20%20%20%22MODIS-Percent_Tree_Cover%22%20%3A%20tile_layer_6a7f26d6b8884150af6ebddc1dc9ab10%2C%0A%20%20%20%20%20%20%20%20%20%20%20%20%20%20%20%20%7D%2C%0A%20%20%20%20%20%20%20%20%20%20%20%20%7D%3B%0A%20%20%20%20%20%20%20%20%20%20%20%20L.control.layers%28%0A%20%20%20%20%20%20%20%20%20%20%20%20%20%20%20%20layer_control_25e22418d7184905a1f42434d34aeffd.base_layers%2C%0A%20%20%20%20%20%20%20%20%20%20%20%20%20%20%20%20layer_control_25e22418d7184905a1f42434d34aeffd.overlays%2C%0A%20%20%20%20%20%20%20%20%20%20%20%20%20%20%20%20%7B%22autoZIndex%22%3A%20true%2C%20%22collapsed%22%3A%20true%2C%20%22position%22%3A%20%22topright%22%7D%0A%20%20%20%20%20%20%20%20%20%20%20%20%29.addTo%28map_82b8261b41d64c849c0dec121cd1b3ea%29%3B%0A%20%20%20%20%20%20%20%20%20%20%20%20tile_layer_d2c755ef5b384b0eb53b4ae981d216f4.remove%28%29%3B%0A%20%20%20%20%20%20%20%20%20%20%20%20tile_layer_b17519eb7a284da4ace7b9e7986af028.remove%28%29%3B%0A%20%20%20%20%20%20%20%20%20%20%20%20tile_layer_9c19b74772dd4502966284dc121acdfd.remove%28%29%3B%0A%20%20%20%20%20%20%20%20%20%20%20%20tile_layer_8831dbf330e449e5bbfa9d7834eb6b32.remove%28%29%3B%0A%20%20%20%20%20%20%20%20%20%20%20%20tile_layer_bc4bd17fadcb4e229615503e8d4763f8.remove%28%29%3B%0A%20%20%20%20%20%20%20%20%20%20%20%20tile_layer_94e927cf2ed8487283922dd41feda783.remove%28%29%3B%0A%20%20%20%20%20%20%20%20%20%20%20%20tile_layer_91a2b68e0b854ac18bc5fe71b74752e2.remove%28%29%3B%0A%20%20%20%20%20%20%20%20%20%20%20%20tile_layer_1029cc8dfb6b4d59a29dea2ecd179a63.remove%28%29%3B%0A%20%20%20%20%20%20%20%20%20%20%20%20tile_layer_fface1fae7304c9ca66fe2f12541fad1.remove%28%29%3B%0A%20%20%20%20%20%20%20%20%20%20%20%20tile_layer_f78169768593471ebe4edafe4542bfcb.remove%28%29%3B%0A%20%20%20%20%20%20%20%20%20%20%20%20tile_layer_ba205aef753f4366abf74898bd339eec.remove%28%29%3B%0A%20%20%20%20%20%20%20%20%20%20%20%20tile_layer_a39af6237b2740e99cdb21864cbbf1e7.remove%28%29%3B%0A%20%20%20%20%20%20%20%20%20%20%20%20tile_layer_0f49099df37b463cafb79b4109e82a98.remove%28%29%3B%0A%20%20%20%20%20%20%20%20%20%20%20%20tile_layer_314e3e013c494c52913e008902ae03b3.remove%28%29%3B%0A%20%20%20%20%20%20%20%20%20%20%20%20tile_layer_95cf5ccae0ab48bfb47bda2eb54f8b7f.remove%28%29%3B%0A%20%20%20%20%20%20%20%20%20%20%20%20tile_layer_b1b9dc452a064f22a61c85b5208c7861.remove%28%29%3B%0A%20%20%20%20%20%20%20%20%20%20%20%20tile_layer_6a7f26d6b8884150af6ebddc1dc9ab10.remove%28%29%3B%0A%20%20%20%20%20%20%20%20%0A%3C/script%3E onload=\"this.contentDocument.open();this.contentDocument.write(    decodeURIComponent(this.getAttribute('data-html')));this.contentDocument.close();\" allowfullscreen webkitallowfullscreen mozallowfullscreen></iframe></div></div>"
            ],
            "text/plain": [
              "<geemap.eefolium.Map at 0x7fcb5761b390>"
            ]
          },
          "metadata": {
            "tags": []
          },
          "execution_count": 25
        }
      ]
    },
    {
      "cell_type": "markdown",
      "metadata": {
        "id": "UGogwdelTZgl"
      },
      "source": [
        "Verify spatial referencing information by displaying a dictionary of SRS information for each band."
      ]
    },
    {
      "cell_type": "code",
      "metadata": {
        "id": "u7DQrnsmTaEF",
        "colab": {
          "base_uri": "https://localhost:8080/"
        },
        "outputId": "4e0adfe5-583f-44ae-c1d7-4e06974629a2"
      },
      "source": [
        "srs = {}\n",
        "for b in stack.bandNames().getInfo():\n",
        "    p = stack.select(b).projection()\n",
        "    srs[b] = p.getInfo()\n",
        "    srs[b]['nominalScale'] = p.nominalScale().getInfo()\n",
        "    del srs[b]['type']\n",
        "# All image have identical projections if this test returns true:\n",
        "len(list(set([str(p) for p in list(srs.values())]))) == 1"
      ],
      "execution_count": 26,
      "outputs": [
        {
          "output_type": "execute_result",
          "data": {
            "text/plain": [
              "True"
            ]
          },
          "metadata": {
            "tags": []
          },
          "execution_count": 26
        }
      ]
    },
    {
      "cell_type": "markdown",
      "metadata": {
        "id": "BMhDVsLFSdIm"
      },
      "source": [
        "## Zonal statistics\n",
        "\n",
        "Map over the feature collection after building the stack."
      ]
    },
    {
      "cell_type": "code",
      "metadata": {
        "colab": {
          "base_uri": "https://localhost:8080/"
        },
        "id": "mno2Xa0fWt9l",
        "outputId": "7cad7afe-c124-4fc7-858a-60571c44f4b5"
      },
      "source": [
        "outputs = stack.reduceRegions(collection=pfc,\n",
        "                              reducer=ee.Reducer.mean(),\n",
        "                              #crs=stack.projection(),\n",
        "                              scale=30)\n",
        "\n",
        "type(outputs)"
      ],
      "execution_count": 27,
      "outputs": [
        {
          "output_type": "execute_result",
          "data": {
            "text/plain": [
              "ee.featurecollection.FeatureCollection"
            ]
          },
          "metadata": {
            "tags": []
          },
          "execution_count": 27
        }
      ]
    },
    {
      "cell_type": "markdown",
      "metadata": {
        "id": "uhruVfpG3UPS"
      },
      "source": [
        "Get the new `ee.FeatureCollection` as a dictionary then call the *pandas* convenience function `json_normalize` to translate to a `pandas.DataFrame`. "
      ]
    },
    {
      "cell_type": "code",
      "metadata": {
        "colab": {
          "base_uri": "https://localhost:8080/",
          "height": 338
        },
        "id": "NHX80peec1Zh",
        "outputId": "597255ce-260a-475c-8737-d570825c42fd"
      },
      "source": [
        "outputs = pd.json_normalize(outputs.getInfo()['features'])\n",
        "\n",
        "outputs.describe()"
      ],
      "execution_count": 28,
      "outputs": [
        {
          "output_type": "execute_result",
          "data": {
            "text/html": [
              "<div>\n",
              "<style scoped>\n",
              "    .dataframe tbody tr th:only-of-type {\n",
              "        vertical-align: middle;\n",
              "    }\n",
              "\n",
              "    .dataframe tbody tr th {\n",
              "        vertical-align: top;\n",
              "    }\n",
              "\n",
              "    .dataframe thead th {\n",
              "        text-align: right;\n",
              "    }\n",
              "</style>\n",
              "<table border=\"1\" class=\"dataframe\">\n",
              "  <thead>\n",
              "    <tr style=\"text-align: right;\">\n",
              "      <th></th>\n",
              "      <th>properties.ALOS2-HH</th>\n",
              "      <th>properties.ALOS2-HV</th>\n",
              "      <th>properties.ALOS2-radar_volume_index</th>\n",
              "      <th>properties.L8-B1</th>\n",
              "      <th>properties.L8-B10</th>\n",
              "      <th>properties.L8-B11</th>\n",
              "      <th>properties.L8-B2</th>\n",
              "      <th>properties.L8-B3</th>\n",
              "      <th>properties.L8-B4</th>\n",
              "      <th>properties.L8-B5</th>\n",
              "      <th>properties.L8-B6</th>\n",
              "      <th>properties.L8-B7</th>\n",
              "      <th>properties.L8-ndvi</th>\n",
              "      <th>properties.L8-pixel_qa</th>\n",
              "      <th>properties.L8-radsat_qa</th>\n",
              "      <th>properties.L8-sr_aerosol</th>\n",
              "      <th>properties.MODIS-Percent_Tree_Cover</th>\n",
              "      <th>properties.S1-VH</th>\n",
              "      <th>properties.S1-VV</th>\n",
              "      <th>properties.S1-radar_volume_index</th>\n",
              "    </tr>\n",
              "  </thead>\n",
              "  <tbody>\n",
              "    <tr>\n",
              "      <th>count</th>\n",
              "      <td>99.000000</td>\n",
              "      <td>99.000000</td>\n",
              "      <td>99.000000</td>\n",
              "      <td>98.000000</td>\n",
              "      <td>98.000000</td>\n",
              "      <td>98.000000</td>\n",
              "      <td>98.000000</td>\n",
              "      <td>98.000000</td>\n",
              "      <td>98.000000</td>\n",
              "      <td>98.000000</td>\n",
              "      <td>98.000000</td>\n",
              "      <td>98.000000</td>\n",
              "      <td>97.000000</td>\n",
              "      <td>98.000000</td>\n",
              "      <td>98.0</td>\n",
              "      <td>98.000000</td>\n",
              "      <td>98.000000</td>\n",
              "      <td>99.000000</td>\n",
              "      <td>99.000000</td>\n",
              "      <td>99.000000</td>\n",
              "    </tr>\n",
              "    <tr>\n",
              "      <th>mean</th>\n",
              "      <td>6206.212121</td>\n",
              "      <td>2537.868687</td>\n",
              "      <td>1.181532</td>\n",
              "      <td>328.091837</td>\n",
              "      <td>2937.392857</td>\n",
              "      <td>2905.857143</td>\n",
              "      <td>370.872449</td>\n",
              "      <td>632.234694</td>\n",
              "      <td>500.785714</td>\n",
              "      <td>3258.994898</td>\n",
              "      <td>1694.520408</td>\n",
              "      <td>843.275510</td>\n",
              "      <td>0.717830</td>\n",
              "      <td>322.020408</td>\n",
              "      <td>0.0</td>\n",
              "      <td>148.204082</td>\n",
              "      <td>42.591837</td>\n",
              "      <td>0.036224</td>\n",
              "      <td>0.189030</td>\n",
              "      <td>0.680338</td>\n",
              "    </tr>\n",
              "    <tr>\n",
              "      <th>std</th>\n",
              "      <td>2771.084240</td>\n",
              "      <td>1114.151023</td>\n",
              "      <td>0.322871</td>\n",
              "      <td>205.914347</td>\n",
              "      <td>19.914929</td>\n",
              "      <td>16.127872</td>\n",
              "      <td>229.065710</td>\n",
              "      <td>302.660311</td>\n",
              "      <td>363.598496</td>\n",
              "      <td>899.380295</td>\n",
              "      <td>549.985407</td>\n",
              "      <td>468.016356</td>\n",
              "      <td>0.227795</td>\n",
              "      <td>0.202031</td>\n",
              "      <td>0.0</td>\n",
              "      <td>51.743212</td>\n",
              "      <td>24.901802</td>\n",
              "      <td>0.020770</td>\n",
              "      <td>0.102332</td>\n",
              "      <td>0.228091</td>\n",
              "    </tr>\n",
              "    <tr>\n",
              "      <th>min</th>\n",
              "      <td>894.000000</td>\n",
              "      <td>487.000000</td>\n",
              "      <td>0.279173</td>\n",
              "      <td>-310.000000</td>\n",
              "      <td>2843.000000</td>\n",
              "      <td>2852.000000</td>\n",
              "      <td>-190.000000</td>\n",
              "      <td>-65.000000</td>\n",
              "      <td>-12.000000</td>\n",
              "      <td>291.000000</td>\n",
              "      <td>164.500000</td>\n",
              "      <td>117.500000</td>\n",
              "      <td>-0.282382</td>\n",
              "      <td>322.000000</td>\n",
              "      <td>0.0</td>\n",
              "      <td>68.000000</td>\n",
              "      <td>4.000000</td>\n",
              "      <td>0.002358</td>\n",
              "      <td>0.008135</td>\n",
              "      <td>0.112101</td>\n",
              "    </tr>\n",
              "    <tr>\n",
              "      <th>25%</th>\n",
              "      <td>4734.500000</td>\n",
              "      <td>1935.500000</td>\n",
              "      <td>0.998658</td>\n",
              "      <td>197.500000</td>\n",
              "      <td>2929.625000</td>\n",
              "      <td>2897.625000</td>\n",
              "      <td>216.500000</td>\n",
              "      <td>400.375000</td>\n",
              "      <td>233.875000</td>\n",
              "      <td>2786.500000</td>\n",
              "      <td>1382.625000</td>\n",
              "      <td>518.375000</td>\n",
              "      <td>0.594579</td>\n",
              "      <td>322.000000</td>\n",
              "      <td>0.0</td>\n",
              "      <td>96.000000</td>\n",
              "      <td>19.500000</td>\n",
              "      <td>0.026829</td>\n",
              "      <td>0.120503</td>\n",
              "      <td>0.555444</td>\n",
              "    </tr>\n",
              "    <tr>\n",
              "      <th>50%</th>\n",
              "      <td>5947.000000</td>\n",
              "      <td>2506.000000</td>\n",
              "      <td>1.173162</td>\n",
              "      <td>301.750000</td>\n",
              "      <td>2940.750000</td>\n",
              "      <td>2909.000000</td>\n",
              "      <td>313.750000</td>\n",
              "      <td>575.750000</td>\n",
              "      <td>373.000000</td>\n",
              "      <td>3396.500000</td>\n",
              "      <td>1623.500000</td>\n",
              "      <td>691.250000</td>\n",
              "      <td>0.826921</td>\n",
              "      <td>322.000000</td>\n",
              "      <td>0.0</td>\n",
              "      <td>152.500000</td>\n",
              "      <td>39.500000</td>\n",
              "      <td>0.036689</td>\n",
              "      <td>0.189384</td>\n",
              "      <td>0.652357</td>\n",
              "    </tr>\n",
              "    <tr>\n",
              "      <th>75%</th>\n",
              "      <td>7340.000000</td>\n",
              "      <td>3138.000000</td>\n",
              "      <td>1.372365</td>\n",
              "      <td>423.750000</td>\n",
              "      <td>2947.875000</td>\n",
              "      <td>2916.500000</td>\n",
              "      <td>450.500000</td>\n",
              "      <td>819.875000</td>\n",
              "      <td>667.000000</td>\n",
              "      <td>3813.125000</td>\n",
              "      <td>1989.125000</td>\n",
              "      <td>1026.000000</td>\n",
              "      <td>0.880791</td>\n",
              "      <td>322.000000</td>\n",
              "      <td>0.0</td>\n",
              "      <td>192.000000</td>\n",
              "      <td>66.000000</td>\n",
              "      <td>0.042238</td>\n",
              "      <td>0.231536</td>\n",
              "      <td>0.783544</td>\n",
              "    </tr>\n",
              "    <tr>\n",
              "      <th>max</th>\n",
              "      <td>18923.000000</td>\n",
              "      <td>6586.000000</td>\n",
              "      <td>2.167319</td>\n",
              "      <td>1029.000000</td>\n",
              "      <td>2988.000000</td>\n",
              "      <td>2941.000000</td>\n",
              "      <td>1206.000000</td>\n",
              "      <td>1538.000000</td>\n",
              "      <td>1651.000000</td>\n",
              "      <td>5558.000000</td>\n",
              "      <td>3322.000000</td>\n",
              "      <td>2568.000000</td>\n",
              "      <td>0.906323</td>\n",
              "      <td>324.000000</td>\n",
              "      <td>0.0</td>\n",
              "      <td>228.000000</td>\n",
              "      <td>83.000000</td>\n",
              "      <td>0.177845</td>\n",
              "      <td>0.795750</td>\n",
              "      <td>2.247066</td>\n",
              "    </tr>\n",
              "  </tbody>\n",
              "</table>\n",
              "</div>"
            ],
            "text/plain": [
              "       properties.ALOS2-HH  ...  properties.S1-radar_volume_index\n",
              "count            99.000000  ...                         99.000000\n",
              "mean           6206.212121  ...                          0.680338\n",
              "std            2771.084240  ...                          0.228091\n",
              "min             894.000000  ...                          0.112101\n",
              "25%            4734.500000  ...                          0.555444\n",
              "50%            5947.000000  ...                          0.652357\n",
              "75%            7340.000000  ...                          0.783544\n",
              "max           18923.000000  ...                          2.247066\n",
              "\n",
              "[8 rows x 20 columns]"
            ]
          },
          "metadata": {
            "tags": []
          },
          "execution_count": 28
        }
      ]
    },
    {
      "cell_type": "markdown",
      "metadata": {
        "id": "kr680vob3zyx"
      },
      "source": [
        "Rename the columns according to the index in our *stack_stats* table from a few cells ago. (GEE appends the word \"properties\" fitting with common GIS convention.)\n",
        "\n",
        ">We could put some automated + hands-on validation routines at the bottom of the ipynb, e.g. a row-picker to render this table and a map widget next to it.\n",
        "\n",
        "Here's the first row of data after renaming the columns:"
      ]
    },
    {
      "cell_type": "code",
      "metadata": {
        "colab": {
          "base_uri": "https://localhost:8080/",
          "height": 802
        },
        "id": "aLjPplha3z62",
        "outputId": "12592508-f9d6-493f-c75b-2eefb448886a"
      },
      "source": [
        "outputs_names = {f\"properties.{i}\": i for i in stack_stats.index.tolist()}\n",
        "\n",
        "outputs = outputs.rename(mapper=outputs_names, axis=1)\n",
        "\n",
        "outputs.iloc[0].to_frame(name=\"ROW_0\")"
      ],
      "execution_count": 29,
      "outputs": [
        {
          "output_type": "execute_result",
          "data": {
            "text/html": [
              "<div>\n",
              "<style scoped>\n",
              "    .dataframe tbody tr th:only-of-type {\n",
              "        vertical-align: middle;\n",
              "    }\n",
              "\n",
              "    .dataframe tbody tr th {\n",
              "        vertical-align: top;\n",
              "    }\n",
              "\n",
              "    .dataframe thead th {\n",
              "        text-align: right;\n",
              "    }\n",
              "</style>\n",
              "<table border=\"1\" class=\"dataframe\">\n",
              "  <thead>\n",
              "    <tr style=\"text-align: right;\">\n",
              "      <th></th>\n",
              "      <th>ROW_0</th>\n",
              "    </tr>\n",
              "  </thead>\n",
              "  <tbody>\n",
              "    <tr>\n",
              "      <th>type</th>\n",
              "      <td>Feature</td>\n",
              "    </tr>\n",
              "    <tr>\n",
              "      <th>id</th>\n",
              "      <td>0</td>\n",
              "    </tr>\n",
              "    <tr>\n",
              "      <th>geometry.type</th>\n",
              "      <td>Point</td>\n",
              "    </tr>\n",
              "    <tr>\n",
              "      <th>geometry.coordinates</th>\n",
              "      <td>[-76.54613982, -8.220041421]</td>\n",
              "    </tr>\n",
              "    <tr>\n",
              "      <th>ALOS2-HH</th>\n",
              "      <td>15154</td>\n",
              "    </tr>\n",
              "    <tr>\n",
              "      <th>ALOS2-HV</th>\n",
              "      <td>1137</td>\n",
              "    </tr>\n",
              "    <tr>\n",
              "      <th>ALOS2-radar_volume_index</th>\n",
              "      <td>0.279173</td>\n",
              "    </tr>\n",
              "    <tr>\n",
              "      <th>L8-B1</th>\n",
              "      <td>743.5</td>\n",
              "    </tr>\n",
              "    <tr>\n",
              "      <th>L8-B10</th>\n",
              "      <td>2960</td>\n",
              "    </tr>\n",
              "    <tr>\n",
              "      <th>L8-B11</th>\n",
              "      <td>2925.5</td>\n",
              "    </tr>\n",
              "    <tr>\n",
              "      <th>L8-B2</th>\n",
              "      <td>832</td>\n",
              "    </tr>\n",
              "    <tr>\n",
              "      <th>L8-B3</th>\n",
              "      <td>1109.5</td>\n",
              "    </tr>\n",
              "    <tr>\n",
              "      <th>L8-B4</th>\n",
              "      <td>1017</td>\n",
              "    </tr>\n",
              "    <tr>\n",
              "      <th>L8-B5</th>\n",
              "      <td>3352</td>\n",
              "    </tr>\n",
              "    <tr>\n",
              "      <th>L8-B6</th>\n",
              "      <td>2797.5</td>\n",
              "    </tr>\n",
              "    <tr>\n",
              "      <th>L8-B7</th>\n",
              "      <td>1693.5</td>\n",
              "    </tr>\n",
              "    <tr>\n",
              "      <th>L8-ndvi</th>\n",
              "      <td>0.534447</td>\n",
              "    </tr>\n",
              "    <tr>\n",
              "      <th>L8-pixel_qa</th>\n",
              "      <td>322</td>\n",
              "    </tr>\n",
              "    <tr>\n",
              "      <th>L8-radsat_qa</th>\n",
              "      <td>0</td>\n",
              "    </tr>\n",
              "    <tr>\n",
              "      <th>L8-sr_aerosol</th>\n",
              "      <td>96</td>\n",
              "    </tr>\n",
              "    <tr>\n",
              "      <th>MODIS-Percent_Tree_Cover</th>\n",
              "      <td>37</td>\n",
              "    </tr>\n",
              "    <tr>\n",
              "      <th>S1-VH</th>\n",
              "      <td>0.0208163</td>\n",
              "    </tr>\n",
              "    <tr>\n",
              "      <th>S1-VV</th>\n",
              "      <td>0.0848104</td>\n",
              "    </tr>\n",
              "    <tr>\n",
              "      <th>S1-radar_volume_index</th>\n",
              "      <td>0.788298</td>\n",
              "    </tr>\n",
              "  </tbody>\n",
              "</table>\n",
              "</div>"
            ],
            "text/plain": [
              "                                                 ROW_0\n",
              "type                                           Feature\n",
              "id                                                   0\n",
              "geometry.type                                    Point\n",
              "geometry.coordinates      [-76.54613982, -8.220041421]\n",
              "ALOS2-HH                                         15154\n",
              "ALOS2-HV                                          1137\n",
              "ALOS2-radar_volume_index                      0.279173\n",
              "L8-B1                                            743.5\n",
              "L8-B10                                            2960\n",
              "L8-B11                                          2925.5\n",
              "L8-B2                                              832\n",
              "L8-B3                                           1109.5\n",
              "L8-B4                                             1017\n",
              "L8-B5                                             3352\n",
              "L8-B6                                           2797.5\n",
              "L8-B7                                           1693.5\n",
              "L8-ndvi                                       0.534447\n",
              "L8-pixel_qa                                        322\n",
              "L8-radsat_qa                                         0\n",
              "L8-sr_aerosol                                       96\n",
              "MODIS-Percent_Tree_Cover                            37\n",
              "S1-VH                                        0.0208163\n",
              "S1-VV                                        0.0848104\n",
              "S1-radar_volume_index                         0.788298"
            ]
          },
          "metadata": {
            "tags": []
          },
          "execution_count": 29
        }
      ]
    },
    {
      "cell_type": "markdown",
      "metadata": {
        "id": "3nWSBLqluq1V"
      },
      "source": [
        "## Outputs\n",
        "\n",
        "### Save to Google Drive\n",
        "\n",
        ">*Important: Make sure to give a path that's inside the Drive directory.*\n",
        "\n",
        "Write to Google Drive with the `to_csv` method."
      ]
    },
    {
      "cell_type": "code",
      "metadata": {
        "id": "EfLiQ1TkxnQK"
      },
      "source": [
        "outfile = os.path.join(\"drive/MyDrive/\", relative_path_to_output_csv_in_drive)\n",
        "outpath = os.path.dirname(outfile)\n",
        "\n",
        "!mkdir -p $outpath\n",
        "\n",
        "outputs.to_csv(outfile, index=None)\n",
        "\n",
        "drive.flush_and_unmount()  # Dont forget to unmount Drive when youre done."
      ],
      "execution_count": 35,
      "outputs": []
    },
    {
      "cell_type": "markdown",
      "metadata": {
        "id": "MCV3WrsIzjhx"
      },
      "source": [
        "### Download to local disk\n",
        "\n",
        "Run this next cell to save to your local machine as a CSV."
      ]
    },
    {
      "cell_type": "code",
      "metadata": {
        "colab": {
          "base_uri": "https://localhost:8080/",
          "height": 34
        },
        "id": "IkdkuzgGziO9",
        "outputId": "7b1a16e6-5284-4f09-fa47-fcd9b3e6de70"
      },
      "source": [
        "# Write a CSV into the colaboratory workspace.\n",
        "outputs.to_csv(\"outputs.csv\", index=None)\n",
        "\n",
        "# This function triggers a prompt for you to save the file to local disk.\n",
        "files.download(filename=\"outputs.csv\")"
      ],
      "execution_count": null,
      "outputs": [
        {
          "output_type": "display_data",
          "data": {
            "application/javascript": [
              "\n",
              "    async function download(id, filename, size) {\n",
              "      if (!google.colab.kernel.accessAllowed) {\n",
              "        return;\n",
              "      }\n",
              "      const div = document.createElement('div');\n",
              "      const label = document.createElement('label');\n",
              "      label.textContent = `Downloading \"${filename}\": `;\n",
              "      div.appendChild(label);\n",
              "      const progress = document.createElement('progress');\n",
              "      progress.max = size;\n",
              "      div.appendChild(progress);\n",
              "      document.body.appendChild(div);\n",
              "\n",
              "      const buffers = [];\n",
              "      let downloaded = 0;\n",
              "\n",
              "      const channel = await google.colab.kernel.comms.open(id);\n",
              "      // Send a message to notify the kernel that we're ready.\n",
              "      channel.send({})\n",
              "\n",
              "      for await (const message of channel.messages) {\n",
              "        // Send a message to notify the kernel that we're ready.\n",
              "        channel.send({})\n",
              "        if (message.buffers) {\n",
              "          for (const buffer of message.buffers) {\n",
              "            buffers.push(buffer);\n",
              "            downloaded += buffer.byteLength;\n",
              "            progress.value = downloaded;\n",
              "          }\n",
              "        }\n",
              "      }\n",
              "      const blob = new Blob(buffers, {type: 'application/binary'});\n",
              "      const a = document.createElement('a');\n",
              "      a.href = window.URL.createObjectURL(blob);\n",
              "      a.download = filename;\n",
              "      div.appendChild(a);\n",
              "      a.click();\n",
              "      div.remove();\n",
              "    }\n",
              "  "
            ],
            "text/plain": [
              "<IPython.core.display.Javascript object>"
            ]
          },
          "metadata": {
            "tags": []
          }
        },
        {
          "output_type": "display_data",
          "data": {
            "application/javascript": [
              "download(\"download_44b66ef3-9da5-4efa-a845-8a3c85289194\", \"outputs.csv\", 23950)"
            ],
            "text/plain": [
              "<IPython.core.display.Javascript object>"
            ]
          },
          "metadata": {
            "tags": []
          }
        }
      ]
    },
    {
      "cell_type": "markdown",
      "metadata": {
        "id": "Yfcy6UVn1TUr"
      },
      "source": [
        "## References\n",
        "\n",
        "* https://developers.google.com/earth-engine/guides/resample#resampling\n",
        "* https://developers.google.com/earth-engine/tutorials/community/extract-raster-values-for-points#understanding_which_pixels_are_included_in_polygon_statistics\n",
        "  * https://developers.google.com/earth-engine/tutorials/community/extract-raster-values-for-points#notes_on_crs_and_scale\n",
        "* https://developers.google.com/earth-engine/tutorials/community/extract-raster-values-for-points#zonalstatsfc_params_%E2%87%92_eefeaturecollection\n",
        "* https://developers.google.com/earth-engine/tutorials/community/beginners-cookbook#example_exporting_data"
      ]
    },
    {
      "cell_type": "markdown",
      "metadata": {
        "id": "z2OcAy5PINWs"
      },
      "source": [
        "### Notes\n",
        "\n",
        "Important concepts in GEE:\n",
        "\n",
        "* Scale: https://developers.google.com/earth-engine/guides/scale\n",
        "* Projections: https://developers.google.com/earth-engine/guides/projections\n",
        "  * *The default projection*: https://developers.google.com/earth-engine/guides/projections#the-default-projection\n",
        "  * *Composites have no projection*: https://developers.google.com/earth-engine/guides/ic_reducing#Composites-have-no-projection\n",
        "\n",
        "I was wary of using `reproject` at first because of how it's described in [the GEE documentation](https://developers.google.com/earth-engine/guides/projections#reprojecting), but now I see that it's a must to achieve the common grid. (GEE does everything else for me in a sensible way _EXCEPT_ for this, IMO.)\n",
        "\n",
        "* https://developers.google.com/earth-engine/guides/image_math#colab-python_1"
      ]
    },
    {
      "cell_type": "code",
      "metadata": {
        "id": "xeXVCqZteSon"
      },
      "source": [
        ""
      ],
      "execution_count": null,
      "outputs": []
    }
  ]
}