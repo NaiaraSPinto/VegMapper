{
  "nbformat": 4,
  "nbformat_minor": 0,
  "metadata": {
    "colab": {
      "name": "vegMapper.ipynb",
      "provenance": [],
      "collapsed_sections": [],
      "include_colab_link": true
    },
    "kernelspec": {
      "name": "python3",
      "display_name": "Python 3"
    },
    "language_info": {
      "name": "python"
    }
  },
  "cells": [
    {
      "cell_type": "markdown",
      "metadata": {
        "id": "view-in-github",
        "colab_type": "text"
      },
      "source": [
        "<a href=\"https://colab.research.google.com/github/jjmcnelis/VegMapper/blob/devel/gee/vegMapper.ipynb\" target=\"_parent\"><img src=\"https://colab.research.google.com/assets/colab-badge.svg\" alt=\"Open In Colab\"/></a>"
      ]
    },
    {
      "cell_type": "markdown",
      "metadata": {
        "id": "SYrdjoWh6Ipn"
      },
      "source": [
        "# vegMapper\n",
        "\n",
        "https://github.com/NaiaraSPinto/VegMapper\n",
        "\n",
        "## Setup\n",
        "\n",
        "### Requirements\n",
        "\n",
        "This cell will attempt to import *geemap* and *pandas*, installing them if unsuccessful."
      ]
    },
    {
      "cell_type": "code",
      "metadata": {
        "id": "UkrTGFMfLmPD",
        "colab": {
          "base_uri": "https://localhost:8080/"
        },
        "outputId": "a4ed7ee0-3b1b-4d94-e518-a0a7ee783c4f"
      },
      "source": [
        "import ee\n",
        "import numpy as np\n",
        "import pandas as pd\n",
        "import matplotlib.pyplot as plt\n",
        "from google.colab import files, drive\n",
        "from os.path import isdir\n",
        "from io import StringIO\n",
        "from json import dumps\n",
        "try:\n",
        "    import geemap\n",
        "except ImportError as e:\n",
        "    !pip install -q geemap\n",
        "    import geemap"
      ],
      "execution_count": 2,
      "outputs": [
        {
          "output_type": "stream",
          "text": [
            "\u001b[K     |████████████████████████████████| 460kB 25.8MB/s \n",
            "\u001b[K     |████████████████████████████████| 1.2MB 40.3MB/s \n",
            "\u001b[K     |████████████████████████████████| 81kB 7.3MB/s \n",
            "\u001b[K     |████████████████████████████████| 225kB 53.7MB/s \n",
            "\u001b[K     |████████████████████████████████| 1.3MB 37.3MB/s \n",
            "\u001b[K     |████████████████████████████████| 1.6MB 35.1MB/s \n",
            "\u001b[K     |████████████████████████████████| 5.1MB 32.5MB/s \n",
            "\u001b[K     |████████████████████████████████| 102kB 8.4MB/s \n",
            "\u001b[K     |████████████████████████████████| 102kB 8.8MB/s \n",
            "\u001b[K     |████████████████████████████████| 143kB 45.3MB/s \n",
            "\u001b[K     |████████████████████████████████| 71kB 7.7MB/s \n",
            "\u001b[K     |████████████████████████████████| 122kB 43.8MB/s \n",
            "\u001b[K     |████████████████████████████████| 552kB 37.4MB/s \n",
            "\u001b[K     |████████████████████████████████| 122kB 43.1MB/s \n",
            "\u001b[K     |████████████████████████████████| 389kB 41.0MB/s \n",
            "\u001b[K     |████████████████████████████████| 71kB 7.4MB/s \n",
            "\u001b[K     |████████████████████████████████| 81kB 7.6MB/s \n",
            "\u001b[?25h  Building wheel for pyshp (setup.py) ... \u001b[?25l\u001b[?25hdone\n",
            "  Building wheel for pycrs (setup.py) ... \u001b[?25l\u001b[?25hdone\n",
            "  Building wheel for ipynb-py-convert (setup.py) ... \u001b[?25l\u001b[?25hdone\n",
            "\u001b[31mERROR: datascience 0.10.6 has requirement folium==0.2.1, but you'll have folium 0.12.1 which is incompatible.\u001b[0m\n",
            "\u001b[31mERROR: jupyter-server 1.7.0 has requirement tornado>=6.1.0, but you'll have tornado 5.1.1 which is incompatible.\u001b[0m\n"
          ],
          "name": "stdout"
        }
      ]
    },
    {
      "cell_type": "markdown",
      "metadata": {
        "id": "ItJQ_sz_5KAW"
      },
      "source": [
        "### Authenticate with your GEE credentials\n",
        "\n",
        ">Authenticate by running the next cell and following the instructions. Click the displayed link, opening a new browser tab; log in with your GEE credentials; copy the temporary token and paste it into the prompt below; hit enter.\n",
        "\n",
        "Run the next cell and authenticate the current ipynb session. "
      ]
    },
    {
      "cell_type": "code",
      "metadata": {
        "colab": {
          "base_uri": "https://localhost:8080/"
        },
        "id": "Bh3oCYv6zvMi",
        "outputId": "9f554c07-abca-4450-da20-69417f50e29b"
      },
      "source": [
        "ee.Authenticate()\n",
        "ee.Initialize()"
      ],
      "execution_count": 3,
      "outputs": [
        {
          "output_type": "stream",
          "text": [
            "To authorize access needed by Earth Engine, open the following URL in a web browser and follow the instructions. If the web browser does not start automatically, please manually browse the URL below.\n",
            "\n",
            "    https://accounts.google.com/o/oauth2/auth?client_id=517222506229-vsmmajv00ul0bs7p89v5m89qs8eb9359.apps.googleusercontent.com&scope=https%3A%2F%2Fwww.googleapis.com%2Fauth%2Fearthengine+https%3A%2F%2Fwww.googleapis.com%2Fauth%2Fdevstorage.full_control&redirect_uri=urn%3Aietf%3Awg%3Aoauth%3A2.0%3Aoob&response_type=code&code_challenge=BnmGZtd-MjTmiijP-5nABlduBO7hYZkCVCcNT41JaLE&code_challenge_method=S256\n",
            "\n",
            "The authorization workflow will generate a code, which you should paste in the box below. \n",
            "Enter verification code: 4/1AY0e-g7vwdPHXJ-4sfCTMH3Zrnb4dnYTqh0wo9H86F8AwRRyQivBl1ijfz8\n",
            "\n",
            "Successfully saved authorization token.\n"
          ],
          "name": "stdout"
        }
      ]
    },
    {
      "cell_type": "markdown",
      "metadata": {
        "id": "aK65jpic6N8T"
      },
      "source": [
        "### Getting data into colaboratory \n",
        "\n",
        "#### Option a: Mount Google Drive\n",
        "\n",
        ">*Do you want to mount Google Drive to your Colaboratory environment?*\n",
        ">\n",
        ">Drive should appear in the *Files* panel to the left after the next cell executes. You may need to hit the refresh button at the top of the panel for it to appear. Try to remember to unmount Drive once you're finished in Colaboratory. You can do that by calling this other function from the drive module: `google.colab.drive.flush_and_unmount()`\n",
        "\n",
        "\n",
        "Run the next cell to mount your files to the *DRIVE/* directory inside the current workspace."
      ]
    },
    {
      "cell_type": "code",
      "metadata": {
        "colab": {
          "base_uri": "https://localhost:8080/"
        },
        "id": "HlupY9s56Hx6",
        "outputId": "8559c7b6-c11c-4d3c-98e1-1bac245784b4"
      },
      "source": [
        "if not isdir(\"DRIVE\"):\n",
        "    try:\n",
        "        drive.mount(\"DRIVE\")\n",
        "    except Exception as e:\n",
        "        raise e\n",
        "\n",
        "!ls DRIVE/"
      ],
      "execution_count": 4,
      "outputs": [
        {
          "output_type": "stream",
          "text": [
            "Mounted at DRIVE\n",
            "MyDrive  Shareddrives\n"
          ],
          "name": "stdout"
        }
      ]
    },
    {
      "cell_type": "markdown",
      "metadata": {
        "id": "Ey1QiQW4hBPU"
      },
      "source": [
        "(A hidden cell below writes Naiara's test CSV into my DRIVE at a known location.)"
      ]
    },
    {
      "cell_type": "code",
      "metadata": {
        "colab": {
          "base_uri": "https://localhost:8080/"
        },
        "cellView": "form",
        "id": "GPa91XEblwE6",
        "outputId": "0beeb1bd-302a-4d97-dfc4-5627254b37b1"
      },
      "source": [
        "#@title\n",
        "#\n",
        "# This cell is here because I needed a way to get your input CSV\n",
        "# from our Slack messages into colab from my IPad.\n",
        "#\n",
        "pts = pd.read_csv(StringIO('''longitude,latitude,obs_year,class,class_2017\n",
        "-76.54613982,-8.220041421,2018,baby_palm,baby_palm\n",
        "-76.56729451,-8.190187992,2018,baby_palm,baby_palm\n",
        "-76.61783761,-8.228346373,2018,baby_palm,baby_palm\n",
        "-76.59469073,-8.134851998,2006,sparse_palm,oil_palm\n",
        "-76.63773368,-8.139648669,2006,sparse_palm,oil_palm\n",
        "-76.63290665,-8.119680094,2006,young_palm,oil_palm\n",
        "-76.63025033,-8.140648423,2006,young_palm,oil_palm\n",
        "-76.63901352,-8.141701288,2006,young_palm,oil_palm\n",
        "-76.63072039,-8.138329157,2006,young_palm,oil_palm\n",
        "-76.68403708,-7.822448219,2009,baby_palm,oil_palm\n",
        "-76.26379872,-6.144886598,2009,baby_palm,oil_palm\n",
        "-76.26244018,-6.154180722,2009,baby_palm,oil_palm\n",
        "-76.13962825,-6.144497298,2009,baby_palm,oil_palm\n",
        "-76.16822364,-6.145567757,2009,baby_palm,oil_palm\n",
        "-76.18562962,-6.136265247,2009,baby_palm,oil_palm\n",
        "-76.18298129,-6.13950254,2009,baby_palm,oil_palm\n",
        "-76.21935339,-6.156531603,2009,baby_palm,oil_palm\n",
        "-76.22322865,-6.14667916,2009,baby_palm,oil_palm\n",
        "-76.23961112,-6.146198747,2009,baby_palm,oil_palm\n",
        "-76.54866977,-8.152600994,2009,young_palm,oil_palm\n",
        "-76.52198387,-8.276730692,2010,baby_palm,oil_palm\n",
        "-76.53381488,-8.259858973,2010,baby_palm,oil_palm\n",
        "-76.53327355,-8.263157687,2010,baby_palm,oil_palm\n",
        "-76.50815328,-8.270297249,2010,baby_palm,oil_palm\n",
        "-76.53057502,-8.22326093,2014,young_palms,oil_palm\n",
        "-76.52741218,-8.227746954,2014,young_palms,oil_palm\n",
        "-76.36540047,-8.385046119,2016,mature_palm,oil_palm\n",
        "-76.39885562,-8.386351665,2016,mature_palm,oil_palm\n",
        "-76.17768165,-6.272635381,2018,mature_palm,oil_palm\n",
        "-76.03958719,-6.124114405,2018,mature_palm,oil_palm\n",
        "-76.45790359,-8.369040656,2018,mature_palm,oil_palm\n",
        "-76.48467022,-8.346615611,2018,mature_palm,oil_palm\n",
        "-76.54844239,-8.152142123,2018,mature_palm,oil_palm\n",
        "-76.21031164,-6.153516461,2018,mature_palm,oil_palm\n",
        "-76.21972056,-6.159907189,2018,mature_palm,oil_palm\n",
        "-76.35235464,-8.389452353,2018,mature_palm,oil_palm\n",
        "-76.52200024,-8.21415676,2018,mature_palm,oil_palm\n",
        "-76.08011101,-6.122466677,2018,mature_palm,oil_palm\n",
        "-76.19274375,-6.285185408,2018,mature_palm,oil_palm\n",
        "-76.52821385,-8.227073463,2018,mature_palm,oil_palm\n",
        "-76.47397828,-8.310712095,2019,mature_palm,oil_palm\n",
        "-76.54800013,-8.206050626,2014,baby_palm,young_palm\n",
        "-76.59445768,-8.208097591,2014,baby_palm,young_palm\n",
        "-76.40434261,-8.38788458,2016,young_palm,young_palm\n",
        "-76.39038881,-8.388674225,2016,young_palm,young_palm\n",
        "-76.22714731,-6.175463311,2018,young_palm,young_palm\n",
        "-76.22308006,-6.168809133,2018,young_palm,young_palm\n",
        "-76.55141408,-8.19613559,2018,young_palm,young_palm\n",
        "-76.57321195,-8.192556478,2018,young_palm,young_palm\n",
        "-76.57434051,-8.261270212,2018,young_palm,young_palm\n",
        "-77.30212241,-7.874080644,NA,NA,not_palm\n",
        "-76.67528987,-8.027063124,NA,NA,not_palm\n",
        "-77.15454556,-6.066826494,NA,NA,not_palm\n",
        "-76.37179113,-6.48657976,NA,NA,not_palm\n",
        "-76.3115162,-6.531204075,NA,NA,not_palm\n",
        "-75.78966195,-6.309616368,NA,NA,not_palm\n",
        "-76.31994416,-6.542874054,NA,NA,not_palm\n",
        "-76.51595718,-8.190632332,NA,NA,not_palm\n",
        "-76.18701439,-6.239869116,NA,NA,not_palm\n",
        "-75.6642132,-6.259440395,NA,NA,not_palm\n",
        "-76.24075534,-6.292740214,NA,NA,not_palm\n",
        "-77.1594289,-6.069011409,NA,NA,not_palm\n",
        "-77.14689873,-6.06231103,NA,NA,not_palm\n",
        "-77.13684788,-6.030994482,NA,NA,not_palm\n",
        "-77.69622065,-5.614344551,NA,NA,not_palm\n",
        "-77.39802123,-5.806565977,NA,NA,not_palm\n",
        "-77.5720281,-5.583868676,NA,NA,not_palm\n",
        "-76.62842904,-8.114024258,NA,NA,not_palm\n",
        "-77.50317308,-5.739875509,NA,NA,not_palm\n",
        "-77.30660001,-5.944694706,NA,NA,not_palm\n",
        "-77.17898053,-5.968114977,NA,NA,not_palm\n",
        "-77.28160754,-5.928103107,NA,NA,not_palm\n",
        "-77.16672645,-5.917702372,NA,NA,not_palm\n",
        "-76.97091065,-6.03293721,NA,NA,not_palm\n",
        "-77.57439957,-7.179415204,NA,NA,not_palm\n",
        "-76.98863489,-5.858369694,NA,NA,not_palm\n",
        "-76.94419989,-5.873667373,NA,NA,not_palm\n",
        "-77.45982469,-5.663443717,NA,NA,not_palm\n",
        "-76.53354958,-8.119392563,NA,NA,not_palm\n",
        "-76.60725623,-8.121489943,NA,NA,not_palm\n",
        "-76.61574334,-8.119284671,NA,NA,not_palm\n",
        "-76.63213216,-8.113739165,NA,NA,not_palm\n",
        "-77.56876673,-7.373122213,NA,NA,not_palm\n",
        "-76.50494205,-7.172120741,NA,NA,not_palm\n",
        "-76.51183231,-7.160546484,NA,NA,not_palm\n",
        "-76.53114569,-7.156446976,NA,NA,not_palm\n",
        "-76.51489944,-7.140283191,NA,NA,not_palm\n",
        "-76.52347195,-7.13563366,NA,NA,not_palm\n",
        "-76.51188252,-7.114655315,NA,NA,not_palm\n",
        "-76.48964737,-7.104255606,NA,NA,not_palm\n",
        "-76.48612494,-7.104423206,NA,NA,not_palm\n",
        "-76.48157046,-7.099551269,NA,NA,not_palm\n",
        "-76.48475964,-7.090077236,NA,NA,not_palm\n",
        "-76.4316269,-7.001565014,NA,NA,not_palm\n",
        "-77.06187922,-7.177114918,NA,NA,not_palm\n",
        "-77.16608431,-7.096861074,NA,NA,not_palm\n",
        "-76.69510111,-6.682602211,NA,NA,not_palm\n",
        "-76.69929973,-6.67986414,NA,NA,not_palm\n",
        "-76.70746548,-6.673406446,NA,NA,not_palm\n",
        "-76.96028915,-6.275374344,NA,NA,not_palm\n",
        "'''))\n",
        "pts.to_csv(\"DRIVE/MyDrive/smartin.csv\", index=False)\n",
        "print(pts.info())\n",
        "!ls DRIVE/MyDrive/smartin.csv"
      ],
      "execution_count": 5,
      "outputs": [
        {
          "output_type": "stream",
          "text": [
            "<class 'pandas.core.frame.DataFrame'>\n",
            "RangeIndex: 100 entries, 0 to 99\n",
            "Data columns (total 5 columns):\n",
            " #   Column      Non-Null Count  Dtype  \n",
            "---  ------      --------------  -----  \n",
            " 0   longitude   100 non-null    float64\n",
            " 1   latitude    100 non-null    float64\n",
            " 2   obs_year    50 non-null     float64\n",
            " 3   class       50 non-null     object \n",
            " 4   class_2017  100 non-null    object \n",
            "dtypes: float64(3), object(2)\n",
            "memory usage: 4.0+ KB\n",
            "None\n",
            "DRIVE/MyDrive/smartin.csv\n"
          ],
          "name": "stdout"
        }
      ]
    },
    {
      "cell_type": "markdown",
      "metadata": {
        "id": "onthVU1OC686"
      },
      "source": [
        "### Option b: Upload files to colaboratory\n",
        "\n",
        "*The workflow requires input features to determine the areas in which to calculate zonal statistics.*\n",
        "\n",
        "Make sure a suitable file exists in the colab workspace or in Google Drive. You can provide one in either of two ways:\n",
        "\n",
        "1. Navigate to an input CSV in Google Drive and copy its path into the cell below (assuming Drive is mounted), or\n",
        "2. Run the next cell as-is and upload a file to the workspace when prompted.\n",
        "\n",
        "If the second option, run the next cell and click *Choose Files* to upload a file. You may also click *Cancel Upload* to abort the cell and move on."
      ]
    },
    {
      "cell_type": "code",
      "metadata": {
        "id": "mqRd0Ue8C6EB"
      },
      "source": [
        "#uploads = files.upload()"
      ],
      "execution_count": 6,
      "outputs": []
    },
    {
      "cell_type": "markdown",
      "metadata": {
        "id": "6TcWGHerrAs7"
      },
      "source": [
        "Now set the path to the input CSV. (You can skip this step if you uploaded a CSV in the last cell.)"
      ]
    },
    {
      "cell_type": "code",
      "metadata": {
        "colab": {
          "base_uri": "https://localhost:8080/"
        },
        "id": "kgqaMsAvrA2i",
        "outputId": "17bcf831-ada8-49e1-cbc0-dd68d3a2626d"
      },
      "source": [
        "csv = \"DRIVE/MyDrive/smartin.csv\"  # None\n",
        "if csv is None and len(uploads)!=0:\n",
        "    csv = list(uploads)[0]\n",
        "\n",
        "print(csv)"
      ],
      "execution_count": 7,
      "outputs": [
        {
          "output_type": "stream",
          "text": [
            "DRIVE/MyDrive/smartin.csv\n"
          ],
          "name": "stdout"
        }
      ]
    },
    {
      "cell_type": "markdown",
      "metadata": {
        "id": "hWpk3pxH5qCZ"
      },
      "source": [
        "## Input zones/regions for stats\n",
        "\n",
        "As mentioned before, this procedure builds a stack of images and calculates the zonal statistics within regions defined by an input feature dataset. \n",
        "\n",
        "*Remember: CSV is the only supported input file format at this time.* It should have these columns at a minimum:\n",
        "\n",
        "* *latitude* (float)\n",
        "* *longitude* (float)"
      ]
    },
    {
      "cell_type": "code",
      "metadata": {
        "colab": {
          "base_uri": "https://localhost:8080/"
        },
        "id": "K6eMt5I2wU3T",
        "outputId": "0dcf28ca-7fc3-4c6b-c726-0e5bce9e1d64"
      },
      "source": [
        "pts = pd.read_csv(csv)\n",
        "\n",
        "pts.info()"
      ],
      "execution_count": 8,
      "outputs": [
        {
          "output_type": "stream",
          "text": [
            "<class 'pandas.core.frame.DataFrame'>\n",
            "RangeIndex: 100 entries, 0 to 99\n",
            "Data columns (total 5 columns):\n",
            " #   Column      Non-Null Count  Dtype  \n",
            "---  ------      --------------  -----  \n",
            " 0   longitude   100 non-null    float64\n",
            " 1   latitude    100 non-null    float64\n",
            " 2   obs_year    50 non-null     float64\n",
            " 3   class       50 non-null     object \n",
            " 4   class_2017  100 non-null    object \n",
            "dtypes: float64(3), object(2)\n",
            "memory usage: 4.0+ KB\n"
          ],
          "name": "stdout"
        }
      ]
    },
    {
      "cell_type": "markdown",
      "metadata": {
        "id": "xO9CZZJ2LCRr"
      },
      "source": [
        "### Get feature collection containing point geometries\n",
        "\n",
        ">We will make a feature collection from the table of points such that a reducer function can be efficiently mapped over point geometries to compute an output statistic for all images/bands in the stack.\n",
        ">\n",
        ">Here is some helpful GEE docs to describe *ee.FeatureCollection*: \n",
        ">* https://developers.google.com/earth-engine/guides/feature_collections\n",
        ">* \n",
        "\n",
        "\n",
        "Make point geometry for each row from the columns of latitudes and longitudes, then get the geometries as a feature collection. "
      ]
    },
    {
      "cell_type": "code",
      "metadata": {
        "colab": {
          "base_uri": "https://localhost:8080/"
        },
        "id": "d3lP3kzYLCc5",
        "outputId": "ab0018da-42d3-4aba-921f-6290246fc366"
      },
      "source": [
        "def get_geom(x):\n",
        "    return ee.Geometry.Point(x['longitude'], x['latitude'])\n",
        "\n",
        "pfc = ee.FeatureCollection(pts.apply(get_geom, axis=1).tolist())\n",
        "\n",
        "type(pfc)"
      ],
      "execution_count": 9,
      "outputs": [
        {
          "output_type": "execute_result",
          "data": {
            "text/plain": [
              "ee.featurecollection.FeatureCollection"
            ]
          },
          "metadata": {
            "tags": []
          },
          "execution_count": 9
        }
      ]
    },
    {
      "cell_type": "markdown",
      "metadata": {
        "id": "Vp5KEAikKWWc"
      },
      "source": [
        "\n",
        "### Region of Interest\n",
        "\n",
        "Get the minimum bounding extent of the points in the input CSV. Add an arbitrary buffer around the minimum extent and then get a ee.Geometry.Rectangle to represent the ROI."
      ]
    },
    {
      "cell_type": "code",
      "metadata": {
        "colab": {
          "base_uri": "https://localhost:8080/"
        },
        "id": "lXfYg2cV4Ovv",
        "outputId": "35ca19b1-19fd-40bf-c1a0-5d6275bebfcc"
      },
      "source": [
        "roi_center = [pts['latitude'].mean(), pts['longitude'].mean()]\n",
        "\n",
        "roi_bounds = [[pts['latitude'].max(), pts['longitude'].min()],\n",
        "              [pts['latitude'].min(), pts['longitude'].max()]]\n",
        "\n",
        "# GEE stores coordinates sensibly in xy order.\n",
        "roi = ee.Geometry.Rectangle([c[::-1] for c in roi_bounds])\n",
        "\n",
        "type(roi)"
      ],
      "execution_count": 10,
      "outputs": [
        {
          "output_type": "execute_result",
          "data": {
            "text/plain": [
              "ee.geometry.Geometry"
            ]
          },
          "metadata": {
            "tags": []
          },
          "execution_count": 10
        }
      ]
    },
    {
      "cell_type": "markdown",
      "metadata": {
        "id": "obvCR3gS4a7c"
      },
      "source": [
        "Plot the region of interest polygon on a map to see the coverage."
      ]
    },
    {
      "cell_type": "code",
      "metadata": {
        "colab": {
          "base_uri": "https://localhost:8080/",
          "height": 622
        },
        "id": "3_4cQw-sKXXK",
        "outputId": "71c6e951-ad4d-4d87-d7fb-d983bff2493e"
      },
      "source": [
        "M = geemap.Map(center=roi_center, zoom=7)\n",
        "M.addLayer(roi, {'color': \"red\"}, name='ROI')\n",
        "M.addLayer(pfc, name='Sites')\n",
        "M"
      ],
      "execution_count": 11,
      "outputs": [
        {
          "output_type": "execute_result",
          "data": {
            "text/html": [
              "<div style=\"width:100%;\"><div style=\"position:relative;width:100%;height:0;padding-bottom:60%;\"><span style=\"color:#565656\">Make this Notebook Trusted to load map: File -> Trust Notebook</span><iframe src=\"about:blank\" style=\"position:absolute;width:100%;height:100%;left:0;top:0;border:none !important;\" data-html=%3C%21DOCTYPE%20html%3E%0A%3Chead%3E%20%20%20%20%0A%20%20%20%20%3Cmeta%20http-equiv%3D%22content-type%22%20content%3D%22text/html%3B%20charset%3DUTF-8%22%20/%3E%0A%20%20%20%20%0A%20%20%20%20%20%20%20%20%3Cscript%3E%0A%20%20%20%20%20%20%20%20%20%20%20%20L_NO_TOUCH%20%3D%20false%3B%0A%20%20%20%20%20%20%20%20%20%20%20%20L_DISABLE_3D%20%3D%20false%3B%0A%20%20%20%20%20%20%20%20%3C/script%3E%0A%20%20%20%20%0A%20%20%20%20%3Cstyle%3Ehtml%2C%20body%20%7Bwidth%3A%20100%25%3Bheight%3A%20100%25%3Bmargin%3A%200%3Bpadding%3A%200%3B%7D%3C/style%3E%0A%20%20%20%20%3Cstyle%3E%23map%20%7Bposition%3Aabsolute%3Btop%3A0%3Bbottom%3A0%3Bright%3A0%3Bleft%3A0%3B%7D%3C/style%3E%0A%20%20%20%20%3Cscript%20src%3D%22https%3A//cdn.jsdelivr.net/npm/leaflet%401.6.0/dist/leaflet.js%22%3E%3C/script%3E%0A%20%20%20%20%3Cscript%20src%3D%22https%3A//code.jquery.com/jquery-1.12.4.min.js%22%3E%3C/script%3E%0A%20%20%20%20%3Cscript%20src%3D%22https%3A//maxcdn.bootstrapcdn.com/bootstrap/3.2.0/js/bootstrap.min.js%22%3E%3C/script%3E%0A%20%20%20%20%3Cscript%20src%3D%22https%3A//cdnjs.cloudflare.com/ajax/libs/Leaflet.awesome-markers/2.0.2/leaflet.awesome-markers.js%22%3E%3C/script%3E%0A%20%20%20%20%3Clink%20rel%3D%22stylesheet%22%20href%3D%22https%3A//cdn.jsdelivr.net/npm/leaflet%401.6.0/dist/leaflet.css%22/%3E%0A%20%20%20%20%3Clink%20rel%3D%22stylesheet%22%20href%3D%22https%3A//maxcdn.bootstrapcdn.com/bootstrap/3.2.0/css/bootstrap.min.css%22/%3E%0A%20%20%20%20%3Clink%20rel%3D%22stylesheet%22%20href%3D%22https%3A//maxcdn.bootstrapcdn.com/bootstrap/3.2.0/css/bootstrap-theme.min.css%22/%3E%0A%20%20%20%20%3Clink%20rel%3D%22stylesheet%22%20href%3D%22https%3A//maxcdn.bootstrapcdn.com/font-awesome/4.6.3/css/font-awesome.min.css%22/%3E%0A%20%20%20%20%3Clink%20rel%3D%22stylesheet%22%20href%3D%22https%3A//cdnjs.cloudflare.com/ajax/libs/Leaflet.awesome-markers/2.0.2/leaflet.awesome-markers.css%22/%3E%0A%20%20%20%20%3Clink%20rel%3D%22stylesheet%22%20href%3D%22https%3A//cdn.jsdelivr.net/gh/python-visualization/folium/folium/templates/leaflet.awesome.rotate.min.css%22/%3E%0A%20%20%20%20%0A%20%20%20%20%20%20%20%20%20%20%20%20%3Cmeta%20name%3D%22viewport%22%20content%3D%22width%3Ddevice-width%2C%0A%20%20%20%20%20%20%20%20%20%20%20%20%20%20%20%20initial-scale%3D1.0%2C%20maximum-scale%3D1.0%2C%20user-scalable%3Dno%22%20/%3E%0A%20%20%20%20%20%20%20%20%20%20%20%20%3Cstyle%3E%0A%20%20%20%20%20%20%20%20%20%20%20%20%20%20%20%20%23map_7837cc93e7ef40629d1fd74a63c6c602%20%7B%0A%20%20%20%20%20%20%20%20%20%20%20%20%20%20%20%20%20%20%20%20position%3A%20relative%3B%0A%20%20%20%20%20%20%20%20%20%20%20%20%20%20%20%20%20%20%20%20width%3A%20100.0%25%3B%0A%20%20%20%20%20%20%20%20%20%20%20%20%20%20%20%20%20%20%20%20height%3A%20100.0%25%3B%0A%20%20%20%20%20%20%20%20%20%20%20%20%20%20%20%20%20%20%20%20left%3A%200.0%25%3B%0A%20%20%20%20%20%20%20%20%20%20%20%20%20%20%20%20%20%20%20%20top%3A%200.0%25%3B%0A%20%20%20%20%20%20%20%20%20%20%20%20%20%20%20%20%7D%0A%20%20%20%20%20%20%20%20%20%20%20%20%3C/style%3E%0A%20%20%20%20%20%20%20%20%0A%20%20%20%20%3Cscript%20src%3D%22https%3A//cdnjs.cloudflare.com/ajax/libs/leaflet.fullscreen/1.4.2/Control.FullScreen.min.js%22%3E%3C/script%3E%0A%20%20%20%20%3Clink%20rel%3D%22stylesheet%22%20href%3D%22https%3A//cdnjs.cloudflare.com/ajax/libs/leaflet.fullscreen/1.4.2/Control.FullScreen.min.css%22/%3E%0A%3C/head%3E%0A%3Cbody%3E%20%20%20%20%0A%20%20%20%20%0A%20%20%20%20%20%20%20%20%20%20%20%20%3Cdiv%20class%3D%22folium-map%22%20id%3D%22map_7837cc93e7ef40629d1fd74a63c6c602%22%20%3E%3C/div%3E%0A%20%20%20%20%20%20%20%20%0A%3C/body%3E%0A%3Cscript%3E%20%20%20%20%0A%20%20%20%20%0A%20%20%20%20%20%20%20%20%20%20%20%20var%20map_7837cc93e7ef40629d1fd74a63c6c602%20%3D%20L.map%28%0A%20%20%20%20%20%20%20%20%20%20%20%20%20%20%20%20%22map_7837cc93e7ef40629d1fd74a63c6c602%22%2C%0A%20%20%20%20%20%20%20%20%20%20%20%20%20%20%20%20%7B%0A%20%20%20%20%20%20%20%20%20%20%20%20%20%20%20%20%20%20%20%20center%3A%20%5B-7.132673861109996%2C%20-76.61272973500003%5D%2C%0A%20%20%20%20%20%20%20%20%20%20%20%20%20%20%20%20%20%20%20%20crs%3A%20L.CRS.EPSG3857%2C%0A%20%20%20%20%20%20%20%20%20%20%20%20%20%20%20%20%20%20%20%20zoom%3A%207%2C%0A%20%20%20%20%20%20%20%20%20%20%20%20%20%20%20%20%20%20%20%20zoomControl%3A%20true%2C%0A%20%20%20%20%20%20%20%20%20%20%20%20%20%20%20%20%20%20%20%20preferCanvas%3A%20false%2C%0A%20%20%20%20%20%20%20%20%20%20%20%20%20%20%20%20%20%20%20%20eeInitialize%3A%20true%2C%0A%20%20%20%20%20%20%20%20%20%20%20%20%20%20%20%20%20%20%20%20addGoogleMap%3A%20true%2C%0A%20%20%20%20%20%20%20%20%20%20%20%20%20%20%20%20%20%20%20%20pluginLatlngpopup%3A%20true%2C%0A%20%20%20%20%20%20%20%20%20%20%20%20%20%20%20%20%20%20%20%20pluginFullscreen%3A%20true%2C%0A%20%20%20%20%20%20%20%20%20%20%20%20%20%20%20%20%20%20%20%20pluginDraw%3A%20false%2C%0A%20%20%20%20%20%20%20%20%20%20%20%20%20%20%20%20%20%20%20%20DrawExport%3A%20true%2C%0A%20%20%20%20%20%20%20%20%20%20%20%20%20%20%20%20%20%20%20%20pluginMinimap%3A%20false%2C%0A%20%20%20%20%20%20%20%20%20%20%20%20%20%20%20%20%20%20%20%20pluginLayercontrol%3A%20false%2C%0A%20%20%20%20%20%20%20%20%20%20%20%20%20%20%20%20%7D%0A%20%20%20%20%20%20%20%20%20%20%20%20%29%3B%0A%0A%20%20%20%20%20%20%20%20%20%20%20%20%0A%0A%20%20%20%20%20%20%20%20%0A%20%20%20%20%0A%20%20%20%20%20%20%20%20%20%20%20%20var%20tile_layer_9bbcddf1db574f89baae5e1bb9b6e0d6%20%3D%20L.tileLayer%28%0A%20%20%20%20%20%20%20%20%20%20%20%20%20%20%20%20%22https%3A//%7Bs%7D.tile.openstreetmap.org/%7Bz%7D/%7Bx%7D/%7By%7D.png%22%2C%0A%20%20%20%20%20%20%20%20%20%20%20%20%20%20%20%20%7B%22attribution%22%3A%20%22Data%20by%20%5Cu0026copy%3B%20%5Cu003ca%20href%3D%5C%22http%3A//openstreetmap.org%5C%22%5Cu003eOpenStreetMap%5Cu003c/a%5Cu003e%2C%20under%20%5Cu003ca%20href%3D%5C%22http%3A//www.openstreetmap.org/copyright%5C%22%5Cu003eODbL%5Cu003c/a%5Cu003e.%22%2C%20%22detectRetina%22%3A%20false%2C%20%22maxNativeZoom%22%3A%2018%2C%20%22maxZoom%22%3A%2018%2C%20%22minZoom%22%3A%200%2C%20%22noWrap%22%3A%20false%2C%20%22opacity%22%3A%201%2C%20%22subdomains%22%3A%20%22abc%22%2C%20%22tms%22%3A%20false%7D%0A%20%20%20%20%20%20%20%20%20%20%20%20%29.addTo%28map_7837cc93e7ef40629d1fd74a63c6c602%29%3B%0A%20%20%20%20%20%20%20%20%0A%20%20%20%20%0A%20%20%20%20%20%20%20%20%20%20%20%20var%20tile_layer_66a50903393047cc8f009e620f0ee1fa%20%3D%20L.tileLayer%28%0A%20%20%20%20%20%20%20%20%20%20%20%20%20%20%20%20%22https%3A//mt1.google.com/vt/lyrs%3Dm%5Cu0026x%3D%7Bx%7D%5Cu0026y%3D%7By%7D%5Cu0026z%3D%7Bz%7D%22%2C%0A%20%20%20%20%20%20%20%20%20%20%20%20%20%20%20%20%7B%22attribution%22%3A%20%22Google%22%2C%20%22detectRetina%22%3A%20false%2C%20%22maxNativeZoom%22%3A%2018%2C%20%22maxZoom%22%3A%2018%2C%20%22minZoom%22%3A%200%2C%20%22noWrap%22%3A%20false%2C%20%22opacity%22%3A%201%2C%20%22subdomains%22%3A%20%22abc%22%2C%20%22tms%22%3A%20false%7D%0A%20%20%20%20%20%20%20%20%20%20%20%20%29.addTo%28map_7837cc93e7ef40629d1fd74a63c6c602%29%3B%0A%20%20%20%20%20%20%20%20%0A%20%20%20%20%0A%20%20%20%20%20%20%20%20%20%20%20%20%20%20%20%20var%20lat_lng_popup_85f6d5b6dfd448a6a47a1d4d06acb6ec%20%3D%20L.popup%28%29%3B%0A%20%20%20%20%20%20%20%20%20%20%20%20%20%20%20%20function%20latLngPop%28e%29%20%7B%0A%20%20%20%20%20%20%20%20%20%20%20%20%20%20%20%20%20%20%20%20lat_lng_popup_85f6d5b6dfd448a6a47a1d4d06acb6ec%0A%20%20%20%20%20%20%20%20%20%20%20%20%20%20%20%20%20%20%20%20%20%20%20%20.setLatLng%28e.latlng%29%0A%20%20%20%20%20%20%20%20%20%20%20%20%20%20%20%20%20%20%20%20%20%20%20%20.setContent%28%22Latitude%3A%20%22%20%2B%20e.latlng.lat.toFixed%284%29%20%2B%0A%20%20%20%20%20%20%20%20%20%20%20%20%20%20%20%20%20%20%20%20%20%20%20%20%20%20%20%20%20%20%20%20%20%20%20%20%22%3Cbr%3ELongitude%3A%20%22%20%2B%20e.latlng.lng.toFixed%284%29%29%0A%20%20%20%20%20%20%20%20%20%20%20%20%20%20%20%20%20%20%20%20%20%20%20%20.openOn%28map_7837cc93e7ef40629d1fd74a63c6c602%29%3B%0A%20%20%20%20%20%20%20%20%20%20%20%20%20%20%20%20%20%20%20%20%7D%0A%20%20%20%20%20%20%20%20%20%20%20%20%20%20%20%20map_7837cc93e7ef40629d1fd74a63c6c602.on%28%27click%27%2C%20latLngPop%29%3B%0A%20%20%20%20%20%20%20%20%20%20%20%20%0A%20%20%20%20%0A%20%20%20%20%20%20%20%20%20%20%20%20L.control.fullscreen%28%0A%20%20%20%20%20%20%20%20%20%20%20%20%20%20%20%20%7B%22forceSeparateButton%22%3A%20false%2C%20%22position%22%3A%20%22topleft%22%2C%20%22title%22%3A%20%22Full%20Screen%22%2C%20%22titleCancel%22%3A%20%22Exit%20Full%20Screen%22%7D%0A%20%20%20%20%20%20%20%20%20%20%20%20%29.addTo%28map_7837cc93e7ef40629d1fd74a63c6c602%29%3B%0A%20%20%20%20%20%20%20%20%0A%20%20%20%20%0A%20%20%20%20%20%20%20%20%20%20%20%20map_7837cc93e7ef40629d1fd74a63c6c602.fitBounds%28%0A%20%20%20%20%20%20%20%20%20%20%20%20%20%20%20%20%5B%5B-7.132673861109996%2C%20-76.61272973500003%5D%2C%20%5B-7.132673861109996%2C%20-76.61272973500003%5D%5D%2C%0A%20%20%20%20%20%20%20%20%20%20%20%20%20%20%20%20%7B%22maxZoom%22%3A%207%7D%0A%20%20%20%20%20%20%20%20%20%20%20%20%29%3B%0A%20%20%20%20%20%20%20%20%0A%20%20%20%20%0A%20%20%20%20%20%20%20%20%20%20%20%20var%20tile_layer_6af53f4f98514107b3e3f4c1d4ad357f%20%3D%20L.tileLayer%28%0A%20%20%20%20%20%20%20%20%20%20%20%20%20%20%20%20%22https%3A//earthengine.googleapis.com/v1alpha/projects/earthengine-legacy/maps/eedd0b4b7f4907e773afe9178fe2a846-490c132888915af89e167947279a1111/tiles/%7Bz%7D/%7Bx%7D/%7By%7D%22%2C%0A%20%20%20%20%20%20%20%20%20%20%20%20%20%20%20%20%7B%22attribution%22%3A%20%22Google%20Earth%20Engine%22%2C%20%22detectRetina%22%3A%20false%2C%20%22maxNativeZoom%22%3A%2018%2C%20%22maxZoom%22%3A%2018%2C%20%22minZoom%22%3A%200%2C%20%22noWrap%22%3A%20false%2C%20%22opacity%22%3A%201.0%2C%20%22subdomains%22%3A%20%22abc%22%2C%20%22tms%22%3A%20false%7D%0A%20%20%20%20%20%20%20%20%20%20%20%20%29.addTo%28map_7837cc93e7ef40629d1fd74a63c6c602%29%3B%0A%20%20%20%20%20%20%20%20%0A%20%20%20%20%0A%20%20%20%20%20%20%20%20%20%20%20%20var%20tile_layer_cebd9de87897439f80685f9a6b1a7506%20%3D%20L.tileLayer%28%0A%20%20%20%20%20%20%20%20%20%20%20%20%20%20%20%20%22https%3A//earthengine.googleapis.com/v1alpha/projects/earthengine-legacy/maps/d06733695646caf775395b244dceb34f-950d06692ab4745fa5937f2ac46c2eab/tiles/%7Bz%7D/%7Bx%7D/%7By%7D%22%2C%0A%20%20%20%20%20%20%20%20%20%20%20%20%20%20%20%20%7B%22attribution%22%3A%20%22Google%20Earth%20Engine%22%2C%20%22detectRetina%22%3A%20false%2C%20%22maxNativeZoom%22%3A%2018%2C%20%22maxZoom%22%3A%2018%2C%20%22minZoom%22%3A%200%2C%20%22noWrap%22%3A%20false%2C%20%22opacity%22%3A%201.0%2C%20%22subdomains%22%3A%20%22abc%22%2C%20%22tms%22%3A%20false%7D%0A%20%20%20%20%20%20%20%20%20%20%20%20%29.addTo%28map_7837cc93e7ef40629d1fd74a63c6c602%29%3B%0A%20%20%20%20%20%20%20%20%0A%20%20%20%20%0A%20%20%20%20%20%20%20%20%20%20%20%20var%20layer_control_a6131afacb2d4bcba3fc011432b1bc27%20%3D%20%7B%0A%20%20%20%20%20%20%20%20%20%20%20%20%20%20%20%20base_layers%20%3A%20%7B%0A%20%20%20%20%20%20%20%20%20%20%20%20%20%20%20%20%20%20%20%20%22openstreetmap%22%20%3A%20tile_layer_9bbcddf1db574f89baae5e1bb9b6e0d6%2C%0A%20%20%20%20%20%20%20%20%20%20%20%20%20%20%20%20%7D%2C%0A%20%20%20%20%20%20%20%20%20%20%20%20%20%20%20%20overlays%20%3A%20%20%7B%0A%20%20%20%20%20%20%20%20%20%20%20%20%20%20%20%20%20%20%20%20%22Google%20Maps%22%20%3A%20tile_layer_66a50903393047cc8f009e620f0ee1fa%2C%0A%20%20%20%20%20%20%20%20%20%20%20%20%20%20%20%20%20%20%20%20%22ROI%22%20%3A%20tile_layer_6af53f4f98514107b3e3f4c1d4ad357f%2C%0A%20%20%20%20%20%20%20%20%20%20%20%20%20%20%20%20%20%20%20%20%22Sites%22%20%3A%20tile_layer_cebd9de87897439f80685f9a6b1a7506%2C%0A%20%20%20%20%20%20%20%20%20%20%20%20%20%20%20%20%7D%2C%0A%20%20%20%20%20%20%20%20%20%20%20%20%7D%3B%0A%20%20%20%20%20%20%20%20%20%20%20%20L.control.layers%28%0A%20%20%20%20%20%20%20%20%20%20%20%20%20%20%20%20layer_control_a6131afacb2d4bcba3fc011432b1bc27.base_layers%2C%0A%20%20%20%20%20%20%20%20%20%20%20%20%20%20%20%20layer_control_a6131afacb2d4bcba3fc011432b1bc27.overlays%2C%0A%20%20%20%20%20%20%20%20%20%20%20%20%20%20%20%20%7B%22autoZIndex%22%3A%20true%2C%20%22collapsed%22%3A%20true%2C%20%22position%22%3A%20%22topright%22%7D%0A%20%20%20%20%20%20%20%20%20%20%20%20%29.addTo%28map_7837cc93e7ef40629d1fd74a63c6c602%29%3B%0A%20%20%20%20%20%20%20%20%0A%3C/script%3E onload=\"this.contentDocument.open();this.contentDocument.write(    decodeURIComponent(this.getAttribute('data-html')));this.contentDocument.close();\" allowfullscreen webkitallowfullscreen mozallowfullscreen></iframe></div></div>"
            ],
            "text/plain": [
              "<geemap.eefolium.Map at 0x7f4506db1950>"
            ]
          },
          "metadata": {
            "tags": []
          },
          "execution_count": 11
        }
      ]
    },
    {
      "cell_type": "markdown",
      "metadata": {
        "id": "SN0iuD5gJQjz"
      },
      "source": [
        "### Time coverage\n",
        "\n",
        "Define the time coverage for the output stack by the start and end times of the source datasets (Sentinel-1, Landsat 8, MODIS, etc). The stack will be produced from EOS observations collected only during this period."
      ]
    },
    {
      "cell_type": "code",
      "metadata": {
        "id": "wDJf3W6gJQv3"
      },
      "source": [
        "startDate = '2017-04-01'  #@param {type: \"date\"}\n",
        "endDate = '2017-09-30'    #@param {type: \"date\"}\n",
        "\n",
        "years = [f'{startDate.split(\"-\")[0]}-01-01', \n",
        "         f'{endDate.split(\"-\")[0]}-12-31']"
      ],
      "execution_count": 12,
      "outputs": []
    },
    {
      "cell_type": "markdown",
      "metadata": {
        "id": "HIbwNoD5pBrE"
      },
      "source": [
        "## Imagery\n",
        "\n",
        "Important concepts in GEE:\n",
        "\n",
        "* Scale: https://developers.google.com/earth-engine/guides/scale\n",
        "* Projections: https://developers.google.com/earth-engine/guides/projections\n",
        "  * the Default projection: https://developers.google.com/earth-engine/guides/projections#the-default-projection\n",
        "  * Compositing: https://developers.google.com/earth-engine/guides/ic_reducing#composites-have-no-projection"
      ]
    },
    {
      "cell_type": "markdown",
      "metadata": {
        "id": "qYGEuIqdGmfU"
      },
      "source": [
        "### Sentinel-1\n",
        "\n",
        "https://developers.google.com/earth-engine/guides/sentinel1\n",
        "\n",
        "Since we're using the S1_GRD collection, values are expressed in decibels (dB), i.e., on a logarithmic scale."
      ]
    },
    {
      "cell_type": "code",
      "metadata": {
        "id": "WEcrKXvJmlgv",
        "colab": {
          "base_uri": "https://localhost:8080/"
        },
        "outputId": "0d94d597-e38f-4967-9643-0d24efa4e414"
      },
      "source": [
        "s1 = (ee.ImageCollection(\"COPERNICUS/S1_GRD_FLOAT\")\n",
        "        .filter(ee.Filter.listContains('transmitterReceiverPolarisation', 'VV'))\n",
        "        .filter(ee.Filter.eq(\"instrumentMode\", \"IW\"))\n",
        "        .filter(ee.Filter.eq(\"orbitProperties_pass\", \"DESCENDING\"))\n",
        "        .filterDate(startDate, endDate)\n",
        "        .filterBounds(roi)\n",
        "        .select(['VV', 'VH'])\n",
        "        .mean())\n",
        "\n",
        "type(s1)"
      ],
      "execution_count": 13,
      "outputs": [
        {
          "output_type": "execute_result",
          "data": {
            "text/plain": [
              "ee.image.Image"
            ]
          },
          "metadata": {
            "tags": []
          },
          "execution_count": 13
        }
      ]
    },
    {
      "cell_type": "markdown",
      "metadata": {
        "id": "pMu0rJ-Is9_n"
      },
      "source": [
        "Add a new band to the output image containing the radar volume index calculated from *VV* and *VH*: `4 * VH / (VH + VV)`"
      ]
    },
    {
      "cell_type": "code",
      "metadata": {
        "colab": {
          "base_uri": "https://localhost:8080/"
        },
        "id": "5ZDZQSvHZnMd",
        "outputId": "9a8b01ea-2c41-4212-a467-277436312bff"
      },
      "source": [
        "s1out = s1.addBands(s1.expression(\n",
        "    expression=\"4 * VH / (VH + VV)\",\n",
        "    opt_map={'VV': s1.select('VV'),\n",
        "             'VH': s1.select('VH')}\n",
        ").rename('radar_volume_index'))\n",
        "\n",
        "type(s1out)"
      ],
      "execution_count": 14,
      "outputs": [
        {
          "output_type": "execute_result",
          "data": {
            "text/plain": [
              "ee.image.Image"
            ]
          },
          "metadata": {
            "tags": []
          },
          "execution_count": 14
        }
      ]
    },
    {
      "cell_type": "markdown",
      "metadata": {
        "id": "gKyRkBKHejHZ"
      },
      "source": [
        "Do a sanity check by calling the `gee.image_stats` helper function."
      ]
    },
    {
      "cell_type": "code",
      "metadata": {
        "colab": {
          "base_uri": "https://localhost:8080/"
        },
        "id": "Y3ZKqMJgejRH",
        "outputId": "05f27de5-c07d-4662-c273-d3727a8245c9"
      },
      "source": [
        "def get_stats(img, region=roi, scale=30):\n",
        "    return geemap.image_stats(img=img, region=roi, scale=scale).getInfo()\n",
        "\n",
        "s1stats = get_stats(s1out)\n",
        "\n",
        "print(dumps(s1stats, indent=2))"
      ],
      "execution_count": 15,
      "outputs": [
        {
          "output_type": "stream",
          "text": [
            "{\n",
            "  \"max\": {\n",
            "    \"VH\": 31.514314651489258,\n",
            "    \"VV\": 151.91336059570312,\n",
            "    \"radar_volume_index\": 3.5887667183810845\n",
            "  },\n",
            "  \"mean\": {\n",
            "    \"VH\": 0.05753422303811495,\n",
            "    \"VV\": 0.27383225795294197,\n",
            "    \"radar_volume_index\": 0.7529022548547163\n",
            "  },\n",
            "  \"min\": {\n",
            "    \"VH\": 0.0007404029020108283,\n",
            "    \"VV\": 0.002610241062939167,\n",
            "    \"radar_volume_index\": 0.003941103884150734\n",
            "  },\n",
            "  \"std\": {\n",
            "    \"VH\": 0.06861745917207743,\n",
            "    \"VV\": 0.3707327100102446,\n",
            "    \"radar_volume_index\": 0.1328611944713781\n",
            "  },\n",
            "  \"sum\": {\n",
            "    \"VH\": 4516671.154036646,\n",
            "    \"VV\": 21496949.037122123,\n",
            "    \"radar_volume_index\": 59105897.61607845\n",
            "  }\n",
            "}\n"
          ],
          "name": "stdout"
        }
      ]
    },
    {
      "cell_type": "markdown",
      "metadata": {
        "id": "uZcSQPoDxalI"
      },
      "source": [
        "Plot the histograms for *VV* and *VH*:"
      ]
    },
    {
      "cell_type": "code",
      "metadata": {
        "id": "9cvSkhj2jxsk"
      },
      "source": [
        "# s1tmp = geemap.ee_to_numpy(s1comp, bands=[\"VV\", \"VH\"], region=roi)\n",
        "\n",
        "# # Plot histogram for VV:\n",
        "# counts, bins = np.histogram(a=s1tmp[:,:,0].flatten())\n",
        "# plt.hist(s1tmp[:,:,0], bins=bins)\n",
        "# plt.ylim(0., 3.)\n",
        "# plt.xlim(-18., -5.)\n",
        "# plt.show()\n",
        "\n",
        "# # Plot histogram for VH:\n",
        "# counts, bins = np.histogram(a=s1tmp[:,:,1].flatten())\n",
        "# plt.hist(s1tmp[:,:,1], bins=bins)\n",
        "# plt.ylim(0., 3.)\n",
        "# plt.xlim(-18., -5.)\n",
        "# plt.show()"
      ],
      "execution_count": 16,
      "outputs": []
    },
    {
      "cell_type": "markdown",
      "metadata": {
        "id": "td8ZN2Jdfh-b"
      },
      "source": [
        "Now plot all the bands (including the computed *radar_volume_index* image/band) for visual inspection:"
      ]
    },
    {
      "cell_type": "code",
      "metadata": {
        "colab": {
          "base_uri": "https://localhost:8080/",
          "height": 622
        },
        "id": "03Ns1Y_Tbi6u",
        "outputId": "a7d0e75a-d311-461f-c5e5-04e8d93d9ded"
      },
      "source": [
        "def drawMap(image, style_func, **kwargs):\n",
        "    M = geemap.Map(**kwargs)\n",
        "    for band in image.bandNames().getInfo():\n",
        "        M.addLayer(image.select(band), **style_func(band))\n",
        "    M.addLayerControl()\n",
        "    return M\n",
        "\n",
        "def s1style(b: str, vis_params: dict={}):\n",
        "    if b.endswith(\"radar_volume_index\"):\n",
        "        vis_params = {'min': s1stats['min'][b], 'max': s1stats['max'][b]}\n",
        "    return {'vis_params': vis_params, \n",
        "            'shown': b.endswith(\"radar_volume_index\"), \n",
        "            'name': b}\n",
        "\n",
        "drawMap(image=s1out, style_func=s1style, center=roi_center, zoom=7, width=\"80%\")"
      ],
      "execution_count": 17,
      "outputs": [
        {
          "output_type": "execute_result",
          "data": {
            "text/html": [
              "<div style=\"width:100%;\"><div style=\"position:relative;width:100%;height:0;padding-bottom:60%;\"><span style=\"color:#565656\">Make this Notebook Trusted to load map: File -> Trust Notebook</span><iframe src=\"about:blank\" style=\"position:absolute;width:100%;height:100%;left:0;top:0;border:none !important;\" data-html=%3C%21DOCTYPE%20html%3E%0A%3Chead%3E%20%20%20%20%0A%20%20%20%20%3Cmeta%20http-equiv%3D%22content-type%22%20content%3D%22text/html%3B%20charset%3DUTF-8%22%20/%3E%0A%20%20%20%20%0A%20%20%20%20%20%20%20%20%3Cscript%3E%0A%20%20%20%20%20%20%20%20%20%20%20%20L_NO_TOUCH%20%3D%20false%3B%0A%20%20%20%20%20%20%20%20%20%20%20%20L_DISABLE_3D%20%3D%20false%3B%0A%20%20%20%20%20%20%20%20%3C/script%3E%0A%20%20%20%20%0A%20%20%20%20%3Cstyle%3Ehtml%2C%20body%20%7Bwidth%3A%20100%25%3Bheight%3A%20100%25%3Bmargin%3A%200%3Bpadding%3A%200%3B%7D%3C/style%3E%0A%20%20%20%20%3Cstyle%3E%23map%20%7Bposition%3Aabsolute%3Btop%3A0%3Bbottom%3A0%3Bright%3A0%3Bleft%3A0%3B%7D%3C/style%3E%0A%20%20%20%20%3Cscript%20src%3D%22https%3A//cdn.jsdelivr.net/npm/leaflet%401.6.0/dist/leaflet.js%22%3E%3C/script%3E%0A%20%20%20%20%3Cscript%20src%3D%22https%3A//code.jquery.com/jquery-1.12.4.min.js%22%3E%3C/script%3E%0A%20%20%20%20%3Cscript%20src%3D%22https%3A//maxcdn.bootstrapcdn.com/bootstrap/3.2.0/js/bootstrap.min.js%22%3E%3C/script%3E%0A%20%20%20%20%3Cscript%20src%3D%22https%3A//cdnjs.cloudflare.com/ajax/libs/Leaflet.awesome-markers/2.0.2/leaflet.awesome-markers.js%22%3E%3C/script%3E%0A%20%20%20%20%3Clink%20rel%3D%22stylesheet%22%20href%3D%22https%3A//cdn.jsdelivr.net/npm/leaflet%401.6.0/dist/leaflet.css%22/%3E%0A%20%20%20%20%3Clink%20rel%3D%22stylesheet%22%20href%3D%22https%3A//maxcdn.bootstrapcdn.com/bootstrap/3.2.0/css/bootstrap.min.css%22/%3E%0A%20%20%20%20%3Clink%20rel%3D%22stylesheet%22%20href%3D%22https%3A//maxcdn.bootstrapcdn.com/bootstrap/3.2.0/css/bootstrap-theme.min.css%22/%3E%0A%20%20%20%20%3Clink%20rel%3D%22stylesheet%22%20href%3D%22https%3A//maxcdn.bootstrapcdn.com/font-awesome/4.6.3/css/font-awesome.min.css%22/%3E%0A%20%20%20%20%3Clink%20rel%3D%22stylesheet%22%20href%3D%22https%3A//cdnjs.cloudflare.com/ajax/libs/Leaflet.awesome-markers/2.0.2/leaflet.awesome-markers.css%22/%3E%0A%20%20%20%20%3Clink%20rel%3D%22stylesheet%22%20href%3D%22https%3A//cdn.jsdelivr.net/gh/python-visualization/folium/folium/templates/leaflet.awesome.rotate.min.css%22/%3E%0A%20%20%20%20%0A%20%20%20%20%20%20%20%20%20%20%20%20%3Cmeta%20name%3D%22viewport%22%20content%3D%22width%3Ddevice-width%2C%0A%20%20%20%20%20%20%20%20%20%20%20%20%20%20%20%20initial-scale%3D1.0%2C%20maximum-scale%3D1.0%2C%20user-scalable%3Dno%22%20/%3E%0A%20%20%20%20%20%20%20%20%20%20%20%20%3Cstyle%3E%0A%20%20%20%20%20%20%20%20%20%20%20%20%20%20%20%20%23map_a022b77b89e442639eabde29a6090d44%20%7B%0A%20%20%20%20%20%20%20%20%20%20%20%20%20%20%20%20%20%20%20%20position%3A%20relative%3B%0A%20%20%20%20%20%20%20%20%20%20%20%20%20%20%20%20%20%20%20%20width%3A%2080.0%25%3B%0A%20%20%20%20%20%20%20%20%20%20%20%20%20%20%20%20%20%20%20%20height%3A%20100.0%25%3B%0A%20%20%20%20%20%20%20%20%20%20%20%20%20%20%20%20%20%20%20%20left%3A%200.0%25%3B%0A%20%20%20%20%20%20%20%20%20%20%20%20%20%20%20%20%20%20%20%20top%3A%200.0%25%3B%0A%20%20%20%20%20%20%20%20%20%20%20%20%20%20%20%20%7D%0A%20%20%20%20%20%20%20%20%20%20%20%20%3C/style%3E%0A%20%20%20%20%20%20%20%20%0A%20%20%20%20%3Cscript%20src%3D%22https%3A//cdnjs.cloudflare.com/ajax/libs/leaflet.fullscreen/1.4.2/Control.FullScreen.min.js%22%3E%3C/script%3E%0A%20%20%20%20%3Clink%20rel%3D%22stylesheet%22%20href%3D%22https%3A//cdnjs.cloudflare.com/ajax/libs/leaflet.fullscreen/1.4.2/Control.FullScreen.min.css%22/%3E%0A%3C/head%3E%0A%3Cbody%3E%20%20%20%20%0A%20%20%20%20%0A%20%20%20%20%20%20%20%20%20%20%20%20%3Cdiv%20class%3D%22folium-map%22%20id%3D%22map_a022b77b89e442639eabde29a6090d44%22%20%3E%3C/div%3E%0A%20%20%20%20%20%20%20%20%0A%3C/body%3E%0A%3Cscript%3E%20%20%20%20%0A%20%20%20%20%0A%20%20%20%20%20%20%20%20%20%20%20%20var%20map_a022b77b89e442639eabde29a6090d44%20%3D%20L.map%28%0A%20%20%20%20%20%20%20%20%20%20%20%20%20%20%20%20%22map_a022b77b89e442639eabde29a6090d44%22%2C%0A%20%20%20%20%20%20%20%20%20%20%20%20%20%20%20%20%7B%0A%20%20%20%20%20%20%20%20%20%20%20%20%20%20%20%20%20%20%20%20center%3A%20%5B-7.132673861109996%2C%20-76.61272973500003%5D%2C%0A%20%20%20%20%20%20%20%20%20%20%20%20%20%20%20%20%20%20%20%20crs%3A%20L.CRS.EPSG3857%2C%0A%20%20%20%20%20%20%20%20%20%20%20%20%20%20%20%20%20%20%20%20zoom%3A%207%2C%0A%20%20%20%20%20%20%20%20%20%20%20%20%20%20%20%20%20%20%20%20zoomControl%3A%20true%2C%0A%20%20%20%20%20%20%20%20%20%20%20%20%20%20%20%20%20%20%20%20preferCanvas%3A%20false%2C%0A%20%20%20%20%20%20%20%20%20%20%20%20%20%20%20%20%20%20%20%20eeInitialize%3A%20true%2C%0A%20%20%20%20%20%20%20%20%20%20%20%20%20%20%20%20%20%20%20%20addGoogleMap%3A%20true%2C%0A%20%20%20%20%20%20%20%20%20%20%20%20%20%20%20%20%20%20%20%20pluginLatlngpopup%3A%20true%2C%0A%20%20%20%20%20%20%20%20%20%20%20%20%20%20%20%20%20%20%20%20pluginFullscreen%3A%20true%2C%0A%20%20%20%20%20%20%20%20%20%20%20%20%20%20%20%20%20%20%20%20pluginDraw%3A%20false%2C%0A%20%20%20%20%20%20%20%20%20%20%20%20%20%20%20%20%20%20%20%20DrawExport%3A%20true%2C%0A%20%20%20%20%20%20%20%20%20%20%20%20%20%20%20%20%20%20%20%20pluginMinimap%3A%20false%2C%0A%20%20%20%20%20%20%20%20%20%20%20%20%20%20%20%20%20%20%20%20pluginLayercontrol%3A%20false%2C%0A%20%20%20%20%20%20%20%20%20%20%20%20%20%20%20%20%7D%0A%20%20%20%20%20%20%20%20%20%20%20%20%29%3B%0A%0A%20%20%20%20%20%20%20%20%20%20%20%20%0A%0A%20%20%20%20%20%20%20%20%0A%20%20%20%20%0A%20%20%20%20%20%20%20%20%20%20%20%20var%20tile_layer_4adf8fef305a420ca07ae5db8ec1e8d9%20%3D%20L.tileLayer%28%0A%20%20%20%20%20%20%20%20%20%20%20%20%20%20%20%20%22https%3A//%7Bs%7D.tile.openstreetmap.org/%7Bz%7D/%7Bx%7D/%7By%7D.png%22%2C%0A%20%20%20%20%20%20%20%20%20%20%20%20%20%20%20%20%7B%22attribution%22%3A%20%22Data%20by%20%5Cu0026copy%3B%20%5Cu003ca%20href%3D%5C%22http%3A//openstreetmap.org%5C%22%5Cu003eOpenStreetMap%5Cu003c/a%5Cu003e%2C%20under%20%5Cu003ca%20href%3D%5C%22http%3A//www.openstreetmap.org/copyright%5C%22%5Cu003eODbL%5Cu003c/a%5Cu003e.%22%2C%20%22detectRetina%22%3A%20false%2C%20%22maxNativeZoom%22%3A%2018%2C%20%22maxZoom%22%3A%2018%2C%20%22minZoom%22%3A%200%2C%20%22noWrap%22%3A%20false%2C%20%22opacity%22%3A%201%2C%20%22subdomains%22%3A%20%22abc%22%2C%20%22tms%22%3A%20false%7D%0A%20%20%20%20%20%20%20%20%20%20%20%20%29.addTo%28map_a022b77b89e442639eabde29a6090d44%29%3B%0A%20%20%20%20%20%20%20%20%0A%20%20%20%20%0A%20%20%20%20%20%20%20%20%20%20%20%20var%20tile_layer_66a50903393047cc8f009e620f0ee1fa%20%3D%20L.tileLayer%28%0A%20%20%20%20%20%20%20%20%20%20%20%20%20%20%20%20%22https%3A//mt1.google.com/vt/lyrs%3Dm%5Cu0026x%3D%7Bx%7D%5Cu0026y%3D%7By%7D%5Cu0026z%3D%7Bz%7D%22%2C%0A%20%20%20%20%20%20%20%20%20%20%20%20%20%20%20%20%7B%22attribution%22%3A%20%22Google%22%2C%20%22detectRetina%22%3A%20false%2C%20%22maxNativeZoom%22%3A%2018%2C%20%22maxZoom%22%3A%2018%2C%20%22minZoom%22%3A%200%2C%20%22noWrap%22%3A%20false%2C%20%22opacity%22%3A%201%2C%20%22subdomains%22%3A%20%22abc%22%2C%20%22tms%22%3A%20false%7D%0A%20%20%20%20%20%20%20%20%20%20%20%20%29.addTo%28map_a022b77b89e442639eabde29a6090d44%29%3B%0A%20%20%20%20%20%20%20%20%0A%20%20%20%20%0A%20%20%20%20%20%20%20%20%20%20%20%20%20%20%20%20var%20lat_lng_popup_4ad2fb0c01de4e58bd31616e141d56a0%20%3D%20L.popup%28%29%3B%0A%20%20%20%20%20%20%20%20%20%20%20%20%20%20%20%20function%20latLngPop%28e%29%20%7B%0A%20%20%20%20%20%20%20%20%20%20%20%20%20%20%20%20%20%20%20%20lat_lng_popup_4ad2fb0c01de4e58bd31616e141d56a0%0A%20%20%20%20%20%20%20%20%20%20%20%20%20%20%20%20%20%20%20%20%20%20%20%20.setLatLng%28e.latlng%29%0A%20%20%20%20%20%20%20%20%20%20%20%20%20%20%20%20%20%20%20%20%20%20%20%20.setContent%28%22Latitude%3A%20%22%20%2B%20e.latlng.lat.toFixed%284%29%20%2B%0A%20%20%20%20%20%20%20%20%20%20%20%20%20%20%20%20%20%20%20%20%20%20%20%20%20%20%20%20%20%20%20%20%20%20%20%20%22%3Cbr%3ELongitude%3A%20%22%20%2B%20e.latlng.lng.toFixed%284%29%29%0A%20%20%20%20%20%20%20%20%20%20%20%20%20%20%20%20%20%20%20%20%20%20%20%20.openOn%28map_a022b77b89e442639eabde29a6090d44%29%3B%0A%20%20%20%20%20%20%20%20%20%20%20%20%20%20%20%20%20%20%20%20%7D%0A%20%20%20%20%20%20%20%20%20%20%20%20%20%20%20%20map_a022b77b89e442639eabde29a6090d44.on%28%27click%27%2C%20latLngPop%29%3B%0A%20%20%20%20%20%20%20%20%20%20%20%20%0A%20%20%20%20%0A%20%20%20%20%20%20%20%20%20%20%20%20L.control.fullscreen%28%0A%20%20%20%20%20%20%20%20%20%20%20%20%20%20%20%20%7B%22forceSeparateButton%22%3A%20false%2C%20%22position%22%3A%20%22topleft%22%2C%20%22title%22%3A%20%22Full%20Screen%22%2C%20%22titleCancel%22%3A%20%22Exit%20Full%20Screen%22%7D%0A%20%20%20%20%20%20%20%20%20%20%20%20%29.addTo%28map_a022b77b89e442639eabde29a6090d44%29%3B%0A%20%20%20%20%20%20%20%20%0A%20%20%20%20%0A%20%20%20%20%20%20%20%20%20%20%20%20map_a022b77b89e442639eabde29a6090d44.fitBounds%28%0A%20%20%20%20%20%20%20%20%20%20%20%20%20%20%20%20%5B%5B-7.132673861109996%2C%20-76.61272973500003%5D%2C%20%5B-7.132673861109996%2C%20-76.61272973500003%5D%5D%2C%0A%20%20%20%20%20%20%20%20%20%20%20%20%20%20%20%20%7B%22maxZoom%22%3A%207%7D%0A%20%20%20%20%20%20%20%20%20%20%20%20%29%3B%0A%20%20%20%20%20%20%20%20%0A%20%20%20%20%0A%20%20%20%20%20%20%20%20%20%20%20%20var%20tile_layer_482cf2709c9a471296072df749d9c5c8%20%3D%20L.tileLayer%28%0A%20%20%20%20%20%20%20%20%20%20%20%20%20%20%20%20%22https%3A//earthengine.googleapis.com/v1alpha/projects/earthengine-legacy/maps/df7aa55fcc842f619e32bbdc82e4ef1b-e2717c1ed2b48dcd68b7f689e93a3878/tiles/%7Bz%7D/%7Bx%7D/%7By%7D%22%2C%0A%20%20%20%20%20%20%20%20%20%20%20%20%20%20%20%20%7B%22attribution%22%3A%20%22Google%20Earth%20Engine%22%2C%20%22detectRetina%22%3A%20false%2C%20%22maxNativeZoom%22%3A%2018%2C%20%22maxZoom%22%3A%2018%2C%20%22minZoom%22%3A%200%2C%20%22noWrap%22%3A%20false%2C%20%22opacity%22%3A%201.0%2C%20%22subdomains%22%3A%20%22abc%22%2C%20%22tms%22%3A%20false%7D%0A%20%20%20%20%20%20%20%20%20%20%20%20%29.addTo%28map_a022b77b89e442639eabde29a6090d44%29%3B%0A%20%20%20%20%20%20%20%20%0A%20%20%20%20%0A%20%20%20%20%20%20%20%20%20%20%20%20var%20tile_layer_a09f664b45394514bdb280271cebeb34%20%3D%20L.tileLayer%28%0A%20%20%20%20%20%20%20%20%20%20%20%20%20%20%20%20%22https%3A//earthengine.googleapis.com/v1alpha/projects/earthengine-legacy/maps/647edab6c7e7999b6e13daa8c575a43d-672b4e2fe93058b660ab08990ff8d11a/tiles/%7Bz%7D/%7Bx%7D/%7By%7D%22%2C%0A%20%20%20%20%20%20%20%20%20%20%20%20%20%20%20%20%7B%22attribution%22%3A%20%22Google%20Earth%20Engine%22%2C%20%22detectRetina%22%3A%20false%2C%20%22maxNativeZoom%22%3A%2018%2C%20%22maxZoom%22%3A%2018%2C%20%22minZoom%22%3A%200%2C%20%22noWrap%22%3A%20false%2C%20%22opacity%22%3A%201.0%2C%20%22subdomains%22%3A%20%22abc%22%2C%20%22tms%22%3A%20false%7D%0A%20%20%20%20%20%20%20%20%20%20%20%20%29.addTo%28map_a022b77b89e442639eabde29a6090d44%29%3B%0A%20%20%20%20%20%20%20%20%0A%20%20%20%20%0A%20%20%20%20%20%20%20%20%20%20%20%20var%20tile_layer_a120bc3ca0a84c9cb8c055a43bd2f54b%20%3D%20L.tileLayer%28%0A%20%20%20%20%20%20%20%20%20%20%20%20%20%20%20%20%22https%3A//earthengine.googleapis.com/v1alpha/projects/earthengine-legacy/maps/724535e7b91d2044715eddfa4d4e08a6-7208fe8fc787432e4b026d00680fa55f/tiles/%7Bz%7D/%7Bx%7D/%7By%7D%22%2C%0A%20%20%20%20%20%20%20%20%20%20%20%20%20%20%20%20%7B%22attribution%22%3A%20%22Google%20Earth%20Engine%22%2C%20%22detectRetina%22%3A%20false%2C%20%22maxNativeZoom%22%3A%2018%2C%20%22maxZoom%22%3A%2018%2C%20%22minZoom%22%3A%200%2C%20%22noWrap%22%3A%20false%2C%20%22opacity%22%3A%201.0%2C%20%22subdomains%22%3A%20%22abc%22%2C%20%22tms%22%3A%20false%7D%0A%20%20%20%20%20%20%20%20%20%20%20%20%29.addTo%28map_a022b77b89e442639eabde29a6090d44%29%3B%0A%20%20%20%20%20%20%20%20%0A%20%20%20%20%0A%20%20%20%20%20%20%20%20%20%20%20%20var%20layer_control_332d66502b284ccf835207b93019f55c%20%3D%20%7B%0A%20%20%20%20%20%20%20%20%20%20%20%20%20%20%20%20base_layers%20%3A%20%7B%0A%20%20%20%20%20%20%20%20%20%20%20%20%20%20%20%20%20%20%20%20%22openstreetmap%22%20%3A%20tile_layer_4adf8fef305a420ca07ae5db8ec1e8d9%2C%0A%20%20%20%20%20%20%20%20%20%20%20%20%20%20%20%20%7D%2C%0A%20%20%20%20%20%20%20%20%20%20%20%20%20%20%20%20overlays%20%3A%20%20%7B%0A%20%20%20%20%20%20%20%20%20%20%20%20%20%20%20%20%20%20%20%20%22Google%20Maps%22%20%3A%20tile_layer_66a50903393047cc8f009e620f0ee1fa%2C%0A%20%20%20%20%20%20%20%20%20%20%20%20%20%20%20%20%20%20%20%20%22VV%22%20%3A%20tile_layer_482cf2709c9a471296072df749d9c5c8%2C%0A%20%20%20%20%20%20%20%20%20%20%20%20%20%20%20%20%20%20%20%20%22VH%22%20%3A%20tile_layer_a09f664b45394514bdb280271cebeb34%2C%0A%20%20%20%20%20%20%20%20%20%20%20%20%20%20%20%20%20%20%20%20%22radar_volume_index%22%20%3A%20tile_layer_a120bc3ca0a84c9cb8c055a43bd2f54b%2C%0A%20%20%20%20%20%20%20%20%20%20%20%20%20%20%20%20%7D%2C%0A%20%20%20%20%20%20%20%20%20%20%20%20%7D%3B%0A%20%20%20%20%20%20%20%20%20%20%20%20L.control.layers%28%0A%20%20%20%20%20%20%20%20%20%20%20%20%20%20%20%20layer_control_332d66502b284ccf835207b93019f55c.base_layers%2C%0A%20%20%20%20%20%20%20%20%20%20%20%20%20%20%20%20layer_control_332d66502b284ccf835207b93019f55c.overlays%2C%0A%20%20%20%20%20%20%20%20%20%20%20%20%20%20%20%20%7B%22autoZIndex%22%3A%20true%2C%20%22collapsed%22%3A%20true%2C%20%22position%22%3A%20%22topright%22%7D%0A%20%20%20%20%20%20%20%20%20%20%20%20%29.addTo%28map_a022b77b89e442639eabde29a6090d44%29%3B%0A%20%20%20%20%20%20%20%20%20%20%20%20tile_layer_482cf2709c9a471296072df749d9c5c8.remove%28%29%3B%0A%20%20%20%20%20%20%20%20%20%20%20%20tile_layer_a09f664b45394514bdb280271cebeb34.remove%28%29%3B%0A%20%20%20%20%20%20%20%20%0A%3C/script%3E onload=\"this.contentDocument.open();this.contentDocument.write(    decodeURIComponent(this.getAttribute('data-html')));this.contentDocument.close();\" allowfullscreen webkitallowfullscreen mozallowfullscreen></iframe></div></div>"
            ],
            "text/plain": [
              "<geemap.eefolium.Map at 0x7f4506a78ad0>"
            ]
          },
          "metadata": {
            "tags": []
          },
          "execution_count": 17
        }
      ]
    },
    {
      "cell_type": "markdown",
      "metadata": {
        "id": "XlcNbkU7ptm8"
      },
      "source": [
        "### ALOS2\n",
        "\n",
        "https://developers.google.com/earth-engine/datasets/catalog/JAXA_ALOS_PALSAR_YEARLY_SAR\n",
        "\n",
        "This dataset from ALOS2 only has one timestep per year, so modify the start and end dates before applying *filterDate* to the *ImageCollection*."
      ]
    },
    {
      "cell_type": "code",
      "metadata": {
        "id": "Xb-_GQUfnCdJ",
        "colab": {
          "base_uri": "https://localhost:8080/"
        },
        "outputId": "6d05f96e-5ff4-473a-e771-023d1b223495"
      },
      "source": [
        "alos2 = (ee.ImageCollection('JAXA/ALOS/PALSAR/YEARLY/SAR')\n",
        "           .filterDate(*years)\n",
        "           .filterBounds(roi)\n",
        "           .select(['HV','HH'])\n",
        "           .mean())\n",
        "\n",
        "type(alos2)"
      ],
      "execution_count": 18,
      "outputs": [
        {
          "output_type": "execute_result",
          "data": {
            "text/plain": [
              "ee.image.Image"
            ]
          },
          "metadata": {
            "tags": []
          },
          "execution_count": 18
        }
      ]
    },
    {
      "cell_type": "markdown",
      "metadata": {
        "id": "wYpy9du5maN4"
      },
      "source": [
        "Add a new band to the output image containing the ALOS2 radar volume index calculated as: `4 * HV / (HV + HH)`"
      ]
    },
    {
      "cell_type": "code",
      "metadata": {
        "id": "KQlAoNF-kg9r",
        "colab": {
          "base_uri": "https://localhost:8080/"
        },
        "outputId": "5c05b720-5df2-4b6a-fd66-50b58348f2db"
      },
      "source": [
        "alos2out = alos2.addBands(alos2.expression(\n",
        "    expression=\"4 * HV / (HV + HH)\", \n",
        "    opt_map={'HV': alos2.select('HV'),\n",
        "             'HH': alos2.select('HH')}\n",
        ").rename('radar_volume_index'))\n",
        "\n",
        "type(alos2out)"
      ],
      "execution_count": 19,
      "outputs": [
        {
          "output_type": "execute_result",
          "data": {
            "text/plain": [
              "ee.image.Image"
            ]
          },
          "metadata": {
            "tags": []
          },
          "execution_count": 19
        }
      ]
    },
    {
      "cell_type": "markdown",
      "metadata": {
        "id": "9F2w3fQvqKNE"
      },
      "source": [
        "### NDVI from Landsat\n",
        "\n",
        "* https://developers.google.com/earth-engine/datasets/catalog/LANDSAT_LC08_C01_T1_SR\n",
        "* https://developers.google.com/earth-engine/guides/image_math#colab-python_1\n",
        "\n",
        ">Try some of these masking and visualization techniques for NDVI: https://developers.google.com/earth-engine/guides/ic_composite_mosaic    \n",
        ">Outputs in South America appear very white -- make sure it is the distribution or another innocuous cause."
      ]
    },
    {
      "cell_type": "code",
      "metadata": {
        "id": "y5s7JRuOqBxv",
        "colab": {
          "base_uri": "https://localhost:8080/"
        },
        "outputId": "077d6b4d-b671-4ef1-a705-3fe7abecb8e8"
      },
      "source": [
        "def mask_l8sr(image):\n",
        "    cloudShadowBitMask = 1<<3\n",
        "    cloudBitMask = 1<<5\n",
        "    qa = image.select('pixel_qa')\n",
        "    mask = qa.bitwiseAnd(cloudShadowBitMask).eq(0).And(\n",
        "           qa.bitwiseAnd(cloudBitMask).eq(0))\n",
        "    return image.updateMask(mask)\n",
        "\n",
        "\n",
        "l8sr = (ee.ImageCollection('LANDSAT/LC08/C01/T1_SR')\n",
        "          .filterDate(startDate, endDate)\n",
        "          .filterBounds(roi)\n",
        "          .map(mask_l8sr)\n",
        "          .median())\n",
        "\n",
        "# Use Landsat 8 bands 5 and 4 to calculate NDVI.\n",
        "l8out = l8sr.addBands(l8sr.normalizedDifference(['B5', 'B4']).rename('ndvi'))\n",
        "\n",
        "type(l8out)"
      ],
      "execution_count": 20,
      "outputs": [
        {
          "output_type": "execute_result",
          "data": {
            "text/plain": [
              "ee.image.Image"
            ]
          },
          "metadata": {
            "tags": []
          },
          "execution_count": 20
        }
      ]
    },
    {
      "cell_type": "code",
      "metadata": {
        "colab": {
          "base_uri": "https://localhost:8080/",
          "height": 622
        },
        "id": "x-K1pT9Y_VNn",
        "outputId": "d49a6230-b387-4c03-f67b-331021cee474"
      },
      "source": [
        "def l8style(b: str, vis_params: dict={}):\n",
        "    if b.endswith(\"ndvi\"):\n",
        "        vis_params = {'min': -1.0, 'max': 1.0, 'palette': 'red,yellow,green'}\n",
        "    return {'vis_params': vis_params, 'shown': b.endswith(\"ndvi\"), 'name': b}\n",
        "\n",
        "drawMap(image=l8out, style_func=l8style, center=roi_center, width=\"90%\")"
      ],
      "execution_count": 21,
      "outputs": [
        {
          "output_type": "execute_result",
          "data": {
            "text/html": [
              "<div style=\"width:100%;\"><div style=\"position:relative;width:100%;height:0;padding-bottom:60%;\"><span style=\"color:#565656\">Make this Notebook Trusted to load map: File -> Trust Notebook</span><iframe src=\"about:blank\" style=\"position:absolute;width:100%;height:100%;left:0;top:0;border:none !important;\" data-html=%3C%21DOCTYPE%20html%3E%0A%3Chead%3E%20%20%20%20%0A%20%20%20%20%3Cmeta%20http-equiv%3D%22content-type%22%20content%3D%22text/html%3B%20charset%3DUTF-8%22%20/%3E%0A%20%20%20%20%0A%20%20%20%20%20%20%20%20%3Cscript%3E%0A%20%20%20%20%20%20%20%20%20%20%20%20L_NO_TOUCH%20%3D%20false%3B%0A%20%20%20%20%20%20%20%20%20%20%20%20L_DISABLE_3D%20%3D%20false%3B%0A%20%20%20%20%20%20%20%20%3C/script%3E%0A%20%20%20%20%0A%20%20%20%20%3Cstyle%3Ehtml%2C%20body%20%7Bwidth%3A%20100%25%3Bheight%3A%20100%25%3Bmargin%3A%200%3Bpadding%3A%200%3B%7D%3C/style%3E%0A%20%20%20%20%3Cstyle%3E%23map%20%7Bposition%3Aabsolute%3Btop%3A0%3Bbottom%3A0%3Bright%3A0%3Bleft%3A0%3B%7D%3C/style%3E%0A%20%20%20%20%3Cscript%20src%3D%22https%3A//cdn.jsdelivr.net/npm/leaflet%401.6.0/dist/leaflet.js%22%3E%3C/script%3E%0A%20%20%20%20%3Cscript%20src%3D%22https%3A//code.jquery.com/jquery-1.12.4.min.js%22%3E%3C/script%3E%0A%20%20%20%20%3Cscript%20src%3D%22https%3A//maxcdn.bootstrapcdn.com/bootstrap/3.2.0/js/bootstrap.min.js%22%3E%3C/script%3E%0A%20%20%20%20%3Cscript%20src%3D%22https%3A//cdnjs.cloudflare.com/ajax/libs/Leaflet.awesome-markers/2.0.2/leaflet.awesome-markers.js%22%3E%3C/script%3E%0A%20%20%20%20%3Clink%20rel%3D%22stylesheet%22%20href%3D%22https%3A//cdn.jsdelivr.net/npm/leaflet%401.6.0/dist/leaflet.css%22/%3E%0A%20%20%20%20%3Clink%20rel%3D%22stylesheet%22%20href%3D%22https%3A//maxcdn.bootstrapcdn.com/bootstrap/3.2.0/css/bootstrap.min.css%22/%3E%0A%20%20%20%20%3Clink%20rel%3D%22stylesheet%22%20href%3D%22https%3A//maxcdn.bootstrapcdn.com/bootstrap/3.2.0/css/bootstrap-theme.min.css%22/%3E%0A%20%20%20%20%3Clink%20rel%3D%22stylesheet%22%20href%3D%22https%3A//maxcdn.bootstrapcdn.com/font-awesome/4.6.3/css/font-awesome.min.css%22/%3E%0A%20%20%20%20%3Clink%20rel%3D%22stylesheet%22%20href%3D%22https%3A//cdnjs.cloudflare.com/ajax/libs/Leaflet.awesome-markers/2.0.2/leaflet.awesome-markers.css%22/%3E%0A%20%20%20%20%3Clink%20rel%3D%22stylesheet%22%20href%3D%22https%3A//cdn.jsdelivr.net/gh/python-visualization/folium/folium/templates/leaflet.awesome.rotate.min.css%22/%3E%0A%20%20%20%20%0A%20%20%20%20%20%20%20%20%20%20%20%20%3Cmeta%20name%3D%22viewport%22%20content%3D%22width%3Ddevice-width%2C%0A%20%20%20%20%20%20%20%20%20%20%20%20%20%20%20%20initial-scale%3D1.0%2C%20maximum-scale%3D1.0%2C%20user-scalable%3Dno%22%20/%3E%0A%20%20%20%20%20%20%20%20%20%20%20%20%3Cstyle%3E%0A%20%20%20%20%20%20%20%20%20%20%20%20%20%20%20%20%23map_309c7caa6a5845778b7b1f07231a1a4b%20%7B%0A%20%20%20%20%20%20%20%20%20%20%20%20%20%20%20%20%20%20%20%20position%3A%20relative%3B%0A%20%20%20%20%20%20%20%20%20%20%20%20%20%20%20%20%20%20%20%20width%3A%2090.0%25%3B%0A%20%20%20%20%20%20%20%20%20%20%20%20%20%20%20%20%20%20%20%20height%3A%20100.0%25%3B%0A%20%20%20%20%20%20%20%20%20%20%20%20%20%20%20%20%20%20%20%20left%3A%200.0%25%3B%0A%20%20%20%20%20%20%20%20%20%20%20%20%20%20%20%20%20%20%20%20top%3A%200.0%25%3B%0A%20%20%20%20%20%20%20%20%20%20%20%20%20%20%20%20%7D%0A%20%20%20%20%20%20%20%20%20%20%20%20%3C/style%3E%0A%20%20%20%20%20%20%20%20%0A%20%20%20%20%3Cscript%20src%3D%22https%3A//cdnjs.cloudflare.com/ajax/libs/leaflet.fullscreen/1.4.2/Control.FullScreen.min.js%22%3E%3C/script%3E%0A%20%20%20%20%3Clink%20rel%3D%22stylesheet%22%20href%3D%22https%3A//cdnjs.cloudflare.com/ajax/libs/leaflet.fullscreen/1.4.2/Control.FullScreen.min.css%22/%3E%0A%3C/head%3E%0A%3Cbody%3E%20%20%20%20%0A%20%20%20%20%0A%20%20%20%20%20%20%20%20%20%20%20%20%3Cdiv%20class%3D%22folium-map%22%20id%3D%22map_309c7caa6a5845778b7b1f07231a1a4b%22%20%3E%3C/div%3E%0A%20%20%20%20%20%20%20%20%0A%3C/body%3E%0A%3Cscript%3E%20%20%20%20%0A%20%20%20%20%0A%20%20%20%20%20%20%20%20%20%20%20%20var%20map_309c7caa6a5845778b7b1f07231a1a4b%20%3D%20L.map%28%0A%20%20%20%20%20%20%20%20%20%20%20%20%20%20%20%20%22map_309c7caa6a5845778b7b1f07231a1a4b%22%2C%0A%20%20%20%20%20%20%20%20%20%20%20%20%20%20%20%20%7B%0A%20%20%20%20%20%20%20%20%20%20%20%20%20%20%20%20%20%20%20%20center%3A%20%5B-7.132673861109996%2C%20-76.61272973500003%5D%2C%0A%20%20%20%20%20%20%20%20%20%20%20%20%20%20%20%20%20%20%20%20crs%3A%20L.CRS.EPSG3857%2C%0A%20%20%20%20%20%20%20%20%20%20%20%20%20%20%20%20%20%20%20%20zoom%3A%204%2C%0A%20%20%20%20%20%20%20%20%20%20%20%20%20%20%20%20%20%20%20%20zoomControl%3A%20true%2C%0A%20%20%20%20%20%20%20%20%20%20%20%20%20%20%20%20%20%20%20%20preferCanvas%3A%20false%2C%0A%20%20%20%20%20%20%20%20%20%20%20%20%20%20%20%20%20%20%20%20eeInitialize%3A%20true%2C%0A%20%20%20%20%20%20%20%20%20%20%20%20%20%20%20%20%20%20%20%20addGoogleMap%3A%20true%2C%0A%20%20%20%20%20%20%20%20%20%20%20%20%20%20%20%20%20%20%20%20pluginLatlngpopup%3A%20true%2C%0A%20%20%20%20%20%20%20%20%20%20%20%20%20%20%20%20%20%20%20%20pluginFullscreen%3A%20true%2C%0A%20%20%20%20%20%20%20%20%20%20%20%20%20%20%20%20%20%20%20%20pluginDraw%3A%20false%2C%0A%20%20%20%20%20%20%20%20%20%20%20%20%20%20%20%20%20%20%20%20DrawExport%3A%20true%2C%0A%20%20%20%20%20%20%20%20%20%20%20%20%20%20%20%20%20%20%20%20pluginMinimap%3A%20false%2C%0A%20%20%20%20%20%20%20%20%20%20%20%20%20%20%20%20%20%20%20%20pluginLayercontrol%3A%20false%2C%0A%20%20%20%20%20%20%20%20%20%20%20%20%20%20%20%20%7D%0A%20%20%20%20%20%20%20%20%20%20%20%20%29%3B%0A%0A%20%20%20%20%20%20%20%20%20%20%20%20%0A%0A%20%20%20%20%20%20%20%20%0A%20%20%20%20%0A%20%20%20%20%20%20%20%20%20%20%20%20var%20tile_layer_698beb37bebf40f688e2bfebbdc74421%20%3D%20L.tileLayer%28%0A%20%20%20%20%20%20%20%20%20%20%20%20%20%20%20%20%22https%3A//%7Bs%7D.tile.openstreetmap.org/%7Bz%7D/%7Bx%7D/%7By%7D.png%22%2C%0A%20%20%20%20%20%20%20%20%20%20%20%20%20%20%20%20%7B%22attribution%22%3A%20%22Data%20by%20%5Cu0026copy%3B%20%5Cu003ca%20href%3D%5C%22http%3A//openstreetmap.org%5C%22%5Cu003eOpenStreetMap%5Cu003c/a%5Cu003e%2C%20under%20%5Cu003ca%20href%3D%5C%22http%3A//www.openstreetmap.org/copyright%5C%22%5Cu003eODbL%5Cu003c/a%5Cu003e.%22%2C%20%22detectRetina%22%3A%20false%2C%20%22maxNativeZoom%22%3A%2018%2C%20%22maxZoom%22%3A%2018%2C%20%22minZoom%22%3A%200%2C%20%22noWrap%22%3A%20false%2C%20%22opacity%22%3A%201%2C%20%22subdomains%22%3A%20%22abc%22%2C%20%22tms%22%3A%20false%7D%0A%20%20%20%20%20%20%20%20%20%20%20%20%29.addTo%28map_309c7caa6a5845778b7b1f07231a1a4b%29%3B%0A%20%20%20%20%20%20%20%20%0A%20%20%20%20%0A%20%20%20%20%20%20%20%20%20%20%20%20var%20tile_layer_66a50903393047cc8f009e620f0ee1fa%20%3D%20L.tileLayer%28%0A%20%20%20%20%20%20%20%20%20%20%20%20%20%20%20%20%22https%3A//mt1.google.com/vt/lyrs%3Dm%5Cu0026x%3D%7Bx%7D%5Cu0026y%3D%7By%7D%5Cu0026z%3D%7Bz%7D%22%2C%0A%20%20%20%20%20%20%20%20%20%20%20%20%20%20%20%20%7B%22attribution%22%3A%20%22Google%22%2C%20%22detectRetina%22%3A%20false%2C%20%22maxNativeZoom%22%3A%2018%2C%20%22maxZoom%22%3A%2018%2C%20%22minZoom%22%3A%200%2C%20%22noWrap%22%3A%20false%2C%20%22opacity%22%3A%201%2C%20%22subdomains%22%3A%20%22abc%22%2C%20%22tms%22%3A%20false%7D%0A%20%20%20%20%20%20%20%20%20%20%20%20%29.addTo%28map_309c7caa6a5845778b7b1f07231a1a4b%29%3B%0A%20%20%20%20%20%20%20%20%0A%20%20%20%20%0A%20%20%20%20%20%20%20%20%20%20%20%20%20%20%20%20var%20lat_lng_popup_b1b42d9aa75b4bd38a7ac4cf8e3c864c%20%3D%20L.popup%28%29%3B%0A%20%20%20%20%20%20%20%20%20%20%20%20%20%20%20%20function%20latLngPop%28e%29%20%7B%0A%20%20%20%20%20%20%20%20%20%20%20%20%20%20%20%20%20%20%20%20lat_lng_popup_b1b42d9aa75b4bd38a7ac4cf8e3c864c%0A%20%20%20%20%20%20%20%20%20%20%20%20%20%20%20%20%20%20%20%20%20%20%20%20.setLatLng%28e.latlng%29%0A%20%20%20%20%20%20%20%20%20%20%20%20%20%20%20%20%20%20%20%20%20%20%20%20.setContent%28%22Latitude%3A%20%22%20%2B%20e.latlng.lat.toFixed%284%29%20%2B%0A%20%20%20%20%20%20%20%20%20%20%20%20%20%20%20%20%20%20%20%20%20%20%20%20%20%20%20%20%20%20%20%20%20%20%20%20%22%3Cbr%3ELongitude%3A%20%22%20%2B%20e.latlng.lng.toFixed%284%29%29%0A%20%20%20%20%20%20%20%20%20%20%20%20%20%20%20%20%20%20%20%20%20%20%20%20.openOn%28map_309c7caa6a5845778b7b1f07231a1a4b%29%3B%0A%20%20%20%20%20%20%20%20%20%20%20%20%20%20%20%20%20%20%20%20%7D%0A%20%20%20%20%20%20%20%20%20%20%20%20%20%20%20%20map_309c7caa6a5845778b7b1f07231a1a4b.on%28%27click%27%2C%20latLngPop%29%3B%0A%20%20%20%20%20%20%20%20%20%20%20%20%0A%20%20%20%20%0A%20%20%20%20%20%20%20%20%20%20%20%20L.control.fullscreen%28%0A%20%20%20%20%20%20%20%20%20%20%20%20%20%20%20%20%7B%22forceSeparateButton%22%3A%20false%2C%20%22position%22%3A%20%22topleft%22%2C%20%22title%22%3A%20%22Full%20Screen%22%2C%20%22titleCancel%22%3A%20%22Exit%20Full%20Screen%22%7D%0A%20%20%20%20%20%20%20%20%20%20%20%20%29.addTo%28map_309c7caa6a5845778b7b1f07231a1a4b%29%3B%0A%20%20%20%20%20%20%20%20%0A%20%20%20%20%0A%20%20%20%20%20%20%20%20%20%20%20%20map_309c7caa6a5845778b7b1f07231a1a4b.fitBounds%28%0A%20%20%20%20%20%20%20%20%20%20%20%20%20%20%20%20%5B%5B-7.132673861109996%2C%20-76.61272973500003%5D%2C%20%5B-7.132673861109996%2C%20-76.61272973500003%5D%5D%2C%0A%20%20%20%20%20%20%20%20%20%20%20%20%20%20%20%20%7B%22maxZoom%22%3A%204%7D%0A%20%20%20%20%20%20%20%20%20%20%20%20%29%3B%0A%20%20%20%20%20%20%20%20%0A%20%20%20%20%0A%20%20%20%20%20%20%20%20%20%20%20%20var%20tile_layer_276095a229814fba805bf39e5c9633a8%20%3D%20L.tileLayer%28%0A%20%20%20%20%20%20%20%20%20%20%20%20%20%20%20%20%22https%3A//earthengine.googleapis.com/v1alpha/projects/earthengine-legacy/maps/efec0ed2f89efd6f02800a29ca3b1821-5510eacd8074740ffed3ababa3035a7a/tiles/%7Bz%7D/%7Bx%7D/%7By%7D%22%2C%0A%20%20%20%20%20%20%20%20%20%20%20%20%20%20%20%20%7B%22attribution%22%3A%20%22Google%20Earth%20Engine%22%2C%20%22detectRetina%22%3A%20false%2C%20%22maxNativeZoom%22%3A%2018%2C%20%22maxZoom%22%3A%2018%2C%20%22minZoom%22%3A%200%2C%20%22noWrap%22%3A%20false%2C%20%22opacity%22%3A%201.0%2C%20%22subdomains%22%3A%20%22abc%22%2C%20%22tms%22%3A%20false%7D%0A%20%20%20%20%20%20%20%20%20%20%20%20%29.addTo%28map_309c7caa6a5845778b7b1f07231a1a4b%29%3B%0A%20%20%20%20%20%20%20%20%0A%20%20%20%20%0A%20%20%20%20%20%20%20%20%20%20%20%20var%20tile_layer_725fec864e20454c8ae75fa39d9cc2b4%20%3D%20L.tileLayer%28%0A%20%20%20%20%20%20%20%20%20%20%20%20%20%20%20%20%22https%3A//earthengine.googleapis.com/v1alpha/projects/earthengine-legacy/maps/ff7618dc12b34c9a3b23b889790d1ea7-927c289d187cb36922bb6671b00292d0/tiles/%7Bz%7D/%7Bx%7D/%7By%7D%22%2C%0A%20%20%20%20%20%20%20%20%20%20%20%20%20%20%20%20%7B%22attribution%22%3A%20%22Google%20Earth%20Engine%22%2C%20%22detectRetina%22%3A%20false%2C%20%22maxNativeZoom%22%3A%2018%2C%20%22maxZoom%22%3A%2018%2C%20%22minZoom%22%3A%200%2C%20%22noWrap%22%3A%20false%2C%20%22opacity%22%3A%201.0%2C%20%22subdomains%22%3A%20%22abc%22%2C%20%22tms%22%3A%20false%7D%0A%20%20%20%20%20%20%20%20%20%20%20%20%29.addTo%28map_309c7caa6a5845778b7b1f07231a1a4b%29%3B%0A%20%20%20%20%20%20%20%20%0A%20%20%20%20%0A%20%20%20%20%20%20%20%20%20%20%20%20var%20tile_layer_ad8d693fe0b64cdb9137873629e600e7%20%3D%20L.tileLayer%28%0A%20%20%20%20%20%20%20%20%20%20%20%20%20%20%20%20%22https%3A//earthengine.googleapis.com/v1alpha/projects/earthengine-legacy/maps/87eb39947a92b145574eb690cb06616e-af25f798c70bd8c232df00f044b65757/tiles/%7Bz%7D/%7Bx%7D/%7By%7D%22%2C%0A%20%20%20%20%20%20%20%20%20%20%20%20%20%20%20%20%7B%22attribution%22%3A%20%22Google%20Earth%20Engine%22%2C%20%22detectRetina%22%3A%20false%2C%20%22maxNativeZoom%22%3A%2018%2C%20%22maxZoom%22%3A%2018%2C%20%22minZoom%22%3A%200%2C%20%22noWrap%22%3A%20false%2C%20%22opacity%22%3A%201.0%2C%20%22subdomains%22%3A%20%22abc%22%2C%20%22tms%22%3A%20false%7D%0A%20%20%20%20%20%20%20%20%20%20%20%20%29.addTo%28map_309c7caa6a5845778b7b1f07231a1a4b%29%3B%0A%20%20%20%20%20%20%20%20%0A%20%20%20%20%0A%20%20%20%20%20%20%20%20%20%20%20%20var%20tile_layer_7dd076b4e38546d58af0fd08e7566e8a%20%3D%20L.tileLayer%28%0A%20%20%20%20%20%20%20%20%20%20%20%20%20%20%20%20%22https%3A//earthengine.googleapis.com/v1alpha/projects/earthengine-legacy/maps/aff883796555cab91329fd193f0dc055-013a471b1c7470707d8d9bd652808180/tiles/%7Bz%7D/%7Bx%7D/%7By%7D%22%2C%0A%20%20%20%20%20%20%20%20%20%20%20%20%20%20%20%20%7B%22attribution%22%3A%20%22Google%20Earth%20Engine%22%2C%20%22detectRetina%22%3A%20false%2C%20%22maxNativeZoom%22%3A%2018%2C%20%22maxZoom%22%3A%2018%2C%20%22minZoom%22%3A%200%2C%20%22noWrap%22%3A%20false%2C%20%22opacity%22%3A%201.0%2C%20%22subdomains%22%3A%20%22abc%22%2C%20%22tms%22%3A%20false%7D%0A%20%20%20%20%20%20%20%20%20%20%20%20%29.addTo%28map_309c7caa6a5845778b7b1f07231a1a4b%29%3B%0A%20%20%20%20%20%20%20%20%0A%20%20%20%20%0A%20%20%20%20%20%20%20%20%20%20%20%20var%20tile_layer_adff469efd6545eea10b17f0235921cf%20%3D%20L.tileLayer%28%0A%20%20%20%20%20%20%20%20%20%20%20%20%20%20%20%20%22https%3A//earthengine.googleapis.com/v1alpha/projects/earthengine-legacy/maps/4257e6b6af4780f2e963e35683c27bc2-0360d707c3d5d3ba121c71362e941859/tiles/%7Bz%7D/%7Bx%7D/%7By%7D%22%2C%0A%20%20%20%20%20%20%20%20%20%20%20%20%20%20%20%20%7B%22attribution%22%3A%20%22Google%20Earth%20Engine%22%2C%20%22detectRetina%22%3A%20false%2C%20%22maxNativeZoom%22%3A%2018%2C%20%22maxZoom%22%3A%2018%2C%20%22minZoom%22%3A%200%2C%20%22noWrap%22%3A%20false%2C%20%22opacity%22%3A%201.0%2C%20%22subdomains%22%3A%20%22abc%22%2C%20%22tms%22%3A%20false%7D%0A%20%20%20%20%20%20%20%20%20%20%20%20%29.addTo%28map_309c7caa6a5845778b7b1f07231a1a4b%29%3B%0A%20%20%20%20%20%20%20%20%0A%20%20%20%20%0A%20%20%20%20%20%20%20%20%20%20%20%20var%20tile_layer_dabbb7d8715444b9b27845e22040b3b5%20%3D%20L.tileLayer%28%0A%20%20%20%20%20%20%20%20%20%20%20%20%20%20%20%20%22https%3A//earthengine.googleapis.com/v1alpha/projects/earthengine-legacy/maps/a1827819768d70dc47ee1dbead375391-8f4d216932d7559607716368bf8ed79d/tiles/%7Bz%7D/%7Bx%7D/%7By%7D%22%2C%0A%20%20%20%20%20%20%20%20%20%20%20%20%20%20%20%20%7B%22attribution%22%3A%20%22Google%20Earth%20Engine%22%2C%20%22detectRetina%22%3A%20false%2C%20%22maxNativeZoom%22%3A%2018%2C%20%22maxZoom%22%3A%2018%2C%20%22minZoom%22%3A%200%2C%20%22noWrap%22%3A%20false%2C%20%22opacity%22%3A%201.0%2C%20%22subdomains%22%3A%20%22abc%22%2C%20%22tms%22%3A%20false%7D%0A%20%20%20%20%20%20%20%20%20%20%20%20%29.addTo%28map_309c7caa6a5845778b7b1f07231a1a4b%29%3B%0A%20%20%20%20%20%20%20%20%0A%20%20%20%20%0A%20%20%20%20%20%20%20%20%20%20%20%20var%20tile_layer_64c95596fb0043ad9bbebd6146303e22%20%3D%20L.tileLayer%28%0A%20%20%20%20%20%20%20%20%20%20%20%20%20%20%20%20%22https%3A//earthengine.googleapis.com/v1alpha/projects/earthengine-legacy/maps/8f71aa5f809e7931ac5fa764d4b97225-8d005d5baa5d4fbd3b0b2d44a7417f37/tiles/%7Bz%7D/%7Bx%7D/%7By%7D%22%2C%0A%20%20%20%20%20%20%20%20%20%20%20%20%20%20%20%20%7B%22attribution%22%3A%20%22Google%20Earth%20Engine%22%2C%20%22detectRetina%22%3A%20false%2C%20%22maxNativeZoom%22%3A%2018%2C%20%22maxZoom%22%3A%2018%2C%20%22minZoom%22%3A%200%2C%20%22noWrap%22%3A%20false%2C%20%22opacity%22%3A%201.0%2C%20%22subdomains%22%3A%20%22abc%22%2C%20%22tms%22%3A%20false%7D%0A%20%20%20%20%20%20%20%20%20%20%20%20%29.addTo%28map_309c7caa6a5845778b7b1f07231a1a4b%29%3B%0A%20%20%20%20%20%20%20%20%0A%20%20%20%20%0A%20%20%20%20%20%20%20%20%20%20%20%20var%20tile_layer_e45abb8f5cca4b5495da014d1bc4a453%20%3D%20L.tileLayer%28%0A%20%20%20%20%20%20%20%20%20%20%20%20%20%20%20%20%22https%3A//earthengine.googleapis.com/v1alpha/projects/earthengine-legacy/maps/99c314294460743b22e9721093999060-74483b1f359c8cd27abc5e7f37881c18/tiles/%7Bz%7D/%7Bx%7D/%7By%7D%22%2C%0A%20%20%20%20%20%20%20%20%20%20%20%20%20%20%20%20%7B%22attribution%22%3A%20%22Google%20Earth%20Engine%22%2C%20%22detectRetina%22%3A%20false%2C%20%22maxNativeZoom%22%3A%2018%2C%20%22maxZoom%22%3A%2018%2C%20%22minZoom%22%3A%200%2C%20%22noWrap%22%3A%20false%2C%20%22opacity%22%3A%201.0%2C%20%22subdomains%22%3A%20%22abc%22%2C%20%22tms%22%3A%20false%7D%0A%20%20%20%20%20%20%20%20%20%20%20%20%29.addTo%28map_309c7caa6a5845778b7b1f07231a1a4b%29%3B%0A%20%20%20%20%20%20%20%20%0A%20%20%20%20%0A%20%20%20%20%20%20%20%20%20%20%20%20var%20tile_layer_3eab91f3f5a14d1f8efdaa27c338d6ae%20%3D%20L.tileLayer%28%0A%20%20%20%20%20%20%20%20%20%20%20%20%20%20%20%20%22https%3A//earthengine.googleapis.com/v1alpha/projects/earthengine-legacy/maps/5e7337635076d08275b844974adb471a-b39db4b4b7a83a0da30776390a7607f7/tiles/%7Bz%7D/%7Bx%7D/%7By%7D%22%2C%0A%20%20%20%20%20%20%20%20%20%20%20%20%20%20%20%20%7B%22attribution%22%3A%20%22Google%20Earth%20Engine%22%2C%20%22detectRetina%22%3A%20false%2C%20%22maxNativeZoom%22%3A%2018%2C%20%22maxZoom%22%3A%2018%2C%20%22minZoom%22%3A%200%2C%20%22noWrap%22%3A%20false%2C%20%22opacity%22%3A%201.0%2C%20%22subdomains%22%3A%20%22abc%22%2C%20%22tms%22%3A%20false%7D%0A%20%20%20%20%20%20%20%20%20%20%20%20%29.addTo%28map_309c7caa6a5845778b7b1f07231a1a4b%29%3B%0A%20%20%20%20%20%20%20%20%0A%20%20%20%20%0A%20%20%20%20%20%20%20%20%20%20%20%20var%20tile_layer_84246c678cb34d32a72686283eeb6b99%20%3D%20L.tileLayer%28%0A%20%20%20%20%20%20%20%20%20%20%20%20%20%20%20%20%22https%3A//earthengine.googleapis.com/v1alpha/projects/earthengine-legacy/maps/ccca9bdc10313805fa0b1b2bf774acfb-adb793d8713427ed8efb7f950199ede9/tiles/%7Bz%7D/%7Bx%7D/%7By%7D%22%2C%0A%20%20%20%20%20%20%20%20%20%20%20%20%20%20%20%20%7B%22attribution%22%3A%20%22Google%20Earth%20Engine%22%2C%20%22detectRetina%22%3A%20false%2C%20%22maxNativeZoom%22%3A%2018%2C%20%22maxZoom%22%3A%2018%2C%20%22minZoom%22%3A%200%2C%20%22noWrap%22%3A%20false%2C%20%22opacity%22%3A%201.0%2C%20%22subdomains%22%3A%20%22abc%22%2C%20%22tms%22%3A%20false%7D%0A%20%20%20%20%20%20%20%20%20%20%20%20%29.addTo%28map_309c7caa6a5845778b7b1f07231a1a4b%29%3B%0A%20%20%20%20%20%20%20%20%0A%20%20%20%20%0A%20%20%20%20%20%20%20%20%20%20%20%20var%20tile_layer_134b05f436d14726bc9beb9b77b79a14%20%3D%20L.tileLayer%28%0A%20%20%20%20%20%20%20%20%20%20%20%20%20%20%20%20%22https%3A//earthengine.googleapis.com/v1alpha/projects/earthengine-legacy/maps/60bc487f47976b9bfa72a1e59a343dc9-11179514f702d3cb155a97cdb2890894/tiles/%7Bz%7D/%7Bx%7D/%7By%7D%22%2C%0A%20%20%20%20%20%20%20%20%20%20%20%20%20%20%20%20%7B%22attribution%22%3A%20%22Google%20Earth%20Engine%22%2C%20%22detectRetina%22%3A%20false%2C%20%22maxNativeZoom%22%3A%2018%2C%20%22maxZoom%22%3A%2018%2C%20%22minZoom%22%3A%200%2C%20%22noWrap%22%3A%20false%2C%20%22opacity%22%3A%201.0%2C%20%22subdomains%22%3A%20%22abc%22%2C%20%22tms%22%3A%20false%7D%0A%20%20%20%20%20%20%20%20%20%20%20%20%29.addTo%28map_309c7caa6a5845778b7b1f07231a1a4b%29%3B%0A%20%20%20%20%20%20%20%20%0A%20%20%20%20%0A%20%20%20%20%20%20%20%20%20%20%20%20var%20tile_layer_48a8d35ebe9b468b8a0544631a34423b%20%3D%20L.tileLayer%28%0A%20%20%20%20%20%20%20%20%20%20%20%20%20%20%20%20%22https%3A//earthengine.googleapis.com/v1alpha/projects/earthengine-legacy/maps/6932c200032640ba1f940adcedf626d6-d3185d4d34aab9c3f3a937c7928747be/tiles/%7Bz%7D/%7Bx%7D/%7By%7D%22%2C%0A%20%20%20%20%20%20%20%20%20%20%20%20%20%20%20%20%7B%22attribution%22%3A%20%22Google%20Earth%20Engine%22%2C%20%22detectRetina%22%3A%20false%2C%20%22maxNativeZoom%22%3A%2018%2C%20%22maxZoom%22%3A%2018%2C%20%22minZoom%22%3A%200%2C%20%22noWrap%22%3A%20false%2C%20%22opacity%22%3A%201.0%2C%20%22subdomains%22%3A%20%22abc%22%2C%20%22tms%22%3A%20false%7D%0A%20%20%20%20%20%20%20%20%20%20%20%20%29.addTo%28map_309c7caa6a5845778b7b1f07231a1a4b%29%3B%0A%20%20%20%20%20%20%20%20%0A%20%20%20%20%0A%20%20%20%20%20%20%20%20%20%20%20%20var%20tile_layer_dace58708ce349a784238b9aa6e97f35%20%3D%20L.tileLayer%28%0A%20%20%20%20%20%20%20%20%20%20%20%20%20%20%20%20%22https%3A//earthengine.googleapis.com/v1alpha/projects/earthengine-legacy/maps/52d118aa1b2e53d71ca547da8590e00c-b3186f5bae189f0aef4bbc855030e360/tiles/%7Bz%7D/%7Bx%7D/%7By%7D%22%2C%0A%20%20%20%20%20%20%20%20%20%20%20%20%20%20%20%20%7B%22attribution%22%3A%20%22Google%20Earth%20Engine%22%2C%20%22detectRetina%22%3A%20false%2C%20%22maxNativeZoom%22%3A%2018%2C%20%22maxZoom%22%3A%2018%2C%20%22minZoom%22%3A%200%2C%20%22noWrap%22%3A%20false%2C%20%22opacity%22%3A%201.0%2C%20%22subdomains%22%3A%20%22abc%22%2C%20%22tms%22%3A%20false%7D%0A%20%20%20%20%20%20%20%20%20%20%20%20%29.addTo%28map_309c7caa6a5845778b7b1f07231a1a4b%29%3B%0A%20%20%20%20%20%20%20%20%0A%20%20%20%20%0A%20%20%20%20%20%20%20%20%20%20%20%20var%20layer_control_33cee5d40d334097ad884eb957ef8c12%20%3D%20%7B%0A%20%20%20%20%20%20%20%20%20%20%20%20%20%20%20%20base_layers%20%3A%20%7B%0A%20%20%20%20%20%20%20%20%20%20%20%20%20%20%20%20%20%20%20%20%22openstreetmap%22%20%3A%20tile_layer_698beb37bebf40f688e2bfebbdc74421%2C%0A%20%20%20%20%20%20%20%20%20%20%20%20%20%20%20%20%7D%2C%0A%20%20%20%20%20%20%20%20%20%20%20%20%20%20%20%20overlays%20%3A%20%20%7B%0A%20%20%20%20%20%20%20%20%20%20%20%20%20%20%20%20%20%20%20%20%22Google%20Maps%22%20%3A%20tile_layer_66a50903393047cc8f009e620f0ee1fa%2C%0A%20%20%20%20%20%20%20%20%20%20%20%20%20%20%20%20%20%20%20%20%22B1%22%20%3A%20tile_layer_276095a229814fba805bf39e5c9633a8%2C%0A%20%20%20%20%20%20%20%20%20%20%20%20%20%20%20%20%20%20%20%20%22B2%22%20%3A%20tile_layer_725fec864e20454c8ae75fa39d9cc2b4%2C%0A%20%20%20%20%20%20%20%20%20%20%20%20%20%20%20%20%20%20%20%20%22B3%22%20%3A%20tile_layer_ad8d693fe0b64cdb9137873629e600e7%2C%0A%20%20%20%20%20%20%20%20%20%20%20%20%20%20%20%20%20%20%20%20%22B4%22%20%3A%20tile_layer_7dd076b4e38546d58af0fd08e7566e8a%2C%0A%20%20%20%20%20%20%20%20%20%20%20%20%20%20%20%20%20%20%20%20%22B5%22%20%3A%20tile_layer_adff469efd6545eea10b17f0235921cf%2C%0A%20%20%20%20%20%20%20%20%20%20%20%20%20%20%20%20%20%20%20%20%22B6%22%20%3A%20tile_layer_dabbb7d8715444b9b27845e22040b3b5%2C%0A%20%20%20%20%20%20%20%20%20%20%20%20%20%20%20%20%20%20%20%20%22B7%22%20%3A%20tile_layer_64c95596fb0043ad9bbebd6146303e22%2C%0A%20%20%20%20%20%20%20%20%20%20%20%20%20%20%20%20%20%20%20%20%22B10%22%20%3A%20tile_layer_e45abb8f5cca4b5495da014d1bc4a453%2C%0A%20%20%20%20%20%20%20%20%20%20%20%20%20%20%20%20%20%20%20%20%22B11%22%20%3A%20tile_layer_3eab91f3f5a14d1f8efdaa27c338d6ae%2C%0A%20%20%20%20%20%20%20%20%20%20%20%20%20%20%20%20%20%20%20%20%22sr_aerosol%22%20%3A%20tile_layer_84246c678cb34d32a72686283eeb6b99%2C%0A%20%20%20%20%20%20%20%20%20%20%20%20%20%20%20%20%20%20%20%20%22pixel_qa%22%20%3A%20tile_layer_134b05f436d14726bc9beb9b77b79a14%2C%0A%20%20%20%20%20%20%20%20%20%20%20%20%20%20%20%20%20%20%20%20%22radsat_qa%22%20%3A%20tile_layer_48a8d35ebe9b468b8a0544631a34423b%2C%0A%20%20%20%20%20%20%20%20%20%20%20%20%20%20%20%20%20%20%20%20%22ndvi%22%20%3A%20tile_layer_dace58708ce349a784238b9aa6e97f35%2C%0A%20%20%20%20%20%20%20%20%20%20%20%20%20%20%20%20%7D%2C%0A%20%20%20%20%20%20%20%20%20%20%20%20%7D%3B%0A%20%20%20%20%20%20%20%20%20%20%20%20L.control.layers%28%0A%20%20%20%20%20%20%20%20%20%20%20%20%20%20%20%20layer_control_33cee5d40d334097ad884eb957ef8c12.base_layers%2C%0A%20%20%20%20%20%20%20%20%20%20%20%20%20%20%20%20layer_control_33cee5d40d334097ad884eb957ef8c12.overlays%2C%0A%20%20%20%20%20%20%20%20%20%20%20%20%20%20%20%20%7B%22autoZIndex%22%3A%20true%2C%20%22collapsed%22%3A%20true%2C%20%22position%22%3A%20%22topright%22%7D%0A%20%20%20%20%20%20%20%20%20%20%20%20%29.addTo%28map_309c7caa6a5845778b7b1f07231a1a4b%29%3B%0A%20%20%20%20%20%20%20%20%20%20%20%20tile_layer_276095a229814fba805bf39e5c9633a8.remove%28%29%3B%0A%20%20%20%20%20%20%20%20%20%20%20%20tile_layer_725fec864e20454c8ae75fa39d9cc2b4.remove%28%29%3B%0A%20%20%20%20%20%20%20%20%20%20%20%20tile_layer_ad8d693fe0b64cdb9137873629e600e7.remove%28%29%3B%0A%20%20%20%20%20%20%20%20%20%20%20%20tile_layer_7dd076b4e38546d58af0fd08e7566e8a.remove%28%29%3B%0A%20%20%20%20%20%20%20%20%20%20%20%20tile_layer_adff469efd6545eea10b17f0235921cf.remove%28%29%3B%0A%20%20%20%20%20%20%20%20%20%20%20%20tile_layer_dabbb7d8715444b9b27845e22040b3b5.remove%28%29%3B%0A%20%20%20%20%20%20%20%20%20%20%20%20tile_layer_64c95596fb0043ad9bbebd6146303e22.remove%28%29%3B%0A%20%20%20%20%20%20%20%20%20%20%20%20tile_layer_e45abb8f5cca4b5495da014d1bc4a453.remove%28%29%3B%0A%20%20%20%20%20%20%20%20%20%20%20%20tile_layer_3eab91f3f5a14d1f8efdaa27c338d6ae.remove%28%29%3B%0A%20%20%20%20%20%20%20%20%20%20%20%20tile_layer_84246c678cb34d32a72686283eeb6b99.remove%28%29%3B%0A%20%20%20%20%20%20%20%20%20%20%20%20tile_layer_134b05f436d14726bc9beb9b77b79a14.remove%28%29%3B%0A%20%20%20%20%20%20%20%20%20%20%20%20tile_layer_48a8d35ebe9b468b8a0544631a34423b.remove%28%29%3B%0A%20%20%20%20%20%20%20%20%0A%3C/script%3E onload=\"this.contentDocument.open();this.contentDocument.write(    decodeURIComponent(this.getAttribute('data-html')));this.contentDocument.close();\" allowfullscreen webkitallowfullscreen mozallowfullscreen></iframe></div></div>"
            ],
            "text/plain": [
              "<geemap.eefolium.Map at 0x7f4506abe110>"
            ]
          },
          "metadata": {
            "tags": []
          },
          "execution_count": 21
        }
      ]
    },
    {
      "cell_type": "markdown",
      "metadata": {
        "id": "DtmA7VUQp8bA"
      },
      "source": [
        "### VCF from MODIS"
      ]
    },
    {
      "cell_type": "code",
      "metadata": {
        "id": "FSZV2i1jp5Kt",
        "colab": {
          "base_uri": "https://localhost:8080/"
        },
        "outputId": "02613855-af59-487d-f516-43b58c07ac0a"
      },
      "source": [
        "modis = (ee.ImageCollection('MODIS/006/MOD44B')\n",
        "           .filterDate(*years)\n",
        "           .filterBounds(roi)\n",
        "           .select('Percent_Tree_Cover')\n",
        "           .first())\n",
        "\n",
        "type(modis)"
      ],
      "execution_count": 22,
      "outputs": [
        {
          "output_type": "execute_result",
          "data": {
            "text/plain": [
              "ee.image.Image"
            ]
          },
          "metadata": {
            "tags": []
          },
          "execution_count": 22
        }
      ]
    },
    {
      "cell_type": "markdown",
      "metadata": {
        "id": "JeZVcVJYuGi4"
      },
      "source": [
        "## Run the prediction\n",
        "\n",
        "Not clear on this so it's removed for now:\n",
        "\n",
        "```python\n",
        "prior_mean = [0.06491638, -26.63132179, 0.05590800, -29.64091620]\n",
        "prior_mean_int = ee.Number(6.07)\n",
        "prediction = (ee.Image(prior_mean_int)\n",
        "              #.add((Fmod_tc_aoi.multiply(prior_mean[0]))\n",
        "              .add(s1.select('radar_volume_index').multiply(prior_mean[1]))\n",
        "              .add(l8sr.select('ndvi').multiply(prior_mean[2]))\n",
        "              #.add(smooth.select('constant').multiply(prior_mean[3]))))\n",
        "              ).clip(roi)\n",
        "predx = prediction.exp()\n",
        "pred_final = ee.Image(predx.divide(predx.add(1)))\n",
        "type(pred_final)\n",
        "```"
      ]
    },
    {
      "cell_type": "markdown",
      "metadata": {
        "id": "23D_pxua4vNX"
      },
      "source": [
        "### Build the stack\n",
        "\n",
        ">Documentation for the image method *clipToBoundsAndScale* is helpful to understanding this step in GEE: https://developers.google.com/earth-engine/apidocs/ee-image-cliptoboundsandscale\n",
        ">\n",
        ">But I ended up using regular *clip* for now.\n",
        ">\n",
        ">Also see this information on compositing and image projections:      \n",
        ">https://developers.google.com/earth-engine/guides/projections#the-default-projection\n",
        "\n",
        "Configure preferences here to determine how the stack is created with a common grid. All imagery *added* to the stack using the *ee.Image.addBands* method will inherit the projection and scale of the parent image."
      ]
    },
    {
      "cell_type": "code",
      "metadata": {
        "colab": {
          "base_uri": "https://localhost:8080/",
          "height": 647
        },
        "id": "iYOklzUaY49B",
        "outputId": "a5c8814f-6a89-45d8-fd58-c43b8d86faff"
      },
      "source": [
        "def prefix_bands(image, prefix: str):\n",
        "    return [f'{prefix}-{b}' for b in image.bandNames().getInfo()]\n",
        "\n",
        "# Get initial stack from the landsat imagery and rename bands.\n",
        "stack = l8out.clip(roi).rename(prefix_bands(l8out.clip(roi), \"L8\"))\n",
        "\n",
        "# Add the rest of the images to the stack.\n",
        "for img, pre in [(s1out, \"S1\"), (alos2out, \"ALOS2\"), (modis, \"MODIS\")]:\n",
        "    stack = stack.addBands(img.clip(roi).rename(prefix_bands(img, pre)))\n",
        "\n",
        "# Generate rough stats about all bands in the stack # .resample(mode=\"bilinear\")\n",
        "stack_stats = pd.DataFrame(get_stats(stack, scale=500))\n",
        "\n",
        "stack_stats"
      ],
      "execution_count": 24,
      "outputs": [
        {
          "output_type": "execute_result",
          "data": {
            "text/html": [
              "<div>\n",
              "<style scoped>\n",
              "    .dataframe tbody tr th:only-of-type {\n",
              "        vertical-align: middle;\n",
              "    }\n",
              "\n",
              "    .dataframe tbody tr th {\n",
              "        vertical-align: top;\n",
              "    }\n",
              "\n",
              "    .dataframe thead th {\n",
              "        text-align: right;\n",
              "    }\n",
              "</style>\n",
              "<table border=\"1\" class=\"dataframe\">\n",
              "  <thead>\n",
              "    <tr style=\"text-align: right;\">\n",
              "      <th></th>\n",
              "      <th>max</th>\n",
              "      <th>mean</th>\n",
              "      <th>min</th>\n",
              "      <th>std</th>\n",
              "      <th>sum</th>\n",
              "    </tr>\n",
              "  </thead>\n",
              "  <tbody>\n",
              "    <tr>\n",
              "      <th>ALOS2-HH</th>\n",
              "      <td>32349.000000</td>\n",
              "      <td>6691.016643</td>\n",
              "      <td>844.000000</td>\n",
              "      <td>1253.527563</td>\n",
              "      <td>1.890375e+09</td>\n",
              "    </tr>\n",
              "    <tr>\n",
              "      <th>ALOS2-HV</th>\n",
              "      <td>16654.000000</td>\n",
              "      <td>3760.244466</td>\n",
              "      <td>317.000000</td>\n",
              "      <td>877.089124</td>\n",
              "      <td>1.062360e+09</td>\n",
              "    </tr>\n",
              "    <tr>\n",
              "      <th>ALOS2-radar_volume_index</th>\n",
              "      <td>1.706744</td>\n",
              "      <td>1.429725</td>\n",
              "      <td>0.311985</td>\n",
              "      <td>0.141228</td>\n",
              "      <td>4.039321e+05</td>\n",
              "    </tr>\n",
              "    <tr>\n",
              "      <th>L8-B1</th>\n",
              "      <td>8864.000000</td>\n",
              "      <td>279.431814</td>\n",
              "      <td>-999.000000</td>\n",
              "      <td>308.443599</td>\n",
              "      <td>6.784970e+07</td>\n",
              "    </tr>\n",
              "    <tr>\n",
              "      <th>L8-B10</th>\n",
              "      <td>3089.000000</td>\n",
              "      <td>2923.127373</td>\n",
              "      <td>2606.000000</td>\n",
              "      <td>31.296906</td>\n",
              "      <td>7.097736e+08</td>\n",
              "    </tr>\n",
              "    <tr>\n",
              "      <th>L8-B11</th>\n",
              "      <td>3060.000000</td>\n",
              "      <td>2897.599636</td>\n",
              "      <td>2609.000000</td>\n",
              "      <td>28.489068</td>\n",
              "      <td>7.035751e+08</td>\n",
              "    </tr>\n",
              "    <tr>\n",
              "      <th>L8-B2</th>\n",
              "      <td>8902.000000</td>\n",
              "      <td>326.189632</td>\n",
              "      <td>-731.000000</td>\n",
              "      <td>312.551332</td>\n",
              "      <td>7.920311e+07</td>\n",
              "    </tr>\n",
              "    <tr>\n",
              "      <th>L8-B3</th>\n",
              "      <td>8872.000000</td>\n",
              "      <td>568.998756</td>\n",
              "      <td>-158.000000</td>\n",
              "      <td>340.020739</td>\n",
              "      <td>1.381603e+08</td>\n",
              "    </tr>\n",
              "    <tr>\n",
              "      <th>L8-B4</th>\n",
              "      <td>8928.000000</td>\n",
              "      <td>434.191482</td>\n",
              "      <td>-304.000000</td>\n",
              "      <td>354.881632</td>\n",
              "      <td>1.054274e+08</td>\n",
              "    </tr>\n",
              "    <tr>\n",
              "      <th>L8-B5</th>\n",
              "      <td>9148.000000</td>\n",
              "      <td>3049.482867</td>\n",
              "      <td>68.500000</td>\n",
              "      <td>658.561315</td>\n",
              "      <td>7.404544e+08</td>\n",
              "    </tr>\n",
              "    <tr>\n",
              "      <th>L8-B6</th>\n",
              "      <td>7715.000000</td>\n",
              "      <td>1564.511209</td>\n",
              "      <td>24.000000</td>\n",
              "      <td>452.028054</td>\n",
              "      <td>3.798838e+08</td>\n",
              "    </tr>\n",
              "    <tr>\n",
              "      <th>L8-B7</th>\n",
              "      <td>6024.000000</td>\n",
              "      <td>768.571718</td>\n",
              "      <td>10.000000</td>\n",
              "      <td>380.218221</td>\n",
              "      <td>1.866193e+08</td>\n",
              "    </tr>\n",
              "    <tr>\n",
              "      <th>L8-ndvi</th>\n",
              "      <td>1.000000</td>\n",
              "      <td>0.757051</td>\n",
              "      <td>-0.535593</td>\n",
              "      <td>0.141381</td>\n",
              "      <td>1.837803e+05</td>\n",
              "    </tr>\n",
              "    <tr>\n",
              "      <th>L8-pixel_qa</th>\n",
              "      <td>912.000000</td>\n",
              "      <td>324.706626</td>\n",
              "      <td>322.000000</td>\n",
              "      <td>30.087836</td>\n",
              "      <td>7.884302e+07</td>\n",
              "    </tr>\n",
              "    <tr>\n",
              "      <th>L8-radsat_qa</th>\n",
              "      <td>0.000000</td>\n",
              "      <td>0.000000</td>\n",
              "      <td>0.000000</td>\n",
              "      <td>0.000000</td>\n",
              "      <td>0.000000e+00</td>\n",
              "    </tr>\n",
              "    <tr>\n",
              "      <th>L8-sr_aerosol</th>\n",
              "      <td>228.000000</td>\n",
              "      <td>139.016479</td>\n",
              "      <td>8.000000</td>\n",
              "      <td>52.171213</td>\n",
              "      <td>3.375502e+07</td>\n",
              "    </tr>\n",
              "    <tr>\n",
              "      <th>MODIS-Percent_Tree_Cover</th>\n",
              "      <td>88.000000</td>\n",
              "      <td>55.289593</td>\n",
              "      <td>0.000000</td>\n",
              "      <td>23.692354</td>\n",
              "      <td>1.556125e+07</td>\n",
              "    </tr>\n",
              "    <tr>\n",
              "      <th>S1-VH</th>\n",
              "      <td>1.305084</td>\n",
              "      <td>0.057523</td>\n",
              "      <td>0.002381</td>\n",
              "      <td>0.048404</td>\n",
              "      <td>1.625151e+04</td>\n",
              "    </tr>\n",
              "    <tr>\n",
              "      <th>S1-VV</th>\n",
              "      <td>6.830228</td>\n",
              "      <td>0.273774</td>\n",
              "      <td>0.004322</td>\n",
              "      <td>0.256513</td>\n",
              "      <td>7.734792e+04</td>\n",
              "    </tr>\n",
              "    <tr>\n",
              "      <th>S1-radar_volume_index</th>\n",
              "      <td>2.088968</td>\n",
              "      <td>0.719036</td>\n",
              "      <td>0.083921</td>\n",
              "      <td>0.070816</td>\n",
              "      <td>2.031452e+05</td>\n",
              "    </tr>\n",
              "  </tbody>\n",
              "</table>\n",
              "</div>"
            ],
            "text/plain": [
              "                                   max         mean  ...          std           sum\n",
              "ALOS2-HH                  32349.000000  6691.016643  ...  1253.527563  1.890375e+09\n",
              "ALOS2-HV                  16654.000000  3760.244466  ...   877.089124  1.062360e+09\n",
              "ALOS2-radar_volume_index      1.706744     1.429725  ...     0.141228  4.039321e+05\n",
              "L8-B1                      8864.000000   279.431814  ...   308.443599  6.784970e+07\n",
              "L8-B10                     3089.000000  2923.127373  ...    31.296906  7.097736e+08\n",
              "L8-B11                     3060.000000  2897.599636  ...    28.489068  7.035751e+08\n",
              "L8-B2                      8902.000000   326.189632  ...   312.551332  7.920311e+07\n",
              "L8-B3                      8872.000000   568.998756  ...   340.020739  1.381603e+08\n",
              "L8-B4                      8928.000000   434.191482  ...   354.881632  1.054274e+08\n",
              "L8-B5                      9148.000000  3049.482867  ...   658.561315  7.404544e+08\n",
              "L8-B6                      7715.000000  1564.511209  ...   452.028054  3.798838e+08\n",
              "L8-B7                      6024.000000   768.571718  ...   380.218221  1.866193e+08\n",
              "L8-ndvi                       1.000000     0.757051  ...     0.141381  1.837803e+05\n",
              "L8-pixel_qa                 912.000000   324.706626  ...    30.087836  7.884302e+07\n",
              "L8-radsat_qa                  0.000000     0.000000  ...     0.000000  0.000000e+00\n",
              "L8-sr_aerosol               228.000000   139.016479  ...    52.171213  3.375502e+07\n",
              "MODIS-Percent_Tree_Cover     88.000000    55.289593  ...    23.692354  1.556125e+07\n",
              "S1-VH                         1.305084     0.057523  ...     0.048404  1.625151e+04\n",
              "S1-VV                         6.830228     0.273774  ...     0.256513  7.734792e+04\n",
              "S1-radar_volume_index         2.088968     0.719036  ...     0.070816  2.031452e+05\n",
              "\n",
              "[20 rows x 5 columns]"
            ]
          },
          "metadata": {
            "tags": []
          },
          "execution_count": 24
        }
      ]
    },
    {
      "cell_type": "markdown",
      "metadata": {
        "id": "9QirCsr52IA0"
      },
      "source": [
        "Draw a map of all the bands with *geemap*."
      ]
    },
    {
      "cell_type": "code",
      "metadata": {
        "colab": {
          "base_uri": "https://localhost:8080/",
          "height": 622
        },
        "id": "5wY6hqQDVDd5",
        "outputId": "615c608f-8e48-4e05-f427-b33ee4771413"
      },
      "source": [
        "def allstyle(b: str, vis_params: dict={}, shown: bool=False):\n",
        "    if b.endswith(\"radar_volume_index\"):\n",
        "        vis_params = stack_stats.loc[b][['min','max']].to_dict()\n",
        "        shown = True\n",
        "    if b.endswith(\"ndvi\"):\n",
        "        vis_params = {'min': -1.0, 'max':  1.0, 'palette': 'red,yellow,green'}\n",
        "        shown = True\n",
        "    return {'name': b, 'viz_params': vis_params, 'shown': shown}\n",
        "\n",
        "drawMap(image=stack, style_func=allstyle, center=roi_center, width=\"90%\")"
      ],
      "execution_count": 25,
      "outputs": [
        {
          "output_type": "execute_result",
          "data": {
            "text/html": [
              "<div style=\"width:100%;\"><div style=\"position:relative;width:100%;height:0;padding-bottom:60%;\"><span style=\"color:#565656\">Make this Notebook Trusted to load map: File -> Trust Notebook</span><iframe src=\"about:blank\" style=\"position:absolute;width:100%;height:100%;left:0;top:0;border:none !important;\" data-html=%3C%21DOCTYPE%20html%3E%0A%3Chead%3E%20%20%20%20%0A%20%20%20%20%3Cmeta%20http-equiv%3D%22content-type%22%20content%3D%22text/html%3B%20charset%3DUTF-8%22%20/%3E%0A%20%20%20%20%0A%20%20%20%20%20%20%20%20%3Cscript%3E%0A%20%20%20%20%20%20%20%20%20%20%20%20L_NO_TOUCH%20%3D%20false%3B%0A%20%20%20%20%20%20%20%20%20%20%20%20L_DISABLE_3D%20%3D%20false%3B%0A%20%20%20%20%20%20%20%20%3C/script%3E%0A%20%20%20%20%0A%20%20%20%20%3Cstyle%3Ehtml%2C%20body%20%7Bwidth%3A%20100%25%3Bheight%3A%20100%25%3Bmargin%3A%200%3Bpadding%3A%200%3B%7D%3C/style%3E%0A%20%20%20%20%3Cstyle%3E%23map%20%7Bposition%3Aabsolute%3Btop%3A0%3Bbottom%3A0%3Bright%3A0%3Bleft%3A0%3B%7D%3C/style%3E%0A%20%20%20%20%3Cscript%20src%3D%22https%3A//cdn.jsdelivr.net/npm/leaflet%401.6.0/dist/leaflet.js%22%3E%3C/script%3E%0A%20%20%20%20%3Cscript%20src%3D%22https%3A//code.jquery.com/jquery-1.12.4.min.js%22%3E%3C/script%3E%0A%20%20%20%20%3Cscript%20src%3D%22https%3A//maxcdn.bootstrapcdn.com/bootstrap/3.2.0/js/bootstrap.min.js%22%3E%3C/script%3E%0A%20%20%20%20%3Cscript%20src%3D%22https%3A//cdnjs.cloudflare.com/ajax/libs/Leaflet.awesome-markers/2.0.2/leaflet.awesome-markers.js%22%3E%3C/script%3E%0A%20%20%20%20%3Clink%20rel%3D%22stylesheet%22%20href%3D%22https%3A//cdn.jsdelivr.net/npm/leaflet%401.6.0/dist/leaflet.css%22/%3E%0A%20%20%20%20%3Clink%20rel%3D%22stylesheet%22%20href%3D%22https%3A//maxcdn.bootstrapcdn.com/bootstrap/3.2.0/css/bootstrap.min.css%22/%3E%0A%20%20%20%20%3Clink%20rel%3D%22stylesheet%22%20href%3D%22https%3A//maxcdn.bootstrapcdn.com/bootstrap/3.2.0/css/bootstrap-theme.min.css%22/%3E%0A%20%20%20%20%3Clink%20rel%3D%22stylesheet%22%20href%3D%22https%3A//maxcdn.bootstrapcdn.com/font-awesome/4.6.3/css/font-awesome.min.css%22/%3E%0A%20%20%20%20%3Clink%20rel%3D%22stylesheet%22%20href%3D%22https%3A//cdnjs.cloudflare.com/ajax/libs/Leaflet.awesome-markers/2.0.2/leaflet.awesome-markers.css%22/%3E%0A%20%20%20%20%3Clink%20rel%3D%22stylesheet%22%20href%3D%22https%3A//cdn.jsdelivr.net/gh/python-visualization/folium/folium/templates/leaflet.awesome.rotate.min.css%22/%3E%0A%20%20%20%20%0A%20%20%20%20%20%20%20%20%20%20%20%20%3Cmeta%20name%3D%22viewport%22%20content%3D%22width%3Ddevice-width%2C%0A%20%20%20%20%20%20%20%20%20%20%20%20%20%20%20%20initial-scale%3D1.0%2C%20maximum-scale%3D1.0%2C%20user-scalable%3Dno%22%20/%3E%0A%20%20%20%20%20%20%20%20%20%20%20%20%3Cstyle%3E%0A%20%20%20%20%20%20%20%20%20%20%20%20%20%20%20%20%23map_5bea43a3c41d400797d304c5292cad85%20%7B%0A%20%20%20%20%20%20%20%20%20%20%20%20%20%20%20%20%20%20%20%20position%3A%20relative%3B%0A%20%20%20%20%20%20%20%20%20%20%20%20%20%20%20%20%20%20%20%20width%3A%2090.0%25%3B%0A%20%20%20%20%20%20%20%20%20%20%20%20%20%20%20%20%20%20%20%20height%3A%20100.0%25%3B%0A%20%20%20%20%20%20%20%20%20%20%20%20%20%20%20%20%20%20%20%20left%3A%200.0%25%3B%0A%20%20%20%20%20%20%20%20%20%20%20%20%20%20%20%20%20%20%20%20top%3A%200.0%25%3B%0A%20%20%20%20%20%20%20%20%20%20%20%20%20%20%20%20%7D%0A%20%20%20%20%20%20%20%20%20%20%20%20%3C/style%3E%0A%20%20%20%20%20%20%20%20%0A%20%20%20%20%3Cscript%20src%3D%22https%3A//cdnjs.cloudflare.com/ajax/libs/leaflet.fullscreen/1.4.2/Control.FullScreen.min.js%22%3E%3C/script%3E%0A%20%20%20%20%3Clink%20rel%3D%22stylesheet%22%20href%3D%22https%3A//cdnjs.cloudflare.com/ajax/libs/leaflet.fullscreen/1.4.2/Control.FullScreen.min.css%22/%3E%0A%3C/head%3E%0A%3Cbody%3E%20%20%20%20%0A%20%20%20%20%0A%20%20%20%20%20%20%20%20%20%20%20%20%3Cdiv%20class%3D%22folium-map%22%20id%3D%22map_5bea43a3c41d400797d304c5292cad85%22%20%3E%3C/div%3E%0A%20%20%20%20%20%20%20%20%0A%3C/body%3E%0A%3Cscript%3E%20%20%20%20%0A%20%20%20%20%0A%20%20%20%20%20%20%20%20%20%20%20%20var%20map_5bea43a3c41d400797d304c5292cad85%20%3D%20L.map%28%0A%20%20%20%20%20%20%20%20%20%20%20%20%20%20%20%20%22map_5bea43a3c41d400797d304c5292cad85%22%2C%0A%20%20%20%20%20%20%20%20%20%20%20%20%20%20%20%20%7B%0A%20%20%20%20%20%20%20%20%20%20%20%20%20%20%20%20%20%20%20%20center%3A%20%5B-7.132673861109996%2C%20-76.61272973500003%5D%2C%0A%20%20%20%20%20%20%20%20%20%20%20%20%20%20%20%20%20%20%20%20crs%3A%20L.CRS.EPSG3857%2C%0A%20%20%20%20%20%20%20%20%20%20%20%20%20%20%20%20%20%20%20%20zoom%3A%204%2C%0A%20%20%20%20%20%20%20%20%20%20%20%20%20%20%20%20%20%20%20%20zoomControl%3A%20true%2C%0A%20%20%20%20%20%20%20%20%20%20%20%20%20%20%20%20%20%20%20%20preferCanvas%3A%20false%2C%0A%20%20%20%20%20%20%20%20%20%20%20%20%20%20%20%20%20%20%20%20eeInitialize%3A%20true%2C%0A%20%20%20%20%20%20%20%20%20%20%20%20%20%20%20%20%20%20%20%20addGoogleMap%3A%20true%2C%0A%20%20%20%20%20%20%20%20%20%20%20%20%20%20%20%20%20%20%20%20pluginLatlngpopup%3A%20true%2C%0A%20%20%20%20%20%20%20%20%20%20%20%20%20%20%20%20%20%20%20%20pluginFullscreen%3A%20true%2C%0A%20%20%20%20%20%20%20%20%20%20%20%20%20%20%20%20%20%20%20%20pluginDraw%3A%20false%2C%0A%20%20%20%20%20%20%20%20%20%20%20%20%20%20%20%20%20%20%20%20DrawExport%3A%20true%2C%0A%20%20%20%20%20%20%20%20%20%20%20%20%20%20%20%20%20%20%20%20pluginMinimap%3A%20false%2C%0A%20%20%20%20%20%20%20%20%20%20%20%20%20%20%20%20%20%20%20%20pluginLayercontrol%3A%20false%2C%0A%20%20%20%20%20%20%20%20%20%20%20%20%20%20%20%20%7D%0A%20%20%20%20%20%20%20%20%20%20%20%20%29%3B%0A%0A%20%20%20%20%20%20%20%20%20%20%20%20%0A%0A%20%20%20%20%20%20%20%20%0A%20%20%20%20%0A%20%20%20%20%20%20%20%20%20%20%20%20var%20tile_layer_41fdb54fd759480e8188a5f364e04ed9%20%3D%20L.tileLayer%28%0A%20%20%20%20%20%20%20%20%20%20%20%20%20%20%20%20%22https%3A//%7Bs%7D.tile.openstreetmap.org/%7Bz%7D/%7Bx%7D/%7By%7D.png%22%2C%0A%20%20%20%20%20%20%20%20%20%20%20%20%20%20%20%20%7B%22attribution%22%3A%20%22Data%20by%20%5Cu0026copy%3B%20%5Cu003ca%20href%3D%5C%22http%3A//openstreetmap.org%5C%22%5Cu003eOpenStreetMap%5Cu003c/a%5Cu003e%2C%20under%20%5Cu003ca%20href%3D%5C%22http%3A//www.openstreetmap.org/copyright%5C%22%5Cu003eODbL%5Cu003c/a%5Cu003e.%22%2C%20%22detectRetina%22%3A%20false%2C%20%22maxNativeZoom%22%3A%2018%2C%20%22maxZoom%22%3A%2018%2C%20%22minZoom%22%3A%200%2C%20%22noWrap%22%3A%20false%2C%20%22opacity%22%3A%201%2C%20%22subdomains%22%3A%20%22abc%22%2C%20%22tms%22%3A%20false%7D%0A%20%20%20%20%20%20%20%20%20%20%20%20%29.addTo%28map_5bea43a3c41d400797d304c5292cad85%29%3B%0A%20%20%20%20%20%20%20%20%0A%20%20%20%20%0A%20%20%20%20%20%20%20%20%20%20%20%20var%20tile_layer_66a50903393047cc8f009e620f0ee1fa%20%3D%20L.tileLayer%28%0A%20%20%20%20%20%20%20%20%20%20%20%20%20%20%20%20%22https%3A//mt1.google.com/vt/lyrs%3Dm%5Cu0026x%3D%7Bx%7D%5Cu0026y%3D%7By%7D%5Cu0026z%3D%7Bz%7D%22%2C%0A%20%20%20%20%20%20%20%20%20%20%20%20%20%20%20%20%7B%22attribution%22%3A%20%22Google%22%2C%20%22detectRetina%22%3A%20false%2C%20%22maxNativeZoom%22%3A%2018%2C%20%22maxZoom%22%3A%2018%2C%20%22minZoom%22%3A%200%2C%20%22noWrap%22%3A%20false%2C%20%22opacity%22%3A%201%2C%20%22subdomains%22%3A%20%22abc%22%2C%20%22tms%22%3A%20false%7D%0A%20%20%20%20%20%20%20%20%20%20%20%20%29.addTo%28map_5bea43a3c41d400797d304c5292cad85%29%3B%0A%20%20%20%20%20%20%20%20%0A%20%20%20%20%0A%20%20%20%20%20%20%20%20%20%20%20%20%20%20%20%20var%20lat_lng_popup_ccd6ef933d05449bae6d452b2ef44fc7%20%3D%20L.popup%28%29%3B%0A%20%20%20%20%20%20%20%20%20%20%20%20%20%20%20%20function%20latLngPop%28e%29%20%7B%0A%20%20%20%20%20%20%20%20%20%20%20%20%20%20%20%20%20%20%20%20lat_lng_popup_ccd6ef933d05449bae6d452b2ef44fc7%0A%20%20%20%20%20%20%20%20%20%20%20%20%20%20%20%20%20%20%20%20%20%20%20%20.setLatLng%28e.latlng%29%0A%20%20%20%20%20%20%20%20%20%20%20%20%20%20%20%20%20%20%20%20%20%20%20%20.setContent%28%22Latitude%3A%20%22%20%2B%20e.latlng.lat.toFixed%284%29%20%2B%0A%20%20%20%20%20%20%20%20%20%20%20%20%20%20%20%20%20%20%20%20%20%20%20%20%20%20%20%20%20%20%20%20%20%20%20%20%22%3Cbr%3ELongitude%3A%20%22%20%2B%20e.latlng.lng.toFixed%284%29%29%0A%20%20%20%20%20%20%20%20%20%20%20%20%20%20%20%20%20%20%20%20%20%20%20%20.openOn%28map_5bea43a3c41d400797d304c5292cad85%29%3B%0A%20%20%20%20%20%20%20%20%20%20%20%20%20%20%20%20%20%20%20%20%7D%0A%20%20%20%20%20%20%20%20%20%20%20%20%20%20%20%20map_5bea43a3c41d400797d304c5292cad85.on%28%27click%27%2C%20latLngPop%29%3B%0A%20%20%20%20%20%20%20%20%20%20%20%20%0A%20%20%20%20%0A%20%20%20%20%20%20%20%20%20%20%20%20L.control.fullscreen%28%0A%20%20%20%20%20%20%20%20%20%20%20%20%20%20%20%20%7B%22forceSeparateButton%22%3A%20false%2C%20%22position%22%3A%20%22topleft%22%2C%20%22title%22%3A%20%22Full%20Screen%22%2C%20%22titleCancel%22%3A%20%22Exit%20Full%20Screen%22%7D%0A%20%20%20%20%20%20%20%20%20%20%20%20%29.addTo%28map_5bea43a3c41d400797d304c5292cad85%29%3B%0A%20%20%20%20%20%20%20%20%0A%20%20%20%20%0A%20%20%20%20%20%20%20%20%20%20%20%20map_5bea43a3c41d400797d304c5292cad85.fitBounds%28%0A%20%20%20%20%20%20%20%20%20%20%20%20%20%20%20%20%5B%5B-7.132673861109996%2C%20-76.61272973500003%5D%2C%20%5B-7.132673861109996%2C%20-76.61272973500003%5D%5D%2C%0A%20%20%20%20%20%20%20%20%20%20%20%20%20%20%20%20%7B%22maxZoom%22%3A%204%7D%0A%20%20%20%20%20%20%20%20%20%20%20%20%29%3B%0A%20%20%20%20%20%20%20%20%0A%20%20%20%20%0A%20%20%20%20%20%20%20%20%20%20%20%20var%20tile_layer_a735bed086ee4ae38f82dc1566e73854%20%3D%20L.tileLayer%28%0A%20%20%20%20%20%20%20%20%20%20%20%20%20%20%20%20%22https%3A//earthengine.googleapis.com/v1alpha/projects/earthengine-legacy/maps/82edb0496c1112337c63433c9b4fd107-148976e77fc36e346ac5778a9e179c43/tiles/%7Bz%7D/%7Bx%7D/%7By%7D%22%2C%0A%20%20%20%20%20%20%20%20%20%20%20%20%20%20%20%20%7B%22attribution%22%3A%20%22Google%20Earth%20Engine%22%2C%20%22detectRetina%22%3A%20false%2C%20%22maxNativeZoom%22%3A%2018%2C%20%22maxZoom%22%3A%2018%2C%20%22minZoom%22%3A%200%2C%20%22noWrap%22%3A%20false%2C%20%22opacity%22%3A%201.0%2C%20%22subdomains%22%3A%20%22abc%22%2C%20%22tms%22%3A%20false%2C%20%22vizParams%22%3A%20%7B%7D%7D%0A%20%20%20%20%20%20%20%20%20%20%20%20%29.addTo%28map_5bea43a3c41d400797d304c5292cad85%29%3B%0A%20%20%20%20%20%20%20%20%0A%20%20%20%20%0A%20%20%20%20%20%20%20%20%20%20%20%20var%20tile_layer_359a69d96a8441d4b3a1e794fec5ffa6%20%3D%20L.tileLayer%28%0A%20%20%20%20%20%20%20%20%20%20%20%20%20%20%20%20%22https%3A//earthengine.googleapis.com/v1alpha/projects/earthengine-legacy/maps/19420559596382bb755ed64f34681441-50dfd370c404f9da61b95dc6f41e6cbd/tiles/%7Bz%7D/%7Bx%7D/%7By%7D%22%2C%0A%20%20%20%20%20%20%20%20%20%20%20%20%20%20%20%20%7B%22attribution%22%3A%20%22Google%20Earth%20Engine%22%2C%20%22detectRetina%22%3A%20false%2C%20%22maxNativeZoom%22%3A%2018%2C%20%22maxZoom%22%3A%2018%2C%20%22minZoom%22%3A%200%2C%20%22noWrap%22%3A%20false%2C%20%22opacity%22%3A%201.0%2C%20%22subdomains%22%3A%20%22abc%22%2C%20%22tms%22%3A%20false%2C%20%22vizParams%22%3A%20%7B%7D%7D%0A%20%20%20%20%20%20%20%20%20%20%20%20%29.addTo%28map_5bea43a3c41d400797d304c5292cad85%29%3B%0A%20%20%20%20%20%20%20%20%0A%20%20%20%20%0A%20%20%20%20%20%20%20%20%20%20%20%20var%20tile_layer_1f02e49c0a414d5c9b7bbcc7af4f2545%20%3D%20L.tileLayer%28%0A%20%20%20%20%20%20%20%20%20%20%20%20%20%20%20%20%22https%3A//earthengine.googleapis.com/v1alpha/projects/earthengine-legacy/maps/141c13ffcb04eb198ab7d834f38a722f-ed8c6872ed965e590f183c43467cc8af/tiles/%7Bz%7D/%7Bx%7D/%7By%7D%22%2C%0A%20%20%20%20%20%20%20%20%20%20%20%20%20%20%20%20%7B%22attribution%22%3A%20%22Google%20Earth%20Engine%22%2C%20%22detectRetina%22%3A%20false%2C%20%22maxNativeZoom%22%3A%2018%2C%20%22maxZoom%22%3A%2018%2C%20%22minZoom%22%3A%200%2C%20%22noWrap%22%3A%20false%2C%20%22opacity%22%3A%201.0%2C%20%22subdomains%22%3A%20%22abc%22%2C%20%22tms%22%3A%20false%2C%20%22vizParams%22%3A%20%7B%7D%7D%0A%20%20%20%20%20%20%20%20%20%20%20%20%29.addTo%28map_5bea43a3c41d400797d304c5292cad85%29%3B%0A%20%20%20%20%20%20%20%20%0A%20%20%20%20%0A%20%20%20%20%20%20%20%20%20%20%20%20var%20tile_layer_3712819c2d53409d84064af3e7de8f6d%20%3D%20L.tileLayer%28%0A%20%20%20%20%20%20%20%20%20%20%20%20%20%20%20%20%22https%3A//earthengine.googleapis.com/v1alpha/projects/earthengine-legacy/maps/89a8318cf311a2e0f348003205383d7a-2c21e27940bfa12aee671dd2435a2400/tiles/%7Bz%7D/%7Bx%7D/%7By%7D%22%2C%0A%20%20%20%20%20%20%20%20%20%20%20%20%20%20%20%20%7B%22attribution%22%3A%20%22Google%20Earth%20Engine%22%2C%20%22detectRetina%22%3A%20false%2C%20%22maxNativeZoom%22%3A%2018%2C%20%22maxZoom%22%3A%2018%2C%20%22minZoom%22%3A%200%2C%20%22noWrap%22%3A%20false%2C%20%22opacity%22%3A%201.0%2C%20%22subdomains%22%3A%20%22abc%22%2C%20%22tms%22%3A%20false%2C%20%22vizParams%22%3A%20%7B%7D%7D%0A%20%20%20%20%20%20%20%20%20%20%20%20%29.addTo%28map_5bea43a3c41d400797d304c5292cad85%29%3B%0A%20%20%20%20%20%20%20%20%0A%20%20%20%20%0A%20%20%20%20%20%20%20%20%20%20%20%20var%20tile_layer_2b1005146bea459d9a3500f1732bad89%20%3D%20L.tileLayer%28%0A%20%20%20%20%20%20%20%20%20%20%20%20%20%20%20%20%22https%3A//earthengine.googleapis.com/v1alpha/projects/earthengine-legacy/maps/756497971442dcd839bfd940f8a47a57-c28d34a2bc6f577a46659d994ee3c5c0/tiles/%7Bz%7D/%7Bx%7D/%7By%7D%22%2C%0A%20%20%20%20%20%20%20%20%20%20%20%20%20%20%20%20%7B%22attribution%22%3A%20%22Google%20Earth%20Engine%22%2C%20%22detectRetina%22%3A%20false%2C%20%22maxNativeZoom%22%3A%2018%2C%20%22maxZoom%22%3A%2018%2C%20%22minZoom%22%3A%200%2C%20%22noWrap%22%3A%20false%2C%20%22opacity%22%3A%201.0%2C%20%22subdomains%22%3A%20%22abc%22%2C%20%22tms%22%3A%20false%2C%20%22vizParams%22%3A%20%7B%7D%7D%0A%20%20%20%20%20%20%20%20%20%20%20%20%29.addTo%28map_5bea43a3c41d400797d304c5292cad85%29%3B%0A%20%20%20%20%20%20%20%20%0A%20%20%20%20%0A%20%20%20%20%20%20%20%20%20%20%20%20var%20tile_layer_3cfe0442e6ed4a61bcfad3b0cc57441e%20%3D%20L.tileLayer%28%0A%20%20%20%20%20%20%20%20%20%20%20%20%20%20%20%20%22https%3A//earthengine.googleapis.com/v1alpha/projects/earthengine-legacy/maps/a1be2463e190bbd1be191428b8687d4e-913501d7d0babe39b0f4d3ae1626353c/tiles/%7Bz%7D/%7Bx%7D/%7By%7D%22%2C%0A%20%20%20%20%20%20%20%20%20%20%20%20%20%20%20%20%7B%22attribution%22%3A%20%22Google%20Earth%20Engine%22%2C%20%22detectRetina%22%3A%20false%2C%20%22maxNativeZoom%22%3A%2018%2C%20%22maxZoom%22%3A%2018%2C%20%22minZoom%22%3A%200%2C%20%22noWrap%22%3A%20false%2C%20%22opacity%22%3A%201.0%2C%20%22subdomains%22%3A%20%22abc%22%2C%20%22tms%22%3A%20false%2C%20%22vizParams%22%3A%20%7B%7D%7D%0A%20%20%20%20%20%20%20%20%20%20%20%20%29.addTo%28map_5bea43a3c41d400797d304c5292cad85%29%3B%0A%20%20%20%20%20%20%20%20%0A%20%20%20%20%0A%20%20%20%20%20%20%20%20%20%20%20%20var%20tile_layer_5a7294a6a52d4e95accc78cabb1e387c%20%3D%20L.tileLayer%28%0A%20%20%20%20%20%20%20%20%20%20%20%20%20%20%20%20%22https%3A//earthengine.googleapis.com/v1alpha/projects/earthengine-legacy/maps/303e8f83ec180bc64a6d73b6e9e0730d-e5ac865fe777f809710b371f7367efa3/tiles/%7Bz%7D/%7Bx%7D/%7By%7D%22%2C%0A%20%20%20%20%20%20%20%20%20%20%20%20%20%20%20%20%7B%22attribution%22%3A%20%22Google%20Earth%20Engine%22%2C%20%22detectRetina%22%3A%20false%2C%20%22maxNativeZoom%22%3A%2018%2C%20%22maxZoom%22%3A%2018%2C%20%22minZoom%22%3A%200%2C%20%22noWrap%22%3A%20false%2C%20%22opacity%22%3A%201.0%2C%20%22subdomains%22%3A%20%22abc%22%2C%20%22tms%22%3A%20false%2C%20%22vizParams%22%3A%20%7B%7D%7D%0A%20%20%20%20%20%20%20%20%20%20%20%20%29.addTo%28map_5bea43a3c41d400797d304c5292cad85%29%3B%0A%20%20%20%20%20%20%20%20%0A%20%20%20%20%0A%20%20%20%20%20%20%20%20%20%20%20%20var%20tile_layer_84a33b4265af4ca0bfaec3174ffd39ac%20%3D%20L.tileLayer%28%0A%20%20%20%20%20%20%20%20%20%20%20%20%20%20%20%20%22https%3A//earthengine.googleapis.com/v1alpha/projects/earthengine-legacy/maps/d562fada16de89072417f8ff7130e39d-957f008c492e8a589614644df093c9a8/tiles/%7Bz%7D/%7Bx%7D/%7By%7D%22%2C%0A%20%20%20%20%20%20%20%20%20%20%20%20%20%20%20%20%7B%22attribution%22%3A%20%22Google%20Earth%20Engine%22%2C%20%22detectRetina%22%3A%20false%2C%20%22maxNativeZoom%22%3A%2018%2C%20%22maxZoom%22%3A%2018%2C%20%22minZoom%22%3A%200%2C%20%22noWrap%22%3A%20false%2C%20%22opacity%22%3A%201.0%2C%20%22subdomains%22%3A%20%22abc%22%2C%20%22tms%22%3A%20false%2C%20%22vizParams%22%3A%20%7B%7D%7D%0A%20%20%20%20%20%20%20%20%20%20%20%20%29.addTo%28map_5bea43a3c41d400797d304c5292cad85%29%3B%0A%20%20%20%20%20%20%20%20%0A%20%20%20%20%0A%20%20%20%20%20%20%20%20%20%20%20%20var%20tile_layer_a77495a6f005461eb5d14a24297f74ed%20%3D%20L.tileLayer%28%0A%20%20%20%20%20%20%20%20%20%20%20%20%20%20%20%20%22https%3A//earthengine.googleapis.com/v1alpha/projects/earthengine-legacy/maps/357b79aa3b3a27d6e2a132e2a952a7e4-7059b67d7e0c54282def839fd101c13f/tiles/%7Bz%7D/%7Bx%7D/%7By%7D%22%2C%0A%20%20%20%20%20%20%20%20%20%20%20%20%20%20%20%20%7B%22attribution%22%3A%20%22Google%20Earth%20Engine%22%2C%20%22detectRetina%22%3A%20false%2C%20%22maxNativeZoom%22%3A%2018%2C%20%22maxZoom%22%3A%2018%2C%20%22minZoom%22%3A%200%2C%20%22noWrap%22%3A%20false%2C%20%22opacity%22%3A%201.0%2C%20%22subdomains%22%3A%20%22abc%22%2C%20%22tms%22%3A%20false%2C%20%22vizParams%22%3A%20%7B%7D%7D%0A%20%20%20%20%20%20%20%20%20%20%20%20%29.addTo%28map_5bea43a3c41d400797d304c5292cad85%29%3B%0A%20%20%20%20%20%20%20%20%0A%20%20%20%20%0A%20%20%20%20%20%20%20%20%20%20%20%20var%20tile_layer_15d47e7b4fea41dba15a05461470c02f%20%3D%20L.tileLayer%28%0A%20%20%20%20%20%20%20%20%20%20%20%20%20%20%20%20%22https%3A//earthengine.googleapis.com/v1alpha/projects/earthengine-legacy/maps/62bbdd3d6a6932b30053b4c539a1f854-2e527bd06a261fed7d06c613d7ce13b3/tiles/%7Bz%7D/%7Bx%7D/%7By%7D%22%2C%0A%20%20%20%20%20%20%20%20%20%20%20%20%20%20%20%20%7B%22attribution%22%3A%20%22Google%20Earth%20Engine%22%2C%20%22detectRetina%22%3A%20false%2C%20%22maxNativeZoom%22%3A%2018%2C%20%22maxZoom%22%3A%2018%2C%20%22minZoom%22%3A%200%2C%20%22noWrap%22%3A%20false%2C%20%22opacity%22%3A%201.0%2C%20%22subdomains%22%3A%20%22abc%22%2C%20%22tms%22%3A%20false%2C%20%22vizParams%22%3A%20%7B%7D%7D%0A%20%20%20%20%20%20%20%20%20%20%20%20%29.addTo%28map_5bea43a3c41d400797d304c5292cad85%29%3B%0A%20%20%20%20%20%20%20%20%0A%20%20%20%20%0A%20%20%20%20%20%20%20%20%20%20%20%20var%20tile_layer_20e9d662158d4a3e9bf19e68f8fb4e33%20%3D%20L.tileLayer%28%0A%20%20%20%20%20%20%20%20%20%20%20%20%20%20%20%20%22https%3A//earthengine.googleapis.com/v1alpha/projects/earthengine-legacy/maps/00dac41564473384243368867e93f258-1417ad1238a252e6aa6b7b518e203b8a/tiles/%7Bz%7D/%7Bx%7D/%7By%7D%22%2C%0A%20%20%20%20%20%20%20%20%20%20%20%20%20%20%20%20%7B%22attribution%22%3A%20%22Google%20Earth%20Engine%22%2C%20%22detectRetina%22%3A%20false%2C%20%22maxNativeZoom%22%3A%2018%2C%20%22maxZoom%22%3A%2018%2C%20%22minZoom%22%3A%200%2C%20%22noWrap%22%3A%20false%2C%20%22opacity%22%3A%201.0%2C%20%22subdomains%22%3A%20%22abc%22%2C%20%22tms%22%3A%20false%2C%20%22vizParams%22%3A%20%7B%7D%7D%0A%20%20%20%20%20%20%20%20%20%20%20%20%29.addTo%28map_5bea43a3c41d400797d304c5292cad85%29%3B%0A%20%20%20%20%20%20%20%20%0A%20%20%20%20%0A%20%20%20%20%20%20%20%20%20%20%20%20var%20tile_layer_95869352540748878d67004a695dc360%20%3D%20L.tileLayer%28%0A%20%20%20%20%20%20%20%20%20%20%20%20%20%20%20%20%22https%3A//earthengine.googleapis.com/v1alpha/projects/earthengine-legacy/maps/3f0af12aeee209d3b889f624fbd3b726-00b88a8ac764297bea0a359c2ad43e32/tiles/%7Bz%7D/%7Bx%7D/%7By%7D%22%2C%0A%20%20%20%20%20%20%20%20%20%20%20%20%20%20%20%20%7B%22attribution%22%3A%20%22Google%20Earth%20Engine%22%2C%20%22detectRetina%22%3A%20false%2C%20%22maxNativeZoom%22%3A%2018%2C%20%22maxZoom%22%3A%2018%2C%20%22minZoom%22%3A%200%2C%20%22noWrap%22%3A%20false%2C%20%22opacity%22%3A%201.0%2C%20%22subdomains%22%3A%20%22abc%22%2C%20%22tms%22%3A%20false%2C%20%22vizParams%22%3A%20%7B%7D%7D%0A%20%20%20%20%20%20%20%20%20%20%20%20%29.addTo%28map_5bea43a3c41d400797d304c5292cad85%29%3B%0A%20%20%20%20%20%20%20%20%0A%20%20%20%20%0A%20%20%20%20%20%20%20%20%20%20%20%20var%20tile_layer_5fc807e9a7a3402eb99a0e0e08529c55%20%3D%20L.tileLayer%28%0A%20%20%20%20%20%20%20%20%20%20%20%20%20%20%20%20%22https%3A//earthengine.googleapis.com/v1alpha/projects/earthengine-legacy/maps/e71fc6618d22394b6d9233a42944132b-409b2dabc2f5f169afadab3ba45519db/tiles/%7Bz%7D/%7Bx%7D/%7By%7D%22%2C%0A%20%20%20%20%20%20%20%20%20%20%20%20%20%20%20%20%7B%22attribution%22%3A%20%22Google%20Earth%20Engine%22%2C%20%22detectRetina%22%3A%20false%2C%20%22maxNativeZoom%22%3A%2018%2C%20%22maxZoom%22%3A%2018%2C%20%22minZoom%22%3A%200%2C%20%22noWrap%22%3A%20false%2C%20%22opacity%22%3A%201.0%2C%20%22subdomains%22%3A%20%22abc%22%2C%20%22tms%22%3A%20false%2C%20%22vizParams%22%3A%20%7B%22max%22%3A%201.0%2C%20%22min%22%3A%20-1.0%2C%20%22palette%22%3A%20%22red%2Cyellow%2Cgreen%22%7D%7D%0A%20%20%20%20%20%20%20%20%20%20%20%20%29.addTo%28map_5bea43a3c41d400797d304c5292cad85%29%3B%0A%20%20%20%20%20%20%20%20%0A%20%20%20%20%0A%20%20%20%20%20%20%20%20%20%20%20%20var%20tile_layer_9fb0769cafa84feb86b06694748e8cf4%20%3D%20L.tileLayer%28%0A%20%20%20%20%20%20%20%20%20%20%20%20%20%20%20%20%22https%3A//earthengine.googleapis.com/v1alpha/projects/earthengine-legacy/maps/2697acd79d9775dbe72ea2ad54d5a2f1-0c0992a89aaf601e08fa92139d60f8d7/tiles/%7Bz%7D/%7Bx%7D/%7By%7D%22%2C%0A%20%20%20%20%20%20%20%20%20%20%20%20%20%20%20%20%7B%22attribution%22%3A%20%22Google%20Earth%20Engine%22%2C%20%22detectRetina%22%3A%20false%2C%20%22maxNativeZoom%22%3A%2018%2C%20%22maxZoom%22%3A%2018%2C%20%22minZoom%22%3A%200%2C%20%22noWrap%22%3A%20false%2C%20%22opacity%22%3A%201.0%2C%20%22subdomains%22%3A%20%22abc%22%2C%20%22tms%22%3A%20false%2C%20%22vizParams%22%3A%20%7B%7D%7D%0A%20%20%20%20%20%20%20%20%20%20%20%20%29.addTo%28map_5bea43a3c41d400797d304c5292cad85%29%3B%0A%20%20%20%20%20%20%20%20%0A%20%20%20%20%0A%20%20%20%20%20%20%20%20%20%20%20%20var%20tile_layer_05a532b9ef40416287bb501092485caf%20%3D%20L.tileLayer%28%0A%20%20%20%20%20%20%20%20%20%20%20%20%20%20%20%20%22https%3A//earthengine.googleapis.com/v1alpha/projects/earthengine-legacy/maps/32ac4a40c8ea6289dd77815b76a4a0f3-5f8fca6fdd069c929bf66a94bf7c6cef/tiles/%7Bz%7D/%7Bx%7D/%7By%7D%22%2C%0A%20%20%20%20%20%20%20%20%20%20%20%20%20%20%20%20%7B%22attribution%22%3A%20%22Google%20Earth%20Engine%22%2C%20%22detectRetina%22%3A%20false%2C%20%22maxNativeZoom%22%3A%2018%2C%20%22maxZoom%22%3A%2018%2C%20%22minZoom%22%3A%200%2C%20%22noWrap%22%3A%20false%2C%20%22opacity%22%3A%201.0%2C%20%22subdomains%22%3A%20%22abc%22%2C%20%22tms%22%3A%20false%2C%20%22vizParams%22%3A%20%7B%7D%7D%0A%20%20%20%20%20%20%20%20%20%20%20%20%29.addTo%28map_5bea43a3c41d400797d304c5292cad85%29%3B%0A%20%20%20%20%20%20%20%20%0A%20%20%20%20%0A%20%20%20%20%20%20%20%20%20%20%20%20var%20tile_layer_6650de2f28fb4c15ab159352980d2c58%20%3D%20L.tileLayer%28%0A%20%20%20%20%20%20%20%20%20%20%20%20%20%20%20%20%22https%3A//earthengine.googleapis.com/v1alpha/projects/earthengine-legacy/maps/e99e1e3fefad0ef45d857320a8a5e609-6053645f37fd008a97de6d7ea1575d67/tiles/%7Bz%7D/%7Bx%7D/%7By%7D%22%2C%0A%20%20%20%20%20%20%20%20%20%20%20%20%20%20%20%20%7B%22attribution%22%3A%20%22Google%20Earth%20Engine%22%2C%20%22detectRetina%22%3A%20false%2C%20%22maxNativeZoom%22%3A%2018%2C%20%22maxZoom%22%3A%2018%2C%20%22minZoom%22%3A%200%2C%20%22noWrap%22%3A%20false%2C%20%22opacity%22%3A%201.0%2C%20%22subdomains%22%3A%20%22abc%22%2C%20%22tms%22%3A%20false%2C%20%22vizParams%22%3A%20%7B%22max%22%3A%202.0889682809586527%2C%20%22min%22%3A%200.0839209892137806%7D%7D%0A%20%20%20%20%20%20%20%20%20%20%20%20%29.addTo%28map_5bea43a3c41d400797d304c5292cad85%29%3B%0A%20%20%20%20%20%20%20%20%0A%20%20%20%20%0A%20%20%20%20%20%20%20%20%20%20%20%20var%20tile_layer_c180c26864304ccfa990e5c413a68763%20%3D%20L.tileLayer%28%0A%20%20%20%20%20%20%20%20%20%20%20%20%20%20%20%20%22https%3A//earthengine.googleapis.com/v1alpha/projects/earthengine-legacy/maps/c4dce4e80438d97db071ea7839fb8dcd-211c7d0099f4e1ab3c3c13a73f3863e0/tiles/%7Bz%7D/%7Bx%7D/%7By%7D%22%2C%0A%20%20%20%20%20%20%20%20%20%20%20%20%20%20%20%20%7B%22attribution%22%3A%20%22Google%20Earth%20Engine%22%2C%20%22detectRetina%22%3A%20false%2C%20%22maxNativeZoom%22%3A%2018%2C%20%22maxZoom%22%3A%2018%2C%20%22minZoom%22%3A%200%2C%20%22noWrap%22%3A%20false%2C%20%22opacity%22%3A%201.0%2C%20%22subdomains%22%3A%20%22abc%22%2C%20%22tms%22%3A%20false%2C%20%22vizParams%22%3A%20%7B%7D%7D%0A%20%20%20%20%20%20%20%20%20%20%20%20%29.addTo%28map_5bea43a3c41d400797d304c5292cad85%29%3B%0A%20%20%20%20%20%20%20%20%0A%20%20%20%20%0A%20%20%20%20%20%20%20%20%20%20%20%20var%20tile_layer_15b72f031cc14dfb83165721956dddb4%20%3D%20L.tileLayer%28%0A%20%20%20%20%20%20%20%20%20%20%20%20%20%20%20%20%22https%3A//earthengine.googleapis.com/v1alpha/projects/earthengine-legacy/maps/70edba609720f4303145f3e77b2a496e-d5a8919b6ccf9ecae8aa17a037841e17/tiles/%7Bz%7D/%7Bx%7D/%7By%7D%22%2C%0A%20%20%20%20%20%20%20%20%20%20%20%20%20%20%20%20%7B%22attribution%22%3A%20%22Google%20Earth%20Engine%22%2C%20%22detectRetina%22%3A%20false%2C%20%22maxNativeZoom%22%3A%2018%2C%20%22maxZoom%22%3A%2018%2C%20%22minZoom%22%3A%200%2C%20%22noWrap%22%3A%20false%2C%20%22opacity%22%3A%201.0%2C%20%22subdomains%22%3A%20%22abc%22%2C%20%22tms%22%3A%20false%2C%20%22vizParams%22%3A%20%7B%7D%7D%0A%20%20%20%20%20%20%20%20%20%20%20%20%29.addTo%28map_5bea43a3c41d400797d304c5292cad85%29%3B%0A%20%20%20%20%20%20%20%20%0A%20%20%20%20%0A%20%20%20%20%20%20%20%20%20%20%20%20var%20tile_layer_649ccd9cbbff4fa6b83fb8d83d2acacc%20%3D%20L.tileLayer%28%0A%20%20%20%20%20%20%20%20%20%20%20%20%20%20%20%20%22https%3A//earthengine.googleapis.com/v1alpha/projects/earthengine-legacy/maps/8de1d4ed30a13375b937b70dc8ff109f-a9c2c8b1a93f563e89357ea1de63753d/tiles/%7Bz%7D/%7Bx%7D/%7By%7D%22%2C%0A%20%20%20%20%20%20%20%20%20%20%20%20%20%20%20%20%7B%22attribution%22%3A%20%22Google%20Earth%20Engine%22%2C%20%22detectRetina%22%3A%20false%2C%20%22maxNativeZoom%22%3A%2018%2C%20%22maxZoom%22%3A%2018%2C%20%22minZoom%22%3A%200%2C%20%22noWrap%22%3A%20false%2C%20%22opacity%22%3A%201.0%2C%20%22subdomains%22%3A%20%22abc%22%2C%20%22tms%22%3A%20false%2C%20%22vizParams%22%3A%20%7B%22max%22%3A%201.706744418015806%2C%20%22min%22%3A%200.3119852727448891%7D%7D%0A%20%20%20%20%20%20%20%20%20%20%20%20%29.addTo%28map_5bea43a3c41d400797d304c5292cad85%29%3B%0A%20%20%20%20%20%20%20%20%0A%20%20%20%20%0A%20%20%20%20%20%20%20%20%20%20%20%20var%20tile_layer_8faa2046f0f24b59b423d71e07af796f%20%3D%20L.tileLayer%28%0A%20%20%20%20%20%20%20%20%20%20%20%20%20%20%20%20%22https%3A//earthengine.googleapis.com/v1alpha/projects/earthengine-legacy/maps/315d3b585fe8fe6002b46530b004737f-59d725a07f45155538dab19ec0b0572c/tiles/%7Bz%7D/%7Bx%7D/%7By%7D%22%2C%0A%20%20%20%20%20%20%20%20%20%20%20%20%20%20%20%20%7B%22attribution%22%3A%20%22Google%20Earth%20Engine%22%2C%20%22detectRetina%22%3A%20false%2C%20%22maxNativeZoom%22%3A%2018%2C%20%22maxZoom%22%3A%2018%2C%20%22minZoom%22%3A%200%2C%20%22noWrap%22%3A%20false%2C%20%22opacity%22%3A%201.0%2C%20%22subdomains%22%3A%20%22abc%22%2C%20%22tms%22%3A%20false%2C%20%22vizParams%22%3A%20%7B%7D%7D%0A%20%20%20%20%20%20%20%20%20%20%20%20%29.addTo%28map_5bea43a3c41d400797d304c5292cad85%29%3B%0A%20%20%20%20%20%20%20%20%0A%20%20%20%20%0A%20%20%20%20%20%20%20%20%20%20%20%20var%20layer_control_19c466154e2d4cc78a253a455850b62e%20%3D%20%7B%0A%20%20%20%20%20%20%20%20%20%20%20%20%20%20%20%20base_layers%20%3A%20%7B%0A%20%20%20%20%20%20%20%20%20%20%20%20%20%20%20%20%20%20%20%20%22openstreetmap%22%20%3A%20tile_layer_41fdb54fd759480e8188a5f364e04ed9%2C%0A%20%20%20%20%20%20%20%20%20%20%20%20%20%20%20%20%7D%2C%0A%20%20%20%20%20%20%20%20%20%20%20%20%20%20%20%20overlays%20%3A%20%20%7B%0A%20%20%20%20%20%20%20%20%20%20%20%20%20%20%20%20%20%20%20%20%22Google%20Maps%22%20%3A%20tile_layer_66a50903393047cc8f009e620f0ee1fa%2C%0A%20%20%20%20%20%20%20%20%20%20%20%20%20%20%20%20%20%20%20%20%22L8-B1%22%20%3A%20tile_layer_a735bed086ee4ae38f82dc1566e73854%2C%0A%20%20%20%20%20%20%20%20%20%20%20%20%20%20%20%20%20%20%20%20%22L8-B2%22%20%3A%20tile_layer_359a69d96a8441d4b3a1e794fec5ffa6%2C%0A%20%20%20%20%20%20%20%20%20%20%20%20%20%20%20%20%20%20%20%20%22L8-B3%22%20%3A%20tile_layer_1f02e49c0a414d5c9b7bbcc7af4f2545%2C%0A%20%20%20%20%20%20%20%20%20%20%20%20%20%20%20%20%20%20%20%20%22L8-B4%22%20%3A%20tile_layer_3712819c2d53409d84064af3e7de8f6d%2C%0A%20%20%20%20%20%20%20%20%20%20%20%20%20%20%20%20%20%20%20%20%22L8-B5%22%20%3A%20tile_layer_2b1005146bea459d9a3500f1732bad89%2C%0A%20%20%20%20%20%20%20%20%20%20%20%20%20%20%20%20%20%20%20%20%22L8-B6%22%20%3A%20tile_layer_3cfe0442e6ed4a61bcfad3b0cc57441e%2C%0A%20%20%20%20%20%20%20%20%20%20%20%20%20%20%20%20%20%20%20%20%22L8-B7%22%20%3A%20tile_layer_5a7294a6a52d4e95accc78cabb1e387c%2C%0A%20%20%20%20%20%20%20%20%20%20%20%20%20%20%20%20%20%20%20%20%22L8-B10%22%20%3A%20tile_layer_84a33b4265af4ca0bfaec3174ffd39ac%2C%0A%20%20%20%20%20%20%20%20%20%20%20%20%20%20%20%20%20%20%20%20%22L8-B11%22%20%3A%20tile_layer_a77495a6f005461eb5d14a24297f74ed%2C%0A%20%20%20%20%20%20%20%20%20%20%20%20%20%20%20%20%20%20%20%20%22L8-sr_aerosol%22%20%3A%20tile_layer_15d47e7b4fea41dba15a05461470c02f%2C%0A%20%20%20%20%20%20%20%20%20%20%20%20%20%20%20%20%20%20%20%20%22L8-pixel_qa%22%20%3A%20tile_layer_20e9d662158d4a3e9bf19e68f8fb4e33%2C%0A%20%20%20%20%20%20%20%20%20%20%20%20%20%20%20%20%20%20%20%20%22L8-radsat_qa%22%20%3A%20tile_layer_95869352540748878d67004a695dc360%2C%0A%20%20%20%20%20%20%20%20%20%20%20%20%20%20%20%20%20%20%20%20%22L8-ndvi%22%20%3A%20tile_layer_5fc807e9a7a3402eb99a0e0e08529c55%2C%0A%20%20%20%20%20%20%20%20%20%20%20%20%20%20%20%20%20%20%20%20%22S1-VV%22%20%3A%20tile_layer_9fb0769cafa84feb86b06694748e8cf4%2C%0A%20%20%20%20%20%20%20%20%20%20%20%20%20%20%20%20%20%20%20%20%22S1-VH%22%20%3A%20tile_layer_05a532b9ef40416287bb501092485caf%2C%0A%20%20%20%20%20%20%20%20%20%20%20%20%20%20%20%20%20%20%20%20%22S1-radar_volume_index%22%20%3A%20tile_layer_6650de2f28fb4c15ab159352980d2c58%2C%0A%20%20%20%20%20%20%20%20%20%20%20%20%20%20%20%20%20%20%20%20%22ALOS2-HV%22%20%3A%20tile_layer_c180c26864304ccfa990e5c413a68763%2C%0A%20%20%20%20%20%20%20%20%20%20%20%20%20%20%20%20%20%20%20%20%22ALOS2-HH%22%20%3A%20tile_layer_15b72f031cc14dfb83165721956dddb4%2C%0A%20%20%20%20%20%20%20%20%20%20%20%20%20%20%20%20%20%20%20%20%22ALOS2-radar_volume_index%22%20%3A%20tile_layer_649ccd9cbbff4fa6b83fb8d83d2acacc%2C%0A%20%20%20%20%20%20%20%20%20%20%20%20%20%20%20%20%20%20%20%20%22MODIS-Percent_Tree_Cover%22%20%3A%20tile_layer_8faa2046f0f24b59b423d71e07af796f%2C%0A%20%20%20%20%20%20%20%20%20%20%20%20%20%20%20%20%7D%2C%0A%20%20%20%20%20%20%20%20%20%20%20%20%7D%3B%0A%20%20%20%20%20%20%20%20%20%20%20%20L.control.layers%28%0A%20%20%20%20%20%20%20%20%20%20%20%20%20%20%20%20layer_control_19c466154e2d4cc78a253a455850b62e.base_layers%2C%0A%20%20%20%20%20%20%20%20%20%20%20%20%20%20%20%20layer_control_19c466154e2d4cc78a253a455850b62e.overlays%2C%0A%20%20%20%20%20%20%20%20%20%20%20%20%20%20%20%20%7B%22autoZIndex%22%3A%20true%2C%20%22collapsed%22%3A%20true%2C%20%22position%22%3A%20%22topright%22%7D%0A%20%20%20%20%20%20%20%20%20%20%20%20%29.addTo%28map_5bea43a3c41d400797d304c5292cad85%29%3B%0A%20%20%20%20%20%20%20%20%20%20%20%20tile_layer_a735bed086ee4ae38f82dc1566e73854.remove%28%29%3B%0A%20%20%20%20%20%20%20%20%20%20%20%20tile_layer_359a69d96a8441d4b3a1e794fec5ffa6.remove%28%29%3B%0A%20%20%20%20%20%20%20%20%20%20%20%20tile_layer_1f02e49c0a414d5c9b7bbcc7af4f2545.remove%28%29%3B%0A%20%20%20%20%20%20%20%20%20%20%20%20tile_layer_3712819c2d53409d84064af3e7de8f6d.remove%28%29%3B%0A%20%20%20%20%20%20%20%20%20%20%20%20tile_layer_2b1005146bea459d9a3500f1732bad89.remove%28%29%3B%0A%20%20%20%20%20%20%20%20%20%20%20%20tile_layer_3cfe0442e6ed4a61bcfad3b0cc57441e.remove%28%29%3B%0A%20%20%20%20%20%20%20%20%20%20%20%20tile_layer_5a7294a6a52d4e95accc78cabb1e387c.remove%28%29%3B%0A%20%20%20%20%20%20%20%20%20%20%20%20tile_layer_84a33b4265af4ca0bfaec3174ffd39ac.remove%28%29%3B%0A%20%20%20%20%20%20%20%20%20%20%20%20tile_layer_a77495a6f005461eb5d14a24297f74ed.remove%28%29%3B%0A%20%20%20%20%20%20%20%20%20%20%20%20tile_layer_15d47e7b4fea41dba15a05461470c02f.remove%28%29%3B%0A%20%20%20%20%20%20%20%20%20%20%20%20tile_layer_20e9d662158d4a3e9bf19e68f8fb4e33.remove%28%29%3B%0A%20%20%20%20%20%20%20%20%20%20%20%20tile_layer_95869352540748878d67004a695dc360.remove%28%29%3B%0A%20%20%20%20%20%20%20%20%20%20%20%20tile_layer_9fb0769cafa84feb86b06694748e8cf4.remove%28%29%3B%0A%20%20%20%20%20%20%20%20%20%20%20%20tile_layer_05a532b9ef40416287bb501092485caf.remove%28%29%3B%0A%20%20%20%20%20%20%20%20%20%20%20%20tile_layer_c180c26864304ccfa990e5c413a68763.remove%28%29%3B%0A%20%20%20%20%20%20%20%20%20%20%20%20tile_layer_15b72f031cc14dfb83165721956dddb4.remove%28%29%3B%0A%20%20%20%20%20%20%20%20%20%20%20%20tile_layer_8faa2046f0f24b59b423d71e07af796f.remove%28%29%3B%0A%20%20%20%20%20%20%20%20%0A%3C/script%3E onload=\"this.contentDocument.open();this.contentDocument.write(    decodeURIComponent(this.getAttribute('data-html')));this.contentDocument.close();\" allowfullscreen webkitallowfullscreen mozallowfullscreen></iframe></div></div>"
            ],
            "text/plain": [
              "<geemap.eefolium.Map at 0x7f4506dffe10>"
            ]
          },
          "metadata": {
            "tags": []
          },
          "execution_count": 25
        }
      ]
    },
    {
      "cell_type": "markdown",
      "metadata": {
        "id": "UGogwdelTZgl"
      },
      "source": [
        "Verify spatial referencing information by displaying a dictionary of SRS information for each band."
      ]
    },
    {
      "cell_type": "code",
      "metadata": {
        "id": "u7DQrnsmTaEF"
      },
      "source": [
        "# srs = {}\n",
        "# for b in stack.bandNames().getInfo():\n",
        "#     p = stack.select(b).projection()\n",
        "#     srs[b] = p.getInfo()\n",
        "#     srs[b]['nominalScale'] = p.nominalScale().getInfo()\n",
        "#     del srs[b]['type']\n",
        "# # All image have identical projections if this test returns true:\n",
        "# len(list(set([str(p) for p in list(srs.values())]))) == 1"
      ],
      "execution_count": 26,
      "outputs": []
    },
    {
      "cell_type": "markdown",
      "metadata": {
        "id": "BMhDVsLFSdIm"
      },
      "source": [
        "## Zonal statistics\n",
        "\n",
        "Map over the feature collection after building the stack."
      ]
    },
    {
      "cell_type": "code",
      "metadata": {
        "colab": {
          "base_uri": "https://localhost:8080/"
        },
        "id": "mno2Xa0fWt9l",
        "outputId": "60901d38-f29b-4b38-af1f-3532a362ff43"
      },
      "source": [
        "outputs = stack.reduceRegions(\n",
        "    collection=pfc,\n",
        "    reducer=ee.Reducer.mean(),\n",
        "    #crs=stack.projection(),\n",
        "    scale=30,\n",
        ")\n",
        "\n",
        "type(outputs)"
      ],
      "execution_count": 27,
      "outputs": [
        {
          "output_type": "execute_result",
          "data": {
            "text/plain": [
              "ee.featurecollection.FeatureCollection"
            ]
          },
          "metadata": {
            "tags": []
          },
          "execution_count": 27
        }
      ]
    },
    {
      "cell_type": "markdown",
      "metadata": {
        "id": "uhruVfpG3UPS"
      },
      "source": [
        "Get the new `ee.FeatureCollection` as a dictionary then call the *pandas* convenience function `json_normalize` to translate to a `pandas.DataFrame`. "
      ]
    },
    {
      "cell_type": "code",
      "metadata": {
        "colab": {
          "base_uri": "https://localhost:8080/",
          "height": 324
        },
        "id": "NHX80peec1Zh",
        "outputId": "3c09097f-9f62-4397-9f07-031b39aaf888"
      },
      "source": [
        "outputs = pd.json_normalize(outputs.getInfo()['features'])\n",
        "\n",
        "outputs.describe()"
      ],
      "execution_count": 28,
      "outputs": [
        {
          "output_type": "execute_result",
          "data": {
            "text/html": [
              "<div>\n",
              "<style scoped>\n",
              "    .dataframe tbody tr th:only-of-type {\n",
              "        vertical-align: middle;\n",
              "    }\n",
              "\n",
              "    .dataframe tbody tr th {\n",
              "        vertical-align: top;\n",
              "    }\n",
              "\n",
              "    .dataframe thead th {\n",
              "        text-align: right;\n",
              "    }\n",
              "</style>\n",
              "<table border=\"1\" class=\"dataframe\">\n",
              "  <thead>\n",
              "    <tr style=\"text-align: right;\">\n",
              "      <th></th>\n",
              "      <th>properties.ALOS2-HH</th>\n",
              "      <th>properties.ALOS2-HV</th>\n",
              "      <th>properties.ALOS2-radar_volume_index</th>\n",
              "      <th>properties.L8-B1</th>\n",
              "      <th>properties.L8-B10</th>\n",
              "      <th>properties.L8-B11</th>\n",
              "      <th>properties.L8-B2</th>\n",
              "      <th>properties.L8-B3</th>\n",
              "      <th>properties.L8-B4</th>\n",
              "      <th>properties.L8-B5</th>\n",
              "      <th>properties.L8-B6</th>\n",
              "      <th>properties.L8-B7</th>\n",
              "      <th>properties.L8-ndvi</th>\n",
              "      <th>properties.L8-pixel_qa</th>\n",
              "      <th>properties.L8-radsat_qa</th>\n",
              "      <th>properties.L8-sr_aerosol</th>\n",
              "      <th>properties.MODIS-Percent_Tree_Cover</th>\n",
              "      <th>properties.S1-VH</th>\n",
              "      <th>properties.S1-VV</th>\n",
              "      <th>properties.S1-radar_volume_index</th>\n",
              "    </tr>\n",
              "  </thead>\n",
              "  <tbody>\n",
              "    <tr>\n",
              "      <th>count</th>\n",
              "      <td>99.000000</td>\n",
              "      <td>99.000000</td>\n",
              "      <td>99.000000</td>\n",
              "      <td>98.000000</td>\n",
              "      <td>98.000000</td>\n",
              "      <td>98.000000</td>\n",
              "      <td>98.000000</td>\n",
              "      <td>98.000000</td>\n",
              "      <td>98.000000</td>\n",
              "      <td>98.000000</td>\n",
              "      <td>98.000000</td>\n",
              "      <td>98.000000</td>\n",
              "      <td>97.000000</td>\n",
              "      <td>98.000000</td>\n",
              "      <td>98.0</td>\n",
              "      <td>98.000000</td>\n",
              "      <td>98.000000</td>\n",
              "      <td>99.000000</td>\n",
              "      <td>99.000000</td>\n",
              "      <td>99.000000</td>\n",
              "    </tr>\n",
              "    <tr>\n",
              "      <th>mean</th>\n",
              "      <td>6206.212121</td>\n",
              "      <td>2537.868687</td>\n",
              "      <td>1.181532</td>\n",
              "      <td>328.091837</td>\n",
              "      <td>2937.392857</td>\n",
              "      <td>2905.857143</td>\n",
              "      <td>370.872449</td>\n",
              "      <td>632.234694</td>\n",
              "      <td>500.785714</td>\n",
              "      <td>3258.994898</td>\n",
              "      <td>1694.520408</td>\n",
              "      <td>843.275510</td>\n",
              "      <td>0.717830</td>\n",
              "      <td>322.020408</td>\n",
              "      <td>0.0</td>\n",
              "      <td>148.204082</td>\n",
              "      <td>42.591837</td>\n",
              "      <td>0.036224</td>\n",
              "      <td>0.189030</td>\n",
              "      <td>0.680338</td>\n",
              "    </tr>\n",
              "    <tr>\n",
              "      <th>std</th>\n",
              "      <td>2771.084240</td>\n",
              "      <td>1114.151023</td>\n",
              "      <td>0.322871</td>\n",
              "      <td>205.914347</td>\n",
              "      <td>19.914929</td>\n",
              "      <td>16.127872</td>\n",
              "      <td>229.065710</td>\n",
              "      <td>302.660311</td>\n",
              "      <td>363.598496</td>\n",
              "      <td>899.380295</td>\n",
              "      <td>549.985407</td>\n",
              "      <td>468.016356</td>\n",
              "      <td>0.227795</td>\n",
              "      <td>0.202031</td>\n",
              "      <td>0.0</td>\n",
              "      <td>51.743212</td>\n",
              "      <td>24.901802</td>\n",
              "      <td>0.020770</td>\n",
              "      <td>0.102332</td>\n",
              "      <td>0.228091</td>\n",
              "    </tr>\n",
              "    <tr>\n",
              "      <th>min</th>\n",
              "      <td>894.000000</td>\n",
              "      <td>487.000000</td>\n",
              "      <td>0.279173</td>\n",
              "      <td>-310.000000</td>\n",
              "      <td>2843.000000</td>\n",
              "      <td>2852.000000</td>\n",
              "      <td>-190.000000</td>\n",
              "      <td>-65.000000</td>\n",
              "      <td>-12.000000</td>\n",
              "      <td>291.000000</td>\n",
              "      <td>164.500000</td>\n",
              "      <td>117.500000</td>\n",
              "      <td>-0.282382</td>\n",
              "      <td>322.000000</td>\n",
              "      <td>0.0</td>\n",
              "      <td>68.000000</td>\n",
              "      <td>4.000000</td>\n",
              "      <td>0.002358</td>\n",
              "      <td>0.008135</td>\n",
              "      <td>0.112101</td>\n",
              "    </tr>\n",
              "    <tr>\n",
              "      <th>25%</th>\n",
              "      <td>4734.500000</td>\n",
              "      <td>1935.500000</td>\n",
              "      <td>0.998658</td>\n",
              "      <td>197.500000</td>\n",
              "      <td>2929.625000</td>\n",
              "      <td>2897.625000</td>\n",
              "      <td>216.500000</td>\n",
              "      <td>400.375000</td>\n",
              "      <td>233.875000</td>\n",
              "      <td>2786.500000</td>\n",
              "      <td>1382.625000</td>\n",
              "      <td>518.375000</td>\n",
              "      <td>0.594579</td>\n",
              "      <td>322.000000</td>\n",
              "      <td>0.0</td>\n",
              "      <td>96.000000</td>\n",
              "      <td>19.500000</td>\n",
              "      <td>0.026829</td>\n",
              "      <td>0.120503</td>\n",
              "      <td>0.555444</td>\n",
              "    </tr>\n",
              "    <tr>\n",
              "      <th>50%</th>\n",
              "      <td>5947.000000</td>\n",
              "      <td>2506.000000</td>\n",
              "      <td>1.173162</td>\n",
              "      <td>301.750000</td>\n",
              "      <td>2940.750000</td>\n",
              "      <td>2909.000000</td>\n",
              "      <td>313.750000</td>\n",
              "      <td>575.750000</td>\n",
              "      <td>373.000000</td>\n",
              "      <td>3396.500000</td>\n",
              "      <td>1623.500000</td>\n",
              "      <td>691.250000</td>\n",
              "      <td>0.826921</td>\n",
              "      <td>322.000000</td>\n",
              "      <td>0.0</td>\n",
              "      <td>152.500000</td>\n",
              "      <td>39.500000</td>\n",
              "      <td>0.036689</td>\n",
              "      <td>0.189384</td>\n",
              "      <td>0.652357</td>\n",
              "    </tr>\n",
              "    <tr>\n",
              "      <th>75%</th>\n",
              "      <td>7340.000000</td>\n",
              "      <td>3138.000000</td>\n",
              "      <td>1.372365</td>\n",
              "      <td>423.750000</td>\n",
              "      <td>2947.875000</td>\n",
              "      <td>2916.500000</td>\n",
              "      <td>450.500000</td>\n",
              "      <td>819.875000</td>\n",
              "      <td>667.000000</td>\n",
              "      <td>3813.125000</td>\n",
              "      <td>1989.125000</td>\n",
              "      <td>1026.000000</td>\n",
              "      <td>0.880791</td>\n",
              "      <td>322.000000</td>\n",
              "      <td>0.0</td>\n",
              "      <td>192.000000</td>\n",
              "      <td>66.000000</td>\n",
              "      <td>0.042238</td>\n",
              "      <td>0.231536</td>\n",
              "      <td>0.783544</td>\n",
              "    </tr>\n",
              "    <tr>\n",
              "      <th>max</th>\n",
              "      <td>18923.000000</td>\n",
              "      <td>6586.000000</td>\n",
              "      <td>2.167319</td>\n",
              "      <td>1029.000000</td>\n",
              "      <td>2988.000000</td>\n",
              "      <td>2941.000000</td>\n",
              "      <td>1206.000000</td>\n",
              "      <td>1538.000000</td>\n",
              "      <td>1651.000000</td>\n",
              "      <td>5558.000000</td>\n",
              "      <td>3322.000000</td>\n",
              "      <td>2568.000000</td>\n",
              "      <td>0.906323</td>\n",
              "      <td>324.000000</td>\n",
              "      <td>0.0</td>\n",
              "      <td>228.000000</td>\n",
              "      <td>83.000000</td>\n",
              "      <td>0.177845</td>\n",
              "      <td>0.795750</td>\n",
              "      <td>2.247066</td>\n",
              "    </tr>\n",
              "  </tbody>\n",
              "</table>\n",
              "</div>"
            ],
            "text/plain": [
              "       properties.ALOS2-HH  ...  properties.S1-radar_volume_index\n",
              "count            99.000000  ...                         99.000000\n",
              "mean           6206.212121  ...                          0.680338\n",
              "std            2771.084240  ...                          0.228091\n",
              "min             894.000000  ...                          0.112101\n",
              "25%            4734.500000  ...                          0.555444\n",
              "50%            5947.000000  ...                          0.652357\n",
              "75%            7340.000000  ...                          0.783544\n",
              "max           18923.000000  ...                          2.247066\n",
              "\n",
              "[8 rows x 20 columns]"
            ]
          },
          "metadata": {
            "tags": []
          },
          "execution_count": 28
        }
      ]
    },
    {
      "cell_type": "markdown",
      "metadata": {
        "id": "kr680vob3zyx"
      },
      "source": [
        "And the first 5 rows of actual table."
      ]
    },
    {
      "cell_type": "code",
      "metadata": {
        "colab": {
          "base_uri": "https://localhost:8080/",
          "height": 317
        },
        "id": "aLjPplha3z62",
        "outputId": "96c2c877-8a85-4186-f7a1-5a05c51755c0"
      },
      "source": [
        "outputs.head()"
      ],
      "execution_count": 29,
      "outputs": [
        {
          "output_type": "execute_result",
          "data": {
            "text/html": [
              "<div>\n",
              "<style scoped>\n",
              "    .dataframe tbody tr th:only-of-type {\n",
              "        vertical-align: middle;\n",
              "    }\n",
              "\n",
              "    .dataframe tbody tr th {\n",
              "        vertical-align: top;\n",
              "    }\n",
              "\n",
              "    .dataframe thead th {\n",
              "        text-align: right;\n",
              "    }\n",
              "</style>\n",
              "<table border=\"1\" class=\"dataframe\">\n",
              "  <thead>\n",
              "    <tr style=\"text-align: right;\">\n",
              "      <th></th>\n",
              "      <th>type</th>\n",
              "      <th>id</th>\n",
              "      <th>geometry.type</th>\n",
              "      <th>geometry.coordinates</th>\n",
              "      <th>properties.ALOS2-HH</th>\n",
              "      <th>properties.ALOS2-HV</th>\n",
              "      <th>properties.ALOS2-radar_volume_index</th>\n",
              "      <th>properties.L8-B1</th>\n",
              "      <th>properties.L8-B10</th>\n",
              "      <th>properties.L8-B11</th>\n",
              "      <th>properties.L8-B2</th>\n",
              "      <th>properties.L8-B3</th>\n",
              "      <th>properties.L8-B4</th>\n",
              "      <th>properties.L8-B5</th>\n",
              "      <th>properties.L8-B6</th>\n",
              "      <th>properties.L8-B7</th>\n",
              "      <th>properties.L8-ndvi</th>\n",
              "      <th>properties.L8-pixel_qa</th>\n",
              "      <th>properties.L8-radsat_qa</th>\n",
              "      <th>properties.L8-sr_aerosol</th>\n",
              "      <th>properties.MODIS-Percent_Tree_Cover</th>\n",
              "      <th>properties.S1-VH</th>\n",
              "      <th>properties.S1-VV</th>\n",
              "      <th>properties.S1-radar_volume_index</th>\n",
              "    </tr>\n",
              "  </thead>\n",
              "  <tbody>\n",
              "    <tr>\n",
              "      <th>0</th>\n",
              "      <td>Feature</td>\n",
              "      <td>0</td>\n",
              "      <td>Point</td>\n",
              "      <td>[-76.54613982, -8.220041421]</td>\n",
              "      <td>15154.0</td>\n",
              "      <td>1137.0</td>\n",
              "      <td>0.279173</td>\n",
              "      <td>743.5</td>\n",
              "      <td>2960.0</td>\n",
              "      <td>2925.5</td>\n",
              "      <td>832.0</td>\n",
              "      <td>1109.5</td>\n",
              "      <td>1017.0</td>\n",
              "      <td>3352.0</td>\n",
              "      <td>2797.5</td>\n",
              "      <td>1693.5</td>\n",
              "      <td>0.534447</td>\n",
              "      <td>322.0</td>\n",
              "      <td>0.0</td>\n",
              "      <td>96.0</td>\n",
              "      <td>37.0</td>\n",
              "      <td>0.020816</td>\n",
              "      <td>0.084810</td>\n",
              "      <td>0.788298</td>\n",
              "    </tr>\n",
              "    <tr>\n",
              "      <th>1</th>\n",
              "      <td>Feature</td>\n",
              "      <td>1</td>\n",
              "      <td>Point</td>\n",
              "      <td>[-76.56729451, -8.190187992]</td>\n",
              "      <td>7814.0</td>\n",
              "      <td>1995.0</td>\n",
              "      <td>0.813539</td>\n",
              "      <td>559.0</td>\n",
              "      <td>2957.5</td>\n",
              "      <td>2921.5</td>\n",
              "      <td>661.5</td>\n",
              "      <td>914.5</td>\n",
              "      <td>886.5</td>\n",
              "      <td>3148.0</td>\n",
              "      <td>2890.0</td>\n",
              "      <td>1704.0</td>\n",
              "      <td>0.560540</td>\n",
              "      <td>322.0</td>\n",
              "      <td>0.0</td>\n",
              "      <td>96.0</td>\n",
              "      <td>33.0</td>\n",
              "      <td>0.037747</td>\n",
              "      <td>0.131327</td>\n",
              "      <td>0.893023</td>\n",
              "    </tr>\n",
              "    <tr>\n",
              "      <th>2</th>\n",
              "      <td>Feature</td>\n",
              "      <td>2</td>\n",
              "      <td>Point</td>\n",
              "      <td>[-76.61783761, -8.228346372999999]</td>\n",
              "      <td>6079.0</td>\n",
              "      <td>1113.0</td>\n",
              "      <td>0.619021</td>\n",
              "      <td>445.5</td>\n",
              "      <td>2938.5</td>\n",
              "      <td>2906.5</td>\n",
              "      <td>462.5</td>\n",
              "      <td>674.0</td>\n",
              "      <td>457.0</td>\n",
              "      <td>3646.5</td>\n",
              "      <td>2333.0</td>\n",
              "      <td>1034.5</td>\n",
              "      <td>0.777263</td>\n",
              "      <td>322.0</td>\n",
              "      <td>0.0</td>\n",
              "      <td>160.0</td>\n",
              "      <td>47.0</td>\n",
              "      <td>0.030283</td>\n",
              "      <td>0.108422</td>\n",
              "      <td>0.873294</td>\n",
              "    </tr>\n",
              "    <tr>\n",
              "      <th>3</th>\n",
              "      <td>Feature</td>\n",
              "      <td>3</td>\n",
              "      <td>Point</td>\n",
              "      <td>[-76.59469073, -8.134851998]</td>\n",
              "      <td>5577.0</td>\n",
              "      <td>2531.0</td>\n",
              "      <td>1.248643</td>\n",
              "      <td>341.5</td>\n",
              "      <td>2912.5</td>\n",
              "      <td>2888.0</td>\n",
              "      <td>364.0</td>\n",
              "      <td>816.5</td>\n",
              "      <td>475.5</td>\n",
              "      <td>3722.0</td>\n",
              "      <td>1889.0</td>\n",
              "      <td>845.5</td>\n",
              "      <td>0.773437</td>\n",
              "      <td>322.0</td>\n",
              "      <td>0.0</td>\n",
              "      <td>224.0</td>\n",
              "      <td>60.0</td>\n",
              "      <td>0.039646</td>\n",
              "      <td>0.177804</td>\n",
              "      <td>0.729290</td>\n",
              "    </tr>\n",
              "    <tr>\n",
              "      <th>4</th>\n",
              "      <td>Feature</td>\n",
              "      <td>4</td>\n",
              "      <td>Point</td>\n",
              "      <td>[-76.63773368, -8.139648669]</td>\n",
              "      <td>6959.0</td>\n",
              "      <td>2348.0</td>\n",
              "      <td>1.009133</td>\n",
              "      <td>345.0</td>\n",
              "      <td>2912.0</td>\n",
              "      <td>2880.0</td>\n",
              "      <td>421.0</td>\n",
              "      <td>849.0</td>\n",
              "      <td>539.0</td>\n",
              "      <td>3815.0</td>\n",
              "      <td>1975.0</td>\n",
              "      <td>932.0</td>\n",
              "      <td>0.752412</td>\n",
              "      <td>322.0</td>\n",
              "      <td>0.0</td>\n",
              "      <td>224.0</td>\n",
              "      <td>51.0</td>\n",
              "      <td>0.041323</td>\n",
              "      <td>0.252613</td>\n",
              "      <td>0.562336</td>\n",
              "    </tr>\n",
              "  </tbody>\n",
              "</table>\n",
              "</div>"
            ],
            "text/plain": [
              "      type id  ... properties.S1-VV properties.S1-radar_volume_index\n",
              "0  Feature  0  ...         0.084810                         0.788298\n",
              "1  Feature  1  ...         0.131327                         0.893023\n",
              "2  Feature  2  ...         0.108422                         0.873294\n",
              "3  Feature  3  ...         0.177804                         0.729290\n",
              "4  Feature  4  ...         0.252613                         0.562336\n",
              "\n",
              "[5 rows x 24 columns]"
            ]
          },
          "metadata": {
            "tags": []
          },
          "execution_count": 29
        }
      ]
    },
    {
      "cell_type": "markdown",
      "metadata": {
        "id": "3nWSBLqluq1V"
      },
      "source": [
        "## Outputs\n",
        "\n",
        "You might want to put a config at the top of the notebook: \n",
        "```\n",
        "output_filename = \"outputs.csv\"\n",
        "```\n",
        "\n",
        "### Save to Google Drive\n",
        "\n",
        ">*Important: Make sure to give a path that's inside the Drive directory.*\n",
        "\n",
        "Write to Google Drive with the `to_csv` method."
      ]
    },
    {
      "cell_type": "code",
      "metadata": {
        "id": "EfLiQ1TkxnQK"
      },
      "source": [
        "outputs.to_csv(\"outputs.csv\", index=None)\n",
        "\n",
        "drive.flush_and_unmount()  # Dont forget to unmount Drive when youre done."
      ],
      "execution_count": 30,
      "outputs": []
    },
    {
      "cell_type": "markdown",
      "metadata": {
        "id": "MCV3WrsIzjhx"
      },
      "source": [
        "### Download to local disk\n",
        "\n",
        "Run this next cell to save to your local machine as a CSV."
      ]
    },
    {
      "cell_type": "code",
      "metadata": {
        "colab": {
          "base_uri": "https://localhost:8080/",
          "height": 16
        },
        "id": "IkdkuzgGziO9",
        "outputId": "26526816-e8e2-40da-e615-53996b2ba41b"
      },
      "source": [
        "# Write a CSV into the colaboratory workspace.\n",
        "outputs.to_csv(\"outputs.csv\", index=None)\n",
        "\n",
        "# This function triggers a prompt for you to save the file to local disk.\n",
        "files.download(filename=\"outputs.csv\")"
      ],
      "execution_count": 31,
      "outputs": [
        {
          "output_type": "display_data",
          "data": {
            "application/javascript": [
              "\n",
              "    async function download(id, filename, size) {\n",
              "      if (!google.colab.kernel.accessAllowed) {\n",
              "        return;\n",
              "      }\n",
              "      const div = document.createElement('div');\n",
              "      const label = document.createElement('label');\n",
              "      label.textContent = `Downloading \"${filename}\": `;\n",
              "      div.appendChild(label);\n",
              "      const progress = document.createElement('progress');\n",
              "      progress.max = size;\n",
              "      div.appendChild(progress);\n",
              "      document.body.appendChild(div);\n",
              "\n",
              "      const buffers = [];\n",
              "      let downloaded = 0;\n",
              "\n",
              "      const channel = await google.colab.kernel.comms.open(id);\n",
              "      // Send a message to notify the kernel that we're ready.\n",
              "      channel.send({})\n",
              "\n",
              "      for await (const message of channel.messages) {\n",
              "        // Send a message to notify the kernel that we're ready.\n",
              "        channel.send({})\n",
              "        if (message.buffers) {\n",
              "          for (const buffer of message.buffers) {\n",
              "            buffers.push(buffer);\n",
              "            downloaded += buffer.byteLength;\n",
              "            progress.value = downloaded;\n",
              "          }\n",
              "        }\n",
              "      }\n",
              "      const blob = new Blob(buffers, {type: 'application/binary'});\n",
              "      const a = document.createElement('a');\n",
              "      a.href = window.URL.createObjectURL(blob);\n",
              "      a.download = filename;\n",
              "      div.appendChild(a);\n",
              "      a.click();\n",
              "      div.remove();\n",
              "    }\n",
              "  "
            ],
            "text/plain": [
              "<IPython.core.display.Javascript object>"
            ]
          },
          "metadata": {
            "tags": []
          }
        },
        {
          "output_type": "display_data",
          "data": {
            "application/javascript": [
              "download(\"download_0cf87c80-ab13-4b52-bf9e-159674643dcb\", \"outputs.csv\", 24145)"
            ],
            "text/plain": [
              "<IPython.core.display.Javascript object>"
            ]
          },
          "metadata": {
            "tags": []
          }
        }
      ]
    },
    {
      "cell_type": "markdown",
      "metadata": {
        "id": "Yfcy6UVn1TUr"
      },
      "source": [
        "## References\n",
        "\n",
        "* https://developers.google.com/earth-engine/guides/resample#resampling\n",
        "* https://developers.google.com/earth-engine/tutorials/community/extract-raster-values-for-points#understanding_which_pixels_are_included_in_polygon_statistics\n",
        "  * https://developers.google.com/earth-engine/tutorials/community/extract-raster-values-for-points#notes_on_crs_and_scale\n",
        "* https://developers.google.com/earth-engine/tutorials/community/extract-raster-values-for-points#zonalstatsfc_params_%E2%87%92_eefeaturecollection\n",
        "* https://developers.google.com/earth-engine/tutorials/community/beginners-cookbook#example_exporting_data"
      ]
    },
    {
      "cell_type": "code",
      "metadata": {
        "id": "cfia6Mui5h_r"
      },
      "source": [
        ""
      ],
      "execution_count": null,
      "outputs": []
    }
  ]
}