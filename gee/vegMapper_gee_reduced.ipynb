{
  "nbformat": 4,
  "nbformat_minor": 0,
  "metadata": {
    "colab": {
      "name": "vegMapper_gee_reduced.ipynb",
      "provenance": [],
      "collapsed_sections": [],
      "toc_visible": true,
      "include_colab_link": true
    },
    "kernelspec": {
      "display_name": "Python 3",
      "name": "python3"
    },
    "language_info": {
      "name": "python"
    }
  },
  "cells": [
    {
      "cell_type": "markdown",
      "metadata": {
        "id": "view-in-github",
        "colab_type": "text"
      },
      "source": [
        "<a href=\"https://colab.research.google.com/github/jjmcnelis/VegMapper/blob/devel/gee/vegMapper_gee_reduced.ipynb\" target=\"_parent\"><img src=\"https://colab.research.google.com/assets/colab-badge.svg\" alt=\"Open In Colab\"/></a>"
      ]
    },
    {
      "cell_type": "markdown",
      "metadata": {
        "id": "1PGQagqqXHAB"
      },
      "source": [
        "# vegMapper\n",
        "\n",
        "https://github.com/NaiaraSPinto/VegMapper"
      ]
    },
    {
      "cell_type": "markdown",
      "metadata": {
        "id": "PG-aoFWqJJkF"
      },
      "source": [
        "## Tests\n",
        "\n",
        "The next section prompts the user to upload input files (a CSV and GeoJSON) but the workflow is set up to run against sample input files provided by Naiara over Slack. The next three code cells write the sample files into a new directory called \"tests\" in the local workspace.\n",
        "\n",
        "Make a tests directory if one doesn't already exist:"
      ]
    },
    {
      "cell_type": "code",
      "metadata": {
        "id": "sKyMi5QYZ6Jl"
      },
      "source": [
        "!mkdir -p tests/"
      ],
      "execution_count": null,
      "outputs": []
    },
    {
      "cell_type": "markdown",
      "metadata": {
        "id": "JPZjh_IdZ6Tt"
      },
      "source": [
        "### xy data\n",
        "\n",
        "Naiara provided a sample CSV file containing the input XY locations -- that CSV is given in the cell below. Run the cell to write the CSV data to a new file within the current workspace."
      ]
    },
    {
      "cell_type": "code",
      "metadata": {
        "colab": {
          "base_uri": "https://localhost:8080/"
        },
        "id": "QXo0TPXiW3QU",
        "outputId": "606e2cca-d333-49a5-8e37-e3606dd55835"
      },
      "source": [
        "%%file tests/test_sites.csv\n",
        "longitude,latitude,obs_year,class,class_2017\n",
        "-76.54613982,-8.220041421,2018.0,baby_palm,baby_palm\n",
        "-76.56729451,-8.190187992,2018.0,baby_palm,baby_palm\n",
        "-76.61783761,-8.228346372999999,2018.0,baby_palm,baby_palm\n",
        "-76.59469073,-8.134851998,2006.0,sparse_palm,oil_palm\n",
        "-76.63773368,-8.139648669,2006.0,sparse_palm,oil_palm\n",
        "-76.63290665,-8.119680094,2006.0,young_palm,oil_palm\n",
        "-76.63025033,-8.140648423,2006.0,young_palm,oil_palm\n",
        "-76.63901352,-8.141701288,2006.0,young_palm,oil_palm\n",
        "-76.63072039,-8.138329157000001,2006.0,young_palm,oil_palm\n",
        "-76.68403708,-7.822448219,2009.0,baby_palm,oil_palm\n",
        "-76.26379872,-6.144886597999999,2009.0,baby_palm,oil_palm\n",
        "-76.26244018,-6.154180722,2009.0,baby_palm,oil_palm\n",
        "-76.13962825,-6.144497297999999,2009.0,baby_palm,oil_palm\n",
        "-76.16822364,-6.145567757,2009.0,baby_palm,oil_palm\n",
        "-76.18562962,-6.136265247000001,2009.0,baby_palm,oil_palm\n",
        "-76.18298129,-6.13950254,2009.0,baby_palm,oil_palm\n",
        "-76.21935339,-6.1565316029999995,2009.0,baby_palm,oil_palm\n",
        "-76.22322865,-6.14667916,2009.0,baby_palm,oil_palm\n",
        "-76.23961112,-6.146198747000001,2009.0,baby_palm,oil_palm\n",
        "-76.54866977,-8.152600994,2009.0,young_palm,oil_palm\n",
        "-76.52198387,-8.276730692000001,2010.0,baby_palm,oil_palm\n",
        "-76.53381488,-8.259858973,2010.0,baby_palm,oil_palm\n",
        "-76.53327355,-8.263157687,2010.0,baby_palm,oil_palm\n",
        "-76.50815328,-8.270297249,2010.0,baby_palm,oil_palm\n",
        "-76.53057502,-8.22326093,2014.0,young_palms,oil_palm\n",
        "-76.52741218,-8.227746954,2014.0,young_palms,oil_palm\n",
        "-76.36540047,-8.385046119,2016.0,mature_palm,oil_palm\n",
        "-76.39885562,-8.386351665,2016.0,mature_palm,oil_palm\n",
        "-76.17768165,-6.272635381000001,2018.0,mature_palm,oil_palm\n",
        "-76.03958719,-6.124114405,2018.0,mature_palm,oil_palm\n",
        "-76.45790359,-8.369040656000001,2018.0,mature_palm,oil_palm\n",
        "-76.48467022,-8.346615611,2018.0,mature_palm,oil_palm\n",
        "-76.54844239,-8.152142122999999,2018.0,mature_palm,oil_palm\n",
        "-76.21031164,-6.153516461000001,2018.0,mature_palm,oil_palm\n",
        "-76.21972056,-6.159907189,2018.0,mature_palm,oil_palm\n",
        "-76.35235464,-8.389452353,2018.0,mature_palm,oil_palm\n",
        "-76.52200024,-8.21415676,2018.0,mature_palm,oil_palm\n",
        "-76.08011101,-6.122466677,2018.0,mature_palm,oil_palm\n",
        "-76.19274375,-6.285185407999999,2018.0,mature_palm,oil_palm\n",
        "-76.52821385,-8.227073463,2018.0,mature_palm,oil_palm\n",
        "-76.47397828,-8.310712095,2019.0,mature_palm,oil_palm\n",
        "-76.54800013,-8.206050626,2014.0,baby_palm,young_palm\n",
        "-76.59445768,-8.208097591,2014.0,baby_palm,young_palm\n",
        "-76.40434261,-8.38788458,2016.0,young_palm,young_palm\n",
        "-76.39038881,-8.388674225,2016.0,young_palm,young_palm\n",
        "-76.22714731,-6.175463311000001,2018.0,young_palm,young_palm\n",
        "-76.22308006,-6.168809133,2018.0,young_palm,young_palm\n",
        "-76.55141408,-8.19613559,2018.0,young_palm,young_palm\n",
        "-76.57321195,-8.192556478,2018.0,young_palm,young_palm\n",
        "-76.57434051,-8.261270212000001,2018.0,young_palm,young_palm\n",
        "-77.30212241,-7.874080644,,,not_palm\n",
        "-76.67528987,-8.027063124,,,not_palm\n",
        "-77.15454556,-6.066826494,,,not_palm\n",
        "-76.37179113,-6.48657976,,,not_palm\n",
        "-76.3115162,-6.531204075,,,not_palm\n",
        "-75.78966195,-6.3096163679999995,,,not_palm\n",
        "-76.31994416,-6.542874053999999,,,not_palm\n",
        "-76.51595718,-8.190632332,,,not_palm\n",
        "-76.18701439,-6.239869116,,,not_palm\n",
        "-75.66421319999999,-6.259440395,,,not_palm\n",
        "-76.24075534,-6.292740214,,,not_palm\n",
        "-77.15942890000001,-6.069011409,,,not_palm\n",
        "-77.14689873,-6.06231103,,,not_palm\n",
        "-77.13684788,-6.0309944820000005,,,not_palm\n",
        "-77.69622065,-5.614344551,,,not_palm\n",
        "-77.39802123,-5.806565977000001,,,not_palm\n",
        "-77.5720281,-5.583868676,,,not_palm\n",
        "-76.62842904,-8.114024257999999,,,not_palm\n",
        "-77.50317308,-5.739875509,,,not_palm\n",
        "-77.30660001,-5.944694706,,,not_palm\n",
        "-77.17898053,-5.968114977000001,,,not_palm\n",
        "-77.28160754,-5.928103107,,,not_palm\n",
        "-77.16672645,-5.917702372000001,,,not_palm\n",
        "-76.97091065,-6.03293721,,,not_palm\n",
        "-77.57439957,-7.179415204,,,not_palm\n",
        "-76.98863489,-5.858369693999999,,,not_palm\n",
        "-76.94419989,-5.873667372999999,,,not_palm\n",
        "-77.45982469,-5.663443717000001,,,not_palm\n",
        "-76.53354958,-8.119392563,,,not_palm\n",
        "-76.60725623,-8.121489943,,,not_palm\n",
        "-76.61574334,-8.119284671,,,not_palm\n",
        "-76.63213216,-8.113739165,,,not_palm\n",
        "-77.56876673,-7.373122212999999,,,not_palm\n",
        "-76.50494205,-7.1721207410000005,,,not_palm\n",
        "-76.51183231,-7.160546484,,,not_palm\n",
        "-76.53114569,-7.156446976000001,,,not_palm\n",
        "-76.51489944,-7.140283191,,,not_palm\n",
        "-76.52347195,-7.13563366,,,not_palm\n",
        "-76.51188252,-7.114655315,,,not_palm\n",
        "-76.48964737,-7.104255606000001,,,not_palm\n",
        "-76.48612494,-7.104423206,,,not_palm\n",
        "-76.48157046,-7.099551269,,,not_palm\n",
        "-76.48475964,-7.090077236,,,not_palm\n",
        "-76.43162690000001,-7.001565014,,,not_palm\n",
        "-77.06187922,-7.177114917999999,,,not_palm\n",
        "-77.16608431,-7.0968610739999995,,,not_palm\n",
        "-76.69510111,-6.682602211,,,not_palm\n",
        "-76.69929973,-6.67986414,,,not_palm\n",
        "-76.70746548,-6.673406446,,,not_palm\n",
        "-76.96028915,-6.275374343999999,,,not_palm\n"
      ],
      "execution_count": null,
      "outputs": [
        {
          "output_type": "stream",
          "text": [
            "Overwriting tests/test_sites.csv\n"
          ],
          "name": "stdout"
        }
      ]
    },
    {
      "cell_type": "markdown",
      "metadata": {
        "id": "L4mh1Z4OYAdh"
      },
      "source": [
        "### roi poly\n",
        "\n",
        "The user is also expected to provide a GeoJSON polygon geometry to use for the region of interest. Raster data that does not reside within the roi geometry will be ignored by zonal statistics and masked out of the final image stack.\n",
        "\n",
        ">**Note:** I made a GeoJSON on [geojson.io](geojson.io) to replace the one received from Naiara on Slack. It did not contain any xy points from the sample CSV."
      ]
    },
    {
      "cell_type": "code",
      "metadata": {
        "colab": {
          "base_uri": "https://localhost:8080/"
        },
        "id": "QYJ5L2XJX__W",
        "outputId": "fb874f7b-f22b-49ac-95e2-40fe8f6fdd4e"
      },
      "source": [
        "%%file tests/test_roi.json\n",
        "{\n",
        "  \"type\": \"FeatureCollection\",\n",
        "  \"features\": [\n",
        "    {\n",
        "      \"type\": \"Feature\",\n",
        "      \"properties\": {},\n",
        "      \"geometry\": {\n",
        "        \"type\": \"Polygon\",\n",
        "        \"coordinates\": [\n",
        "          [\n",
        "            [\n",
        "              -78.3984375,\n",
        "              -5.298826889834371\n",
        "            ],\n",
        "            [\n",
        "              -77.71728515624999,\n",
        "              -5.943899579425587\n",
        "            ],\n",
        "            [\n",
        "              -77.618408203125,\n",
        "              -7.580327791330129\n",
        "            ],\n",
        "            [\n",
        "              -76.739501953125,\n",
        "              -8.602747284770006\n",
        "            ],\n",
        "            [\n",
        "              -75.333251953125,\n",
        "              -8.798225459016345\n",
        "            ],\n",
        "            [\n",
        "              -74.970703125,\n",
        "              -6.882800241767556\n",
        "            ],\n",
        "            [\n",
        "              -75.21240234375,\n",
        "              -5.8236866460048295\n",
        "            ],\n",
        "            [\n",
        "              -75.52001953125,\n",
        "              -4.795416925285452\n",
        "            ],\n",
        "            [\n",
        "              -77.32177734375,\n",
        "              -4.609278084409823\n",
        "            ],\n",
        "            [\n",
        "              -77.684326171875,\n",
        "              -4.488809196778639\n",
        "            ],\n",
        "            [\n",
        "              -78.3984375,\n",
        "              -5.298826889834371\n",
        "            ]\n",
        "          ]\n",
        "        ]\n",
        "      }\n",
        "    }\n",
        "  ]\n",
        "}"
      ],
      "execution_count": null,
      "outputs": [
        {
          "output_type": "stream",
          "text": [
            "Overwriting tests/test_roi.json\n"
          ],
          "name": "stdout"
        }
      ]
    },
    {
      "cell_type": "markdown",
      "metadata": {
        "id": "sm8-SFvLOirG"
      },
      "source": [
        "## Setup\n",
        "\n",
        "### Options\n",
        "\n",
        "Configure the workflow parameters in the cell below. These settings determine how the workflow selects and operates on the data/imagery."
      ]
    },
    {
      "cell_type": "code",
      "metadata": {
        "id": "jyPCPMak-dQ-",
        "cellView": "form"
      },
      "source": [
        "#@markdown Time coverage of imagery selected for the stack:\n",
        "startDate = '2017-04-01'  #@param {type: \"date\"}\n",
        "endDate = '2017-09-30'  #@param {type: \"date\"}\n",
        "#@markdown Scale/resolution of the output raster stack, in meters:\n",
        "scale = 30  #@param {type: \"integer\"}\n",
        "#@markdown Buffer distance around inputs xy locations, in meters:\n",
        "buffer = 30  #@param {type: \"integer\"}\n",
        "#@markdown Use debug mode for simple validation (much slower):\n",
        "debug = False #@param [\"False\", \"True\"] {type:\"raw\"}\n",
        "\n",
        "\n",
        "def debug_status():\n",
        "    return debug\n",
        "\n",
        "\n",
        "if debug_status():\n",
        "    print(\"Running in debug mode. Installing dependencies.\")\n",
        "    import numpy as np\n",
        "    import matplotlib.pyplot as plt\n",
        "\n",
        "    try:\n",
        "        !python -m pip install -q geemap\n",
        "        import geemap\n",
        "    except ImportError as e:\n",
        "        raise e\n",
        "\n",
        "    def get_stats(img, region, scale=30):\n",
        "        '''A geemap convenience function for computing stats'''\n",
        "        return geemap.image_stats(img=img, region=region, scale=scale).getInfo()"
      ],
      "execution_count": null,
      "outputs": []
    },
    {
      "cell_type": "markdown",
      "metadata": {
        "id": "Gfa7o5gOm-85"
      },
      "source": [
        "### Requirements\n",
        "\n",
        "This notebook was developed in Python 3.8. There are no dependencies when run from inside colab unless *debug* mode is set to `True`, in which case there are a few dependencies:\n",
        "\n",
        "* *numpy*\n",
        "* *matplotlib*\n",
        "* *geemap*"
      ]
    },
    {
      "cell_type": "code",
      "metadata": {
        "id": "xlPhf6oZjS1s"
      },
      "source": [
        "from IPython.display import HTML\n",
        "from json import dumps, load\n",
        "from io import StringIO\n",
        "import pandas as pd\n",
        "import os.path\n",
        "import ee\n",
        "\n",
        "if 'google.colab' in str(get_ipython()):\n",
        "    from google.colab import files"
      ],
      "execution_count": null,
      "outputs": []
    },
    {
      "cell_type": "markdown",
      "metadata": {
        "id": "VBLr8HevDwA7"
      },
      "source": [
        "### Input files\n",
        "\n",
        "Upload the xy table:"
      ]
    },
    {
      "cell_type": "code",
      "metadata": {
        "colab": {
          "resources": {
            "http://localhost:8080/nbextensions/google.colab/files.js": {
              "data": "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",
              "ok": true,
              "headers": [
                [
                  "content-type",
                  "application/javascript"
                ]
              ],
              "status": 200,
              "status_text": ""
            }
          },
          "base_uri": "https://localhost:8080/",
          "height": 106
        },
        "id": "HMgO-jIwDvYH",
        "outputId": "9e83a7dd-d642-4acf-b881-703165555f9f"
      },
      "source": [
        "# Upload a table (any table that pandas will read, you may need to pass more  \n",
        "# args to `read_csv` if your input table isnt comma-delimited. Special char\n",
        "# could also  require special args (e.g. engine=Python or similar - there are \n",
        "# multiple ways around the encoding errors).\n",
        "v = files.upload()\n",
        "if len(v)==0:\n",
        "    files.view(\"/content/tests/\")\n",
        "    in_table = \"tests/test_sites.csv\"\n",
        "    print(\"WARNING: Upload interrupted. Proceed with tests.\")\n",
        "else:\n",
        "    f = list(v)[0]\n",
        "    if not os.path.isfile(f):\n",
        "        f = os.path.join(\"/content/\", f)\n",
        "        if not os.path.isfile(f):\n",
        "            raise Exception(\"ERROR: Upload not found! Proceed with tests.\")\n",
        "    in_table = f\n",
        "\n",
        "print(\"\\n# Is this the input table?\\n\", in_table)"
      ],
      "execution_count": null,
      "outputs": [
        {
          "output_type": "display_data",
          "data": {
            "text/html": [
              "\n",
              "     <input type=\"file\" id=\"files-7b5f50c9-c868-45fd-95a3-f14eddc3c1a0\" name=\"files[]\" multiple disabled\n",
              "        style=\"border:none\" />\n",
              "     <output id=\"result-7b5f50c9-c868-45fd-95a3-f14eddc3c1a0\">\n",
              "      Upload widget is only available when the cell has been executed in the\n",
              "      current browser session. Please rerun this cell to enable.\n",
              "      </output>\n",
              "      <script src=\"/nbextensions/google.colab/files.js\"></script> "
            ],
            "text/plain": [
              "<IPython.core.display.HTML object>"
            ]
          },
          "metadata": {
            "tags": []
          }
        },
        {
          "output_type": "display_data",
          "data": {
            "application/javascript": [
              "\n",
              "      ((filepath) => {{\n",
              "        if (!google.colab.kernel.accessAllowed) {{\n",
              "          return;\n",
              "        }}\n",
              "        google.colab.files.view(filepath);\n",
              "      }})(\"/content/tests\")"
            ],
            "text/plain": [
              "<IPython.core.display.Javascript object>"
            ]
          },
          "metadata": {
            "tags": []
          }
        },
        {
          "output_type": "stream",
          "text": [
            "WARNING: Upload interrupted. Proceed with tests.\n",
            "\n",
            "# Is this the input table?\n",
            " tests/test_sites.csv\n"
          ],
          "name": "stdout"
        }
      ]
    },
    {
      "cell_type": "markdown",
      "metadata": {
        "id": "OqW0Qr57c0jB"
      },
      "source": [
        "Upload your roi polygon matching the GeoJSON format above (although gee probably accepts any valid geometry) when prompted below."
      ]
    },
    {
      "cell_type": "code",
      "metadata": {
        "colab": {
          "resources": {
            "http://localhost:8080/nbextensions/google.colab/files.js": {
              "data": "Ly8gQ29weXJpZ2h0IDIwMTcgR29vZ2xlIExMQwovLwovLyBMaWNlbnNlZCB1bmRlciB0aGUgQXBhY2hlIExpY2Vuc2UsIFZlcnNpb24gMi4wICh0aGUgIkxpY2Vuc2UiKTsKLy8geW91IG1heSBub3QgdXNlIHRoaXMgZmlsZSBleGNlcHQgaW4gY29tcGxpYW5jZSB3aXRoIHRoZSBMaWNlbnNlLgovLyBZb3UgbWF5IG9idGFpbiBhIGNvcHkgb2YgdGhlIExpY2Vuc2UgYXQKLy8KLy8gICAgICBodHRwOi8vd3d3LmFwYWNoZS5vcmcvbGljZW5zZXMvTElDRU5TRS0yLjAKLy8KLy8gVW5sZXNzIHJlcXVpcmVkIGJ5IGFwcGxpY2FibGUgbGF3IG9yIGFncmVlZCB0byBpbiB3cml0aW5nLCBzb2Z0d2FyZQovLyBkaXN0cmlidXRlZCB1bmRlciB0aGUgTGljZW5zZSBpcyBkaXN0cmlidXRlZCBvbiBhbiAiQVMgSVMiIEJBU0lTLAovLyBXSVRIT1VUIFdBUlJBTlRJRVMgT1IgQ09ORElUSU9OUyBPRiBBTlkgS0lORCwgZWl0aGVyIGV4cHJlc3Mgb3IgaW1wbGllZC4KLy8gU2VlIHRoZSBMaWNlbnNlIGZvciB0aGUgc3BlY2lmaWMgbGFuZ3VhZ2UgZ292ZXJuaW5nIHBlcm1pc3Npb25zIGFuZAovLyBsaW1pdGF0aW9ucyB1bmRlciB0aGUgTGljZW5zZS4KCi8qKgogKiBAZmlsZW92ZXJ2aWV3IEhlbHBlcnMgZm9yIGdvb2dsZS5jb2xhYiBQeXRob24gbW9kdWxlLgogKi8KKGZ1bmN0aW9uKHNjb3BlKSB7CmZ1bmN0aW9uIHNwYW4odGV4dCwgc3R5bGVBdHRyaWJ1dGVzID0ge30pIHsKICBjb25zdCBlbGVtZW50ID0gZG9jdW1lbnQuY3JlYXRlRWxlbWVudCgnc3BhbicpOwogIGVsZW1lbnQudGV4dENvbnRlbnQgPSB0ZXh0OwogIGZvciAoY29uc3Qga2V5IG9mIE9iamVjdC5rZXlzKHN0eWxlQXR0cmlidXRlcykpIHsKICAgIGVsZW1lbnQuc3R5bGVba2V5XSA9IHN0eWxlQXR0cmlidXRlc1trZXldOwogIH0KICByZXR1cm4gZWxlbWVudDsKfQoKLy8gTWF4IG51bWJlciBvZiBieXRlcyB3aGljaCB3aWxsIGJlIHVwbG9hZGVkIGF0IGEgdGltZS4KY29uc3QgTUFYX1BBWUxPQURfU0laRSA9IDEwMCAqIDEwMjQ7CgpmdW5jdGlvbiBfdXBsb2FkRmlsZXMoaW5wdXRJZCwgb3V0cHV0SWQpIHsKICBjb25zdCBzdGVwcyA9IHVwbG9hZEZpbGVzU3RlcChpbnB1dElkLCBvdXRwdXRJZCk7CiAgY29uc3Qgb3V0cHV0RWxlbWVudCA9IGRvY3VtZW50LmdldEVsZW1lbnRCeUlkKG91dHB1dElkKTsKICAvLyBDYWNoZSBzdGVwcyBvbiB0aGUgb3V0cHV0RWxlbWVudCB0byBtYWtlIGl0IGF2YWlsYWJsZSBmb3IgdGhlIG5leHQgY2FsbAogIC8vIHRvIHVwbG9hZEZpbGVzQ29udGludWUgZnJvbSBQeXRob24uCiAgb3V0cHV0RWxlbWVudC5zdGVwcyA9IHN0ZXBzOwoKICByZXR1cm4gX3VwbG9hZEZpbGVzQ29udGludWUob3V0cHV0SWQpOwp9CgovLyBUaGlzIGlzIHJvdWdobHkgYW4gYXN5bmMgZ2VuZXJhdG9yIChub3Qgc3VwcG9ydGVkIGluIHRoZSBicm93c2VyIHlldCksCi8vIHdoZXJlIHRoZXJlIGFyZSBtdWx0aXBsZSBhc3luY2hyb25vdXMgc3RlcHMgYW5kIHRoZSBQeXRob24gc2lkZSBpcyBnb2luZwovLyB0byBwb2xsIGZvciBjb21wbGV0aW9uIG9mIGVhY2ggc3RlcC4KLy8gVGhpcyB1c2VzIGEgUHJvbWlzZSB0byBibG9jayB0aGUgcHl0aG9uIHNpZGUgb24gY29tcGxldGlvbiBvZiBlYWNoIHN0ZXAsCi8vIHRoZW4gcGFzc2VzIHRoZSByZXN1bHQgb2YgdGhlIHByZXZpb3VzIHN0ZXAgYXMgdGhlIGlucHV0IHRvIHRoZSBuZXh0IHN0ZXAuCmZ1bmN0aW9uIF91cGxvYWRGaWxlc0NvbnRpbnVlKG91dHB1dElkKSB7CiAgY29uc3Qgb3V0cHV0RWxlbWVudCA9IGRvY3VtZW50LmdldEVsZW1lbnRCeUlkKG91dHB1dElkKTsKICBjb25zdCBzdGVwcyA9IG91dHB1dEVsZW1lbnQuc3RlcHM7CgogIGNvbnN0IG5leHQgPSBzdGVwcy5uZXh0KG91dHB1dEVsZW1lbnQubGFzdFByb21pc2VWYWx1ZSk7CiAgcmV0dXJuIFByb21pc2UucmVzb2x2ZShuZXh0LnZhbHVlLnByb21pc2UpLnRoZW4oKHZhbHVlKSA9PiB7CiAgICAvLyBDYWNoZSB0aGUgbGFzdCBwcm9taXNlIHZhbHVlIHRvIG1ha2UgaXQgYXZhaWxhYmxlIHRvIHRoZSBuZXh0CiAgICAvLyBzdGVwIG9mIHRoZSBnZW5lcmF0b3IuCiAgICBvdXRwdXRFbGVtZW50Lmxhc3RQcm9taXNlVmFsdWUgPSB2YWx1ZTsKICAgIHJldHVybiBuZXh0LnZhbHVlLnJlc3BvbnNlOwogIH0pOwp9CgovKioKICogR2VuZXJhdG9yIGZ1bmN0aW9uIHdoaWNoIGlzIGNhbGxlZCBiZXR3ZWVuIGVhY2ggYXN5bmMgc3RlcCBvZiB0aGUgdXBsb2FkCiAqIHByb2Nlc3MuCiAqIEBwYXJhbSB7c3RyaW5nfSBpbnB1dElkIEVsZW1lbnQgSUQgb2YgdGhlIGlucHV0IGZpbGUgcGlja2VyIGVsZW1lbnQuCiAqIEBwYXJhbSB7c3RyaW5nfSBvdXRwdXRJZCBFbGVtZW50IElEIG9mIHRoZSBvdXRwdXQgZGlzcGxheS4KICogQHJldHVybiB7IUl0ZXJhYmxlPCFPYmplY3Q+fSBJdGVyYWJsZSBvZiBuZXh0IHN0ZXBzLgogKi8KZnVuY3Rpb24qIHVwbG9hZEZpbGVzU3RlcChpbnB1dElkLCBvdXRwdXRJZCkgewogIGNvbnN0IGlucHV0RWxlbWVudCA9IGRvY3VtZW50LmdldEVsZW1lbnRCeUlkKGlucHV0SWQpOwogIGlucHV0RWxlbWVudC5kaXNhYmxlZCA9IGZhbHNlOwoKICBjb25zdCBvdXRwdXRFbGVtZW50ID0gZG9jdW1lbnQuZ2V0RWxlbWVudEJ5SWQob3V0cHV0SWQpOwogIG91dHB1dEVsZW1lbnQuaW5uZXJIVE1MID0gJyc7CgogIGNvbnN0IHBpY2tlZFByb21pc2UgPSBuZXcgUHJvbWlzZSgocmVzb2x2ZSkgPT4gewogICAgaW5wdXRFbGVtZW50LmFkZEV2ZW50TGlzdGVuZXIoJ2NoYW5nZScsIChlKSA9PiB7CiAgICAgIHJlc29sdmUoZS50YXJnZXQuZmlsZXMpOwogICAgfSk7CiAgfSk7CgogIGNvbnN0IGNhbmNlbCA9IGRvY3VtZW50LmNyZWF0ZUVsZW1lbnQoJ2J1dHRvbicpOwogIGlucHV0RWxlbWVudC5wYXJlbnRFbGVtZW50LmFwcGVuZENoaWxkKGNhbmNlbCk7CiAgY2FuY2VsLnRleHRDb250ZW50ID0gJ0NhbmNlbCB1cGxvYWQnOwogIGNvbnN0IGNhbmNlbFByb21pc2UgPSBuZXcgUHJvbWlzZSgocmVzb2x2ZSkgPT4gewogICAgY2FuY2VsLm9uY2xpY2sgPSAoKSA9PiB7CiAgICAgIHJlc29sdmUobnVsbCk7CiAgICB9OwogIH0pOwoKICAvLyBXYWl0IGZvciB0aGUgdXNlciB0byBwaWNrIHRoZSBmaWxlcy4KICBjb25zdCBmaWxlcyA9IHlpZWxkIHsKICAgIHByb21pc2U6IFByb21pc2UucmFjZShbcGlja2VkUHJvbWlzZSwgY2FuY2VsUHJvbWlzZV0pLAogICAgcmVzcG9uc2U6IHsKICAgICAgYWN0aW9uOiAnc3RhcnRpbmcnLAogICAgfQogIH07CgogIGNhbmNlbC5yZW1vdmUoKTsKCiAgLy8gRGlzYWJsZSB0aGUgaW5wdXQgZWxlbWVudCBzaW5jZSBmdXJ0aGVyIHBpY2tzIGFyZSBub3QgYWxsb3dlZC4KICBpbnB1dEVsZW1lbnQuZGlzYWJsZWQgPSB0cnVlOwoKICBpZiAoIWZpbGVzKSB7CiAgICByZXR1cm4gewogICAgICByZXNwb25zZTogewogICAgICAgIGFjdGlvbjogJ2NvbXBsZXRlJywKICAgICAgfQogICAgfTsKICB9CgogIGZvciAoY29uc3QgZmlsZSBvZiBmaWxlcykgewogICAgY29uc3QgbGkgPSBkb2N1bWVudC5jcmVhdGVFbGVtZW50KCdsaScpOwogICAgbGkuYXBwZW5kKHNwYW4oZmlsZS5uYW1lLCB7Zm9udFdlaWdodDogJ2JvbGQnfSkpOwogICAgbGkuYXBwZW5kKHNwYW4oCiAgICAgICAgYCgke2ZpbGUudHlwZSB8fCAnbi9hJ30pIC0gJHtmaWxlLnNpemV9IGJ5dGVzLCBgICsKICAgICAgICBgbGFzdCBtb2RpZmllZDogJHsKICAgICAgICAgICAgZmlsZS5sYXN0TW9kaWZpZWREYXRlID8gZmlsZS5sYXN0TW9kaWZpZWREYXRlLnRvTG9jYWxlRGF0ZVN0cmluZygpIDoKICAgICAgICAgICAgICAgICAgICAgICAgICAgICAgICAgICAgJ24vYSd9IC0gYCkpOwogICAgY29uc3QgcGVyY2VudCA9IHNwYW4oJzAlIGRvbmUnKTsKICAgIGxpLmFwcGVuZENoaWxkKHBlcmNlbnQpOwoKICAgIG91dHB1dEVsZW1lbnQuYXBwZW5kQ2hpbGQobGkpOwoKICAgIGNvbnN0IGZpbGVEYXRhUHJvbWlzZSA9IG5ldyBQcm9taXNlKChyZXNvbHZlKSA9PiB7CiAgICAgIGNvbnN0IHJlYWRlciA9IG5ldyBGaWxlUmVhZGVyKCk7CiAgICAgIHJlYWRlci5vbmxvYWQgPSAoZSkgPT4gewogICAgICAgIHJlc29sdmUoZS50YXJnZXQucmVzdWx0KTsKICAgICAgfTsKICAgICAgcmVhZGVyLnJlYWRBc0FycmF5QnVmZmVyKGZpbGUpOwogICAgfSk7CiAgICAvLyBXYWl0IGZvciB0aGUgZGF0YSB0byBiZSByZWFkeS4KICAgIGxldCBmaWxlRGF0YSA9IHlpZWxkIHsKICAgICAgcHJvbWlzZTogZmlsZURhdGFQcm9taXNlLAogICAgICByZXNwb25zZTogewogICAgICAgIGFjdGlvbjogJ2NvbnRpbnVlJywKICAgICAgfQogICAgfTsKCiAgICAvLyBVc2UgYSBjaHVua2VkIHNlbmRpbmcgdG8gYXZvaWQgbWVzc2FnZSBzaXplIGxpbWl0cy4gU2VlIGIvNjIxMTU2NjAuCiAgICBsZXQgcG9zaXRpb24gPSAwOwogICAgd2hpbGUgKHBvc2l0aW9uIDwgZmlsZURhdGEuYnl0ZUxlbmd0aCkgewogICAgICBjb25zdCBsZW5ndGggPSBNYXRoLm1pbihmaWxlRGF0YS5ieXRlTGVuZ3RoIC0gcG9zaXRpb24sIE1BWF9QQVlMT0FEX1NJWkUpOwogICAgICBjb25zdCBjaHVuayA9IG5ldyBVaW50OEFycmF5KGZpbGVEYXRhLCBwb3NpdGlvbiwgbGVuZ3RoKTsKICAgICAgcG9zaXRpb24gKz0gbGVuZ3RoOwoKICAgICAgY29uc3QgYmFzZTY0ID0gYnRvYShTdHJpbmcuZnJvbUNoYXJDb2RlLmFwcGx5KG51bGwsIGNodW5rKSk7CiAgICAgIHlpZWxkIHsKICAgICAgICByZXNwb25zZTogewogICAgICAgICAgYWN0aW9uOiAnYXBwZW5kJywKICAgICAgICAgIGZpbGU6IGZpbGUubmFtZSwKICAgICAgICAgIGRhdGE6IGJhc2U2NCwKICAgICAgICB9LAogICAgICB9OwogICAgICBwZXJjZW50LnRleHRDb250ZW50ID0KICAgICAgICAgIGAke01hdGgucm91bmQoKHBvc2l0aW9uIC8gZmlsZURhdGEuYnl0ZUxlbmd0aCkgKiAxMDApfSUgZG9uZWA7CiAgICB9CiAgfQoKICAvLyBBbGwgZG9uZS4KICB5aWVsZCB7CiAgICByZXNwb25zZTogewogICAgICBhY3Rpb246ICdjb21wbGV0ZScsCiAgICB9CiAgfTsKfQoKc2NvcGUuZ29vZ2xlID0gc2NvcGUuZ29vZ2xlIHx8IHt9OwpzY29wZS5nb29nbGUuY29sYWIgPSBzY29wZS5nb29nbGUuY29sYWIgfHwge307CnNjb3BlLmdvb2dsZS5jb2xhYi5fZmlsZXMgPSB7CiAgX3VwbG9hZEZpbGVzLAogIF91cGxvYWRGaWxlc0NvbnRpbnVlLAp9Owp9KShzZWxmKTsK",
              "ok": true,
              "headers": [
                [
                  "content-type",
                  "application/javascript"
                ]
              ],
              "status": 200,
              "status_text": ""
            }
          },
          "base_uri": "https://localhost:8080/",
          "height": 106
        },
        "id": "2NhtShUTOifc",
        "outputId": "4fc9b13f-cff5-4dd2-c4bc-2e5670722858"
      },
      "source": [
        "# Upload a GeoJSON polygon (a FeatureCollection in the test file, see above).\n",
        "# Click the upload button beneath the cell when prompted, or click the Cancel \n",
        "# button to skip the upload.\n",
        "u = files.upload()\n",
        "if len(u)==0:\n",
        "    files.view(\"/content/tests/\")\n",
        "    in_geojson = \"tests/test_roi.json\"\n",
        "    print(\"WARNING: Upload interrupted. Proceed with tests.\")\n",
        "else:\n",
        "    f = list(u)[0]\n",
        "    if not os.path.isfile(f):\n",
        "        f = os.path.join(\"/content/\", f)\n",
        "        if not os.path.isfile(f):\n",
        "            raise Exception(\"ERROR: Upload not found! Proceed with tests.\")\n",
        "    in_geojson = f\n",
        "\n",
        "print(\"\\n# Is this the input geojson roi?\\n\", in_geojson)"
      ],
      "execution_count": null,
      "outputs": [
        {
          "output_type": "display_data",
          "data": {
            "text/html": [
              "\n",
              "     <input type=\"file\" id=\"files-ecdc3a1d-f19a-4faa-ba8c-10e9af5c69f1\" name=\"files[]\" multiple disabled\n",
              "        style=\"border:none\" />\n",
              "     <output id=\"result-ecdc3a1d-f19a-4faa-ba8c-10e9af5c69f1\">\n",
              "      Upload widget is only available when the cell has been executed in the\n",
              "      current browser session. Please rerun this cell to enable.\n",
              "      </output>\n",
              "      <script src=\"/nbextensions/google.colab/files.js\"></script> "
            ],
            "text/plain": [
              "<IPython.core.display.HTML object>"
            ]
          },
          "metadata": {
            "tags": []
          }
        },
        {
          "output_type": "display_data",
          "data": {
            "application/javascript": [
              "\n",
              "      ((filepath) => {{\n",
              "        if (!google.colab.kernel.accessAllowed) {{\n",
              "          return;\n",
              "        }}\n",
              "        google.colab.files.view(filepath);\n",
              "      }})(\"/content/tests\")"
            ],
            "text/plain": [
              "<IPython.core.display.Javascript object>"
            ]
          },
          "metadata": {
            "tags": []
          }
        },
        {
          "output_type": "stream",
          "text": [
            "WARNING: Upload interrupted. Proceed with tests.\n",
            "\n",
            "# Is this the input geojson roi?\n",
            " tests/test_roi.json\n"
          ],
          "name": "stdout"
        }
      ]
    },
    {
      "cell_type": "markdown",
      "metadata": {
        "id": "HCTZNesIfztz"
      },
      "source": [
        "Read the input CSV and GeoJSON. Print a summary of the XY data from the input CSV:"
      ]
    },
    {
      "cell_type": "code",
      "metadata": {
        "colab": {
          "base_uri": "https://localhost:8080/",
          "height": 238
        },
        "id": "d6WjaOJ9hA3X",
        "outputId": "a9e4e8bb-34c7-43f1-9363-9e6e63284a2c"
      },
      "source": [
        "with open(in_geojson, \"r\") as f:\n",
        "    vec = load(f)\n",
        "\n",
        "df = pd.read_csv(in_table)\n",
        "\n",
        "display(df.info())"
      ],
      "execution_count": null,
      "outputs": [
        {
          "output_type": "stream",
          "text": [
            "<class 'pandas.core.frame.DataFrame'>\n",
            "RangeIndex: 100 entries, 0 to 99\n",
            "Data columns (total 5 columns):\n",
            " #   Column      Non-Null Count  Dtype  \n",
            "---  ------      --------------  -----  \n",
            " 0   longitude   100 non-null    float64\n",
            " 1   latitude    100 non-null    float64\n",
            " 2   obs_year    50 non-null     float64\n",
            " 3   class       50 non-null     object \n",
            " 4   class_2017  100 non-null    object \n",
            "dtypes: float64(3), object(2)\n",
            "memory usage: 4.0+ KB\n"
          ],
          "name": "stdout"
        },
        {
          "output_type": "display_data",
          "data": {
            "text/plain": [
              "None"
            ]
          },
          "metadata": {
            "tags": []
          }
        }
      ]
    },
    {
      "cell_type": "markdown",
      "metadata": {
        "id": "aK65jpic6N8T"
      },
      "source": [
        "Try to control for unknown column names in the input table:"
      ]
    },
    {
      "cell_type": "code",
      "metadata": {
        "colab": {
          "base_uri": "https://localhost:8080/"
        },
        "id": "7WAamY9sAkHF",
        "outputId": "2b9d8cda-619f-4ef5-f44d-3652369eded6"
      },
      "source": [
        "cols = df.columns\n",
        "\n",
        "if \"latitude\" not in cols:\n",
        "    for c in cols:\n",
        "        if c.lower().startswith(\"lat\"):\n",
        "            df['latitude'] = df[c].tolist()\n",
        "            break\n",
        "    if \"latitude\" not in df.columns:\n",
        "        raise(\"ERROR: A column of latitudes was not found in the input CSV.\")\n",
        "\n",
        "if \"longitude\" not in cols:\n",
        "    for c in cols:\n",
        "        if c.lower().startswith(\"lon\"):\n",
        "            df['longitude'] = df[c].tolist()\n",
        "            break\n",
        "    if \"longitude\" not in df.columns:\n",
        "        raise(\"ERROR: A column of longitudes was not found in the input CSV.\")\n",
        "\n",
        "print(\"Success! All inputs appear to be valid. Please proceed with the routine.\")"
      ],
      "execution_count": null,
      "outputs": [
        {
          "output_type": "stream",
          "text": [
            "Success! All inputs appear to be valid. Please proceed with the routine.\n"
          ],
          "name": "stdout"
        }
      ]
    },
    {
      "cell_type": "markdown",
      "metadata": {
        "id": "EbtRqm1ZmRcq"
      },
      "source": [
        "### Authenticate with GEE\n",
        "\n",
        "This next cell authenticates you for GEE access. Run it and follow the instructions in the prompt."
      ]
    },
    {
      "cell_type": "code",
      "metadata": {
        "colab": {
          "base_uri": "https://localhost:8080/"
        },
        "id": "ywiVVlj6mRmd",
        "outputId": "dd57766b-5bce-4004-cd47-b41a0bfd236e"
      },
      "source": [
        "ee.Authenticate()\n",
        "ee.Initialize()"
      ],
      "execution_count": null,
      "outputs": [
        {
          "output_type": "stream",
          "text": [
            "To authorize access needed by Earth Engine, open the following URL in a web browser and follow the instructions. If the web browser does not start automatically, please manually browse the URL below.\n",
            "\n",
            "    https://accounts.google.com/o/oauth2/auth?client_id=517222506229-vsmmajv00ul0bs7p89v5m89qs8eb9359.apps.googleusercontent.com&scope=https%3A%2F%2Fwww.googleapis.com%2Fauth%2Fearthengine+https%3A%2F%2Fwww.googleapis.com%2Fauth%2Fdevstorage.full_control&redirect_uri=urn%3Aietf%3Awg%3Aoauth%3A2.0%3Aoob&response_type=code&code_challenge=UOl2ub1yS_AOJFQ84pJS4fiouG7DMnpSoiUHR5RcYtU&code_challenge_method=S256\n",
            "\n",
            "The authorization workflow will generate a code, which you should paste in the box below. \n",
            "Enter verification code: 4/1AY0e-g5CQsYEkbJKUTlb4na9UhcKJndlFnl76tLAA8VDhdKKQPvvGMOKOwY\n",
            "\n",
            "Successfully saved authorization token.\n"
          ],
          "name": "stdout"
        }
      ]
    },
    {
      "cell_type": "markdown",
      "metadata": {
        "id": "xO9CZZJ2LCRr"
      },
      "source": [
        "## Load input geometries\n",
        "\n",
        "### Get XYs in the table as point features\n",
        "\n",
        "Make geometries for each XY position in the input table so we can efficiently generate zonal statistics over our final image stack at the end of the procedure. See the API documentation for information about [*ee.FeatureCollection*](>https://developers.google.com/earth-engine/guides/feature_collections)s."
      ]
    },
    {
      "cell_type": "code",
      "metadata": {
        "id": "d3lP3kzYLCc5"
      },
      "source": [
        "def get_geom(x):\n",
        "    return ee.Geometry.Point(x['longitude'], x['latitude'])\n",
        "\n",
        "# Duplicate the table of input XY data as a new data frame:\n",
        "pts = df.copy(deep=True)\n",
        "\n",
        "# Create a feature collection from the point data:\n",
        "pfc = ee.FeatureCollection(pts.apply(get_geom, axis=1).tolist())"
      ],
      "execution_count": null,
      "outputs": []
    },
    {
      "cell_type": "markdown",
      "metadata": {
        "id": "Q8xnNFX8xsyi"
      },
      "source": [
        "### Get roi polygon as a polygon feature\n",
        "\n",
        "This next cell will select the array of XY coordinates from the input GeoJSON (or use the minimum extent of the input points instead if the GeoJSON data are not available)."
      ]
    },
    {
      "cell_type": "code",
      "metadata": {
        "id": "lXfYg2cV4Ovv"
      },
      "source": [
        "# Get the minimum xt extent for the input points:\n",
        "lon_min = pts['longitude'].min()\n",
        "lon_max = pts['longitude'].max()\n",
        "lat_min = pts['latitude'].min()\n",
        "lat_max = pts['latitude'].max()\n",
        "\n",
        "# Fall back on the minimum bounding extent of XYs if no GeoJSON provided:\n",
        "if vec is None:\n",
        "    vec = [[lon_min, lat_max],\n",
        "           [lon_min, lat_min],\n",
        "           [lon_max, lat_min],\n",
        "           [lon_max, lat_max]]\n",
        "\n",
        "# Make a feature for represent the input GeoJSON:\n",
        "roi_feat = ee.Feature(vec['features'][0])\n",
        "\n",
        "# Get the polygon geometry from the feature:\n",
        "roi = roi_feat.geometry()"
      ],
      "execution_count": null,
      "outputs": []
    },
    {
      "cell_type": "markdown",
      "metadata": {
        "id": "obvCR3gS4a7c"
      },
      "source": [
        "Plot the region of interest polygon on a map to see the coverage if *debug_status* returns *True*."
      ]
    },
    {
      "cell_type": "code",
      "metadata": {
        "id": "3_4cQw-sKXXK"
      },
      "source": [
        "if debug_status():\n",
        "\n",
        "    # Get the XY centroid of the roi to center the map:\n",
        "    roi_center = [pts['latitude'].mean(), pts['longitude'].mean()]\n",
        "\n",
        "    # Draw the roi polygon with geemap map if running in debug mode:\n",
        "    M = geemap.Map(center=roi_center, zoom=7, width=\"90%\")\n",
        "    M.addLayer(roi, {'color': \"red\"}, name='ROI')\n",
        "    M.addLayer(pfc, name='Sites')\n",
        "    M"
      ],
      "execution_count": null,
      "outputs": []
    },
    {
      "cell_type": "markdown",
      "metadata": {
        "id": "HIbwNoD5pBrE"
      },
      "source": [
        "## Imagery\n",
        "\n",
        "### Sentinel-1\n",
        "\n",
        ">See [this page](https://developers.google.com/earth-engine/guides/sentinel1) for more information about Sentinel-1 data accessible through GEE.\n",
        ">\n",
        ">**Converting decibels to raw power**\n",
        ">\n",
        ">Imagery in the Earth Engine 'COPERNICUS/S1_GRD' Sentinel-1 ImageCollection is consists of Level-1 Ground Range Detected (GRD) scenes processed to backscatter coefficient (σ°) in decibels (dB). The backscatter coefficient represents target backscattering area (radar cross-section) per unit ground area. Because it can vary by several orders of magnitude, it is converted to dB as 10*log10σ°. It measures whether the radiated terrain scatters the incident microwave radiation preferentially away from the SAR sensor dB < 0) or towards the SAR sensor dB > 0). This scattering behavior depends on the physical characteristics of the terrain, primarily the geometry of the terrain elements and their electromagnetic characteristics.\n",
        ">\n",
        ">More info about this process may be found [here](https://developers.google.com/earth-engine/guides/sentinel1#sentinel-1-preprocessing) in the GEE docs.\n",
        "\n",
        "Define and apply a function to do the inverse transform back into raw power units. Then select data from the *S1_GRD* collection and apply the transform to all bands before getting the composite of means by band."
      ]
    },
    {
      "cell_type": "code",
      "metadata": {
        "id": "c1IfKycfQr7H"
      },
      "source": [
        "def xform_s1(x):\n",
        "    return ee.Image(10).pow(x.divide(10))\n",
        "\n",
        "s1 = (ee.ImageCollection(\"COPERNICUS/S1_GRD\")\n",
        "        .filter(ee.Filter.listContains('transmitterReceiverPolarisation', 'VV'))\n",
        "        .filter(ee.Filter.eq(\"instrumentMode\", \"IW\"))\n",
        "        .filter(ee.Filter.eq(\"orbitProperties_pass\", \"DESCENDING\"))\n",
        "        .filterDate(startDate, endDate)\n",
        "        .filterBounds(roi)\n",
        "        .select(['VV', 'VH'])\n",
        "        .map(xform_s1)\n",
        "        .mean())"
      ],
      "execution_count": null,
      "outputs": []
    },
    {
      "cell_type": "markdown",
      "metadata": {
        "id": "pMu0rJ-Is9_n"
      },
      "source": [
        "#### Calculate radar volume index\n",
        "\n",
        "Add a new band to the output image containing the radar volume index calculated from *VV* and *VH*: `4 * VH / (VH + VV)`"
      ]
    },
    {
      "cell_type": "code",
      "metadata": {
        "id": "5ZDZQSvHZnMd"
      },
      "source": [
        "s1out = s1.addBands(s1.expression(\n",
        "    expression=\"4 * VH / (VH + VV)\",\n",
        "    opt_map={'VV': s1.select('VV'),\n",
        "             'VH': s1.select('VH')}\n",
        ").rename('radar_volume_index'))"
      ],
      "execution_count": null,
      "outputs": []
    },
    {
      "cell_type": "markdown",
      "metadata": {
        "id": "uZcSQPoDxalI"
      },
      "source": [
        "Run simple stats for validation if the debug flag is set to *True*. Also, draw S1 raster layers on a map using *geemap*."
      ]
    },
    {
      "cell_type": "code",
      "metadata": {
        "id": "9cvSkhj2jxsk"
      },
      "source": [
        "if debug_status():\n",
        "    # s1tmp = geemap.ee_to_numpy(s1comp, bands=[\"VV\", \"VH\"], region=roi)\n",
        "    \n",
        "    # # Plot VV histogram\n",
        "    # counts, bins = np.histogram(a=s1tmp[:,:,0].flatten())\n",
        "    # plt.hist(s1tmp[:,:,0], bins=bins)\n",
        "    # plt.ylim(0., 3.)\n",
        "    # plt.xlim(-18., -5.)\n",
        "    # plt.show()\n",
        "    \n",
        "    # # Plot VH histogram\n",
        "    # counts, bins = np.histogram(a=s1tmp[:,:,1].flatten())\n",
        "    # plt.hist(s1tmp[:,:,1], bins=bins)\n",
        "    # plt.ylim(0., 3.)\n",
        "    # plt.xlim(-18., -5.)\n",
        "    # plt.show()\n",
        "\n",
        "    # Simple stats\n",
        "    s1stats = get_stats(s1out, region=roi)\n",
        "    display(pd.DataFrame(s1stats))\n",
        "\n",
        "    def drawMap(image, style_func, width=\"90%\", **kwargs):\n",
        "        '''A convenience function to wrap the map utility from geemap'''\n",
        "        M = geemap.Map(**kwargs)\n",
        "        for band in image.bandNames().getInfo():\n",
        "            M.addLayer(image.select(band), **style_func(band))\n",
        "        M.addLayerControl()\n",
        "        return M\n",
        "\n",
        "    def s1style(b: str, vis_params: dict={}):\n",
        "        '''A dedicated function to apply styles to Sentinel-1 raster layers'''\n",
        "        if b.endswith(\"radar_volume_index\"):\n",
        "            vis_params = {'min': s1stats['min'][b], 'max': s1stats['max'][b]}\n",
        "        return {'vis_params': vis_params, \n",
        "                'shown': b.endswith(\"radar_volume_index\"), \n",
        "                'name': b}\n",
        "\n",
        "    display(drawMap(image=s1out, style_func=s1style, center=roi_center, zoom=7, width=\"80%\"))"
      ],
      "execution_count": null,
      "outputs": []
    },
    {
      "cell_type": "markdown",
      "metadata": {
        "id": "XlcNbkU7ptm8"
      },
      "source": [
        "### ALOS2\n",
        "\n",
        "https://developers.google.com/earth-engine/datasets/catalog/JAXA_ALOS_PALSAR_YEARLY_SAR\n",
        "\n",
        "This dataset from ALOS2 only has one timestep per year, so modify the start and end dates before applying *filterDate* to the *ImageCollection*."
      ]
    },
    {
      "cell_type": "code",
      "metadata": {
        "id": "Xb-_GQUfnCdJ"
      },
      "source": [
        "years = [f'{startDate.split(\"-\")[0]}-01-01', f'{endDate.split(\"-\")[0]}-12-31']\n",
        "\n",
        "alos2 = (ee.ImageCollection('JAXA/ALOS/PALSAR/YEARLY/SAR')\n",
        "           .filterDate(*years)\n",
        "           .filterBounds(roi)\n",
        "           .select(['HV','HH'])\n",
        "           .mean())"
      ],
      "execution_count": null,
      "outputs": []
    },
    {
      "cell_type": "markdown",
      "metadata": {
        "id": "wYpy9du5maN4"
      },
      "source": [
        "#### Calculate radar volume index\n",
        "\n",
        "Add a new band to the output image containing the ALOS2 radar volume index calculated as: `4 * HV / (HV + HH)`"
      ]
    },
    {
      "cell_type": "code",
      "metadata": {
        "id": "KQlAoNF-kg9r"
      },
      "source": [
        "alos2out = alos2.addBands(alos2.expression(\n",
        "    expression=\"4 * HV / (HV + HH)\", \n",
        "    opt_map={'HV': alos2.select('HV'),\n",
        "             'HH': alos2.select('HH')}\n",
        ").rename('radar_volume_index'))"
      ],
      "execution_count": null,
      "outputs": []
    },
    {
      "cell_type": "markdown",
      "metadata": {
        "id": "4jbsfk_qa3Sa"
      },
      "source": [
        "Calculate and display a table of summary stats if the `debug_status` returns *True*:"
      ]
    },
    {
      "cell_type": "code",
      "metadata": {
        "id": "QpQ1fUzDa3d5"
      },
      "source": [
        "if debug_status():\n",
        "    alos2stats = get_stats(alos2out, region=roi)\n",
        "    display(pd.DataFrame(alos2stats))"
      ],
      "execution_count": null,
      "outputs": []
    },
    {
      "cell_type": "markdown",
      "metadata": {
        "id": "9F2w3fQvqKNE"
      },
      "source": [
        "### Landsat 8 SR\n",
        "\n",
        "https://developers.google.com/earth-engine/datasets/catalog/LANDSAT_LC08_C01_T1_SR\n",
        "\n",
        ">This example describes exactly what we need to do to produce the Landsat 8 median composite:    \n",
        "https://developers.google.com/earth-engine/guides/ic_composite_mosaic\n",
        "\n",
        "Select Landsat 8 surface reflectance images and apply a quality mask by mapping a function over all the images in the collection that match our filtering criteria. Then, calculate NDVI and add it to the image as a new band."
      ]
    },
    {
      "cell_type": "code",
      "metadata": {
        "id": "y5s7JRuOqBxv"
      },
      "source": [
        "def mask_l8sr(image):\n",
        "    cloudShadowBitMask = 1<<3\n",
        "    cloudBitMask = 1<<5\n",
        "    qa = image.select('pixel_qa')\n",
        "    mask = qa.bitwiseAnd(cloudShadowBitMask).eq(0).And(\n",
        "           qa.bitwiseAnd(cloudBitMask).eq(0))\n",
        "    return image.updateMask(mask)\n",
        "\n",
        "# Select Landsat 8 surface reflectance scenes and make a median composite.\n",
        "l8sr = (ee.ImageCollection('LANDSAT/LC08/C01/T1_SR')\n",
        "          .filterDate(startDate, endDate)\n",
        "          .filterBounds(roi)\n",
        "          .map(mask_l8sr)\n",
        "          .median())\n",
        "\n",
        "# Use the composite bands 5 and 4 to produce an NDVI image.\n",
        "l8out = l8sr.addBands(l8sr.normalizedDifference(['B5','B4']).rename('ndvi'))"
      ],
      "execution_count": null,
      "outputs": []
    },
    {
      "cell_type": "markdown",
      "metadata": {
        "id": "UI2tn26RkNxt"
      },
      "source": [
        "Draw landsat raster layers if debug flag is set to *True*."
      ]
    },
    {
      "cell_type": "code",
      "metadata": {
        "id": "x-K1pT9Y_VNn"
      },
      "source": [
        "if debug_status():\n",
        "\n",
        "    def l8style(b: str, vis_params: dict={}):\n",
        "        if b.endswith(\"ndvi\"):\n",
        "            vis_params = {'min': -1.0, 'max': 1.0, 'palette': 'red,yellow,green'}\n",
        "        return {'vis_params': vis_params, 'shown': b.endswith(\"ndvi\"), 'name': b}\n",
        "\n",
        "    display(drawMap(image=l8out, style_func=l8style, center=roi_center, zoom=7, width=\"75%\"))"
      ],
      "execution_count": null,
      "outputs": []
    },
    {
      "cell_type": "markdown",
      "metadata": {
        "id": "DtmA7VUQp8bA"
      },
      "source": [
        "### VCF from MODIS"
      ]
    },
    {
      "cell_type": "code",
      "metadata": {
        "id": "FSZV2i1jp5Kt"
      },
      "source": [
        "modis = (ee.ImageCollection('MODIS/006/MOD44B')\n",
        "           .filterDate(*years)\n",
        "           .filterBounds(roi)\n",
        "           .select('Percent_Tree_Cover')\n",
        "           .first())"
      ],
      "execution_count": null,
      "outputs": []
    },
    {
      "cell_type": "markdown",
      "metadata": {
        "id": "JeZVcVJYuGi4"
      },
      "source": [
        "## Run the prediction\n",
        "\n",
        "Not clear on this so it's removed for now:\n",
        "\n",
        "```python\n",
        "prior_mean = [0.06491638, -26.63132179, 0.05590800, -29.64091620]\n",
        "prior_mean_int = ee.Number(6.07)\n",
        "prediction = (ee.Image(prior_mean_int)\n",
        "              #.add((Fmod_tc_aoi.multiply(prior_mean[0]))\n",
        "              .add(s1.select('radar_volume_index').multiply(prior_mean[1]))\n",
        "              .add(l8sr.select('ndvi').multiply(prior_mean[2]))\n",
        "              #.add(smooth.select('constant').multiply(prior_mean[3]))))\n",
        "              ).clip(roi)\n",
        "predx = prediction.exp()\n",
        "pred_final = ee.Image(predx.divide(predx.add(1)))\n",
        "type(pred_final)\n",
        "```"
      ]
    },
    {
      "cell_type": "markdown",
      "metadata": {
        "id": "23D_pxua4vNX"
      },
      "source": [
        "### Build the stack\n",
        "\n",
        ">Documentation for the image method *clipToBoundsAndScale* is helpful to understanding this step in GEE: https://developers.google.com/earth-engine/apidocs/ee-image-cliptoboundsandscale\n",
        ">\n",
        ">But I ended up using regular *clip* for now.\n",
        ">\n",
        ">Also see this information on compositing and image projections:      \n",
        ">https://developers.google.com/earth-engine/guides/projections#the-default-projection\n",
        "\n",
        "Configure preferences here to determine how the stack is created with a common grid. All imagery *added* to the stack using the *ee.Image.addBands* method will inherit the projection and scale of the parent image."
      ]
    },
    {
      "cell_type": "code",
      "metadata": {
        "id": "kGIE-wl3ZJU2"
      },
      "source": [
        "def prepare_image(image, pre: str, crs: str=\"EPSG:4326\", scale: int=30):\n",
        "    renamed = image.rename([f'{pre}-{b}' for b in image.bandNames().getInfo()])\n",
        "    return renamed.setDefaultProjection(crs=crs, scale=scale).clip(roi)\n",
        "\n",
        "s1out = prepare_image(image=s1out, pre=\"S1\")\n",
        "alos2out = prepare_image(image=alos2out, pre=\"ALOS2\")\n",
        "l8out = prepare_image(image=l8out, pre=\"L8\")\n",
        "modis = prepare_image(image=modis, pre=\"MODIS\")\n",
        "\n",
        "stack = None\n",
        "for i in [s1out, alos2out, l8out, modis]:  # Assemble stack in a loop\n",
        "    if stack is not None:\n",
        "        stack = stack.addBands(i)\n",
        "    else:\n",
        "        stack = i"
      ],
      "execution_count": null,
      "outputs": []
    },
    {
      "cell_type": "markdown",
      "metadata": {
        "id": "hf0D1wSxEjUc"
      },
      "source": [
        "Optionally, run debug stats print projection information for the final stack. Then, draw a map all bands on a map with *geemap*."
      ]
    },
    {
      "cell_type": "code",
      "metadata": {
        "id": "iYOklzUaY49B"
      },
      "source": [
        "if debug_status():\n",
        "\n",
        "    # Check if spatial references are identical for all bands (True==pass)\n",
        "    srs = {}\n",
        "    for b in stack.bandNames().getInfo():\n",
        "        p = stack.select(b).projection()\n",
        "        srs[b] = p.getInfo()\n",
        "        srs[b]['nominalScale'] = p.nominalScale().getInfo()\n",
        "        del srs[b]['type']\n",
        "    print(len(list(set([str(p) for p in list(srs.values())]))) == 1)  \n",
        "\n",
        "    # Generate rough stats about all bands in the stack:\n",
        "    stack_stats = pd.DataFrame(get_stats(stack, region=roi, scale=500))\n",
        "    display(stack_stats)\n",
        "\n",
        "    def allstyle(b: str, vis_params: dict={}, shown: bool=False):\n",
        "        '''A generic function to apply styles to all layers in the stack'''\n",
        "        if b.endswith(\"radar_volume_index\"):\n",
        "            vis_params = stack_stats.loc[b][['min','max']].to_dict()\n",
        "            shown = True\n",
        "        if b.endswith(\"ndvi\"):\n",
        "            vis_params = {'min': -1.0, 'max':  1.0, 'palette': 'red,yellow,green'}\n",
        "            shown = True\n",
        "        return {'name': b, 'viz_params': vis_params, 'shown': shown}\n",
        "\n",
        "    display(drawMap(image=stack, style_func=allstyle, center=roi_center, zoom=7))"
      ],
      "execution_count": null,
      "outputs": []
    },
    {
      "cell_type": "markdown",
      "metadata": {
        "id": "BMhDVsLFSdIm"
      },
      "source": [
        "## Zonal statistics\n",
        "\n",
        "Buffer the points Feature Collection. **This still needs more careful checks.** Appears OK though at first glance. (https://developers.google.com/earth-engine/apidocs/ee-feature-buffer)\n",
        "\n",
        ">Swap the comments in this cell to *turn on and off the buffers around the xy locations* from the input csv. (Which indeed gives slightly different results, buffer vs no buffer.)"
      ]
    },
    {
      "cell_type": "markdown",
      "metadata": {
        "id": "7aDnbddXS4Gb"
      },
      "source": [
        "Map zonal stats over the feature collection after building the stack."
      ]
    },
    {
      "cell_type": "code",
      "metadata": {
        "id": "mno2Xa0fWt9l"
      },
      "source": [
        "outputs = stack.reduceRegions(collection=pfc.map(lambda x: x.buffer(distance=buffer)),\n",
        "                              reducer=ee.Reducer.mean(),\n",
        "                              #crs=stack.projection(),\n",
        "                              scale=30)"
      ],
      "execution_count": null,
      "outputs": []
    },
    {
      "cell_type": "markdown",
      "metadata": {
        "id": "uhruVfpG3UPS"
      },
      "source": [
        "Get the new *FeatureCollection* as a dictionary then call the convenience function *json_normalize* from *pandas* to translate to a table."
      ]
    },
    {
      "cell_type": "code",
      "metadata": {
        "colab": {
          "base_uri": "https://localhost:8080/",
          "height": 334
        },
        "id": "k5YAQOXFVPNu",
        "outputId": "33ee20be-792f-408e-abf8-ac3ea67657a1"
      },
      "source": [
        "zonal_stats = pd.json_normalize(outputs.getInfo()['features'])\n",
        "\n",
        "zonal_stats.describe()"
      ],
      "execution_count": null,
      "outputs": [
        {
          "output_type": "execute_result",
          "data": {
            "text/html": [
              "<div>\n",
              "<style scoped>\n",
              "    .dataframe tbody tr th:only-of-type {\n",
              "        vertical-align: middle;\n",
              "    }\n",
              "\n",
              "    .dataframe tbody tr th {\n",
              "        vertical-align: top;\n",
              "    }\n",
              "\n",
              "    .dataframe thead th {\n",
              "        text-align: right;\n",
              "    }\n",
              "</style>\n",
              "<table border=\"1\" class=\"dataframe\">\n",
              "  <thead>\n",
              "    <tr style=\"text-align: right;\">\n",
              "      <th></th>\n",
              "      <th>properties.ALOS2-HH</th>\n",
              "      <th>properties.ALOS2-HV</th>\n",
              "      <th>properties.ALOS2-radar_volume_index</th>\n",
              "      <th>properties.L8-B1</th>\n",
              "      <th>properties.L8-B10</th>\n",
              "      <th>properties.L8-B11</th>\n",
              "      <th>properties.L8-B2</th>\n",
              "      <th>properties.L8-B3</th>\n",
              "      <th>properties.L8-B4</th>\n",
              "      <th>properties.L8-B5</th>\n",
              "      <th>properties.L8-B6</th>\n",
              "      <th>properties.L8-B7</th>\n",
              "      <th>properties.L8-ndvi</th>\n",
              "      <th>properties.L8-pixel_qa</th>\n",
              "      <th>properties.L8-radsat_qa</th>\n",
              "      <th>properties.L8-sr_aerosol</th>\n",
              "      <th>properties.MODIS-Percent_Tree_Cover</th>\n",
              "      <th>properties.S1-VH</th>\n",
              "      <th>properties.S1-VV</th>\n",
              "      <th>properties.S1-radar_volume_index</th>\n",
              "    </tr>\n",
              "  </thead>\n",
              "  <tbody>\n",
              "    <tr>\n",
              "      <th>count</th>\n",
              "      <td>100.000000</td>\n",
              "      <td>100.000000</td>\n",
              "      <td>100.000000</td>\n",
              "      <td>99.000000</td>\n",
              "      <td>99.000000</td>\n",
              "      <td>99.000000</td>\n",
              "      <td>99.000000</td>\n",
              "      <td>99.000000</td>\n",
              "      <td>99.000000</td>\n",
              "      <td>99.000000</td>\n",
              "      <td>99.000000</td>\n",
              "      <td>99.000000</td>\n",
              "      <td>99.000000</td>\n",
              "      <td>99.000000</td>\n",
              "      <td>99.0</td>\n",
              "      <td>99.000000</td>\n",
              "      <td>100.000000</td>\n",
              "      <td>100.000000</td>\n",
              "      <td>100.000000</td>\n",
              "      <td>100.000000</td>\n",
              "    </tr>\n",
              "    <tr>\n",
              "      <th>mean</th>\n",
              "      <td>6252.613713</td>\n",
              "      <td>2591.864934</td>\n",
              "      <td>1.182499</td>\n",
              "      <td>330.831497</td>\n",
              "      <td>2937.316576</td>\n",
              "      <td>2905.785374</td>\n",
              "      <td>370.774299</td>\n",
              "      <td>632.008382</td>\n",
              "      <td>504.915847</td>\n",
              "      <td>3251.940714</td>\n",
              "      <td>1692.108171</td>\n",
              "      <td>844.848856</td>\n",
              "      <td>0.717178</td>\n",
              "      <td>322.134694</td>\n",
              "      <td>0.0</td>\n",
              "      <td>146.305072</td>\n",
              "      <td>42.731354</td>\n",
              "      <td>0.037061</td>\n",
              "      <td>0.192112</td>\n",
              "      <td>0.687422</td>\n",
              "    </tr>\n",
              "    <tr>\n",
              "      <th>std</th>\n",
              "      <td>2443.550671</td>\n",
              "      <td>1057.426647</td>\n",
              "      <td>0.249421</td>\n",
              "      <td>206.180231</td>\n",
              "      <td>19.586058</td>\n",
              "      <td>15.896990</td>\n",
              "      <td>232.090952</td>\n",
              "      <td>300.669581</td>\n",
              "      <td>366.523778</td>\n",
              "      <td>872.641797</td>\n",
              "      <td>523.898561</td>\n",
              "      <td>458.425787</td>\n",
              "      <td>0.223661</td>\n",
              "      <td>0.825747</td>\n",
              "      <td>0.0</td>\n",
              "      <td>49.690528</td>\n",
              "      <td>24.878543</td>\n",
              "      <td>0.020001</td>\n",
              "      <td>0.094561</td>\n",
              "      <td>0.207446</td>\n",
              "    </tr>\n",
              "    <tr>\n",
              "      <th>min</th>\n",
              "      <td>1149.765217</td>\n",
              "      <td>517.736934</td>\n",
              "      <td>0.431780</td>\n",
              "      <td>-283.863322</td>\n",
              "      <td>2847.115917</td>\n",
              "      <td>2854.354671</td>\n",
              "      <td>-162.655709</td>\n",
              "      <td>-24.399654</td>\n",
              "      <td>34.129758</td>\n",
              "      <td>432.022491</td>\n",
              "      <td>267.111979</td>\n",
              "      <td>166.513021</td>\n",
              "      <td>-0.171376</td>\n",
              "      <td>322.000000</td>\n",
              "      <td>0.0</td>\n",
              "      <td>73.277778</td>\n",
              "      <td>4.000000</td>\n",
              "      <td>0.002369</td>\n",
              "      <td>0.008091</td>\n",
              "      <td>0.195533</td>\n",
              "    </tr>\n",
              "    <tr>\n",
              "      <th>25%</th>\n",
              "      <td>4868.805587</td>\n",
              "      <td>2060.518229</td>\n",
              "      <td>1.056469</td>\n",
              "      <td>198.294726</td>\n",
              "      <td>2928.938203</td>\n",
              "      <td>2897.608580</td>\n",
              "      <td>212.392129</td>\n",
              "      <td>404.173813</td>\n",
              "      <td>234.786087</td>\n",
              "      <td>2752.032230</td>\n",
              "      <td>1365.234760</td>\n",
              "      <td>523.766899</td>\n",
              "      <td>0.588693</td>\n",
              "      <td>322.000000</td>\n",
              "      <td>0.0</td>\n",
              "      <td>96.000000</td>\n",
              "      <td>20.370017</td>\n",
              "      <td>0.028619</td>\n",
              "      <td>0.120346</td>\n",
              "      <td>0.562339</td>\n",
              "    </tr>\n",
              "    <tr>\n",
              "      <th>50%</th>\n",
              "      <td>6210.940513</td>\n",
              "      <td>2605.134913</td>\n",
              "      <td>1.221210</td>\n",
              "      <td>315.788428</td>\n",
              "      <td>2940.848958</td>\n",
              "      <td>2909.049037</td>\n",
              "      <td>313.309773</td>\n",
              "      <td>577.153846</td>\n",
              "      <td>380.852787</td>\n",
              "      <td>3427.500000</td>\n",
              "      <td>1612.584495</td>\n",
              "      <td>683.510363</td>\n",
              "      <td>0.820952</td>\n",
              "      <td>322.000000</td>\n",
              "      <td>0.0</td>\n",
              "      <td>150.914186</td>\n",
              "      <td>38.700881</td>\n",
              "      <td>0.037133</td>\n",
              "      <td>0.208353</td>\n",
              "      <td>0.660800</td>\n",
              "    </tr>\n",
              "    <tr>\n",
              "      <th>75%</th>\n",
              "      <td>7308.298883</td>\n",
              "      <td>3219.491663</td>\n",
              "      <td>1.311755</td>\n",
              "      <td>421.478674</td>\n",
              "      <td>2947.774033</td>\n",
              "      <td>2916.504766</td>\n",
              "      <td>451.474019</td>\n",
              "      <td>797.468165</td>\n",
              "      <td>715.269680</td>\n",
              "      <td>3784.645349</td>\n",
              "      <td>1959.595835</td>\n",
              "      <td>1022.024330</td>\n",
              "      <td>0.875886</td>\n",
              "      <td>322.000000</td>\n",
              "      <td>0.0</td>\n",
              "      <td>192.000000</td>\n",
              "      <td>66.161917</td>\n",
              "      <td>0.042258</td>\n",
              "      <td>0.235497</td>\n",
              "      <td>0.800926</td>\n",
              "    </tr>\n",
              "    <tr>\n",
              "      <th>max</th>\n",
              "      <td>18613.833910</td>\n",
              "      <td>6494.565744</td>\n",
              "      <td>1.731787</td>\n",
              "      <td>1066.532118</td>\n",
              "      <td>2986.478223</td>\n",
              "      <td>2939.570557</td>\n",
              "      <td>1160.858885</td>\n",
              "      <td>1668.050523</td>\n",
              "      <td>1712.485192</td>\n",
              "      <td>5362.180243</td>\n",
              "      <td>3316.280488</td>\n",
              "      <td>2586.967770</td>\n",
              "      <td>0.901852</td>\n",
              "      <td>329.123478</td>\n",
              "      <td>0.0</td>\n",
              "      <td>224.045296</td>\n",
              "      <td>83.000000</td>\n",
              "      <td>0.171241</td>\n",
              "      <td>0.670399</td>\n",
              "      <td>2.019049</td>\n",
              "    </tr>\n",
              "  </tbody>\n",
              "</table>\n",
              "</div>"
            ],
            "text/plain": [
              "       properties.ALOS2-HH  ...  properties.S1-radar_volume_index\n",
              "count           100.000000  ...                        100.000000\n",
              "mean           6252.613713  ...                          0.687422\n",
              "std            2443.550671  ...                          0.207446\n",
              "min            1149.765217  ...                          0.195533\n",
              "25%            4868.805587  ...                          0.562339\n",
              "50%            6210.940513  ...                          0.660800\n",
              "75%            7308.298883  ...                          0.800926\n",
              "max           18613.833910  ...                          2.019049\n",
              "\n",
              "[8 rows x 20 columns]"
            ]
          },
          "metadata": {
            "tags": []
          },
          "execution_count": 26
        }
      ]
    },
    {
      "cell_type": "markdown",
      "metadata": {
        "id": "kr680vob3zyx"
      },
      "source": [
        "Rename the columns according to the index in our *stack_stats* table from a few cells ago. (GEE appends the word \"properties\" fitting with common GIS convention.)\n",
        "\n",
        "Here's the first row of data after renaming the columns:"
      ]
    },
    {
      "cell_type": "code",
      "metadata": {
        "colab": {
          "base_uri": "https://localhost:8080/"
        },
        "id": "aLjPplha3z62",
        "outputId": "ded33f6c-cc36-4148-ed24-0487703a1d20"
      },
      "source": [
        "# Get the column names as a dictionary with paired replacements for renaming:\n",
        "table_names = {i: i.replace(\"properties.\",\"\") for i in zonal_stats.columns.tolist()}\n",
        "\n",
        "# Rename the columns to drop the 'property' prefix:\n",
        "zonal_stats = zonal_stats.rename(mapper=table_names, axis=1)\n",
        "\n",
        "zonal_stats.info()"
      ],
      "execution_count": null,
      "outputs": [
        {
          "output_type": "stream",
          "text": [
            "<class 'pandas.core.frame.DataFrame'>\n",
            "RangeIndex: 100 entries, 0 to 99\n",
            "Data columns (total 24 columns):\n",
            " #   Column                    Non-Null Count  Dtype  \n",
            "---  ------                    --------------  -----  \n",
            " 0   type                      100 non-null    object \n",
            " 1   id                        100 non-null    object \n",
            " 2   geometry.type             100 non-null    object \n",
            " 3   geometry.coordinates      100 non-null    object \n",
            " 4   ALOS2-HH                  100 non-null    float64\n",
            " 5   ALOS2-HV                  100 non-null    float64\n",
            " 6   ALOS2-radar_volume_index  100 non-null    float64\n",
            " 7   L8-B1                     99 non-null     float64\n",
            " 8   L8-B10                    99 non-null     float64\n",
            " 9   L8-B11                    99 non-null     float64\n",
            " 10  L8-B2                     99 non-null     float64\n",
            " 11  L8-B3                     99 non-null     float64\n",
            " 12  L8-B4                     99 non-null     float64\n",
            " 13  L8-B5                     99 non-null     float64\n",
            " 14  L8-B6                     99 non-null     float64\n",
            " 15  L8-B7                     99 non-null     float64\n",
            " 16  L8-ndvi                   99 non-null     float64\n",
            " 17  L8-pixel_qa               99 non-null     float64\n",
            " 18  L8-radsat_qa              99 non-null     float64\n",
            " 19  L8-sr_aerosol             99 non-null     float64\n",
            " 20  MODIS-Percent_Tree_Cover  100 non-null    float64\n",
            " 21  S1-VH                     100 non-null    float64\n",
            " 22  S1-VV                     100 non-null    float64\n",
            " 23  S1-radar_volume_index     100 non-null    float64\n",
            "dtypes: float64(20), object(4)\n",
            "memory usage: 18.9+ KB\n"
          ],
          "name": "stdout"
        }
      ]
    },
    {
      "cell_type": "markdown",
      "metadata": {
        "id": "3nWSBLqluq1V"
      },
      "source": [
        "### Export zonal stats table\n",
        "\n",
        "Running the next cell writes the *zonal_stats* table to a file in the colab workspace, then prompts you to download it to local disk."
      ]
    },
    {
      "cell_type": "code",
      "metadata": {
        "id": "EfLiQ1TkxnQK",
        "colab": {
          "base_uri": "https://localhost:8080/",
          "height": 17
        },
        "outputId": "e94a4da7-8677-4eef-997a-5bf7bcf95d69"
      },
      "source": [
        "zonal_stats.to_csv(\"outputs.csv\", index=None)  # Write to colab workspace\n",
        "\n",
        "files.download(filename=\"outputs.csv\")  # Download csv to local disk"
      ],
      "execution_count": null,
      "outputs": [
        {
          "output_type": "display_data",
          "data": {
            "application/javascript": [
              "\n",
              "    async function download(id, filename, size) {\n",
              "      if (!google.colab.kernel.accessAllowed) {\n",
              "        return;\n",
              "      }\n",
              "      const div = document.createElement('div');\n",
              "      const label = document.createElement('label');\n",
              "      label.textContent = `Downloading \"${filename}\": `;\n",
              "      div.appendChild(label);\n",
              "      const progress = document.createElement('progress');\n",
              "      progress.max = size;\n",
              "      div.appendChild(progress);\n",
              "      document.body.appendChild(div);\n",
              "\n",
              "      const buffers = [];\n",
              "      let downloaded = 0;\n",
              "\n",
              "      const channel = await google.colab.kernel.comms.open(id);\n",
              "      // Send a message to notify the kernel that we're ready.\n",
              "      channel.send({})\n",
              "\n",
              "      for await (const message of channel.messages) {\n",
              "        // Send a message to notify the kernel that we're ready.\n",
              "        channel.send({})\n",
              "        if (message.buffers) {\n",
              "          for (const buffer of message.buffers) {\n",
              "            buffers.push(buffer);\n",
              "            downloaded += buffer.byteLength;\n",
              "            progress.value = downloaded;\n",
              "          }\n",
              "        }\n",
              "      }\n",
              "      const blob = new Blob(buffers, {type: 'application/binary'});\n",
              "      const a = document.createElement('a');\n",
              "      a.href = window.URL.createObjectURL(blob);\n",
              "      a.download = filename;\n",
              "      div.appendChild(a);\n",
              "      a.click();\n",
              "      div.remove();\n",
              "    }\n",
              "  "
            ],
            "text/plain": [
              "<IPython.core.display.Javascript object>"
            ]
          },
          "metadata": {
            "tags": []
          }
        },
        {
          "output_type": "display_data",
          "data": {
            "application/javascript": [
              "download(\"download_e320319b-9d07-44a1-b573-5436aad5ab7e\", \"outputs.csv\", 134863)"
            ],
            "text/plain": [
              "<IPython.core.display.Javascript object>"
            ]
          },
          "metadata": {
            "tags": []
          }
        }
      ]
    },
    {
      "cell_type": "markdown",
      "metadata": {
        "id": "Yfcy6UVn1TUr"
      },
      "source": [
        "## References\n",
        "\n",
        "* https://developers.google.com/earth-engine/guides/resample#resampling\n",
        "* https://developers.google.com/earth-engine/tutorials/community/extract-raster-values-for-points#understanding_which_pixels_are_included_in_polygon_statistics\n",
        "* https://developers.google.com/earth-engine/tutorials/community/extract-raster-values-for-points#notes_on_crs_and_scale\n",
        "* https://developers.google.com/earth-engine/tutorials/community/extract-raster-values-for-points#zonalstatsfc_params_%E2%87%92_eefeaturecollection\n",
        "* https://developers.google.com/earth-engine/tutorials/community/beginners-cookbook#example_exporting_data\n",
        "\n",
        "## Notes\n",
        "\n",
        "* Scale: https://developers.google.com/earth-engine/guides/scale\n",
        "* Projections: https://developers.google.com/earth-engine/guides/projections\n",
        "* \"The default projection: https://developers.google.com/earth-engine/guides/projections#the-default-projection\n",
        "* \"Composites have no projection\": https://developers.google.com/earth-engine/guides/ic_reducing#Composites-have-no-projection\n",
        "* https://developers.google.com/earth-engine/guides/projections#reprojecting\n",
        "* https://developers.google.com/earth-engine/guides/image_math#colab-python_1"
      ]
    },
    {
      "cell_type": "code",
      "metadata": {
        "id": "v4Sr88Co1xsK"
      },
      "source": [
        ""
      ],
      "execution_count": null,
      "outputs": []
    }
  ]
}