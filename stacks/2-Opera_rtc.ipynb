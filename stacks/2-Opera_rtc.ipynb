{
 "cells": [
  {
   "cell_type": "markdown",
   "metadata": {},
   "source": [
    "# OPERA-RTC"
   ]
  },
  {
   "cell_type": "code",
   "execution_count": null,
   "metadata": {},
   "outputs": [],
   "source": [
    "import geopandas as gpd\n",
    "import matplotlib.pyplot as plt\n",
    "import numpy as np\n",
    "import pandas as pd\n",
    "import rasterio\n",
    "import xarray as xr\n",
    "import asf_search as asf\n",
    "\n",
    "#aws-related imports\n",
    "from getpass import getpass\n",
    "import json\n",
    "import urllib.request\n",
    "\n",
    "from vegmapper import s1\n",
    "from vegmapper import pathurl\n",
    "\n",
    "plt.rcParams['font.size'] = 18\n",
    "plt.rcParams['figure.figsize'] = [16, 12]"
   ]
  },
  {
   "cell_type": "markdown",
   "metadata": {},
   "source": [
    "## User Inputs"
   ]
  },
  {
   "cell_type": "code",
   "execution_count": null,
   "metadata": {},
   "outputs": [],
   "source": [
    "# Site name\n",
    "sitename = 'ucayali'\n",
    "\n",
    "# Project directory (local path or cloud bucket URL)\n",
    "proj_dir = '.'\n",
    "\n",
    "# AOI file\n",
    "aoifile = f'{proj_dir}/ucayali_boundary.geojson'\n",
    "\n",
    "# Reference tiles\n",
    "tiles = f'{proj_dir}/{sitename}_tiles.geojson'\n",
    "\n",
    "# Start and end dates of interest\n",
    "start_date = '2024-01-01' # june-sep measure the time it take to average for a burst first for a burst and later for ucayali \n",
    "end_date = '2024-04-30'\n",
    "\n",
    "# Sentinel-1 paltform S1A or S1B, S1 for both\n",
    "platform = 'S1'\n",
    "\n",
    "# RTC directory\n",
    "rtc_dir = f'{proj_dir}/opera_rtc'"
   ]
  },
  {
   "cell_type": "markdown",
   "metadata": {},
   "source": [
    "1. [Granule Search](#1.-Granule-Search)\n",
    "2. [Radiometric Terrain Correction (RTC)](#2.-Radiometric-Terrain-Correction-(RTC))\n",
    "3. [Post-Processing](#3.-Post-Processing)\n",
    "    - [Get RTC products](#Get-RTC-products)\n",
    "    - [Build VRTs](#Build-VRTs)\n",
    "    - [Calculate temporal mean](#Calculate-temporal-mean)\n",
    "    - [Remove edges](#Remove-edges)"
   ]
  },
  {
   "cell_type": "code",
   "execution_count": null,
   "metadata": {},
   "outputs": [],
   "source": [
    "# Plot AOI\n",
    "gdf_aoi = gpd.read_file(aoifile)\n",
    "gdf_aoi.plot(figsize=(10, 10))"
   ]
  },
  {
   "cell_type": "markdown",
   "metadata": {
    "tags": [],
    "toc-hr-collapsed": true
   },
   "source": [
    "## 1. Granule Search\n",
    "\n",
    "ASF DAAC uses *granules* and *scenes* interchangeably to refer to a Sentinel-1 product temporally and geographically, whereas *frames* are used to refer to the geolocation only for a Sentinel-1 product. The naming convention for a Sentinel-1 granule can be found [here](https://asf.alaska.edu/data-sets/sar-data-sets/sentinel-1/sentinel-1-data-and-imagery/). Each *frame* can be uniquely identified by a pair of *path* and *frame* numbers. In this section, we will search for Sentinel-1 granules that intersect with AOI and were acquired between the start and end dates.\n",
    "\n",
    "### `s1.search_granules`\n",
    "\n",
    "```\n",
    "s1.search_granules(sitename, aoifile, start_date, end_date, skim=True, **search_opts)\n",
    "```\n",
    "\n",
    "Paremeters:\n",
    "\n",
    "|Paremeters|Description|Required|Default|\n",
    "|----|----|----|----|\n",
    "|sitename|Site name|Yes||\n",
    "|aoifile|AOI file in vector-based spatial data format (shapefile, GeoJSON, ...)|Yes||\n",
    "|start_date|Start date (YYYY-MM-DD)|Yes||\n",
    "|end_date|End date (YYYY-MM-DD)|Yes||\n",
    "|skim|Skim the search results so only the frames that just cover the AOI are retained|No|True|\n",
    "|search_opts|Search options for ASF Python module (asf_search). See [here](https://docs.asf.alaska.edu/asf_search/searching/).|No|True|\n",
    "\n",
    "Returns:\n",
    "\n",
    "|Returns|Description|\n",
    "|----|----|\n",
    "|gdf_granules|A GeoDataFrame containing all searched granules along with their detailed properties|\n",
    "|gdf_frames|A GeoDataFrame of `gdf_granules` grouped by frames.|"
   ]
  },
  {
   "cell_type": "code",
   "execution_count": null,
   "metadata": {},
   "outputs": [],
   "source": [
    "# Here we search for Sentinel-1 OPERA-RTC products acquired with Interferometric Wide (IW) beam mode and both VV and VH polarizations.\n",
    "search_opts = {\n",
    "    'dataset': asf.DATASET.OPERA_S1\n",
    "}\n",
    "gdf_granules, gdf_frames = s1.search_granules(sitename, aoifile, start_date, end_date, skim=True, **search_opts)"
   ]
  },
  {
   "cell_type": "code",
   "execution_count": null,
   "metadata": {},
   "outputs": [],
   "source": [
    "gdf_granules"
   ]
  },
  {
   "cell_type": "code",
   "execution_count": null,
   "metadata": {},
   "outputs": [],
   "source": [
    "gdf_frames"
   ]
  },
  {
   "cell_type": "markdown",
   "metadata": {},
   "source": [
    "## Granules found over study area "
   ]
  },
  {
   "cell_type": "code",
   "execution_count": null,
   "metadata": {},
   "outputs": [],
   "source": [
    "# Read in tiles\n",
    "gdf_tiles = gpd.read_file(tiles).to_crs(epsg=4326)\n",
    "\n",
    "# Plot search results\n",
    "ax = gdf_aoi.plot(figsize=(10, 10))\n",
    "gdf_granules.boundary.plot(ax=ax, color='red')\n",
    "gdf_tiles.boundary.plot(ax=ax, color='black')\n",
    "if (gdf_tiles['mask'] == 0).any():\n",
    "    ax = gdf_tiles[gdf_tiles['mask'] == 0].plot(ax=ax, color='gray')"
   ]
  },
  {
   "cell_type": "markdown",
   "metadata": {},
   "source": [
    "## Burst count overview"
   ]
  },
  {
   "cell_type": "code",
   "execution_count": null,
   "metadata": {},
   "outputs": [],
   "source": [
    "# Generate burst summary geodataframe and include the flightpath\n",
    "# Get RTC burst id\n",
    "gdf_granules['burst_id'] = gdf_granules['fileID'].str[:31]\n",
    "\n",
    "# Group by burst id and count number of bursts per burst_id\n",
    "burst_counts = gdf_granules.groupby('burst_id').size().reset_index(name='count')\n",
    "\n",
    "# Group by burst id and aggregate the geometries\n",
    "grouped_bursts = gdf_granules.groupby('burst_id').agg({\n",
    "    'geometry': lambda x: x.unary_union,\n",
    "    'pathNumber': lambda x: x.mode() if x.mode().size > 0 else x.iloc[0]\n",
    "})\n",
    "\n",
    "# Reset index to convert the resulting Series to DataFrame\n",
    "grouped_bursts = grouped_bursts.reset_index()\n",
    "\n",
    "# Merge the grouped geometries and counts back to fileID_grouped_counts\n",
    "burst_summary = pd.merge(burst_counts, grouped_bursts, on='burst_id', how='left')\n",
    "\n",
    "# Convert the DataFrame to a GeoDataFrame\n",
    "burst_summary_gdf = gpd.GeoDataFrame(burst_summary, geometry='geometry')\n",
    "\n",
    "burst_summary_gdf"
   ]
  },
  {
   "cell_type": "code",
   "execution_count": null,
   "metadata": {},
   "outputs": [],
   "source": [
    "# Plotting acquisition summary\n",
    "plt.figure(figsize=(10, 6))\n",
    "plt.bar(burst_summary_gdf.index, burst_summary_gdf['count'])\n",
    "plt.xlabel('Burst index number (grouped by burst ID)')\n",
    "plt.ylabel('Acquisitions per burst')\n",
    "plt.title('Burst acquisition summary')\n",
    "plt.tight_layout()\n",
    "plt.show()"
   ]
  },
  {
   "cell_type": "code",
   "execution_count": null,
   "metadata": {},
   "outputs": [],
   "source": [
    "# get burst summary by count\n",
    "count_list = burst_summary_gdf['count'].unique()\n",
    "\n",
    "# Filter the GeoDataFrame to extract rows where count is equal to the indicated value\n",
    "def filter_count_gdf(in_df, value):\n",
    "    filtered_gdf = in_df[in_df['count'] == value]\n",
    "    \n",
    "    return filtered_gdf \n",
    "\n",
    "# extract geometries to use in plot\n",
    "burst_count_gdfs = []\n",
    "for count in count_list:\n",
    "    burst_count_gdfs.append(gpd.GeoDataFrame((filter_count_gdf(burst_summary_gdf, count)), geometry='geometry'))"
   ]
  },
  {
   "cell_type": "code",
   "execution_count": null,
   "metadata": {},
   "outputs": [],
   "source": [
    "# Plot search results\n",
    "cmap = plt.cm.get_cmap('Set2')\n",
    "ax = gdf_aoi.plot(figsize=(10, 10))\n",
    "for i, count_gdf in enumerate(burst_count_gdfs):\n",
    "    count_gdf.boundary.plot(ax=ax, color=cmap(i))\n",
    "gdf_tiles.boundary.plot(ax=ax, color='black')\n",
    "if (gdf_tiles['mask'] == 0).any():\n",
    "    ax = gdf_tiles[gdf_tiles['mask'] == 0].plot(ax=ax, color='gray')"
   ]
  },
  {
   "cell_type": "markdown",
   "metadata": {},
   "source": [
    "## 2. Access RTC data and form temporal average\n",
    "- The following cells will generate temporary credentials to access the ASF data bucket. \n",
    "- This will allow us to retrive the desired OPERA-RTC products.\n",
    "- A free Earthdata login account is required.\n",
    "-  Go to the link below and create one if you haven't done that yet:\n",
    "    -  [Create Earthdata account](https://www.earthdata.nasa.gov/eosdis/science-system-description/eosdis-components/earthdata-login)\n",
    "-  Once your account, login to Earthdata using your credentials.\n",
    "-  Now we should generate a Bearer Token to access the data bucket following th einstructions below.\n",
    "    - [Instructions for creating an EDL Bearer Token](https://urs.earthdata.nasa.gov/documentation/for_users/user_token)\n",
    "-  Copy your Bearer Token and paste it when asked in the cell below.    "
   ]
  },
  {
   "cell_type": "markdown",
   "metadata": {},
   "source": [
    "## Request S3 credencials\n",
    "**Enter your Earthdata Login Bearer Token**\n",
    "\n",
    "The cells below will create temporary credentials to access the OPERA-RTC data. "
   ]
  },
  {
   "cell_type": "code",
   "execution_count": null,
   "metadata": {},
   "outputs": [],
   "source": [
    "token = getpass(\"Enter your EDL Bearer Token\")"
   ]
  },
  {
   "cell_type": "code",
   "execution_count": null,
   "metadata": {},
   "outputs": [],
   "source": [
    "prefix = \"OPERA_L2_RTC-S1\" "
   ]
  },
  {
   "cell_type": "code",
   "execution_count": null,
   "metadata": {},
   "outputs": [],
   "source": [
    "event = {\n",
    "    \"CredentialsEndpoint\": \"https://cumulus.asf.alaska.edu/s3credentials\",\n",
    "    \"BearerToken\": token,\n",
    "    \"Bucket\": \"asf-cumulus-prod-opera-products\",\n",
    "    \"Prefix\": prefix,\n",
    "    \"StaticPrefix\": f\"{prefix}_STATIC\"\n",
    "}"
   ]
  },
  {
   "cell_type": "code",
   "execution_count": null,
   "metadata": {},
   "outputs": [],
   "source": [
    "# Get temporary download credentials\n",
    "tea_url = event[\"CredentialsEndpoint\"]\n",
    "bearer_token = event[\"BearerToken\"]\n",
    "req = urllib.request.Request(\n",
    "    url=tea_url,\n",
    "    headers={\"Authorization\": f\"Bearer {bearer_token}\"}\n",
    ")\n",
    "with urllib.request.urlopen(req) as f:\n",
    "    creds = json.loads(f.read().decode())"
   ]
  },
  {
   "cell_type": "markdown",
   "metadata": {},
   "source": [
    "## 3. Run RTC load + temp average \n",
    "In this section we will estimate the temporal mean for each available burst.\n",
    "  \n",
    "**Required inputs:**\n",
    "- List of burst id's \n",
    "- Geodataframe with granule data\n",
    "- Earthdata temporary credentials\n",
    "\n",
    "`Outputs will be stored as:`\n",
    "- rtc_tmeans/burstID_tmean_polarization.tif\n",
    "\n",
    "`For example:` \n",
    "- rtc_tmeans/OPERA_L2_RTC-S1_T025-052685-IW1_tmean_VV.tif"
   ]
  },
  {
   "cell_type": "code",
   "execution_count": null,
   "metadata": {},
   "outputs": [],
   "source": [
    "# Get a list of the available burstID to loop over their available data\n",
    "burst_id_list = burst_summary_gdf['burst_id'].unique().tolist()\n",
    "\n",
    "# Create temporal mean for all available bursts\n",
    "# This may take few minutes. ~20 mins for 119 bursts\n",
    "s1.run_rtc_temp_mean(burst_id_list, gdf_granules, creds, event)"
   ]
  },
  {
   "cell_type": "markdown",
   "metadata": {},
   "source": [
    "#### Display a sample"
   ]
  },
  {
   "cell_type": "code",
   "execution_count": null,
   "metadata": {},
   "outputs": [],
   "source": [
    "## Display a sample temporal mean\n",
    "with rasterio.open(f'./rtc_tmeans/{burst_id_list[0]}_tmean_VV.tif') as dset:\n",
    "    VV1 = dset.read(1)"
   ]
  },
  {
   "cell_type": "code",
   "execution_count": null,
   "metadata": {},
   "outputs": [],
   "source": [
    "plt.imshow(VV1, vmin=0, vmax=0.5, cmap='Greys')"
   ]
  },
  {
   "cell_type": "markdown",
   "metadata": {},
   "source": [
    "## 4. Create VRT tiles\n",
    "In this section we will generate virtual raster tiles using the predefined reference tiles."
   ]
  },
  {
   "cell_type": "code",
   "execution_count": null,
   "metadata": {},
   "outputs": [],
   "source": [
    "# First map the burst to tiles\n",
    "burst_tile_gdf = s1.map_burst2tile(tiles, burst_summary_gdf)\n",
    "\n",
    "# use the table above to run the main flow\n",
    "s1.build_opera_vrt(burst_tile_gdf)"
   ]
  },
  {
   "cell_type": "markdown",
   "metadata": {},
   "source": [
    "### Display a sample tile"
   ]
  },
  {
   "cell_type": "code",
   "execution_count": null,
   "metadata": {},
   "outputs": [],
   "source": [
    "with rasterio.open('./rtc_tmeans/tile_vrts/tile_h1_v1_VV.vrt') as dset:\n",
    "    VV = dset.read(1)\n",
    "VV[VV == 0] = np.nan"
   ]
  },
  {
   "cell_type": "code",
   "execution_count": null,
   "metadata": {},
   "outputs": [],
   "source": [
    "# Plot VV of tile h1v1\n",
    "plt.imshow(VV, vmin=0, vmax=0.5, cmap='Greys')"
   ]
  }
 ],
 "metadata": {
  "kernelspec": {
   "display_name": "Python 3 (ipykernel)",
   "language": "python",
   "name": "python3"
  },
  "language_info": {
   "codemirror_mode": {
    "name": "ipython",
    "version": 3
   },
   "file_extension": ".py",
   "mimetype": "text/x-python",
   "name": "python",
   "nbconvert_exporter": "python",
   "pygments_lexer": "ipython3",
   "version": "3.9.18"
  },
  "toc-autonumbering": false,
  "toc-showcode": false,
  "toc-showmarkdowntxt": false,
  "toc-showtags": false
 },
 "nbformat": 4,
 "nbformat_minor": 4
}
