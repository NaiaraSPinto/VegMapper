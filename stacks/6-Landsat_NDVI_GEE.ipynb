{
 "cells": [
  {
   "cell_type": "code",
   "execution_count": 1,
   "id": "45938928-5cf9-48b9-bddb-ecc99203d2dd",
   "metadata": {
    "editable": true,
    "slideshow": {
     "slide_type": ""
    },
    "tags": []
   },
   "outputs": [],
   "source": [
    "import os\n",
    "import rasterio\n",
    "import numpy as np\n",
    "import matplotlib.pyplot as plt\n",
    "import requests\n",
    "from datetime import datetime\n",
    "from rasterio.mask import mask\n",
    "import ee\n",
    "import folium\n",
    "from concurrent.futures import ThreadPoolExecutor\n",
    "from PIL import Image\n",
    "import io"
   ]
  },
  {
   "cell_type": "code",
   "execution_count": 2,
   "id": "2b34a33b-6023-476b-8090-b28e6d3e706f",
   "metadata": {},
   "outputs": [
    {
     "name": "stderr",
     "output_type": "stream",
     "text": [
      "*** Earth Engine *** Share your feedback by taking our Annual Developer Satisfaction Survey: https://google.qualtrics.com/jfe/form/SV_0JLhFqfSY1uiEaW?source=Init\n"
     ]
    }
   ],
   "source": [
    "# Initialize the Earth Engine module\n",
    "ee.Initialize()"
   ]
  },
  {
   "cell_type": "code",
   "execution_count": 3,
   "id": "1f84a1de-9eef-4b84-bf58-0767102dc696",
   "metadata": {},
   "outputs": [],
   "source": [
    "# Define the administrative boundary of Pará, Brazil (need to filter grids)\n",
    "Admin = ee.FeatureCollection(\"FAO/GAUL/2015/level1\")  # Load the GAUL dataset\n",
    "\n",
    "# Filter the collection to get the boundary of Pará, Brazil\n",
    "study_area_ee = Admin.filter(ee.Filter.And(\n",
    "    ee.Filter.eq('ADM1_NAME', 'Para'),\n",
    "    ee.Filter.eq('ADM0_NAME', 'Brazil')\n",
    "))"
   ]
  },
  {
   "cell_type": "code",
   "execution_count": 4,
   "id": "72e93b6d-e293-4fd0-b0f3-153396b1be07",
   "metadata": {},
   "outputs": [],
   "source": [
    "# Define start and end date for data search\n",
    "start_date = '2024-01-01'\n",
    "end_date = '2024-11-25'"
   ]
  },
  {
   "cell_type": "code",
   "execution_count": 18,
   "id": "00013e5d-ead5-4132-a68f-5ebd98b031a2",
   "metadata": {},
   "outputs": [],
   "source": [
    "# Function to apply cloud masking using the QA_PIXEL band\n",
    "def mask_clouds(image):\n",
    "    qa = image.select('QA_PIXEL')\n",
    "    cloud_mask = qa.bitwiseAnd(1 << 3).eq(0).And(qa.bitwiseAnd(1 << 5).eq(0))\n",
    "    return image.updateMask(cloud_mask)"
   ]
  },
  {
   "cell_type": "code",
   "execution_count": 19,
   "id": "29949221-1bc0-43e0-ab5c-cdce2fe2e9c5",
   "metadata": {},
   "outputs": [],
   "source": [
    "# Function to apply scale factors\n",
    "def apply_scale_factors(image):\n",
    "    optical_bands = image.select('SR_B.').multiply(0.0000275).add(-0.2)\n",
    "    thermal_bands = image.select('ST_B.*').multiply(0.00341802).add(149.0)\n",
    "    return image.addBands(optical_bands, None, True).addBands(thermal_bands, None, True)"
   ]
  },
  {
   "cell_type": "code",
   "execution_count": 20,
   "id": "e12e672b-ed75-408e-b359-767bc1221b41",
   "metadata": {},
   "outputs": [],
   "source": [
    "# Function to calculate NDVI\n",
    "def calculate_ndvi(image):\n",
    "    ndvi = image.normalizedDifference(['SR_B5', 'SR_B4']).rename('NDVI')\n",
    "    return image.addBands(ndvi)\n"
   ]
  },
  {
   "cell_type": "code",
   "execution_count": 21,
   "id": "3bcbcb99-2fd6-4dc1-94e2-5e4f4713f1ca",
   "metadata": {},
   "outputs": [],
   "source": [
    "# Search for Landsat 8 and 9 images using GEE\n",
    "landsat_collection = (ee.ImageCollection('LANDSAT/LC08/C02/T1_L2')\n",
    "                      .merge(ee.ImageCollection('LANDSAT/LC09/C02/T1_L2'))\n",
    "                      .filterBounds(study_area_ee)\n",
    "                      .filterDate(start_date, end_date)\n",
    "                      .filterMetadata('CLOUD_COVER', 'less_than', 10)\n",
    "                      .map(mask_clouds)\n",
    "                      .map(apply_scale_factors)\n",
    "                      .map(calculate_ndvi))"
   ]
  },
  {
   "cell_type": "code",
   "execution_count": 22,
   "id": "b844c2fa-c2a0-4617-813f-21bfd11c4efa",
   "metadata": {},
   "outputs": [],
   "source": [
    "# Get the image with the maximum NDVI value per pixel and add all bands from the corresponding image\n",
    "max_ndvi = landsat_collection.qualityMosaic('NDVI').clip(study_area_ee)"
   ]
  },
  {
   "cell_type": "code",
   "execution_count": 23,
   "id": "42dfe804-06c5-4987-bccd-cf98abd3a3de",
   "metadata": {},
   "outputs": [],
   "source": [
    "# Define visualization parameters\n",
    "true_color_params = {\n",
    "    'bands': ['SR_B4', 'SR_B3', 'SR_B2'],\n",
    "    'min': 0,\n",
    "    'max': 0.2,\n",
    "    'region': study_area_ee.geometry().getInfo()\n",
    "}\n"
   ]
  },
  {
   "cell_type": "code",
   "execution_count": 24,
   "id": "db21336a-0d6d-41c4-95d1-79e95b2b4ca0",
   "metadata": {},
   "outputs": [
    {
     "data": {
      "text/html": [
       "<div style=\"width:100%;\"><div style=\"position:relative;width:100%;height:0;padding-bottom:60%;\"><span style=\"color:#565656\">Make this Notebook Trusted to load map: File -> Trust Notebook</span><iframe srcdoc=\"&lt;!DOCTYPE html&gt;\n",
       "&lt;html&gt;\n",
       "&lt;head&gt;\n",
       "    \n",
       "    &lt;meta http-equiv=&quot;content-type&quot; content=&quot;text/html; charset=UTF-8&quot; /&gt;\n",
       "    \n",
       "        &lt;script&gt;\n",
       "            L_NO_TOUCH = false;\n",
       "            L_DISABLE_3D = false;\n",
       "        &lt;/script&gt;\n",
       "    \n",
       "    &lt;style&gt;html, body {width: 100%;height: 100%;margin: 0;padding: 0;}&lt;/style&gt;\n",
       "    &lt;style&gt;#map {position:absolute;top:0;bottom:0;right:0;left:0;}&lt;/style&gt;\n",
       "    &lt;script src=&quot;https://cdn.jsdelivr.net/npm/leaflet@1.9.3/dist/leaflet.js&quot;&gt;&lt;/script&gt;\n",
       "    &lt;script src=&quot;https://code.jquery.com/jquery-3.7.1.min.js&quot;&gt;&lt;/script&gt;\n",
       "    &lt;script src=&quot;https://cdn.jsdelivr.net/npm/bootstrap@5.2.2/dist/js/bootstrap.bundle.min.js&quot;&gt;&lt;/script&gt;\n",
       "    &lt;script src=&quot;https://cdnjs.cloudflare.com/ajax/libs/Leaflet.awesome-markers/2.0.2/leaflet.awesome-markers.js&quot;&gt;&lt;/script&gt;\n",
       "    &lt;link rel=&quot;stylesheet&quot; href=&quot;https://cdn.jsdelivr.net/npm/leaflet@1.9.3/dist/leaflet.css&quot;/&gt;\n",
       "    &lt;link rel=&quot;stylesheet&quot; href=&quot;https://cdn.jsdelivr.net/npm/bootstrap@5.2.2/dist/css/bootstrap.min.css&quot;/&gt;\n",
       "    &lt;link rel=&quot;stylesheet&quot; href=&quot;https://netdna.bootstrapcdn.com/bootstrap/3.0.0/css/bootstrap-glyphicons.css&quot;/&gt;\n",
       "    &lt;link rel=&quot;stylesheet&quot; href=&quot;https://cdn.jsdelivr.net/npm/@fortawesome/fontawesome-free@6.2.0/css/all.min.css&quot;/&gt;\n",
       "    &lt;link rel=&quot;stylesheet&quot; href=&quot;https://cdnjs.cloudflare.com/ajax/libs/Leaflet.awesome-markers/2.0.2/leaflet.awesome-markers.css&quot;/&gt;\n",
       "    &lt;link rel=&quot;stylesheet&quot; href=&quot;https://cdn.jsdelivr.net/gh/python-visualization/folium/folium/templates/leaflet.awesome.rotate.min.css&quot;/&gt;\n",
       "    \n",
       "            &lt;meta name=&quot;viewport&quot; content=&quot;width=device-width,\n",
       "                initial-scale=1.0, maximum-scale=1.0, user-scalable=no&quot; /&gt;\n",
       "            &lt;style&gt;\n",
       "                #map_83f81afa6374a7ea83a88ddeb640cfa0 {\n",
       "                    position: relative;\n",
       "                    width: 100.0%;\n",
       "                    height: 100.0%;\n",
       "                    left: 0.0%;\n",
       "                    top: 0.0%;\n",
       "                }\n",
       "                .leaflet-container { font-size: 1rem; }\n",
       "            &lt;/style&gt;\n",
       "        \n",
       "&lt;/head&gt;\n",
       "&lt;body&gt;\n",
       "    \n",
       "    \n",
       "            &lt;div class=&quot;folium-map&quot; id=&quot;map_83f81afa6374a7ea83a88ddeb640cfa0&quot; &gt;&lt;/div&gt;\n",
       "        \n",
       "&lt;/body&gt;\n",
       "&lt;script&gt;\n",
       "    \n",
       "    \n",
       "            var map_83f81afa6374a7ea83a88ddeb640cfa0 = L.map(\n",
       "                &quot;map_83f81afa6374a7ea83a88ddeb640cfa0&quot;,\n",
       "                {\n",
       "                    center: [-3.7, -52.5],\n",
       "                    crs: L.CRS.EPSG3857,\n",
       "                    zoom: 6,\n",
       "                    zoomControl: true,\n",
       "                    preferCanvas: false,\n",
       "                }\n",
       "            );\n",
       "\n",
       "            \n",
       "\n",
       "        \n",
       "    \n",
       "            var tile_layer_3a95207ce2487dd32d4db3ecda334b62 = L.tileLayer(\n",
       "                &quot;https://tile.openstreetmap.org/{z}/{x}/{y}.png&quot;,\n",
       "                {&quot;attribution&quot;: &quot;\\u0026copy; \\u003ca href=\\&quot;https://www.openstreetmap.org/copyright\\&quot;\\u003eOpenStreetMap\\u003c/a\\u003e contributors&quot;, &quot;detectRetina&quot;: false, &quot;maxNativeZoom&quot;: 19, &quot;maxZoom&quot;: 19, &quot;minZoom&quot;: 0, &quot;noWrap&quot;: false, &quot;opacity&quot;: 1, &quot;subdomains&quot;: &quot;abc&quot;, &quot;tms&quot;: false}\n",
       "            );\n",
       "        \n",
       "    \n",
       "            tile_layer_3a95207ce2487dd32d4db3ecda334b62.addTo(map_83f81afa6374a7ea83a88ddeb640cfa0);\n",
       "        \n",
       "    \n",
       "            var tile_layer_fe754317b30022a28ba3796f93f31d55 = L.tileLayer(\n",
       "                &quot;https://earthengine.googleapis.com/v1/projects/584876040538/maps/cf25dbe0577c0d013ccbea8547bfb45a-452217817225a4d1f7930732261290ab/tiles/{z}/{x}/{y}&quot;,\n",
       "                {&quot;attribution&quot;: &quot;Google Earth Engine&quot;, &quot;detectRetina&quot;: false, &quot;maxZoom&quot;: 18, &quot;minZoom&quot;: 0, &quot;noWrap&quot;: false, &quot;opacity&quot;: 1, &quot;subdomains&quot;: &quot;abc&quot;, &quot;tms&quot;: false}\n",
       "            );\n",
       "        \n",
       "    \n",
       "            tile_layer_fe754317b30022a28ba3796f93f31d55.addTo(map_83f81afa6374a7ea83a88ddeb640cfa0);\n",
       "        \n",
       "    \n",
       "            var layer_control_16dd0ccde2aa797dbe3c9d5d8e5afb8b_layers = {\n",
       "                base_layers : {\n",
       "                    &quot;openstreetmap&quot; : tile_layer_3a95207ce2487dd32d4db3ecda334b62,\n",
       "                },\n",
       "                overlays :  {\n",
       "                    &quot;Max NDVI True Color&quot; : tile_layer_fe754317b30022a28ba3796f93f31d55,\n",
       "                },\n",
       "            };\n",
       "            let layer_control_16dd0ccde2aa797dbe3c9d5d8e5afb8b = L.control.layers(\n",
       "                layer_control_16dd0ccde2aa797dbe3c9d5d8e5afb8b_layers.base_layers,\n",
       "                layer_control_16dd0ccde2aa797dbe3c9d5d8e5afb8b_layers.overlays,\n",
       "                {&quot;autoZIndex&quot;: true, &quot;collapsed&quot;: true, &quot;position&quot;: &quot;topright&quot;}\n",
       "            ).addTo(map_83f81afa6374a7ea83a88ddeb640cfa0);\n",
       "\n",
       "        \n",
       "&lt;/script&gt;\n",
       "&lt;/html&gt;\" style=\"position:absolute;width:100%;height:100%;left:0;top:0;border:none !important;\" allowfullscreen webkitallowfullscreen mozallowfullscreen></iframe></div></div>"
      ],
      "text/plain": [
       "<folium.folium.Map at 0x7fc04415a950>"
      ]
     },
     "execution_count": 24,
     "metadata": {},
     "output_type": "execute_result"
    }
   ],
   "source": [
    "# Plot the true color composite using folium\n",
    "map_center = [-3.7, -52.5]\n",
    "folium_map = folium.Map(location=map_center, zoom_start=6)\n",
    "\n",
    "# Convert the Earth Engine image to a URL for visualization\n",
    "map_id_dict = ee.Image(max_ndvi).getMapId(true_color_params)\n",
    "tile_url = map_id_dict['tile_fetcher'].url_format\n",
    "\n",
    "# Add the layer to the folium map\n",
    "folium.TileLayer(tiles=tile_url, attr='Google Earth Engine', name='Max NDVI True Color', overlay=True).add_to(folium_map)\n",
    "\n",
    "# Add layer control\n",
    "folium.LayerControl().add_to(folium_map)\n",
    "\n",
    "# Display the map\n",
    "folium_map"
   ]
  }
 ],
 "metadata": {
  "kernelspec": {
   "display_name": "base",
   "language": "python",
   "name": "python3"
  },
  "language_info": {
   "codemirror_mode": {
    "name": "ipython",
    "version": 3
   },
   "file_extension": ".py",
   "mimetype": "text/x-python",
   "name": "python",
   "nbconvert_exporter": "python",
   "pygments_lexer": "ipython3",
   "version": "3.11.6"
  }
 },
 "nbformat": 4,
 "nbformat_minor": 5
}
