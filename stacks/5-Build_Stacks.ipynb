{
 "cells": [
  {
   "cell_type": "markdown",
   "id": "c002da8b-a315-4af8-98db-74a9a9a7cc88",
   "metadata": {},
   "source": [
    "# Build Stacks"
   ]
  },
  {
   "cell_type": "code",
   "execution_count": null,
   "id": "638662d6-e87b-43ab-b70b-6f59ea8548e6",
   "metadata": {},
   "outputs": [],
   "source": [
    "import subprocess\n",
    "from pathlib import Path\n",
    "\n",
    "import geopandas as gpd\n",
    "import rasterio"
   ]
  },
  {
   "cell_type": "markdown",
   "id": "8d3ad42d-4723-4718-ba93-dab8ecce8b50",
   "metadata": {},
   "source": [
    "## TODO:\n",
    "\n",
    "1. Transfer condensed stacks to GEE"
   ]
  },
  {
   "cell_type": "markdown",
   "id": "dd7e07f1-e220-4d2c-8e73-1fdb1fd1fef9",
   "metadata": {},
   "source": [
    "## User Inputs"
   ]
  },
  {
   "cell_type": "code",
   "execution_count": null,
   "id": "32c79f31-21d3-42b7-b263-0b003aabccdf",
   "metadata": {},
   "outputs": [],
   "source": [
    "# Site name\n",
    "sitename = 'ucayali'\n",
    "\n",
    "# Project directory (local path or cloud bucket URL)\n",
    "proj_dir = sitename\n",
    "\n",
    "# AOI tiles\n",
    "aoi_tiles = f'{proj_dir}/{sitename}_tiles.geojson'\n",
    "\n",
    "# Resolution\n",
    "res = 30\n",
    "\n",
    "# Time\n",
    "year = 2020\n",
    "start_date = '2020-05-01'\n",
    "end_date = '2020-09-30'\n",
    "\n",
    "# Stack directory\n",
    "stack_dir = f'{proj_dir}/stacks'"
   ]
  },
  {
   "cell_type": "code",
   "execution_count": null,
   "id": "4f4819e1-204d-4005-9b68-221d1c903c74",
   "metadata": {},
   "outputs": [],
   "source": [
    "bands = {\n",
    "    '1': {\n",
    "        'name': 'C-VV',\n",
    "        'dir': f'{proj_dir}/Sentinel-1/S1B_{start_date}_{end_date}/vrt',\n",
    "        'prefix': 'C-VV-',\n",
    "        'suffix': '.vrt'\n",
    "    },\n",
    "    '2': {\n",
    "        'name': 'C-VH',\n",
    "        'dir': f'{proj_dir}/Sentinel-1/S1B_{start_date}_{end_date}/vrt',\n",
    "        'prefix': 'C-VH-',\n",
    "        'suffix': '.vrt'\n",
    "    },\n",
    "    '3': {\n",
    "        'name': 'C-INC',\n",
    "        'dir': f'{proj_dir}/Sentinel-1/S1B_{start_date}_{end_date}/vrt',\n",
    "        'prefix': 'C-INC-',\n",
    "        'suffix': '.vrt'\n",
    "    },\n",
    "    '4': {\n",
    "        'name': 'L-HH',\n",
    "        'dir': f'{proj_dir}/ALOS-2/mosaic',\n",
    "        'prefix': 'L-HH-2020-2019-',\n",
    "        'suffix': '.vrt'\n",
    "    },\n",
    "    '5': {\n",
    "        'name': 'L-HV',\n",
    "        'dir': f'{proj_dir}/ALOS-2/mosaic',\n",
    "        'prefix': 'L-HV-2020-2019-',\n",
    "        'suffix': '.vrt'\n",
    "    },\n",
    "    '6': {\n",
    "        'name': 'L-INC',\n",
    "        'dir': f'{proj_dir}/ALOS-2/mosaic',\n",
    "        'prefix': 'L-INC-2020-2019-',\n",
    "        'suffix': '.vrt'\n",
    "    },\n",
    "    '7': {\n",
    "        'name': 'NDVI',\n",
    "        'dir': f'{proj_dir}/landsat/{year}',\n",
    "        'prefix': f'landsat_ndvi_{sitename}_{year}_',\n",
    "        'suffix': '.tif'\n",
    "    },\n",
    "    '8': {\n",
    "        'name': 'TC',\n",
    "        'dir': f'{proj_dir}/modis/{year}',\n",
    "        'prefix': f'modis_tc_{sitename}_{year}_',\n",
    "        'suffix': '.tif'\n",
    "    },\n",
    "}"
   ]
  },
  {
   "cell_type": "code",
   "execution_count": null,
   "id": "b4f62de3-2346-4661-82b8-cc1ab39ea460",
   "metadata": {},
   "outputs": [],
   "source": [
    "def build_stack(stack_dir, bands):\n",
    "    vrt_dir = Path(f'{stack_dir}/vrt')\n",
    "    if not vrt_dir.exists():\n",
    "        vrt_dir.mkdir(parents=True)\n",
    "    gdf_tiles = gpd.read_file(aoi_tiles)\n",
    "    for i in gdf_tiles.index:\n",
    "        h = gdf_tiles['h'][i]\n",
    "        v = gdf_tiles['v'][i]\n",
    "        m = gdf_tiles['mask'][i]\n",
    "        g = gdf_tiles['geometry'][i]\n",
    "\n",
    "        if m == 0:\n",
    "            continue\n",
    "\n",
    "        band_data_list = []\n",
    "        band_name_list = []\n",
    "        band_num = len(bands.keys())\n",
    "        for i in range(band_num):\n",
    "            band = bands[f'{i+1}']\n",
    "            band_name_list.append(band['name'])\n",
    "            band_data_list.append(f\"{band['dir']}/{band['prefix']}h{h}v{v}{band['suffix']}\")\n",
    "\n",
    "        vrt = vrt_dir / f'{sitename}_stacks_{year}_h{h}v{v}.vrt'\n",
    "        cmd = (f'gdalbuildvrt -overwrite -separate '\n",
    "               f'{vrt} {\" \".join(band_data_list)}')\n",
    "        subprocess.check_call(cmd, shell=True)\n",
    "\n",
    "        with rasterio.open(vrt, 'r+') as dset:\n",
    "            dset.descriptions = band_name_list\n",
    "\n",
    "        print(f'Making stack tif for h{h}v{v} ...')\n",
    "        stack_tif = Path(f'{sitename}_stacks_{year}_h{h}v{v}.tif')\n",
    "        cmd = (f'gdalwarp '\n",
    "               f'-overwrite '\n",
    "               f'-dstnodata -9999 '\n",
    "               f'-ot Float32 '\n",
    "               f'-of COG '\n",
    "               f'-co COMPRESS=LZW '\n",
    "               f'-co RESAMPLING=NEAREST '\n",
    "               f'{vrt} {stack_tif}')\n",
    "        subprocess.check_call(cmd, shell=True)"
   ]
  },
  {
   "cell_type": "code",
   "execution_count": null,
   "id": "68aa057a-97a2-4c08-9ce7-f95336d38f95",
   "metadata": {},
   "outputs": [],
   "source": [
    "build_stack(stack_dir, bands)"
   ]
  },
  {
   "cell_type": "code",
   "execution_count": null,
   "id": "2024a138-4c96-492d-828c-b0ba8f472e51",
   "metadata": {},
   "outputs": [],
   "source": []
  }
 ],
 "metadata": {
  "kernelspec": {
   "display_name": "Python 3 (ipykernel)",
   "language": "python",
   "name": "python3"
  },
  "language_info": {
   "codemirror_mode": {
    "name": "ipython",
    "version": 3
   },
   "file_extension": ".py",
   "mimetype": "text/x-python",
   "name": "python",
   "nbconvert_exporter": "python",
   "pygments_lexer": "ipython3",
   "version": "3.9.13"
  }
 },
 "nbformat": 4,
 "nbformat_minor": 5
}
