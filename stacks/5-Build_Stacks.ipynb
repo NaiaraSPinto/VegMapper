{
 "cells": [
  {
   "cell_type": "markdown",
   "id": "c002da8b-a315-4af8-98db-74a9a9a7cc88",
   "metadata": {},
   "source": [
    "# Build Stacks"
   ]
  },
  {
   "cell_type": "code",
   "execution_count": null,
   "id": "638662d6-e87b-43ab-b70b-6f59ea8548e6",
   "metadata": {},
   "outputs": [],
   "source": [
    "from pathlib import Path\n",
    "\n",
    "import geopandas as gpd\n",
    "import rasterio\n",
    "\n",
    "from vegmapper import build_stack, build_condensed_stack"
   ]
  },
  {
   "cell_type": "markdown",
   "id": "dd7e07f1-e220-4d2c-8e73-1fdb1fd1fef9",
   "metadata": {},
   "source": [
    "## User Inputs"
   ]
  },
  {
   "cell_type": "code",
   "execution_count": null,
   "id": "32c79f31-21d3-42b7-b263-0b003aabccdf",
   "metadata": {},
   "outputs": [],
   "source": [
    "# Site name\n",
    "sitename = 'ucayali'\n",
    "\n",
    "# Project directory (local path or cloud bucket URL)\n",
    "proj_dir = sitename\n",
    "\n",
    "# AOI tiles\n",
    "aoi_tiles = f'{proj_dir}/{sitename}_tiles.geojson'\n",
    "\n",
    "# Resolution\n",
    "res = 30\n",
    "\n",
    "# Time\n",
    "year = 2020\n",
    "start_date = '2020-06-01'\n",
    "end_date = '2020-07-31'\n",
    "\n",
    "# Stack name & directory\n",
    "stack_name = f'{sitename}_stacks_{year}'\n",
    "stack_dir = f'{proj_dir}/stacks'\n",
    "\n",
    "# Google Storage URL\n",
    "gs = 'gs://YOUR_GS_URL'\n",
    "\n",
    "# Google Earth Engine (GEE) project & ImageCollection ID\n",
    "gee_project = f'projects/servir-amazonia'\n",
    "collection_id = f'{sitename}_stack_{year}_test'"
   ]
  },
  {
   "cell_type": "markdown",
   "id": "a832ecc1-0006-43cd-82a0-efbc8ddf335e",
   "metadata": {},
   "source": [
    "## Bands to be included in the stacks\n",
    "\n",
    "The filename for each band is expected to be `{prefix}h{h_index}v{v_index}{suffix}`."
   ]
  },
  {
   "cell_type": "code",
   "execution_count": null,
   "id": "4f4819e1-204d-4005-9b68-221d1c903c74",
   "metadata": {},
   "outputs": [],
   "source": [
    "bands = {\n",
    "    '1': {\n",
    "        'name': 'C-VV',\n",
    "        'dir': f'{proj_dir}/Sentinel-1/S1B_{start_date}_{end_date}/vrt',\n",
    "        'prefix': 'C-VV-',\n",
    "        'suffix': '.vrt'\n",
    "    },\n",
    "    '2': {\n",
    "        'name': 'C-VH',\n",
    "        'dir': f'{proj_dir}/Sentinel-1/S1B_{start_date}_{end_date}/vrt',\n",
    "        'prefix': 'C-VH-',\n",
    "        'suffix': '.vrt'\n",
    "    },\n",
    "    '3': {\n",
    "        'name': 'C-INC',\n",
    "        'dir': f'{proj_dir}/Sentinel-1/S1B_{start_date}_{end_date}/vrt',\n",
    "        'prefix': 'C-INC-',\n",
    "        'suffix': '.vrt'\n",
    "    },\n",
    "    '4': {\n",
    "        'name': 'L-HH',\n",
    "        'dir': f'{proj_dir}/ALOS-2/mosaic',\n",
    "        'prefix': 'L-HH-2020-2019-',\n",
    "        'suffix': '.vrt'\n",
    "    },\n",
    "    '5': {\n",
    "        'name': 'L-HV',\n",
    "        'dir': f'{proj_dir}/ALOS-2/mosaic',\n",
    "        'prefix': 'L-HV-2020-2019-',\n",
    "        'suffix': '.vrt'\n",
    "    },\n",
    "    '6': {\n",
    "        'name': 'L-INC',\n",
    "        'dir': f'{proj_dir}/ALOS-2/mosaic',\n",
    "        'prefix': 'L-INC-2020-2019-',\n",
    "        'suffix': '.vrt'\n",
    "    },\n",
    "    '7': {\n",
    "        'name': 'NDVI',\n",
    "        'dir': f'{proj_dir}/landsat/{year}',\n",
    "        'prefix': f'landsat_ndvi_{sitename}_{year}_',\n",
    "        'suffix': '.tif'\n",
    "    },\n",
    "    '8': {\n",
    "        'name': 'TC',\n",
    "        'dir': f'{proj_dir}/modis/{year}',\n",
    "        'prefix': f'modis_tc_{sitename}_{year}_',\n",
    "        'suffix': '.tif'\n",
    "    },\n",
    "}"
   ]
  },
  {
   "cell_type": "markdown",
   "id": "b339e85a-fd9b-419f-af57-ef730b46e9d1",
   "metadata": {},
   "source": [
    "## Build stack for each tile"
   ]
  },
  {
   "cell_type": "code",
   "execution_count": null,
   "id": "68aa057a-97a2-4c08-9ce7-f95336d38f95",
   "metadata": {},
   "outputs": [],
   "source": [
    "# build_stack(stack_name, stack_dir, bands, aoi_tiles)"
   ]
  },
  {
   "cell_type": "markdown",
   "id": "f2aead72-ebe1-469e-88d8-ae2d50304812",
   "metadata": {},
   "source": [
    "## Build condensed stacks\n",
    "\n",
    "For quick data quality assessment and better visualization, we will build a \"condensed\" version of the stacks built above. The condensed stacks will be of `Int16` data type and will include the following four bands:\n",
    "\n",
    "1. C-band Radar Vegetation Index x 100\n",
    "2. L-band Radar Vegetation Index x 100 \n",
    "3. NDVI x 100\n",
    "4. Percent Tree Cover\n",
    "\n",
    "The Radar Vegetation Index (RVI) is defined as:\n",
    "\n",
    "$RVI = \\frac{4CX}{CO + CX}$\n",
    "\n",
    "where $CO$ and $CX$ are the co-polarized (VV or HH) and cross-polarized (VH or HV) radar backscatter in linear scale, respectively."
   ]
  },
  {
   "cell_type": "code",
   "execution_count": null,
   "id": "2024a138-4c96-492d-828c-b0ba8f472e51",
   "metadata": {},
   "outputs": [],
   "source": [
    "condensed_stack_name = f'{sitename}_condensed_stacks_{year}'\n",
    "build_condensed_stack(stack_name, condensed_stack_name, stack_dir)"
   ]
  },
  {
   "cell_type": "markdown",
   "id": "33c52aef-a84d-4611-8fc3-3051c551f5b1",
   "metadata": {},
   "source": [
    "## Upload condensed stacks to GEE"
   ]
  },
  {
   "cell_type": "markdown",
   "id": "66e68681-19ff-4459-aea3-f09580cf579e",
   "metadata": {},
   "source": [
    "Before uploading images into the GEE destination ImageCollection, try to list it to see if it exists and what images have been included."
   ]
  },
  {
   "cell_type": "code",
   "execution_count": null,
   "id": "952081dc-473a-4eac-b205-5f05315e7a44",
   "metadata": {},
   "outputs": [],
   "source": [
    "# List the contents of ImageCollection on GEE\n",
    "!earthengine ls $gee_project/$collection_id"
   ]
  },
  {
   "cell_type": "markdown",
   "id": "83aafdfb-b459-431c-950c-604dc00721b4",
   "metadata": {},
   "source": [
    "If the ImageCollection does exist, make sure that you do want to upload/append images to the collection. If the ImageCollection doesn't exist, we need to create it before we can upload images to it."
   ]
  },
  {
   "cell_type": "code",
   "execution_count": null,
   "id": "d1b0f61b-88f5-471a-b47b-e9b80118b4e4",
   "metadata": {},
   "outputs": [],
   "source": [
    "!earthengine create collection $gee_project/$collection_id"
   ]
  },
  {
   "cell_type": "markdown",
   "id": "c3c82010-716a-49bb-89eb-61e0f59862b7",
   "metadata": {},
   "source": [
    "Now we first upload the condensed stacks to GS bucket and then request the images to be ingested to the collection. You can also check the status here: https://code.earthengine.google.com/tasks."
   ]
  },
  {
   "cell_type": "code",
   "execution_count": null,
   "id": "b4b330b3-4119-4215-8b93-36d97cd384e4",
   "metadata": {},
   "outputs": [],
   "source": [
    "stack_dir = Path(stack_dir)\n",
    "condensed_stacks = sorted(stack_dir.glob(f'{condensed_stack_name}_h*v*.tif'))\n",
    "for stack_tif in condensed_stacks:\n",
    "    print(f'Uploading {stack_tif.name} to GEE ...')\n",
    "    \n",
    "    # Copy stack to GS\n",
    "    gs_url = f'{gs}/{stack_tif.name}'\n",
    "    !gsutil cp $stack_tif $gs_url\n",
    "    \n",
    "    # Upload stack to GEE\n",
    "    image_name = stack_tif.stem\n",
    "    !earthengine upload image --asset_id=$gee_project/$collection_id/$image_name -ts $start_date -te $end_date $gs_url"
   ]
  },
  {
   "cell_type": "code",
   "execution_count": null,
   "id": "391e0031-7a8a-4fb0-9718-765cebb51e79",
   "metadata": {},
   "outputs": [],
   "source": []
  }
 ],
 "metadata": {
  "kernelspec": {
   "display_name": "Python 3 (ipykernel)",
   "language": "python",
   "name": "python3"
  },
  "language_info": {
   "codemirror_mode": {
    "name": "ipython",
    "version": 3
   },
   "file_extension": ".py",
   "mimetype": "text/x-python",
   "name": "python",
   "nbconvert_exporter": "python",
   "pygments_lexer": "ipython3",
   "version": "3.9.13"
  }
 },
 "nbformat": 4,
 "nbformat_minor": 5
}
