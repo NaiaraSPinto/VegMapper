{
 "cells": [
  {
   "cell_type": "markdown",
   "id": "a28d1be0-35aa-4c6d-9990-d30048cbfc27",
   "metadata": {
    "editable": true,
    "slideshow": {
     "slide_type": ""
    },
    "tags": []
   },
   "source": [
    "# Landsat NDVI and NDFI"
   ]
  },
  {
   "cell_type": "code",
   "execution_count": 1,
   "id": "45938928-5cf9-48b9-bddb-ecc99203d2dd",
   "metadata": {
    "editable": true,
    "slideshow": {
     "slide_type": ""
    },
    "tags": []
   },
   "outputs": [],
   "source": [
    "import matplotlib.pyplot as plt\n",
    "import rasterio\n",
    "\n",
    "from vegmapper import landsat\n",
    "from vegmapper import pathurl"
   ]
  },
  {
   "cell_type": "markdown",
   "id": "a407c0d8-8fed-47b6-8e37-9ee51e990baf",
   "metadata": {
    "editable": true,
    "slideshow": {
     "slide_type": ""
    },
    "tags": []
   },
   "source": [
    "## User Inputs"
   ]
  },
  {
   "cell_type": "code",
   "execution_count": 2,
   "id": "1f84a1de-9eef-4b84-bf58-0767102dc696",
   "metadata": {
    "editable": true,
    "slideshow": {
     "slide_type": ""
    },
    "tags": []
   },
   "outputs": [],
   "source": [
    "# Site name\n",
    "sitename = 'ucayali'\n",
    "\n",
    "# Project directory (local path or cloud bucket URL)\n",
    "proj_dir = sitename\n",
    "\n",
    "# AOI file\n",
    "aoifile = f'{proj_dir}/ucayali_boundary.geojson'\n",
    "\n",
    "# Reference tiles\n",
    "tiles = f'{proj_dir}/{sitename}_tiles.geojson'\n",
    "\n",
    "# AOI tiles\n",
    "aoi_tiles = f'{proj_dir}/{sitename}_tiles.geojson'\n",
    "\n",
    "# Resolution\n",
    "res = 30\n",
    "\n",
    "#Year of interest for NDFI bands\n",
    "year = 2024\n",
    "\n",
    "# Year of interest for disturbance detection\n",
    "start_year = 2000 #start year of disturbance detection\n",
    "end_year = 2024 # end year of disturbance detection\n",
    "\n",
    "#Define endmembers for spectral mixture analysis.\n",
    "sma_endmembers = {\n",
    "            'gv':    [0.05, 0.09, 0.04, 0.61, 0.3, 0.1],\n",
    "            'shade': [0.0,  0.0,  0.0,  0.0,  0.0, 0.0],\n",
    "            'npv':   [0.14, 0.17, 0.22, 0.3,  0.55, 0.3],\n",
    "            'soil':  [0.2,  0.3,  0.34, 0.58, 0.6,  0.58],\n",
    "            'cloud': [0.9,  0.96, 0.8,  0.78, 0.72, 0.65],\n",
    "        }\n",
    "# Threshold of NDFI magnitude change (negative NDFI magnitude change)\n",
    "threshold = -0.1\n",
    "\n",
    "#Forest mask (If needed)\n",
    "forestMask = 'Your Forest Mask Asset'\n",
    "\n",
    "# Google Storage URL\n",
    "gs = 'gs://hasan_gee_export'\n",
    "\n",
    "# Earth Engine asses ID (Table ID) for training points\n",
    "training_sample = 'projects/ee-hasanresearch/assets/TrainingPoints_Ucayali2015'"
   ]
  },
  {
   "cell_type": "markdown",
   "id": "306c4d66-ae54-4cce-8d7f-6fa968d0e985",
   "metadata": {},
   "source": [
    "## Landsat-8 & 9 NDVI\n",
    "\n",
    "Downloading the Landsat data, masking clouds, computing the NDVI (Normalized Difference Vegetation Index), and extracting the highest NDVI value per pixel across the year. These processing steps are handled using Google Earth Engine. The results can be exported to your Google Storage bucket, or your Google Drive if you don't have access to a Google Storage bucket.\n",
    "\n",
    "### `landsat.‎export_landsat_ndvi`\n",
    "\n",
    "```\n",
    "landsat.export_landsat_ndvi(proj_dir, sitename, aoi_tiles, res, year, gs)\n",
    "```\n",
    "\n",
    "Paremeters:\n",
    "\n",
    "|Paremeters|Description|Required|Default|\n",
    "|----|----|----|----|\n",
    "|sitename|Site name|Yes||\n",
    "|aoi_tiles|AOI tiles prepared in the first notebook|Yes||\n",
    "|res|Resolution|Yes||\n",
    "|year|Year|Yes||\n",
    "|gs|Google Storage bucket URL gs://[your gs bucket]|No|None|"
   ]
  },
  {
   "cell_type": "code",
   "execution_count": null,
   "id": "502de725-57f0-48af-8da5-d3b75c80ca72",
   "metadata": {},
   "outputs": [],
   "source": [
    "landsat_tasks = landsat.export_landsat_ndvi(proj_dir, sitename, aoi_tiles, res, year, gs=None)"
   ]
  },
  {
   "cell_type": "code",
   "execution_count": null,
   "id": "42a1efa6-30d5-440b-a153-6a14c0370fc1",
   "metadata": {},
   "outputs": [],
   "source": [
    "for task in landsat_tasks:\n",
    "    status = task.status()\n",
    "    print(f\"{status['description']}: {status['state']}\")"
   ]
  },
  {
   "cell_type": "markdown",
   "id": "63713271-c921-4fbe-8d2e-e92216540719",
   "metadata": {},
   "source": [
    "# Landsat 8 & Landsat 9 NDFI\n",
    "\n",
    "Downloading the Landsat data, masking clouds, extracting the median, and computing the NDFI (Normalized Difference Fragment Index). These processing steps are handled using Google Earth Engine. The results can be exported to your Google Storage bucket, or your Google Drive if you don't have access to a Google Storage bucket.\n",
    "\n",
    "Reference for NDFI and SMA: https://doi.org/10.1016/j.rse.2005.07.013\n",
    "\n",
    "### `landsat.export_landsat_ndfi`\n",
    "\n",
    "```\n",
    "landsat.export_landsat_ndfi(proj_dir, sitename, tiles, res, year, sma_endmembers, gs=None)\n",
    "```\n",
    "\n",
    "Paremeters:\n",
    "\n",
    "|Paremeters|Description|Required|Default|\n",
    "|----|----|----|----|\n",
    "|sitename|Site name|Yes||\n",
    "|tiles|AOI tiles prepared in the first notebook|Yes||\n",
    "|res|Resolution|Yes||\n",
    "|year|Year|Yes||\n",
    "|sma_endmembers|Endmembers for Spectral Mixture Analysis|For other regions||\n",
    "|gs|Google Storage bucket URL gs://[your gs bucket]|No|None|\n"
   ]
  },
  {
   "cell_type": "markdown",
   "id": "601b95f9-10e6-4b59-9383-4513eaf3d6b8",
   "metadata": {},
   "source": [
    "sma_endmembers:\n",
    "\n",
    "|Endmember types|||||||\n",
    "|----|----|----|----|----|----|----|\n",
    "|gv|0.05| 0.09| 0.04| 0.61| 0.3| 0.1|\n",
    "|shade|0.0|  0.0|  0.0|  0.0|  0.0| 0.0|\n",
    "|npv|0.14| 0.17| 0.22| 0.3|  0.55|, 0.3|\n",
    "|soil|0.2|  0.3|  0.34| 0.58| 0.6|  0.58|\n",
    "|cloud|0.9|  0.96| 0.8|  0.78| 0.72| 0.65|"
   ]
  },
  {
   "cell_type": "code",
   "execution_count": 3,
   "id": "2da04931-337f-4934-8d1f-e8a082ee61bf",
   "metadata": {},
   "outputs": [],
   "source": [
    "ndfi_tasks = landsat.export_landsat_ndfi(proj_dir, sitename, tiles, res, year, sma_endmembers, gs=None)"
   ]
  },
  {
   "cell_type": "markdown",
   "id": "5403addd-b891-40f7-b093-9122c5329b4c",
   "metadata": {},
   "source": [
    "## Check GEE Task Status\n",
    "To check the GEE task status, you can either run the following cell or directly check on Earth Engine Task Manager: https://code.earthengine.google.com/tasks. You will need to wait until all task status shown as COMPLETED before downloading them to project directory."
   ]
  },
  {
   "cell_type": "code",
   "execution_count": 4,
   "id": "05d3eaa6-e521-41e1-859b-3706ed96627d",
   "metadata": {},
   "outputs": [],
   "source": [
    "for task in ndfi_tasks:\n",
    "    status = task.status()\n",
    "    print(f\"{status['description']}: {status['state']}\")"
   ]
  }
 ],
 "metadata": {
  "kernelspec": {
   "display_name": "vegmapper [conda env:.local-vegmapper]",
   "language": "python",
   "name": "conda-env-.local-vegmapper-py"
  },
  "language_info": {
   "codemirror_mode": {
    "name": "ipython",
    "version": 3
   },
   "file_extension": ".py",
   "mimetype": "text/x-python",
   "name": "python",
   "nbconvert_exporter": "python",
   "pygments_lexer": "ipython3",
   "version": "3.9.21"
  }
 },
 "nbformat": 4,
 "nbformat_minor": 5
}
