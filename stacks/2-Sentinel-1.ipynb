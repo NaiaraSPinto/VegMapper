{
 "cells": [
  {
   "cell_type": "markdown",
   "metadata": {},
   "source": [
    "# Sentinel-1"
   ]
  },
  {
   "cell_type": "code",
   "execution_count": null,
   "metadata": {},
   "outputs": [],
   "source": [
    "import geopandas as gpd\n",
    "import matplotlib.pyplot as plt\n",
    "import numpy as np\n",
    "import pandas as pd\n",
    "import rasterio\n",
    "\n",
    "import asf_search as asf\n",
    "from hyp3_sdk import HyP3\n",
    "\n",
    "from vegmapper import s1\n",
    "from vegmapper import pathurl"
   ]
  },
  {
   "cell_type": "markdown",
   "metadata": {},
   "source": [
    "## User Inputs"
   ]
  },
  {
   "cell_type": "code",
   "execution_count": null,
   "metadata": {},
   "outputs": [],
   "source": [
    "# Site name\n",
    "sitename = 'malaysia'\n",
    "\n",
    "# Project directory (S3 path or local path)\n",
    "# proj_dir = 's3://cropsamz/tests/malaysia'\n",
    "proj_dir = pathurl.ProjDir(f'{sitename}')\n",
    "\n",
    "# AOI file\n",
    "aoifile = f'{sitename}/peninsular_malaysia.geojson'\n",
    "\n",
    "# Start and end dates of interest\n",
    "start_date = '2021-01-01'\n",
    "end_date = '2021-02-01'"
   ]
  },
  {
   "cell_type": "code",
   "execution_count": null,
   "metadata": {},
   "outputs": [],
   "source": [
    "# Plot AOI\n",
    "gdf_aoi = gpd.read_file(aoifile)\n",
    "gdf_aoi.plot(figsize=(10, 10))"
   ]
  },
  {
   "cell_type": "markdown",
   "metadata": {
    "tags": [],
    "toc-hr-collapsed": true
   },
   "source": [
    "## Granule Search\n",
    "\n",
    "ASF DAAC uses *granules* and *scenes* interchangeably to refer to a Sentinel-1 product temporally and geographically, whereas *frames* are used to refer to the geolocation only for a Sentinel-1 product. The naming convention for a Sentinel-1 granule can be found [here](https://asf.alaska.edu/data-sets/sar-data-sets/sentinel-1/sentinel-1-data-and-imagery/). Each *frame* can be uniquely identified by a pair of *path* and *frame* numbers. In this section, we will search for Sentinel-1 granules that intersect with AOI and were acquired between the start and end dates.\n",
    "\n",
    "### `s1.search_granules`\n",
    "\n",
    "```\n",
    "s1.search_granules(sitename, aoifile, start_date, end_date, skim=True, **search_opts)\n",
    "```\n",
    "\n",
    "Paremeters:\n",
    "\n",
    "|Paremeters||Description||Required||Default|\n",
    "|----||----||----||----|\n",
    "|`sitename`||Site name||Yes|||\n",
    "|`aoifile`||AOI file in vector-based spatial data format (shapefile, GeoJSON, ...)||Yes|||\n",
    "|`start_date`||Start date (YYYY-MM-DD)||Yes|||\n",
    "|`end_date`||End date (YYYY-MM-DD)||Yes|||\n",
    "|`skim`||Skim the search results so only the frames that just cover the AOI are retained||No||True|\n",
    "|`search_opts`||Search options for ASF Python module (asf_search). See [here](https://docs.asf.alaska.edu/asf_search/searching/).||No||True|\n",
    "\n",
    "Returns:\n",
    "\n",
    "|Returns||Description|\n",
    "|----||----|\n",
    "|`gdf_granules`||A GeoDataFrame containing all searched granules along with their detailed properties|\n",
    "|`gdf_frames`||A GeoDataFrame of `gdf_granules` grouped by frames.|"
   ]
  },
  {
   "cell_type": "code",
   "execution_count": null,
   "metadata": {},
   "outputs": [],
   "source": [
    "# Here we search for Sentinel-1 Ground Range Detected (GRD) High Resolution (HD) products acquired with Interferometric Wide (IW) beam mode and both VV and VH polarizations.\n",
    "search_opts = {\n",
    "    'platform': asf.PLATFORM.SENTINEL1,\n",
    "    'processingLevel': asf.PRODUCT_TYPE.GRD_HD,\n",
    "    'beamMode': asf.BEAMMODE.IW,\n",
    "    'polarization': asf.POLARIZATION.VV_VH,\n",
    "}\n",
    "gdf_granules, gdf_frames = s1.search_granules(sitename, aoifile, start_date, end_date, skim=True, **search_opts)"
   ]
  },
  {
   "cell_type": "code",
   "execution_count": null,
   "metadata": {},
   "outputs": [],
   "source": [
    "gdf_granules.info()"
   ]
  },
  {
   "cell_type": "code",
   "execution_count": null,
   "metadata": {},
   "outputs": [],
   "source": [
    "gdf_frames"
   ]
  },
  {
   "cell_type": "code",
   "execution_count": null,
   "metadata": {},
   "outputs": [],
   "source": [
    "# Plot search results\n",
    "ax = gdf_aoi.plot(figsize=(10, 10))\n",
    "gdf_granules.boundary.plot(ax=ax, color='red')"
   ]
  },
  {
   "cell_type": "markdown",
   "metadata": {
    "tags": []
   },
   "source": [
    "## Radiometric Terrain Correction (RTC)\n",
    "\n",
    "For the initial processing of the Sentinel-1 granules, we make use of ASF's HyP3 API. Information about the specifics of this processing can be found in the [HyP3 documentation](https://hyp3-docs.asf.alaska.edu/). `s1_submit_hyp3_jobs.py` will submit the granules chosen in the previous step to the HyP3 API for processing. The processed granules will be saved in the following directory structure, as .zip files.\n",
    "\n",
    "### `s1.submit_hyp3_jobs`\n",
    "\n",
    "```\n",
    "s1.submit_hyp3_jobs(granules, hyp3=None, proj_dir=None, **rtc_opts)\n",
    "```\n",
    "\n",
    "|Parameters|Description|Required|Default|\n",
    "|----|----|----|----|\n",
    "|`granules`|GeoJSON file or gdf_granules|Yes||\n",
    "|`hyp3`|HyP3 API.|No|None|\n",
    "|`proj_dir`|Project directory|No|None|\n",
    "|`rtc_opts`|RTC processing options|No|None|"
   ]
  },
  {
   "cell_type": "code",
   "execution_count": null,
   "metadata": {},
   "outputs": [],
   "source": [
    "hyp3 = HyP3(prompt=True)"
   ]
  },
  {
   "cell_type": "code",
   "execution_count": null,
   "metadata": {},
   "outputs": [],
   "source": [
    "# RTC processing options (https://hyp3-docs.asf.alaska.edu/using/sdk_api/#hyp3_sdk.hyp3.HyP3.submit_rtc_job)\n",
    "rtc_opts = {\n",
    "    'dem_matching': True,\n",
    "    'dem_name': 'copernicus',\n",
    "    'include_dem': False,\n",
    "    'include_inc_map': True,\n",
    "    'include_rgb': False,\n",
    "    'include_scattering_area': False,\n",
    "    'radiometry': 'gamma0',\n",
    "    'resolution': 30,\n",
    "    'scale': 'power',\n",
    "    'speckle_filter': False,\n",
    "}\n",
    "batch = s1.submit_rtc_jobs(gdf_granules, proj_dir, hyp3, resubmit=False, **rtc_opts)"
   ]
  },
  {
   "cell_type": "code",
   "execution_count": null,
   "metadata": {},
   "outputs": [],
   "source": [
    "batch = hyp3.find_jobs().filter_jobs(include_expired=False)\n",
    "s1.download_files(batch, download_dir='hyp3_downloads')"
   ]
  },
  {
   "cell_type": "code",
   "execution_count": null,
   "metadata": {},
   "outputs": [],
   "source": [
    "s1.copy_files(proj_dir, download_dir='hyp3_downloads')"
   ]
  },
  {
   "cell_type": "markdown",
   "metadata": {},
   "source": [
    "## Temporal Statistics\n",
    "\n",
    "### `s1.s1_proc`\n",
    "\n",
    "The final processing step involves calculating the temporal mean for the Sentinel-1 granules and removing left/right (cross-track) edge pixels where border noise is prominent. `s1_proc.py` handles this final processing step. Two helper scripts in the Sentinel directory are used: `s1_build_vrt.py` and `calc_vrt_stats.py` for the calculating the temporal mean, and `remove_edges.py` for removing edge pixels. The results will be stored in the following directory structure, as .tif and .vrt files:\n",
    "```\n",
    "        proj_dir\n",
    "           └──sentinel_1\n",
    "               └──<year>\n",
    "                   └──<path_frame>\n",
    "```\n",
    "\n",
    "##### Usage\n",
    "\n",
    "```\n",
    "s1_proc(proj_dir, year, m1, m2, path_frame=None)\n",
    "```\n",
    "\n",
    "|Arguments||Description||Required||Default|\n",
    "|----||----||----||----|\n",
    "|`path_frame`||If specified, only granules matching `path_frame` will be processed.||No||all path_frames under srcpath/year will be processed|\n",
    "|`m1`||If specified, only granules with acquisition month >= `m1` will be included in VRT||No||None|\n",
    "|`m2`||If specified, only granules with acquisition month <= `m2` will be included in VRT||No||None|\n",
    "|`proj_dir`||Your project directory (see [section 3](#3.-Set-up-project-directory)).||Yes||None|\n",
    "|`year`||year of Sentinel-1 dataset||Yes||None|\n",
    "\n",
    "##### Notes\n",
    "\n",
    "* The processing will be slow if `proj_dir` is on AWS S3 or GCS because it requires heavy network I/O between the cloud and your local machine. If `proj_dir` is on AWS S3, it is strongly recommended that you run the processing on AWS EC2."
   ]
  },
  {
   "cell_type": "markdown",
   "metadata": {},
   "source": [
    "Perform the final processing step for our Sentinel-1 granules by running the cell below:"
   ]
  },
  {
   "cell_type": "code",
   "execution_count": null,
   "metadata": {},
   "outputs": [],
   "source": [
    "df = pd.read_csv('/home/jovyan/notebooks/VegMapper/projects/malaysia/Sentinel-1/rtc_products.csv')\n",
    "df.info()"
   ]
  },
  {
   "cell_type": "code",
   "execution_count": null,
   "metadata": {},
   "outputs": [],
   "source": [
    "s1.build_vrt(proj_dir, start_date, end_date, 'VV')"
   ]
  },
  {
   "cell_type": "code",
   "execution_count": null,
   "metadata": {},
   "outputs": [],
   "source": [
    "!calc_vrt_stats.py /home/jovyan/notebooks/VegMapper/projects/malaysia/Sentinel-1/70_1187/2021-01-01_2021-02-01/VV.vrt mean"
   ]
  },
  {
   "cell_type": "code",
   "execution_count": null,
   "metadata": {},
   "outputs": [],
   "source": [
    "with rasterio.open('/home/jovyan/notebooks/VegMapper/projects/malaysia/Sentinel-1/70_1187/2021-01-01_2021-02-01/VV_mean.tif') as dset:\n",
    "    VV = dset.read(1)\n",
    "VV[VV == 0] = np.nan\n",
    "plt.imshow(VV, vmin=0, vmax=0.5)"
   ]
  },
  {
   "cell_type": "code",
   "execution_count": null,
   "metadata": {},
   "outputs": [],
   "source": [
    "plt.imshow(VV[1750:2000, 0:200], vmin=0, vmax=0.5)"
   ]
  }
 ],
 "metadata": {
  "kernelspec": {
   "display_name": "Python 3.9.13 ('vegmapper')",
   "language": "python",
   "name": "python3"
  },
  "language_info": {
   "codemirror_mode": {
    "name": "ipython",
    "version": 3
   },
   "file_extension": ".py",
   "mimetype": "text/x-python",
   "name": "python",
   "nbconvert_exporter": "python",
   "pygments_lexer": "ipython3",
   "version": "3.9.13"
  },
  "toc-autonumbering": false,
  "toc-showcode": false,
  "toc-showmarkdowntxt": false,
  "toc-showtags": false,
  "vscode": {
   "interpreter": {
    "hash": "b1e8243030fc511ae1b16ddffba3e1d78372c0ed2fddc8425e5d593306b1165d"
   }
  }
 },
 "nbformat": 4,
 "nbformat_minor": 4
}
