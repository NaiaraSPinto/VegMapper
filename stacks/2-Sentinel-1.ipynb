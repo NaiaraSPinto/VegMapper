{
 "cells": [
  {
   "cell_type": "markdown",
   "metadata": {},
   "source": [
    "# Sentinel-1"
   ]
  },
  {
   "cell_type": "code",
   "execution_count": null,
   "metadata": {},
   "outputs": [],
   "source": [
    "import geopandas as gpd\n",
    "import matplotlib.pyplot as plt\n",
    "import numpy as np\n",
    "import pandas as pd\n",
    "import rasterio\n",
    "\n",
    "import asf_search as asf\n",
    "from hyp3_sdk import HyP3\n",
    "\n",
    "from vegmapper import s1\n",
    "from vegmapper import pathurl"
   ]
  },
  {
   "cell_type": "markdown",
   "metadata": {},
   "source": [
    "## User Inputs"
   ]
  },
  {
   "cell_type": "code",
   "execution_count": null,
   "metadata": {},
   "outputs": [],
   "source": [
    "# Site name\n",
    "sitename = 'ucayali'\n",
    "\n",
    "# Project directory (local path or cloud bucket URL)\n",
    "proj_dir = sitename\n",
    "\n",
    "# Convert to a ProjDir object, which works like a pathlib.Path object\n",
    "proj_dir = pathurl.ProjDir(proj_dir)\n",
    "\n",
    "# AOI file\n",
    "aoifile = f'{proj_dir}/ucayali_boundary.geojson'\n",
    "\n",
    "# Start and end dates of interest\n",
    "start_date = '2021-01-01'\n",
    "end_date = '2021-12-31'"
   ]
  },
  {
   "cell_type": "markdown",
   "metadata": {},
   "source": [
    "1. [Granule Search](#1.-Granule-Search)\n",
    "2. [Radiometric Terrain Correction (RTC)](#2.-Radiometric-Terrain-Correction-(RTC))\n",
    "3. [Post-Processing](#3.-Post-Processing)\n",
    "    - [Get RTC products](#Get-RTC-products)\n",
    "    - [Build VRTs](#Build-VRTs)\n",
    "    - [Calculate temporal mean](#Calculate-temporal-mean)\n",
    "    - [Remove edges](#Remove-edges)"
   ]
  },
  {
   "cell_type": "code",
   "execution_count": null,
   "metadata": {},
   "outputs": [],
   "source": [
    "# Plot AOI\n",
    "gdf_aoi = gpd.read_file(aoifile)\n",
    "gdf_aoi.plot(figsize=(10, 10))"
   ]
  },
  {
   "cell_type": "markdown",
   "metadata": {
    "tags": [],
    "toc-hr-collapsed": true
   },
   "source": [
    "## 1. Granule Search\n",
    "\n",
    "ASF DAAC uses *granules* and *scenes* interchangeably to refer to a Sentinel-1 product temporally and geographically, whereas *frames* are used to refer to the geolocation only for a Sentinel-1 product. The naming convention for a Sentinel-1 granule can be found [here](https://asf.alaska.edu/data-sets/sar-data-sets/sentinel-1/sentinel-1-data-and-imagery/). Each *frame* can be uniquely identified by a pair of *path* and *frame* numbers. In this section, we will search for Sentinel-1 granules that intersect with AOI and were acquired between the start and end dates.\n",
    "\n",
    "### `s1.search_granules`\n",
    "\n",
    "```\n",
    "s1.search_granules(sitename, aoifile, start_date, end_date, skim=True, **search_opts)\n",
    "```\n",
    "\n",
    "Paremeters:\n",
    "\n",
    "|Paremeters||Description||Required||Default|\n",
    "|----||----||----||----|\n",
    "|`sitename`||Site name||Yes|||\n",
    "|`aoifile`||AOI file in vector-based spatial data format (shapefile, GeoJSON, ...)||Yes|||\n",
    "|`start_date`||Start date (YYYY-MM-DD)||Yes|||\n",
    "|`end_date`||End date (YYYY-MM-DD)||Yes|||\n",
    "|`skim`||Skim the search results so only the frames that just cover the AOI are retained||No||True|\n",
    "|`search_opts`||Search options for ASF Python module (asf_search). See [here](https://docs.asf.alaska.edu/asf_search/searching/).||No||True|\n",
    "\n",
    "Returns:\n",
    "\n",
    "|Returns||Description|\n",
    "|----||----|\n",
    "|`gdf_granules`||A GeoDataFrame containing all searched granules along with their detailed properties|\n",
    "|`gdf_frames`||A GeoDataFrame of `gdf_granules` grouped by frames.|"
   ]
  },
  {
   "cell_type": "code",
   "execution_count": null,
   "metadata": {},
   "outputs": [],
   "source": [
    "# Here we search for Sentinel-1 Ground Range Detected (GRD) High Resolution (HD) products acquired with Interferometric Wide (IW) beam mode and both VV and VH polarizations.\n",
    "search_opts = {\n",
    "    'platform': asf.PLATFORM.SENTINEL1,\n",
    "    'processingLevel': asf.PRODUCT_TYPE.GRD_HD,\n",
    "    'beamMode': asf.BEAMMODE.IW,\n",
    "    'polarization': asf.POLARIZATION.VV_VH,\n",
    "}\n",
    "gdf_granules, gdf_frames = s1.search_granules(sitename, aoifile, start_date, end_date, skim=True, **search_opts)"
   ]
  },
  {
   "cell_type": "code",
   "execution_count": null,
   "metadata": {},
   "outputs": [],
   "source": [
    "gdf_granules"
   ]
  },
  {
   "cell_type": "code",
   "execution_count": null,
   "metadata": {},
   "outputs": [],
   "source": [
    "gdf_frames"
   ]
  },
  {
   "cell_type": "code",
   "execution_count": null,
   "metadata": {},
   "outputs": [],
   "source": [
    "# Plot search results\n",
    "ax = gdf_aoi.plot(figsize=(10, 10))\n",
    "gdf_granules.boundary.plot(ax=ax, color='red')"
   ]
  },
  {
   "cell_type": "markdown",
   "metadata": {
    "tags": []
   },
   "source": [
    "## 2. Radiometric Terrain Correction (RTC)\n",
    "\n",
    "For the initial processing of the Sentinel-1 granules, we make use of ASF's HyP3 API. Information about the specifics of this processing can be found in the [HyP3 documentation](https://hyp3-docs.asf.alaska.edu/). `s1_submit_hyp3_jobs.py` will submit the granules chosen in the previous step to the HyP3 API for processing. The processed granules will be saved in the following directory structure, as .zip files.\n",
    "\n",
    "### `s1.submit_hyp3_jobs`\n",
    "\n",
    "```\n",
    "s1.submit_hyp3_jobs(granules, hyp3=None, proj_dir=None, **rtc_opts)\n",
    "```\n",
    "\n",
    "|Parameters|Description|Required|Default|\n",
    "|----|----|----|----|\n",
    "|`granules`|GeoJSON file or gdf_granules|Yes||\n",
    "|`hyp3`|HyP3 API.|No|None|\n",
    "|`proj_dir`|Project directory|No|None|\n",
    "|`rtc_opts`|RTC processing options|No|None|"
   ]
  },
  {
   "cell_type": "code",
   "execution_count": null,
   "metadata": {},
   "outputs": [],
   "source": [
    "hyp3 = HyP3(prompt=True)"
   ]
  },
  {
   "cell_type": "code",
   "execution_count": null,
   "metadata": {},
   "outputs": [],
   "source": [
    "# RTC processing options (https://hyp3-docs.asf.alaska.edu/using/sdk_api/#hyp3_sdk.hyp3.HyP3.submit_rtc_job)\n",
    "rtc_opts = {\n",
    "    'dem_matching': True,\n",
    "    'dem_name': 'copernicus',\n",
    "    'include_dem': False,\n",
    "    'include_inc_map': True,\n",
    "    'include_rgb': False,\n",
    "    'include_scattering_area': False,\n",
    "    'radiometry': 'gamma0',\n",
    "    'resolution': 30,\n",
    "    'scale': 'power',\n",
    "    'speckle_filter': False,\n",
    "}\n",
    "batch = s1.submit_rtc_jobs(gdf_granules, proj_dir, hyp3, resubmit=False, **rtc_opts)"
   ]
  },
  {
   "cell_type": "markdown",
   "metadata": {},
   "source": [
    "Check if all jobs in the batch are complete:"
   ]
  },
  {
   "cell_type": "code",
   "execution_count": null,
   "metadata": {},
   "outputs": [],
   "source": [
    "batch.complete()"
   ]
  },
  {
   "cell_type": "markdown",
   "metadata": {},
   "source": [
    "Download the completed RTC products:"
   ]
  },
  {
   "cell_type": "code",
   "execution_count": null,
   "metadata": {},
   "outputs": [],
   "source": [
    "s1.download_files(batch, download_dir='hyp3_downloads')"
   ]
  },
  {
   "cell_type": "markdown",
   "metadata": {},
   "source": [
    "Copy the downloaded files to `proj_dir`"
   ]
  },
  {
   "cell_type": "code",
   "execution_count": null,
   "metadata": {},
   "outputs": [],
   "source": [
    "s1.copy_files(proj_dir, download_dir='hyp3_downloads')"
   ]
  },
  {
   "cell_type": "markdown",
   "metadata": {},
   "source": [
    "## 3. Post-Processing\n",
    "\n",
    "The post-processing of RTC products involves the following steps:\n",
    "- [Get RTC products](#Get-RTC-products)\n",
    "- [Build VRTs](#Build-VRTs)\n",
    "- [Calculate temporal mean](#Calculate-temporal-mean)\n",
    "- [Remove edges](#Remove-edges)\n",
    "\n",
    "The dictionary `s1_proc` below contains the processing parameters and will be updated as we go through each step.\n",
    "\n",
    "|Parameters|Description|Format|\n",
    "|----|----|----|\n",
    "|`s1_dir`|The Sentinel-1 directory under `proj_dir`|prod_dir / dirname|\n",
    "|`start_date`|Start date|YYYY-MM-DD|\n",
    "|`end_date`|End date|YYYY-MM-DD|\n",
    "|`frames`|Frames to be processed|path_frame|\n",
    "\n",
    "Note that `start_date` and `end_date` can be different than the ones you used when requesting RTC products. This gives you the flexibility if you want a different time period for your study."
   ]
  },
  {
   "cell_type": "code",
   "execution_count": null,
   "metadata": {},
   "outputs": [],
   "source": [
    "s1_proc = {\n",
    "    's1_dir': proj_dir / 'Sentinel-1',\n",
    "    'start_date': start_date,\n",
    "    'end_date': end_date,\n",
    "    'frames': None,\n",
    "}"
   ]
  },
  {
   "cell_type": "markdown",
   "metadata": {},
   "source": [
    "### Get RTC products\n",
    "\n",
    "`s1.get_rtc_products`\n",
    "\n",
    "```\n",
    "s1.get_rtc_products(s1_proc)\n",
    "```\n",
    "\n",
    "Gets RTC products under `s1_dir` using `start_date`, `end_date`, and `frames` in `s1_proc` as search criteria."
   ]
  },
  {
   "cell_type": "code",
   "execution_count": null,
   "metadata": {},
   "outputs": [],
   "source": [
    "s1.get_rtc_products(s1_proc)"
   ]
  },
  {
   "cell_type": "markdown",
   "metadata": {},
   "source": [
    "The paths of RTC products are now added to `s1_proc`"
   ]
  },
  {
   "cell_type": "code",
   "execution_count": null,
   "metadata": {},
   "outputs": [],
   "source": [
    "s1_proc['frames']"
   ]
  },
  {
   "cell_type": "markdown",
   "metadata": {},
   "source": [
    "### Build VRTs\n",
    "\n",
    "`s1.build_vrt`\n",
    "\n",
    "```\n",
    "s1.build_vrt(s1_proc)\n",
    "```\n",
    "\n",
    "Builts VRTs to include all the RTC products in `s1_proc` for each frame. The data layers include:\n",
    "- VV\n",
    "- VH\n",
    "- INC (incidence angle)\n",
    "- LS (layover and shadow)"
   ]
  },
  {
   "cell_type": "code",
   "execution_count": null,
   "metadata": {},
   "outputs": [],
   "source": [
    "s1.build_vrt(s1_proc)"
   ]
  },
  {
   "cell_type": "code",
   "execution_count": null,
   "metadata": {},
   "outputs": [],
   "source": [
    "path_frame = list(s1_proc['frames'].keys())[0]\n",
    "s1_proc['frames'][path_frame]['VV']"
   ]
  },
  {
   "cell_type": "markdown",
   "metadata": {
    "tags": []
   },
   "source": [
    "### Calculate temporal mean\n",
    "\n",
    "`s1.calc_temporal_mean`\n",
    "\n",
    "```\n",
    "s1.calc_temporal_mean(s1_proc)\n",
    "```\n",
    "\n",
    "Calculates temporal mean for each VRT in `s1_proc`."
   ]
  },
  {
   "cell_type": "code",
   "execution_count": null,
   "metadata": {},
   "outputs": [],
   "source": [
    "s1.calc_temporal_mean(s1_proc)"
   ]
  },
  {
   "cell_type": "code",
   "execution_count": null,
   "metadata": {},
   "outputs": [],
   "source": [
    "s1_proc['frames'][path_frame]"
   ]
  },
  {
   "cell_type": "code",
   "execution_count": null,
   "metadata": {},
   "outputs": [],
   "source": [
    "with rasterio.open(s1_proc['frames'][path_frame]['VV']['mean'].path) as dset:\n",
    "    VV = dset.read(1)\n",
    "VV[VV == 0] = np.nan"
   ]
  },
  {
   "cell_type": "code",
   "execution_count": null,
   "metadata": {},
   "outputs": [],
   "source": [
    "plt.rcParams['font.size'] = 18\n",
    "plt.rcParams['figure.figsize'] = [8, 6]\n",
    "plt.imshow(VV, vmin=0, vmax=0.5, cmap='Greys')"
   ]
  },
  {
   "cell_type": "markdown",
   "metadata": {},
   "source": [
    "The artifacts at the left and right edges of Sentinel-1 VV/VH rasters are obvious and need to be removed."
   ]
  },
  {
   "cell_type": "code",
   "execution_count": null,
   "metadata": {},
   "outputs": [],
   "source": [
    "plt.imshow(VV[1750:2000, 0:400], vmin=0, vmax=0.5, cmap='Greys')"
   ]
  },
  {
   "cell_type": "markdown",
   "metadata": {
    "tags": []
   },
   "source": [
    "### Remove edges\n",
    "\n",
    "`s1.remove_edges`\n",
    "\n",
    "```\n",
    "s1.remove_edges(s1_proc)\n",
    "```\n",
    "\n",
    "Remove left and right edges of the temporal mean rasters."
   ]
  },
  {
   "cell_type": "code",
   "execution_count": null,
   "metadata": {},
   "outputs": [],
   "source": [
    "s1.remove_edges(s1_proc)"
   ]
  },
  {
   "cell_type": "code",
   "execution_count": null,
   "metadata": {},
   "outputs": [],
   "source": [
    "with rasterio.open(s1_proc['frames'][path_frame]['VV']['mean'].path) as dset:\n",
    "    VV = dset.read(1)\n",
    "VV[VV == 0] = np.nan\n",
    "plt.imshow(VV[1750:2000, 0:400], vmin=0, vmax=0.5, cmap='Greys')"
   ]
  },
  {
   "cell_type": "code",
   "execution_count": null,
   "metadata": {},
   "outputs": [],
   "source": []
  }
 ],
 "metadata": {
  "kernelspec": {
   "display_name": "Python 3 (ipykernel)",
   "language": "python",
   "name": "python3"
  },
  "language_info": {
   "codemirror_mode": {
    "name": "ipython",
    "version": 3
   },
   "file_extension": ".py",
   "mimetype": "text/x-python",
   "name": "python",
   "nbconvert_exporter": "python",
   "pygments_lexer": "ipython3",
   "version": "3.9.13"
  },
  "toc-autonumbering": false,
  "toc-showcode": false,
  "toc-showmarkdowntxt": false,
  "toc-showtags": false,
  "vscode": {
   "interpreter": {
    "hash": "b1e8243030fc511ae1b16ddffba3e1d78372c0ed2fddc8425e5d593306b1165d"
   }
  }
 },
 "nbformat": 4,
 "nbformat_minor": 4
}
