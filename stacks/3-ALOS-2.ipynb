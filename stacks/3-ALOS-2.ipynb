{
 "cells": [
  {
   "cell_type": "markdown",
   "id": "cda79096-6616-4bcd-b5cd-eb9a45c8ae08",
   "metadata": {},
   "source": [
    "# ALOS-2\n",
    "\n",
    "Downloading ALOS-2 mosaic and applying Enhanced Lee filter.\n",
    "\n",
    "https://www.eorc.jaxa.jp/ALOS/en/dataset/fnf_e.htm"
   ]
  },
  {
   "cell_type": "code",
   "execution_count": null,
   "id": "b47c914a-fad3-40e8-ad5b-31d200b72fc6",
   "metadata": {},
   "outputs": [],
   "source": [
    "import subprocess\n",
    "from pathlib import Path\n",
    "\n",
    "import geopandas as gpd\n",
    "import matplotlib.pyplot as plt\n",
    "import rasterio\n",
    "\n",
    "from vegmapper import alos2\n",
    "from vegmapper import pathurl\n",
    "\n",
    "plt.rcParams['font.size'] = 18\n",
    "plt.rcParams['figure.figsize'] = [16, 12]"
   ]
  },
  {
   "cell_type": "markdown",
   "id": "d0f498b8-0f12-454b-9242-26bcb4c2a595",
   "metadata": {},
   "source": [
    "## User Inputs"
   ]
  },
  {
   "cell_type": "code",
   "execution_count": null,
   "id": "7e27dce5-5ccb-49bf-a67f-7f9d25c74dee",
   "metadata": {},
   "outputs": [],
   "source": [
    "# Site name\n",
    "sitename = 'ucayali'\n",
    "\n",
    "# Project directory (local path or cloud bucket URL)\n",
    "proj_dir = sitename\n",
    "\n",
    "# AOI file\n",
    "aoifile = f'{proj_dir}/ucayali_boundary.geojson'\n",
    "\n",
    "# Reference tiles\n",
    "tiles = f'{proj_dir}/{sitename}_tiles.geojson'\n",
    "\n",
    "# Year of interest\n",
    "year = 2020"
   ]
  },
  {
   "cell_type": "markdown",
   "id": "bd30b06c-78b2-4b35-8c3d-07ada5dbe4b8",
   "metadata": {},
   "source": [
    "## Download ALOS/ALOS-2 Mosaic Tiles\n",
    "\n",
    "### `alos2.download_tiles`\n",
    "\n",
    "```\n",
    "alos2.download_tiles(proj_dir, aoifile, year, quiet=True)\n",
    "```\n",
    "\n",
    "Paremeters:\n",
    "\n",
    "|Paremeters|Description|Required|Default|\n",
    "|----|----|----|----|\n",
    "|proj_dir|Project directory|Yes||\n",
    "|aoifile|AOI file in vector-based spatial data format (shapefile, GeoJSON, ...)|Yes||\n",
    "|year|Year|Yes||\n",
    "|quiet|Turn off wget's output.|No|True|"
   ]
  },
  {
   "cell_type": "code",
   "execution_count": null,
   "id": "0709063e-ff21-4b89-af90-5632eb088941",
   "metadata": {
    "tags": []
   },
   "outputs": [],
   "source": [
    "alos2.download_tiles(proj_dir, aoifile, year)"
   ]
  },
  {
   "cell_type": "markdown",
   "id": "f046fddb-5318-4ff4-b0ab-1f0aa98cb22b",
   "metadata": {},
   "source": [
    "## Process ALOS/ALOS-2 Mosaic Tiles\n",
    "\n",
    "### `alos2.proc_tiles`\n",
    "\n",
    "```\n",
    "alos2.proc_tiles(proj_dir, year, filter_win_size=5, filter_num_looks=1)\n",
    "```\n",
    "\n",
    "Paremeters:\n",
    "\n",
    "|Paremeters|Description|Required|Default|\n",
    "|----|----|----|----|\n",
    "|proj_dir|Project directory|Yes||\n",
    "|year|Year|Yes||\n",
    "|filter_win_size|Window size of Enhanced Lee filter|No|5|\n",
    "|filter_num_looks|Number of looks used in Enhanced Lee filter|No|1|"
   ]
  },
  {
   "cell_type": "code",
   "execution_count": null,
   "id": "b0f60958-95db-42a1-b446-0bcfd4ea29c7",
   "metadata": {},
   "outputs": [],
   "source": [
    "alos2.proc_tiles(proj_dir, year)"
   ]
  },
  {
   "cell_type": "code",
   "execution_count": null,
   "id": "8c5c1352-0620-4967-a3d7-64df41aef450",
   "metadata": {},
   "outputs": [],
   "source": [
    "# Read and display HH\n",
    "with rasterio.open(f'{proj_dir}/ALOS-2/mosaic/{year}/alos2_mosaic_{year}_HH.vrt') as dset:\n",
    "    HH = dset.read(1)\n",
    "plt.imshow(HH, vmin=0, vmax=0.5, cmap='Greys')"
   ]
  },
  {
   "cell_type": "markdown",
   "id": "4e97d000-3a95-42c5-9518-a358b9d8c2d1",
   "metadata": {},
   "source": [
    "## Fill the gaps with data of prior years\n",
    "As shown above that ALOS-2 Mosaic data may have gaps where no data were acquired, we will use the data of prior years to fill these gaps."
   ]
  },
  {
   "cell_type": "code",
   "execution_count": null,
   "id": "115fa94e-28d3-49b8-bc89-72294edd7e3a",
   "metadata": {},
   "outputs": [],
   "source": [
    "alos2.download_tiles(proj_dir, aoifile, 2019)"
   ]
  },
  {
   "cell_type": "code",
   "execution_count": null,
   "id": "04ef4414-46fe-464e-a1bf-3c2e443ca56e",
   "metadata": {},
   "outputs": [],
   "source": [
    "alos2.proc_tiles(proj_dir, 2019)"
   ]
  },
  {
   "cell_type": "code",
   "execution_count": null,
   "id": "53085f56-ca6d-4e17-8d71-840d2c3190b0",
   "metadata": {},
   "outputs": [],
   "source": [
    "# Read and display HH of year 2019\n",
    "year = 2019\n",
    "with rasterio.open(f'{proj_dir}/ALOS-2/mosaic/{year}/alos2_mosaic_{year}_HH.vrt') as dset:\n",
    "    HH = dset.read(1)\n",
    "plt.imshow(HH, vmin=0, vmax=0.5, cmap='Greys')"
   ]
  },
  {
   "cell_type": "markdown",
   "id": "2b750594-8262-45bb-a747-444c4a82620e",
   "metadata": {},
   "source": [
    "With ALOS-2 Mosaic data of both 2020 and 2019, we virtually merge them into one virtual raster (VRT) by running the cell below. The 2020 data will take precedence over the 2019 data (by placing 2020 VRT file at the end of the list for gdalbuildvrt program)."
   ]
  },
  {
   "cell_type": "code",
   "execution_count": null,
   "id": "baae8509-845f-4b72-b929-96761421a404",
   "metadata": {},
   "outputs": [],
   "source": [
    "for layer in ['HH', 'HV', 'INC']:\n",
    "    vrt_2019 = f'{proj_dir}/ALOS-2/mosaic/2019/alos2_mosaic_2019_{layer}.vrt'\n",
    "    vrt_2020 = f'{proj_dir}/ALOS-2/mosaic/2020/alos2_mosaic_2020_{layer}.vrt'\n",
    "    vrt_combined = f'{proj_dir}/ALOS-2/mosaic/alos2_mosaic_2020-2019_{layer}.vrt'\n",
    "    !gdalbuildvrt -overwrite -srcnodata nan -vrtnodata nan $vrt_combined $vrt_2019 $vrt_2020"
   ]
  },
  {
   "cell_type": "code",
   "execution_count": null,
   "id": "fbc9e254-d6c9-40f1-ab99-1f026bac4369",
   "metadata": {},
   "outputs": [],
   "source": [
    "with rasterio.open(f'{proj_dir}/ALOS-2/mosaic/alos2_mosaic_2020-2019_HH.vrt') as dset:\n",
    "    HH = dset.read(1)\n",
    "plt.imshow(HH, vmin=0, vmax=0.5, cmap='Greys')"
   ]
  },
  {
   "cell_type": "markdown",
   "id": "16f08241-cc66-46d3-ba5b-ae1c658a5441",
   "metadata": {},
   "source": [
    "## Warp to reference tiles virtually"
   ]
  },
  {
   "cell_type": "code",
   "execution_count": null,
   "id": "d1294080-030b-44b5-8ecb-555500d2e2f2",
   "metadata": {},
   "outputs": [],
   "source": [
    "gdf_tiles = gpd.read_file(tiles)\n",
    "t_epsg = gdf_tiles.crs.to_epsg()\n",
    "for i in gdf_tiles.index:\n",
    "    h = gdf_tiles['h'][i]\n",
    "    v = gdf_tiles['v'][i]\n",
    "    m = gdf_tiles['mask'][i]\n",
    "    g = gdf_tiles['geometry'][i]\n",
    "\n",
    "    if m == 0:\n",
    "        continue\n",
    "    \n",
    "    for var in ['HH', 'HV', 'INC']:\n",
    "        src_vrt = f'{proj_dir}/ALOS-2/mosaic/alos2_mosaic_2020-2019_{var}.vrt'\n",
    "        dst_vrt = f'{proj_dir}/ALOS-2/mosaic/L-{var}-2020-2019-h{h}v{v}.vrt'\n",
    "        cmd = (f'gdalwarp -overwrite '\n",
    "               f'-t_srs EPSG:{t_epsg} -et 0 '\n",
    "               f'-te {g.bounds[0]} {g.bounds[1]} {g.bounds[2]} {g.bounds[3]} '\n",
    "               f'-tr 30 30 '\n",
    "               f'-ot Float32 -wt Float32 '\n",
    "               f'-dstnodata nan '\n",
    "               f'-r average '\n",
    "               f'-co COMPRESS=LZW '\n",
    "               f'{src_vrt} {dst_vrt}')\n",
    "        subprocess.check_call(cmd, shell=True)"
   ]
  },
  {
   "cell_type": "code",
   "execution_count": null,
   "id": "603d51d6-9404-417c-8455-00f7d20159de",
   "metadata": {},
   "outputs": [],
   "source": [
    "with rasterio.open(f'{proj_dir}/ALOS-2/mosaic/L-HH-2020-2019-h1v1.vrt') as dset:\n",
    "    HH = dset.read(1)\n",
    "plt.imshow(HH, vmin=0, vmax=0.5, cmap='Greys')"
   ]
  },
  {
   "cell_type": "markdown",
   "id": "23e2da6f-7f73-453f-ab37-01dcc58aeb4f",
   "metadata": {},
   "source": [
    "## Download ALOS-2 FBD data from SERVIR GS bucket (OPTIONAL)"
   ]
  },
  {
   "cell_type": "code",
   "execution_count": null,
   "id": "feb0d2d7-aee5-4e6c-ba5c-33e72c045bac",
   "metadata": {},
   "outputs": [],
   "source": [
    "src_dir = pathurl.PathURL('gs://samz/alos2/fbd')\n",
    "dst_dir = pathurl.PathURL(f'{proj_dir}/ALOS-2')\n",
    "pathurl.copy(src_dir, dst_dir, overwrite=True)"
   ]
  },
  {
   "cell_type": "code",
   "execution_count": null,
   "id": "42715ac3-5aa7-456a-ae66-17e643efb7b2",
   "metadata": {},
   "outputs": [],
   "source": [
    "with rasterio.open(f'{proj_dir}/ALOS-2/fbd/HH.vrt') as dset:\n",
    "    HH = dset.read(1)"
   ]
  },
  {
   "cell_type": "code",
   "execution_count": null,
   "id": "9399eb17-cae7-4d1e-bb50-be05f7883e12",
   "metadata": {},
   "outputs": [],
   "source": [
    "plt.rcParams['figure.figsize'] = [12, 16]\n",
    "plt.imshow(HH, vmin=0, vmax=0.5, cmap='Greys')"
   ]
  },
  {
   "cell_type": "code",
   "execution_count": null,
   "id": "337259c4-a1ec-4f7b-9922-be485f911093",
   "metadata": {},
   "outputs": [],
   "source": []
  }
 ],
 "metadata": {
  "kernelspec": {
   "display_name": "Python 3 (ipykernel)",
   "language": "python",
   "name": "python3"
  },
  "language_info": {
   "codemirror_mode": {
    "name": "ipython",
    "version": 3
   },
   "file_extension": ".py",
   "mimetype": "text/x-python",
   "name": "python",
   "nbconvert_exporter": "python",
   "pygments_lexer": "ipython3",
   "version": "3.9.13"
  }
 },
 "nbformat": 4,
 "nbformat_minor": 5
}
