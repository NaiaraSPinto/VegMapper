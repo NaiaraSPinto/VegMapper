{
 "cells": [
  {
   "cell_type": "markdown",
   "id": "cda79096-6616-4bcd-b5cd-eb9a45c8ae08",
   "metadata": {},
   "source": [
    "# ALOS-2\n",
    "\n",
    "Downloading ALOS-2 mosaic and applying Enhanced Lee filter.\n",
    "\n",
    "https://www.eorc.jaxa.jp/ALOS/en/dataset/fnf_e.htm"
   ]
  },
  {
   "cell_type": "code",
   "execution_count": null,
   "id": "b47c914a-fad3-40e8-ad5b-31d200b72fc6",
   "metadata": {},
   "outputs": [],
   "source": [
    "import matplotlib.pyplot as plt\n",
    "import rasterio\n",
    "\n",
    "from vegmapper import alos2\n",
    "from vegmapper import pathurl"
   ]
  },
  {
   "cell_type": "markdown",
   "id": "d0f498b8-0f12-454b-9242-26bcb4c2a595",
   "metadata": {},
   "source": [
    "## User Inputs"
   ]
  },
  {
   "cell_type": "code",
   "execution_count": null,
   "id": "7e27dce5-5ccb-49bf-a67f-7f9d25c74dee",
   "metadata": {},
   "outputs": [],
   "source": [
    "# Site name\n",
    "sitename = 'malaysia'\n",
    "\n",
    "# Project directory (S3 path or local path)\n",
    "# proj_dir = 's3://cropsamz/tests/malaysia'\n",
    "proj_dir = pathurl.ProjDir(f'{sitename}')\n",
    "\n",
    "# AOI file\n",
    "aoifile = f'{sitename}/peninsular_malaysia.geojson'\n",
    "\n",
    "# Year of interest\n",
    "year = 2021"
   ]
  },
  {
   "cell_type": "markdown",
   "id": "bd30b06c-78b2-4b35-8c3d-07ada5dbe4b8",
   "metadata": {},
   "source": [
    "## Download ALOS/ALOS-2 Mosaic Tiles\n",
    "\n",
    "### `alos2.download_tiles`\n",
    "\n",
    "```\n",
    "alos2.download_tiles(proj_dir, aoifile, year, quiet=True)\n",
    "```\n",
    "\n",
    "Paremeters:\n",
    "\n",
    "|Paremeters|Description|Required|Default|\n",
    "|----|----|----|----|\n",
    "|proj_dir|Project directory|Yes||\n",
    "|aoifile|AOI file in vector-based spatial data format (shapefile, GeoJSON, ...)|Yes||\n",
    "|year|Year|Yes||\n",
    "|quiet|Turn off wget's output.|No|True|"
   ]
  },
  {
   "cell_type": "code",
   "execution_count": null,
   "id": "91eeecd9-7a4d-4a84-8612-7ce6b4f7be1f",
   "metadata": {},
   "outputs": [],
   "source": [
    "alos2.proc_tilesload_tiles(proj_dir, aoifile, year)"
   ]
  },
  {
   "cell_type": "markdown",
   "id": "f046fddb-5318-4ff4-b0ab-1f0aa98cb22b",
   "metadata": {},
   "source": [
    "## Process ALOS/ALOS-2 Mosaic Tiles\n",
    "\n",
    "### `alos2.proc_tiles`\n",
    "\n",
    "```\n",
    "alos2.proc_tiles(proj_dir, year, filter_win_size=5, filter_num_looks=1)\n",
    "```\n",
    "\n",
    "Paremeters:\n",
    "\n",
    "|Paremeters|Description|Required|Default|\n",
    "|----|----|----|----|\n",
    "|proj_dir|Project directory|Yes||\n",
    "|year|Year|Yes||\n",
    "|filter_win_size|Window size of Enhanced Lee filter|No|5|\n",
    "|filter_num_looks|Number of looks used in Enhanced Lee filter|No|1|"
   ]
  },
  {
   "cell_type": "code",
   "execution_count": null,
   "id": "b0f60958-95db-42a1-b446-0bcfd4ea29c7",
   "metadata": {},
   "outputs": [],
   "source": [
    "alos2.proc_tiles(proj_dir, year)"
   ]
  },
  {
   "cell_type": "code",
   "execution_count": null,
   "id": "8c5c1352-0620-4967-a3d7-64df41aef450",
   "metadata": {},
   "outputs": [],
   "source": [
    "with rasterio.open(f'{proj_dir}/alos2_mosaic/{year}/alos2_mosaic_{year}_HH.vrt') as dset:\n",
    "    HH = dset.read(1)"
   ]
  },
  {
   "cell_type": "code",
   "execution_count": null,
   "id": "9cbf537d-6f5f-4f76-9392-d840d79588e0",
   "metadata": {},
   "outputs": [],
   "source": [
    "plt.imshow(HH, vmin=0, vmax=0.5)"
   ]
  },
  {
   "cell_type": "code",
   "execution_count": null,
   "id": "898790cc-dc02-4d8f-acc4-9cba4469990f",
   "metadata": {},
   "outputs": [],
   "source": []
  }
 ],
 "metadata": {
  "kernelspec": {
   "display_name": "Python 3 (ipykernel)",
   "language": "python",
   "name": "python3"
  },
  "language_info": {
   "codemirror_mode": {
    "name": "ipython",
    "version": 3
   },
   "file_extension": ".py",
   "mimetype": "text/x-python",
   "name": "python",
   "nbconvert_exporter": "python",
   "pygments_lexer": "ipython3",
   "version": "3.9.13"
  }
 },
 "nbformat": 4,
 "nbformat_minor": 5
}
