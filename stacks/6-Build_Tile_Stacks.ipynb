{
 "cells": [
  {
   "cell_type": "markdown",
   "id": "4aaa31c5",
   "metadata": {},
   "source": [
    "## Build Tile Stacks\n",
    "This notebook will read tiles from an s3 bucket and create multi band stacks.  "
   ]
  },
  {
   "cell_type": "code",
   "execution_count": null,
   "id": "a22dbbb9",
   "metadata": {},
   "outputs": [],
   "source": [
    "import os\n",
    "import re\n",
    "import getpass\n",
    "from pathlib import Path\n",
    "import numpy as np\n",
    "import geopandas as gpd\n",
    "import rasterio\n",
    "import rasterio.shutil\n",
    "from rasterio.session import AWSSession\n",
    "from rasterio.vrt import WarpedVRT\n",
    "import matplotlib.pyplot as plt\n",
    "\n",
    "import xml.etree.ElementTree as ET\n",
    "import subprocess\n",
    "import boto3\n",
    "\n",
    "from vegmapper import build_stack, build_condensed_stack"
   ]
  },
  {
   "cell_type": "markdown",
   "id": "8dd181b3",
   "metadata": {},
   "source": [
    "## User inputs"
   ]
  },
  {
   "cell_type": "markdown",
   "id": "726fb0ea",
   "metadata": {},
   "source": [
    "### Provide here access credentials for AWS S3 bucket"
   ]
  },
  {
   "cell_type": "code",
   "execution_count": null,
   "id": "f820783e",
   "metadata": {},
   "outputs": [],
   "source": [
    "user_s3_key_id = getpass.getpass(\"Enter the S3 user key ID: \")\n",
    "user_access_key = getpass.getpass(\"Enter the S3 user access key: \")"
   ]
  },
  {
   "cell_type": "markdown",
   "id": "27fa7001",
   "metadata": {},
   "source": [
    "### Define paths and observation information\n",
    "These fields should match the bucket structure containing the source tiles. "
   ]
  },
  {
   "cell_type": "code",
   "execution_count": null,
   "id": "89127b33",
   "metadata": {},
   "outputs": [],
   "source": [
    "location = 'ucayali'\n",
    "observation_date = '2024'\n",
    "bucket_name = \"name_of_your_bucket\"  # Replace with your actual bucket name\n",
    "bucket_base_path = f\"servir_peru/{location}/{observation_date}\" "
   ]
  },
  {
   "cell_type": "markdown",
   "id": "83868a81",
   "metadata": {},
   "source": [
    "### Define bands\n",
    "Add/remove here as needed"
   ]
  },
  {
   "cell_type": "code",
   "execution_count": null,
   "id": "2ffe6171",
   "metadata": {},
   "outputs": [],
   "source": [
    "band_definitions = [\n",
    "    {\"name\": \"VV\", \"subdir\": \"s1/vv\"},\n",
    "    {\"name\": \"VH\", \"subdir\": \"s1/vh\"},\n",
    "    {\"name\": \"RVI\", \"subdir\": \"s1/rvi\"},\n",
    "    {\"name\": \"NDVI\", \"subdir\": \"landsat/ndvi\"},\n",
    "    # {\"name\": \"NDFI\", \"subdir\": \"landsat/ndfi\"},  # Example of an easy addition\n",
    "]"
   ]
  },
  {
   "cell_type": "markdown",
   "id": "6b2c8058",
   "metadata": {},
   "source": [
    "## S3 bucket session"
   ]
  },
  {
   "cell_type": "code",
   "execution_count": null,
   "id": "8edcef41",
   "metadata": {},
   "outputs": [],
   "source": [
    "boto3_session = boto3.Session(\n",
    "    aws_access_key_id=user_s3_key_id,\n",
    "    aws_secret_access_key=user_access_key,\n",
    "    # region_name=\"your-region\"  # Optional\n",
    ")"
   ]
  },
  {
   "cell_type": "markdown",
   "id": "ba617ca9",
   "metadata": {},
   "source": [
    "## Helper functions"
   ]
  },
  {
   "cell_type": "code",
   "execution_count": null,
   "id": "032eb609",
   "metadata": {},
   "outputs": [],
   "source": [
    "# Function to list .tif files in a given S3 prefix\n",
    "def list_s3_file_paths(bucket, prefix):\n",
    "    client = boto3_session.client(\"s3\")\n",
    "    paginator = client.get_paginator(\"list_objects_v2\")\n",
    "    paths = []\n",
    "    for page in paginator.paginate(Bucket=bucket, Prefix=prefix):\n",
    "        for obj in page.get(\"Contents\", []):\n",
    "            key = obj[\"Key\"]\n",
    "            if key.lower().endswith((\".tif\", \".tiff\")):\n",
    "                paths.append(f\"s3://{bucket}/{key}\")\n",
    "    return paths\n",
    "\n",
    "# Function to extract tile_id like \"h0_v1\"\n",
    "def extract_tile_id(path):\n",
    "    match = re.search(r'h\\d+_v\\d+', path)\n",
    "    return match.group() if match else None"
   ]
  },
  {
   "cell_type": "markdown",
   "id": "d3740e93",
   "metadata": {},
   "source": [
    "## Read Tile ID's and setup bands"
   ]
  },
  {
   "cell_type": "code",
   "execution_count": null,
   "id": "ba5f4ca9",
   "metadata": {},
   "outputs": [],
   "source": [
    "print(\"Fetching all file paths for all bands...\")\n",
    "all_band_files = {}  # {band_name: [file paths]}\n",
    "all_paths_flat = []\n",
    "\n",
    "for band in band_definitions:\n",
    "    full_prefix = f\"{bucket_base_path}/{band['subdir']}/\"\n",
    "    print(f\"Looking for {band['name']} files in: s3://{bucket_name}/{full_prefix}\")\n",
    "    files = list_s3_file_paths(bucket_name, full_prefix)\n",
    "    print(f\"Found {len(files)} {band['name']} files\")\n",
    "    all_band_files[band[\"name\"]] = files\n",
    "    all_paths_flat.extend(files)\n",
    "\n",
    "# Get unique tile IDs\n",
    "tile_ids = sorted(set(filter(None, [extract_tile_id(p) for p in all_paths_flat])))\n",
    "print(f\"Found {len(tile_ids)} unique tile(s): {tile_ids}\")"
   ]
  },
  {
   "cell_type": "markdown",
   "id": "cf9a8a39",
   "metadata": {},
   "source": [
    "## Prepare Tiles\n",
    "This step will create the multi-band stacks and uploas them to the S3 bucket."
   ]
  },
  {
   "cell_type": "code",
   "execution_count": null,
   "id": "ceb0745e",
   "metadata": {},
   "outputs": [],
   "source": [
    "for tile_id in tile_ids:\n",
    "    print(f\"\\n Processing tile: {tile_id}\")\n",
    "\n",
    "    stack_name = f\"stack_{location}_{observation_date}_{tile_id}\"\n",
    "    stack_s3_path = f\"{bucket_base_path}/multi_sensor_stacks/{stack_name}_cog.tif\"\n",
    "    local_stack = f\"./{location}/opera_rtc/tile_vrts/{stack_name}.tif\"\n",
    "    local_cog = f\"./{location}/opera_rtc/tile_vrts/{stack_name}_cog.tif\"\n",
    "\n",
    "    os.makedirs(os.path.dirname(local_stack), exist_ok=True)\n",
    "\n",
    "    # Gather tile-specific paths for all bands\n",
    "    band_paths = []\n",
    "    band_names = []\n",
    "\n",
    "    for band in band_definitions:\n",
    "        tile_id_nounder = tile_id.replace(\"_\", \"\")  # e.g., h3v2\n",
    "        matching_files = [\n",
    "            p for p in all_band_files[band[\"name\"]]\n",
    "            if tile_id in p or tile_id_nounder in p\n",
    "        ]\n",
    "        if matching_files:\n",
    "            band_paths.extend(matching_files)\n",
    "            band_names.extend([band[\"name\"]] * len(matching_files))\n",
    "        else:\n",
    "            print(f\"!! Missing {band['name']} for tile {tile_id}\")\n",
    "\n",
    "    if not band_paths:\n",
    "        print(f\"!! No valid files found for tile {tile_id}, skipping.\")\n",
    "        continue\n",
    "\n",
    "    # Convert to GDAL VSI paths\n",
    "    s3_paths = [p.replace(\"s3://\", \"/vsis3/\") for p in band_paths]\n",
    "    aws_session = AWSSession(boto3_session)\n",
    "\n",
    "## Process tiles\n",
    "    # Stack bands\n",
    "    with rasterio.Env(aws_session):\n",
    "        sources = [rasterio.open(p) for p in s3_paths]\n",
    "        meta = sources[0].meta.copy()\n",
    "        meta.update({\n",
    "            \"count\": len(sources),\n",
    "            \"dtype\": sources[0].dtypes[0],\n",
    "            \"driver\": \"GTiff\"\n",
    "        })\n",
    "    \n",
    "        with rasterio.open(local_stack, \"w\", **meta) as dst:\n",
    "            for i, src in enumerate(sources, start=1):\n",
    "                dst.write(src.read(1), i)\n",
    "                dst.set_band_description(i, band_names[i - 1])\n",
    "    \n",
    "        for src in sources:\n",
    "            src.close()\n",
    "    \n",
    "## Convert to COG \n",
    "    subprocess.run([\n",
    "        \"gdal_translate\", local_stack, local_cog,\n",
    "        \"-of\", \"COG\",\n",
    "        \"-co\", \"COMPRESS=LZW\",\n",
    "        \"-co\", \"NUM_THREADS=ALL_CPUS\"\n",
    "    ], check=True)\n",
    "\n",
    "    # --- STEP 5: Upload to S3 ---\n",
    "    boto3_session.client(\"s3\").upload_file(local_cog, bucket_name, stack_s3_path)\n",
    "    print(f\"--> Uploaded: s3://{bucket_name}/{stack_s3_path}\")\n",
    "\n",
    "    os.remove(local_stack)\n",
    "    print(f\"-> Removed: {local_stack}\")"
   ]
  },
  {
   "cell_type": "markdown",
   "id": "a6451ea9",
   "metadata": {},
   "source": [
    "## Read and display sample Stack\n",
    "Grab one of the generated stacks and display."
   ]
  },
  {
   "cell_type": "code",
   "execution_count": null,
   "id": "1f44dfd3",
   "metadata": {},
   "outputs": [],
   "source": [
    "# Open VRT from S3\n",
    "s3_vrt_path = f\"/vsis3/{bucket_name}/{bucket_base_path}/multi_sensor_stacks/stack_ucayali_2024_h1_v1_cog.tif\"\n",
    "\n",
    "# Open the stacked VRT from S3\n",
    "with rasterio.Env(aws_session):\n",
    "    with rasterio.open(s3_vrt_path) as dataset:\n",
    "        band1 = dataset.read(1)  # Read VV\n",
    "        band2 = dataset.read(2)  # Read VH\n",
    "        band3 = dataset.read(3)  # Read RVI\n",
    "        band4 = dataset.read(4)  # Read NDVI\n",
    "        band_names = dataset.descriptions\n",
    "\n",
    "# Display Bands\n",
    "fig, ax = plt.subplots(1, 4, figsize=(15, 5))\n",
    "\n",
    "bands = [band1, band2, band3, band4]\n",
    "cmaps = [\"gray\", \"gray\", \"gray\", \"viridis\"]\n",
    "vmin_values = [0, 0, 0, 0.6]\n",
    "vmax_values = [0.4, 0.1, 1.0, 0.9]\n",
    "\n",
    "for i in range(4):\n",
    "    ax[i].imshow(bands[i], cmap=cmaps[i], vmin=vmin_values[i], vmax=vmax_values[i])\n",
    "    title = band_names[i] if band_names[i] else f\"Band {i+1}\"\n",
    "    ax[i].set_title(title)\n",
    "    ax[i].axis(\"off\")\n",
    "\n",
    "plt.tight_layout()\n",
    "plt.show()"
   ]
  },
  {
   "cell_type": "markdown",
   "id": "f17d42bc",
   "metadata": {},
   "source": []
  }
 ],
 "metadata": {
  "kernelspec": {
   "display_name": "vegmapper",
   "language": "python",
   "name": "python3"
  },
  "language_info": {
   "name": "python",
   "version": "3.9.18"
  }
 },
 "nbformat": 4,
 "nbformat_minor": 5
}
