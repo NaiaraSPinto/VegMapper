{
 "cells": [
  {
   "cell_type": "markdown",
   "id": "1701c68a-44e2-4d79-b68c-dafc694b0675",
   "metadata": {},
   "source": [
    "# GEE Datasets"
   ]
  },
  {
   "cell_type": "code",
   "execution_count": null,
   "id": "d2720274-6ca9-4098-90f7-526e33b046fd",
   "metadata": {},
   "outputs": [],
   "source": [
    "import matplotlib.pyplot as plt\n",
    "import rasterio\n",
    "\n",
    "from vegmapper import gee\n",
    "from vegmapper import pathurl"
   ]
  },
  {
   "cell_type": "markdown",
   "id": "d942dceb-1087-4eb0-8659-8fc0cbfbdde3",
   "metadata": {},
   "source": [
    "## User Inputs"
   ]
  },
  {
   "cell_type": "code",
   "execution_count": null,
   "id": "196cf358-62ff-431a-ba08-1530040687d3",
   "metadata": {},
   "outputs": [],
   "source": [
    "# Site name\n",
    "sitename = 'ucayali'\n",
    "\n",
    "# Project directory (local path or cloud bucket URL)\n",
    "proj_dir = sitename\n",
    "\n",
    "# AOI tiles\n",
    "aoi_tiles = f'{proj_dir}/{sitename}_tiles.geojson'\n",
    "\n",
    "# Resolution\n",
    "res = 30\n",
    "\n",
    "# Year of interest\n",
    "year = 2020\n",
    "\n",
    "# Google Storage URL\n",
    "gs = 'gs://samz/pinto/scratch'"
   ]
  },
  {
   "cell_type": "markdown",
   "id": "1569230f-8503-4ab9-9bc4-988171974ec8",
   "metadata": {},
   "source": [
    "## Landsat-8 NDVI\n",
    "\n",
    "Downloading the Landsat data, masking clouds, extracting the median, and computing the NDVI (Normalized Difference Vegetation Index). These processing steps are handled using Google Earth Engine. The results can be exported to your Google Storage bucket, or your Google Drive if you don't have access to a Google Storage bucket.\n",
    "\n",
    "### `gee.export_landsat_ndvi`\n",
    "\n",
    "```\n",
    "gee.export_landsat_ndvi(sitename, aoi_tiles, res, year, gs)\n",
    "```\n",
    "\n",
    "Paremeters:\n",
    "\n",
    "|Paremeters|Description|Required|Default|\n",
    "|----|----|----|----|\n",
    "|sitename|Site name|Yes||\n",
    "|aoi_tiles|AOI tiles prepared in the first notebook|Yes||\n",
    "|res|Resolution|Yes||\n",
    "|year|Year|Yes||\n",
    "|gs|Google Storage bucket URL gs://[your gs bucket]|No|None|"
   ]
  },
  {
   "cell_type": "code",
   "execution_count": null,
   "id": "7efa4038-731b-49e8-8645-fa43dc85207e",
   "metadata": {},
   "outputs": [],
   "source": [
    "landsat_tasks = gee.export_landsat_ndvi(proj_dir, sitename, aoi_tiles, res, year, gs)"
   ]
  },
  {
   "cell_type": "markdown",
   "id": "0856443f-33ce-4e1e-84bb-c5df2d107f54",
   "metadata": {},
   "source": [
    "To check the GEE task status, you can either run the following cell or directly check on Earth Engine Task Manager: https://code.earthengine.google.com/tasks. You will need to wait until all task status shown as `COMPLETED` before downloading them to project directory."
   ]
  },
  {
   "cell_type": "code",
   "execution_count": null,
   "id": "72167ece-c442-421b-a4a5-b184cb797644",
   "metadata": {},
   "outputs": [],
   "source": [
    "for task in landsat_tasks:\n",
    "    status = task.status()\n",
    "    print(f\"{status['description']}: {status['state']}\")"
   ]
  },
  {
   "cell_type": "markdown",
   "id": "2fff0658-7411-430d-88e8-ae4c9a09e8af",
   "metadata": {},
   "source": [
    "## MODIS Tree Cover\n",
    "Downloading the MODIS dataset and extracting the Percent Tree Cover. The results will be exported to your Google Drive, and will have to be manually copied to your `proj_dir`.\n",
    "\n",
    "### `gee.export_modis_tc`\n",
    "\n",
    "```\n",
    "gee.export_modis_tc(sitename, aoi_tiles, res, year)\n",
    "```\n",
    "\n",
    "Paremeters:\n",
    "\n",
    "|Paremeters|Description|Required|Default|\n",
    "|----|----|----|----|\n",
    "|sitename|Site name|Yes||\n",
    "|aoi_tiles|AOI tiles prepared in the first notebook|Yes||\n",
    "|res|Resolution|Yes||\n",
    "|year|Year|Yes||\n",
    "|gs|Google Storage bucket URL gs://[your gs bucket]|No|None|"
   ]
  },
  {
   "cell_type": "code",
   "execution_count": null,
   "id": "2767af1d-b7ba-41b6-85bb-30bfc71631bf",
   "metadata": {},
   "outputs": [],
   "source": [
    "modis_tasks = gee.export_modis_tc(proj_dir, sitename, aoi_tiles, res, year, gs)"
   ]
  },
  {
   "cell_type": "markdown",
   "id": "108fa8fb-0fed-4474-86f7-dd6e10c72abc",
   "metadata": {},
   "source": [
    "## Download exported datasets to project directory\n",
    "\n",
    "### `gee.download_files`\n",
    "\n",
    "```\n",
    "gee.download_files(proj_dir, task_list)\n",
    "```\n",
    "|Paremeters|Description|Required|Default|\n",
    "|----|----|----|----|\n",
    "|proj_dir|Project directory|Yes||\n",
    "|task_list|List of GEE tasks or JSON file containing export destinations|Yes||"
   ]
  },
  {
   "cell_type": "code",
   "execution_count": null,
   "id": "cccf97c3-eff6-4f89-b529-722926f2c539",
   "metadata": {},
   "outputs": [],
   "source": [
    "landsat_tasks = f'{proj_dir}/landsat/{year}/export_dst.json'\n",
    "modis_tasks = f'{proj_dir}/modis/{year}/export_dst.json'"
   ]
  },
  {
   "cell_type": "code",
   "execution_count": null,
   "id": "ad176c03-9745-4e7a-b8ad-0dba42d30967",
   "metadata": {},
   "outputs": [],
   "source": [
    "gee.download_files(proj_dir, landsat_tasks)\n",
    "gee.download_files(proj_dir, modis_tasks)"
   ]
  },
  {
   "cell_type": "code",
   "execution_count": null,
   "id": "a46c8e5e-c6ce-41c9-952b-8c76b03146db",
   "metadata": {},
   "outputs": [],
   "source": []
  }
 ],
 "metadata": {
  "kernelspec": {
   "display_name": "Python 3 (ipykernel)",
   "language": "python",
   "name": "python3"
  },
  "language_info": {
   "codemirror_mode": {
    "name": "ipython",
    "version": 3
   },
   "file_extension": ".py",
   "mimetype": "text/x-python",
   "name": "python",
   "nbconvert_exporter": "python",
   "pygments_lexer": "ipython3",
   "version": "3.9.13"
  }
 },
 "nbformat": 4,
 "nbformat_minor": 5
}
