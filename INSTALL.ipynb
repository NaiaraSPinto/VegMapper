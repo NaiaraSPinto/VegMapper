{
 "cells": [
  {
   "cell_type": "markdown",
   "id": "514aad04-fbef-4738-9ac3-b9a72d9344eb",
   "metadata": {},
   "source": [
    "# Prerequisites\n",
    "\n",
    "This notebook describes the prerequisite steps to properly run the VegMapper notebooks, which include:\n",
    "\n",
    "1. [Setting up conda environment](#Setting-up-conda-environment)\n",
    "\n",
    "2. [Installing `vegmapper` code package](#Installing-vegmapper-code-package)\n",
    "\n",
    "3. [Acquiring accounts for data sources](#Acquiring-accounts-for-data-sources)\n",
    "\n",
    "This prerequisite notebook will only need to run once."
   ]
  },
  {
   "cell_type": "markdown",
   "id": "92dae65d",
   "metadata": {},
   "source": [
    "## Setting up conda environment\n",
    "\n",
    "1. List all conda environments to check if `vegmapper` environment has been created. If you see `vegmapper` listed as one of the available environments, skip this step to [Installing *vegmapper* code package](#Installing-vegmapper-code-package)."
   ]
  },
  {
   "cell_type": "code",
   "execution_count": null,
   "id": "375a788f",
   "metadata": {},
   "outputs": [],
   "source": [
    "!conda env list"
   ]
  },
  {
   "cell_type": "markdown",
   "id": "7b4ec7b0",
   "metadata": {},
   "source": [
    "2. Create `vegmapper` environment and install required Python packages."
   ]
  },
  {
   "cell_type": "code",
   "execution_count": null,
   "id": "160fb5ac",
   "metadata": {},
   "outputs": [],
   "source": [
    "!mamba env create -f environment.yml -q --force"
   ]
  },
  {
   "cell_type": "markdown",
   "id": "ef54f27d",
   "metadata": {},
   "source": [
    "3. List conda environments again and now you should see `vegmapper` is listed and followed by its environment path (that is, the `prefix`)."
   ]
  },
  {
   "cell_type": "code",
   "execution_count": null,
   "id": "51d17814",
   "metadata": {},
   "outputs": [],
   "source": [
    "!conda env list"
   ]
  },
  {
   "cell_type": "markdown",
   "id": "9e33d952",
   "metadata": {},
   "source": [
    "4. Copy and paste the `vegmapper` environment path to replace the `prefix` down below."
   ]
  },
  {
   "cell_type": "code",
   "execution_count": null,
   "id": "73fc510e",
   "metadata": {},
   "outputs": [],
   "source": [
    "prefix = 'vegmapper_environment_prefix'"
   ]
  },
  {
   "cell_type": "markdown",
   "id": "f6994448",
   "metadata": {},
   "source": [
    "5. Use kernda to update the display name of the environment in the IPython kernel so that `vegmapper` can be properly displayed as a kernel in JupyterLab."
   ]
  },
  {
   "cell_type": "code",
   "execution_count": null,
   "id": "3e8c85fe-9549-4405-bcfd-f81d4a01c83e",
   "metadata": {},
   "outputs": [],
   "source": [
    "!mamba run -n vegmapper kernda --display-name vegmapper -o $prefix/share/jupyter/kernels/python3/kernel.json"
   ]
  },
  {
   "cell_type": "markdown",
   "id": "960eb432-dc38-4fda-baf1-fb4d0989741a",
   "metadata": {},
   "source": [
    "6. Remove unused packages and caches to free disk space."
   ]
  },
  {
   "cell_type": "code",
   "execution_count": null,
   "id": "9e543dd3-8411-4dac-901e-4a4593fe77cf",
   "metadata": {
    "pycharm": {
     "name": "#%%\n"
    }
   },
   "outputs": [],
   "source": [
    "!mamba clean -p -t --yes"
   ]
  },
  {
   "cell_type": "markdown",
   "id": "7a336c92-f404-4941-8da3-ed67d47510d3",
   "metadata": {},
   "source": [
    "## Installing `vegmapper` code package\n",
    "\n",
    "1. Activate `vegmapper` environment by simply switching the kernel from `base` to `vegmapper` using the pull-down menu on the upper-right. After the switch, run the following command and you should see `vegmapper` is now the conda default environment."
   ]
  },
  {
   "cell_type": "code",
   "execution_count": null,
   "id": "cf4b3d95-5ac3-4dc6-9ae3-4ee3284bd699",
   "metadata": {},
   "outputs": [],
   "source": [
    "!echo $CONDA_DEFAULT_ENV"
   ]
  },
  {
   "cell_type": "markdown",
   "id": "969c9a22-62a1-4ced-b00e-ae3926c18902",
   "metadata": {},
   "source": [
    "2. Install `vegmapper` code package into the environment."
   ]
  },
  {
   "cell_type": "code",
   "execution_count": null,
   "id": "16c6922a-1204-4249-b702-835adf1ba9ae",
   "metadata": {},
   "outputs": [],
   "source": [
    "!pip install ."
   ]
  },
  {
   "cell_type": "markdown",
   "id": "5167d1fc-fa45-4c64-821e-5000792bd655",
   "metadata": {},
   "source": [
    "3. Run the following commands so the tqdm progress bar can be displayed nicely on notebooks:"
   ]
  },
  {
   "cell_type": "code",
   "execution_count": null,
   "id": "7065cac2-4db0-4c9e-b862-0b35cbc2ce2a",
   "metadata": {},
   "outputs": [],
   "source": [
    "!jupyter nbextension enable --py widgetsnbextension\n",
    "!jupyter labextension install @jupyter-widgets/jupyterlab-manager"
   ]
  },
  {
   "cell_type": "markdown",
   "id": "4dbc361e-62f0-4433-9579-f87ed205d09b",
   "metadata": {},
   "source": [
    "4. After installing `vegmapper`, restart the kernel by hitting the \"Restart the kernel\" button so this notebook can see the code package we just installed. Then we test if we can import `vegmapper` by running the following."
   ]
  },
  {
   "cell_type": "code",
   "execution_count": null,
   "id": "594ee65d-94ef-4a8a-8981-1a882b395baf",
   "metadata": {},
   "outputs": [],
   "source": [
    "import vegmapper"
   ]
  },
  {
   "cell_type": "markdown",
   "id": "e87ed0c5-ec62-4de2-b91e-7c792537159c",
   "metadata": {},
   "source": [
    "## Acquiring accounts for data sources\n",
    "\n",
    "1. NASA Earthdata & ASF Vertex\n",
    "- Register an account at [https://urs.earthdata.nasa.gov](https://urs.earthdata.nasa.gov)\n",
    "- After registration, sign into [ASF Vertex](https://search.asf.alaska.edu) and sign the data use agreement\n",
    "\n",
    "2. JAXA EORC\n",
    "- Register an account at [https://www.eorc.jaxa.jp/ALOS/en/palsar_fnf/registration.htm](https://www.eorc.jaxa.jp/ALOS/en/palsar_fnf/registration.htm)\n",
    "\n",
    "3. Google Earth Engine (GEE)\n",
    "- Select an existing Google account (or register a new one) that will be used for your project\n",
    "- Run the following cells to authenticate the account for using GEE"
   ]
  },
  {
   "cell_type": "code",
   "execution_count": null,
   "id": "8542e3ef-6788-4cf5-8301-01a49de6b371",
   "metadata": {},
   "outputs": [],
   "source": [
    "import ee\n",
    "ee.Authenticate()"
   ]
  },
  {
   "cell_type": "code",
   "execution_count": null,
   "id": "89fc8c65-1358-4941-a730-a2c33a2ab44f",
   "metadata": {},
   "outputs": [],
   "source": [
    "import collections\n",
    "collections.Callable = collections.abc.Callable\n",
    "ee.Initialize()"
   ]
  }
 ],
 "metadata": {
  "kernelspec": {
   "display_name": "Python 3 (ipykernel)",
   "language": "python",
   "name": "python3"
  },
  "language_info": {
   "codemirror_mode": {
    "name": "ipython",
    "version": 3
   },
   "file_extension": ".py",
   "mimetype": "text/x-python",
   "name": "python",
   "nbconvert_exporter": "python",
   "pygments_lexer": "ipython3",
   "version": "3.9.13"
  },
  "vscode": {
   "interpreter": {
    "hash": "b1e8243030fc511ae1b16ddffba3e1d78372c0ed2fddc8425e5d593306b1165d"
   }
  }
 },
 "nbformat": 4,
 "nbformat_minor": 5
}
