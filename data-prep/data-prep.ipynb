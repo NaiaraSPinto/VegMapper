{
 "cells": [
  {
   "cell_type": "code",
   "execution_count": null,
   "metadata": {},
   "outputs": [],
   "source": []
  },
  {
   "cell_type": "markdown",
   "metadata": {},
   "source": [
    "# Data Stack Preparation (data-prep)\n",
    "\n",
    "This tutorial will walk you through the workflow of the [VegMapper](https://github.com/NaiaraSPinto/VegMapper) repo. At the end of this tutorial, you will create multi-band geotiffs that can be used for the identification and classification of specific agroforestry systems, such as palm-oil plantations.\n",
    "\n",
    "NOTE: The routines in this notebook will work best if the notebook is launced from an AWS EC2 instance with the conda evironment activated. A tutorial for setting up a jupyter server on an EC2 instance can be found here **(TODO: inlcude link)**. Instructions for setting up the conda environment can be found in [section 2](#2.-Set-up-vegmapper-conda-environment) of this notebook."
   ]
  },
  {
   "cell_type": "markdown",
   "metadata": {},
   "source": [
    "## 1. Get credentials ##\n",
    "This repo makes use of several third-party services which will require credentials. These can be obtained using the following links. Please note that approval of an account may take several days for certain services.\n",
    "\n",
    "1) [NASA Earthdata](https://urs.earthdata.nasa.gov/users/new)\n",
    "\n",
    "2) [JAXA](https://www.eorc.jaxa.jp/ALOS/en/palsar_fnf/registration.htm)\n",
    "\n",
    "3) [AWS S3/EC2](https://portal.aws.amazon.com/billing/signup#/start) or [Google Cloud Storage/GCS](https://cloud.google.com/storage/), if planning to use cloud storage (recommended).\n",
    "\n",
    "4) [Google Earth Engine](https://earthengine.google.com/)"
   ]
  },
  {
   "cell_type": "markdown",
   "metadata": {},
   "source": [
    "One-time authentication for Google Earth Engine:"
   ]
  },
  {
   "cell_type": "code",
   "execution_count": null,
   "metadata": {},
   "outputs": [],
   "source": [
    "import ee\n",
    "ee.Authenticate()"
   ]
  },
  {
   "cell_type": "markdown",
   "metadata": {},
   "source": [
    "## 2. Set up vegmapper conda environment ##\n",
    "\n",
    "This notebook requires Anaconda to be installed to download Python packages and set up the **vegmapper** environment. Anaconda can be downloaded [here](https://www.anaconda.com/products/individual).\n",
    "\n",
    "Once Anaconda has been installed, clone the [VegMapper](https://github.com/NaiaraSPinto/VegMapper) repo by running the following command in your terminal:\n",
    "```\n",
    "% git clone https://github.com/NaiaraSPinto/VegMapper.git\n",
    "```\n",
    "Next, create the **vegmapper** environment and install required packages by running these commands in your terminal:\n",
    "\n",
    "```\n",
    "% cd VegMapper\n",
    "% conda env create -f vegmapper.yml\n",
    "% conda activate vegmapper\n",
    "```"
   ]
  },
  {
   "cell_type": "markdown",
   "metadata": {},
   "source": [
    "## 3. Set up project directory ##\n",
    "\n",
    "This repo will make use of one consistent project directory, referred from here as `proj_dir`. The name of `proj_dir` is up to you, but all subfolders and completed tiles will be generated automatically. The completed stacks as well as any intermediate products will be stored in `proj_dir`. At the moment, AWS S3, GCS, and local storage systems are supported. Some extra setup may be required, depending on your storage system of choice:\n",
    "\n",
    "* To set up AWS Command Line Interface (CLI) configurations and credentials (required if your `proj_dir` is S3):\n",
    "\n",
    "    ```\n",
    "    (vegmapper) % aws configure\n",
    "    ```\n",
    "\n",
    "    where you will be asked to enter your **aws_access_key_id** and **aws_secret_access_key**.\n",
    "    \n",
    "    If using S3, then `proj_dir` should be `s3://your_bucket/some_prefix` when used as an argument to scripts.\n",
    "\n",
    "\n",
    "* To set up Google Cloud gsutil tool (required if your `proj_dir` is GCS):\n",
    "\n",
    "    ```\n",
    "    (vegmapper) % gsutil config\n",
    "    ```\n",
    "\n",
    "    Then you will be prompted to sign in using your Google credentials.\n",
    "    \n",
    "    If using GCS, then `proj_dir` should be `gs://your_bucket/some_prefix` when used as an argument to scripts.\n",
    "    \n",
    "    \n",
    "* If using local storage, create a new folder at the desired location in your filesystem. If using local storage, then `proj_dir` should be `your_local_path` when passed as an argument to scripts. Note that `your_local_path` must point to a directory that exists--it will not be automatically generated for you. \n",
    "\n",
    "    **Warning:** using local storage is not advised as the stacks generated will be large files, and some steps will be faster if run in the cloud. "
   ]
  },
  {
   "cell_type": "code",
   "execution_count": 34,
   "metadata": {},
   "outputs": [],
   "source": [
    "# only use s3\n",
    "# set up aoi_shp, csv/geojson in bucket beforehand"
   ]
  },
  {
   "cell_type": "markdown",
   "metadata": {},
   "source": [
    "Set `proj_dir` to your project directory:"
   ]
  },
  {
   "cell_type": "code",
   "execution_count": 19,
   "metadata": {},
   "outputs": [
    {
     "data": {
      "text/plain": [
       "'s3://servir-public/dummy/'"
      ]
     },
     "execution_count": 19,
     "metadata": {},
     "output_type": "execute_result"
    }
   ],
   "source": [
    "proj_dir = 's3://servir-public/dummy/'\n",
    "proj_dir"
   ]
  },
  {
   "cell_type": "code",
   "execution_count": 23,
   "metadata": {},
   "outputs": [
    {
     "name": "stdout",
     "output_type": "stream",
     "text": [
      "2022-02-09 19:23:39          0 \n"
     ]
    }
   ],
   "source": [
    "!aws s3 ls {proj_dir}"
   ]
  },
  {
   "cell_type": "markdown",
   "metadata": {},
   "source": [
    "## 4. Prepare UTM tiles for Area of Interest (AOI): `prep_tiles.py` ##\n",
    "\n",
    "To create the stacks, a universal tiling system is required to ensure all data sources are aligned to the same grid. In the following section, we will generate a geoJSON file that contains the tiles to be used by all of the data processing scripts. This is accomplished via the `prep_tiles.py` script.\n",
    "\n",
    "#### Usage ####\n",
    "\n",
    "```\n",
    "(vegmapper) % python prep_tiles.py [-h] aoi_name aoi_shp tile_size\n",
    "```\n",
    "\n",
    "|Arguments||Description||Required||Default|\n",
    "|----||----||----||----|\n",
    "|`aoi_name`||Used to name the output geoJSON. The generated tiles can be found at `aoi_name`_tiles.geojson.||Yes||None|\n",
    "|`aoi_shp`||shp/geoJSON file that contains the boundaries of our area of interest. geoJSON files for many subnational administrative boundaries can be found [here](https://data.humdata.org/dataset?ext_subnational=1&res_format=GeoJSON&vocab_Topics=administrative%20divisions&q=&sort=if(gt(last_modified%2Creview_date)%2Clast_modified%2Creview_date)%20desc&ext_page_size=25).||Yes||None|\n",
    "|`tile_size`||The desired tile size, in meters.||Yes||None|"
   ]
  },
  {
   "cell_type": "code",
   "execution_count": 30,
   "metadata": {},
   "outputs": [
    {
     "data": {
      "text/plain": [
       "('ucayali', 's3://servir-stacks/ucayali/ucayali_boundary.geojson', 150000)"
      ]
     },
     "execution_count": 30,
     "metadata": {},
     "output_type": "execute_result"
    }
   ],
   "source": [
    "# Set arguments for prep_tiles.py\n",
    "aoi_name = \"ucayali\"\n",
    "# aoi_shp = \"AOI/ucayali/ucayali_boundary.geojson\"\n",
    "aoi_shp = \"s3://servir-stacks/ucayali/ucayali_boundary.geojson\"\n",
    "tile_size = 150000\n",
    "\n",
    "aoi_name, aoi_shp, tile_size"
   ]
  },
  {
   "cell_type": "code",
   "execution_count": 33,
   "metadata": {},
   "outputs": [],
   "source": [
    "# should be able to have all files in s3 bucket"
   ]
  },
  {
   "cell_type": "code",
   "execution_count": 31,
   "metadata": {},
   "outputs": [
    {
     "data": {
      "image/png": "[encoded data removed]",
      "text/plain": [
       "<Figure size 720x720 with 1 Axes>"
      ]
     },
     "metadata": {
      "needs_background": "light"
     },
     "output_type": "display_data"
    }
   ],
   "source": [
    "# Plot our AOI to make sure it looks right\n",
    "fill_boundary = False\n",
    "plot([aoi_shp], [fill_boundary], (10, 10))"
   ]
  },
  {
   "cell_type": "markdown",
   "metadata": {},
   "source": [
    "Generate the UTM tiles by running the cell below:"
   ]
  },
  {
   "cell_type": "code",
   "execution_count": null,
   "metadata": {},
   "outputs": [],
   "source": [
    "python Utils/prep_tiles.py {aoi_name} {aoi_shp} {tile_size}"
   ]
  },
  {
   "cell_type": "code",
   "execution_count": 24,
   "metadata": {},
   "outputs": [
    {
     "data": {
      "text/plain": [
       "'ucayali_tiles.geojson'"
      ]
     },
     "execution_count": 24,
     "metadata": {},
     "output_type": "execute_result"
    }
   ],
   "source": [
    "# Set the value of aoi to the file containing the output tiles, to be used later in the notebook\n",
    "aoi = f\"{aoi_name}_tiles.geojson\"\n",
    "aoi"
   ]
  },
  {
   "cell_type": "code",
   "execution_count": 25,
   "metadata": {},
   "outputs": [
    {
     "data": {
      "image/png": "[encoded data removed]",
      "text/plain": [
       "<Figure size 720x720 with 1 Axes>"
      ]
     },
     "metadata": {
      "needs_background": "light"
     },
     "output_type": "display_data"
    }
   ],
   "source": [
    "# Plot our tiles against our original AOI to make sure it looks right\n",
    "fill_boundary = True\n",
    "fill_tiles = False\n",
    "plot([aoi_shp, aoi], [fill_boundary, fill_tiles], (10, 10))"
   ]
  },
  {
   "cell_type": "markdown",
   "metadata": {},
   "source": [
    "Note that some tiles might not intersect our AOI. These will be masked out and will not be used to generate the final stacks."
   ]
  },
  {
   "cell_type": "markdown",
   "metadata": {},
   "source": [
    "## 5. Prepare Sentinel-1 Tiles ##\n",
    "\n",
    "The first piece of the data stack is Sentinel-1 tiles. In the following section, we search for granules within our AOI, process them using the ASF HyP3 API, and calculate statistics for the granules."
   ]
  },
  {
   "cell_type": "markdown",
   "metadata": {},
   "source": [
    "### Search for Sentinel-1 granules on [ASF Vertex](https://search.asf.alaska.edu/#/) ###\n",
    "\n",
    "First, we must download a CSV or geoJSON file containing a list of granules we wish to submit for processing using the ASF Vertex Data Search tool.\n",
    "\n",
    "1. Sign in using your Earthdata credentials, which were obtained in [section 1](#1.-Get-credentials). If you haven't used ASF Vertex before, you will need to agree their terms in order to use their HyP3 processing.\n",
    "\n",
    "2. Use the following \"Additional Filters\" when searching for granules within your AOI:\n",
    "\n",
    "    * File Type: L1 Detected High-Res Dual-Pol (GRD-HD)\n",
    "    * Beam Mode: IW\n",
    "    * Polarization: VV+VH\n",
    "\n",
    "    ![vertex_search_filters](img/vertex_search_filters.png)\n",
    "\n",
    "3. Add the selected granules into the download queue:\n",
    "\n",
    "    ![vertex_add_queue](img/vertex_add_queue.png)\n",
    "\n",
    "4. Download metadata files. Download at least one csv or geojson file, which will be used for submitting HyP3 jobs.\n",
    "\n",
    "    ![vertex_download_metadata](img/vertex_download_metadata.png)\n",
    "\n",
    "5. Clear the selected granules in the downloads. Do not download these GRD-HD products as we will submit HyP3 jobs to apply radiometric terrain correction (RTC) to them."
   ]
  },
  {
   "cell_type": "markdown",
   "metadata": {},
   "source": [
    "Set `csv/geojson` to the CSV/geoJSON file we just downloaded:"
   ]
  },
  {
   "cell_type": "code",
   "execution_count": 37,
   "metadata": {},
   "outputs": [
    {
     "data": {
      "text/plain": [
       "'Sentinel/granules/ucayali/ucayali_sentinel_granules_2017.geojson'"
      ]
     },
     "execution_count": 37,
     "metadata": {},
     "output_type": "execute_result"
    }
   ],
   "source": [
    "csv_geojson = \"Sentinel/granules/ucayali/ucayali_sentinel_granules_2017.geojson\"\n",
    "csv_geojson"
   ]
  },
  {
   "cell_type": "markdown",
   "metadata": {},
   "source": [
    "### Submit HyP3 RTC jobs: `s1_submit_hyp3_jobs.py` ###\n",
    "\n",
    "For the initial processing of the Sentinel-1 granules, we make use of ASF's HyP3 API. Information about the specifics of this processing can be found in the [HyP3 documentation](https://hyp3-docs.asf.alaska.edu/). `s1_submit_hyp3_jobs.py` will submit the granules chosen in the previous step to the HyP3 API for processing. The processed granules will be saved in the following directory structure, as .zip files:\n",
    "```\n",
    "        proj_dir\n",
    "           └──sentinel_1\n",
    "               └──<year>\n",
    "                   └──<path_frame>\n",
    "```\n",
    "\n",
    "#### Usage ####\n",
    "\n",
    "```\n",
    "(vegmapper) % python s1_submit_hyp3_jobs.py [-h] proj_dir csv/geojson\n",
    "```\n",
    "\n",
    "|Arguments||Description||Required||Default|\n",
    "|----||----||----||----|\n",
    "|`proj_dir`||Your project directory (see [section 3](#3.-Set-up-project-directory)).||Yes||None|\n",
    "|`csv/geojson`||CSV/geoJSON file that contains a list of granules to be submitted for processing. This was downloaded in the previous step.||Yes||None|\n",
    "\n",
    "#### Notes ####\n",
    "\n",
    "* Since ASF HyP3 stores the processed granules in their AWS S3 buckets, the data transfer will be much faster if you use an AWS S3 bucket for `proj_dir`.\n",
    "* This script will require your Earthdata credentials, which can be obtained in [section 1](#1.-Get-credentials).\n",
    "\n",
    "\n",
    "    \n"
   ]
  },
  {
   "cell_type": "markdown",
   "metadata": {},
   "source": [
    "Submit HyP3 RTC jobs for the granules we selected, and upload the results to `proj_dir`:"
   ]
  },
  {
   "cell_type": "code",
   "execution_count": null,
   "metadata": {},
   "outputs": [],
   "source": [
    "python Sentinel/s1_submit_hyp3_jobs.py {proj_dir} {csv_geojson}"
   ]
  },
  {
   "cell_type": "code",
   "execution_count": 35,
   "metadata": {},
   "outputs": [],
   "source": [
    "# show results\n",
    "# aws s3 ls..."
   ]
  },
  {
   "cell_type": "markdown",
   "metadata": {},
   "source": [
    "### Sentinel-1 Processing: `s1_proc.py` ###\n",
    "\n",
    "The final processing step involves calculating the temporal mean for the Sentinel-1 granules and removing left/right (cross-track) edge pixels where border noise is prominent. `s1_proc.py` handles this final processing step. Two helper scripts in the Sentinel directory are used: `s1_build_vrt.py` and `calc_vrt_stats.py` for the calculating the temporal mean, and `remove_edges.py` for removing edge pixels. The results will be stored in the following directory structure, as .tif and .vrt files:\n",
    "```\n",
    "        proj_dir\n",
    "           └──sentinel_1\n",
    "               └──<year>\n",
    "                   └──<path_frame>\n",
    "```\n",
    "\n",
    "#### Usage ####\n",
    "\n",
    "```\n",
    "(vegmapper) % python s1_proc.py [-h] [--pf path_frame] [--m1 m1] [--m2 m2] proj_dir year\n",
    "```\n",
    "\n",
    "|Arguments||Description||Required||Default|\n",
    "|----||----||----||----|\n",
    "|`path_frame`||If specified, only granules matching `path_frame` will be processed.||No||all path_frames under srcpath/year will be processed|\n",
    "|`m1`||If specified, only granules with acquisition month >= `m1` will be included in VRT||No||None|\n",
    "|`m2`||If specified, only granules with acquisition month <= `m2` will be included in VRT||No||None|\n",
    "|`proj_dir`||Your project directory (see [section 3](#3.-Set-up-project-directory)).||Yes||None|\n",
    "|`year`||year of Sentinel-1 dataset||Yes||None|\n",
    "\n",
    "#### Notes ####\n",
    "\n",
    "* The processing will be slow if `proj_dir` is on AWS S3 or GCS because it requires heavy network I/O between the cloud and your local machine. If `proj_dir` is on AWS S3, it is strongly recommended that you run the processing on AWS EC2."
   ]
  },
  {
   "cell_type": "code",
   "execution_count": 38,
   "metadata": {},
   "outputs": [
    {
     "data": {
      "text/plain": [
       "('', '', '', 'your/directory', 2017)"
      ]
     },
     "execution_count": 38,
     "metadata": {},
     "output_type": "execute_result"
    }
   ],
   "source": [
    "# Set arguments for s1_proc.py\n",
    "path_frame = \"\"\n",
    "m1 = \"\"\n",
    "m2 = \"\"\n",
    "year = 2017 # NOTE: this year will be used in later scripts and is expected to be consistent.\n",
    "\n",
    "path_frame, m1, m2, proj_dir, year"
   ]
  },
  {
   "cell_type": "code",
   "execution_count": 49,
   "metadata": {},
   "outputs": [],
   "source": [
    "# Format optional arguments\n",
    "path_frame = format_arg(path_frame, \"--pf\")\n",
    "m1 = format_arg(m1, \"--m1\")\n",
    "m2 = format_arg(m2, \"--m2\")"
   ]
  },
  {
   "cell_type": "markdown",
   "metadata": {},
   "source": [
    "Perform the final processing step for our Sentinel-1 granules by running the cell below:"
   ]
  },
  {
   "cell_type": "code",
   "execution_count": null,
   "metadata": {},
   "outputs": [],
   "source": [
    "python Sentinel/s1_proc.py {path_frame} {m1} {m2} {proj_dir} {year}"
   ]
  },
  {
   "cell_type": "code",
   "execution_count": 43,
   "metadata": {},
   "outputs": [],
   "source": [
    "# if we run into errors w/ subprocess call: use setup.py and call via python s1_proc.py"
   ]
  },
  {
   "cell_type": "code",
   "execution_count": 39,
   "metadata": {},
   "outputs": [],
   "source": [
    "# show results"
   ]
  },
  {
   "cell_type": "markdown",
   "metadata": {},
   "source": [
    "## 6. Prepare ALOS-2 tiles ##\n",
    "\n",
    "The next step of the data stack is ALOS-2 tiles. This involves downloading the ALOS-2 mosaic and processing them using an Enhanced Lee filter."
   ]
  },
  {
   "cell_type": "markdown",
   "metadata": {},
   "source": [
    "### Download ALOS/ALOS-2 Mosaic: `alos2_download_mosaic.py` ###\n",
    "\n",
    "First, the ALOS-2 mosaic must be downloaded from the JAXA servers. This is accomplished via `alos2_download_mosaic.py`. The results will be stored in the following directory structure, as .tar.gz files:\n",
    "\n",
    "```\n",
    "        proj_dir\n",
    "           └──alos2_mosaic\n",
    "               └──<year>\n",
    "                   └──tarfiles\n",
    "```\n",
    "\n",
    "#### Usage ####\n",
    "```\n",
    "(vegmapper) % alos2_download_mosaic.py [-h] proj_dir aoi year\n",
    "```\n",
    "\n",
    "|Arguments||Description||Required||Default|\n",
    "|----||----||----||----|\n",
    "|`proj_dir`||Your project directory (see [section 3](#3.-Set-up-project-directory)).||Yes||None|\n",
    "|`aoi`||The geoJSON file containing the tiles generated for your area of interest (see [section 4](#4.-Prepare-UTM-tiles-for-Area-of-Interest-(AOI):-prep_tiles.py)).||Yes||None|\n",
    "|`year`||The year you wish to download the mosaic for (currently available for 2007-2010 and 2015-2019. This should be the same as the year used in the [sentinel-1 processing step](#Sentinel-1-Processing:-s1_proc.py).||Yes||None|\n",
    "\n",
    "#### Notes ####\n",
    "\n",
    "* Downloading ALOS/ALOS-2 Mosaic data requires a JAXA account, which can be obtained in [section 1](#1.-Get-credentials)."
   ]
  },
  {
   "cell_type": "markdown",
   "metadata": {},
   "source": [
    "Download the ALOS/ALOS-2 mosaic for your given AOI and year and upload the results to `proj_dir`:"
   ]
  },
  {
   "cell_type": "code",
   "execution_count": 51,
   "metadata": {},
   "outputs": [
    {
     "data": {
      "text/plain": [
       "('your/directory', 'AOI/ucayali/ucayali_tiles.geojson', 2017)"
      ]
     },
     "execution_count": 51,
     "metadata": {},
     "output_type": "execute_result"
    }
   ],
   "source": [
    "# Show arguments (should have been set previously)\n",
    "proj_dir, aoi, year"
   ]
  },
  {
   "cell_type": "code",
   "execution_count": null,
   "metadata": {},
   "outputs": [],
   "source": [
    "python ALOS-2/alos2_download_mosaic.py {proj_dir} {aoi} {year}"
   ]
  },
  {
   "cell_type": "code",
   "execution_count": 52,
   "metadata": {},
   "outputs": [],
   "source": [
    "# show results"
   ]
  },
  {
   "cell_type": "markdown",
   "metadata": {},
   "source": [
    "### ALOS-2 Processing: `alos2_proc.py` ###\n",
    "Next, the ALOS-2 mosaic is processed using an Enhanced Lee filter via `alos2_proc.py`. This will produce three .tif images for each tile: HV, HH, and INC, referring to the different polarizations of the ALOS-2 sensing instrument. Results will be stored in the following directory structure, as .tif files:\n",
    "```\n",
    "        proj_dir\n",
    "           └──alos2_mosaic\n",
    "               └──<year>\n",
    "                   └──<tile name>\n",
    "```\n",
    "\n",
    "#### Usage ####\n",
    "\n",
    "```\n",
    "(vegmapper) % alos2_proc.py [-h] proj_dir aoi year\n",
    "```\n",
    "\n",
    "|Arguments||Description||Required||Default|\n",
    "|----||----||----||----|\n",
    "|`proj_dir`||Your project directory (see [section 3](#3.-Set-up-project-directory)).||Yes||None|\n",
    "|`aoi`||The geoJSON file containing the tiles generated for your area of interest (see [section 4](#4.-Prepare-UTM-tiles-for-Area-of-Interest-(AOI):-prep_tiles.py)).||Yes||None|\n",
    "|`year`||The year you wish to download the mosaic for (currently available for 2007-2010 and 2015-2019. This should be the same as the year used in the [sentinel-1 processing step](#Sentinel-1-Processing:-s1_proc.py).||Yes||None|"
   ]
  },
  {
   "cell_type": "markdown",
   "metadata": {},
   "source": [
    "Process the ALOS-2 mosaic (all argumets should be the same as those used in the previous step):"
   ]
  },
  {
   "cell_type": "code",
   "execution_count": null,
   "metadata": {},
   "outputs": [],
   "source": [
    "python ALOS-2/alos2_proc.py {proj_dir} {aoi} {year}"
   ]
  },
  {
   "cell_type": "code",
   "execution_count": 53,
   "metadata": {},
   "outputs": [],
   "source": [
    "# show results"
   ]
  },
  {
   "cell_type": "markdown",
   "metadata": {},
   "source": [
    "## 7) Prepare Landsat Tiles ##\n",
    "\n",
    "The next step is Landsat Tiles. This involves downloading the Landsat data and processing them, by masking clouds and extracting the median, to compute the NDVI (Normalized Difference Vegetation Index). The results will be exported to your Google Drive. "
   ]
  },
  {
   "cell_type": "markdown",
   "metadata": {},
   "source": [
    "### Export Landsat NDVI ###\n",
    "Submit GEE Processing for Landsat NDVI.\n",
    "\n",
    "### gee_export_landsat_ndvi.py ###\n",
    "This script takes four arguments: `sitename`, `tiles`, `res`, and `year`. The `sitename` specified will be used to provide a description when exporting the landsat ndvi. `tiles` refers to a shp/geojson file that contains the tiles onto which the landsat ndvi will be resampled, using bilinear interpolation. `res` and `year` refer to the resolution desired when resampling and year you wish to download the landsat ndvi data for, respectively.\n",
    "\n",
    "|Arguments||Description||Required||Default|\n",
    "|----||----||----||----|\n",
    "|sitename||name of site. used to provide a description when exporting the landsat ndvi||Yes||None|\n",
    "|tiles||shp/geojson file that contains the tiles onto which the landsat ndvi will be resampled, using bilinear interpolation||Yes||None|\n",
    "|res||resolution||Yes||None|\n",
    "|year||year of Landsat ndvi dataset||Yes||None|\n",
    "\n",
    "#### Usage ####\n",
    "\n",
    "```\n",
    "(vegmapper) % gee_export_landsat_ndvi.py [-h] sitename tiles res year\n",
    "```"
   ]
  },
  {
   "cell_type": "code",
   "execution_count": null,
   "metadata": {},
   "outputs": [],
   "source": [
    "# sample run here"
   ]
  },
  {
   "cell_type": "markdown",
   "metadata": {},
   "source": [
    "## 8) Prepare MODIS Tree Cover Tiles ##\n",
    "The next step is MODIS Tree Cover Tiles. This involves downloading and processing the MODIS data and extracting the Percent Tree Cover. The results will be exported to your Google Drive."
   ]
  },
  {
   "cell_type": "markdown",
   "metadata": {},
   "source": [
    "\n",
    "### Export MODIS TC ###\n",
    "Submit GEE processing for MODIS tree cover. \n",
    "\n",
    "### gee_export_modis_tc.py ###\n",
    "This script takes four arguments: `sitename`, `tiles`, `res`, and `year`. The `sitename` specified will be used to provide a description when exporting the MODIS Tree Cover. `tiles` refers to a shp/geojson file that contains the tiles onto which the MODIS data will be resampled. `res` and `year` refer to the resolution desired when resampling and year you wish to download the MODIS data for, respectively.\n",
    "\n",
    "|Arguments||Description||Required||Default|\n",
    "|----||----||----||----|\n",
    "|sitename||name of site. used to provide a description when exporting the MODIS Tree Cover||Yes||None|\n",
    "|tiles||shp/geojson file that contains the tiles onto which the MODIS data will be resampled||Yes||None|\n",
    "|res||resolution||Yes||None|\n",
    "|year||year of MODIS dataset||Yes||None|\n",
    "\n",
    "\n",
    "#### Usage ####\n",
    "\n",
    "```\n",
    "(vegmapper) % gee_export_modis_tc.py [-h] sitename tiles res year\n",
    "```"
   ]
  },
  {
   "cell_type": "code",
   "execution_count": null,
   "metadata": {},
   "outputs": [],
   "source": [
    "# sample run here"
   ]
  },
  {
   "cell_type": "markdown",
   "metadata": {},
   "source": [
    "## 9) Build Stacks ##\n",
    "The final step in the workflow is stacking all of the data into 8-band geotiffs using `build_stacks.py`. The bands are as follows, in order: C-VV / C-VH / C-INC / L-HH / L-HV / L-INC / NDVI / TC, where C-bands come from the Sentinel-1 dataset, and L-bands come from the ALOS-2 dataset."
   ]
  },
  {
   "cell_type": "markdown",
   "metadata": {},
   "source": [
    "### build_stacks.py ###\n",
    "This script takes four arguments: `sitename` (optional), `proj_dir`, `tiles`, and `year`. `sitename` refers to the name of the region (e.g. \"ucayali\") and is used in naming the final geotiffs. If not provided, the base directory of `proj_dir` will be used instead. `proj_dir` refers to the project directory (see [section 3](#3.-Set-up-project-directory). `tiles` should point to the shapefile or geojson containing the tiles generated for your area of interest (see [section 4](#4.-Prepare-UTM-tiles-for-Area-of-Interest-(AOI):-prep_tiles.py)). `year` is the year to build stacks for (should be the same as the year you downloaded data for). Completed stacks can be found in the following directory structure, as .tif files:\n",
    "```\n",
    "        proj_dir\n",
    "           └──stacks\n",
    "               └──<year>\n",
    "                   └──all-bands\n",
    "```\n",
    "#### Usage ####\n",
    "\n",
    "```\n",
    "(vemapper) % build_stacks.py [-h] [--sitename sitename] proj_dir tiles year\n",
    "```"
   ]
  },
  {
   "cell_type": "code",
   "execution_count": null,
   "metadata": {},
   "outputs": [],
   "source": [
    "# sample run here"
   ]
  },
  {
   "cell_type": "markdown",
   "metadata": {},
   "source": [
    "TODO:\n",
    "* Add images\n",
    "* Make images dynamic using matplotlib or geopandas so user sees results as they are generated\n",
    "* Add sample runs for each script\n",
    "* Add variables so user can input their bucket name, proj_dir, year, etc. once instead of retyping all scripts\n",
    "* Add vrt command at end of notebook\n",
    "\n",
    "NOTES:\n",
    "* Some argument names are inconsistent: tiles in build_stacks.py vs aoi in alos2_proc.py\n",
    "* Should double check and make sure all script usage statements are accurate and haven't changed since notebook last update"
   ]
  },
  {
   "cell_type": "markdown",
   "metadata": {},
   "source": [
    "## Notebook Utilities ##"
   ]
  },
  {
   "cell_type": "code",
   "execution_count": 3,
   "metadata": {},
   "outputs": [],
   "source": [
    "# Utility function for plotting results\n",
    "\n",
    "import geopandas as gp\n",
    "# import contextily as cx\n",
    "\n",
    "def plot(shape_file, fill_outline, fig_size):\n",
    "    df = gp.read_file(shape_file[0])\n",
    "    df = df.to_crs(epsg=3857)\n",
    "    ax = None\n",
    "    for i in range(0, len(shape_file)):\n",
    "            df = gp.read_file(shape_file[i])\n",
    "            df = df.to_crs(epsg=3857)\n",
    "            if(fill_outline[i]):\n",
    "                ax = df.plot(ax=ax, figsize=fig_size)\n",
    "            else:\n",
    "                ax = df.exterior.plot(ax=ax, figsize=fig_size)\n",
    "#     cx.add_basemap(ax, url='http://a.tile.openstreetmap.org/tileZ/tileX/tileY.png')"
   ]
  },
  {
   "cell_type": "code",
   "execution_count": 4,
   "metadata": {},
   "outputs": [],
   "source": [
    "# Utility function for formatting optional arguments\n",
    "\n",
    "def format_arg(arg, flag):\n",
    "    if len(arg) > 0:\n",
    "        return f\"{flag} {arg}\"\n",
    "    else:\n",
    "        return \"\""
   ]
  },
  {
   "cell_type": "code",
   "execution_count": 5,
   "metadata": {},
   "outputs": [
    {
     "name": "stdout",
     "output_type": "stream",
     "text": [
      "\n",
      "Automagic is ON, % prefix IS NOT needed for line magics.\n"
     ]
    }
   ],
   "source": [
    "%automagic on"
   ]
  },
  {
   "cell_type": "code",
   "execution_count": 6,
   "metadata": {},
   "outputs": [
    {
     "name": "stdout",
     "output_type": "stream",
     "text": [
      "Created `%python` as an alias for `%run`.\n"
     ]
    }
   ],
   "source": [
    "alias_magic python run"
   ]
  }
 ],
 "metadata": {
  "kernelspec": {
   "display_name": "Python 3 (ipykernel)",
   "language": "python",
   "name": "python3"
  },
  "language_info": {
   "codemirror_mode": {
    "name": "ipython",
    "version": 3
   },
   "file_extension": ".py",
   "mimetype": "text/x-python",
   "name": "python",
   "nbconvert_exporter": "python",
   "pygments_lexer": "ipython3",
   "version": "3.9.10"
  }
 },
 "nbformat": 4,
 "nbformat_minor": 4
}
